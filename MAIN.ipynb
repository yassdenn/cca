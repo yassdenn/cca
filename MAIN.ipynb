{
 "cells": [
  {
   "cell_type": "markdown",
   "metadata": {},
   "source": [
    "# Credit Card Approval mit Machine Learning\n",
    "WWI20DSA; Semester-4;  <br>\n",
    "Chengyi Hua (8883221); Yassir Knierim (7362794); Jan Rüdt (1737304)\n",
    "\n",
    "## Projektbeschreibung\n",
    "Das Kredit-Scoring ist eine weit verbreitete Methode des Risikomanagements im Finanzsektor. Es verwendet persönliche Informationen und Daten, die von Kreditkartenantragstellern bereitgestellt werden, um zukünftige Insolvenzen und Kreditkartendarlehen abzuschätzen. Die Bank ist befugt zu entscheiden, ob sie dem Antragsteller eine Kreditkarte zur Verfügung stellt oder nicht. Kredit-Scores können das Risikoniveau objektiv einschätzen. Ein maschinelles Lernmodell ist erforderlich, um vorherzusagen, ob eine Anwendung in diesem Datensatz ein „guter“ oder „schlechter“ Benutzer ist. Durch unsere Zielvariable oder Definition soll sie vorhersagen, ob der Benutzer als Risikobenutzer eingestuft wird oder nicht.\n",
    "<br>\n",
    "<br>\n",
    "\n",
    "## Ziel:\n",
    "![](confusionM.png) <br>\n",
    "In diesem Projekt werden risikobehaftete Kunden als 1 und risikofreie als 0 definiert. Dabei wird es wichtig sein, den Fehler Typ II soweit wie möglich zu vermeiden. In diesem Fall bedeutet Fehler Type II, dass Kunden eine credit card approval bekommen würden, obwohl sie als risikobehaftet erkannt werden sollte.\n",
    "<br><br>\n",
    "\n",
    "theorie: Confusions Matrix und Fehler Type I und II <br>\n",
    " \n",
    "Hürden: <br>\n",
    "-  Das Problem der unausgeglichenen Daten ist ein wesentliches Problem in diesem Projekt.<br>\n",
    "Mögliche Lösung: Verwenden Sie das Paket PyCaret, um den unausgeglichenen Datensatz zu reparieren\n",
    "-  Experimente mit verschiedene Modelle. Schnelleres Vorgehen mit __PyCaret__ möglich\n",
    "-  Down- oder Oversampling"
   ]
  },
  {
   "cell_type": "markdown",
   "metadata": {},
   "source": [
    "### Definition der Parameter\n",
    "| Attribut Bezeichnung | Beschreibung | Kommentar |\n",
    "| ------------ | ----------- | ------- |\n",
    "|applicant_ID| Kundennummer |Für das Modell nicht relevant |\t\n",
    "|gender|\tGeschlecht|Kategorial\t|\n",
    "|owning_car|\tAutobesitz\t|Kategorial |\n",
    "|owning_property|\tImmobilienbesitz\t|Kategorial |\n",
    "|children_amt|\tAnzahl von Kindern|Kategorisch |\t\n",
    "|anual_income|\tJährliches Einkommen|Numerisch |\t\n",
    "|education_level|\tBildungsniveau\t|Kategorial |\n",
    "|marital_status|\tFamilienstand\t|Kategorial |\n",
    "|housing_type|\tWohnsituation\t|Kategorial |\n",
    "|age|Alter |Numerisch |\n",
    "|working_years|\tArbeitsdauer in Jahren|Numerisch |\t\n",
    "|owning_phone|\tHandybesitz\t|Kategorial |\n",
    "|owning_work_phone|\tArbeitshandybesitz\t|Kategorial |\n",
    "|owning_email|\tEmailbesitz\t|Kategorial |\n",
    "|job|Arbeitstitel|Kategorial |\n",
    "|payment_status|\tStatus|1: 1–29 Tage überfällig<br> 2: 30–59 Tage überfällig<br> 3: 60–89 Tage überfällig<br> 4: 90–119 Tage überfällig<br> 5: 120–149 Tage überfällig<br> 6: Überfällig oder uneinbringlich, Abschreibungen für mehr als 150 Tage<br> -1: in diesem Monat abbezahlt<br> 0: kein Darlehen für den Monat. Kategorial|\n",
    "|risk_user|\tZiel|\tRisikonutzer sind mit „1“ gekennzeichnet, ansonsten mit „0“. Kategorial|\n",
    "\n",
    "Tabelle (1)<br>\n",
    "@Dennis Knierim"
   ]
  },
  {
   "cell_type": "code",
   "execution_count": 2,
   "metadata": {},
   "outputs": [],
   "source": [
    "categorical_features = ['gender','owning_car','children_amt', 'owning_property', 'education_level','marital_status', 'housing_type', 'job']"
   ]
  },
  {
   "cell_type": "markdown",
   "metadata": {},
   "source": [
    "## Loading dependencies"
   ]
  },
  {
   "cell_type": "code",
   "execution_count": 1,
   "metadata": {},
   "outputs": [],
   "source": [
    "from operator import imod\n",
    "import pandas as pd\n",
    "import plotly.express as px\n",
    "import plotly.graph_objects as go\n",
    "import seaborn as sns\n",
    "import numpy as np\n",
    "import matplotlib.pyplot as plt\n",
    "import missingno as mso\n",
    "import warnings\n",
    "import pycaret\n",
    "import math\n",
    "from collections import Counter\n",
    "from numpy.random import default_rng\n",
    "from imblearn.under_sampling import *\n",
    "import imblearn\n",
    "from sklearn.model_selection import KFold\n",
    "from pycaret.classification import *\n",
    "#import featurewiz as FW\n",
    "#from lazytransform import LazyTransformer\n",
    "import sklearn\n",
    "#from featurewiz import SuloClassifier, print_sulo_accuracy\n",
    "\n",
    "# --- Libraries Settings ---\n",
    "#warnings.filterwarnings('ignore')\n",
    "#plt.rcParams['figure.dpi'] = 100"
   ]
  },
  {
   "cell_type": "markdown",
   "metadata": {},
   "source": [
    "## Datenanpassung\n",
    "\n",
    "Thoerie: Warum "
   ]
  },
  {
   "cell_type": "code",
   "execution_count": 3,
   "metadata": {},
   "outputs": [],
   "source": [
    "cca =  pd.read_csv('credit_card_approval.csv')\n",
    "# rough years of employment\n",
    "cca.DAYS_EMPLOYED = abs(cca.DAYS_EMPLOYED) // 365\n",
    "# finding out each customers age\n",
    "cca.DAYS_BIRTH =  abs(cca.DAYS_BIRTH) // 365  \n",
    "cca.AMT_INCOME_TOTAL = pd.to_numeric(cca.AMT_INCOME_TOTAL)\n",
    "# dropping unneccessary attributes\n",
    "cca = cca.drop(\"FLAG_MOBIL\", axis=1)\n",
    "\n",
    "\n",
    "\n",
    "cca.rename(columns = {'CODE_GENDER':'gender', \n",
    "                      'DAYS_BIRTH': 'age',\n",
    "                      'DAYS_EMPLOYED': 'working_years',\n",
    "                      'FLAG_OWN_CAR':'owning_car',\n",
    "                      'FLAG_OWN_REALTY': 'owning_property',\n",
    "                      'CNT_CHILDREN': 'children_amt',\n",
    "                      'AMT_INCOME_TOTAL': 'anual_income',\n",
    "                      'NAME_EDUCATION_TYPE': 'education_level',\n",
    "                      'NAME_FAMILY_STATUS': 'marital_status',\n",
    "                      'NAME_HOUSING_TYPE': 'housing_type',\n",
    "                      'FLAG_WORK_PHONE': 'owning_work_phone',\n",
    "                      'FLAG_EMAIL': 'owning_email',\n",
    "                      'FLAG_PHONE': 'owning_phone',\n",
    "                      'STATUS': 'payment_status',\n",
    "                      'TARGET': 'risk_user',\n",
    "                      'JOB': 'job',\n",
    "                      'ID': 'applicant_ID'\n",
    "                      }, inplace = True)\n",
    "\n",
    "\n",
    "cca[\"owning_car\"].replace({'Y' : '1', 'N': '0'}, inplace= True)\n",
    "cca[\"owning_property\"].replace({'Y' : '1', 'N': '0'}, inplace= True)\n",
    "cca[\"risk_user\"].replace({'1' : 'Y', '0': 'N'}, inplace= True)\n",
    "cca[\"payment_status\"].replace({'0' : '1', \n",
    "                               '1': '2', \n",
    "                               '2': '3', \n",
    "                               '3': '4', \n",
    "                               '4': '5', \n",
    "                               '5': '6', \n",
    "                               'C': '-1', \n",
    "                               'X': '0'}, inplace= True)\n",
    "cca.payment_status = [int(i) for i in cca.payment_status ]\n",
    "cca = cca.sort_values('applicant_ID')\n",
    "\n"
   ]
  },
  {
   "cell_type": "code",
   "execution_count": 4,
   "metadata": {},
   "outputs": [
    {
     "data": {
      "text/plain": [
       "applicant_ID           int64\n",
       "gender                object\n",
       "owning_car            object\n",
       "owning_property       object\n",
       "children_amt          object\n",
       "anual_income         float64\n",
       "education_level       object\n",
       "marital_status        object\n",
       "housing_type          object\n",
       "age                    int64\n",
       "working_years          int64\n",
       "owning_work_phone      int64\n",
       "owning_phone           int64\n",
       "owning_email           int64\n",
       "job                   object\n",
       "BEGIN_MONTHS           int64\n",
       "payment_status         int64\n",
       "risk_user              int64\n",
       "dtype: object"
      ]
     },
     "execution_count": 4,
     "metadata": {},
     "output_type": "execute_result"
    }
   ],
   "source": [
    "cca.dtypes"
   ]
  },
  {
   "cell_type": "code",
   "execution_count": 5,
   "metadata": {},
   "outputs": [
    {
     "data": {
      "text/plain": [
       "14"
      ]
     },
     "execution_count": 5,
     "metadata": {},
     "output_type": "execute_result"
    }
   ],
   "source": [
    "def get_count_of(applicant_frame,column,credit_type):\n",
    "    df = applicant_frame\n",
    "    values = df[column].value_counts()\n",
    "    try:\n",
    "        return values[values.index==credit_type][0]\n",
    "    except:\n",
    "        return 0\n",
    "\n",
    "cca_credit_analysis = cca.copy()\n",
    "cca_credit_analysis['payment_status'].replace({0:'no_credit',\n",
    "        -1:'good',\n",
    "        1:'good',\n",
    "        2:'bad',\n",
    "        3:'bad',\n",
    "        4:'bad',\n",
    "        5:'bad',\n",
    "        6:'bad'}, inplace=True)\n",
    "#test\n",
    "get_count_of(cca_credit_analysis[cca_credit_analysis.applicant_ID==5008806],'payment_status','good')"
   ]
  },
  {
   "cell_type": "code",
   "execution_count": 6,
   "metadata": {},
   "outputs": [],
   "source": [
    "good_mapping = {i:get_count_of(cca_credit_analysis[cca_credit_analysis.applicant_ID==i],'payment_status','good') for i in list(cca.applicant_ID.unique())}\n",
    "bad_mapping = {i:get_count_of(cca_credit_analysis[cca_credit_analysis.applicant_ID==i],'payment_status','bad') for i in list(cca.applicant_ID.unique())}\n",
    "no_mapping = {i:get_count_of(cca_credit_analysis[cca_credit_analysis.applicant_ID==i],'payment_status','no_credit') for i in list(cca.applicant_ID.unique())}"
   ]
  },
  {
   "cell_type": "code",
   "execution_count": 7,
   "metadata": {},
   "outputs": [
    {
     "data": {
      "text/plain": [
       "{5008806: 14,\n",
       " 5008808: 2,\n",
       " 5008809: 0,\n",
       " 5008810: 21,\n",
       " 5008811: 33,\n",
       " 5008815: 6,\n",
       " 5008819: 0,\n",
       " 5008820: 1,\n",
       " 5008821: 6,\n",
       " 5008822: 1,\n",
       " 5008823: 4,\n",
       " 5008824: 4,\n",
       " 5008825: 25,\n",
       " 5008826: 23,\n",
       " 5008830: 29,\n",
       " 5008831: 17,\n",
       " 5008832: 32,\n",
       " 5008836: 17,\n",
       " 5008837: 17,\n",
       " 5008838: 29,\n",
       " 5008839: 14,\n",
       " 5008840: 56,\n",
       " 5008841: 4,\n",
       " 5008842: 9,\n",
       " 5008843: 30,\n",
       " 5008844: 33,\n",
       " 5008846: 12,\n",
       " 5008847: 33,\n",
       " 5008849: 11,\n",
       " 5008850: 26,\n",
       " 5008851: 12,\n",
       " 5008852: 1,\n",
       " 5008853: 16,\n",
       " 5008854: 2,\n",
       " 5008855: 28,\n",
       " 5008856: 4,\n",
       " 5008857: 0,\n",
       " 5008858: 11,\n",
       " 5008859: 5,\n",
       " 5008860: 3,\n",
       " 5008861: 3,\n",
       " 5008862: 2,\n",
       " 5008863: 2,\n",
       " 5008864: 2,\n",
       " 5008865: 2,\n",
       " 5008866: 2,\n",
       " 5008867: 2,\n",
       " 5008868: 25,\n",
       " 5008870: 12,\n",
       " 5008872: 8,\n",
       " 5008873: 22,\n",
       " 5008874: 46,\n",
       " 5008875: 40,\n",
       " 5008876: 44,\n",
       " 5008877: 8,\n",
       " 5008878: 9,\n",
       " 5008879: 22,\n",
       " 5008880: 11,\n",
       " 5008881: 20,\n",
       " 5008882: 40,\n",
       " 5008888: 4,\n",
       " 5008889: 3,\n",
       " 5008890: 4,\n",
       " 5008891: 8,\n",
       " 5008892: 16,\n",
       " 5008893: 37,\n",
       " 5008894: 37,\n",
       " 5008895: 35,\n",
       " 5008896: 16,\n",
       " 5008897: 16,\n",
       " 5008898: 21,\n",
       " 5008899: 16,\n",
       " 5008900: 21,\n",
       " 5008901: 16,\n",
       " 5008902: 19,\n",
       " 5008903: 16,\n",
       " 5008904: 19,\n",
       " 5008905: 16,\n",
       " 5008906: 19,\n",
       " 5008907: 16,\n",
       " 5008908: 19,\n",
       " 5008909: 16,\n",
       " 5008910: 19,\n",
       " 5008911: 16,\n",
       " 5008912: 19,\n",
       " 5008913: 16,\n",
       " 5008914: 17,\n",
       " 5008915: 16,\n",
       " 5008916: 16,\n",
       " 5008917: 16,\n",
       " 5008918: 15,\n",
       " 5008919: 16,\n",
       " 5008920: 14,\n",
       " 5008921: 14,\n",
       " 5008922: 12,\n",
       " 5008923: 13,\n",
       " 5008924: 12,\n",
       " 5008925: 13,\n",
       " 5008926: 10,\n",
       " 5008927: 10,\n",
       " 5008928: 8,\n",
       " 5008929: 8,\n",
       " 5008930: 6,\n",
       " 5008931: 6,\n",
       " 5008932: 5,\n",
       " 5008933: 6,\n",
       " 5008934: 5,\n",
       " 5008935: 5,\n",
       " 5008936: 4,\n",
       " 5008937: 2,\n",
       " 5008938: 2,\n",
       " 5008939: 1,\n",
       " 5008940: 2,\n",
       " 5008941: 8,\n",
       " 5008942: 12,\n",
       " 5008943: 0,\n",
       " 5008944: 12,\n",
       " 5008945: 12,\n",
       " 5008946: 12,\n",
       " 5008947: 0,\n",
       " 5008948: 0,\n",
       " 5008949: 0,\n",
       " 5008950: 0,\n",
       " 5008955: 5,\n",
       " 5008956: 40,\n",
       " 5008957: 40,\n",
       " 5008958: 4,\n",
       " 5008959: 16,\n",
       " 5008960: 29,\n",
       " 5008962: 26,\n",
       " 5008963: 38,\n",
       " 5008981: 0,\n",
       " 5008983: 0,\n",
       " 5008984: 3,\n",
       " 5008986: 0,\n",
       " 5008987: 11,\n",
       " 5008988: 0,\n",
       " 5008991: 26,\n",
       " 5008992: 6,\n",
       " 5008993: 18,\n",
       " 5008994: 17,\n",
       " 5008995: 18,\n",
       " 5008998: 0,\n",
       " 5008999: 0,\n",
       " 5009000: 23,\n",
       " 5009001: 6,\n",
       " 5009002: 6,\n",
       " 5009005: 6,\n",
       " 5009006: 7,\n",
       " 5009007: 7,\n",
       " 5009008: 6,\n",
       " 5009009: 7,\n",
       " 5009010: 6,\n",
       " 5009012: 3,\n",
       " 5009014: 6,\n",
       " 5009027: 15,\n",
       " 5009028: 9,\n",
       " 5009029: 15,\n",
       " 5009031: 4,\n",
       " 5009032: 4,\n",
       " 5009039: 7,\n",
       " 5009040: 2,\n",
       " 5009042: 8,\n",
       " 5009043: 15,\n",
       " 5009044: 13,\n",
       " 5009045: 13,\n",
       " 5009046: 4,\n",
       " 5009047: 11,\n",
       " 5009050: 14,\n",
       " 5009051: 42,\n",
       " 5009052: 48,\n",
       " 5009053: 14,\n",
       " 5009055: 1,\n",
       " 5009056: 10,\n",
       " 5009057: 10,\n",
       " 5009058: 0,\n",
       " 5009062: 19,\n",
       " 5009063: 9,\n",
       " 5009064: 0,\n",
       " 5009065: 0,\n",
       " 5009066: 14,\n",
       " 5009067: 4,\n",
       " 5009068: 4,\n",
       " 5009069: 34,\n",
       " 5009070: 19,\n",
       " 5009071: 16,\n",
       " 5009072: 19,\n",
       " 5009074: 23,\n",
       " 5009075: 23,\n",
       " 5009078: 31,\n",
       " 5009079: 44,\n",
       " 5009080: 12,\n",
       " 5009081: 11,\n",
       " 5009083: 39,\n",
       " 5009084: 3,\n",
       " 5009088: 32,\n",
       " 5009089: 32,\n",
       " 5009090: 14,\n",
       " 5009092: 2,\n",
       " 5009094: 4,\n",
       " 5009095: 4,\n",
       " 5009096: 24,\n",
       " 5009097: 14,\n",
       " 5009098: 17,\n",
       " 5009099: 10,\n",
       " 5009100: 10,\n",
       " 5009103: 37,\n",
       " 5009104: 0,\n",
       " 5009105: 0,\n",
       " 5009106: 0,\n",
       " 5009108: 8,\n",
       " 5009109: 21,\n",
       " 5009110: 3,\n",
       " 5009141: 34,\n",
       " 5009142: 12,\n",
       " 5009145: 36,\n",
       " 5009146: 25,\n",
       " 5009147: 13,\n",
       " 5009149: 8,\n",
       " 5009150: 17,\n",
       " 5009151: 29,\n",
       " 5009152: 47,\n",
       " 5009153: 47,\n",
       " 5009154: 28,\n",
       " 5009155: 27,\n",
       " 5009156: 17,\n",
       " 5009157: 47,\n",
       " 5009158: 43,\n",
       " 5009159: 14,\n",
       " 5009160: 21,\n",
       " 5009161: 22,\n",
       " 5009162: 47,\n",
       " 5009163: 13,\n",
       " 5009164: 17,\n",
       " 5009165: 17,\n",
       " 5009166: 17,\n",
       " 5009168: 17,\n",
       " 5009177: 46,\n",
       " 5009178: 31,\n",
       " 5009179: 13,\n",
       " 5009180: 35,\n",
       " 5009181: 9,\n",
       " 5009182: 35,\n",
       " 5009183: 31,\n",
       " 5009186: 3,\n",
       " 5009187: 6,\n",
       " 5009188: 17,\n",
       " 5009189: 16,\n",
       " 5009190: 23,\n",
       " 5009191: 17,\n",
       " 5009192: 34,\n",
       " 5009193: 29,\n",
       " 5009195: 6,\n",
       " 5009196: 7,\n",
       " 5009198: 46,\n",
       " 5009201: 1,\n",
       " 5009202: 7,\n",
       " 5009203: 0,\n",
       " 5009204: 3,\n",
       " 5009205: 0,\n",
       " 5009206: 17,\n",
       " 5009207: 21,\n",
       " 5009208: 24,\n",
       " 5009209: 45,\n",
       " 5009210: 3,\n",
       " 5009213: 0,\n",
       " 5009215: 57,\n",
       " 5009216: 6,\n",
       " 5009217: 6,\n",
       " 5009220: 28,\n",
       " 5009222: 45,\n",
       " 5009223: 41,\n",
       " 5009224: 49,\n",
       " 5009225: 0,\n",
       " 5009226: 48,\n",
       " 5009227: 21,\n",
       " 5009232: 36,\n",
       " 5009233: 45,\n",
       " 5009234: 0,\n",
       " 5009236: 30,\n",
       " 5009238: 20,\n",
       " 5009239: 14,\n",
       " 5009240: 34,\n",
       " 5009241: 10,\n",
       " 5009242: 34,\n",
       " 5009243: 7,\n",
       " 5009244: 7,\n",
       " 5009249: 27,\n",
       " 5009250: 10,\n",
       " 5009251: 27,\n",
       " 5009252: 13,\n",
       " 5009253: 23,\n",
       " 5009255: 7,\n",
       " 5009257: 7,\n",
       " 5009258: 6,\n",
       " 5009260: 20,\n",
       " 5009261: 21,\n",
       " 5009262: 9,\n",
       " 5009263: 16,\n",
       " 5009265: 36,\n",
       " 5009266: 16,\n",
       " 5009267: 18,\n",
       " 5009268: 27,\n",
       " 5009269: 35,\n",
       " 5009270: 27,\n",
       " 5009271: 17,\n",
       " 5009272: 17,\n",
       " 5009274: 24,\n",
       " 5009275: 1,\n",
       " 5009276: 14,\n",
       " 5009277: 18,\n",
       " 5009278: 5,\n",
       " 5009279: 24,\n",
       " 5009280: 39,\n",
       " 5009281: 17,\n",
       " 5009284: 58,\n",
       " 5009285: 16,\n",
       " 5009286: 30,\n",
       " 5009287: 24,\n",
       " 5009289: 8,\n",
       " 5009290: 5,\n",
       " 5009291: 8,\n",
       " 5009292: 19,\n",
       " 5009293: 40,\n",
       " 5009294: 26,\n",
       " 5009297: 15,\n",
       " 5009299: 31,\n",
       " 5009300: 8,\n",
       " 5009301: 9,\n",
       " 5009325: 7,\n",
       " 5009327: 7,\n",
       " 5009328: 10,\n",
       " 5009329: 7,\n",
       " 5009330: 14,\n",
       " 5009331: 7,\n",
       " 5009332: 14,\n",
       " 5009333: 0,\n",
       " 5009335: 5,\n",
       " 5009336: 10,\n",
       " 5009337: 10,\n",
       " 5009338: 13,\n",
       " 5009339: 9,\n",
       " 5009340: 35,\n",
       " 5009341: 35,\n",
       " 5009342: 25,\n",
       " 5009343: 29,\n",
       " 5009344: 16,\n",
       " 5009345: 24,\n",
       " 5009346: 9,\n",
       " 5009349: 11,\n",
       " 5009354: 1,\n",
       " 5009355: 25,\n",
       " 5009358: 0,\n",
       " 5009359: 10,\n",
       " 5009360: 5,\n",
       " 5009361: 21,\n",
       " 5009362: 17,\n",
       " 5009363: 16,\n",
       " 5009364: 5,\n",
       " 5009365: 19,\n",
       " 5009366: 58,\n",
       " 5009367: 44,\n",
       " 5009378: 40,\n",
       " 5009379: 4,\n",
       " 5009380: 4,\n",
       " 5009381: 9,\n",
       " 5009382: 9,\n",
       " 5009383: 30,\n",
       " 5009384: 33,\n",
       " 5009386: 0,\n",
       " 5009387: 6,\n",
       " 5009389: 16,\n",
       " 5009391: 32,\n",
       " 5009392: 19,\n",
       " 5009393: 31,\n",
       " 5009394: 11,\n",
       " 5009395: 5,\n",
       " 5009396: 56,\n",
       " 5009397: 59,\n",
       " 5009398: 34,\n",
       " 5009399: 59,\n",
       " 5009400: 51,\n",
       " 5009401: 57,\n",
       " 5009402: 6,\n",
       " 5009403: 43,\n",
       " 5009404: 8,\n",
       " 5009405: 0,\n",
       " 5009406: 0,\n",
       " 5009408: 12,\n",
       " 5009410: 0,\n",
       " 5009415: 5,\n",
       " 5009416: 1,\n",
       " 5009417: 4,\n",
       " 5009418: 5,\n",
       " 5009419: 4,\n",
       " 5009420: 14,\n",
       " 5009421: 1,\n",
       " 5009423: 8,\n",
       " 5009424: 26,\n",
       " 5009425: 19,\n",
       " 5009428: 15,\n",
       " 5009429: 3,\n",
       " 5009431: 14,\n",
       " 5009447: 5,\n",
       " 5009448: 5,\n",
       " 5009450: 23,\n",
       " 5009451: 23,\n",
       " 5009452: 23,\n",
       " 5009453: 15,\n",
       " 5009454: 44,\n",
       " 5009455: 20,\n",
       " 5009456: 57,\n",
       " 5009457: 22,\n",
       " 5009458: 0,\n",
       " 5009484: 18,\n",
       " 5009485: 5,\n",
       " 5009490: 36,\n",
       " 5009492: 40,\n",
       " 5009493: 47,\n",
       " 5009494: 9,\n",
       " 5009495: 30,\n",
       " 5009497: 13,\n",
       " 5009498: 15,\n",
       " 5009499: 16,\n",
       " 5009500: 41,\n",
       " 5009501: 9,\n",
       " 5009502: 13,\n",
       " 5009503: 26,\n",
       " 5009507: 10,\n",
       " 5009508: 11,\n",
       " 5009509: 32,\n",
       " 5009510: 12,\n",
       " 5009512: 23,\n",
       " 5009513: 3,\n",
       " 5009515: 15,\n",
       " 5009516: 1,\n",
       " 5009517: 21,\n",
       " 5009518: 4,\n",
       " 5009519: 29,\n",
       " 5009521: 4,\n",
       " 5009523: 11,\n",
       " 5009524: 5,\n",
       " 5009525: 21,\n",
       " 5009536: 16,\n",
       " 5009537: 56,\n",
       " 5009540: 19,\n",
       " 5009541: 11,\n",
       " 5009543: 33,\n",
       " 5009545: 44,\n",
       " 5009546: 27,\n",
       " 5009548: 1,\n",
       " 5009551: 49,\n",
       " 5009553: 2,\n",
       " 5009554: 36,\n",
       " 5009555: 4,\n",
       " 5009556: 3,\n",
       " 5009557: 19,\n",
       " 5009558: 27,\n",
       " 5009559: 38,\n",
       " 5009560: 28,\n",
       " 5009561: 24,\n",
       " 5009565: 0,\n",
       " 5009566: 0,\n",
       " 5009567: 12,\n",
       " 5009568: 0,\n",
       " 5009569: 0,\n",
       " 5009570: 0,\n",
       " 5009571: 35,\n",
       " 5009572: 0,\n",
       " 5009573: 0,\n",
       " 5009574: 0,\n",
       " 5009575: 23,\n",
       " 5009576: 9,\n",
       " 5009582: 8,\n",
       " 5009583: 23,\n",
       " 5009584: 8,\n",
       " 5009585: 31,\n",
       " 5009586: 12,\n",
       " 5009593: 21,\n",
       " 5009594: 9,\n",
       " 5009595: 22,\n",
       " 5009597: 42,\n",
       " 5009599: 22,\n",
       " 5009600: 41,\n",
       " 5009602: 36,\n",
       " 5009603: 38,\n",
       " 5009605: 6,\n",
       " 5009606: 5,\n",
       " 5009607: 24,\n",
       " 5009608: 0,\n",
       " 5009609: 33,\n",
       " 5009610: 7,\n",
       " 5009611: 24,\n",
       " 5009612: 0,\n",
       " 5009613: 0,\n",
       " 5009614: 11,\n",
       " 5009620: 42,\n",
       " 5009622: 42,\n",
       " 5009623: 42,\n",
       " 5009624: 6,\n",
       " 5009625: 39,\n",
       " 5009627: 38,\n",
       " 5009628: 45,\n",
       " 5009629: 42,\n",
       " 5009631: 23,\n",
       " 5009632: 1,\n",
       " 5009633: 15,\n",
       " 5009634: 8,\n",
       " 5009646: 0,\n",
       " 5009647: 19,\n",
       " 5009648: 2,\n",
       " 5009671: 8,\n",
       " 5009672: 6,\n",
       " 5009694: 22,\n",
       " 5009695: 5,\n",
       " 5009698: 17,\n",
       " 5009699: 4,\n",
       " 5009700: 6,\n",
       " 5009706: 4,\n",
       " 5009707: 15,\n",
       " 5009709: 0,\n",
       " 5009711: 4,\n",
       " 5009712: 4,\n",
       " 5009724: 42,\n",
       " 5009725: 8,\n",
       " 5009726: 8,\n",
       " 5009727: 54,\n",
       " 5009729: 0,\n",
       " 5009730: 5,\n",
       " 5009731: 1,\n",
       " 5009732: 43,\n",
       " 5009733: 50,\n",
       " 5009734: 43,\n",
       " 5009736: 14,\n",
       " 5009737: 3,\n",
       " 5009738: 4,\n",
       " 5009739: 14,\n",
       " 5009740: 7,\n",
       " 5009741: 14,\n",
       " 5009742: 15,\n",
       " 5009743: 21,\n",
       " 5009757: 26,\n",
       " 5009758: 27,\n",
       " 5009759: 19,\n",
       " 5009760: 0,\n",
       " 5009761: 18,\n",
       " 5009762: 17,\n",
       " 5009764: 5,\n",
       " 5009765: 0,\n",
       " 5009766: 21,\n",
       " 5009767: 5,\n",
       " 5009768: 20,\n",
       " 5009773: 24,\n",
       " 5009774: 8,\n",
       " 5009775: 5,\n",
       " 5009777: 17,\n",
       " 5009779: 5,\n",
       " 5009783: 29,\n",
       " 5009784: 29,\n",
       " 5009805: 10,\n",
       " 5009806: 18,\n",
       " 5009807: 0,\n",
       " 5009808: 0,\n",
       " 5009809: 0,\n",
       " 5009810: 52,\n",
       " 5009811: 22,\n",
       " 5009812: 0,\n",
       " 5009813: 0,\n",
       " 5009814: 14,\n",
       " 5009816: 22,\n",
       " 5009817: 19,\n",
       " 5009819: 9,\n",
       " 5009820: 9,\n",
       " 5009821: 13,\n",
       " 5009822: 21,\n",
       " 5009823: 21,\n",
       " 5009824: 21,\n",
       " 5009825: 9,\n",
       " 5009826: 26,\n",
       " 5009827: 0,\n",
       " 5009828: 26,\n",
       " 5009829: 0,\n",
       " 5009830: 0,\n",
       " 5009831: 19,\n",
       " 5009832: 3,\n",
       " 5009833: 39,\n",
       " 5009834: 4,\n",
       " 5009835: 10,\n",
       " 5009836: 44,\n",
       " 5009837: 12,\n",
       " 5009838: 12,\n",
       " 5009839: 33,\n",
       " 5009841: 34,\n",
       " 5009843: 22,\n",
       " 5009844: 0,\n",
       " 5009845: 46,\n",
       " 5009846: 32,\n",
       " 5009847: 16,\n",
       " 5009848: 22,\n",
       " 5009849: 34,\n",
       " 5009850: 15,\n",
       " 5009851: 14,\n",
       " 5009852: 0,\n",
       " 5009853: 34,\n",
       " 5009854: 6,\n",
       " 5009856: 5,\n",
       " 5009857: 38,\n",
       " 5009858: 22,\n",
       " 5009859: 28,\n",
       " 5009860: 15,\n",
       " 5009864: 31,\n",
       " 5009865: 0,\n",
       " 5009866: 57,\n",
       " 5009867: 0,\n",
       " 5009868: 57,\n",
       " 5009872: 27,\n",
       " 5009873: 31,\n",
       " 5009874: 1,\n",
       " 5009875: 31,\n",
       " 5009877: 0,\n",
       " 5009878: 5,\n",
       " 5009879: 4,\n",
       " 5009889: 15,\n",
       " 5009890: 16,\n",
       " 5009893: 17,\n",
       " 5009897: 6,\n",
       " 5009898: 1,\n",
       " 5009899: 6,\n",
       " 5009900: 49,\n",
       " 5009903: 45,\n",
       " 5009906: 31,\n",
       " 5009907: 16,\n",
       " 5009908: 4,\n",
       " 5009909: 33,\n",
       " 5009910: 44,\n",
       " 5009911: 39,\n",
       " 5009914: 9,\n",
       " 5009915: 30,\n",
       " 5009916: 11,\n",
       " 5009917: 12,\n",
       " 5009918: 11,\n",
       " 5009919: 21,\n",
       " 5009922: 13,\n",
       " 5009923: 43,\n",
       " 5009924: 17,\n",
       " 5009925: 5,\n",
       " 5009927: 25,\n",
       " 5009928: 0,\n",
       " 5009929: 28,\n",
       " 5009930: 0,\n",
       " 5009931: 6,\n",
       " 5009932: 6,\n",
       " 5009934: 9,\n",
       " 5009935: 5,\n",
       " 5009938: 28,\n",
       " 5009939: 9,\n",
       " 5009940: 7,\n",
       " 5009941: 9,\n",
       " 5009942: 9,\n",
       " 5009943: 13,\n",
       " 5009946: 31,\n",
       " 5009947: 31,\n",
       " 5009949: 7,\n",
       " 5009950: 11,\n",
       " 5009965: 12,\n",
       " 5009966: 21,\n",
       " 5009967: 40,\n",
       " 5009968: 17,\n",
       " 5009969: 37,\n",
       " 5009970: 42,\n",
       " 5009971: 0,\n",
       " 5009978: 11,\n",
       " 5009979: 3,\n",
       " 5009980: 11,\n",
       " 5009981: 11,\n",
       " 5009983: 13,\n",
       " 5009984: 7,\n",
       " 5009985: 11,\n",
       " 5009986: 5,\n",
       " 5009991: 0,\n",
       " 5009992: 0,\n",
       " 5009993: 6,\n",
       " 5009994: 6,\n",
       " 5009995: 20,\n",
       " 5009996: 6,\n",
       " 5009997: 34,\n",
       " 5009998: 36,\n",
       " 5009999: 59,\n",
       " 5010000: 43,\n",
       " 5010001: 29,\n",
       " 5010002: 35,\n",
       " 5010003: 15,\n",
       " 5010004: 17,\n",
       " 5010007: 7,\n",
       " 5010009: 31,\n",
       " 5010010: 7,\n",
       " 5010011: 7,\n",
       " 5010012: 7,\n",
       " 5010023: 7,\n",
       " 5010025: 7,\n",
       " 5010026: 21,\n",
       " 5010027: 28,\n",
       " 5010028: 32,\n",
       " 5010041: 16,\n",
       " 5010042: 17,\n",
       " 5010043: 17,\n",
       " 5010044: 7,\n",
       " 5010045: 7,\n",
       " 5010046: 11,\n",
       " 5010047: 24,\n",
       " 5010048: 17,\n",
       " 5010049: 8,\n",
       " 5010052: 40,\n",
       " 5010053: 6,\n",
       " 5010055: 18,\n",
       " 5010056: 7,\n",
       " 5010057: 5,\n",
       " 5010058: 44,\n",
       " 5010067: 19,\n",
       " 5010068: 27,\n",
       " 5010070: 5,\n",
       " 5010072: 6,\n",
       " 5010073: 10,\n",
       " 5010075: 59,\n",
       " 5010076: 5,\n",
       " 5010077: 19,\n",
       " 5010078: 11,\n",
       " 5010079: 12,\n",
       " 5010081: 48,\n",
       " 5010083: 5,\n",
       " 5010084: 9,\n",
       " 5010085: 29,\n",
       " 5010086: 4,\n",
       " 5010087: 18,\n",
       " 5010088: 0,\n",
       " 5010089: 3,\n",
       " 5010090: 22,\n",
       " 5010091: 19,\n",
       " 5010092: 21,\n",
       " 5010093: 11,\n",
       " 5010094: 3,\n",
       " 5010099: 43,\n",
       " 5010101: 6,\n",
       " 5010102: 0,\n",
       " 5010117: 20,\n",
       " 5010119: 13,\n",
       " 5010120: 25,\n",
       " 5010121: 3,\n",
       " 5010122: 19,\n",
       " 5010123: 13,\n",
       " 5010126: 9,\n",
       " 5010127: 16,\n",
       " 5010128: 22,\n",
       " 5010129: 51,\n",
       " 5010133: 54,\n",
       " 5010135: 38,\n",
       " 5010136: 10,\n",
       " 5010137: 43,\n",
       " 5010147: 21,\n",
       " 5010150: 29,\n",
       " 5010151: 21,\n",
       " 5010152: 12,\n",
       " 5010153: 27,\n",
       " 5010154: 24,\n",
       " 5010156: 17,\n",
       " 5010160: 29,\n",
       " 5010161: 22,\n",
       " 5010162: 7,\n",
       " 5010163: 30,\n",
       " 5010164: 39,\n",
       " 5010165: 11,\n",
       " 5010166: 16,\n",
       " 5010170: 32,\n",
       " 5010172: 39,\n",
       " 5010173: 29,\n",
       " 5010174: 1,\n",
       " 5010182: 38,\n",
       " 5010183: 39,\n",
       " 5010184: 39,\n",
       " 5010185: 21,\n",
       " 5010186: 32,\n",
       " 5010187: 38,\n",
       " 5010188: 58,\n",
       " 5010190: 17,\n",
       " 5010195: 27,\n",
       " 5010198: 10,\n",
       " 5010199: 6,\n",
       " 5010200: 10,\n",
       " 5010201: 10,\n",
       " 5010202: 13,\n",
       " 5010203: 10,\n",
       " 5010204: 1,\n",
       " 5010205: 7,\n",
       " 5010206: 9,\n",
       " 5010207: 10,\n",
       " 5010208: 13,\n",
       " 5010209: 8,\n",
       " 5010215: 37,\n",
       " 5010217: 12,\n",
       " 5010218: 52,\n",
       " 5010222: 10,\n",
       " 5010223: 9,\n",
       " 5010224: 39,\n",
       " 5010225: 7,\n",
       " 5010226: 19,\n",
       " 5010227: 59,\n",
       " 5010228: 34,\n",
       " 5010230: 0,\n",
       " 5010231: 12,\n",
       " 5010234: 35,\n",
       " 5010235: 14,\n",
       " 5010236: 14,\n",
       " 5010238: 11,\n",
       " 5010239: 7,\n",
       " 5010240: 10,\n",
       " 5010241: 17,\n",
       " 5010242: 14,\n",
       " 5010243: 0,\n",
       " 5010244: 30,\n",
       " 5010245: 14,\n",
       " 5010246: 0,\n",
       " 5010247: 2,\n",
       " 5010248: 32,\n",
       " 5010249: 33,\n",
       " 5010250: 2,\n",
       " 5010253: 9,\n",
       " 5010256: 5,\n",
       " 5010257: 17,\n",
       " 5010293: 6,\n",
       " 5010294: 10,\n",
       " 5010295: 14,\n",
       " 5010296: 37,\n",
       " 5010297: 7,\n",
       " 5010298: 19,\n",
       " 5010299: 5,\n",
       " 5010300: 7,\n",
       " 5010309: 22,\n",
       " 5010310: 22,\n",
       " 5010311: 0,\n",
       " 5010312: 30,\n",
       " 5010313: 26,\n",
       " 5010314: 30,\n",
       " 5010315: 11,\n",
       " 5010316: 30,\n",
       " 5010317: 28,\n",
       " 5010318: 1,\n",
       " 5010319: 27,\n",
       " 5010320: 11,\n",
       " 5010321: 0,\n",
       " 5010346: 12,\n",
       " 5010347: 13,\n",
       " 5010348: 1,\n",
       " 5010351: 30,\n",
       " 5010352: 30,\n",
       " 5010356: 13,\n",
       " 5010358: 12,\n",
       " 5010359: 5,\n",
       " 5010361: 31,\n",
       " 5010362: 24,\n",
       " 5010363: 9,\n",
       " 5010364: 10,\n",
       " 5010365: 34,\n",
       " 5010366: 46,\n",
       " 5010367: 3,\n",
       " 5010368: 33,\n",
       " 5010369: 14,\n",
       " 5010370: 0,\n",
       " 5010385: 0,\n",
       " 5010386: 8,\n",
       " 5010387: 0,\n",
       " 5010388: 13,\n",
       " 5010389: 28,\n",
       " 5010390: 45,\n",
       " 5010391: 0,\n",
       " 5010394: 13,\n",
       " 5010396: 8,\n",
       " 5010397: 18,\n",
       " 5010398: 13,\n",
       " 5010400: 8,\n",
       " 5010414: 4,\n",
       " 5010416: 22,\n",
       " 5010417: 13,\n",
       " 5010418: 5,\n",
       " 5010419: 19,\n",
       " 5010420: 27,\n",
       " 5010421: 35,\n",
       " 5010423: 19,\n",
       " 5010424: 35,\n",
       " 5010425: 27,\n",
       " 5010426: 24,\n",
       " 5010427: 16,\n",
       " 5010428: 35,\n",
       " 5010429: 27,\n",
       " 5010430: 19,\n",
       " 5010431: 8,\n",
       " 5010432: 49,\n",
       " 5010453: 42,\n",
       " 5010454: 35,\n",
       " 5010455: 11,\n",
       " 5010456: 17,\n",
       " 5010457: 40,\n",
       " 5010458: 49,\n",
       " 5010459: 31,\n",
       " 5010460: 25,\n",
       " 5010461: 27,\n",
       " 5010462: 27,\n",
       " 5010463: 21,\n",
       " 5010465: 6,\n",
       " 5010466: 9,\n",
       " 5010467: 14,\n",
       " 5010468: 31,\n",
       " 5010470: 40,\n",
       " 5010471: 30,\n",
       " 5010472: 41,\n",
       " 5010491: 14,\n",
       " 5010492: 11,\n",
       " 5010493: 21,\n",
       " 5010494: 5,\n",
       " 5010501: 12,\n",
       " 5010503: 54,\n",
       " 5010504: 12,\n",
       " 5010507: 3,\n",
       " 5010508: 7,\n",
       " 5010509: 2,\n",
       " 5010511: 10,\n",
       " 5010512: 14,\n",
       " 5010513: 10,\n",
       " 5010515: 0,\n",
       " 5010516: 0,\n",
       " 5010517: 0,\n",
       " 5010518: 26,\n",
       " 5010519: 11,\n",
       " 5010520: 0,\n",
       " 5010521: 0,\n",
       " 5010522: 35,\n",
       " 5010523: 5,\n",
       " 5010524: 26,\n",
       " 5010525: 11,\n",
       " 5010526: 4,\n",
       " 5010527: 6,\n",
       " 5010528: 25,\n",
       " 5010529: 4,\n",
       " 5010530: 0,\n",
       " 5010534: 6,\n",
       " 5010535: 51,\n",
       " 5010536: 2,\n",
       " 5010537: 8,\n",
       " 5010538: 18,\n",
       " 5010539: 0,\n",
       " 5010540: 2,\n",
       " 5010541: 51,\n",
       " 5010542: 0,\n",
       " 5010543: 7,\n",
       " 5010544: 4,\n",
       " 5010545: 0,\n",
       " 5010546: 0,\n",
       " 5010547: 5,\n",
       " 5010548: 6,\n",
       " 5010549: 0,\n",
       " 5010551: 0,\n",
       " 5010553: 10,\n",
       " 5010556: 8,\n",
       " 5010557: 46,\n",
       " 5010558: 0,\n",
       " 5010559: 39,\n",
       " 5010560: 33,\n",
       " 5010564: 0,\n",
       " 5010565: 10,\n",
       " 5010566: 23,\n",
       " 5010567: 36,\n",
       " 5010568: 5,\n",
       " 5010569: 0,\n",
       " 5010570: 12,\n",
       " 5010571: 10,\n",
       " 5010572: 0,\n",
       " 5010573: 49,\n",
       " 5010574: 33,\n",
       " 5010575: 42,\n",
       " 5010578: 1,\n",
       " 5010579: 27,\n",
       " 5010583: 25,\n",
       " 5010584: 9,\n",
       " 5010585: 8,\n",
       " 5010586: 40,\n",
       " 5010587: 7,\n",
       " 5010588: 8,\n",
       " 5010589: 12,\n",
       " 5010590: 14,\n",
       " 5010591: 6,\n",
       " 5010598: 9,\n",
       " 5010599: 7,\n",
       " 5010600: 1,\n",
       " 5010601: 12,\n",
       " 5010602: 19,\n",
       " 5010603: 10,\n",
       " 5010604: 30,\n",
       " 5010605: 7,\n",
       " 5010613: 19,\n",
       " 5010615: 54,\n",
       " 5010616: 37,\n",
       " ...}"
      ]
     },
     "execution_count": 7,
     "metadata": {},
     "output_type": "execute_result"
    }
   ],
   "source": [
    "good_mapping"
   ]
  },
  {
   "cell_type": "code",
   "execution_count": 8,
   "metadata": {},
   "outputs": [],
   "source": [
    "cca['total_good_credit'] = cca.applicant_ID.map(good_mapping)\n",
    "cca['total_bad_credit'] = cca.applicant_ID.map(bad_mapping)\n",
    "cca['total_no_credit'] = cca.applicant_ID.map(no_mapping)"
   ]
  },
  {
   "cell_type": "code",
   "execution_count": 9,
   "metadata": {},
   "outputs": [],
   "source": [
    "# checking for datatype of the different attributes\n",
    "#print(cca.dtypes)\n",
    "\n",
    "# getting insides into the attribute contents, Check for na and errors\n",
    "#columns = []\n",
    "#for n in cca.columns:\n",
    "#    columns.append(n)\n",
    "\n",
    "#for n in columns:  \n",
    "#    print(n)\n",
    "#    print(cca[n].unique())\n",
    "#    for i in cca[n].isna():\n",
    "#        if i == True:\n",
    "#            print(\"AHAAAA\")\n",
    "#    print('\\n \\n')   \n",
    "#print(cca.isnull().sum())\n"
   ]
  },
  {
   "cell_type": "code",
   "execution_count": 10,
   "metadata": {},
   "outputs": [
    {
     "data": {
      "text/html": [
       "<div>\n",
       "<style scoped>\n",
       "    .dataframe tbody tr th:only-of-type {\n",
       "        vertical-align: middle;\n",
       "    }\n",
       "\n",
       "    .dataframe tbody tr th {\n",
       "        vertical-align: top;\n",
       "    }\n",
       "\n",
       "    .dataframe thead th {\n",
       "        text-align: right;\n",
       "    }\n",
       "</style>\n",
       "<table border=\"1\" class=\"dataframe\">\n",
       "  <thead>\n",
       "    <tr style=\"text-align: right;\">\n",
       "      <th></th>\n",
       "      <th>applicant_ID</th>\n",
       "      <th>gender</th>\n",
       "      <th>owning_car</th>\n",
       "      <th>owning_property</th>\n",
       "      <th>children_amt</th>\n",
       "      <th>anual_income</th>\n",
       "      <th>education_level</th>\n",
       "      <th>marital_status</th>\n",
       "      <th>housing_type</th>\n",
       "      <th>age</th>\n",
       "      <th>working_years</th>\n",
       "      <th>owning_work_phone</th>\n",
       "      <th>owning_phone</th>\n",
       "      <th>owning_email</th>\n",
       "      <th>job</th>\n",
       "      <th>BEGIN_MONTHS</th>\n",
       "      <th>payment_status</th>\n",
       "      <th>risk_user</th>\n",
       "      <th>total_good_credit</th>\n",
       "      <th>total_bad_credit</th>\n",
       "      <th>total_no_credit</th>\n",
       "    </tr>\n",
       "  </thead>\n",
       "  <tbody>\n",
       "    <tr>\n",
       "      <th>15347</th>\n",
       "      <td>5008806</td>\n",
       "      <td>M</td>\n",
       "      <td>1</td>\n",
       "      <td>1</td>\n",
       "      <td>No children</td>\n",
       "      <td>112500.0</td>\n",
       "      <td>Secondary / secondary special</td>\n",
       "      <td>Married</td>\n",
       "      <td>House / apartment</td>\n",
       "      <td>58</td>\n",
       "      <td>3</td>\n",
       "      <td>0</td>\n",
       "      <td>0</td>\n",
       "      <td>0</td>\n",
       "      <td>Security staff</td>\n",
       "      <td>0</td>\n",
       "      <td>-1</td>\n",
       "      <td>0</td>\n",
       "      <td>14</td>\n",
       "      <td>0</td>\n",
       "      <td>16</td>\n",
       "    </tr>\n",
       "    <tr>\n",
       "      <th>518288</th>\n",
       "      <td>5008808</td>\n",
       "      <td>F</td>\n",
       "      <td>0</td>\n",
       "      <td>1</td>\n",
       "      <td>No children</td>\n",
       "      <td>270000.0</td>\n",
       "      <td>Secondary / secondary special</td>\n",
       "      <td>Single / not married</td>\n",
       "      <td>House / apartment</td>\n",
       "      <td>52</td>\n",
       "      <td>8</td>\n",
       "      <td>0</td>\n",
       "      <td>1</td>\n",
       "      <td>1</td>\n",
       "      <td>Sales staff</td>\n",
       "      <td>0</td>\n",
       "      <td>1</td>\n",
       "      <td>0</td>\n",
       "      <td>2</td>\n",
       "      <td>0</td>\n",
       "      <td>3</td>\n",
       "    </tr>\n",
       "    <tr>\n",
       "      <th>167402</th>\n",
       "      <td>5008810</td>\n",
       "      <td>F</td>\n",
       "      <td>0</td>\n",
       "      <td>1</td>\n",
       "      <td>No children</td>\n",
       "      <td>270000.0</td>\n",
       "      <td>Secondary / secondary special</td>\n",
       "      <td>Single / not married</td>\n",
       "      <td>House / apartment</td>\n",
       "      <td>52</td>\n",
       "      <td>8</td>\n",
       "      <td>0</td>\n",
       "      <td>1</td>\n",
       "      <td>1</td>\n",
       "      <td>Sales staff</td>\n",
       "      <td>0</td>\n",
       "      <td>-1</td>\n",
       "      <td>0</td>\n",
       "      <td>21</td>\n",
       "      <td>0</td>\n",
       "      <td>6</td>\n",
       "    </tr>\n",
       "    <tr>\n",
       "      <th>24372</th>\n",
       "      <td>5008811</td>\n",
       "      <td>F</td>\n",
       "      <td>0</td>\n",
       "      <td>1</td>\n",
       "      <td>No children</td>\n",
       "      <td>270000.0</td>\n",
       "      <td>Secondary / secondary special</td>\n",
       "      <td>Single / not married</td>\n",
       "      <td>House / apartment</td>\n",
       "      <td>52</td>\n",
       "      <td>8</td>\n",
       "      <td>0</td>\n",
       "      <td>1</td>\n",
       "      <td>1</td>\n",
       "      <td>Sales staff</td>\n",
       "      <td>0</td>\n",
       "      <td>-1</td>\n",
       "      <td>0</td>\n",
       "      <td>33</td>\n",
       "      <td>0</td>\n",
       "      <td>6</td>\n",
       "    </tr>\n",
       "    <tr>\n",
       "      <th>500150</th>\n",
       "      <td>5008815</td>\n",
       "      <td>M</td>\n",
       "      <td>1</td>\n",
       "      <td>1</td>\n",
       "      <td>No children</td>\n",
       "      <td>270000.0</td>\n",
       "      <td>Higher education</td>\n",
       "      <td>Married</td>\n",
       "      <td>House / apartment</td>\n",
       "      <td>46</td>\n",
       "      <td>2</td>\n",
       "      <td>1</td>\n",
       "      <td>1</td>\n",
       "      <td>1</td>\n",
       "      <td>Accountants</td>\n",
       "      <td>0</td>\n",
       "      <td>1</td>\n",
       "      <td>0</td>\n",
       "      <td>6</td>\n",
       "      <td>0</td>\n",
       "      <td>0</td>\n",
       "    </tr>\n",
       "    <tr>\n",
       "      <th>...</th>\n",
       "      <td>...</td>\n",
       "      <td>...</td>\n",
       "      <td>...</td>\n",
       "      <td>...</td>\n",
       "      <td>...</td>\n",
       "      <td>...</td>\n",
       "      <td>...</td>\n",
       "      <td>...</td>\n",
       "      <td>...</td>\n",
       "      <td>...</td>\n",
       "      <td>...</td>\n",
       "      <td>...</td>\n",
       "      <td>...</td>\n",
       "      <td>...</td>\n",
       "      <td>...</td>\n",
       "      <td>...</td>\n",
       "      <td>...</td>\n",
       "      <td>...</td>\n",
       "      <td>...</td>\n",
       "      <td>...</td>\n",
       "      <td>...</td>\n",
       "    </tr>\n",
       "    <tr>\n",
       "      <th>118006</th>\n",
       "      <td>5150481</td>\n",
       "      <td>F</td>\n",
       "      <td>1</td>\n",
       "      <td>1</td>\n",
       "      <td>1 children</td>\n",
       "      <td>157500.0</td>\n",
       "      <td>Secondary / secondary special</td>\n",
       "      <td>Married</td>\n",
       "      <td>House / apartment</td>\n",
       "      <td>29</td>\n",
       "      <td>4</td>\n",
       "      <td>0</td>\n",
       "      <td>0</td>\n",
       "      <td>0</td>\n",
       "      <td>Core staff</td>\n",
       "      <td>0</td>\n",
       "      <td>0</td>\n",
       "      <td>0</td>\n",
       "      <td>0</td>\n",
       "      <td>0</td>\n",
       "      <td>43</td>\n",
       "    </tr>\n",
       "    <tr>\n",
       "      <th>355013</th>\n",
       "      <td>5150483</td>\n",
       "      <td>F</td>\n",
       "      <td>1</td>\n",
       "      <td>1</td>\n",
       "      <td>1 children</td>\n",
       "      <td>157500.0</td>\n",
       "      <td>Secondary / secondary special</td>\n",
       "      <td>Married</td>\n",
       "      <td>House / apartment</td>\n",
       "      <td>29</td>\n",
       "      <td>4</td>\n",
       "      <td>0</td>\n",
       "      <td>0</td>\n",
       "      <td>0</td>\n",
       "      <td>Core staff</td>\n",
       "      <td>0</td>\n",
       "      <td>0</td>\n",
       "      <td>0</td>\n",
       "      <td>0</td>\n",
       "      <td>0</td>\n",
       "      <td>18</td>\n",
       "    </tr>\n",
       "    <tr>\n",
       "      <th>534120</th>\n",
       "      <td>5150484</td>\n",
       "      <td>F</td>\n",
       "      <td>1</td>\n",
       "      <td>1</td>\n",
       "      <td>1 children</td>\n",
       "      <td>157500.0</td>\n",
       "      <td>Secondary / secondary special</td>\n",
       "      <td>Married</td>\n",
       "      <td>House / apartment</td>\n",
       "      <td>29</td>\n",
       "      <td>4</td>\n",
       "      <td>0</td>\n",
       "      <td>0</td>\n",
       "      <td>0</td>\n",
       "      <td>Core staff</td>\n",
       "      <td>0</td>\n",
       "      <td>-1</td>\n",
       "      <td>0</td>\n",
       "      <td>13</td>\n",
       "      <td>0</td>\n",
       "      <td>0</td>\n",
       "    </tr>\n",
       "    <tr>\n",
       "      <th>39975</th>\n",
       "      <td>5150485</td>\n",
       "      <td>F</td>\n",
       "      <td>1</td>\n",
       "      <td>1</td>\n",
       "      <td>1 children</td>\n",
       "      <td>157500.0</td>\n",
       "      <td>Secondary / secondary special</td>\n",
       "      <td>Married</td>\n",
       "      <td>House / apartment</td>\n",
       "      <td>29</td>\n",
       "      <td>4</td>\n",
       "      <td>0</td>\n",
       "      <td>0</td>\n",
       "      <td>0</td>\n",
       "      <td>Core staff</td>\n",
       "      <td>0</td>\n",
       "      <td>1</td>\n",
       "      <td>0</td>\n",
       "      <td>2</td>\n",
       "      <td>0</td>\n",
       "      <td>0</td>\n",
       "    </tr>\n",
       "    <tr>\n",
       "      <th>210890</th>\n",
       "      <td>5150487</td>\n",
       "      <td>M</td>\n",
       "      <td>1</td>\n",
       "      <td>0</td>\n",
       "      <td>No children</td>\n",
       "      <td>202500.0</td>\n",
       "      <td>Secondary / secondary special</td>\n",
       "      <td>Married</td>\n",
       "      <td>House / apartment</td>\n",
       "      <td>53</td>\n",
       "      <td>5</td>\n",
       "      <td>0</td>\n",
       "      <td>0</td>\n",
       "      <td>0</td>\n",
       "      <td>Drivers</td>\n",
       "      <td>0</td>\n",
       "      <td>-1</td>\n",
       "      <td>0</td>\n",
       "      <td>30</td>\n",
       "      <td>0</td>\n",
       "      <td>0</td>\n",
       "    </tr>\n",
       "  </tbody>\n",
       "</table>\n",
       "<p>17043 rows × 21 columns</p>\n",
       "</div>"
      ],
      "text/plain": [
       "        applicant_ID gender owning_car owning_property children_amt  \\\n",
       "15347        5008806      M          1               1  No children   \n",
       "518288       5008808      F          0               1  No children   \n",
       "167402       5008810      F          0               1  No children   \n",
       "24372        5008811      F          0               1  No children   \n",
       "500150       5008815      M          1               1  No children   \n",
       "...              ...    ...        ...             ...          ...   \n",
       "118006       5150481      F          1               1   1 children   \n",
       "355013       5150483      F          1               1   1 children   \n",
       "534120       5150484      F          1               1   1 children   \n",
       "39975        5150485      F          1               1   1 children   \n",
       "210890       5150487      M          1               0  No children   \n",
       "\n",
       "        anual_income                education_level        marital_status  \\\n",
       "15347       112500.0  Secondary / secondary special               Married   \n",
       "518288      270000.0  Secondary / secondary special  Single / not married   \n",
       "167402      270000.0  Secondary / secondary special  Single / not married   \n",
       "24372       270000.0  Secondary / secondary special  Single / not married   \n",
       "500150      270000.0               Higher education               Married   \n",
       "...              ...                            ...                   ...   \n",
       "118006      157500.0  Secondary / secondary special               Married   \n",
       "355013      157500.0  Secondary / secondary special               Married   \n",
       "534120      157500.0  Secondary / secondary special               Married   \n",
       "39975       157500.0  Secondary / secondary special               Married   \n",
       "210890      202500.0  Secondary / secondary special               Married   \n",
       "\n",
       "             housing_type  age  working_years  owning_work_phone  \\\n",
       "15347   House / apartment   58              3                  0   \n",
       "518288  House / apartment   52              8                  0   \n",
       "167402  House / apartment   52              8                  0   \n",
       "24372   House / apartment   52              8                  0   \n",
       "500150  House / apartment   46              2                  1   \n",
       "...                   ...  ...            ...                ...   \n",
       "118006  House / apartment   29              4                  0   \n",
       "355013  House / apartment   29              4                  0   \n",
       "534120  House / apartment   29              4                  0   \n",
       "39975   House / apartment   29              4                  0   \n",
       "210890  House / apartment   53              5                  0   \n",
       "\n",
       "        owning_phone  owning_email             job  BEGIN_MONTHS  \\\n",
       "15347              0             0  Security staff             0   \n",
       "518288             1             1     Sales staff             0   \n",
       "167402             1             1     Sales staff             0   \n",
       "24372              1             1     Sales staff             0   \n",
       "500150             1             1     Accountants             0   \n",
       "...              ...           ...             ...           ...   \n",
       "118006             0             0      Core staff             0   \n",
       "355013             0             0      Core staff             0   \n",
       "534120             0             0      Core staff             0   \n",
       "39975              0             0      Core staff             0   \n",
       "210890             0             0         Drivers             0   \n",
       "\n",
       "        payment_status  risk_user  total_good_credit  total_bad_credit  \\\n",
       "15347               -1          0                 14                 0   \n",
       "518288               1          0                  2                 0   \n",
       "167402              -1          0                 21                 0   \n",
       "24372               -1          0                 33                 0   \n",
       "500150               1          0                  6                 0   \n",
       "...                ...        ...                ...               ...   \n",
       "118006               0          0                  0                 0   \n",
       "355013               0          0                  0                 0   \n",
       "534120              -1          0                 13                 0   \n",
       "39975                1          0                  2                 0   \n",
       "210890              -1          0                 30                 0   \n",
       "\n",
       "        total_no_credit  \n",
       "15347                16  \n",
       "518288                3  \n",
       "167402                6  \n",
       "24372                 6  \n",
       "500150                0  \n",
       "...                 ...  \n",
       "118006               43  \n",
       "355013               18  \n",
       "534120                0  \n",
       "39975                 0  \n",
       "210890                0  \n",
       "\n",
       "[17043 rows x 21 columns]"
      ]
     },
     "execution_count": 10,
     "metadata": {},
     "output_type": "execute_result"
    }
   ],
   "source": [
    "cca_t0 = cca[cca.BEGIN_MONTHS==0]\n",
    "cca_t0"
   ]
  },
  {
   "cell_type": "code",
   "execution_count": 11,
   "metadata": {},
   "outputs": [
    {
     "data": {
      "text/html": [
       "<div>\n",
       "<style scoped>\n",
       "    .dataframe tbody tr th:only-of-type {\n",
       "        vertical-align: middle;\n",
       "    }\n",
       "\n",
       "    .dataframe tbody tr th {\n",
       "        vertical-align: top;\n",
       "    }\n",
       "\n",
       "    .dataframe thead th {\n",
       "        text-align: right;\n",
       "    }\n",
       "</style>\n",
       "<table border=\"1\" class=\"dataframe\">\n",
       "  <thead>\n",
       "    <tr style=\"text-align: right;\">\n",
       "      <th></th>\n",
       "      <th>applicant_ID</th>\n",
       "      <th>gender</th>\n",
       "      <th>owning_car</th>\n",
       "      <th>owning_property</th>\n",
       "      <th>children_amt</th>\n",
       "      <th>anual_income</th>\n",
       "      <th>education_level</th>\n",
       "      <th>marital_status</th>\n",
       "      <th>housing_type</th>\n",
       "      <th>age</th>\n",
       "      <th>working_years</th>\n",
       "      <th>owning_work_phone</th>\n",
       "      <th>owning_phone</th>\n",
       "      <th>owning_email</th>\n",
       "      <th>job</th>\n",
       "      <th>BEGIN_MONTHS</th>\n",
       "      <th>payment_status</th>\n",
       "      <th>risk_user</th>\n",
       "      <th>total_good_credit</th>\n",
       "      <th>total_bad_credit</th>\n",
       "      <th>total_no_credit</th>\n",
       "    </tr>\n",
       "  </thead>\n",
       "  <tbody>\n",
       "    <tr>\n",
       "      <th>148480</th>\n",
       "      <td>5024906</td>\n",
       "      <td>M</td>\n",
       "      <td>0</td>\n",
       "      <td>0</td>\n",
       "      <td>No children</td>\n",
       "      <td>135000.0</td>\n",
       "      <td>Secondary / secondary special</td>\n",
       "      <td>Married</td>\n",
       "      <td>House / apartment</td>\n",
       "      <td>37</td>\n",
       "      <td>4</td>\n",
       "      <td>1</td>\n",
       "      <td>1</td>\n",
       "      <td>0</td>\n",
       "      <td>Core staff</td>\n",
       "      <td>0</td>\n",
       "      <td>1</td>\n",
       "      <td>0</td>\n",
       "      <td>8</td>\n",
       "      <td>0</td>\n",
       "      <td>1</td>\n",
       "    </tr>\n",
       "    <tr>\n",
       "      <th>185314</th>\n",
       "      <td>5137173</td>\n",
       "      <td>F</td>\n",
       "      <td>0</td>\n",
       "      <td>0</td>\n",
       "      <td>No children</td>\n",
       "      <td>225000.0</td>\n",
       "      <td>Secondary / secondary special</td>\n",
       "      <td>Married</td>\n",
       "      <td>House / apartment</td>\n",
       "      <td>55</td>\n",
       "      <td>10</td>\n",
       "      <td>1</td>\n",
       "      <td>1</td>\n",
       "      <td>0</td>\n",
       "      <td>Sales staff</td>\n",
       "      <td>0</td>\n",
       "      <td>-1</td>\n",
       "      <td>0</td>\n",
       "      <td>26</td>\n",
       "      <td>0</td>\n",
       "      <td>0</td>\n",
       "    </tr>\n",
       "    <tr>\n",
       "      <th>261926</th>\n",
       "      <td>5139823</td>\n",
       "      <td>M</td>\n",
       "      <td>0</td>\n",
       "      <td>1</td>\n",
       "      <td>No children</td>\n",
       "      <td>108000.0</td>\n",
       "      <td>Secondary / secondary special</td>\n",
       "      <td>Married</td>\n",
       "      <td>House / apartment</td>\n",
       "      <td>43</td>\n",
       "      <td>20</td>\n",
       "      <td>1</td>\n",
       "      <td>1</td>\n",
       "      <td>0</td>\n",
       "      <td>Laborers</td>\n",
       "      <td>0</td>\n",
       "      <td>1</td>\n",
       "      <td>0</td>\n",
       "      <td>9</td>\n",
       "      <td>0</td>\n",
       "      <td>0</td>\n",
       "    </tr>\n",
       "    <tr>\n",
       "      <th>140585</th>\n",
       "      <td>5114573</td>\n",
       "      <td>M</td>\n",
       "      <td>1</td>\n",
       "      <td>1</td>\n",
       "      <td>2+ children</td>\n",
       "      <td>157500.0</td>\n",
       "      <td>Secondary / secondary special</td>\n",
       "      <td>Married</td>\n",
       "      <td>House / apartment</td>\n",
       "      <td>29</td>\n",
       "      <td>0</td>\n",
       "      <td>0</td>\n",
       "      <td>0</td>\n",
       "      <td>0</td>\n",
       "      <td>IT staff</td>\n",
       "      <td>0</td>\n",
       "      <td>0</td>\n",
       "      <td>0</td>\n",
       "      <td>0</td>\n",
       "      <td>0</td>\n",
       "      <td>35</td>\n",
       "    </tr>\n",
       "    <tr>\n",
       "      <th>154481</th>\n",
       "      <td>5010843</td>\n",
       "      <td>F</td>\n",
       "      <td>1</td>\n",
       "      <td>1</td>\n",
       "      <td>No children</td>\n",
       "      <td>157500.0</td>\n",
       "      <td>Higher education</td>\n",
       "      <td>Married</td>\n",
       "      <td>House / apartment</td>\n",
       "      <td>32</td>\n",
       "      <td>2</td>\n",
       "      <td>0</td>\n",
       "      <td>0</td>\n",
       "      <td>1</td>\n",
       "      <td>Sales staff</td>\n",
       "      <td>0</td>\n",
       "      <td>0</td>\n",
       "      <td>0</td>\n",
       "      <td>0</td>\n",
       "      <td>0</td>\n",
       "      <td>27</td>\n",
       "    </tr>\n",
       "    <tr>\n",
       "      <th>375516</th>\n",
       "      <td>5053286</td>\n",
       "      <td>M</td>\n",
       "      <td>0</td>\n",
       "      <td>1</td>\n",
       "      <td>No children</td>\n",
       "      <td>148500.0</td>\n",
       "      <td>Secondary / secondary special</td>\n",
       "      <td>Married</td>\n",
       "      <td>House / apartment</td>\n",
       "      <td>32</td>\n",
       "      <td>8</td>\n",
       "      <td>0</td>\n",
       "      <td>0</td>\n",
       "      <td>0</td>\n",
       "      <td>Laborers</td>\n",
       "      <td>0</td>\n",
       "      <td>-1</td>\n",
       "      <td>0</td>\n",
       "      <td>15</td>\n",
       "      <td>0</td>\n",
       "      <td>1</td>\n",
       "    </tr>\n",
       "    <tr>\n",
       "      <th>305777</th>\n",
       "      <td>5116509</td>\n",
       "      <td>F</td>\n",
       "      <td>1</td>\n",
       "      <td>1</td>\n",
       "      <td>No children</td>\n",
       "      <td>202500.0</td>\n",
       "      <td>Higher education</td>\n",
       "      <td>Civil marriage</td>\n",
       "      <td>House / apartment</td>\n",
       "      <td>43</td>\n",
       "      <td>9</td>\n",
       "      <td>1</td>\n",
       "      <td>1</td>\n",
       "      <td>0</td>\n",
       "      <td>Core staff</td>\n",
       "      <td>0</td>\n",
       "      <td>-1</td>\n",
       "      <td>0</td>\n",
       "      <td>24</td>\n",
       "      <td>0</td>\n",
       "      <td>6</td>\n",
       "    </tr>\n",
       "    <tr>\n",
       "      <th>215612</th>\n",
       "      <td>5118030</td>\n",
       "      <td>F</td>\n",
       "      <td>0</td>\n",
       "      <td>0</td>\n",
       "      <td>No children</td>\n",
       "      <td>315000.0</td>\n",
       "      <td>Secondary / secondary special</td>\n",
       "      <td>Married</td>\n",
       "      <td>House / apartment</td>\n",
       "      <td>37</td>\n",
       "      <td>8</td>\n",
       "      <td>0</td>\n",
       "      <td>1</td>\n",
       "      <td>0</td>\n",
       "      <td>High skill tech staff</td>\n",
       "      <td>0</td>\n",
       "      <td>1</td>\n",
       "      <td>0</td>\n",
       "      <td>13</td>\n",
       "      <td>0</td>\n",
       "      <td>0</td>\n",
       "    </tr>\n",
       "    <tr>\n",
       "      <th>316243</th>\n",
       "      <td>5142979</td>\n",
       "      <td>M</td>\n",
       "      <td>0</td>\n",
       "      <td>0</td>\n",
       "      <td>No children</td>\n",
       "      <td>261000.0</td>\n",
       "      <td>Secondary / secondary special</td>\n",
       "      <td>Married</td>\n",
       "      <td>House / apartment</td>\n",
       "      <td>30</td>\n",
       "      <td>7</td>\n",
       "      <td>1</td>\n",
       "      <td>1</td>\n",
       "      <td>0</td>\n",
       "      <td>Sales staff</td>\n",
       "      <td>0</td>\n",
       "      <td>-1</td>\n",
       "      <td>0</td>\n",
       "      <td>32</td>\n",
       "      <td>0</td>\n",
       "      <td>0</td>\n",
       "    </tr>\n",
       "    <tr>\n",
       "      <th>288989</th>\n",
       "      <td>5028905</td>\n",
       "      <td>F</td>\n",
       "      <td>0</td>\n",
       "      <td>0</td>\n",
       "      <td>No children</td>\n",
       "      <td>67500.0</td>\n",
       "      <td>Secondary / secondary special</td>\n",
       "      <td>Married</td>\n",
       "      <td>House / apartment</td>\n",
       "      <td>27</td>\n",
       "      <td>5</td>\n",
       "      <td>0</td>\n",
       "      <td>0</td>\n",
       "      <td>0</td>\n",
       "      <td>Sales staff</td>\n",
       "      <td>0</td>\n",
       "      <td>-1</td>\n",
       "      <td>0</td>\n",
       "      <td>27</td>\n",
       "      <td>0</td>\n",
       "      <td>0</td>\n",
       "    </tr>\n",
       "  </tbody>\n",
       "</table>\n",
       "</div>"
      ],
      "text/plain": [
       "        applicant_ID gender owning_car owning_property children_amt  \\\n",
       "148480       5024906      M          0               0  No children   \n",
       "185314       5137173      F          0               0  No children   \n",
       "261926       5139823      M          0               1  No children   \n",
       "140585       5114573      M          1               1  2+ children   \n",
       "154481       5010843      F          1               1  No children   \n",
       "375516       5053286      M          0               1  No children   \n",
       "305777       5116509      F          1               1  No children   \n",
       "215612       5118030      F          0               0  No children   \n",
       "316243       5142979      M          0               0  No children   \n",
       "288989       5028905      F          0               0  No children   \n",
       "\n",
       "        anual_income                education_level  marital_status  \\\n",
       "148480      135000.0  Secondary / secondary special         Married   \n",
       "185314      225000.0  Secondary / secondary special         Married   \n",
       "261926      108000.0  Secondary / secondary special         Married   \n",
       "140585      157500.0  Secondary / secondary special         Married   \n",
       "154481      157500.0               Higher education         Married   \n",
       "375516      148500.0  Secondary / secondary special         Married   \n",
       "305777      202500.0               Higher education  Civil marriage   \n",
       "215612      315000.0  Secondary / secondary special         Married   \n",
       "316243      261000.0  Secondary / secondary special         Married   \n",
       "288989       67500.0  Secondary / secondary special         Married   \n",
       "\n",
       "             housing_type  age  working_years  owning_work_phone  \\\n",
       "148480  House / apartment   37              4                  1   \n",
       "185314  House / apartment   55             10                  1   \n",
       "261926  House / apartment   43             20                  1   \n",
       "140585  House / apartment   29              0                  0   \n",
       "154481  House / apartment   32              2                  0   \n",
       "375516  House / apartment   32              8                  0   \n",
       "305777  House / apartment   43              9                  1   \n",
       "215612  House / apartment   37              8                  0   \n",
       "316243  House / apartment   30              7                  1   \n",
       "288989  House / apartment   27              5                  0   \n",
       "\n",
       "        owning_phone  owning_email                    job  BEGIN_MONTHS  \\\n",
       "148480             1             0             Core staff             0   \n",
       "185314             1             0            Sales staff             0   \n",
       "261926             1             0               Laborers             0   \n",
       "140585             0             0               IT staff             0   \n",
       "154481             0             1            Sales staff             0   \n",
       "375516             0             0               Laborers             0   \n",
       "305777             1             0             Core staff             0   \n",
       "215612             1             0  High skill tech staff             0   \n",
       "316243             1             0            Sales staff             0   \n",
       "288989             0             0            Sales staff             0   \n",
       "\n",
       "        payment_status  risk_user  total_good_credit  total_bad_credit  \\\n",
       "148480               1          0                  8                 0   \n",
       "185314              -1          0                 26                 0   \n",
       "261926               1          0                  9                 0   \n",
       "140585               0          0                  0                 0   \n",
       "154481               0          0                  0                 0   \n",
       "375516              -1          0                 15                 0   \n",
       "305777              -1          0                 24                 0   \n",
       "215612               1          0                 13                 0   \n",
       "316243              -1          0                 32                 0   \n",
       "288989              -1          0                 27                 0   \n",
       "\n",
       "        total_no_credit  \n",
       "148480                1  \n",
       "185314                0  \n",
       "261926                0  \n",
       "140585               35  \n",
       "154481               27  \n",
       "375516                1  \n",
       "305777                6  \n",
       "215612                0  \n",
       "316243                0  \n",
       "288989                0  "
      ]
     },
     "execution_count": 11,
     "metadata": {},
     "output_type": "execute_result"
    }
   ],
   "source": [
    "cca_unique_id = cca_t0.drop_duplicates('applicant_ID')\n",
    "cca_unique_id.sample(10)"
   ]
  },
  {
   "cell_type": "markdown",
   "metadata": {},
   "source": [
    "## Deskriptive Analyse / Visualisierung \n",
    "\n",
    "Die deskriptive Analyse, auch bekannt als deskriptive Analytik oder deskriptive Statistik, ist der Prozess der Verwendung statistischer Techniken zur Beschreibung oder Zusammenfassung einer Reihe von Daten. Als eine der wichtigsten Arten der Datenanalyse ist die deskriptive Analyse beliebt, da sie zugängliche Erkenntnisse aus Daten generieren kann. [1]\n",
    "\n",
    "Im Gegensatz zu anderen Arten der Datenanalyse versucht die deskriptive Analyse nicht, Vorhersagen über die Zukunft zu treffen. Stattdessen zieht es Erkenntnisse ausschließlich aus vergangenen Daten, indem es sie auf eine Weise manipuliert, die sie aussagekräftiger macht.\n",
    "\n",
    "@Chengyi Hua"
   ]
  },
  {
   "cell_type": "code",
   "execution_count": 12,
   "metadata": {},
   "outputs": [
    {
     "data": {
      "application/vnd.plotly.v1+json": {
       "config": {
        "plotlyServerURL": "https://plot.ly"
       },
       "data": [
        {
         "type": "bar",
         "x": [
          "N",
          "Y"
         ],
         "y": [
          16980,
          63
         ]
        }
       ],
       "layout": {
        "template": {
         "data": {
          "bar": [
           {
            "error_x": {
             "color": "#2a3f5f"
            },
            "error_y": {
             "color": "#2a3f5f"
            },
            "marker": {
             "line": {
              "color": "#E5ECF6",
              "width": 0.5
             },
             "pattern": {
              "fillmode": "overlay",
              "size": 10,
              "solidity": 0.2
             }
            },
            "type": "bar"
           }
          ],
          "barpolar": [
           {
            "marker": {
             "line": {
              "color": "#E5ECF6",
              "width": 0.5
             },
             "pattern": {
              "fillmode": "overlay",
              "size": 10,
              "solidity": 0.2
             }
            },
            "type": "barpolar"
           }
          ],
          "carpet": [
           {
            "aaxis": {
             "endlinecolor": "#2a3f5f",
             "gridcolor": "white",
             "linecolor": "white",
             "minorgridcolor": "white",
             "startlinecolor": "#2a3f5f"
            },
            "baxis": {
             "endlinecolor": "#2a3f5f",
             "gridcolor": "white",
             "linecolor": "white",
             "minorgridcolor": "white",
             "startlinecolor": "#2a3f5f"
            },
            "type": "carpet"
           }
          ],
          "choropleth": [
           {
            "colorbar": {
             "outlinewidth": 0,
             "ticks": ""
            },
            "type": "choropleth"
           }
          ],
          "contour": [
           {
            "colorbar": {
             "outlinewidth": 0,
             "ticks": ""
            },
            "colorscale": [
             [
              0,
              "#0d0887"
             ],
             [
              0.1111111111111111,
              "#46039f"
             ],
             [
              0.2222222222222222,
              "#7201a8"
             ],
             [
              0.3333333333333333,
              "#9c179e"
             ],
             [
              0.4444444444444444,
              "#bd3786"
             ],
             [
              0.5555555555555556,
              "#d8576b"
             ],
             [
              0.6666666666666666,
              "#ed7953"
             ],
             [
              0.7777777777777778,
              "#fb9f3a"
             ],
             [
              0.8888888888888888,
              "#fdca26"
             ],
             [
              1,
              "#f0f921"
             ]
            ],
            "type": "contour"
           }
          ],
          "contourcarpet": [
           {
            "colorbar": {
             "outlinewidth": 0,
             "ticks": ""
            },
            "type": "contourcarpet"
           }
          ],
          "heatmap": [
           {
            "colorbar": {
             "outlinewidth": 0,
             "ticks": ""
            },
            "colorscale": [
             [
              0,
              "#0d0887"
             ],
             [
              0.1111111111111111,
              "#46039f"
             ],
             [
              0.2222222222222222,
              "#7201a8"
             ],
             [
              0.3333333333333333,
              "#9c179e"
             ],
             [
              0.4444444444444444,
              "#bd3786"
             ],
             [
              0.5555555555555556,
              "#d8576b"
             ],
             [
              0.6666666666666666,
              "#ed7953"
             ],
             [
              0.7777777777777778,
              "#fb9f3a"
             ],
             [
              0.8888888888888888,
              "#fdca26"
             ],
             [
              1,
              "#f0f921"
             ]
            ],
            "type": "heatmap"
           }
          ],
          "heatmapgl": [
           {
            "colorbar": {
             "outlinewidth": 0,
             "ticks": ""
            },
            "colorscale": [
             [
              0,
              "#0d0887"
             ],
             [
              0.1111111111111111,
              "#46039f"
             ],
             [
              0.2222222222222222,
              "#7201a8"
             ],
             [
              0.3333333333333333,
              "#9c179e"
             ],
             [
              0.4444444444444444,
              "#bd3786"
             ],
             [
              0.5555555555555556,
              "#d8576b"
             ],
             [
              0.6666666666666666,
              "#ed7953"
             ],
             [
              0.7777777777777778,
              "#fb9f3a"
             ],
             [
              0.8888888888888888,
              "#fdca26"
             ],
             [
              1,
              "#f0f921"
             ]
            ],
            "type": "heatmapgl"
           }
          ],
          "histogram": [
           {
            "marker": {
             "pattern": {
              "fillmode": "overlay",
              "size": 10,
              "solidity": 0.2
             }
            },
            "type": "histogram"
           }
          ],
          "histogram2d": [
           {
            "colorbar": {
             "outlinewidth": 0,
             "ticks": ""
            },
            "colorscale": [
             [
              0,
              "#0d0887"
             ],
             [
              0.1111111111111111,
              "#46039f"
             ],
             [
              0.2222222222222222,
              "#7201a8"
             ],
             [
              0.3333333333333333,
              "#9c179e"
             ],
             [
              0.4444444444444444,
              "#bd3786"
             ],
             [
              0.5555555555555556,
              "#d8576b"
             ],
             [
              0.6666666666666666,
              "#ed7953"
             ],
             [
              0.7777777777777778,
              "#fb9f3a"
             ],
             [
              0.8888888888888888,
              "#fdca26"
             ],
             [
              1,
              "#f0f921"
             ]
            ],
            "type": "histogram2d"
           }
          ],
          "histogram2dcontour": [
           {
            "colorbar": {
             "outlinewidth": 0,
             "ticks": ""
            },
            "colorscale": [
             [
              0,
              "#0d0887"
             ],
             [
              0.1111111111111111,
              "#46039f"
             ],
             [
              0.2222222222222222,
              "#7201a8"
             ],
             [
              0.3333333333333333,
              "#9c179e"
             ],
             [
              0.4444444444444444,
              "#bd3786"
             ],
             [
              0.5555555555555556,
              "#d8576b"
             ],
             [
              0.6666666666666666,
              "#ed7953"
             ],
             [
              0.7777777777777778,
              "#fb9f3a"
             ],
             [
              0.8888888888888888,
              "#fdca26"
             ],
             [
              1,
              "#f0f921"
             ]
            ],
            "type": "histogram2dcontour"
           }
          ],
          "mesh3d": [
           {
            "colorbar": {
             "outlinewidth": 0,
             "ticks": ""
            },
            "type": "mesh3d"
           }
          ],
          "parcoords": [
           {
            "line": {
             "colorbar": {
              "outlinewidth": 0,
              "ticks": ""
             }
            },
            "type": "parcoords"
           }
          ],
          "pie": [
           {
            "automargin": true,
            "type": "pie"
           }
          ],
          "scatter": [
           {
            "fillpattern": {
             "fillmode": "overlay",
             "size": 10,
             "solidity": 0.2
            },
            "type": "scatter"
           }
          ],
          "scatter3d": [
           {
            "line": {
             "colorbar": {
              "outlinewidth": 0,
              "ticks": ""
             }
            },
            "marker": {
             "colorbar": {
              "outlinewidth": 0,
              "ticks": ""
             }
            },
            "type": "scatter3d"
           }
          ],
          "scattercarpet": [
           {
            "marker": {
             "colorbar": {
              "outlinewidth": 0,
              "ticks": ""
             }
            },
            "type": "scattercarpet"
           }
          ],
          "scattergeo": [
           {
            "marker": {
             "colorbar": {
              "outlinewidth": 0,
              "ticks": ""
             }
            },
            "type": "scattergeo"
           }
          ],
          "scattergl": [
           {
            "marker": {
             "colorbar": {
              "outlinewidth": 0,
              "ticks": ""
             }
            },
            "type": "scattergl"
           }
          ],
          "scattermapbox": [
           {
            "marker": {
             "colorbar": {
              "outlinewidth": 0,
              "ticks": ""
             }
            },
            "type": "scattermapbox"
           }
          ],
          "scatterpolar": [
           {
            "marker": {
             "colorbar": {
              "outlinewidth": 0,
              "ticks": ""
             }
            },
            "type": "scatterpolar"
           }
          ],
          "scatterpolargl": [
           {
            "marker": {
             "colorbar": {
              "outlinewidth": 0,
              "ticks": ""
             }
            },
            "type": "scatterpolargl"
           }
          ],
          "scatterternary": [
           {
            "marker": {
             "colorbar": {
              "outlinewidth": 0,
              "ticks": ""
             }
            },
            "type": "scatterternary"
           }
          ],
          "surface": [
           {
            "colorbar": {
             "outlinewidth": 0,
             "ticks": ""
            },
            "colorscale": [
             [
              0,
              "#0d0887"
             ],
             [
              0.1111111111111111,
              "#46039f"
             ],
             [
              0.2222222222222222,
              "#7201a8"
             ],
             [
              0.3333333333333333,
              "#9c179e"
             ],
             [
              0.4444444444444444,
              "#bd3786"
             ],
             [
              0.5555555555555556,
              "#d8576b"
             ],
             [
              0.6666666666666666,
              "#ed7953"
             ],
             [
              0.7777777777777778,
              "#fb9f3a"
             ],
             [
              0.8888888888888888,
              "#fdca26"
             ],
             [
              1,
              "#f0f921"
             ]
            ],
            "type": "surface"
           }
          ],
          "table": [
           {
            "cells": {
             "fill": {
              "color": "#EBF0F8"
             },
             "line": {
              "color": "white"
             }
            },
            "header": {
             "fill": {
              "color": "#C8D4E3"
             },
             "line": {
              "color": "white"
             }
            },
            "type": "table"
           }
          ]
         },
         "layout": {
          "annotationdefaults": {
           "arrowcolor": "#2a3f5f",
           "arrowhead": 0,
           "arrowwidth": 1
          },
          "autotypenumbers": "strict",
          "coloraxis": {
           "colorbar": {
            "outlinewidth": 0,
            "ticks": ""
           }
          },
          "colorscale": {
           "diverging": [
            [
             0,
             "#8e0152"
            ],
            [
             0.1,
             "#c51b7d"
            ],
            [
             0.2,
             "#de77ae"
            ],
            [
             0.3,
             "#f1b6da"
            ],
            [
             0.4,
             "#fde0ef"
            ],
            [
             0.5,
             "#f7f7f7"
            ],
            [
             0.6,
             "#e6f5d0"
            ],
            [
             0.7,
             "#b8e186"
            ],
            [
             0.8,
             "#7fbc41"
            ],
            [
             0.9,
             "#4d9221"
            ],
            [
             1,
             "#276419"
            ]
           ],
           "sequential": [
            [
             0,
             "#0d0887"
            ],
            [
             0.1111111111111111,
             "#46039f"
            ],
            [
             0.2222222222222222,
             "#7201a8"
            ],
            [
             0.3333333333333333,
             "#9c179e"
            ],
            [
             0.4444444444444444,
             "#bd3786"
            ],
            [
             0.5555555555555556,
             "#d8576b"
            ],
            [
             0.6666666666666666,
             "#ed7953"
            ],
            [
             0.7777777777777778,
             "#fb9f3a"
            ],
            [
             0.8888888888888888,
             "#fdca26"
            ],
            [
             1,
             "#f0f921"
            ]
           ],
           "sequentialminus": [
            [
             0,
             "#0d0887"
            ],
            [
             0.1111111111111111,
             "#46039f"
            ],
            [
             0.2222222222222222,
             "#7201a8"
            ],
            [
             0.3333333333333333,
             "#9c179e"
            ],
            [
             0.4444444444444444,
             "#bd3786"
            ],
            [
             0.5555555555555556,
             "#d8576b"
            ],
            [
             0.6666666666666666,
             "#ed7953"
            ],
            [
             0.7777777777777778,
             "#fb9f3a"
            ],
            [
             0.8888888888888888,
             "#fdca26"
            ],
            [
             1,
             "#f0f921"
            ]
           ]
          },
          "colorway": [
           "#636efa",
           "#EF553B",
           "#00cc96",
           "#ab63fa",
           "#FFA15A",
           "#19d3f3",
           "#FF6692",
           "#B6E880",
           "#FF97FF",
           "#FECB52"
          ],
          "font": {
           "color": "#2a3f5f"
          },
          "geo": {
           "bgcolor": "white",
           "lakecolor": "white",
           "landcolor": "#E5ECF6",
           "showlakes": true,
           "showland": true,
           "subunitcolor": "white"
          },
          "hoverlabel": {
           "align": "left"
          },
          "hovermode": "closest",
          "mapbox": {
           "style": "light"
          },
          "paper_bgcolor": "white",
          "plot_bgcolor": "#E5ECF6",
          "polar": {
           "angularaxis": {
            "gridcolor": "white",
            "linecolor": "white",
            "ticks": ""
           },
           "bgcolor": "#E5ECF6",
           "radialaxis": {
            "gridcolor": "white",
            "linecolor": "white",
            "ticks": ""
           }
          },
          "scene": {
           "xaxis": {
            "backgroundcolor": "#E5ECF6",
            "gridcolor": "white",
            "gridwidth": 2,
            "linecolor": "white",
            "showbackground": true,
            "ticks": "",
            "zerolinecolor": "white"
           },
           "yaxis": {
            "backgroundcolor": "#E5ECF6",
            "gridcolor": "white",
            "gridwidth": 2,
            "linecolor": "white",
            "showbackground": true,
            "ticks": "",
            "zerolinecolor": "white"
           },
           "zaxis": {
            "backgroundcolor": "#E5ECF6",
            "gridcolor": "white",
            "gridwidth": 2,
            "linecolor": "white",
            "showbackground": true,
            "ticks": "",
            "zerolinecolor": "white"
           }
          },
          "shapedefaults": {
           "line": {
            "color": "#2a3f5f"
           }
          },
          "ternary": {
           "aaxis": {
            "gridcolor": "white",
            "linecolor": "white",
            "ticks": ""
           },
           "baxis": {
            "gridcolor": "white",
            "linecolor": "white",
            "ticks": ""
           },
           "bgcolor": "#E5ECF6",
           "caxis": {
            "gridcolor": "white",
            "linecolor": "white",
            "ticks": ""
           }
          },
          "title": {
           "x": 0.05
          },
          "xaxis": {
           "automargin": true,
           "gridcolor": "white",
           "linecolor": "white",
           "ticks": "",
           "title": {
            "standoff": 15
           },
           "zerolinecolor": "white",
           "zerolinewidth": 2
          },
          "yaxis": {
           "automargin": true,
           "gridcolor": "white",
           "linecolor": "white",
           "ticks": "",
           "title": {
            "standoff": 15
           },
           "zerolinecolor": "white",
           "zerolinewidth": 2
          }
         }
        }
       }
      }
     },
     "metadata": {},
     "output_type": "display_data"
    }
   ],
   "source": [
    "fig = go.Figure([go.Bar(x=['N','Y'], y=[cca_unique_id[cca_unique_id.risk_user==0].count()[0], cca_unique_id[cca_unique_id.risk_user==1].count()[0]])])\n",
    "fig"
   ]
  },
  {
   "cell_type": "code",
   "execution_count": 13,
   "metadata": {},
   "outputs": [
    {
     "name": "stdout",
     "output_type": "stream",
     "text": [
      "Class=0, n=16980 (99.63034676993487%)\n",
      "Class=1, n=63 (0.3696532300651294%)\n"
     ]
    }
   ],
   "source": [
    "def class_count(y):\n",
    "    counter = Counter(y)\n",
    "    for k, v in counter.items():\n",
    "        dist = v / len(y) * 100\n",
    "        print(f\"Class={k}, n={v} ({dist}%)\")\n",
    "\n",
    "class_count(cca_unique_id.risk_user)"
   ]
  },
  {
   "cell_type": "markdown",
   "metadata": {},
   "source": [
    "Unser Datensatz weist weniger als 1% seltener, aber “interessanter” Ereignisse auf (z. B. User, die als ...). Es ist also ein unausgewogener Datensatz. Die meisten Algorithmen zum maschinellen Lernen funktionieren jedoch nicht gut mit unausgewogenen Datensätzen. \n",
    "\n",
    "#### Problem mit unausgeglichenem Datensatz <br>\n",
    "Auswirkung / Folgen: <br>\n",
    "- __Eine unausgewogene Klassifizierung__. Es für zu der Entwicklung von Vorhersagemodellen für Klassifizierungsdatensätze, die ein schwerwiegendes Klassenungleichgewicht aufweisen. Die Herausforderung bei der Arbeit mit unausgewogenen Datensätzen besteht darin, dass die meisten maschinellen Lerntechniken die Minderheitsklasse ignorieren und dafür eine schlechte Leistung erbringen, obwohl normalerweise die Leistung der Minderheitsklasse am wichtigsten ist.<br><br>\n",
    "\n",
    "\n"
   ]
  },
  {
   "cell_type": "code",
   "execution_count": 14,
   "metadata": {},
   "outputs": [],
   "source": [
    "#extracting applicants not being risk user\n",
    "non_risk_user = cca_unique_id[cca_unique_id.risk_user == 0]\n",
    "#not_risk.sample(10)\n",
    "\n",
    "#extracting applicants being risk user\n",
    "risk_user = cca_unique_id[cca_unique_id.risk_user == 1]\n",
    "#risk.sample(10)"
   ]
  },
  {
   "cell_type": "code",
   "execution_count": 15,
   "metadata": {},
   "outputs": [
    {
     "data": {
      "application/vnd.plotly.v1+json": {
       "config": {
        "plotlyServerURL": "https://plot.ly"
       },
       "data": [
        {
         "type": "bar",
         "x": [
          "F",
          "M"
         ],
         "y": [
          10525,
          6518
         ]
        }
       ],
       "layout": {
        "template": {
         "data": {
          "bar": [
           {
            "error_x": {
             "color": "#2a3f5f"
            },
            "error_y": {
             "color": "#2a3f5f"
            },
            "marker": {
             "line": {
              "color": "#E5ECF6",
              "width": 0.5
             },
             "pattern": {
              "fillmode": "overlay",
              "size": 10,
              "solidity": 0.2
             }
            },
            "type": "bar"
           }
          ],
          "barpolar": [
           {
            "marker": {
             "line": {
              "color": "#E5ECF6",
              "width": 0.5
             },
             "pattern": {
              "fillmode": "overlay",
              "size": 10,
              "solidity": 0.2
             }
            },
            "type": "barpolar"
           }
          ],
          "carpet": [
           {
            "aaxis": {
             "endlinecolor": "#2a3f5f",
             "gridcolor": "white",
             "linecolor": "white",
             "minorgridcolor": "white",
             "startlinecolor": "#2a3f5f"
            },
            "baxis": {
             "endlinecolor": "#2a3f5f",
             "gridcolor": "white",
             "linecolor": "white",
             "minorgridcolor": "white",
             "startlinecolor": "#2a3f5f"
            },
            "type": "carpet"
           }
          ],
          "choropleth": [
           {
            "colorbar": {
             "outlinewidth": 0,
             "ticks": ""
            },
            "type": "choropleth"
           }
          ],
          "contour": [
           {
            "colorbar": {
             "outlinewidth": 0,
             "ticks": ""
            },
            "colorscale": [
             [
              0,
              "#0d0887"
             ],
             [
              0.1111111111111111,
              "#46039f"
             ],
             [
              0.2222222222222222,
              "#7201a8"
             ],
             [
              0.3333333333333333,
              "#9c179e"
             ],
             [
              0.4444444444444444,
              "#bd3786"
             ],
             [
              0.5555555555555556,
              "#d8576b"
             ],
             [
              0.6666666666666666,
              "#ed7953"
             ],
             [
              0.7777777777777778,
              "#fb9f3a"
             ],
             [
              0.8888888888888888,
              "#fdca26"
             ],
             [
              1,
              "#f0f921"
             ]
            ],
            "type": "contour"
           }
          ],
          "contourcarpet": [
           {
            "colorbar": {
             "outlinewidth": 0,
             "ticks": ""
            },
            "type": "contourcarpet"
           }
          ],
          "heatmap": [
           {
            "colorbar": {
             "outlinewidth": 0,
             "ticks": ""
            },
            "colorscale": [
             [
              0,
              "#0d0887"
             ],
             [
              0.1111111111111111,
              "#46039f"
             ],
             [
              0.2222222222222222,
              "#7201a8"
             ],
             [
              0.3333333333333333,
              "#9c179e"
             ],
             [
              0.4444444444444444,
              "#bd3786"
             ],
             [
              0.5555555555555556,
              "#d8576b"
             ],
             [
              0.6666666666666666,
              "#ed7953"
             ],
             [
              0.7777777777777778,
              "#fb9f3a"
             ],
             [
              0.8888888888888888,
              "#fdca26"
             ],
             [
              1,
              "#f0f921"
             ]
            ],
            "type": "heatmap"
           }
          ],
          "heatmapgl": [
           {
            "colorbar": {
             "outlinewidth": 0,
             "ticks": ""
            },
            "colorscale": [
             [
              0,
              "#0d0887"
             ],
             [
              0.1111111111111111,
              "#46039f"
             ],
             [
              0.2222222222222222,
              "#7201a8"
             ],
             [
              0.3333333333333333,
              "#9c179e"
             ],
             [
              0.4444444444444444,
              "#bd3786"
             ],
             [
              0.5555555555555556,
              "#d8576b"
             ],
             [
              0.6666666666666666,
              "#ed7953"
             ],
             [
              0.7777777777777778,
              "#fb9f3a"
             ],
             [
              0.8888888888888888,
              "#fdca26"
             ],
             [
              1,
              "#f0f921"
             ]
            ],
            "type": "heatmapgl"
           }
          ],
          "histogram": [
           {
            "marker": {
             "pattern": {
              "fillmode": "overlay",
              "size": 10,
              "solidity": 0.2
             }
            },
            "type": "histogram"
           }
          ],
          "histogram2d": [
           {
            "colorbar": {
             "outlinewidth": 0,
             "ticks": ""
            },
            "colorscale": [
             [
              0,
              "#0d0887"
             ],
             [
              0.1111111111111111,
              "#46039f"
             ],
             [
              0.2222222222222222,
              "#7201a8"
             ],
             [
              0.3333333333333333,
              "#9c179e"
             ],
             [
              0.4444444444444444,
              "#bd3786"
             ],
             [
              0.5555555555555556,
              "#d8576b"
             ],
             [
              0.6666666666666666,
              "#ed7953"
             ],
             [
              0.7777777777777778,
              "#fb9f3a"
             ],
             [
              0.8888888888888888,
              "#fdca26"
             ],
             [
              1,
              "#f0f921"
             ]
            ],
            "type": "histogram2d"
           }
          ],
          "histogram2dcontour": [
           {
            "colorbar": {
             "outlinewidth": 0,
             "ticks": ""
            },
            "colorscale": [
             [
              0,
              "#0d0887"
             ],
             [
              0.1111111111111111,
              "#46039f"
             ],
             [
              0.2222222222222222,
              "#7201a8"
             ],
             [
              0.3333333333333333,
              "#9c179e"
             ],
             [
              0.4444444444444444,
              "#bd3786"
             ],
             [
              0.5555555555555556,
              "#d8576b"
             ],
             [
              0.6666666666666666,
              "#ed7953"
             ],
             [
              0.7777777777777778,
              "#fb9f3a"
             ],
             [
              0.8888888888888888,
              "#fdca26"
             ],
             [
              1,
              "#f0f921"
             ]
            ],
            "type": "histogram2dcontour"
           }
          ],
          "mesh3d": [
           {
            "colorbar": {
             "outlinewidth": 0,
             "ticks": ""
            },
            "type": "mesh3d"
           }
          ],
          "parcoords": [
           {
            "line": {
             "colorbar": {
              "outlinewidth": 0,
              "ticks": ""
             }
            },
            "type": "parcoords"
           }
          ],
          "pie": [
           {
            "automargin": true,
            "type": "pie"
           }
          ],
          "scatter": [
           {
            "fillpattern": {
             "fillmode": "overlay",
             "size": 10,
             "solidity": 0.2
            },
            "type": "scatter"
           }
          ],
          "scatter3d": [
           {
            "line": {
             "colorbar": {
              "outlinewidth": 0,
              "ticks": ""
             }
            },
            "marker": {
             "colorbar": {
              "outlinewidth": 0,
              "ticks": ""
             }
            },
            "type": "scatter3d"
           }
          ],
          "scattercarpet": [
           {
            "marker": {
             "colorbar": {
              "outlinewidth": 0,
              "ticks": ""
             }
            },
            "type": "scattercarpet"
           }
          ],
          "scattergeo": [
           {
            "marker": {
             "colorbar": {
              "outlinewidth": 0,
              "ticks": ""
             }
            },
            "type": "scattergeo"
           }
          ],
          "scattergl": [
           {
            "marker": {
             "colorbar": {
              "outlinewidth": 0,
              "ticks": ""
             }
            },
            "type": "scattergl"
           }
          ],
          "scattermapbox": [
           {
            "marker": {
             "colorbar": {
              "outlinewidth": 0,
              "ticks": ""
             }
            },
            "type": "scattermapbox"
           }
          ],
          "scatterpolar": [
           {
            "marker": {
             "colorbar": {
              "outlinewidth": 0,
              "ticks": ""
             }
            },
            "type": "scatterpolar"
           }
          ],
          "scatterpolargl": [
           {
            "marker": {
             "colorbar": {
              "outlinewidth": 0,
              "ticks": ""
             }
            },
            "type": "scatterpolargl"
           }
          ],
          "scatterternary": [
           {
            "marker": {
             "colorbar": {
              "outlinewidth": 0,
              "ticks": ""
             }
            },
            "type": "scatterternary"
           }
          ],
          "surface": [
           {
            "colorbar": {
             "outlinewidth": 0,
             "ticks": ""
            },
            "colorscale": [
             [
              0,
              "#0d0887"
             ],
             [
              0.1111111111111111,
              "#46039f"
             ],
             [
              0.2222222222222222,
              "#7201a8"
             ],
             [
              0.3333333333333333,
              "#9c179e"
             ],
             [
              0.4444444444444444,
              "#bd3786"
             ],
             [
              0.5555555555555556,
              "#d8576b"
             ],
             [
              0.6666666666666666,
              "#ed7953"
             ],
             [
              0.7777777777777778,
              "#fb9f3a"
             ],
             [
              0.8888888888888888,
              "#fdca26"
             ],
             [
              1,
              "#f0f921"
             ]
            ],
            "type": "surface"
           }
          ],
          "table": [
           {
            "cells": {
             "fill": {
              "color": "#EBF0F8"
             },
             "line": {
              "color": "white"
             }
            },
            "header": {
             "fill": {
              "color": "#C8D4E3"
             },
             "line": {
              "color": "white"
             }
            },
            "type": "table"
           }
          ]
         },
         "layout": {
          "annotationdefaults": {
           "arrowcolor": "#2a3f5f",
           "arrowhead": 0,
           "arrowwidth": 1
          },
          "autotypenumbers": "strict",
          "coloraxis": {
           "colorbar": {
            "outlinewidth": 0,
            "ticks": ""
           }
          },
          "colorscale": {
           "diverging": [
            [
             0,
             "#8e0152"
            ],
            [
             0.1,
             "#c51b7d"
            ],
            [
             0.2,
             "#de77ae"
            ],
            [
             0.3,
             "#f1b6da"
            ],
            [
             0.4,
             "#fde0ef"
            ],
            [
             0.5,
             "#f7f7f7"
            ],
            [
             0.6,
             "#e6f5d0"
            ],
            [
             0.7,
             "#b8e186"
            ],
            [
             0.8,
             "#7fbc41"
            ],
            [
             0.9,
             "#4d9221"
            ],
            [
             1,
             "#276419"
            ]
           ],
           "sequential": [
            [
             0,
             "#0d0887"
            ],
            [
             0.1111111111111111,
             "#46039f"
            ],
            [
             0.2222222222222222,
             "#7201a8"
            ],
            [
             0.3333333333333333,
             "#9c179e"
            ],
            [
             0.4444444444444444,
             "#bd3786"
            ],
            [
             0.5555555555555556,
             "#d8576b"
            ],
            [
             0.6666666666666666,
             "#ed7953"
            ],
            [
             0.7777777777777778,
             "#fb9f3a"
            ],
            [
             0.8888888888888888,
             "#fdca26"
            ],
            [
             1,
             "#f0f921"
            ]
           ],
           "sequentialminus": [
            [
             0,
             "#0d0887"
            ],
            [
             0.1111111111111111,
             "#46039f"
            ],
            [
             0.2222222222222222,
             "#7201a8"
            ],
            [
             0.3333333333333333,
             "#9c179e"
            ],
            [
             0.4444444444444444,
             "#bd3786"
            ],
            [
             0.5555555555555556,
             "#d8576b"
            ],
            [
             0.6666666666666666,
             "#ed7953"
            ],
            [
             0.7777777777777778,
             "#fb9f3a"
            ],
            [
             0.8888888888888888,
             "#fdca26"
            ],
            [
             1,
             "#f0f921"
            ]
           ]
          },
          "colorway": [
           "#636efa",
           "#EF553B",
           "#00cc96",
           "#ab63fa",
           "#FFA15A",
           "#19d3f3",
           "#FF6692",
           "#B6E880",
           "#FF97FF",
           "#FECB52"
          ],
          "font": {
           "color": "#2a3f5f"
          },
          "geo": {
           "bgcolor": "white",
           "lakecolor": "white",
           "landcolor": "#E5ECF6",
           "showlakes": true,
           "showland": true,
           "subunitcolor": "white"
          },
          "hoverlabel": {
           "align": "left"
          },
          "hovermode": "closest",
          "mapbox": {
           "style": "light"
          },
          "paper_bgcolor": "white",
          "plot_bgcolor": "#E5ECF6",
          "polar": {
           "angularaxis": {
            "gridcolor": "white",
            "linecolor": "white",
            "ticks": ""
           },
           "bgcolor": "#E5ECF6",
           "radialaxis": {
            "gridcolor": "white",
            "linecolor": "white",
            "ticks": ""
           }
          },
          "scene": {
           "xaxis": {
            "backgroundcolor": "#E5ECF6",
            "gridcolor": "white",
            "gridwidth": 2,
            "linecolor": "white",
            "showbackground": true,
            "ticks": "",
            "zerolinecolor": "white"
           },
           "yaxis": {
            "backgroundcolor": "#E5ECF6",
            "gridcolor": "white",
            "gridwidth": 2,
            "linecolor": "white",
            "showbackground": true,
            "ticks": "",
            "zerolinecolor": "white"
           },
           "zaxis": {
            "backgroundcolor": "#E5ECF6",
            "gridcolor": "white",
            "gridwidth": 2,
            "linecolor": "white",
            "showbackground": true,
            "ticks": "",
            "zerolinecolor": "white"
           }
          },
          "shapedefaults": {
           "line": {
            "color": "#2a3f5f"
           }
          },
          "ternary": {
           "aaxis": {
            "gridcolor": "white",
            "linecolor": "white",
            "ticks": ""
           },
           "baxis": {
            "gridcolor": "white",
            "linecolor": "white",
            "ticks": ""
           },
           "bgcolor": "#E5ECF6",
           "caxis": {
            "gridcolor": "white",
            "linecolor": "white",
            "ticks": ""
           }
          },
          "title": {
           "x": 0.05
          },
          "xaxis": {
           "automargin": true,
           "gridcolor": "white",
           "linecolor": "white",
           "ticks": "",
           "title": {
            "standoff": 15
           },
           "zerolinecolor": "white",
           "zerolinewidth": 2
          },
          "yaxis": {
           "automargin": true,
           "gridcolor": "white",
           "linecolor": "white",
           "ticks": "",
           "title": {
            "standoff": 15
           },
           "zerolinecolor": "white",
           "zerolinewidth": 2
          }
         }
        }
       }
      }
     },
     "metadata": {},
     "output_type": "display_data"
    }
   ],
   "source": [
    "fig = go.Figure([go.Bar(x=['F','M'], \n",
    "y=[cca_unique_id[cca_unique_id.gender=='F'].count()[0], cca_unique_id[cca_unique_id.gender=='M'].count()[0]])])\n",
    "fig"
   ]
  },
  {
   "cell_type": "markdown",
   "metadata": {},
   "source": [
    "- fig(1): Verteilung von Männern und Frauen in der Tabelle cca. In der Tabelle sind viel mehr Frauen als Männer aufgelistet."
   ]
  },
  {
   "cell_type": "code",
   "execution_count": 16,
   "metadata": {},
   "outputs": [
    {
     "name": "stdout",
     "output_type": "stream",
     "text": [
      "Class=M, n=6518 (38.24444053277005%)\n",
      "Class=F, n=10525 (61.75555946722995%)\n"
     ]
    }
   ],
   "source": [
    "class_count(cca_unique_id.gender)"
   ]
  },
  {
   "cell_type": "code",
   "execution_count": 17,
   "metadata": {},
   "outputs": [
    {
     "data": {
      "application/vnd.plotly.v1+json": {
       "config": {
        "plotlyServerURL": "https://plot.ly"
       },
       "data": [
        {
         "type": "bar",
         "x": [
          "F",
          "M"
         ],
         "y": [
          31,
          32
         ]
        }
       ],
       "layout": {
        "template": {
         "data": {
          "bar": [
           {
            "error_x": {
             "color": "#2a3f5f"
            },
            "error_y": {
             "color": "#2a3f5f"
            },
            "marker": {
             "line": {
              "color": "#E5ECF6",
              "width": 0.5
             },
             "pattern": {
              "fillmode": "overlay",
              "size": 10,
              "solidity": 0.2
             }
            },
            "type": "bar"
           }
          ],
          "barpolar": [
           {
            "marker": {
             "line": {
              "color": "#E5ECF6",
              "width": 0.5
             },
             "pattern": {
              "fillmode": "overlay",
              "size": 10,
              "solidity": 0.2
             }
            },
            "type": "barpolar"
           }
          ],
          "carpet": [
           {
            "aaxis": {
             "endlinecolor": "#2a3f5f",
             "gridcolor": "white",
             "linecolor": "white",
             "minorgridcolor": "white",
             "startlinecolor": "#2a3f5f"
            },
            "baxis": {
             "endlinecolor": "#2a3f5f",
             "gridcolor": "white",
             "linecolor": "white",
             "minorgridcolor": "white",
             "startlinecolor": "#2a3f5f"
            },
            "type": "carpet"
           }
          ],
          "choropleth": [
           {
            "colorbar": {
             "outlinewidth": 0,
             "ticks": ""
            },
            "type": "choropleth"
           }
          ],
          "contour": [
           {
            "colorbar": {
             "outlinewidth": 0,
             "ticks": ""
            },
            "colorscale": [
             [
              0,
              "#0d0887"
             ],
             [
              0.1111111111111111,
              "#46039f"
             ],
             [
              0.2222222222222222,
              "#7201a8"
             ],
             [
              0.3333333333333333,
              "#9c179e"
             ],
             [
              0.4444444444444444,
              "#bd3786"
             ],
             [
              0.5555555555555556,
              "#d8576b"
             ],
             [
              0.6666666666666666,
              "#ed7953"
             ],
             [
              0.7777777777777778,
              "#fb9f3a"
             ],
             [
              0.8888888888888888,
              "#fdca26"
             ],
             [
              1,
              "#f0f921"
             ]
            ],
            "type": "contour"
           }
          ],
          "contourcarpet": [
           {
            "colorbar": {
             "outlinewidth": 0,
             "ticks": ""
            },
            "type": "contourcarpet"
           }
          ],
          "heatmap": [
           {
            "colorbar": {
             "outlinewidth": 0,
             "ticks": ""
            },
            "colorscale": [
             [
              0,
              "#0d0887"
             ],
             [
              0.1111111111111111,
              "#46039f"
             ],
             [
              0.2222222222222222,
              "#7201a8"
             ],
             [
              0.3333333333333333,
              "#9c179e"
             ],
             [
              0.4444444444444444,
              "#bd3786"
             ],
             [
              0.5555555555555556,
              "#d8576b"
             ],
             [
              0.6666666666666666,
              "#ed7953"
             ],
             [
              0.7777777777777778,
              "#fb9f3a"
             ],
             [
              0.8888888888888888,
              "#fdca26"
             ],
             [
              1,
              "#f0f921"
             ]
            ],
            "type": "heatmap"
           }
          ],
          "heatmapgl": [
           {
            "colorbar": {
             "outlinewidth": 0,
             "ticks": ""
            },
            "colorscale": [
             [
              0,
              "#0d0887"
             ],
             [
              0.1111111111111111,
              "#46039f"
             ],
             [
              0.2222222222222222,
              "#7201a8"
             ],
             [
              0.3333333333333333,
              "#9c179e"
             ],
             [
              0.4444444444444444,
              "#bd3786"
             ],
             [
              0.5555555555555556,
              "#d8576b"
             ],
             [
              0.6666666666666666,
              "#ed7953"
             ],
             [
              0.7777777777777778,
              "#fb9f3a"
             ],
             [
              0.8888888888888888,
              "#fdca26"
             ],
             [
              1,
              "#f0f921"
             ]
            ],
            "type": "heatmapgl"
           }
          ],
          "histogram": [
           {
            "marker": {
             "pattern": {
              "fillmode": "overlay",
              "size": 10,
              "solidity": 0.2
             }
            },
            "type": "histogram"
           }
          ],
          "histogram2d": [
           {
            "colorbar": {
             "outlinewidth": 0,
             "ticks": ""
            },
            "colorscale": [
             [
              0,
              "#0d0887"
             ],
             [
              0.1111111111111111,
              "#46039f"
             ],
             [
              0.2222222222222222,
              "#7201a8"
             ],
             [
              0.3333333333333333,
              "#9c179e"
             ],
             [
              0.4444444444444444,
              "#bd3786"
             ],
             [
              0.5555555555555556,
              "#d8576b"
             ],
             [
              0.6666666666666666,
              "#ed7953"
             ],
             [
              0.7777777777777778,
              "#fb9f3a"
             ],
             [
              0.8888888888888888,
              "#fdca26"
             ],
             [
              1,
              "#f0f921"
             ]
            ],
            "type": "histogram2d"
           }
          ],
          "histogram2dcontour": [
           {
            "colorbar": {
             "outlinewidth": 0,
             "ticks": ""
            },
            "colorscale": [
             [
              0,
              "#0d0887"
             ],
             [
              0.1111111111111111,
              "#46039f"
             ],
             [
              0.2222222222222222,
              "#7201a8"
             ],
             [
              0.3333333333333333,
              "#9c179e"
             ],
             [
              0.4444444444444444,
              "#bd3786"
             ],
             [
              0.5555555555555556,
              "#d8576b"
             ],
             [
              0.6666666666666666,
              "#ed7953"
             ],
             [
              0.7777777777777778,
              "#fb9f3a"
             ],
             [
              0.8888888888888888,
              "#fdca26"
             ],
             [
              1,
              "#f0f921"
             ]
            ],
            "type": "histogram2dcontour"
           }
          ],
          "mesh3d": [
           {
            "colorbar": {
             "outlinewidth": 0,
             "ticks": ""
            },
            "type": "mesh3d"
           }
          ],
          "parcoords": [
           {
            "line": {
             "colorbar": {
              "outlinewidth": 0,
              "ticks": ""
             }
            },
            "type": "parcoords"
           }
          ],
          "pie": [
           {
            "automargin": true,
            "type": "pie"
           }
          ],
          "scatter": [
           {
            "fillpattern": {
             "fillmode": "overlay",
             "size": 10,
             "solidity": 0.2
            },
            "type": "scatter"
           }
          ],
          "scatter3d": [
           {
            "line": {
             "colorbar": {
              "outlinewidth": 0,
              "ticks": ""
             }
            },
            "marker": {
             "colorbar": {
              "outlinewidth": 0,
              "ticks": ""
             }
            },
            "type": "scatter3d"
           }
          ],
          "scattercarpet": [
           {
            "marker": {
             "colorbar": {
              "outlinewidth": 0,
              "ticks": ""
             }
            },
            "type": "scattercarpet"
           }
          ],
          "scattergeo": [
           {
            "marker": {
             "colorbar": {
              "outlinewidth": 0,
              "ticks": ""
             }
            },
            "type": "scattergeo"
           }
          ],
          "scattergl": [
           {
            "marker": {
             "colorbar": {
              "outlinewidth": 0,
              "ticks": ""
             }
            },
            "type": "scattergl"
           }
          ],
          "scattermapbox": [
           {
            "marker": {
             "colorbar": {
              "outlinewidth": 0,
              "ticks": ""
             }
            },
            "type": "scattermapbox"
           }
          ],
          "scatterpolar": [
           {
            "marker": {
             "colorbar": {
              "outlinewidth": 0,
              "ticks": ""
             }
            },
            "type": "scatterpolar"
           }
          ],
          "scatterpolargl": [
           {
            "marker": {
             "colorbar": {
              "outlinewidth": 0,
              "ticks": ""
             }
            },
            "type": "scatterpolargl"
           }
          ],
          "scatterternary": [
           {
            "marker": {
             "colorbar": {
              "outlinewidth": 0,
              "ticks": ""
             }
            },
            "type": "scatterternary"
           }
          ],
          "surface": [
           {
            "colorbar": {
             "outlinewidth": 0,
             "ticks": ""
            },
            "colorscale": [
             [
              0,
              "#0d0887"
             ],
             [
              0.1111111111111111,
              "#46039f"
             ],
             [
              0.2222222222222222,
              "#7201a8"
             ],
             [
              0.3333333333333333,
              "#9c179e"
             ],
             [
              0.4444444444444444,
              "#bd3786"
             ],
             [
              0.5555555555555556,
              "#d8576b"
             ],
             [
              0.6666666666666666,
              "#ed7953"
             ],
             [
              0.7777777777777778,
              "#fb9f3a"
             ],
             [
              0.8888888888888888,
              "#fdca26"
             ],
             [
              1,
              "#f0f921"
             ]
            ],
            "type": "surface"
           }
          ],
          "table": [
           {
            "cells": {
             "fill": {
              "color": "#EBF0F8"
             },
             "line": {
              "color": "white"
             }
            },
            "header": {
             "fill": {
              "color": "#C8D4E3"
             },
             "line": {
              "color": "white"
             }
            },
            "type": "table"
           }
          ]
         },
         "layout": {
          "annotationdefaults": {
           "arrowcolor": "#2a3f5f",
           "arrowhead": 0,
           "arrowwidth": 1
          },
          "autotypenumbers": "strict",
          "coloraxis": {
           "colorbar": {
            "outlinewidth": 0,
            "ticks": ""
           }
          },
          "colorscale": {
           "diverging": [
            [
             0,
             "#8e0152"
            ],
            [
             0.1,
             "#c51b7d"
            ],
            [
             0.2,
             "#de77ae"
            ],
            [
             0.3,
             "#f1b6da"
            ],
            [
             0.4,
             "#fde0ef"
            ],
            [
             0.5,
             "#f7f7f7"
            ],
            [
             0.6,
             "#e6f5d0"
            ],
            [
             0.7,
             "#b8e186"
            ],
            [
             0.8,
             "#7fbc41"
            ],
            [
             0.9,
             "#4d9221"
            ],
            [
             1,
             "#276419"
            ]
           ],
           "sequential": [
            [
             0,
             "#0d0887"
            ],
            [
             0.1111111111111111,
             "#46039f"
            ],
            [
             0.2222222222222222,
             "#7201a8"
            ],
            [
             0.3333333333333333,
             "#9c179e"
            ],
            [
             0.4444444444444444,
             "#bd3786"
            ],
            [
             0.5555555555555556,
             "#d8576b"
            ],
            [
             0.6666666666666666,
             "#ed7953"
            ],
            [
             0.7777777777777778,
             "#fb9f3a"
            ],
            [
             0.8888888888888888,
             "#fdca26"
            ],
            [
             1,
             "#f0f921"
            ]
           ],
           "sequentialminus": [
            [
             0,
             "#0d0887"
            ],
            [
             0.1111111111111111,
             "#46039f"
            ],
            [
             0.2222222222222222,
             "#7201a8"
            ],
            [
             0.3333333333333333,
             "#9c179e"
            ],
            [
             0.4444444444444444,
             "#bd3786"
            ],
            [
             0.5555555555555556,
             "#d8576b"
            ],
            [
             0.6666666666666666,
             "#ed7953"
            ],
            [
             0.7777777777777778,
             "#fb9f3a"
            ],
            [
             0.8888888888888888,
             "#fdca26"
            ],
            [
             1,
             "#f0f921"
            ]
           ]
          },
          "colorway": [
           "#636efa",
           "#EF553B",
           "#00cc96",
           "#ab63fa",
           "#FFA15A",
           "#19d3f3",
           "#FF6692",
           "#B6E880",
           "#FF97FF",
           "#FECB52"
          ],
          "font": {
           "color": "#2a3f5f"
          },
          "geo": {
           "bgcolor": "white",
           "lakecolor": "white",
           "landcolor": "#E5ECF6",
           "showlakes": true,
           "showland": true,
           "subunitcolor": "white"
          },
          "hoverlabel": {
           "align": "left"
          },
          "hovermode": "closest",
          "mapbox": {
           "style": "light"
          },
          "paper_bgcolor": "white",
          "plot_bgcolor": "#E5ECF6",
          "polar": {
           "angularaxis": {
            "gridcolor": "white",
            "linecolor": "white",
            "ticks": ""
           },
           "bgcolor": "#E5ECF6",
           "radialaxis": {
            "gridcolor": "white",
            "linecolor": "white",
            "ticks": ""
           }
          },
          "scene": {
           "xaxis": {
            "backgroundcolor": "#E5ECF6",
            "gridcolor": "white",
            "gridwidth": 2,
            "linecolor": "white",
            "showbackground": true,
            "ticks": "",
            "zerolinecolor": "white"
           },
           "yaxis": {
            "backgroundcolor": "#E5ECF6",
            "gridcolor": "white",
            "gridwidth": 2,
            "linecolor": "white",
            "showbackground": true,
            "ticks": "",
            "zerolinecolor": "white"
           },
           "zaxis": {
            "backgroundcolor": "#E5ECF6",
            "gridcolor": "white",
            "gridwidth": 2,
            "linecolor": "white",
            "showbackground": true,
            "ticks": "",
            "zerolinecolor": "white"
           }
          },
          "shapedefaults": {
           "line": {
            "color": "#2a3f5f"
           }
          },
          "ternary": {
           "aaxis": {
            "gridcolor": "white",
            "linecolor": "white",
            "ticks": ""
           },
           "baxis": {
            "gridcolor": "white",
            "linecolor": "white",
            "ticks": ""
           },
           "bgcolor": "#E5ECF6",
           "caxis": {
            "gridcolor": "white",
            "linecolor": "white",
            "ticks": ""
           }
          },
          "title": {
           "x": 0.05
          },
          "xaxis": {
           "automargin": true,
           "gridcolor": "white",
           "linecolor": "white",
           "ticks": "",
           "title": {
            "standoff": 15
           },
           "zerolinecolor": "white",
           "zerolinewidth": 2
          },
          "yaxis": {
           "automargin": true,
           "gridcolor": "white",
           "linecolor": "white",
           "ticks": "",
           "title": {
            "standoff": 15
           },
           "zerolinecolor": "white",
           "zerolinewidth": 2
          }
         }
        }
       }
      }
     },
     "metadata": {},
     "output_type": "display_data"
    }
   ],
   "source": [
    "fig = go.Figure([go.Bar(x=['F','M'], \n",
    "y=[risk_user[risk_user.gender=='F'].count()[0], risk_user[risk_user.gender=='M'].count()[0]])])\n",
    "fig"
   ]
  },
  {
   "cell_type": "markdown",
   "metadata": {},
   "source": [
    "- fig(2): Verteilung von Männern und Frauen, die als \"Risk User\" gekennzeichnet wurden. Männliche Risk User sind etwas häufiger als weibliche Risk User in dieser Tabelle."
   ]
  },
  {
   "cell_type": "code",
   "execution_count": 18,
   "metadata": {},
   "outputs": [
    {
     "name": "stdout",
     "output_type": "stream",
     "text": [
      "Class=M, n=32 (50.79365079365079%)\n",
      "Class=F, n=31 (49.2063492063492%)\n"
     ]
    }
   ],
   "source": [
    "class_count(risk_user.gender)"
   ]
  },
  {
   "cell_type": "code",
   "execution_count": 19,
   "metadata": {},
   "outputs": [
    {
     "data": {
      "application/vnd.plotly.v1+json": {
       "config": {
        "plotlyServerURL": "https://plot.ly"
       },
       "data": [
        {
         "type": "bar",
         "x": [
          "F",
          "M"
         ],
         "y": [
          10494,
          6486
         ]
        }
       ],
       "layout": {
        "template": {
         "data": {
          "bar": [
           {
            "error_x": {
             "color": "#2a3f5f"
            },
            "error_y": {
             "color": "#2a3f5f"
            },
            "marker": {
             "line": {
              "color": "#E5ECF6",
              "width": 0.5
             },
             "pattern": {
              "fillmode": "overlay",
              "size": 10,
              "solidity": 0.2
             }
            },
            "type": "bar"
           }
          ],
          "barpolar": [
           {
            "marker": {
             "line": {
              "color": "#E5ECF6",
              "width": 0.5
             },
             "pattern": {
              "fillmode": "overlay",
              "size": 10,
              "solidity": 0.2
             }
            },
            "type": "barpolar"
           }
          ],
          "carpet": [
           {
            "aaxis": {
             "endlinecolor": "#2a3f5f",
             "gridcolor": "white",
             "linecolor": "white",
             "minorgridcolor": "white",
             "startlinecolor": "#2a3f5f"
            },
            "baxis": {
             "endlinecolor": "#2a3f5f",
             "gridcolor": "white",
             "linecolor": "white",
             "minorgridcolor": "white",
             "startlinecolor": "#2a3f5f"
            },
            "type": "carpet"
           }
          ],
          "choropleth": [
           {
            "colorbar": {
             "outlinewidth": 0,
             "ticks": ""
            },
            "type": "choropleth"
           }
          ],
          "contour": [
           {
            "colorbar": {
             "outlinewidth": 0,
             "ticks": ""
            },
            "colorscale": [
             [
              0,
              "#0d0887"
             ],
             [
              0.1111111111111111,
              "#46039f"
             ],
             [
              0.2222222222222222,
              "#7201a8"
             ],
             [
              0.3333333333333333,
              "#9c179e"
             ],
             [
              0.4444444444444444,
              "#bd3786"
             ],
             [
              0.5555555555555556,
              "#d8576b"
             ],
             [
              0.6666666666666666,
              "#ed7953"
             ],
             [
              0.7777777777777778,
              "#fb9f3a"
             ],
             [
              0.8888888888888888,
              "#fdca26"
             ],
             [
              1,
              "#f0f921"
             ]
            ],
            "type": "contour"
           }
          ],
          "contourcarpet": [
           {
            "colorbar": {
             "outlinewidth": 0,
             "ticks": ""
            },
            "type": "contourcarpet"
           }
          ],
          "heatmap": [
           {
            "colorbar": {
             "outlinewidth": 0,
             "ticks": ""
            },
            "colorscale": [
             [
              0,
              "#0d0887"
             ],
             [
              0.1111111111111111,
              "#46039f"
             ],
             [
              0.2222222222222222,
              "#7201a8"
             ],
             [
              0.3333333333333333,
              "#9c179e"
             ],
             [
              0.4444444444444444,
              "#bd3786"
             ],
             [
              0.5555555555555556,
              "#d8576b"
             ],
             [
              0.6666666666666666,
              "#ed7953"
             ],
             [
              0.7777777777777778,
              "#fb9f3a"
             ],
             [
              0.8888888888888888,
              "#fdca26"
             ],
             [
              1,
              "#f0f921"
             ]
            ],
            "type": "heatmap"
           }
          ],
          "heatmapgl": [
           {
            "colorbar": {
             "outlinewidth": 0,
             "ticks": ""
            },
            "colorscale": [
             [
              0,
              "#0d0887"
             ],
             [
              0.1111111111111111,
              "#46039f"
             ],
             [
              0.2222222222222222,
              "#7201a8"
             ],
             [
              0.3333333333333333,
              "#9c179e"
             ],
             [
              0.4444444444444444,
              "#bd3786"
             ],
             [
              0.5555555555555556,
              "#d8576b"
             ],
             [
              0.6666666666666666,
              "#ed7953"
             ],
             [
              0.7777777777777778,
              "#fb9f3a"
             ],
             [
              0.8888888888888888,
              "#fdca26"
             ],
             [
              1,
              "#f0f921"
             ]
            ],
            "type": "heatmapgl"
           }
          ],
          "histogram": [
           {
            "marker": {
             "pattern": {
              "fillmode": "overlay",
              "size": 10,
              "solidity": 0.2
             }
            },
            "type": "histogram"
           }
          ],
          "histogram2d": [
           {
            "colorbar": {
             "outlinewidth": 0,
             "ticks": ""
            },
            "colorscale": [
             [
              0,
              "#0d0887"
             ],
             [
              0.1111111111111111,
              "#46039f"
             ],
             [
              0.2222222222222222,
              "#7201a8"
             ],
             [
              0.3333333333333333,
              "#9c179e"
             ],
             [
              0.4444444444444444,
              "#bd3786"
             ],
             [
              0.5555555555555556,
              "#d8576b"
             ],
             [
              0.6666666666666666,
              "#ed7953"
             ],
             [
              0.7777777777777778,
              "#fb9f3a"
             ],
             [
              0.8888888888888888,
              "#fdca26"
             ],
             [
              1,
              "#f0f921"
             ]
            ],
            "type": "histogram2d"
           }
          ],
          "histogram2dcontour": [
           {
            "colorbar": {
             "outlinewidth": 0,
             "ticks": ""
            },
            "colorscale": [
             [
              0,
              "#0d0887"
             ],
             [
              0.1111111111111111,
              "#46039f"
             ],
             [
              0.2222222222222222,
              "#7201a8"
             ],
             [
              0.3333333333333333,
              "#9c179e"
             ],
             [
              0.4444444444444444,
              "#bd3786"
             ],
             [
              0.5555555555555556,
              "#d8576b"
             ],
             [
              0.6666666666666666,
              "#ed7953"
             ],
             [
              0.7777777777777778,
              "#fb9f3a"
             ],
             [
              0.8888888888888888,
              "#fdca26"
             ],
             [
              1,
              "#f0f921"
             ]
            ],
            "type": "histogram2dcontour"
           }
          ],
          "mesh3d": [
           {
            "colorbar": {
             "outlinewidth": 0,
             "ticks": ""
            },
            "type": "mesh3d"
           }
          ],
          "parcoords": [
           {
            "line": {
             "colorbar": {
              "outlinewidth": 0,
              "ticks": ""
             }
            },
            "type": "parcoords"
           }
          ],
          "pie": [
           {
            "automargin": true,
            "type": "pie"
           }
          ],
          "scatter": [
           {
            "fillpattern": {
             "fillmode": "overlay",
             "size": 10,
             "solidity": 0.2
            },
            "type": "scatter"
           }
          ],
          "scatter3d": [
           {
            "line": {
             "colorbar": {
              "outlinewidth": 0,
              "ticks": ""
             }
            },
            "marker": {
             "colorbar": {
              "outlinewidth": 0,
              "ticks": ""
             }
            },
            "type": "scatter3d"
           }
          ],
          "scattercarpet": [
           {
            "marker": {
             "colorbar": {
              "outlinewidth": 0,
              "ticks": ""
             }
            },
            "type": "scattercarpet"
           }
          ],
          "scattergeo": [
           {
            "marker": {
             "colorbar": {
              "outlinewidth": 0,
              "ticks": ""
             }
            },
            "type": "scattergeo"
           }
          ],
          "scattergl": [
           {
            "marker": {
             "colorbar": {
              "outlinewidth": 0,
              "ticks": ""
             }
            },
            "type": "scattergl"
           }
          ],
          "scattermapbox": [
           {
            "marker": {
             "colorbar": {
              "outlinewidth": 0,
              "ticks": ""
             }
            },
            "type": "scattermapbox"
           }
          ],
          "scatterpolar": [
           {
            "marker": {
             "colorbar": {
              "outlinewidth": 0,
              "ticks": ""
             }
            },
            "type": "scatterpolar"
           }
          ],
          "scatterpolargl": [
           {
            "marker": {
             "colorbar": {
              "outlinewidth": 0,
              "ticks": ""
             }
            },
            "type": "scatterpolargl"
           }
          ],
          "scatterternary": [
           {
            "marker": {
             "colorbar": {
              "outlinewidth": 0,
              "ticks": ""
             }
            },
            "type": "scatterternary"
           }
          ],
          "surface": [
           {
            "colorbar": {
             "outlinewidth": 0,
             "ticks": ""
            },
            "colorscale": [
             [
              0,
              "#0d0887"
             ],
             [
              0.1111111111111111,
              "#46039f"
             ],
             [
              0.2222222222222222,
              "#7201a8"
             ],
             [
              0.3333333333333333,
              "#9c179e"
             ],
             [
              0.4444444444444444,
              "#bd3786"
             ],
             [
              0.5555555555555556,
              "#d8576b"
             ],
             [
              0.6666666666666666,
              "#ed7953"
             ],
             [
              0.7777777777777778,
              "#fb9f3a"
             ],
             [
              0.8888888888888888,
              "#fdca26"
             ],
             [
              1,
              "#f0f921"
             ]
            ],
            "type": "surface"
           }
          ],
          "table": [
           {
            "cells": {
             "fill": {
              "color": "#EBF0F8"
             },
             "line": {
              "color": "white"
             }
            },
            "header": {
             "fill": {
              "color": "#C8D4E3"
             },
             "line": {
              "color": "white"
             }
            },
            "type": "table"
           }
          ]
         },
         "layout": {
          "annotationdefaults": {
           "arrowcolor": "#2a3f5f",
           "arrowhead": 0,
           "arrowwidth": 1
          },
          "autotypenumbers": "strict",
          "coloraxis": {
           "colorbar": {
            "outlinewidth": 0,
            "ticks": ""
           }
          },
          "colorscale": {
           "diverging": [
            [
             0,
             "#8e0152"
            ],
            [
             0.1,
             "#c51b7d"
            ],
            [
             0.2,
             "#de77ae"
            ],
            [
             0.3,
             "#f1b6da"
            ],
            [
             0.4,
             "#fde0ef"
            ],
            [
             0.5,
             "#f7f7f7"
            ],
            [
             0.6,
             "#e6f5d0"
            ],
            [
             0.7,
             "#b8e186"
            ],
            [
             0.8,
             "#7fbc41"
            ],
            [
             0.9,
             "#4d9221"
            ],
            [
             1,
             "#276419"
            ]
           ],
           "sequential": [
            [
             0,
             "#0d0887"
            ],
            [
             0.1111111111111111,
             "#46039f"
            ],
            [
             0.2222222222222222,
             "#7201a8"
            ],
            [
             0.3333333333333333,
             "#9c179e"
            ],
            [
             0.4444444444444444,
             "#bd3786"
            ],
            [
             0.5555555555555556,
             "#d8576b"
            ],
            [
             0.6666666666666666,
             "#ed7953"
            ],
            [
             0.7777777777777778,
             "#fb9f3a"
            ],
            [
             0.8888888888888888,
             "#fdca26"
            ],
            [
             1,
             "#f0f921"
            ]
           ],
           "sequentialminus": [
            [
             0,
             "#0d0887"
            ],
            [
             0.1111111111111111,
             "#46039f"
            ],
            [
             0.2222222222222222,
             "#7201a8"
            ],
            [
             0.3333333333333333,
             "#9c179e"
            ],
            [
             0.4444444444444444,
             "#bd3786"
            ],
            [
             0.5555555555555556,
             "#d8576b"
            ],
            [
             0.6666666666666666,
             "#ed7953"
            ],
            [
             0.7777777777777778,
             "#fb9f3a"
            ],
            [
             0.8888888888888888,
             "#fdca26"
            ],
            [
             1,
             "#f0f921"
            ]
           ]
          },
          "colorway": [
           "#636efa",
           "#EF553B",
           "#00cc96",
           "#ab63fa",
           "#FFA15A",
           "#19d3f3",
           "#FF6692",
           "#B6E880",
           "#FF97FF",
           "#FECB52"
          ],
          "font": {
           "color": "#2a3f5f"
          },
          "geo": {
           "bgcolor": "white",
           "lakecolor": "white",
           "landcolor": "#E5ECF6",
           "showlakes": true,
           "showland": true,
           "subunitcolor": "white"
          },
          "hoverlabel": {
           "align": "left"
          },
          "hovermode": "closest",
          "mapbox": {
           "style": "light"
          },
          "paper_bgcolor": "white",
          "plot_bgcolor": "#E5ECF6",
          "polar": {
           "angularaxis": {
            "gridcolor": "white",
            "linecolor": "white",
            "ticks": ""
           },
           "bgcolor": "#E5ECF6",
           "radialaxis": {
            "gridcolor": "white",
            "linecolor": "white",
            "ticks": ""
           }
          },
          "scene": {
           "xaxis": {
            "backgroundcolor": "#E5ECF6",
            "gridcolor": "white",
            "gridwidth": 2,
            "linecolor": "white",
            "showbackground": true,
            "ticks": "",
            "zerolinecolor": "white"
           },
           "yaxis": {
            "backgroundcolor": "#E5ECF6",
            "gridcolor": "white",
            "gridwidth": 2,
            "linecolor": "white",
            "showbackground": true,
            "ticks": "",
            "zerolinecolor": "white"
           },
           "zaxis": {
            "backgroundcolor": "#E5ECF6",
            "gridcolor": "white",
            "gridwidth": 2,
            "linecolor": "white",
            "showbackground": true,
            "ticks": "",
            "zerolinecolor": "white"
           }
          },
          "shapedefaults": {
           "line": {
            "color": "#2a3f5f"
           }
          },
          "ternary": {
           "aaxis": {
            "gridcolor": "white",
            "linecolor": "white",
            "ticks": ""
           },
           "baxis": {
            "gridcolor": "white",
            "linecolor": "white",
            "ticks": ""
           },
           "bgcolor": "#E5ECF6",
           "caxis": {
            "gridcolor": "white",
            "linecolor": "white",
            "ticks": ""
           }
          },
          "title": {
           "x": 0.05
          },
          "xaxis": {
           "automargin": true,
           "gridcolor": "white",
           "linecolor": "white",
           "ticks": "",
           "title": {
            "standoff": 15
           },
           "zerolinecolor": "white",
           "zerolinewidth": 2
          },
          "yaxis": {
           "automargin": true,
           "gridcolor": "white",
           "linecolor": "white",
           "ticks": "",
           "title": {
            "standoff": 15
           },
           "zerolinecolor": "white",
           "zerolinewidth": 2
          }
         }
        }
       }
      }
     },
     "metadata": {},
     "output_type": "display_data"
    }
   ],
   "source": [
    "fig = go.Figure([go.Bar(x=['F','M'], \n",
    "y=[non_risk_user[non_risk_user.gender=='F'].count()[0], non_risk_user[non_risk_user.gender=='M'].count()[0]])])\n",
    "fig"
   ]
  },
  {
   "cell_type": "markdown",
   "metadata": {},
   "source": [
    "- fig(3): Verteilung von Männern und Frauen, die als Non-Risk User gekennzeichnet wurden. Man sieht dass es deutlich mehr weibliche Non-Risk User gibt als männliche. \n",
    "- Ein männlicher User hat eine höhere Wahrscheinlichkeit in dieser Tabelle als Risk-User gekennzeichnet zu sein."
   ]
  },
  {
   "cell_type": "code",
   "execution_count": 20,
   "metadata": {},
   "outputs": [
    {
     "name": "stdout",
     "output_type": "stream",
     "text": [
      "Class=M, n=6486 (38.197879858657245%)\n",
      "Class=F, n=10494 (61.802120141342755%)\n"
     ]
    }
   ],
   "source": [
    "class_count(non_risk_user.gender)"
   ]
  },
  {
   "cell_type": "code",
   "execution_count": 21,
   "metadata": {},
   "outputs": [
    {
     "data": {
      "image/png": "[encoded data removed]",
      "text/plain": [
       "<Figure size 807.375x720 with 1 Axes>"
      ]
     },
     "metadata": {
      "needs_background": "light"
     },
     "output_type": "display_data"
    }
   ],
   "source": [
    "plot_1 = sns.relplot(x='age', y='anual_income', hue='risk_user',size='payment_status',data=cca,\n",
    "sizes=(400,40),alpha=0.01,height=10)"
   ]
  },
  {
   "cell_type": "markdown",
   "metadata": {},
   "source": [
    "- fig(4): In dieser Visualisierung versuchen wir eine klare Abtrennung von Risk- und Non-Risk-Unsern darzustellen. Wir plotten dazu die Parameter 'age', 'annual income'  und 'payment status' bei Risk und Non-Risk user. Allerdigns kann keine klare Abtrennung im Scatter-Plot beobachtet werden. Zu sehen ist lediglich, dass die blauen Punkte, die Non-Risk-User darstellen, kleiner sind als die gelben Punkte, die Risk-User darstellen. Man schließt daraus, dass sich lediglich der Parameter 'payment_status' in den beiden Kategorien klar unterscheidet.\n",
    "\n",
    "@Dennis"
   ]
  },
  {
   "cell_type": "code",
   "execution_count": 22,
   "metadata": {},
   "outputs": [
    {
     "data": {
      "application/vnd.plotly.v1+json": {
       "config": {
        "plotlyServerURL": "https://plot.ly"
       },
       "data": [
        {
         "type": "bar",
         "x": [
          4,
          6,
          3,
          5
         ],
         "y": [
          3,
          44,
          12,
          4
         ]
        }
       ],
       "layout": {
        "template": {
         "data": {
          "bar": [
           {
            "error_x": {
             "color": "#2a3f5f"
            },
            "error_y": {
             "color": "#2a3f5f"
            },
            "marker": {
             "line": {
              "color": "#E5ECF6",
              "width": 0.5
             },
             "pattern": {
              "fillmode": "overlay",
              "size": 10,
              "solidity": 0.2
             }
            },
            "type": "bar"
           }
          ],
          "barpolar": [
           {
            "marker": {
             "line": {
              "color": "#E5ECF6",
              "width": 0.5
             },
             "pattern": {
              "fillmode": "overlay",
              "size": 10,
              "solidity": 0.2
             }
            },
            "type": "barpolar"
           }
          ],
          "carpet": [
           {
            "aaxis": {
             "endlinecolor": "#2a3f5f",
             "gridcolor": "white",
             "linecolor": "white",
             "minorgridcolor": "white",
             "startlinecolor": "#2a3f5f"
            },
            "baxis": {
             "endlinecolor": "#2a3f5f",
             "gridcolor": "white",
             "linecolor": "white",
             "minorgridcolor": "white",
             "startlinecolor": "#2a3f5f"
            },
            "type": "carpet"
           }
          ],
          "choropleth": [
           {
            "colorbar": {
             "outlinewidth": 0,
             "ticks": ""
            },
            "type": "choropleth"
           }
          ],
          "contour": [
           {
            "colorbar": {
             "outlinewidth": 0,
             "ticks": ""
            },
            "colorscale": [
             [
              0,
              "#0d0887"
             ],
             [
              0.1111111111111111,
              "#46039f"
             ],
             [
              0.2222222222222222,
              "#7201a8"
             ],
             [
              0.3333333333333333,
              "#9c179e"
             ],
             [
              0.4444444444444444,
              "#bd3786"
             ],
             [
              0.5555555555555556,
              "#d8576b"
             ],
             [
              0.6666666666666666,
              "#ed7953"
             ],
             [
              0.7777777777777778,
              "#fb9f3a"
             ],
             [
              0.8888888888888888,
              "#fdca26"
             ],
             [
              1,
              "#f0f921"
             ]
            ],
            "type": "contour"
           }
          ],
          "contourcarpet": [
           {
            "colorbar": {
             "outlinewidth": 0,
             "ticks": ""
            },
            "type": "contourcarpet"
           }
          ],
          "heatmap": [
           {
            "colorbar": {
             "outlinewidth": 0,
             "ticks": ""
            },
            "colorscale": [
             [
              0,
              "#0d0887"
             ],
             [
              0.1111111111111111,
              "#46039f"
             ],
             [
              0.2222222222222222,
              "#7201a8"
             ],
             [
              0.3333333333333333,
              "#9c179e"
             ],
             [
              0.4444444444444444,
              "#bd3786"
             ],
             [
              0.5555555555555556,
              "#d8576b"
             ],
             [
              0.6666666666666666,
              "#ed7953"
             ],
             [
              0.7777777777777778,
              "#fb9f3a"
             ],
             [
              0.8888888888888888,
              "#fdca26"
             ],
             [
              1,
              "#f0f921"
             ]
            ],
            "type": "heatmap"
           }
          ],
          "heatmapgl": [
           {
            "colorbar": {
             "outlinewidth": 0,
             "ticks": ""
            },
            "colorscale": [
             [
              0,
              "#0d0887"
             ],
             [
              0.1111111111111111,
              "#46039f"
             ],
             [
              0.2222222222222222,
              "#7201a8"
             ],
             [
              0.3333333333333333,
              "#9c179e"
             ],
             [
              0.4444444444444444,
              "#bd3786"
             ],
             [
              0.5555555555555556,
              "#d8576b"
             ],
             [
              0.6666666666666666,
              "#ed7953"
             ],
             [
              0.7777777777777778,
              "#fb9f3a"
             ],
             [
              0.8888888888888888,
              "#fdca26"
             ],
             [
              1,
              "#f0f921"
             ]
            ],
            "type": "heatmapgl"
           }
          ],
          "histogram": [
           {
            "marker": {
             "pattern": {
              "fillmode": "overlay",
              "size": 10,
              "solidity": 0.2
             }
            },
            "type": "histogram"
           }
          ],
          "histogram2d": [
           {
            "colorbar": {
             "outlinewidth": 0,
             "ticks": ""
            },
            "colorscale": [
             [
              0,
              "#0d0887"
             ],
             [
              0.1111111111111111,
              "#46039f"
             ],
             [
              0.2222222222222222,
              "#7201a8"
             ],
             [
              0.3333333333333333,
              "#9c179e"
             ],
             [
              0.4444444444444444,
              "#bd3786"
             ],
             [
              0.5555555555555556,
              "#d8576b"
             ],
             [
              0.6666666666666666,
              "#ed7953"
             ],
             [
              0.7777777777777778,
              "#fb9f3a"
             ],
             [
              0.8888888888888888,
              "#fdca26"
             ],
             [
              1,
              "#f0f921"
             ]
            ],
            "type": "histogram2d"
           }
          ],
          "histogram2dcontour": [
           {
            "colorbar": {
             "outlinewidth": 0,
             "ticks": ""
            },
            "colorscale": [
             [
              0,
              "#0d0887"
             ],
             [
              0.1111111111111111,
              "#46039f"
             ],
             [
              0.2222222222222222,
              "#7201a8"
             ],
             [
              0.3333333333333333,
              "#9c179e"
             ],
             [
              0.4444444444444444,
              "#bd3786"
             ],
             [
              0.5555555555555556,
              "#d8576b"
             ],
             [
              0.6666666666666666,
              "#ed7953"
             ],
             [
              0.7777777777777778,
              "#fb9f3a"
             ],
             [
              0.8888888888888888,
              "#fdca26"
             ],
             [
              1,
              "#f0f921"
             ]
            ],
            "type": "histogram2dcontour"
           }
          ],
          "mesh3d": [
           {
            "colorbar": {
             "outlinewidth": 0,
             "ticks": ""
            },
            "type": "mesh3d"
           }
          ],
          "parcoords": [
           {
            "line": {
             "colorbar": {
              "outlinewidth": 0,
              "ticks": ""
             }
            },
            "type": "parcoords"
           }
          ],
          "pie": [
           {
            "automargin": true,
            "type": "pie"
           }
          ],
          "scatter": [
           {
            "fillpattern": {
             "fillmode": "overlay",
             "size": 10,
             "solidity": 0.2
            },
            "type": "scatter"
           }
          ],
          "scatter3d": [
           {
            "line": {
             "colorbar": {
              "outlinewidth": 0,
              "ticks": ""
             }
            },
            "marker": {
             "colorbar": {
              "outlinewidth": 0,
              "ticks": ""
             }
            },
            "type": "scatter3d"
           }
          ],
          "scattercarpet": [
           {
            "marker": {
             "colorbar": {
              "outlinewidth": 0,
              "ticks": ""
             }
            },
            "type": "scattercarpet"
           }
          ],
          "scattergeo": [
           {
            "marker": {
             "colorbar": {
              "outlinewidth": 0,
              "ticks": ""
             }
            },
            "type": "scattergeo"
           }
          ],
          "scattergl": [
           {
            "marker": {
             "colorbar": {
              "outlinewidth": 0,
              "ticks": ""
             }
            },
            "type": "scattergl"
           }
          ],
          "scattermapbox": [
           {
            "marker": {
             "colorbar": {
              "outlinewidth": 0,
              "ticks": ""
             }
            },
            "type": "scattermapbox"
           }
          ],
          "scatterpolar": [
           {
            "marker": {
             "colorbar": {
              "outlinewidth": 0,
              "ticks": ""
             }
            },
            "type": "scatterpolar"
           }
          ],
          "scatterpolargl": [
           {
            "marker": {
             "colorbar": {
              "outlinewidth": 0,
              "ticks": ""
             }
            },
            "type": "scatterpolargl"
           }
          ],
          "scatterternary": [
           {
            "marker": {
             "colorbar": {
              "outlinewidth": 0,
              "ticks": ""
             }
            },
            "type": "scatterternary"
           }
          ],
          "surface": [
           {
            "colorbar": {
             "outlinewidth": 0,
             "ticks": ""
            },
            "colorscale": [
             [
              0,
              "#0d0887"
             ],
             [
              0.1111111111111111,
              "#46039f"
             ],
             [
              0.2222222222222222,
              "#7201a8"
             ],
             [
              0.3333333333333333,
              "#9c179e"
             ],
             [
              0.4444444444444444,
              "#bd3786"
             ],
             [
              0.5555555555555556,
              "#d8576b"
             ],
             [
              0.6666666666666666,
              "#ed7953"
             ],
             [
              0.7777777777777778,
              "#fb9f3a"
             ],
             [
              0.8888888888888888,
              "#fdca26"
             ],
             [
              1,
              "#f0f921"
             ]
            ],
            "type": "surface"
           }
          ],
          "table": [
           {
            "cells": {
             "fill": {
              "color": "#EBF0F8"
             },
             "line": {
              "color": "white"
             }
            },
            "header": {
             "fill": {
              "color": "#C8D4E3"
             },
             "line": {
              "color": "white"
             }
            },
            "type": "table"
           }
          ]
         },
         "layout": {
          "annotationdefaults": {
           "arrowcolor": "#2a3f5f",
           "arrowhead": 0,
           "arrowwidth": 1
          },
          "autotypenumbers": "strict",
          "coloraxis": {
           "colorbar": {
            "outlinewidth": 0,
            "ticks": ""
           }
          },
          "colorscale": {
           "diverging": [
            [
             0,
             "#8e0152"
            ],
            [
             0.1,
             "#c51b7d"
            ],
            [
             0.2,
             "#de77ae"
            ],
            [
             0.3,
             "#f1b6da"
            ],
            [
             0.4,
             "#fde0ef"
            ],
            [
             0.5,
             "#f7f7f7"
            ],
            [
             0.6,
             "#e6f5d0"
            ],
            [
             0.7,
             "#b8e186"
            ],
            [
             0.8,
             "#7fbc41"
            ],
            [
             0.9,
             "#4d9221"
            ],
            [
             1,
             "#276419"
            ]
           ],
           "sequential": [
            [
             0,
             "#0d0887"
            ],
            [
             0.1111111111111111,
             "#46039f"
            ],
            [
             0.2222222222222222,
             "#7201a8"
            ],
            [
             0.3333333333333333,
             "#9c179e"
            ],
            [
             0.4444444444444444,
             "#bd3786"
            ],
            [
             0.5555555555555556,
             "#d8576b"
            ],
            [
             0.6666666666666666,
             "#ed7953"
            ],
            [
             0.7777777777777778,
             "#fb9f3a"
            ],
            [
             0.8888888888888888,
             "#fdca26"
            ],
            [
             1,
             "#f0f921"
            ]
           ],
           "sequentialminus": [
            [
             0,
             "#0d0887"
            ],
            [
             0.1111111111111111,
             "#46039f"
            ],
            [
             0.2222222222222222,
             "#7201a8"
            ],
            [
             0.3333333333333333,
             "#9c179e"
            ],
            [
             0.4444444444444444,
             "#bd3786"
            ],
            [
             0.5555555555555556,
             "#d8576b"
            ],
            [
             0.6666666666666666,
             "#ed7953"
            ],
            [
             0.7777777777777778,
             "#fb9f3a"
            ],
            [
             0.8888888888888888,
             "#fdca26"
            ],
            [
             1,
             "#f0f921"
            ]
           ]
          },
          "colorway": [
           "#636efa",
           "#EF553B",
           "#00cc96",
           "#ab63fa",
           "#FFA15A",
           "#19d3f3",
           "#FF6692",
           "#B6E880",
           "#FF97FF",
           "#FECB52"
          ],
          "font": {
           "color": "#2a3f5f"
          },
          "geo": {
           "bgcolor": "white",
           "lakecolor": "white",
           "landcolor": "#E5ECF6",
           "showlakes": true,
           "showland": true,
           "subunitcolor": "white"
          },
          "hoverlabel": {
           "align": "left"
          },
          "hovermode": "closest",
          "mapbox": {
           "style": "light"
          },
          "paper_bgcolor": "white",
          "plot_bgcolor": "#E5ECF6",
          "polar": {
           "angularaxis": {
            "gridcolor": "white",
            "linecolor": "white",
            "ticks": ""
           },
           "bgcolor": "#E5ECF6",
           "radialaxis": {
            "gridcolor": "white",
            "linecolor": "white",
            "ticks": ""
           }
          },
          "scene": {
           "xaxis": {
            "backgroundcolor": "#E5ECF6",
            "gridcolor": "white",
            "gridwidth": 2,
            "linecolor": "white",
            "showbackground": true,
            "ticks": "",
            "zerolinecolor": "white"
           },
           "yaxis": {
            "backgroundcolor": "#E5ECF6",
            "gridcolor": "white",
            "gridwidth": 2,
            "linecolor": "white",
            "showbackground": true,
            "ticks": "",
            "zerolinecolor": "white"
           },
           "zaxis": {
            "backgroundcolor": "#E5ECF6",
            "gridcolor": "white",
            "gridwidth": 2,
            "linecolor": "white",
            "showbackground": true,
            "ticks": "",
            "zerolinecolor": "white"
           }
          },
          "shapedefaults": {
           "line": {
            "color": "#2a3f5f"
           }
          },
          "ternary": {
           "aaxis": {
            "gridcolor": "white",
            "linecolor": "white",
            "ticks": ""
           },
           "baxis": {
            "gridcolor": "white",
            "linecolor": "white",
            "ticks": ""
           },
           "bgcolor": "#E5ECF6",
           "caxis": {
            "gridcolor": "white",
            "linecolor": "white",
            "ticks": ""
           }
          },
          "title": {
           "x": 0.05
          },
          "xaxis": {
           "automargin": true,
           "gridcolor": "white",
           "linecolor": "white",
           "ticks": "",
           "title": {
            "standoff": 15
           },
           "zerolinecolor": "white",
           "zerolinewidth": 2
          },
          "yaxis": {
           "automargin": true,
           "gridcolor": "white",
           "linecolor": "white",
           "ticks": "",
           "title": {
            "standoff": 15
           },
           "zerolinecolor": "white",
           "zerolinewidth": 2
          }
         }
        }
       }
      }
     },
     "metadata": {},
     "output_type": "display_data"
    }
   ],
   "source": [
    "y_list=[]\n",
    "for i in list(risk_user.payment_status.unique()):\n",
    "    y_list.append(risk_user[risk_user.payment_status==i].count()[0])\n",
    "\n",
    "fig = go.Figure([go.Bar(x=list(risk_user.payment_status.unique()), \n",
    "y=y_list)])\n",
    "fig"
   ]
  },
  {
   "cell_type": "markdown",
   "metadata": {},
   "source": [
    "- fig(5): dieser Plot zeigt den 'payment status' aller Risk-User. Es zeichnet sich heraus, dass die meisten Personen in dieser Gruppe einen Zahlungsstatus von 6 haben, also mit ihren Rückzahlungen stark im Verzug sind (siehe Tabelle 1) "
   ]
  },
  {
   "cell_type": "code",
   "execution_count": 23,
   "metadata": {},
   "outputs": [
    {
     "name": "stdout",
     "output_type": "stream",
     "text": [
      "Class=4, n=3 (4.761904761904762%)\n",
      "Class=6, n=44 (69.84126984126983%)\n",
      "Class=3, n=12 (19.047619047619047%)\n",
      "Class=5, n=4 (6.349206349206349%)\n"
     ]
    }
   ],
   "source": [
    "class_count(risk_user.payment_status)"
   ]
  },
  {
   "cell_type": "code",
   "execution_count": 24,
   "metadata": {},
   "outputs": [
    {
     "data": {
      "application/vnd.plotly.v1+json": {
       "config": {
        "plotlyServerURL": "https://plot.ly"
       },
       "data": [
        {
         "type": "bar",
         "x": [
          -1,
          1,
          0,
          2
         ],
         "y": [
          8890,
          4783,
          3138,
          169
         ]
        }
       ],
       "layout": {
        "template": {
         "data": {
          "bar": [
           {
            "error_x": {
             "color": "#2a3f5f"
            },
            "error_y": {
             "color": "#2a3f5f"
            },
            "marker": {
             "line": {
              "color": "#E5ECF6",
              "width": 0.5
             },
             "pattern": {
              "fillmode": "overlay",
              "size": 10,
              "solidity": 0.2
             }
            },
            "type": "bar"
           }
          ],
          "barpolar": [
           {
            "marker": {
             "line": {
              "color": "#E5ECF6",
              "width": 0.5
             },
             "pattern": {
              "fillmode": "overlay",
              "size": 10,
              "solidity": 0.2
             }
            },
            "type": "barpolar"
           }
          ],
          "carpet": [
           {
            "aaxis": {
             "endlinecolor": "#2a3f5f",
             "gridcolor": "white",
             "linecolor": "white",
             "minorgridcolor": "white",
             "startlinecolor": "#2a3f5f"
            },
            "baxis": {
             "endlinecolor": "#2a3f5f",
             "gridcolor": "white",
             "linecolor": "white",
             "minorgridcolor": "white",
             "startlinecolor": "#2a3f5f"
            },
            "type": "carpet"
           }
          ],
          "choropleth": [
           {
            "colorbar": {
             "outlinewidth": 0,
             "ticks": ""
            },
            "type": "choropleth"
           }
          ],
          "contour": [
           {
            "colorbar": {
             "outlinewidth": 0,
             "ticks": ""
            },
            "colorscale": [
             [
              0,
              "#0d0887"
             ],
             [
              0.1111111111111111,
              "#46039f"
             ],
             [
              0.2222222222222222,
              "#7201a8"
             ],
             [
              0.3333333333333333,
              "#9c179e"
             ],
             [
              0.4444444444444444,
              "#bd3786"
             ],
             [
              0.5555555555555556,
              "#d8576b"
             ],
             [
              0.6666666666666666,
              "#ed7953"
             ],
             [
              0.7777777777777778,
              "#fb9f3a"
             ],
             [
              0.8888888888888888,
              "#fdca26"
             ],
             [
              1,
              "#f0f921"
             ]
            ],
            "type": "contour"
           }
          ],
          "contourcarpet": [
           {
            "colorbar": {
             "outlinewidth": 0,
             "ticks": ""
            },
            "type": "contourcarpet"
           }
          ],
          "heatmap": [
           {
            "colorbar": {
             "outlinewidth": 0,
             "ticks": ""
            },
            "colorscale": [
             [
              0,
              "#0d0887"
             ],
             [
              0.1111111111111111,
              "#46039f"
             ],
             [
              0.2222222222222222,
              "#7201a8"
             ],
             [
              0.3333333333333333,
              "#9c179e"
             ],
             [
              0.4444444444444444,
              "#bd3786"
             ],
             [
              0.5555555555555556,
              "#d8576b"
             ],
             [
              0.6666666666666666,
              "#ed7953"
             ],
             [
              0.7777777777777778,
              "#fb9f3a"
             ],
             [
              0.8888888888888888,
              "#fdca26"
             ],
             [
              1,
              "#f0f921"
             ]
            ],
            "type": "heatmap"
           }
          ],
          "heatmapgl": [
           {
            "colorbar": {
             "outlinewidth": 0,
             "ticks": ""
            },
            "colorscale": [
             [
              0,
              "#0d0887"
             ],
             [
              0.1111111111111111,
              "#46039f"
             ],
             [
              0.2222222222222222,
              "#7201a8"
             ],
             [
              0.3333333333333333,
              "#9c179e"
             ],
             [
              0.4444444444444444,
              "#bd3786"
             ],
             [
              0.5555555555555556,
              "#d8576b"
             ],
             [
              0.6666666666666666,
              "#ed7953"
             ],
             [
              0.7777777777777778,
              "#fb9f3a"
             ],
             [
              0.8888888888888888,
              "#fdca26"
             ],
             [
              1,
              "#f0f921"
             ]
            ],
            "type": "heatmapgl"
           }
          ],
          "histogram": [
           {
            "marker": {
             "pattern": {
              "fillmode": "overlay",
              "size": 10,
              "solidity": 0.2
             }
            },
            "type": "histogram"
           }
          ],
          "histogram2d": [
           {
            "colorbar": {
             "outlinewidth": 0,
             "ticks": ""
            },
            "colorscale": [
             [
              0,
              "#0d0887"
             ],
             [
              0.1111111111111111,
              "#46039f"
             ],
             [
              0.2222222222222222,
              "#7201a8"
             ],
             [
              0.3333333333333333,
              "#9c179e"
             ],
             [
              0.4444444444444444,
              "#bd3786"
             ],
             [
              0.5555555555555556,
              "#d8576b"
             ],
             [
              0.6666666666666666,
              "#ed7953"
             ],
             [
              0.7777777777777778,
              "#fb9f3a"
             ],
             [
              0.8888888888888888,
              "#fdca26"
             ],
             [
              1,
              "#f0f921"
             ]
            ],
            "type": "histogram2d"
           }
          ],
          "histogram2dcontour": [
           {
            "colorbar": {
             "outlinewidth": 0,
             "ticks": ""
            },
            "colorscale": [
             [
              0,
              "#0d0887"
             ],
             [
              0.1111111111111111,
              "#46039f"
             ],
             [
              0.2222222222222222,
              "#7201a8"
             ],
             [
              0.3333333333333333,
              "#9c179e"
             ],
             [
              0.4444444444444444,
              "#bd3786"
             ],
             [
              0.5555555555555556,
              "#d8576b"
             ],
             [
              0.6666666666666666,
              "#ed7953"
             ],
             [
              0.7777777777777778,
              "#fb9f3a"
             ],
             [
              0.8888888888888888,
              "#fdca26"
             ],
             [
              1,
              "#f0f921"
             ]
            ],
            "type": "histogram2dcontour"
           }
          ],
          "mesh3d": [
           {
            "colorbar": {
             "outlinewidth": 0,
             "ticks": ""
            },
            "type": "mesh3d"
           }
          ],
          "parcoords": [
           {
            "line": {
             "colorbar": {
              "outlinewidth": 0,
              "ticks": ""
             }
            },
            "type": "parcoords"
           }
          ],
          "pie": [
           {
            "automargin": true,
            "type": "pie"
           }
          ],
          "scatter": [
           {
            "fillpattern": {
             "fillmode": "overlay",
             "size": 10,
             "solidity": 0.2
            },
            "type": "scatter"
           }
          ],
          "scatter3d": [
           {
            "line": {
             "colorbar": {
              "outlinewidth": 0,
              "ticks": ""
             }
            },
            "marker": {
             "colorbar": {
              "outlinewidth": 0,
              "ticks": ""
             }
            },
            "type": "scatter3d"
           }
          ],
          "scattercarpet": [
           {
            "marker": {
             "colorbar": {
              "outlinewidth": 0,
              "ticks": ""
             }
            },
            "type": "scattercarpet"
           }
          ],
          "scattergeo": [
           {
            "marker": {
             "colorbar": {
              "outlinewidth": 0,
              "ticks": ""
             }
            },
            "type": "scattergeo"
           }
          ],
          "scattergl": [
           {
            "marker": {
             "colorbar": {
              "outlinewidth": 0,
              "ticks": ""
             }
            },
            "type": "scattergl"
           }
          ],
          "scattermapbox": [
           {
            "marker": {
             "colorbar": {
              "outlinewidth": 0,
              "ticks": ""
             }
            },
            "type": "scattermapbox"
           }
          ],
          "scatterpolar": [
           {
            "marker": {
             "colorbar": {
              "outlinewidth": 0,
              "ticks": ""
             }
            },
            "type": "scatterpolar"
           }
          ],
          "scatterpolargl": [
           {
            "marker": {
             "colorbar": {
              "outlinewidth": 0,
              "ticks": ""
             }
            },
            "type": "scatterpolargl"
           }
          ],
          "scatterternary": [
           {
            "marker": {
             "colorbar": {
              "outlinewidth": 0,
              "ticks": ""
             }
            },
            "type": "scatterternary"
           }
          ],
          "surface": [
           {
            "colorbar": {
             "outlinewidth": 0,
             "ticks": ""
            },
            "colorscale": [
             [
              0,
              "#0d0887"
             ],
             [
              0.1111111111111111,
              "#46039f"
             ],
             [
              0.2222222222222222,
              "#7201a8"
             ],
             [
              0.3333333333333333,
              "#9c179e"
             ],
             [
              0.4444444444444444,
              "#bd3786"
             ],
             [
              0.5555555555555556,
              "#d8576b"
             ],
             [
              0.6666666666666666,
              "#ed7953"
             ],
             [
              0.7777777777777778,
              "#fb9f3a"
             ],
             [
              0.8888888888888888,
              "#fdca26"
             ],
             [
              1,
              "#f0f921"
             ]
            ],
            "type": "surface"
           }
          ],
          "table": [
           {
            "cells": {
             "fill": {
              "color": "#EBF0F8"
             },
             "line": {
              "color": "white"
             }
            },
            "header": {
             "fill": {
              "color": "#C8D4E3"
             },
             "line": {
              "color": "white"
             }
            },
            "type": "table"
           }
          ]
         },
         "layout": {
          "annotationdefaults": {
           "arrowcolor": "#2a3f5f",
           "arrowhead": 0,
           "arrowwidth": 1
          },
          "autotypenumbers": "strict",
          "coloraxis": {
           "colorbar": {
            "outlinewidth": 0,
            "ticks": ""
           }
          },
          "colorscale": {
           "diverging": [
            [
             0,
             "#8e0152"
            ],
            [
             0.1,
             "#c51b7d"
            ],
            [
             0.2,
             "#de77ae"
            ],
            [
             0.3,
             "#f1b6da"
            ],
            [
             0.4,
             "#fde0ef"
            ],
            [
             0.5,
             "#f7f7f7"
            ],
            [
             0.6,
             "#e6f5d0"
            ],
            [
             0.7,
             "#b8e186"
            ],
            [
             0.8,
             "#7fbc41"
            ],
            [
             0.9,
             "#4d9221"
            ],
            [
             1,
             "#276419"
            ]
           ],
           "sequential": [
            [
             0,
             "#0d0887"
            ],
            [
             0.1111111111111111,
             "#46039f"
            ],
            [
             0.2222222222222222,
             "#7201a8"
            ],
            [
             0.3333333333333333,
             "#9c179e"
            ],
            [
             0.4444444444444444,
             "#bd3786"
            ],
            [
             0.5555555555555556,
             "#d8576b"
            ],
            [
             0.6666666666666666,
             "#ed7953"
            ],
            [
             0.7777777777777778,
             "#fb9f3a"
            ],
            [
             0.8888888888888888,
             "#fdca26"
            ],
            [
             1,
             "#f0f921"
            ]
           ],
           "sequentialminus": [
            [
             0,
             "#0d0887"
            ],
            [
             0.1111111111111111,
             "#46039f"
            ],
            [
             0.2222222222222222,
             "#7201a8"
            ],
            [
             0.3333333333333333,
             "#9c179e"
            ],
            [
             0.4444444444444444,
             "#bd3786"
            ],
            [
             0.5555555555555556,
             "#d8576b"
            ],
            [
             0.6666666666666666,
             "#ed7953"
            ],
            [
             0.7777777777777778,
             "#fb9f3a"
            ],
            [
             0.8888888888888888,
             "#fdca26"
            ],
            [
             1,
             "#f0f921"
            ]
           ]
          },
          "colorway": [
           "#636efa",
           "#EF553B",
           "#00cc96",
           "#ab63fa",
           "#FFA15A",
           "#19d3f3",
           "#FF6692",
           "#B6E880",
           "#FF97FF",
           "#FECB52"
          ],
          "font": {
           "color": "#2a3f5f"
          },
          "geo": {
           "bgcolor": "white",
           "lakecolor": "white",
           "landcolor": "#E5ECF6",
           "showlakes": true,
           "showland": true,
           "subunitcolor": "white"
          },
          "hoverlabel": {
           "align": "left"
          },
          "hovermode": "closest",
          "mapbox": {
           "style": "light"
          },
          "paper_bgcolor": "white",
          "plot_bgcolor": "#E5ECF6",
          "polar": {
           "angularaxis": {
            "gridcolor": "white",
            "linecolor": "white",
            "ticks": ""
           },
           "bgcolor": "#E5ECF6",
           "radialaxis": {
            "gridcolor": "white",
            "linecolor": "white",
            "ticks": ""
           }
          },
          "scene": {
           "xaxis": {
            "backgroundcolor": "#E5ECF6",
            "gridcolor": "white",
            "gridwidth": 2,
            "linecolor": "white",
            "showbackground": true,
            "ticks": "",
            "zerolinecolor": "white"
           },
           "yaxis": {
            "backgroundcolor": "#E5ECF6",
            "gridcolor": "white",
            "gridwidth": 2,
            "linecolor": "white",
            "showbackground": true,
            "ticks": "",
            "zerolinecolor": "white"
           },
           "zaxis": {
            "backgroundcolor": "#E5ECF6",
            "gridcolor": "white",
            "gridwidth": 2,
            "linecolor": "white",
            "showbackground": true,
            "ticks": "",
            "zerolinecolor": "white"
           }
          },
          "shapedefaults": {
           "line": {
            "color": "#2a3f5f"
           }
          },
          "ternary": {
           "aaxis": {
            "gridcolor": "white",
            "linecolor": "white",
            "ticks": ""
           },
           "baxis": {
            "gridcolor": "white",
            "linecolor": "white",
            "ticks": ""
           },
           "bgcolor": "#E5ECF6",
           "caxis": {
            "gridcolor": "white",
            "linecolor": "white",
            "ticks": ""
           }
          },
          "title": {
           "x": 0.05
          },
          "xaxis": {
           "automargin": true,
           "gridcolor": "white",
           "linecolor": "white",
           "ticks": "",
           "title": {
            "standoff": 15
           },
           "zerolinecolor": "white",
           "zerolinewidth": 2
          },
          "yaxis": {
           "automargin": true,
           "gridcolor": "white",
           "linecolor": "white",
           "ticks": "",
           "title": {
            "standoff": 15
           },
           "zerolinecolor": "white",
           "zerolinewidth": 2
          }
         }
        }
       }
      }
     },
     "metadata": {},
     "output_type": "display_data"
    }
   ],
   "source": [
    "y_list=[]\n",
    "for i in list(non_risk_user.payment_status.unique()):\n",
    "    y_list.append(non_risk_user[non_risk_user.payment_status==i].count()[0])\n",
    "\n",
    "fig = go.Figure([go.Bar(x=list(non_risk_user.payment_status.unique()), \n",
    "y=y_list)])\n",
    "fig"
   ]
  },
  {
   "cell_type": "markdown",
   "metadata": {},
   "source": [
    "- fig(6): Dieser Plot zeigt den Zahlungsstatus aller Non-Risk-User. Sie sind mit ihren Rückzahlungen Pünktlich oder nur leicht im Verzug, was einen starken Kontrast zu den Risk-Usern darstellt."
   ]
  },
  {
   "cell_type": "code",
   "execution_count": 25,
   "metadata": {},
   "outputs": [
    {
     "name": "stdout",
     "output_type": "stream",
     "text": [
      "Class=-1, n=8890 (52.35571260306242%)\n",
      "Class=1, n=4783 (28.16843345111896%)\n",
      "Class=0, n=3138 (18.480565371024735%)\n",
      "Class=2, n=169 (0.9952885747938751%)\n"
     ]
    }
   ],
   "source": [
    "class_count(non_risk_user.payment_status)"
   ]
  },
  {
   "cell_type": "code",
   "execution_count": 26,
   "metadata": {},
   "outputs": [
    {
     "data": {
      "application/vnd.plotly.v1+json": {
       "config": {
        "plotlyServerURL": "https://plot.ly"
       },
       "data": [
        {
         "type": "bar",
         "x": [
          "Co-op apartment",
          "House / apartment",
          "Rented apartment",
          "With parents",
          "Municipal apartment"
         ],
         "y": [
          1,
          54,
          1,
          3,
          4
         ]
        }
       ],
       "layout": {
        "template": {
         "data": {
          "bar": [
           {
            "error_x": {
             "color": "#2a3f5f"
            },
            "error_y": {
             "color": "#2a3f5f"
            },
            "marker": {
             "line": {
              "color": "#E5ECF6",
              "width": 0.5
             },
             "pattern": {
              "fillmode": "overlay",
              "size": 10,
              "solidity": 0.2
             }
            },
            "type": "bar"
           }
          ],
          "barpolar": [
           {
            "marker": {
             "line": {
              "color": "#E5ECF6",
              "width": 0.5
             },
             "pattern": {
              "fillmode": "overlay",
              "size": 10,
              "solidity": 0.2
             }
            },
            "type": "barpolar"
           }
          ],
          "carpet": [
           {
            "aaxis": {
             "endlinecolor": "#2a3f5f",
             "gridcolor": "white",
             "linecolor": "white",
             "minorgridcolor": "white",
             "startlinecolor": "#2a3f5f"
            },
            "baxis": {
             "endlinecolor": "#2a3f5f",
             "gridcolor": "white",
             "linecolor": "white",
             "minorgridcolor": "white",
             "startlinecolor": "#2a3f5f"
            },
            "type": "carpet"
           }
          ],
          "choropleth": [
           {
            "colorbar": {
             "outlinewidth": 0,
             "ticks": ""
            },
            "type": "choropleth"
           }
          ],
          "contour": [
           {
            "colorbar": {
             "outlinewidth": 0,
             "ticks": ""
            },
            "colorscale": [
             [
              0,
              "#0d0887"
             ],
             [
              0.1111111111111111,
              "#46039f"
             ],
             [
              0.2222222222222222,
              "#7201a8"
             ],
             [
              0.3333333333333333,
              "#9c179e"
             ],
             [
              0.4444444444444444,
              "#bd3786"
             ],
             [
              0.5555555555555556,
              "#d8576b"
             ],
             [
              0.6666666666666666,
              "#ed7953"
             ],
             [
              0.7777777777777778,
              "#fb9f3a"
             ],
             [
              0.8888888888888888,
              "#fdca26"
             ],
             [
              1,
              "#f0f921"
             ]
            ],
            "type": "contour"
           }
          ],
          "contourcarpet": [
           {
            "colorbar": {
             "outlinewidth": 0,
             "ticks": ""
            },
            "type": "contourcarpet"
           }
          ],
          "heatmap": [
           {
            "colorbar": {
             "outlinewidth": 0,
             "ticks": ""
            },
            "colorscale": [
             [
              0,
              "#0d0887"
             ],
             [
              0.1111111111111111,
              "#46039f"
             ],
             [
              0.2222222222222222,
              "#7201a8"
             ],
             [
              0.3333333333333333,
              "#9c179e"
             ],
             [
              0.4444444444444444,
              "#bd3786"
             ],
             [
              0.5555555555555556,
              "#d8576b"
             ],
             [
              0.6666666666666666,
              "#ed7953"
             ],
             [
              0.7777777777777778,
              "#fb9f3a"
             ],
             [
              0.8888888888888888,
              "#fdca26"
             ],
             [
              1,
              "#f0f921"
             ]
            ],
            "type": "heatmap"
           }
          ],
          "heatmapgl": [
           {
            "colorbar": {
             "outlinewidth": 0,
             "ticks": ""
            },
            "colorscale": [
             [
              0,
              "#0d0887"
             ],
             [
              0.1111111111111111,
              "#46039f"
             ],
             [
              0.2222222222222222,
              "#7201a8"
             ],
             [
              0.3333333333333333,
              "#9c179e"
             ],
             [
              0.4444444444444444,
              "#bd3786"
             ],
             [
              0.5555555555555556,
              "#d8576b"
             ],
             [
              0.6666666666666666,
              "#ed7953"
             ],
             [
              0.7777777777777778,
              "#fb9f3a"
             ],
             [
              0.8888888888888888,
              "#fdca26"
             ],
             [
              1,
              "#f0f921"
             ]
            ],
            "type": "heatmapgl"
           }
          ],
          "histogram": [
           {
            "marker": {
             "pattern": {
              "fillmode": "overlay",
              "size": 10,
              "solidity": 0.2
             }
            },
            "type": "histogram"
           }
          ],
          "histogram2d": [
           {
            "colorbar": {
             "outlinewidth": 0,
             "ticks": ""
            },
            "colorscale": [
             [
              0,
              "#0d0887"
             ],
             [
              0.1111111111111111,
              "#46039f"
             ],
             [
              0.2222222222222222,
              "#7201a8"
             ],
             [
              0.3333333333333333,
              "#9c179e"
             ],
             [
              0.4444444444444444,
              "#bd3786"
             ],
             [
              0.5555555555555556,
              "#d8576b"
             ],
             [
              0.6666666666666666,
              "#ed7953"
             ],
             [
              0.7777777777777778,
              "#fb9f3a"
             ],
             [
              0.8888888888888888,
              "#fdca26"
             ],
             [
              1,
              "#f0f921"
             ]
            ],
            "type": "histogram2d"
           }
          ],
          "histogram2dcontour": [
           {
            "colorbar": {
             "outlinewidth": 0,
             "ticks": ""
            },
            "colorscale": [
             [
              0,
              "#0d0887"
             ],
             [
              0.1111111111111111,
              "#46039f"
             ],
             [
              0.2222222222222222,
              "#7201a8"
             ],
             [
              0.3333333333333333,
              "#9c179e"
             ],
             [
              0.4444444444444444,
              "#bd3786"
             ],
             [
              0.5555555555555556,
              "#d8576b"
             ],
             [
              0.6666666666666666,
              "#ed7953"
             ],
             [
              0.7777777777777778,
              "#fb9f3a"
             ],
             [
              0.8888888888888888,
              "#fdca26"
             ],
             [
              1,
              "#f0f921"
             ]
            ],
            "type": "histogram2dcontour"
           }
          ],
          "mesh3d": [
           {
            "colorbar": {
             "outlinewidth": 0,
             "ticks": ""
            },
            "type": "mesh3d"
           }
          ],
          "parcoords": [
           {
            "line": {
             "colorbar": {
              "outlinewidth": 0,
              "ticks": ""
             }
            },
            "type": "parcoords"
           }
          ],
          "pie": [
           {
            "automargin": true,
            "type": "pie"
           }
          ],
          "scatter": [
           {
            "fillpattern": {
             "fillmode": "overlay",
             "size": 10,
             "solidity": 0.2
            },
            "type": "scatter"
           }
          ],
          "scatter3d": [
           {
            "line": {
             "colorbar": {
              "outlinewidth": 0,
              "ticks": ""
             }
            },
            "marker": {
             "colorbar": {
              "outlinewidth": 0,
              "ticks": ""
             }
            },
            "type": "scatter3d"
           }
          ],
          "scattercarpet": [
           {
            "marker": {
             "colorbar": {
              "outlinewidth": 0,
              "ticks": ""
             }
            },
            "type": "scattercarpet"
           }
          ],
          "scattergeo": [
           {
            "marker": {
             "colorbar": {
              "outlinewidth": 0,
              "ticks": ""
             }
            },
            "type": "scattergeo"
           }
          ],
          "scattergl": [
           {
            "marker": {
             "colorbar": {
              "outlinewidth": 0,
              "ticks": ""
             }
            },
            "type": "scattergl"
           }
          ],
          "scattermapbox": [
           {
            "marker": {
             "colorbar": {
              "outlinewidth": 0,
              "ticks": ""
             }
            },
            "type": "scattermapbox"
           }
          ],
          "scatterpolar": [
           {
            "marker": {
             "colorbar": {
              "outlinewidth": 0,
              "ticks": ""
             }
            },
            "type": "scatterpolar"
           }
          ],
          "scatterpolargl": [
           {
            "marker": {
             "colorbar": {
              "outlinewidth": 0,
              "ticks": ""
             }
            },
            "type": "scatterpolargl"
           }
          ],
          "scatterternary": [
           {
            "marker": {
             "colorbar": {
              "outlinewidth": 0,
              "ticks": ""
             }
            },
            "type": "scatterternary"
           }
          ],
          "surface": [
           {
            "colorbar": {
             "outlinewidth": 0,
             "ticks": ""
            },
            "colorscale": [
             [
              0,
              "#0d0887"
             ],
             [
              0.1111111111111111,
              "#46039f"
             ],
             [
              0.2222222222222222,
              "#7201a8"
             ],
             [
              0.3333333333333333,
              "#9c179e"
             ],
             [
              0.4444444444444444,
              "#bd3786"
             ],
             [
              0.5555555555555556,
              "#d8576b"
             ],
             [
              0.6666666666666666,
              "#ed7953"
             ],
             [
              0.7777777777777778,
              "#fb9f3a"
             ],
             [
              0.8888888888888888,
              "#fdca26"
             ],
             [
              1,
              "#f0f921"
             ]
            ],
            "type": "surface"
           }
          ],
          "table": [
           {
            "cells": {
             "fill": {
              "color": "#EBF0F8"
             },
             "line": {
              "color": "white"
             }
            },
            "header": {
             "fill": {
              "color": "#C8D4E3"
             },
             "line": {
              "color": "white"
             }
            },
            "type": "table"
           }
          ]
         },
         "layout": {
          "annotationdefaults": {
           "arrowcolor": "#2a3f5f",
           "arrowhead": 0,
           "arrowwidth": 1
          },
          "autotypenumbers": "strict",
          "coloraxis": {
           "colorbar": {
            "outlinewidth": 0,
            "ticks": ""
           }
          },
          "colorscale": {
           "diverging": [
            [
             0,
             "#8e0152"
            ],
            [
             0.1,
             "#c51b7d"
            ],
            [
             0.2,
             "#de77ae"
            ],
            [
             0.3,
             "#f1b6da"
            ],
            [
             0.4,
             "#fde0ef"
            ],
            [
             0.5,
             "#f7f7f7"
            ],
            [
             0.6,
             "#e6f5d0"
            ],
            [
             0.7,
             "#b8e186"
            ],
            [
             0.8,
             "#7fbc41"
            ],
            [
             0.9,
             "#4d9221"
            ],
            [
             1,
             "#276419"
            ]
           ],
           "sequential": [
            [
             0,
             "#0d0887"
            ],
            [
             0.1111111111111111,
             "#46039f"
            ],
            [
             0.2222222222222222,
             "#7201a8"
            ],
            [
             0.3333333333333333,
             "#9c179e"
            ],
            [
             0.4444444444444444,
             "#bd3786"
            ],
            [
             0.5555555555555556,
             "#d8576b"
            ],
            [
             0.6666666666666666,
             "#ed7953"
            ],
            [
             0.7777777777777778,
             "#fb9f3a"
            ],
            [
             0.8888888888888888,
             "#fdca26"
            ],
            [
             1,
             "#f0f921"
            ]
           ],
           "sequentialminus": [
            [
             0,
             "#0d0887"
            ],
            [
             0.1111111111111111,
             "#46039f"
            ],
            [
             0.2222222222222222,
             "#7201a8"
            ],
            [
             0.3333333333333333,
             "#9c179e"
            ],
            [
             0.4444444444444444,
             "#bd3786"
            ],
            [
             0.5555555555555556,
             "#d8576b"
            ],
            [
             0.6666666666666666,
             "#ed7953"
            ],
            [
             0.7777777777777778,
             "#fb9f3a"
            ],
            [
             0.8888888888888888,
             "#fdca26"
            ],
            [
             1,
             "#f0f921"
            ]
           ]
          },
          "colorway": [
           "#636efa",
           "#EF553B",
           "#00cc96",
           "#ab63fa",
           "#FFA15A",
           "#19d3f3",
           "#FF6692",
           "#B6E880",
           "#FF97FF",
           "#FECB52"
          ],
          "font": {
           "color": "#2a3f5f"
          },
          "geo": {
           "bgcolor": "white",
           "lakecolor": "white",
           "landcolor": "#E5ECF6",
           "showlakes": true,
           "showland": true,
           "subunitcolor": "white"
          },
          "hoverlabel": {
           "align": "left"
          },
          "hovermode": "closest",
          "mapbox": {
           "style": "light"
          },
          "paper_bgcolor": "white",
          "plot_bgcolor": "#E5ECF6",
          "polar": {
           "angularaxis": {
            "gridcolor": "white",
            "linecolor": "white",
            "ticks": ""
           },
           "bgcolor": "#E5ECF6",
           "radialaxis": {
            "gridcolor": "white",
            "linecolor": "white",
            "ticks": ""
           }
          },
          "scene": {
           "xaxis": {
            "backgroundcolor": "#E5ECF6",
            "gridcolor": "white",
            "gridwidth": 2,
            "linecolor": "white",
            "showbackground": true,
            "ticks": "",
            "zerolinecolor": "white"
           },
           "yaxis": {
            "backgroundcolor": "#E5ECF6",
            "gridcolor": "white",
            "gridwidth": 2,
            "linecolor": "white",
            "showbackground": true,
            "ticks": "",
            "zerolinecolor": "white"
           },
           "zaxis": {
            "backgroundcolor": "#E5ECF6",
            "gridcolor": "white",
            "gridwidth": 2,
            "linecolor": "white",
            "showbackground": true,
            "ticks": "",
            "zerolinecolor": "white"
           }
          },
          "shapedefaults": {
           "line": {
            "color": "#2a3f5f"
           }
          },
          "ternary": {
           "aaxis": {
            "gridcolor": "white",
            "linecolor": "white",
            "ticks": ""
           },
           "baxis": {
            "gridcolor": "white",
            "linecolor": "white",
            "ticks": ""
           },
           "bgcolor": "#E5ECF6",
           "caxis": {
            "gridcolor": "white",
            "linecolor": "white",
            "ticks": ""
           }
          },
          "title": {
           "x": 0.05
          },
          "xaxis": {
           "automargin": true,
           "gridcolor": "white",
           "linecolor": "white",
           "ticks": "",
           "title": {
            "standoff": 15
           },
           "zerolinecolor": "white",
           "zerolinewidth": 2
          },
          "yaxis": {
           "automargin": true,
           "gridcolor": "white",
           "linecolor": "white",
           "ticks": "",
           "title": {
            "standoff": 15
           },
           "zerolinecolor": "white",
           "zerolinewidth": 2
          }
         }
        }
       }
      }
     },
     "metadata": {},
     "output_type": "display_data"
    }
   ],
   "source": [
    "y_list=[]\n",
    "for i in list(risk_user.housing_type.unique()):\n",
    "    y_list.append(risk_user[risk_user.housing_type==i].count()[0])\n",
    "\n",
    "fig = go.Figure([go.Bar(x=list(risk_user.housing_type.unique()), \n",
    "y=y_list)])\n",
    "fig\n"
   ]
  },
  {
   "cell_type": "code",
   "execution_count": 27,
   "metadata": {},
   "outputs": [
    {
     "data": {
      "application/vnd.plotly.v1+json": {
       "config": {
        "plotlyServerURL": "https://plot.ly"
       },
       "data": [
        {
         "type": "bar",
         "x": [
          "House / apartment",
          "Rented apartment",
          "Municipal apartment",
          "With parents",
          "Co-op apartment",
          "Office apartment"
         ],
         "y": [
          14927,
          294,
          555,
          977,
          95,
          132
         ]
        }
       ],
       "layout": {
        "template": {
         "data": {
          "bar": [
           {
            "error_x": {
             "color": "#2a3f5f"
            },
            "error_y": {
             "color": "#2a3f5f"
            },
            "marker": {
             "line": {
              "color": "#E5ECF6",
              "width": 0.5
             },
             "pattern": {
              "fillmode": "overlay",
              "size": 10,
              "solidity": 0.2
             }
            },
            "type": "bar"
           }
          ],
          "barpolar": [
           {
            "marker": {
             "line": {
              "color": "#E5ECF6",
              "width": 0.5
             },
             "pattern": {
              "fillmode": "overlay",
              "size": 10,
              "solidity": 0.2
             }
            },
            "type": "barpolar"
           }
          ],
          "carpet": [
           {
            "aaxis": {
             "endlinecolor": "#2a3f5f",
             "gridcolor": "white",
             "linecolor": "white",
             "minorgridcolor": "white",
             "startlinecolor": "#2a3f5f"
            },
            "baxis": {
             "endlinecolor": "#2a3f5f",
             "gridcolor": "white",
             "linecolor": "white",
             "minorgridcolor": "white",
             "startlinecolor": "#2a3f5f"
            },
            "type": "carpet"
           }
          ],
          "choropleth": [
           {
            "colorbar": {
             "outlinewidth": 0,
             "ticks": ""
            },
            "type": "choropleth"
           }
          ],
          "contour": [
           {
            "colorbar": {
             "outlinewidth": 0,
             "ticks": ""
            },
            "colorscale": [
             [
              0,
              "#0d0887"
             ],
             [
              0.1111111111111111,
              "#46039f"
             ],
             [
              0.2222222222222222,
              "#7201a8"
             ],
             [
              0.3333333333333333,
              "#9c179e"
             ],
             [
              0.4444444444444444,
              "#bd3786"
             ],
             [
              0.5555555555555556,
              "#d8576b"
             ],
             [
              0.6666666666666666,
              "#ed7953"
             ],
             [
              0.7777777777777778,
              "#fb9f3a"
             ],
             [
              0.8888888888888888,
              "#fdca26"
             ],
             [
              1,
              "#f0f921"
             ]
            ],
            "type": "contour"
           }
          ],
          "contourcarpet": [
           {
            "colorbar": {
             "outlinewidth": 0,
             "ticks": ""
            },
            "type": "contourcarpet"
           }
          ],
          "heatmap": [
           {
            "colorbar": {
             "outlinewidth": 0,
             "ticks": ""
            },
            "colorscale": [
             [
              0,
              "#0d0887"
             ],
             [
              0.1111111111111111,
              "#46039f"
             ],
             [
              0.2222222222222222,
              "#7201a8"
             ],
             [
              0.3333333333333333,
              "#9c179e"
             ],
             [
              0.4444444444444444,
              "#bd3786"
             ],
             [
              0.5555555555555556,
              "#d8576b"
             ],
             [
              0.6666666666666666,
              "#ed7953"
             ],
             [
              0.7777777777777778,
              "#fb9f3a"
             ],
             [
              0.8888888888888888,
              "#fdca26"
             ],
             [
              1,
              "#f0f921"
             ]
            ],
            "type": "heatmap"
           }
          ],
          "heatmapgl": [
           {
            "colorbar": {
             "outlinewidth": 0,
             "ticks": ""
            },
            "colorscale": [
             [
              0,
              "#0d0887"
             ],
             [
              0.1111111111111111,
              "#46039f"
             ],
             [
              0.2222222222222222,
              "#7201a8"
             ],
             [
              0.3333333333333333,
              "#9c179e"
             ],
             [
              0.4444444444444444,
              "#bd3786"
             ],
             [
              0.5555555555555556,
              "#d8576b"
             ],
             [
              0.6666666666666666,
              "#ed7953"
             ],
             [
              0.7777777777777778,
              "#fb9f3a"
             ],
             [
              0.8888888888888888,
              "#fdca26"
             ],
             [
              1,
              "#f0f921"
             ]
            ],
            "type": "heatmapgl"
           }
          ],
          "histogram": [
           {
            "marker": {
             "pattern": {
              "fillmode": "overlay",
              "size": 10,
              "solidity": 0.2
             }
            },
            "type": "histogram"
           }
          ],
          "histogram2d": [
           {
            "colorbar": {
             "outlinewidth": 0,
             "ticks": ""
            },
            "colorscale": [
             [
              0,
              "#0d0887"
             ],
             [
              0.1111111111111111,
              "#46039f"
             ],
             [
              0.2222222222222222,
              "#7201a8"
             ],
             [
              0.3333333333333333,
              "#9c179e"
             ],
             [
              0.4444444444444444,
              "#bd3786"
             ],
             [
              0.5555555555555556,
              "#d8576b"
             ],
             [
              0.6666666666666666,
              "#ed7953"
             ],
             [
              0.7777777777777778,
              "#fb9f3a"
             ],
             [
              0.8888888888888888,
              "#fdca26"
             ],
             [
              1,
              "#f0f921"
             ]
            ],
            "type": "histogram2d"
           }
          ],
          "histogram2dcontour": [
           {
            "colorbar": {
             "outlinewidth": 0,
             "ticks": ""
            },
            "colorscale": [
             [
              0,
              "#0d0887"
             ],
             [
              0.1111111111111111,
              "#46039f"
             ],
             [
              0.2222222222222222,
              "#7201a8"
             ],
             [
              0.3333333333333333,
              "#9c179e"
             ],
             [
              0.4444444444444444,
              "#bd3786"
             ],
             [
              0.5555555555555556,
              "#d8576b"
             ],
             [
              0.6666666666666666,
              "#ed7953"
             ],
             [
              0.7777777777777778,
              "#fb9f3a"
             ],
             [
              0.8888888888888888,
              "#fdca26"
             ],
             [
              1,
              "#f0f921"
             ]
            ],
            "type": "histogram2dcontour"
           }
          ],
          "mesh3d": [
           {
            "colorbar": {
             "outlinewidth": 0,
             "ticks": ""
            },
            "type": "mesh3d"
           }
          ],
          "parcoords": [
           {
            "line": {
             "colorbar": {
              "outlinewidth": 0,
              "ticks": ""
             }
            },
            "type": "parcoords"
           }
          ],
          "pie": [
           {
            "automargin": true,
            "type": "pie"
           }
          ],
          "scatter": [
           {
            "fillpattern": {
             "fillmode": "overlay",
             "size": 10,
             "solidity": 0.2
            },
            "type": "scatter"
           }
          ],
          "scatter3d": [
           {
            "line": {
             "colorbar": {
              "outlinewidth": 0,
              "ticks": ""
             }
            },
            "marker": {
             "colorbar": {
              "outlinewidth": 0,
              "ticks": ""
             }
            },
            "type": "scatter3d"
           }
          ],
          "scattercarpet": [
           {
            "marker": {
             "colorbar": {
              "outlinewidth": 0,
              "ticks": ""
             }
            },
            "type": "scattercarpet"
           }
          ],
          "scattergeo": [
           {
            "marker": {
             "colorbar": {
              "outlinewidth": 0,
              "ticks": ""
             }
            },
            "type": "scattergeo"
           }
          ],
          "scattergl": [
           {
            "marker": {
             "colorbar": {
              "outlinewidth": 0,
              "ticks": ""
             }
            },
            "type": "scattergl"
           }
          ],
          "scattermapbox": [
           {
            "marker": {
             "colorbar": {
              "outlinewidth": 0,
              "ticks": ""
             }
            },
            "type": "scattermapbox"
           }
          ],
          "scatterpolar": [
           {
            "marker": {
             "colorbar": {
              "outlinewidth": 0,
              "ticks": ""
             }
            },
            "type": "scatterpolar"
           }
          ],
          "scatterpolargl": [
           {
            "marker": {
             "colorbar": {
              "outlinewidth": 0,
              "ticks": ""
             }
            },
            "type": "scatterpolargl"
           }
          ],
          "scatterternary": [
           {
            "marker": {
             "colorbar": {
              "outlinewidth": 0,
              "ticks": ""
             }
            },
            "type": "scatterternary"
           }
          ],
          "surface": [
           {
            "colorbar": {
             "outlinewidth": 0,
             "ticks": ""
            },
            "colorscale": [
             [
              0,
              "#0d0887"
             ],
             [
              0.1111111111111111,
              "#46039f"
             ],
             [
              0.2222222222222222,
              "#7201a8"
             ],
             [
              0.3333333333333333,
              "#9c179e"
             ],
             [
              0.4444444444444444,
              "#bd3786"
             ],
             [
              0.5555555555555556,
              "#d8576b"
             ],
             [
              0.6666666666666666,
              "#ed7953"
             ],
             [
              0.7777777777777778,
              "#fb9f3a"
             ],
             [
              0.8888888888888888,
              "#fdca26"
             ],
             [
              1,
              "#f0f921"
             ]
            ],
            "type": "surface"
           }
          ],
          "table": [
           {
            "cells": {
             "fill": {
              "color": "#EBF0F8"
             },
             "line": {
              "color": "white"
             }
            },
            "header": {
             "fill": {
              "color": "#C8D4E3"
             },
             "line": {
              "color": "white"
             }
            },
            "type": "table"
           }
          ]
         },
         "layout": {
          "annotationdefaults": {
           "arrowcolor": "#2a3f5f",
           "arrowhead": 0,
           "arrowwidth": 1
          },
          "autotypenumbers": "strict",
          "coloraxis": {
           "colorbar": {
            "outlinewidth": 0,
            "ticks": ""
           }
          },
          "colorscale": {
           "diverging": [
            [
             0,
             "#8e0152"
            ],
            [
             0.1,
             "#c51b7d"
            ],
            [
             0.2,
             "#de77ae"
            ],
            [
             0.3,
             "#f1b6da"
            ],
            [
             0.4,
             "#fde0ef"
            ],
            [
             0.5,
             "#f7f7f7"
            ],
            [
             0.6,
             "#e6f5d0"
            ],
            [
             0.7,
             "#b8e186"
            ],
            [
             0.8,
             "#7fbc41"
            ],
            [
             0.9,
             "#4d9221"
            ],
            [
             1,
             "#276419"
            ]
           ],
           "sequential": [
            [
             0,
             "#0d0887"
            ],
            [
             0.1111111111111111,
             "#46039f"
            ],
            [
             0.2222222222222222,
             "#7201a8"
            ],
            [
             0.3333333333333333,
             "#9c179e"
            ],
            [
             0.4444444444444444,
             "#bd3786"
            ],
            [
             0.5555555555555556,
             "#d8576b"
            ],
            [
             0.6666666666666666,
             "#ed7953"
            ],
            [
             0.7777777777777778,
             "#fb9f3a"
            ],
            [
             0.8888888888888888,
             "#fdca26"
            ],
            [
             1,
             "#f0f921"
            ]
           ],
           "sequentialminus": [
            [
             0,
             "#0d0887"
            ],
            [
             0.1111111111111111,
             "#46039f"
            ],
            [
             0.2222222222222222,
             "#7201a8"
            ],
            [
             0.3333333333333333,
             "#9c179e"
            ],
            [
             0.4444444444444444,
             "#bd3786"
            ],
            [
             0.5555555555555556,
             "#d8576b"
            ],
            [
             0.6666666666666666,
             "#ed7953"
            ],
            [
             0.7777777777777778,
             "#fb9f3a"
            ],
            [
             0.8888888888888888,
             "#fdca26"
            ],
            [
             1,
             "#f0f921"
            ]
           ]
          },
          "colorway": [
           "#636efa",
           "#EF553B",
           "#00cc96",
           "#ab63fa",
           "#FFA15A",
           "#19d3f3",
           "#FF6692",
           "#B6E880",
           "#FF97FF",
           "#FECB52"
          ],
          "font": {
           "color": "#2a3f5f"
          },
          "geo": {
           "bgcolor": "white",
           "lakecolor": "white",
           "landcolor": "#E5ECF6",
           "showlakes": true,
           "showland": true,
           "subunitcolor": "white"
          },
          "hoverlabel": {
           "align": "left"
          },
          "hovermode": "closest",
          "mapbox": {
           "style": "light"
          },
          "paper_bgcolor": "white",
          "plot_bgcolor": "#E5ECF6",
          "polar": {
           "angularaxis": {
            "gridcolor": "white",
            "linecolor": "white",
            "ticks": ""
           },
           "bgcolor": "#E5ECF6",
           "radialaxis": {
            "gridcolor": "white",
            "linecolor": "white",
            "ticks": ""
           }
          },
          "scene": {
           "xaxis": {
            "backgroundcolor": "#E5ECF6",
            "gridcolor": "white",
            "gridwidth": 2,
            "linecolor": "white",
            "showbackground": true,
            "ticks": "",
            "zerolinecolor": "white"
           },
           "yaxis": {
            "backgroundcolor": "#E5ECF6",
            "gridcolor": "white",
            "gridwidth": 2,
            "linecolor": "white",
            "showbackground": true,
            "ticks": "",
            "zerolinecolor": "white"
           },
           "zaxis": {
            "backgroundcolor": "#E5ECF6",
            "gridcolor": "white",
            "gridwidth": 2,
            "linecolor": "white",
            "showbackground": true,
            "ticks": "",
            "zerolinecolor": "white"
           }
          },
          "shapedefaults": {
           "line": {
            "color": "#2a3f5f"
           }
          },
          "ternary": {
           "aaxis": {
            "gridcolor": "white",
            "linecolor": "white",
            "ticks": ""
           },
           "baxis": {
            "gridcolor": "white",
            "linecolor": "white",
            "ticks": ""
           },
           "bgcolor": "#E5ECF6",
           "caxis": {
            "gridcolor": "white",
            "linecolor": "white",
            "ticks": ""
           }
          },
          "title": {
           "x": 0.05
          },
          "xaxis": {
           "automargin": true,
           "gridcolor": "white",
           "linecolor": "white",
           "ticks": "",
           "title": {
            "standoff": 15
           },
           "zerolinecolor": "white",
           "zerolinewidth": 2
          },
          "yaxis": {
           "automargin": true,
           "gridcolor": "white",
           "linecolor": "white",
           "ticks": "",
           "title": {
            "standoff": 15
           },
           "zerolinecolor": "white",
           "zerolinewidth": 2
          }
         }
        }
       }
      }
     },
     "metadata": {},
     "output_type": "display_data"
    }
   ],
   "source": [
    "y_list=[]\n",
    "for i in list(non_risk_user.housing_type.unique()):\n",
    "    y_list.append(non_risk_user[non_risk_user.housing_type==i].count()[0])\n",
    "\n",
    "fig = go.Figure([go.Bar(x=list(non_risk_user.housing_type.unique()), \n",
    "y=y_list)])\n",
    "fig\n"
   ]
  },
  {
   "cell_type": "markdown",
   "metadata": {},
   "source": [
    "\n",
    "Mögliche Lösung für unbalanced Dataset: <br>\n",
    "- __over sampling__: Ein Ansatz zur Behandlung unausgewogener Datensätze besteht darin, die Minderheitsklasse zu \"oversample\". Der einfachste Ansatz besteht darin, Beispiele in der Minderheitsklasse zu duplizieren, diese Beispiele gibt dem Modell keine neuen Informationen. Es werden neue Beispiele aus den bestehenden Beispielen synthetisiert. Dies ist eine Art Datenvermehrung für die Minderheitsschicht und wird als Synthetic Minority Oversampling Technique, kurz SMOTE, bezeichnet. <br> <br>\n",
    "Diese Möglichkeit ist in der PyCarat Bikliothek integriert. Mit __fix_imbalance is True__\n",
    ", wird der unausgewogene Datensatz angepasst. Auf __Default__ ist der __fit_resample__ Methode auf SMOTE festgelegt.<br> <br>\n",
    "\n",
    "- __under ampling__: Under-Sampling gleicht den Datensatz aus, indem die Größe der reichlich vorhandenen Klasse reduziert wird. Diese Methode wird verwendet, wenn die Datenmenge ausreicht. Indem alle Stichproben in der seltenen Klasse gehalten werden und zufällig eine gleiche Anzahl von Stichproben in der reichlich vorhandenen Klasse ausgewählt wird, kann ein ausgewogener neuer Datensatz zur weiteren Modellierung abgerufen werden<br><br>\n",
    "@Chengyi Hua<br> "
   ]
  },
  {
   "cell_type": "markdown",
   "metadata": {},
   "source": [
    "## Testdatensatz von 20%\n",
    "Es wir einen zufälligen Test-Datensatz von 20 Prozent gesampelt. \n",
    "\n",
    "---- Theorie."
   ]
  },
  {
   "cell_type": "code",
   "execution_count": 28,
   "metadata": {},
   "outputs": [],
   "source": [
    "cca_for_test = cca_unique_id.drop(['BEGIN_MONTHS','payment_status'], axis= 1)\n",
    "training_data = cca_for_test.sample(frac=0.8, random_state=25)\n",
    "testing_data = cca_for_test.drop(training_data.index)"
   ]
  },
  {
   "cell_type": "markdown",
   "metadata": {},
   "source": [
    "## Versuche mit PyCarat <br>"
   ]
  },
  {
   "cell_type": "markdown",
   "metadata": {},
   "source": [
    "### Gründe für die Benutzung von PyCaret, ein Open-scource ML Bibliothek.\n",
    "\n",
    "PyCaret ist eine Open-Source-Low-Code-Bibliothek für maschinelles Lernen in Python, die Arbeitsabläufe für maschinelles Lernen automatisiert. Es ist ein End-to-End-Tool für maschinelles Lernen und Modellmanagement, das den Experimentzyklus exponentiell beschleunigt und sie produktiver macht.\n",
    "<br>\n",
    "<br>\n",
    "Verglichen mit den anderen Open-Source-Bibliotheken für maschinelles Lernen ist PyCaret eine alternative Low-Code-Bibliothek, mit der Hunderte von Codezeilen durch nur wenige Zeilen ersetzt werden können. Dies macht Experimente exponentiell schnell und effizient. PyCaret ist im Wesentlichen ein Python-Wrapper um mehrere Bibliotheken und Frameworks für maschinelles Lernen wie scikit-learn, XGBoost, LightGBM, CatBoost, spaCy, Optuna, Hyperopt, Ray und einige mehr.\n",
    "<br>\n",
    "<br>\n",
    "Da immer mehr Unternehmen ihren Fokus auf maschinelles Lernen verlagern, um schwierige Probleme anzugehen, werden von Datenwissenschaftlern erwartet, dass sie schneller Ergebnisse liefern können. Dies hat die Nachfrage nach der Automatisierung wichtiger Phasen in Data-Science-Projekten erhöht, sodass sich Data Scientists auf das eigentliche Problem konzentrieren können, anstatt Hunderte von Codezeilen zu schreiben, um das optimale Modell zu identifizieren.\n",
    "\n",
    "@Chengyi Hua\n",
    "\n",
    "theorie tratifiedkfold und kfold unterscheid und verwendung.  im Bezug auf Pycarat\n",
    "\n",
    "theorie: Cross validierung, weil es hier verwendet wird"
   ]
  },
  {
   "cell_type": "markdown",
   "metadata": {},
   "source": [
    "## Oversampling mit Pycaret"
   ]
  },
  {
   "cell_type": "markdown",
   "metadata": {},
   "source": [
    "theorie: SMOTE"
   ]
  },
  {
   "cell_type": "code",
   "execution_count": 58,
   "metadata": {},
   "outputs": [
    {
     "data": {
      "text/html": [
       "<style type=\"text/css\">\n",
       "#T_9294c_row18_col1, #T_9294c_row44_col1, #T_9294c_row58_col1 {\n",
       "  background-color: lightgreen;\n",
       "}\n",
       "</style>\n",
       "<table id=\"T_9294c\">\n",
       "  <thead>\n",
       "    <tr>\n",
       "      <th class=\"blank level0\" >&nbsp;</th>\n",
       "      <th id=\"T_9294c_level0_col0\" class=\"col_heading level0 col0\" >Description</th>\n",
       "      <th id=\"T_9294c_level0_col1\" class=\"col_heading level0 col1\" >Value</th>\n",
       "    </tr>\n",
       "  </thead>\n",
       "  <tbody>\n",
       "    <tr>\n",
       "      <th id=\"T_9294c_level0_row0\" class=\"row_heading level0 row0\" >0</th>\n",
       "      <td id=\"T_9294c_row0_col0\" class=\"data row0 col0\" >session_id</td>\n",
       "      <td id=\"T_9294c_row0_col1\" class=\"data row0 col1\" >8010</td>\n",
       "    </tr>\n",
       "    <tr>\n",
       "      <th id=\"T_9294c_level0_row1\" class=\"row_heading level0 row1\" >1</th>\n",
       "      <td id=\"T_9294c_row1_col0\" class=\"data row1 col0\" >Target</td>\n",
       "      <td id=\"T_9294c_row1_col1\" class=\"data row1 col1\" >risk_user</td>\n",
       "    </tr>\n",
       "    <tr>\n",
       "      <th id=\"T_9294c_level0_row2\" class=\"row_heading level0 row2\" >2</th>\n",
       "      <td id=\"T_9294c_row2_col0\" class=\"data row2 col0\" >Target Type</td>\n",
       "      <td id=\"T_9294c_row2_col1\" class=\"data row2 col1\" >Binary</td>\n",
       "    </tr>\n",
       "    <tr>\n",
       "      <th id=\"T_9294c_level0_row3\" class=\"row_heading level0 row3\" >3</th>\n",
       "      <td id=\"T_9294c_row3_col0\" class=\"data row3 col0\" >Label Encoded</td>\n",
       "      <td id=\"T_9294c_row3_col1\" class=\"data row3 col1\" >None</td>\n",
       "    </tr>\n",
       "    <tr>\n",
       "      <th id=\"T_9294c_level0_row4\" class=\"row_heading level0 row4\" >4</th>\n",
       "      <td id=\"T_9294c_row4_col0\" class=\"data row4 col0\" >Original Data</td>\n",
       "      <td id=\"T_9294c_row4_col1\" class=\"data row4 col1\" >(13634, 19)</td>\n",
       "    </tr>\n",
       "    <tr>\n",
       "      <th id=\"T_9294c_level0_row5\" class=\"row_heading level0 row5\" >5</th>\n",
       "      <td id=\"T_9294c_row5_col0\" class=\"data row5 col0\" >Missing Values</td>\n",
       "      <td id=\"T_9294c_row5_col1\" class=\"data row5 col1\" >False</td>\n",
       "    </tr>\n",
       "    <tr>\n",
       "      <th id=\"T_9294c_level0_row6\" class=\"row_heading level0 row6\" >6</th>\n",
       "      <td id=\"T_9294c_row6_col0\" class=\"data row6 col0\" >Numeric Features</td>\n",
       "      <td id=\"T_9294c_row6_col1\" class=\"data row6 col1\" >6</td>\n",
       "    </tr>\n",
       "    <tr>\n",
       "      <th id=\"T_9294c_level0_row7\" class=\"row_heading level0 row7\" >7</th>\n",
       "      <td id=\"T_9294c_row7_col0\" class=\"data row7 col0\" >Categorical Features</td>\n",
       "      <td id=\"T_9294c_row7_col1\" class=\"data row7 col1\" >11</td>\n",
       "    </tr>\n",
       "    <tr>\n",
       "      <th id=\"T_9294c_level0_row8\" class=\"row_heading level0 row8\" >8</th>\n",
       "      <td id=\"T_9294c_row8_col0\" class=\"data row8 col0\" >Ordinal Features</td>\n",
       "      <td id=\"T_9294c_row8_col1\" class=\"data row8 col1\" >False</td>\n",
       "    </tr>\n",
       "    <tr>\n",
       "      <th id=\"T_9294c_level0_row9\" class=\"row_heading level0 row9\" >9</th>\n",
       "      <td id=\"T_9294c_row9_col0\" class=\"data row9 col0\" >High Cardinality Features</td>\n",
       "      <td id=\"T_9294c_row9_col1\" class=\"data row9 col1\" >False</td>\n",
       "    </tr>\n",
       "    <tr>\n",
       "      <th id=\"T_9294c_level0_row10\" class=\"row_heading level0 row10\" >10</th>\n",
       "      <td id=\"T_9294c_row10_col0\" class=\"data row10 col0\" >High Cardinality Method</td>\n",
       "      <td id=\"T_9294c_row10_col1\" class=\"data row10 col1\" >None</td>\n",
       "    </tr>\n",
       "    <tr>\n",
       "      <th id=\"T_9294c_level0_row11\" class=\"row_heading level0 row11\" >11</th>\n",
       "      <td id=\"T_9294c_row11_col0\" class=\"data row11 col0\" >Transformed Train Set</td>\n",
       "      <td id=\"T_9294c_row11_col1\" class=\"data row11 col1\" >(10907, 49)</td>\n",
       "    </tr>\n",
       "    <tr>\n",
       "      <th id=\"T_9294c_level0_row12\" class=\"row_heading level0 row12\" >12</th>\n",
       "      <td id=\"T_9294c_row12_col0\" class=\"data row12 col0\" >Transformed Test Set</td>\n",
       "      <td id=\"T_9294c_row12_col1\" class=\"data row12 col1\" >(2727, 49)</td>\n",
       "    </tr>\n",
       "    <tr>\n",
       "      <th id=\"T_9294c_level0_row13\" class=\"row_heading level0 row13\" >13</th>\n",
       "      <td id=\"T_9294c_row13_col0\" class=\"data row13 col0\" >Shuffle Train-Test</td>\n",
       "      <td id=\"T_9294c_row13_col1\" class=\"data row13 col1\" >True</td>\n",
       "    </tr>\n",
       "    <tr>\n",
       "      <th id=\"T_9294c_level0_row14\" class=\"row_heading level0 row14\" >14</th>\n",
       "      <td id=\"T_9294c_row14_col0\" class=\"data row14 col0\" >Stratify Train-Test</td>\n",
       "      <td id=\"T_9294c_row14_col1\" class=\"data row14 col1\" >False</td>\n",
       "    </tr>\n",
       "    <tr>\n",
       "      <th id=\"T_9294c_level0_row15\" class=\"row_heading level0 row15\" >15</th>\n",
       "      <td id=\"T_9294c_row15_col0\" class=\"data row15 col0\" >Fold Generator</td>\n",
       "      <td id=\"T_9294c_row15_col1\" class=\"data row15 col1\" >KFold</td>\n",
       "    </tr>\n",
       "    <tr>\n",
       "      <th id=\"T_9294c_level0_row16\" class=\"row_heading level0 row16\" >16</th>\n",
       "      <td id=\"T_9294c_row16_col0\" class=\"data row16 col0\" >Fold Number</td>\n",
       "      <td id=\"T_9294c_row16_col1\" class=\"data row16 col1\" >10</td>\n",
       "    </tr>\n",
       "    <tr>\n",
       "      <th id=\"T_9294c_level0_row17\" class=\"row_heading level0 row17\" >17</th>\n",
       "      <td id=\"T_9294c_row17_col0\" class=\"data row17 col0\" >CPU Jobs</td>\n",
       "      <td id=\"T_9294c_row17_col1\" class=\"data row17 col1\" >-1</td>\n",
       "    </tr>\n",
       "    <tr>\n",
       "      <th id=\"T_9294c_level0_row18\" class=\"row_heading level0 row18\" >18</th>\n",
       "      <td id=\"T_9294c_row18_col0\" class=\"data row18 col0\" >Use GPU</td>\n",
       "      <td id=\"T_9294c_row18_col1\" class=\"data row18 col1\" >True</td>\n",
       "    </tr>\n",
       "    <tr>\n",
       "      <th id=\"T_9294c_level0_row19\" class=\"row_heading level0 row19\" >19</th>\n",
       "      <td id=\"T_9294c_row19_col0\" class=\"data row19 col0\" >Log Experiment</td>\n",
       "      <td id=\"T_9294c_row19_col1\" class=\"data row19 col1\" >False</td>\n",
       "    </tr>\n",
       "    <tr>\n",
       "      <th id=\"T_9294c_level0_row20\" class=\"row_heading level0 row20\" >20</th>\n",
       "      <td id=\"T_9294c_row20_col0\" class=\"data row20 col0\" >Experiment Name</td>\n",
       "      <td id=\"T_9294c_row20_col1\" class=\"data row20 col1\" >clf-default-name</td>\n",
       "    </tr>\n",
       "    <tr>\n",
       "      <th id=\"T_9294c_level0_row21\" class=\"row_heading level0 row21\" >21</th>\n",
       "      <td id=\"T_9294c_row21_col0\" class=\"data row21 col0\" >USI</td>\n",
       "      <td id=\"T_9294c_row21_col1\" class=\"data row21 col1\" >ee06</td>\n",
       "    </tr>\n",
       "    <tr>\n",
       "      <th id=\"T_9294c_level0_row22\" class=\"row_heading level0 row22\" >22</th>\n",
       "      <td id=\"T_9294c_row22_col0\" class=\"data row22 col0\" >Imputation Type</td>\n",
       "      <td id=\"T_9294c_row22_col1\" class=\"data row22 col1\" >simple</td>\n",
       "    </tr>\n",
       "    <tr>\n",
       "      <th id=\"T_9294c_level0_row23\" class=\"row_heading level0 row23\" >23</th>\n",
       "      <td id=\"T_9294c_row23_col0\" class=\"data row23 col0\" >Iterative Imputation Iteration</td>\n",
       "      <td id=\"T_9294c_row23_col1\" class=\"data row23 col1\" >None</td>\n",
       "    </tr>\n",
       "    <tr>\n",
       "      <th id=\"T_9294c_level0_row24\" class=\"row_heading level0 row24\" >24</th>\n",
       "      <td id=\"T_9294c_row24_col0\" class=\"data row24 col0\" >Numeric Imputer</td>\n",
       "      <td id=\"T_9294c_row24_col1\" class=\"data row24 col1\" >mean</td>\n",
       "    </tr>\n",
       "    <tr>\n",
       "      <th id=\"T_9294c_level0_row25\" class=\"row_heading level0 row25\" >25</th>\n",
       "      <td id=\"T_9294c_row25_col0\" class=\"data row25 col0\" >Iterative Imputation Numeric Model</td>\n",
       "      <td id=\"T_9294c_row25_col1\" class=\"data row25 col1\" >None</td>\n",
       "    </tr>\n",
       "    <tr>\n",
       "      <th id=\"T_9294c_level0_row26\" class=\"row_heading level0 row26\" >26</th>\n",
       "      <td id=\"T_9294c_row26_col0\" class=\"data row26 col0\" >Categorical Imputer</td>\n",
       "      <td id=\"T_9294c_row26_col1\" class=\"data row26 col1\" >constant</td>\n",
       "    </tr>\n",
       "    <tr>\n",
       "      <th id=\"T_9294c_level0_row27\" class=\"row_heading level0 row27\" >27</th>\n",
       "      <td id=\"T_9294c_row27_col0\" class=\"data row27 col0\" >Iterative Imputation Categorical Model</td>\n",
       "      <td id=\"T_9294c_row27_col1\" class=\"data row27 col1\" >None</td>\n",
       "    </tr>\n",
       "    <tr>\n",
       "      <th id=\"T_9294c_level0_row28\" class=\"row_heading level0 row28\" >28</th>\n",
       "      <td id=\"T_9294c_row28_col0\" class=\"data row28 col0\" >Unknown Categoricals Handling</td>\n",
       "      <td id=\"T_9294c_row28_col1\" class=\"data row28 col1\" >least_frequent</td>\n",
       "    </tr>\n",
       "    <tr>\n",
       "      <th id=\"T_9294c_level0_row29\" class=\"row_heading level0 row29\" >29</th>\n",
       "      <td id=\"T_9294c_row29_col0\" class=\"data row29 col0\" >Normalize</td>\n",
       "      <td id=\"T_9294c_row29_col1\" class=\"data row29 col1\" >False</td>\n",
       "    </tr>\n",
       "    <tr>\n",
       "      <th id=\"T_9294c_level0_row30\" class=\"row_heading level0 row30\" >30</th>\n",
       "      <td id=\"T_9294c_row30_col0\" class=\"data row30 col0\" >Normalize Method</td>\n",
       "      <td id=\"T_9294c_row30_col1\" class=\"data row30 col1\" >None</td>\n",
       "    </tr>\n",
       "    <tr>\n",
       "      <th id=\"T_9294c_level0_row31\" class=\"row_heading level0 row31\" >31</th>\n",
       "      <td id=\"T_9294c_row31_col0\" class=\"data row31 col0\" >Transformation</td>\n",
       "      <td id=\"T_9294c_row31_col1\" class=\"data row31 col1\" >False</td>\n",
       "    </tr>\n",
       "    <tr>\n",
       "      <th id=\"T_9294c_level0_row32\" class=\"row_heading level0 row32\" >32</th>\n",
       "      <td id=\"T_9294c_row32_col0\" class=\"data row32 col0\" >Transformation Method</td>\n",
       "      <td id=\"T_9294c_row32_col1\" class=\"data row32 col1\" >None</td>\n",
       "    </tr>\n",
       "    <tr>\n",
       "      <th id=\"T_9294c_level0_row33\" class=\"row_heading level0 row33\" >33</th>\n",
       "      <td id=\"T_9294c_row33_col0\" class=\"data row33 col0\" >PCA</td>\n",
       "      <td id=\"T_9294c_row33_col1\" class=\"data row33 col1\" >False</td>\n",
       "    </tr>\n",
       "    <tr>\n",
       "      <th id=\"T_9294c_level0_row34\" class=\"row_heading level0 row34\" >34</th>\n",
       "      <td id=\"T_9294c_row34_col0\" class=\"data row34 col0\" >PCA Method</td>\n",
       "      <td id=\"T_9294c_row34_col1\" class=\"data row34 col1\" >None</td>\n",
       "    </tr>\n",
       "    <tr>\n",
       "      <th id=\"T_9294c_level0_row35\" class=\"row_heading level0 row35\" >35</th>\n",
       "      <td id=\"T_9294c_row35_col0\" class=\"data row35 col0\" >PCA Components</td>\n",
       "      <td id=\"T_9294c_row35_col1\" class=\"data row35 col1\" >None</td>\n",
       "    </tr>\n",
       "    <tr>\n",
       "      <th id=\"T_9294c_level0_row36\" class=\"row_heading level0 row36\" >36</th>\n",
       "      <td id=\"T_9294c_row36_col0\" class=\"data row36 col0\" >Ignore Low Variance</td>\n",
       "      <td id=\"T_9294c_row36_col1\" class=\"data row36 col1\" >False</td>\n",
       "    </tr>\n",
       "    <tr>\n",
       "      <th id=\"T_9294c_level0_row37\" class=\"row_heading level0 row37\" >37</th>\n",
       "      <td id=\"T_9294c_row37_col0\" class=\"data row37 col0\" >Combine Rare Levels</td>\n",
       "      <td id=\"T_9294c_row37_col1\" class=\"data row37 col1\" >False</td>\n",
       "    </tr>\n",
       "    <tr>\n",
       "      <th id=\"T_9294c_level0_row38\" class=\"row_heading level0 row38\" >38</th>\n",
       "      <td id=\"T_9294c_row38_col0\" class=\"data row38 col0\" >Rare Level Threshold</td>\n",
       "      <td id=\"T_9294c_row38_col1\" class=\"data row38 col1\" >None</td>\n",
       "    </tr>\n",
       "    <tr>\n",
       "      <th id=\"T_9294c_level0_row39\" class=\"row_heading level0 row39\" >39</th>\n",
       "      <td id=\"T_9294c_row39_col0\" class=\"data row39 col0\" >Numeric Binning</td>\n",
       "      <td id=\"T_9294c_row39_col1\" class=\"data row39 col1\" >False</td>\n",
       "    </tr>\n",
       "    <tr>\n",
       "      <th id=\"T_9294c_level0_row40\" class=\"row_heading level0 row40\" >40</th>\n",
       "      <td id=\"T_9294c_row40_col0\" class=\"data row40 col0\" >Remove Outliers</td>\n",
       "      <td id=\"T_9294c_row40_col1\" class=\"data row40 col1\" >False</td>\n",
       "    </tr>\n",
       "    <tr>\n",
       "      <th id=\"T_9294c_level0_row41\" class=\"row_heading level0 row41\" >41</th>\n",
       "      <td id=\"T_9294c_row41_col0\" class=\"data row41 col0\" >Outliers Threshold</td>\n",
       "      <td id=\"T_9294c_row41_col1\" class=\"data row41 col1\" >None</td>\n",
       "    </tr>\n",
       "    <tr>\n",
       "      <th id=\"T_9294c_level0_row42\" class=\"row_heading level0 row42\" >42</th>\n",
       "      <td id=\"T_9294c_row42_col0\" class=\"data row42 col0\" >Remove Multicollinearity</td>\n",
       "      <td id=\"T_9294c_row42_col1\" class=\"data row42 col1\" >False</td>\n",
       "    </tr>\n",
       "    <tr>\n",
       "      <th id=\"T_9294c_level0_row43\" class=\"row_heading level0 row43\" >43</th>\n",
       "      <td id=\"T_9294c_row43_col0\" class=\"data row43 col0\" >Multicollinearity Threshold</td>\n",
       "      <td id=\"T_9294c_row43_col1\" class=\"data row43 col1\" >None</td>\n",
       "    </tr>\n",
       "    <tr>\n",
       "      <th id=\"T_9294c_level0_row44\" class=\"row_heading level0 row44\" >44</th>\n",
       "      <td id=\"T_9294c_row44_col0\" class=\"data row44 col0\" >Remove Perfect Collinearity</td>\n",
       "      <td id=\"T_9294c_row44_col1\" class=\"data row44 col1\" >True</td>\n",
       "    </tr>\n",
       "    <tr>\n",
       "      <th id=\"T_9294c_level0_row45\" class=\"row_heading level0 row45\" >45</th>\n",
       "      <td id=\"T_9294c_row45_col0\" class=\"data row45 col0\" >Clustering</td>\n",
       "      <td id=\"T_9294c_row45_col1\" class=\"data row45 col1\" >False</td>\n",
       "    </tr>\n",
       "    <tr>\n",
       "      <th id=\"T_9294c_level0_row46\" class=\"row_heading level0 row46\" >46</th>\n",
       "      <td id=\"T_9294c_row46_col0\" class=\"data row46 col0\" >Clustering Iteration</td>\n",
       "      <td id=\"T_9294c_row46_col1\" class=\"data row46 col1\" >None</td>\n",
       "    </tr>\n",
       "    <tr>\n",
       "      <th id=\"T_9294c_level0_row47\" class=\"row_heading level0 row47\" >47</th>\n",
       "      <td id=\"T_9294c_row47_col0\" class=\"data row47 col0\" >Polynomial Features</td>\n",
       "      <td id=\"T_9294c_row47_col1\" class=\"data row47 col1\" >False</td>\n",
       "    </tr>\n",
       "    <tr>\n",
       "      <th id=\"T_9294c_level0_row48\" class=\"row_heading level0 row48\" >48</th>\n",
       "      <td id=\"T_9294c_row48_col0\" class=\"data row48 col0\" >Polynomial Degree</td>\n",
       "      <td id=\"T_9294c_row48_col1\" class=\"data row48 col1\" >None</td>\n",
       "    </tr>\n",
       "    <tr>\n",
       "      <th id=\"T_9294c_level0_row49\" class=\"row_heading level0 row49\" >49</th>\n",
       "      <td id=\"T_9294c_row49_col0\" class=\"data row49 col0\" >Trignometry Features</td>\n",
       "      <td id=\"T_9294c_row49_col1\" class=\"data row49 col1\" >False</td>\n",
       "    </tr>\n",
       "    <tr>\n",
       "      <th id=\"T_9294c_level0_row50\" class=\"row_heading level0 row50\" >50</th>\n",
       "      <td id=\"T_9294c_row50_col0\" class=\"data row50 col0\" >Polynomial Threshold</td>\n",
       "      <td id=\"T_9294c_row50_col1\" class=\"data row50 col1\" >None</td>\n",
       "    </tr>\n",
       "    <tr>\n",
       "      <th id=\"T_9294c_level0_row51\" class=\"row_heading level0 row51\" >51</th>\n",
       "      <td id=\"T_9294c_row51_col0\" class=\"data row51 col0\" >Group Features</td>\n",
       "      <td id=\"T_9294c_row51_col1\" class=\"data row51 col1\" >False</td>\n",
       "    </tr>\n",
       "    <tr>\n",
       "      <th id=\"T_9294c_level0_row52\" class=\"row_heading level0 row52\" >52</th>\n",
       "      <td id=\"T_9294c_row52_col0\" class=\"data row52 col0\" >Feature Selection</td>\n",
       "      <td id=\"T_9294c_row52_col1\" class=\"data row52 col1\" >False</td>\n",
       "    </tr>\n",
       "    <tr>\n",
       "      <th id=\"T_9294c_level0_row53\" class=\"row_heading level0 row53\" >53</th>\n",
       "      <td id=\"T_9294c_row53_col0\" class=\"data row53 col0\" >Feature Selection Method</td>\n",
       "      <td id=\"T_9294c_row53_col1\" class=\"data row53 col1\" >classic</td>\n",
       "    </tr>\n",
       "    <tr>\n",
       "      <th id=\"T_9294c_level0_row54\" class=\"row_heading level0 row54\" >54</th>\n",
       "      <td id=\"T_9294c_row54_col0\" class=\"data row54 col0\" >Features Selection Threshold</td>\n",
       "      <td id=\"T_9294c_row54_col1\" class=\"data row54 col1\" >None</td>\n",
       "    </tr>\n",
       "    <tr>\n",
       "      <th id=\"T_9294c_level0_row55\" class=\"row_heading level0 row55\" >55</th>\n",
       "      <td id=\"T_9294c_row55_col0\" class=\"data row55 col0\" >Feature Interaction</td>\n",
       "      <td id=\"T_9294c_row55_col1\" class=\"data row55 col1\" >False</td>\n",
       "    </tr>\n",
       "    <tr>\n",
       "      <th id=\"T_9294c_level0_row56\" class=\"row_heading level0 row56\" >56</th>\n",
       "      <td id=\"T_9294c_row56_col0\" class=\"data row56 col0\" >Feature Ratio</td>\n",
       "      <td id=\"T_9294c_row56_col1\" class=\"data row56 col1\" >False</td>\n",
       "    </tr>\n",
       "    <tr>\n",
       "      <th id=\"T_9294c_level0_row57\" class=\"row_heading level0 row57\" >57</th>\n",
       "      <td id=\"T_9294c_row57_col0\" class=\"data row57 col0\" >Interaction Threshold</td>\n",
       "      <td id=\"T_9294c_row57_col1\" class=\"data row57 col1\" >None</td>\n",
       "    </tr>\n",
       "    <tr>\n",
       "      <th id=\"T_9294c_level0_row58\" class=\"row_heading level0 row58\" >58</th>\n",
       "      <td id=\"T_9294c_row58_col0\" class=\"data row58 col0\" >Fix Imbalance</td>\n",
       "      <td id=\"T_9294c_row58_col1\" class=\"data row58 col1\" >True</td>\n",
       "    </tr>\n",
       "    <tr>\n",
       "      <th id=\"T_9294c_level0_row59\" class=\"row_heading level0 row59\" >59</th>\n",
       "      <td id=\"T_9294c_row59_col0\" class=\"data row59 col0\" >Fix Imbalance Method</td>\n",
       "      <td id=\"T_9294c_row59_col1\" class=\"data row59 col1\" >RandomOverSampler</td>\n",
       "    </tr>\n",
       "  </tbody>\n",
       "</table>\n"
      ],
      "text/plain": [
       "<pandas.io.formats.style.Styler at 0x7fb659426f10>"
      ]
     },
     "metadata": {},
     "output_type": "display_data"
    }
   ],
   "source": [
    "stp = pycaret.classification.setup(data = training_data, target = 'risk_user', train_size = 0.8,\n",
    "            categorical_features = ['gender','owning_car','children_amt', 'owning_property', 'education_level',\n",
    "                                    'marital_status', 'housing_type', \n",
    "                                    'job'], fold_strategy = 'kfold',\n",
    "            fix_imbalance = True, fix_imbalance_method = imblearn.over_sampling.RandomOverSampler(), fold = 10,\n",
    "            ignore_features = ['applicant_ID'],\n",
    "            use_gpu=True)"
   ]
  },
  {
   "cell_type": "code",
   "execution_count": 59,
   "metadata": {},
   "outputs": [
    {
     "data": {
      "text/html": [
       "<style type=\"text/css\">\n",
       "#T_59e52 th {\n",
       "  text-align: left;\n",
       "}\n",
       "#T_59e52_row0_col0, #T_59e52_row0_col3, #T_59e52_row0_col4, #T_59e52_row0_col5, #T_59e52_row0_col6, #T_59e52_row0_col7, #T_59e52_row1_col0, #T_59e52_row1_col1, #T_59e52_row1_col2, #T_59e52_row1_col3, #T_59e52_row1_col4, #T_59e52_row1_col5, #T_59e52_row1_col6, #T_59e52_row1_col7, #T_59e52_row2_col0, #T_59e52_row2_col1, #T_59e52_row2_col2, #T_59e52_row2_col3, #T_59e52_row2_col4, #T_59e52_row2_col5, #T_59e52_row2_col6, #T_59e52_row2_col7, #T_59e52_row3_col0, #T_59e52_row3_col1, #T_59e52_row3_col2, #T_59e52_row3_col3, #T_59e52_row3_col4, #T_59e52_row3_col5, #T_59e52_row3_col6, #T_59e52_row3_col7, #T_59e52_row4_col0, #T_59e52_row4_col1, #T_59e52_row4_col2, #T_59e52_row4_col3, #T_59e52_row4_col5, #T_59e52_row4_col6, #T_59e52_row4_col7, #T_59e52_row5_col0, #T_59e52_row5_col1, #T_59e52_row5_col2, #T_59e52_row5_col3, #T_59e52_row5_col4, #T_59e52_row5_col7, #T_59e52_row6_col0, #T_59e52_row6_col1, #T_59e52_row6_col2, #T_59e52_row6_col3, #T_59e52_row6_col4, #T_59e52_row6_col5, #T_59e52_row6_col6, #T_59e52_row7_col0, #T_59e52_row7_col1, #T_59e52_row7_col2, #T_59e52_row7_col3, #T_59e52_row7_col4, #T_59e52_row7_col5, #T_59e52_row7_col6, #T_59e52_row7_col7, #T_59e52_row8_col0, #T_59e52_row8_col1, #T_59e52_row8_col2, #T_59e52_row8_col3, #T_59e52_row8_col4, #T_59e52_row8_col5, #T_59e52_row8_col6, #T_59e52_row8_col7, #T_59e52_row9_col0, #T_59e52_row9_col1, #T_59e52_row9_col2, #T_59e52_row9_col4, #T_59e52_row9_col5, #T_59e52_row9_col6, #T_59e52_row9_col7, #T_59e52_row10_col0, #T_59e52_row10_col1, #T_59e52_row10_col2, #T_59e52_row10_col3, #T_59e52_row10_col4, #T_59e52_row10_col5, #T_59e52_row10_col6, #T_59e52_row10_col7, #T_59e52_row11_col0, #T_59e52_row11_col1, #T_59e52_row11_col2, #T_59e52_row11_col3, #T_59e52_row11_col4, #T_59e52_row11_col5, #T_59e52_row11_col6, #T_59e52_row11_col7, #T_59e52_row12_col0, #T_59e52_row12_col1, #T_59e52_row12_col2, #T_59e52_row12_col3, #T_59e52_row12_col4, #T_59e52_row12_col5, #T_59e52_row12_col6, #T_59e52_row12_col7 {\n",
       "  text-align: left;\n",
       "}\n",
       "#T_59e52_row0_col1, #T_59e52_row0_col2, #T_59e52_row4_col4, #T_59e52_row5_col5, #T_59e52_row5_col6, #T_59e52_row6_col7, #T_59e52_row9_col3 {\n",
       "  text-align: left;\n",
       "  background-color: yellow;\n",
       "}\n",
       "#T_59e52_row0_col8, #T_59e52_row1_col8, #T_59e52_row2_col8, #T_59e52_row3_col8, #T_59e52_row4_col8, #T_59e52_row5_col8, #T_59e52_row6_col8, #T_59e52_row7_col8, #T_59e52_row9_col8, #T_59e52_row10_col8, #T_59e52_row11_col8, #T_59e52_row12_col8 {\n",
       "  text-align: left;\n",
       "  background-color: lightgrey;\n",
       "}\n",
       "#T_59e52_row8_col8 {\n",
       "  text-align: left;\n",
       "  background-color: yellow;\n",
       "  background-color: lightgrey;\n",
       "}\n",
       "</style>\n",
       "<table id=\"T_59e52\">\n",
       "  <thead>\n",
       "    <tr>\n",
       "      <th class=\"blank level0\" >&nbsp;</th>\n",
       "      <th id=\"T_59e52_level0_col0\" class=\"col_heading level0 col0\" >Model</th>\n",
       "      <th id=\"T_59e52_level0_col1\" class=\"col_heading level0 col1\" >Accuracy</th>\n",
       "      <th id=\"T_59e52_level0_col2\" class=\"col_heading level0 col2\" >AUC</th>\n",
       "      <th id=\"T_59e52_level0_col3\" class=\"col_heading level0 col3\" >Recall</th>\n",
       "      <th id=\"T_59e52_level0_col4\" class=\"col_heading level0 col4\" >Prec.</th>\n",
       "      <th id=\"T_59e52_level0_col5\" class=\"col_heading level0 col5\" >F1</th>\n",
       "      <th id=\"T_59e52_level0_col6\" class=\"col_heading level0 col6\" >Kappa</th>\n",
       "      <th id=\"T_59e52_level0_col7\" class=\"col_heading level0 col7\" >MCC</th>\n",
       "      <th id=\"T_59e52_level0_col8\" class=\"col_heading level0 col8\" >TT (Sec)</th>\n",
       "    </tr>\n",
       "  </thead>\n",
       "  <tbody>\n",
       "    <tr>\n",
       "      <th id=\"T_59e52_level0_row0\" class=\"row_heading level0 row0\" >rf</th>\n",
       "      <td id=\"T_59e52_row0_col0\" class=\"data row0 col0\" >Random Forest Classifier</td>\n",
       "      <td id=\"T_59e52_row0_col1\" class=\"data row0 col1\" >0.9970</td>\n",
       "      <td id=\"T_59e52_row0_col2\" class=\"data row0 col2\" >0.9640</td>\n",
       "      <td id=\"T_59e52_row0_col3\" class=\"data row0 col3\" >0.1583</td>\n",
       "      <td id=\"T_59e52_row0_col4\" class=\"data row0 col4\" >0.4000</td>\n",
       "      <td id=\"T_59e52_row0_col5\" class=\"data row0 col5\" >0.2200</td>\n",
       "      <td id=\"T_59e52_row0_col6\" class=\"data row0 col6\" >0.2194</td>\n",
       "      <td id=\"T_59e52_row0_col7\" class=\"data row0 col7\" >0.2464</td>\n",
       "      <td id=\"T_59e52_row0_col8\" class=\"data row0 col8\" >1.0060</td>\n",
       "    </tr>\n",
       "    <tr>\n",
       "      <th id=\"T_59e52_level0_row1\" class=\"row_heading level0 row1\" >et</th>\n",
       "      <td id=\"T_59e52_row1_col0\" class=\"data row1 col0\" >Extra Trees Classifier</td>\n",
       "      <td id=\"T_59e52_row1_col1\" class=\"data row1 col1\" >0.9968</td>\n",
       "      <td id=\"T_59e52_row1_col2\" class=\"data row1 col2\" >0.8996</td>\n",
       "      <td id=\"T_59e52_row1_col3\" class=\"data row1 col3\" >0.1583</td>\n",
       "      <td id=\"T_59e52_row1_col4\" class=\"data row1 col4\" >0.3667</td>\n",
       "      <td id=\"T_59e52_row1_col5\" class=\"data row1 col5\" >0.2105</td>\n",
       "      <td id=\"T_59e52_row1_col6\" class=\"data row1 col6\" >0.2097</td>\n",
       "      <td id=\"T_59e52_row1_col7\" class=\"data row1 col7\" >0.2331</td>\n",
       "      <td id=\"T_59e52_row1_col8\" class=\"data row1 col8\" >1.0410</td>\n",
       "    </tr>\n",
       "    <tr>\n",
       "      <th id=\"T_59e52_level0_row2\" class=\"row_heading level0 row2\" >qda</th>\n",
       "      <td id=\"T_59e52_row2_col0\" class=\"data row2 col0\" >Quadratic Discriminant Analysis</td>\n",
       "      <td id=\"T_59e52_row2_col1\" class=\"data row2 col1\" >0.9966</td>\n",
       "      <td id=\"T_59e52_row2_col2\" class=\"data row2 col2\" >0.5000</td>\n",
       "      <td id=\"T_59e52_row2_col3\" class=\"data row2 col3\" >0.0000</td>\n",
       "      <td id=\"T_59e52_row2_col4\" class=\"data row2 col4\" >0.0000</td>\n",
       "      <td id=\"T_59e52_row2_col5\" class=\"data row2 col5\" >0.0000</td>\n",
       "      <td id=\"T_59e52_row2_col6\" class=\"data row2 col6\" >0.0000</td>\n",
       "      <td id=\"T_59e52_row2_col7\" class=\"data row2 col7\" >0.0000</td>\n",
       "      <td id=\"T_59e52_row2_col8\" class=\"data row2 col8\" >0.1490</td>\n",
       "    </tr>\n",
       "    <tr>\n",
       "      <th id=\"T_59e52_level0_row3\" class=\"row_heading level0 row3\" >lightgbm</th>\n",
       "      <td id=\"T_59e52_row3_col0\" class=\"data row3 col0\" >Light Gradient Boosting Machine</td>\n",
       "      <td id=\"T_59e52_row3_col1\" class=\"data row3 col1\" >0.9962</td>\n",
       "      <td id=\"T_59e52_row3_col2\" class=\"data row3 col2\" >0.8646</td>\n",
       "      <td id=\"T_59e52_row3_col3\" class=\"data row3 col3\" >0.3500</td>\n",
       "      <td id=\"T_59e52_row3_col4\" class=\"data row3 col4\" >0.3642</td>\n",
       "      <td id=\"T_59e52_row3_col5\" class=\"data row3 col5\" >0.3443</td>\n",
       "      <td id=\"T_59e52_row3_col6\" class=\"data row3 col6\" >0.3427</td>\n",
       "      <td id=\"T_59e52_row3_col7\" class=\"data row3 col7\" >0.3489</td>\n",
       "      <td id=\"T_59e52_row3_col8\" class=\"data row3 col8\" >0.3160</td>\n",
       "    </tr>\n",
       "    <tr>\n",
       "      <th id=\"T_59e52_level0_row4\" class=\"row_heading level0 row4\" >knn</th>\n",
       "      <td id=\"T_59e52_row4_col0\" class=\"data row4 col0\" >K Neighbors Classifier</td>\n",
       "      <td id=\"T_59e52_row4_col1\" class=\"data row4 col1\" >0.9961</td>\n",
       "      <td id=\"T_59e52_row4_col2\" class=\"data row4 col2\" >0.6144</td>\n",
       "      <td id=\"T_59e52_row4_col3\" class=\"data row4 col3\" >0.2310</td>\n",
       "      <td id=\"T_59e52_row4_col4\" class=\"data row4 col4\" >0.4083</td>\n",
       "      <td id=\"T_59e52_row4_col5\" class=\"data row4 col5\" >0.2569</td>\n",
       "      <td id=\"T_59e52_row4_col6\" class=\"data row4 col6\" >0.2554</td>\n",
       "      <td id=\"T_59e52_row4_col7\" class=\"data row4 col7\" >0.2822</td>\n",
       "      <td id=\"T_59e52_row4_col8\" class=\"data row4 col8\" >1.5210</td>\n",
       "    </tr>\n",
       "    <tr>\n",
       "      <th id=\"T_59e52_level0_row5\" class=\"row_heading level0 row5\" >dt</th>\n",
       "      <td id=\"T_59e52_row5_col0\" class=\"data row5 col0\" >Decision Tree Classifier</td>\n",
       "      <td id=\"T_59e52_row5_col1\" class=\"data row5 col1\" >0.9959</td>\n",
       "      <td id=\"T_59e52_row5_col2\" class=\"data row5 col2\" >0.7281</td>\n",
       "      <td id=\"T_59e52_row5_col3\" class=\"data row5 col3\" >0.4583</td>\n",
       "      <td id=\"T_59e52_row5_col4\" class=\"data row5 col4\" >0.3683</td>\n",
       "      <td id=\"T_59e52_row5_col5\" class=\"data row5 col5\" >0.3971</td>\n",
       "      <td id=\"T_59e52_row5_col6\" class=\"data row5 col6\" >0.3953</td>\n",
       "      <td id=\"T_59e52_row5_col7\" class=\"data row5 col7\" >0.4032</td>\n",
       "      <td id=\"T_59e52_row5_col8\" class=\"data row5 col8\" >0.1030</td>\n",
       "    </tr>\n",
       "    <tr>\n",
       "      <th id=\"T_59e52_level0_row6\" class=\"row_heading level0 row6\" >gbc</th>\n",
       "      <td id=\"T_59e52_row6_col0\" class=\"data row6 col0\" >Gradient Boosting Classifier</td>\n",
       "      <td id=\"T_59e52_row6_col1\" class=\"data row6 col1\" >0.9928</td>\n",
       "      <td id=\"T_59e52_row6_col2\" class=\"data row6 col2\" >0.8978</td>\n",
       "      <td id=\"T_59e52_row6_col3\" class=\"data row6 col3\" >0.6345</td>\n",
       "      <td id=\"T_59e52_row6_col4\" class=\"data row6 col4\" >0.2804</td>\n",
       "      <td id=\"T_59e52_row6_col5\" class=\"data row6 col5\" >0.3767</td>\n",
       "      <td id=\"T_59e52_row6_col6\" class=\"data row6 col6\" >0.3738</td>\n",
       "      <td id=\"T_59e52_row6_col7\" class=\"data row6 col7\" >0.4112</td>\n",
       "      <td id=\"T_59e52_row6_col8\" class=\"data row6 col8\" >2.9740</td>\n",
       "    </tr>\n",
       "    <tr>\n",
       "      <th id=\"T_59e52_level0_row7\" class=\"row_heading level0 row7\" >ada</th>\n",
       "      <td id=\"T_59e52_row7_col0\" class=\"data row7 col0\" >Ada Boost Classifier</td>\n",
       "      <td id=\"T_59e52_row7_col1\" class=\"data row7 col1\" >0.9884</td>\n",
       "      <td id=\"T_59e52_row7_col2\" class=\"data row7 col2\" >0.9510</td>\n",
       "      <td id=\"T_59e52_row7_col3\" class=\"data row7 col3\" >0.6452</td>\n",
       "      <td id=\"T_59e52_row7_col4\" class=\"data row7 col4\" >0.1705</td>\n",
       "      <td id=\"T_59e52_row7_col5\" class=\"data row7 col5\" >0.2645</td>\n",
       "      <td id=\"T_59e52_row7_col6\" class=\"data row7 col6\" >0.2607</td>\n",
       "      <td id=\"T_59e52_row7_col7\" class=\"data row7 col7\" >0.3234</td>\n",
       "      <td id=\"T_59e52_row7_col8\" class=\"data row7 col8\" >0.9120</td>\n",
       "    </tr>\n",
       "    <tr>\n",
       "      <th id=\"T_59e52_level0_row8\" class=\"row_heading level0 row8\" >nb</th>\n",
       "      <td id=\"T_59e52_row8_col0\" class=\"data row8 col0\" >Naive Bayes</td>\n",
       "      <td id=\"T_59e52_row8_col1\" class=\"data row8 col1\" >0.9873</td>\n",
       "      <td id=\"T_59e52_row8_col2\" class=\"data row8 col2\" >0.9607</td>\n",
       "      <td id=\"T_59e52_row8_col3\" class=\"data row8 col3\" >0.7631</td>\n",
       "      <td id=\"T_59e52_row8_col4\" class=\"data row8 col4\" >0.1915</td>\n",
       "      <td id=\"T_59e52_row8_col5\" class=\"data row8 col5\" >0.2963</td>\n",
       "      <td id=\"T_59e52_row8_col6\" class=\"data row8 col6\" >0.2926</td>\n",
       "      <td id=\"T_59e52_row8_col7\" class=\"data row8 col7\" >0.3694</td>\n",
       "      <td id=\"T_59e52_row8_col8\" class=\"data row8 col8\" >0.0560</td>\n",
       "    </tr>\n",
       "    <tr>\n",
       "      <th id=\"T_59e52_level0_row9\" class=\"row_heading level0 row9\" >lr</th>\n",
       "      <td id=\"T_59e52_row9_col0\" class=\"data row9 col0\" >Logistic Regression</td>\n",
       "      <td id=\"T_59e52_row9_col1\" class=\"data row9 col1\" >0.9802</td>\n",
       "      <td id=\"T_59e52_row9_col2\" class=\"data row9 col2\" >0.9419</td>\n",
       "      <td id=\"T_59e52_row9_col3\" class=\"data row9 col3\" >0.8524</td>\n",
       "      <td id=\"T_59e52_row9_col4\" class=\"data row9 col4\" >0.1195</td>\n",
       "      <td id=\"T_59e52_row9_col5\" class=\"data row9 col5\" >0.2062</td>\n",
       "      <td id=\"T_59e52_row9_col6\" class=\"data row9 col6\" >0.2021</td>\n",
       "      <td id=\"T_59e52_row9_col7\" class=\"data row9 col7\" >0.3096</td>\n",
       "      <td id=\"T_59e52_row9_col8\" class=\"data row9 col8\" >0.4240</td>\n",
       "    </tr>\n",
       "    <tr>\n",
       "      <th id=\"T_59e52_level0_row10\" class=\"row_heading level0 row10\" >ridge</th>\n",
       "      <td id=\"T_59e52_row10_col0\" class=\"data row10 col0\" >Ridge Classifier</td>\n",
       "      <td id=\"T_59e52_row10_col1\" class=\"data row10 col1\" >0.9495</td>\n",
       "      <td id=\"T_59e52_row10_col2\" class=\"data row10 col2\" >0.0000</td>\n",
       "      <td id=\"T_59e52_row10_col3\" class=\"data row10 col3\" >0.5762</td>\n",
       "      <td id=\"T_59e52_row10_col4\" class=\"data row10 col4\" >0.0368</td>\n",
       "      <td id=\"T_59e52_row10_col5\" class=\"data row10 col5\" >0.0687</td>\n",
       "      <td id=\"T_59e52_row10_col6\" class=\"data row10 col6\" >0.0628</td>\n",
       "      <td id=\"T_59e52_row10_col7\" class=\"data row10 col7\" >0.1347</td>\n",
       "      <td id=\"T_59e52_row10_col8\" class=\"data row10 col8\" >0.0850</td>\n",
       "    </tr>\n",
       "    <tr>\n",
       "      <th id=\"T_59e52_level0_row11\" class=\"row_heading level0 row11\" >lda</th>\n",
       "      <td id=\"T_59e52_row11_col0\" class=\"data row11 col0\" >Linear Discriminant Analysis</td>\n",
       "      <td id=\"T_59e52_row11_col1\" class=\"data row11 col1\" >0.9492</td>\n",
       "      <td id=\"T_59e52_row11_col2\" class=\"data row11 col2\" >0.8808</td>\n",
       "      <td id=\"T_59e52_row11_col3\" class=\"data row11 col3\" >0.5762</td>\n",
       "      <td id=\"T_59e52_row11_col4\" class=\"data row11 col4\" >0.0365</td>\n",
       "      <td id=\"T_59e52_row11_col5\" class=\"data row11 col5\" >0.0683</td>\n",
       "      <td id=\"T_59e52_row11_col6\" class=\"data row11 col6\" >0.0624</td>\n",
       "      <td id=\"T_59e52_row11_col7\" class=\"data row11 col7\" >0.1342</td>\n",
       "      <td id=\"T_59e52_row11_col8\" class=\"data row11 col8\" >0.3020</td>\n",
       "    </tr>\n",
       "    <tr>\n",
       "      <th id=\"T_59e52_level0_row12\" class=\"row_heading level0 row12\" >svm</th>\n",
       "      <td id=\"T_59e52_row12_col0\" class=\"data row12 col0\" >SVM - Linear Kernel</td>\n",
       "      <td id=\"T_59e52_row12_col1\" class=\"data row12 col1\" >0.5995</td>\n",
       "      <td id=\"T_59e52_row12_col2\" class=\"data row12 col2\" >0.0000</td>\n",
       "      <td id=\"T_59e52_row12_col3\" class=\"data row12 col3\" >0.4000</td>\n",
       "      <td id=\"T_59e52_row12_col4\" class=\"data row12 col4\" >0.0015</td>\n",
       "      <td id=\"T_59e52_row12_col5\" class=\"data row12 col5\" >0.0029</td>\n",
       "      <td id=\"T_59e52_row12_col6\" class=\"data row12 col6\" >0.0000</td>\n",
       "      <td id=\"T_59e52_row12_col7\" class=\"data row12 col7\" >0.0000</td>\n",
       "      <td id=\"T_59e52_row12_col8\" class=\"data row12 col8\" >1.1470</td>\n",
       "    </tr>\n",
       "  </tbody>\n",
       "</table>\n"
      ],
      "text/plain": [
       "<pandas.io.formats.style.Styler at 0x7fb65944fc10>"
      ]
     },
     "metadata": {},
     "output_type": "display_data"
    }
   ],
   "source": [
    "best_model_with_oversampling = compare_models(exclude= ['dummy'])"
   ]
  },
  {
   "cell_type": "code",
   "execution_count": 60,
   "metadata": {},
   "outputs": [
    {
     "name": "stdout",
     "output_type": "stream",
     "text": [
      "RandomForestClassifier(bootstrap=True, ccp_alpha=0.0, class_weight=None,\n",
      "                       criterion='gini', max_depth=None, max_features='auto',\n",
      "                       max_leaf_nodes=None, max_samples=None,\n",
      "                       min_impurity_decrease=0.0, min_impurity_split=None,\n",
      "                       min_samples_leaf=1, min_samples_split=2,\n",
      "                       min_weight_fraction_leaf=0.0, n_estimators=100,\n",
      "                       n_jobs=-1, oob_score=False, random_state=8010, verbose=0,\n",
      "                       warm_start=False)\n"
     ]
    }
   ],
   "source": [
    "print(best_model_with_oversampling)"
   ]
  },
  {
   "cell_type": "markdown",
   "metadata": {},
   "source": [
    "exclude dummy algorithm because of bad results and because it doesn't support feature importance"
   ]
  },
  {
   "cell_type": "code",
   "execution_count": 61,
   "metadata": {},
   "outputs": [
    {
     "data": {
      "application/vnd.jupyter.widget-view+json": {
       "model_id": "0c13e956d0964d4fa7e1b8403a2fa8b1",
       "version_major": 2,
       "version_minor": 0
      },
      "text/plain": [
       "interactive(children=(ToggleButtons(description='Plot Type:', icons=('',), options=(('Hyperparameters', 'param…"
      ]
     },
     "metadata": {},
     "output_type": "display_data"
    }
   ],
   "source": [
    "evaluate_model(best_model_with_oversampling)"
   ]
  },
  {
   "cell_type": "code",
   "execution_count": 33,
   "metadata": {},
   "outputs": [
    {
     "data": {
      "image/png": "[encoded data removed]",
      "text/plain": [
       "<Figure size 800x550 with 1 Axes>"
      ]
     },
     "metadata": {},
     "output_type": "display_data"
    }
   ],
   "source": [
    "plot_model(best_model_with_oversampling, plot = 'confusion_matrix')"
   ]
  },
  {
   "cell_type": "markdown",
   "metadata": {},
   "source": [
    "Theorie: Recall, Precision, f1"
   ]
  },
  {
   "cell_type": "code",
   "execution_count": 52,
   "metadata": {},
   "outputs": [
    {
     "data": {
      "image/png": "[encoded data removed]",
      "text/plain": [
       "<Figure size 800x550 with 1 Axes>"
      ]
     },
     "metadata": {},
     "output_type": "display_data"
    }
   ],
   "source": [
    "plot_model(best_model_with_oversampling,'auc')"
   ]
  },
  {
   "cell_type": "markdown",
   "metadata": {},
   "source": [
    "## Downsampling mit Pycaret\n"
   ]
  },
  {
   "cell_type": "markdown",
   "metadata": {},
   "source": [
    "\n",
    "\n",
    "thoerie: Undersampling Methode: Nearmiss"
   ]
  },
  {
   "cell_type": "code",
   "execution_count": 53,
   "metadata": {},
   "outputs": [
    {
     "data": {
      "text/html": [
       "<style type=\"text/css\">\n",
       "#T_33153_row18_col1, #T_33153_row44_col1, #T_33153_row58_col1 {\n",
       "  background-color: lightgreen;\n",
       "}\n",
       "</style>\n",
       "<table id=\"T_33153\">\n",
       "  <thead>\n",
       "    <tr>\n",
       "      <th class=\"blank level0\" >&nbsp;</th>\n",
       "      <th id=\"T_33153_level0_col0\" class=\"col_heading level0 col0\" >Description</th>\n",
       "      <th id=\"T_33153_level0_col1\" class=\"col_heading level0 col1\" >Value</th>\n",
       "    </tr>\n",
       "  </thead>\n",
       "  <tbody>\n",
       "    <tr>\n",
       "      <th id=\"T_33153_level0_row0\" class=\"row_heading level0 row0\" >0</th>\n",
       "      <td id=\"T_33153_row0_col0\" class=\"data row0 col0\" >session_id</td>\n",
       "      <td id=\"T_33153_row0_col1\" class=\"data row0 col1\" >5261</td>\n",
       "    </tr>\n",
       "    <tr>\n",
       "      <th id=\"T_33153_level0_row1\" class=\"row_heading level0 row1\" >1</th>\n",
       "      <td id=\"T_33153_row1_col0\" class=\"data row1 col0\" >Target</td>\n",
       "      <td id=\"T_33153_row1_col1\" class=\"data row1 col1\" >risk_user</td>\n",
       "    </tr>\n",
       "    <tr>\n",
       "      <th id=\"T_33153_level0_row2\" class=\"row_heading level0 row2\" >2</th>\n",
       "      <td id=\"T_33153_row2_col0\" class=\"data row2 col0\" >Target Type</td>\n",
       "      <td id=\"T_33153_row2_col1\" class=\"data row2 col1\" >Binary</td>\n",
       "    </tr>\n",
       "    <tr>\n",
       "      <th id=\"T_33153_level0_row3\" class=\"row_heading level0 row3\" >3</th>\n",
       "      <td id=\"T_33153_row3_col0\" class=\"data row3 col0\" >Label Encoded</td>\n",
       "      <td id=\"T_33153_row3_col1\" class=\"data row3 col1\" >None</td>\n",
       "    </tr>\n",
       "    <tr>\n",
       "      <th id=\"T_33153_level0_row4\" class=\"row_heading level0 row4\" >4</th>\n",
       "      <td id=\"T_33153_row4_col0\" class=\"data row4 col0\" >Original Data</td>\n",
       "      <td id=\"T_33153_row4_col1\" class=\"data row4 col1\" >(13634, 19)</td>\n",
       "    </tr>\n",
       "    <tr>\n",
       "      <th id=\"T_33153_level0_row5\" class=\"row_heading level0 row5\" >5</th>\n",
       "      <td id=\"T_33153_row5_col0\" class=\"data row5 col0\" >Missing Values</td>\n",
       "      <td id=\"T_33153_row5_col1\" class=\"data row5 col1\" >False</td>\n",
       "    </tr>\n",
       "    <tr>\n",
       "      <th id=\"T_33153_level0_row6\" class=\"row_heading level0 row6\" >6</th>\n",
       "      <td id=\"T_33153_row6_col0\" class=\"data row6 col0\" >Numeric Features</td>\n",
       "      <td id=\"T_33153_row6_col1\" class=\"data row6 col1\" >6</td>\n",
       "    </tr>\n",
       "    <tr>\n",
       "      <th id=\"T_33153_level0_row7\" class=\"row_heading level0 row7\" >7</th>\n",
       "      <td id=\"T_33153_row7_col0\" class=\"data row7 col0\" >Categorical Features</td>\n",
       "      <td id=\"T_33153_row7_col1\" class=\"data row7 col1\" >11</td>\n",
       "    </tr>\n",
       "    <tr>\n",
       "      <th id=\"T_33153_level0_row8\" class=\"row_heading level0 row8\" >8</th>\n",
       "      <td id=\"T_33153_row8_col0\" class=\"data row8 col0\" >Ordinal Features</td>\n",
       "      <td id=\"T_33153_row8_col1\" class=\"data row8 col1\" >False</td>\n",
       "    </tr>\n",
       "    <tr>\n",
       "      <th id=\"T_33153_level0_row9\" class=\"row_heading level0 row9\" >9</th>\n",
       "      <td id=\"T_33153_row9_col0\" class=\"data row9 col0\" >High Cardinality Features</td>\n",
       "      <td id=\"T_33153_row9_col1\" class=\"data row9 col1\" >False</td>\n",
       "    </tr>\n",
       "    <tr>\n",
       "      <th id=\"T_33153_level0_row10\" class=\"row_heading level0 row10\" >10</th>\n",
       "      <td id=\"T_33153_row10_col0\" class=\"data row10 col0\" >High Cardinality Method</td>\n",
       "      <td id=\"T_33153_row10_col1\" class=\"data row10 col1\" >None</td>\n",
       "    </tr>\n",
       "    <tr>\n",
       "      <th id=\"T_33153_level0_row11\" class=\"row_heading level0 row11\" >11</th>\n",
       "      <td id=\"T_33153_row11_col0\" class=\"data row11 col0\" >Transformed Train Set</td>\n",
       "      <td id=\"T_33153_row11_col1\" class=\"data row11 col1\" >(10907, 49)</td>\n",
       "    </tr>\n",
       "    <tr>\n",
       "      <th id=\"T_33153_level0_row12\" class=\"row_heading level0 row12\" >12</th>\n",
       "      <td id=\"T_33153_row12_col0\" class=\"data row12 col0\" >Transformed Test Set</td>\n",
       "      <td id=\"T_33153_row12_col1\" class=\"data row12 col1\" >(2727, 49)</td>\n",
       "    </tr>\n",
       "    <tr>\n",
       "      <th id=\"T_33153_level0_row13\" class=\"row_heading level0 row13\" >13</th>\n",
       "      <td id=\"T_33153_row13_col0\" class=\"data row13 col0\" >Shuffle Train-Test</td>\n",
       "      <td id=\"T_33153_row13_col1\" class=\"data row13 col1\" >True</td>\n",
       "    </tr>\n",
       "    <tr>\n",
       "      <th id=\"T_33153_level0_row14\" class=\"row_heading level0 row14\" >14</th>\n",
       "      <td id=\"T_33153_row14_col0\" class=\"data row14 col0\" >Stratify Train-Test</td>\n",
       "      <td id=\"T_33153_row14_col1\" class=\"data row14 col1\" >False</td>\n",
       "    </tr>\n",
       "    <tr>\n",
       "      <th id=\"T_33153_level0_row15\" class=\"row_heading level0 row15\" >15</th>\n",
       "      <td id=\"T_33153_row15_col0\" class=\"data row15 col0\" >Fold Generator</td>\n",
       "      <td id=\"T_33153_row15_col1\" class=\"data row15 col1\" >KFold</td>\n",
       "    </tr>\n",
       "    <tr>\n",
       "      <th id=\"T_33153_level0_row16\" class=\"row_heading level0 row16\" >16</th>\n",
       "      <td id=\"T_33153_row16_col0\" class=\"data row16 col0\" >Fold Number</td>\n",
       "      <td id=\"T_33153_row16_col1\" class=\"data row16 col1\" >10</td>\n",
       "    </tr>\n",
       "    <tr>\n",
       "      <th id=\"T_33153_level0_row17\" class=\"row_heading level0 row17\" >17</th>\n",
       "      <td id=\"T_33153_row17_col0\" class=\"data row17 col0\" >CPU Jobs</td>\n",
       "      <td id=\"T_33153_row17_col1\" class=\"data row17 col1\" >-1</td>\n",
       "    </tr>\n",
       "    <tr>\n",
       "      <th id=\"T_33153_level0_row18\" class=\"row_heading level0 row18\" >18</th>\n",
       "      <td id=\"T_33153_row18_col0\" class=\"data row18 col0\" >Use GPU</td>\n",
       "      <td id=\"T_33153_row18_col1\" class=\"data row18 col1\" >True</td>\n",
       "    </tr>\n",
       "    <tr>\n",
       "      <th id=\"T_33153_level0_row19\" class=\"row_heading level0 row19\" >19</th>\n",
       "      <td id=\"T_33153_row19_col0\" class=\"data row19 col0\" >Log Experiment</td>\n",
       "      <td id=\"T_33153_row19_col1\" class=\"data row19 col1\" >False</td>\n",
       "    </tr>\n",
       "    <tr>\n",
       "      <th id=\"T_33153_level0_row20\" class=\"row_heading level0 row20\" >20</th>\n",
       "      <td id=\"T_33153_row20_col0\" class=\"data row20 col0\" >Experiment Name</td>\n",
       "      <td id=\"T_33153_row20_col1\" class=\"data row20 col1\" >clf-default-name</td>\n",
       "    </tr>\n",
       "    <tr>\n",
       "      <th id=\"T_33153_level0_row21\" class=\"row_heading level0 row21\" >21</th>\n",
       "      <td id=\"T_33153_row21_col0\" class=\"data row21 col0\" >USI</td>\n",
       "      <td id=\"T_33153_row21_col1\" class=\"data row21 col1\" >6480</td>\n",
       "    </tr>\n",
       "    <tr>\n",
       "      <th id=\"T_33153_level0_row22\" class=\"row_heading level0 row22\" >22</th>\n",
       "      <td id=\"T_33153_row22_col0\" class=\"data row22 col0\" >Imputation Type</td>\n",
       "      <td id=\"T_33153_row22_col1\" class=\"data row22 col1\" >simple</td>\n",
       "    </tr>\n",
       "    <tr>\n",
       "      <th id=\"T_33153_level0_row23\" class=\"row_heading level0 row23\" >23</th>\n",
       "      <td id=\"T_33153_row23_col0\" class=\"data row23 col0\" >Iterative Imputation Iteration</td>\n",
       "      <td id=\"T_33153_row23_col1\" class=\"data row23 col1\" >None</td>\n",
       "    </tr>\n",
       "    <tr>\n",
       "      <th id=\"T_33153_level0_row24\" class=\"row_heading level0 row24\" >24</th>\n",
       "      <td id=\"T_33153_row24_col0\" class=\"data row24 col0\" >Numeric Imputer</td>\n",
       "      <td id=\"T_33153_row24_col1\" class=\"data row24 col1\" >mean</td>\n",
       "    </tr>\n",
       "    <tr>\n",
       "      <th id=\"T_33153_level0_row25\" class=\"row_heading level0 row25\" >25</th>\n",
       "      <td id=\"T_33153_row25_col0\" class=\"data row25 col0\" >Iterative Imputation Numeric Model</td>\n",
       "      <td id=\"T_33153_row25_col1\" class=\"data row25 col1\" >None</td>\n",
       "    </tr>\n",
       "    <tr>\n",
       "      <th id=\"T_33153_level0_row26\" class=\"row_heading level0 row26\" >26</th>\n",
       "      <td id=\"T_33153_row26_col0\" class=\"data row26 col0\" >Categorical Imputer</td>\n",
       "      <td id=\"T_33153_row26_col1\" class=\"data row26 col1\" >constant</td>\n",
       "    </tr>\n",
       "    <tr>\n",
       "      <th id=\"T_33153_level0_row27\" class=\"row_heading level0 row27\" >27</th>\n",
       "      <td id=\"T_33153_row27_col0\" class=\"data row27 col0\" >Iterative Imputation Categorical Model</td>\n",
       "      <td id=\"T_33153_row27_col1\" class=\"data row27 col1\" >None</td>\n",
       "    </tr>\n",
       "    <tr>\n",
       "      <th id=\"T_33153_level0_row28\" class=\"row_heading level0 row28\" >28</th>\n",
       "      <td id=\"T_33153_row28_col0\" class=\"data row28 col0\" >Unknown Categoricals Handling</td>\n",
       "      <td id=\"T_33153_row28_col1\" class=\"data row28 col1\" >least_frequent</td>\n",
       "    </tr>\n",
       "    <tr>\n",
       "      <th id=\"T_33153_level0_row29\" class=\"row_heading level0 row29\" >29</th>\n",
       "      <td id=\"T_33153_row29_col0\" class=\"data row29 col0\" >Normalize</td>\n",
       "      <td id=\"T_33153_row29_col1\" class=\"data row29 col1\" >False</td>\n",
       "    </tr>\n",
       "    <tr>\n",
       "      <th id=\"T_33153_level0_row30\" class=\"row_heading level0 row30\" >30</th>\n",
       "      <td id=\"T_33153_row30_col0\" class=\"data row30 col0\" >Normalize Method</td>\n",
       "      <td id=\"T_33153_row30_col1\" class=\"data row30 col1\" >None</td>\n",
       "    </tr>\n",
       "    <tr>\n",
       "      <th id=\"T_33153_level0_row31\" class=\"row_heading level0 row31\" >31</th>\n",
       "      <td id=\"T_33153_row31_col0\" class=\"data row31 col0\" >Transformation</td>\n",
       "      <td id=\"T_33153_row31_col1\" class=\"data row31 col1\" >False</td>\n",
       "    </tr>\n",
       "    <tr>\n",
       "      <th id=\"T_33153_level0_row32\" class=\"row_heading level0 row32\" >32</th>\n",
       "      <td id=\"T_33153_row32_col0\" class=\"data row32 col0\" >Transformation Method</td>\n",
       "      <td id=\"T_33153_row32_col1\" class=\"data row32 col1\" >None</td>\n",
       "    </tr>\n",
       "    <tr>\n",
       "      <th id=\"T_33153_level0_row33\" class=\"row_heading level0 row33\" >33</th>\n",
       "      <td id=\"T_33153_row33_col0\" class=\"data row33 col0\" >PCA</td>\n",
       "      <td id=\"T_33153_row33_col1\" class=\"data row33 col1\" >False</td>\n",
       "    </tr>\n",
       "    <tr>\n",
       "      <th id=\"T_33153_level0_row34\" class=\"row_heading level0 row34\" >34</th>\n",
       "      <td id=\"T_33153_row34_col0\" class=\"data row34 col0\" >PCA Method</td>\n",
       "      <td id=\"T_33153_row34_col1\" class=\"data row34 col1\" >None</td>\n",
       "    </tr>\n",
       "    <tr>\n",
       "      <th id=\"T_33153_level0_row35\" class=\"row_heading level0 row35\" >35</th>\n",
       "      <td id=\"T_33153_row35_col0\" class=\"data row35 col0\" >PCA Components</td>\n",
       "      <td id=\"T_33153_row35_col1\" class=\"data row35 col1\" >None</td>\n",
       "    </tr>\n",
       "    <tr>\n",
       "      <th id=\"T_33153_level0_row36\" class=\"row_heading level0 row36\" >36</th>\n",
       "      <td id=\"T_33153_row36_col0\" class=\"data row36 col0\" >Ignore Low Variance</td>\n",
       "      <td id=\"T_33153_row36_col1\" class=\"data row36 col1\" >False</td>\n",
       "    </tr>\n",
       "    <tr>\n",
       "      <th id=\"T_33153_level0_row37\" class=\"row_heading level0 row37\" >37</th>\n",
       "      <td id=\"T_33153_row37_col0\" class=\"data row37 col0\" >Combine Rare Levels</td>\n",
       "      <td id=\"T_33153_row37_col1\" class=\"data row37 col1\" >False</td>\n",
       "    </tr>\n",
       "    <tr>\n",
       "      <th id=\"T_33153_level0_row38\" class=\"row_heading level0 row38\" >38</th>\n",
       "      <td id=\"T_33153_row38_col0\" class=\"data row38 col0\" >Rare Level Threshold</td>\n",
       "      <td id=\"T_33153_row38_col1\" class=\"data row38 col1\" >None</td>\n",
       "    </tr>\n",
       "    <tr>\n",
       "      <th id=\"T_33153_level0_row39\" class=\"row_heading level0 row39\" >39</th>\n",
       "      <td id=\"T_33153_row39_col0\" class=\"data row39 col0\" >Numeric Binning</td>\n",
       "      <td id=\"T_33153_row39_col1\" class=\"data row39 col1\" >False</td>\n",
       "    </tr>\n",
       "    <tr>\n",
       "      <th id=\"T_33153_level0_row40\" class=\"row_heading level0 row40\" >40</th>\n",
       "      <td id=\"T_33153_row40_col0\" class=\"data row40 col0\" >Remove Outliers</td>\n",
       "      <td id=\"T_33153_row40_col1\" class=\"data row40 col1\" >False</td>\n",
       "    </tr>\n",
       "    <tr>\n",
       "      <th id=\"T_33153_level0_row41\" class=\"row_heading level0 row41\" >41</th>\n",
       "      <td id=\"T_33153_row41_col0\" class=\"data row41 col0\" >Outliers Threshold</td>\n",
       "      <td id=\"T_33153_row41_col1\" class=\"data row41 col1\" >None</td>\n",
       "    </tr>\n",
       "    <tr>\n",
       "      <th id=\"T_33153_level0_row42\" class=\"row_heading level0 row42\" >42</th>\n",
       "      <td id=\"T_33153_row42_col0\" class=\"data row42 col0\" >Remove Multicollinearity</td>\n",
       "      <td id=\"T_33153_row42_col1\" class=\"data row42 col1\" >False</td>\n",
       "    </tr>\n",
       "    <tr>\n",
       "      <th id=\"T_33153_level0_row43\" class=\"row_heading level0 row43\" >43</th>\n",
       "      <td id=\"T_33153_row43_col0\" class=\"data row43 col0\" >Multicollinearity Threshold</td>\n",
       "      <td id=\"T_33153_row43_col1\" class=\"data row43 col1\" >None</td>\n",
       "    </tr>\n",
       "    <tr>\n",
       "      <th id=\"T_33153_level0_row44\" class=\"row_heading level0 row44\" >44</th>\n",
       "      <td id=\"T_33153_row44_col0\" class=\"data row44 col0\" >Remove Perfect Collinearity</td>\n",
       "      <td id=\"T_33153_row44_col1\" class=\"data row44 col1\" >True</td>\n",
       "    </tr>\n",
       "    <tr>\n",
       "      <th id=\"T_33153_level0_row45\" class=\"row_heading level0 row45\" >45</th>\n",
       "      <td id=\"T_33153_row45_col0\" class=\"data row45 col0\" >Clustering</td>\n",
       "      <td id=\"T_33153_row45_col1\" class=\"data row45 col1\" >False</td>\n",
       "    </tr>\n",
       "    <tr>\n",
       "      <th id=\"T_33153_level0_row46\" class=\"row_heading level0 row46\" >46</th>\n",
       "      <td id=\"T_33153_row46_col0\" class=\"data row46 col0\" >Clustering Iteration</td>\n",
       "      <td id=\"T_33153_row46_col1\" class=\"data row46 col1\" >None</td>\n",
       "    </tr>\n",
       "    <tr>\n",
       "      <th id=\"T_33153_level0_row47\" class=\"row_heading level0 row47\" >47</th>\n",
       "      <td id=\"T_33153_row47_col0\" class=\"data row47 col0\" >Polynomial Features</td>\n",
       "      <td id=\"T_33153_row47_col1\" class=\"data row47 col1\" >False</td>\n",
       "    </tr>\n",
       "    <tr>\n",
       "      <th id=\"T_33153_level0_row48\" class=\"row_heading level0 row48\" >48</th>\n",
       "      <td id=\"T_33153_row48_col0\" class=\"data row48 col0\" >Polynomial Degree</td>\n",
       "      <td id=\"T_33153_row48_col1\" class=\"data row48 col1\" >None</td>\n",
       "    </tr>\n",
       "    <tr>\n",
       "      <th id=\"T_33153_level0_row49\" class=\"row_heading level0 row49\" >49</th>\n",
       "      <td id=\"T_33153_row49_col0\" class=\"data row49 col0\" >Trignometry Features</td>\n",
       "      <td id=\"T_33153_row49_col1\" class=\"data row49 col1\" >False</td>\n",
       "    </tr>\n",
       "    <tr>\n",
       "      <th id=\"T_33153_level0_row50\" class=\"row_heading level0 row50\" >50</th>\n",
       "      <td id=\"T_33153_row50_col0\" class=\"data row50 col0\" >Polynomial Threshold</td>\n",
       "      <td id=\"T_33153_row50_col1\" class=\"data row50 col1\" >None</td>\n",
       "    </tr>\n",
       "    <tr>\n",
       "      <th id=\"T_33153_level0_row51\" class=\"row_heading level0 row51\" >51</th>\n",
       "      <td id=\"T_33153_row51_col0\" class=\"data row51 col0\" >Group Features</td>\n",
       "      <td id=\"T_33153_row51_col1\" class=\"data row51 col1\" >False</td>\n",
       "    </tr>\n",
       "    <tr>\n",
       "      <th id=\"T_33153_level0_row52\" class=\"row_heading level0 row52\" >52</th>\n",
       "      <td id=\"T_33153_row52_col0\" class=\"data row52 col0\" >Feature Selection</td>\n",
       "      <td id=\"T_33153_row52_col1\" class=\"data row52 col1\" >False</td>\n",
       "    </tr>\n",
       "    <tr>\n",
       "      <th id=\"T_33153_level0_row53\" class=\"row_heading level0 row53\" >53</th>\n",
       "      <td id=\"T_33153_row53_col0\" class=\"data row53 col0\" >Feature Selection Method</td>\n",
       "      <td id=\"T_33153_row53_col1\" class=\"data row53 col1\" >classic</td>\n",
       "    </tr>\n",
       "    <tr>\n",
       "      <th id=\"T_33153_level0_row54\" class=\"row_heading level0 row54\" >54</th>\n",
       "      <td id=\"T_33153_row54_col0\" class=\"data row54 col0\" >Features Selection Threshold</td>\n",
       "      <td id=\"T_33153_row54_col1\" class=\"data row54 col1\" >None</td>\n",
       "    </tr>\n",
       "    <tr>\n",
       "      <th id=\"T_33153_level0_row55\" class=\"row_heading level0 row55\" >55</th>\n",
       "      <td id=\"T_33153_row55_col0\" class=\"data row55 col0\" >Feature Interaction</td>\n",
       "      <td id=\"T_33153_row55_col1\" class=\"data row55 col1\" >False</td>\n",
       "    </tr>\n",
       "    <tr>\n",
       "      <th id=\"T_33153_level0_row56\" class=\"row_heading level0 row56\" >56</th>\n",
       "      <td id=\"T_33153_row56_col0\" class=\"data row56 col0\" >Feature Ratio</td>\n",
       "      <td id=\"T_33153_row56_col1\" class=\"data row56 col1\" >False</td>\n",
       "    </tr>\n",
       "    <tr>\n",
       "      <th id=\"T_33153_level0_row57\" class=\"row_heading level0 row57\" >57</th>\n",
       "      <td id=\"T_33153_row57_col0\" class=\"data row57 col0\" >Interaction Threshold</td>\n",
       "      <td id=\"T_33153_row57_col1\" class=\"data row57 col1\" >None</td>\n",
       "    </tr>\n",
       "    <tr>\n",
       "      <th id=\"T_33153_level0_row58\" class=\"row_heading level0 row58\" >58</th>\n",
       "      <td id=\"T_33153_row58_col0\" class=\"data row58 col0\" >Fix Imbalance</td>\n",
       "      <td id=\"T_33153_row58_col1\" class=\"data row58 col1\" >True</td>\n",
       "    </tr>\n",
       "    <tr>\n",
       "      <th id=\"T_33153_level0_row59\" class=\"row_heading level0 row59\" >59</th>\n",
       "      <td id=\"T_33153_row59_col0\" class=\"data row59 col0\" >Fix Imbalance Method</td>\n",
       "      <td id=\"T_33153_row59_col1\" class=\"data row59 col1\" >AllKNN</td>\n",
       "    </tr>\n",
       "  </tbody>\n",
       "</table>\n"
      ],
      "text/plain": [
       "<pandas.io.formats.style.Styler at 0x7fb66df55310>"
      ]
     },
     "metadata": {},
     "output_type": "display_data"
    }
   ],
   "source": [
    "stp_downsampled = pycaret.classification.setup(data = training_data, target = 'risk_user', train_size = 0.8,\n",
    "            categorical_features = categorical_features,  fold_strategy = 'kfold',\n",
    "            fix_imbalance = True, fix_imbalance_method = imblearn.under_sampling.AllKNN() , fold = 10,\n",
    "            ignore_features = ['applicant_ID'],use_gpu=True)"
   ]
  },
  {
   "cell_type": "code",
   "execution_count": 47,
   "metadata": {},
   "outputs": [
    {
     "data": {
      "text/html": [
       "<style type=\"text/css\">\n",
       "#T_31203 th {\n",
       "  text-align: left;\n",
       "}\n",
       "#T_31203_row0_col0, #T_31203_row0_col2, #T_31203_row0_col3, #T_31203_row0_col4, #T_31203_row0_col5, #T_31203_row0_col6, #T_31203_row0_col7, #T_31203_row1_col0, #T_31203_row1_col1, #T_31203_row1_col2, #T_31203_row1_col3, #T_31203_row1_col4, #T_31203_row1_col5, #T_31203_row1_col6, #T_31203_row1_col7, #T_31203_row2_col0, #T_31203_row2_col1, #T_31203_row2_col2, #T_31203_row2_col3, #T_31203_row2_col4, #T_31203_row2_col5, #T_31203_row2_col6, #T_31203_row2_col7, #T_31203_row3_col0, #T_31203_row3_col1, #T_31203_row3_col2, #T_31203_row3_col3, #T_31203_row3_col4, #T_31203_row3_col5, #T_31203_row3_col6, #T_31203_row3_col7, #T_31203_row4_col0, #T_31203_row4_col1, #T_31203_row4_col2, #T_31203_row4_col3, #T_31203_row4_col4, #T_31203_row4_col5, #T_31203_row4_col6, #T_31203_row4_col7, #T_31203_row5_col0, #T_31203_row5_col1, #T_31203_row5_col2, #T_31203_row5_col3, #T_31203_row5_col4, #T_31203_row5_col5, #T_31203_row5_col6, #T_31203_row5_col7, #T_31203_row6_col0, #T_31203_row6_col1, #T_31203_row6_col2, #T_31203_row6_col3, #T_31203_row6_col5, #T_31203_row6_col6, #T_31203_row6_col7, #T_31203_row7_col0, #T_31203_row7_col1, #T_31203_row7_col2, #T_31203_row7_col3, #T_31203_row7_col4, #T_31203_row7_col5, #T_31203_row7_col6, #T_31203_row7_col7, #T_31203_row8_col0, #T_31203_row8_col1, #T_31203_row8_col2, #T_31203_row8_col3, #T_31203_row8_col4, #T_31203_row8_col5, #T_31203_row8_col6, #T_31203_row8_col7, #T_31203_row9_col0, #T_31203_row9_col1, #T_31203_row9_col2, #T_31203_row9_col3, #T_31203_row9_col4, #T_31203_row10_col0, #T_31203_row10_col1, #T_31203_row10_col2, #T_31203_row10_col3, #T_31203_row10_col4, #T_31203_row10_col5, #T_31203_row10_col6, #T_31203_row10_col7, #T_31203_row11_col0, #T_31203_row11_col1, #T_31203_row11_col4, #T_31203_row11_col5, #T_31203_row11_col6, #T_31203_row11_col7, #T_31203_row12_col0, #T_31203_row12_col1, #T_31203_row12_col2, #T_31203_row12_col3, #T_31203_row12_col4, #T_31203_row12_col5, #T_31203_row12_col6, #T_31203_row12_col7 {\n",
       "  text-align: left;\n",
       "}\n",
       "#T_31203_row0_col1, #T_31203_row6_col4, #T_31203_row9_col5, #T_31203_row9_col6, #T_31203_row9_col7, #T_31203_row11_col2, #T_31203_row11_col3 {\n",
       "  text-align: left;\n",
       "  background-color: yellow;\n",
       "}\n",
       "#T_31203_row0_col8, #T_31203_row1_col8, #T_31203_row2_col8, #T_31203_row3_col8, #T_31203_row4_col8, #T_31203_row5_col8, #T_31203_row6_col8, #T_31203_row7_col8, #T_31203_row8_col8, #T_31203_row9_col8, #T_31203_row11_col8, #T_31203_row12_col8 {\n",
       "  text-align: left;\n",
       "  background-color: lightgrey;\n",
       "}\n",
       "#T_31203_row10_col8 {\n",
       "  text-align: left;\n",
       "  background-color: yellow;\n",
       "  background-color: lightgrey;\n",
       "}\n",
       "</style>\n",
       "<table id=\"T_31203\">\n",
       "  <thead>\n",
       "    <tr>\n",
       "      <th class=\"blank level0\" >&nbsp;</th>\n",
       "      <th id=\"T_31203_level0_col0\" class=\"col_heading level0 col0\" >Model</th>\n",
       "      <th id=\"T_31203_level0_col1\" class=\"col_heading level0 col1\" >Accuracy</th>\n",
       "      <th id=\"T_31203_level0_col2\" class=\"col_heading level0 col2\" >AUC</th>\n",
       "      <th id=\"T_31203_level0_col3\" class=\"col_heading level0 col3\" >Recall</th>\n",
       "      <th id=\"T_31203_level0_col4\" class=\"col_heading level0 col4\" >Prec.</th>\n",
       "      <th id=\"T_31203_level0_col5\" class=\"col_heading level0 col5\" >F1</th>\n",
       "      <th id=\"T_31203_level0_col6\" class=\"col_heading level0 col6\" >Kappa</th>\n",
       "      <th id=\"T_31203_level0_col7\" class=\"col_heading level0 col7\" >MCC</th>\n",
       "      <th id=\"T_31203_level0_col8\" class=\"col_heading level0 col8\" >TT (Sec)</th>\n",
       "    </tr>\n",
       "  </thead>\n",
       "  <tbody>\n",
       "    <tr>\n",
       "      <th id=\"T_31203_level0_row0\" class=\"row_heading level0 row0\" >ridge</th>\n",
       "      <td id=\"T_31203_row0_col0\" class=\"data row0 col0\" >Ridge Classifier</td>\n",
       "      <td id=\"T_31203_row0_col1\" class=\"data row0 col1\" >0.9970</td>\n",
       "      <td id=\"T_31203_row0_col2\" class=\"data row0 col2\" >0.0000</td>\n",
       "      <td id=\"T_31203_row0_col3\" class=\"data row0 col3\" >0.0333</td>\n",
       "      <td id=\"T_31203_row0_col4\" class=\"data row0 col4\" >0.1000</td>\n",
       "      <td id=\"T_31203_row0_col5\" class=\"data row0 col5\" >0.0500</td>\n",
       "      <td id=\"T_31203_row0_col6\" class=\"data row0 col6\" >nan</td>\n",
       "      <td id=\"T_31203_row0_col7\" class=\"data row0 col7\" >0.0577</td>\n",
       "      <td id=\"T_31203_row0_col8\" class=\"data row0 col8\" >3.0640</td>\n",
       "    </tr>\n",
       "    <tr>\n",
       "      <th id=\"T_31203_level0_row1\" class=\"row_heading level0 row1\" >lr</th>\n",
       "      <td id=\"T_31203_row1_col0\" class=\"data row1 col0\" >Logistic Regression</td>\n",
       "      <td id=\"T_31203_row1_col1\" class=\"data row1 col1\" >0.9969</td>\n",
       "      <td id=\"T_31203_row1_col2\" class=\"data row1 col2\" >0.7832</td>\n",
       "      <td id=\"T_31203_row1_col3\" class=\"data row1 col3\" >0.1950</td>\n",
       "      <td id=\"T_31203_row1_col4\" class=\"data row1 col4\" >0.3333</td>\n",
       "      <td id=\"T_31203_row1_col5\" class=\"data row1 col5\" >0.2407</td>\n",
       "      <td id=\"T_31203_row1_col6\" class=\"data row1 col6\" >0.2398</td>\n",
       "      <td id=\"T_31203_row1_col7\" class=\"data row1 col7\" >0.2509</td>\n",
       "      <td id=\"T_31203_row1_col8\" class=\"data row1 col8\" >1.4950</td>\n",
       "    </tr>\n",
       "    <tr>\n",
       "      <th id=\"T_31203_level0_row2\" class=\"row_heading level0 row2\" >knn</th>\n",
       "      <td id=\"T_31203_row2_col0\" class=\"data row2 col0\" >K Neighbors Classifier</td>\n",
       "      <td id=\"T_31203_row2_col1\" class=\"data row2 col1\" >0.9969</td>\n",
       "      <td id=\"T_31203_row2_col2\" class=\"data row2 col2\" >0.5496</td>\n",
       "      <td id=\"T_31203_row2_col3\" class=\"data row2 col3\" >0.0000</td>\n",
       "      <td id=\"T_31203_row2_col4\" class=\"data row2 col4\" >0.0000</td>\n",
       "      <td id=\"T_31203_row2_col5\" class=\"data row2 col5\" >0.0000</td>\n",
       "      <td id=\"T_31203_row2_col6\" class=\"data row2 col6\" >nan</td>\n",
       "      <td id=\"T_31203_row2_col7\" class=\"data row2 col7\" >0.0000</td>\n",
       "      <td id=\"T_31203_row2_col8\" class=\"data row2 col8\" >2.5660</td>\n",
       "    </tr>\n",
       "    <tr>\n",
       "      <th id=\"T_31203_level0_row3\" class=\"row_heading level0 row3\" >svm</th>\n",
       "      <td id=\"T_31203_row3_col0\" class=\"data row3 col0\" >SVM - Linear Kernel</td>\n",
       "      <td id=\"T_31203_row3_col1\" class=\"data row3 col1\" >0.9969</td>\n",
       "      <td id=\"T_31203_row3_col2\" class=\"data row3 col2\" >0.0000</td>\n",
       "      <td id=\"T_31203_row3_col3\" class=\"data row3 col3\" >0.0000</td>\n",
       "      <td id=\"T_31203_row3_col4\" class=\"data row3 col4\" >0.0000</td>\n",
       "      <td id=\"T_31203_row3_col5\" class=\"data row3 col5\" >0.0000</td>\n",
       "      <td id=\"T_31203_row3_col6\" class=\"data row3 col6\" >nan</td>\n",
       "      <td id=\"T_31203_row3_col7\" class=\"data row3 col7\" >0.0000</td>\n",
       "      <td id=\"T_31203_row3_col8\" class=\"data row3 col8\" >1.4820</td>\n",
       "    </tr>\n",
       "    <tr>\n",
       "      <th id=\"T_31203_level0_row4\" class=\"row_heading level0 row4\" >rf</th>\n",
       "      <td id=\"T_31203_row4_col0\" class=\"data row4 col0\" >Random Forest Classifier</td>\n",
       "      <td id=\"T_31203_row4_col1\" class=\"data row4 col1\" >0.9969</td>\n",
       "      <td id=\"T_31203_row4_col2\" class=\"data row4 col2\" >0.8343</td>\n",
       "      <td id=\"T_31203_row4_col3\" class=\"data row4 col3\" >0.0700</td>\n",
       "      <td id=\"T_31203_row4_col4\" class=\"data row4 col4\" >0.3000</td>\n",
       "      <td id=\"T_31203_row4_col5\" class=\"data row4 col5\" >0.1133</td>\n",
       "      <td id=\"T_31203_row4_col6\" class=\"data row4 col6\" >0.1128</td>\n",
       "      <td id=\"T_31203_row4_col7\" class=\"data row4 col7\" >0.1441</td>\n",
       "      <td id=\"T_31203_row4_col8\" class=\"data row4 col8\" >2.5900</td>\n",
       "    </tr>\n",
       "    <tr>\n",
       "      <th id=\"T_31203_level0_row5\" class=\"row_heading level0 row5\" >et</th>\n",
       "      <td id=\"T_31203_row5_col0\" class=\"data row5 col0\" >Extra Trees Classifier</td>\n",
       "      <td id=\"T_31203_row5_col1\" class=\"data row5 col1\" >0.9969</td>\n",
       "      <td id=\"T_31203_row5_col2\" class=\"data row5 col2\" >0.8361</td>\n",
       "      <td id=\"T_31203_row5_col3\" class=\"data row5 col3\" >0.1200</td>\n",
       "      <td id=\"T_31203_row5_col4\" class=\"data row5 col4\" >0.3500</td>\n",
       "      <td id=\"T_31203_row5_col5\" class=\"data row5 col5\" >0.1736</td>\n",
       "      <td id=\"T_31203_row5_col6\" class=\"data row5 col6\" >0.1727</td>\n",
       "      <td id=\"T_31203_row5_col7\" class=\"data row5 col7\" >0.2005</td>\n",
       "      <td id=\"T_31203_row5_col8\" class=\"data row5 col8\" >2.3200</td>\n",
       "    </tr>\n",
       "    <tr>\n",
       "      <th id=\"T_31203_level0_row6\" class=\"row_heading level0 row6\" >ada</th>\n",
       "      <td id=\"T_31203_row6_col0\" class=\"data row6 col0\" >Ada Boost Classifier</td>\n",
       "      <td id=\"T_31203_row6_col1\" class=\"data row6 col1\" >0.9964</td>\n",
       "      <td id=\"T_31203_row6_col2\" class=\"data row6 col2\" >0.8702</td>\n",
       "      <td id=\"T_31203_row6_col3\" class=\"data row6 col3\" >0.3267</td>\n",
       "      <td id=\"T_31203_row6_col4\" class=\"data row6 col4\" >0.4608</td>\n",
       "      <td id=\"T_31203_row6_col5\" class=\"data row6 col5\" >0.3492</td>\n",
       "      <td id=\"T_31203_row6_col6\" class=\"data row6 col6\" >0.3478</td>\n",
       "      <td id=\"T_31203_row6_col7\" class=\"data row6 col7\" >0.3682</td>\n",
       "      <td id=\"T_31203_row6_col8\" class=\"data row6 col8\" >1.8560</td>\n",
       "    </tr>\n",
       "    <tr>\n",
       "      <th id=\"T_31203_level0_row7\" class=\"row_heading level0 row7\" >lightgbm</th>\n",
       "      <td id=\"T_31203_row7_col0\" class=\"data row7 col0\" >Light Gradient Boosting Machine</td>\n",
       "      <td id=\"T_31203_row7_col1\" class=\"data row7 col1\" >0.9962</td>\n",
       "      <td id=\"T_31203_row7_col2\" class=\"data row7 col2\" >0.8526</td>\n",
       "      <td id=\"T_31203_row7_col3\" class=\"data row7 col3\" >0.2067</td>\n",
       "      <td id=\"T_31203_row7_col4\" class=\"data row7 col4\" >0.3417</td>\n",
       "      <td id=\"T_31203_row7_col5\" class=\"data row7 col5\" >0.2499</td>\n",
       "      <td id=\"T_31203_row7_col6\" class=\"data row7 col6\" >0.2485</td>\n",
       "      <td id=\"T_31203_row7_col7\" class=\"data row7 col7\" >0.2599</td>\n",
       "      <td id=\"T_31203_row7_col8\" class=\"data row7 col8\" >1.9610</td>\n",
       "    </tr>\n",
       "    <tr>\n",
       "      <th id=\"T_31203_level0_row8\" class=\"row_heading level0 row8\" >gbc</th>\n",
       "      <td id=\"T_31203_row8_col0\" class=\"data row8 col0\" >Gradient Boosting Classifier</td>\n",
       "      <td id=\"T_31203_row8_col1\" class=\"data row8 col1\" >0.9959</td>\n",
       "      <td id=\"T_31203_row8_col2\" class=\"data row8 col2\" >0.7515</td>\n",
       "      <td id=\"T_31203_row8_col3\" class=\"data row8 col3\" >0.3433</td>\n",
       "      <td id=\"T_31203_row8_col4\" class=\"data row8 col4\" >0.4367</td>\n",
       "      <td id=\"T_31203_row8_col5\" class=\"data row8 col5\" >0.3432</td>\n",
       "      <td id=\"T_31203_row8_col6\" class=\"data row8 col6\" >0.3414</td>\n",
       "      <td id=\"T_31203_row8_col7\" class=\"data row8 col7\" >0.3621</td>\n",
       "      <td id=\"T_31203_row8_col8\" class=\"data row8 col8\" >3.4830</td>\n",
       "    </tr>\n",
       "    <tr>\n",
       "      <th id=\"T_31203_level0_row9\" class=\"row_heading level0 row9\" >dt</th>\n",
       "      <td id=\"T_31203_row9_col0\" class=\"data row9 col0\" >Decision Tree Classifier</td>\n",
       "      <td id=\"T_31203_row9_col1\" class=\"data row9 col1\" >0.9958</td>\n",
       "      <td id=\"T_31203_row9_col2\" class=\"data row9 col2\" >0.6607</td>\n",
       "      <td id=\"T_31203_row9_col3\" class=\"data row9 col3\" >0.4233</td>\n",
       "      <td id=\"T_31203_row9_col4\" class=\"data row9 col4\" >0.3645</td>\n",
       "      <td id=\"T_31203_row9_col5\" class=\"data row9 col5\" >0.3834</td>\n",
       "      <td id=\"T_31203_row9_col6\" class=\"data row9 col6\" >0.3816</td>\n",
       "      <td id=\"T_31203_row9_col7\" class=\"data row9 col7\" >0.3868</td>\n",
       "      <td id=\"T_31203_row9_col8\" class=\"data row9 col8\" >1.4320</td>\n",
       "    </tr>\n",
       "    <tr>\n",
       "      <th id=\"T_31203_level0_row10\" class=\"row_heading level0 row10\" >nb</th>\n",
       "      <td id=\"T_31203_row10_col0\" class=\"data row10 col0\" >Naive Bayes</td>\n",
       "      <td id=\"T_31203_row10_col1\" class=\"data row10 col1\" >0.9936</td>\n",
       "      <td id=\"T_31203_row10_col2\" class=\"data row10 col2\" >0.8606</td>\n",
       "      <td id=\"T_31203_row10_col3\" class=\"data row10 col3\" >0.2750</td>\n",
       "      <td id=\"T_31203_row10_col4\" class=\"data row10 col4\" >0.1579</td>\n",
       "      <td id=\"T_31203_row10_col5\" class=\"data row10 col5\" >0.1981</td>\n",
       "      <td id=\"T_31203_row10_col6\" class=\"data row10 col6\" >0.1953</td>\n",
       "      <td id=\"T_31203_row10_col7\" class=\"data row10 col7\" >0.2041</td>\n",
       "      <td id=\"T_31203_row10_col8\" class=\"data row10 col8\" >1.3360</td>\n",
       "    </tr>\n",
       "    <tr>\n",
       "      <th id=\"T_31203_level0_row11\" class=\"row_heading level0 row11\" >lda</th>\n",
       "      <td id=\"T_31203_row11_col0\" class=\"data row11 col0\" >Linear Discriminant Analysis</td>\n",
       "      <td id=\"T_31203_row11_col1\" class=\"data row11 col1\" >0.9904</td>\n",
       "      <td id=\"T_31203_row11_col2\" class=\"data row11 col2\" >0.8889</td>\n",
       "      <td id=\"T_31203_row11_col3\" class=\"data row11 col3\" >0.5017</td>\n",
       "      <td id=\"T_31203_row11_col4\" class=\"data row11 col4\" >0.1844</td>\n",
       "      <td id=\"T_31203_row11_col5\" class=\"data row11 col5\" >0.2662</td>\n",
       "      <td id=\"T_31203_row11_col6\" class=\"data row11 col6\" >0.2630</td>\n",
       "      <td id=\"T_31203_row11_col7\" class=\"data row11 col7\" >0.2981</td>\n",
       "      <td id=\"T_31203_row11_col8\" class=\"data row11 col8\" >1.3790</td>\n",
       "    </tr>\n",
       "    <tr>\n",
       "      <th id=\"T_31203_level0_row12\" class=\"row_heading level0 row12\" >qda</th>\n",
       "      <td id=\"T_31203_row12_col0\" class=\"data row12 col0\" >Quadratic Discriminant Analysis</td>\n",
       "      <td id=\"T_31203_row12_col1\" class=\"data row12 col1\" >0.9443</td>\n",
       "      <td id=\"T_31203_row12_col2\" class=\"data row12 col2\" >0.5058</td>\n",
       "      <td id=\"T_31203_row12_col3\" class=\"data row12 col3\" >0.1117</td>\n",
       "      <td id=\"T_31203_row12_col4\" class=\"data row12 col4\" >0.4500</td>\n",
       "      <td id=\"T_31203_row12_col5\" class=\"data row12 col5\" >0.1752</td>\n",
       "      <td id=\"T_31203_row12_col6\" class=\"data row12 col6\" >0.1747</td>\n",
       "      <td id=\"T_31203_row12_col7\" class=\"data row12 col7\" >0.2204</td>\n",
       "      <td id=\"T_31203_row12_col8\" class=\"data row12 col8\" >1.8380</td>\n",
       "    </tr>\n",
       "  </tbody>\n",
       "</table>\n"
      ],
      "text/plain": [
       "<pandas.io.formats.style.Styler at 0x7fb652b44940>"
      ]
     },
     "metadata": {},
     "output_type": "display_data"
    }
   ],
   "source": [
    "best_model_with_downsampling = compare_models(exclude = ['dummy'])"
   ]
  },
  {
   "cell_type": "code",
   "execution_count": 54,
   "metadata": {},
   "outputs": [
    {
     "name": "stdout",
     "output_type": "stream",
     "text": [
      "RidgeClassifier(alpha=1.0, class_weight=None, copy_X=True, fit_intercept=True,\n",
      "                max_iter=None, normalize=False, random_state=1723,\n",
      "                solver='auto', tol=0.001)\n"
     ]
    }
   ],
   "source": [
    "print(best_model_with_downsampling)"
   ]
  },
  {
   "cell_type": "code",
   "execution_count": null,
   "metadata": {},
   "outputs": [
    {
     "data": {
      "application/vnd.jupyter.widget-view+json": {
       "model_id": "a19791711ce4447e978fa98fb67e28b8",
       "version_major": 2,
       "version_minor": 0
      },
      "text/plain": [
       "interactive(children=(ToggleButtons(description='Plot Type:', icons=('',), options=(('Hyperparameters', 'param…"
      ]
     },
     "metadata": {},
     "output_type": "display_data"
    }
   ],
   "source": [
    "evaluate_model(best_model_with_downsampling)"
   ]
  },
  {
   "cell_type": "code",
   "execution_count": 19,
   "metadata": {},
   "outputs": [
    {
     "data": {
      "text/html": [],
      "text/plain": [
       "<IPython.core.display.HTML object>"
      ]
     },
     "metadata": {},
     "output_type": "display_data"
    },
    {
     "data": {
      "image/png": "[encoded data removed]",
      "text/plain": [
       "<Figure size 432x288 with 2 Axes>"
      ]
     },
     "metadata": {
      "needs_background": "light"
     },
     "output_type": "display_data"
    }
   ],
   "source": [
    "plot_model(best_model_with_downsampling, plot = 'class_report')"
   ]
  },
  {
   "cell_type": "code",
   "execution_count": 20,
   "metadata": {},
   "outputs": [
    {
     "data": {
      "text/html": [],
      "text/plain": [
       "<IPython.core.display.HTML object>"
      ]
     },
     "metadata": {},
     "output_type": "display_data"
    },
    {
     "data": {
      "image/png": "[encoded data removed]",
      "text/plain": [
       "<Figure size 432x288 with 1 Axes>"
      ]
     },
     "metadata": {
      "needs_background": "light"
     },
     "output_type": "display_data"
    }
   ],
   "source": [
    "plot_model(best_model_with_downsampling, plot = 'error')"
   ]
  },
  {
   "cell_type": "markdown",
   "metadata": {},
   "source": [
    "Theorie: Precision/recall Kurve"
   ]
  },
  {
   "cell_type": "code",
   "execution_count": 21,
   "metadata": {},
   "outputs": [
    {
     "data": {
      "text/html": [],
      "text/plain": [
       "<IPython.core.display.HTML object>"
      ]
     },
     "metadata": {},
     "output_type": "display_data"
    },
    {
     "data": {
      "image/png": "[encoded data removed]",
      "text/plain": [
       "<Figure size 432x288 with 1 Axes>"
      ]
     },
     "metadata": {
      "needs_background": "light"
     },
     "output_type": "display_data"
    }
   ],
   "source": [
    "plot_model(best_model_with_downsampling, plot = 'pr')"
   ]
  },
  {
   "cell_type": "markdown",
   "metadata": {},
   "source": [
    "theorie: Learning curve.\n",
    "\n",
    "Notiz: generell sieht man hier, das das Model anfang erst underfittet bzw unfähig ist mit der Komplesitöt im Datensatz klarzukommen."
   ]
  },
  {
   "cell_type": "code",
   "execution_count": 22,
   "metadata": {},
   "outputs": [
    {
     "data": {
      "text/html": [],
      "text/plain": [
       "<IPython.core.display.HTML object>"
      ]
     },
     "metadata": {},
     "output_type": "display_data"
    },
    {
     "data": {
      "image/png": "[encoded data removed]",
      "text/plain": [
       "<Figure size 432x288 with 1 Axes>"
      ]
     },
     "metadata": {
      "needs_background": "light"
     },
     "output_type": "display_data"
    }
   ],
   "source": [
    "plot_model(best_model_with_downsampling, plot = 'learning')"
   ]
  },
  {
   "cell_type": "markdown",
   "metadata": {},
   "source": [
    "## Anderer Ansatz"
   ]
  },
  {
   "cell_type": "markdown",
   "metadata": {},
   "source": [
    "Es ist auffällig, wie die Accuracy von den vorgeschlagenen Modellen sowohl mithilfe von Oversampling als auch downsampling aus Pycaret so hoch ist. Die Vermutung ist, dass eine 100-prozentige Genauigkeit erreicht wurden ist, indem das Modell einfach alle Nullen in diesem speziellen Fall im Datensatz vorhergesagt haben. \n",
    "\n"
   ]
  },
  {
   "cell_type": "code",
   "execution_count": 51,
   "metadata": {},
   "outputs": [],
   "source": [
    "train=pd.read_csv('Application_Data.csv',sep=',').sample(frac=1.0, random_state=0)\n",
    "target = 'risk_user'\n",
    "modeltype = 'Classification'"
   ]
  },
  {
   "cell_type": "code",
   "execution_count": 69,
   "metadata": {},
   "outputs": [
    {
     "name": "stdout",
     "output_type": "stream",
     "text": [
      "Accuracy of Naive model = 0%\n"
     ]
    }
   ],
   "source": [
    "from sklearn.metrics import accuracy_score\n",
    "print('Accuracy of Naive model = %0.0f%%' %(100*accuracy_score(cca_for_test[target], np.ones(cca_for_test[target].shape[0]))))"
   ]
  },
  {
   "cell_type": "code",
   "execution_count": 70,
   "metadata": {},
   "outputs": [
    {
     "name": "stdout",
     "output_type": "stream",
     "text": [
      "Balanced Accuracy of Naive model = 50%\n"
     ]
    }
   ],
   "source": [
    "from sklearn.metrics import balanced_accuracy_score\n",
    "print('Balanced Accuracy of Naive model = %0.0f%%' %(100*balanced_accuracy_score(cca_for_test[target], np.ones(cca_for_test[target].shape[0]))))"
   ]
  },
  {
   "cell_type": "code",
   "execution_count": 71,
   "metadata": {},
   "outputs": [
    {
     "data": {
      "text/plain": [
       "0    25062\n",
       "1       72\n",
       "Name: risk_user, dtype: int64"
      ]
     },
     "execution_count": 71,
     "metadata": {},
     "output_type": "execute_result"
    }
   ],
   "source": [
    "cca_for_test[target].value_counts()"
   ]
  },
  {
   "cell_type": "code",
   "execution_count": 52,
   "metadata": {},
   "outputs": [
    {
     "data": {
      "text/plain": [
       "['applicant_ID']"
      ]
     },
     "execution_count": 52,
     "metadata": {},
     "output_type": "execute_result"
    }
   ],
   "source": [
    "## First we will check for and remove ID variables\n",
    "nunique_train=cca_for_test.nunique().reset_index()\n",
    "idvars = nunique_train[(nunique_train[0]==len(cca_for_test)) | (nunique_train[0]==0) | (nunique_train[0]==1) ]['index'].tolist()\n",
    "idvars"
   ]
  },
  {
   "cell_type": "code",
   "execution_count": 74,
   "metadata": {},
   "outputs": [
    {
     "data": {
      "text/plain": [
       "17"
      ]
     },
     "execution_count": 74,
     "metadata": {},
     "output_type": "execute_result"
    }
   ],
   "source": [
    "if isinstance(target, str):\n",
    "    preds = [x for x in list(cca_for_test) if x not in idvars+[target]]\n",
    "else:\n",
    "    preds = [x for x in list(cca_for_test) if x not in idvars+target]\n",
    "len(preds)"
   ]
  },
  {
   "cell_type": "code",
   "execution_count": 75,
   "metadata": {},
   "outputs": [
    {
     "data": {
      "text/plain": [
       "((20107, 17), (5027, 17))"
      ]
     },
     "execution_count": 75,
     "metadata": {},
     "output_type": "execute_result"
    }
   ],
   "source": [
    "from sklearn.model_selection import train_test_split\n",
    "seed = 0\n",
    "test_size = 0.2\n",
    "X_train = cca_for_test[preds]\n",
    "y_train = cca_for_test[target]\n",
    "if modeltype =='Regression':\n",
    "    X_train, X_test, y_train, y_test = train_test_split(X_train, y_train, test_size=test_size, random_state=seed)\n",
    "else:\n",
    "    try:\n",
    "        X_train, X_test, y_train, y_test = train_test_split(X_train, y_train, test_size=test_size, random_state=seed,shuffle=True, stratify=y)\n",
    "    except:\n",
    "        X_train, X_test, y_train, y_test = train_test_split(X_train, y_train, test_size=test_size, random_state=seed)\n",
    "X_train.shape, X_test.shape\n"
   ]
  },
  {
   "cell_type": "markdown",
   "metadata": {},
   "source": [
    "Folgende Scritte sind:\n",
    "- alle Objektvariablen in numerische umzmwandeln\n",
    "- Ein hochgradig abgestimmtes Modell aufbauen, um Ungleichgewichte zu erkennen und entsprechend zu handeln.\n",
    "\n",
    "Hier bei verwenden wir in diesem Projekt die Featurewiz unddie lazytransform-Bibliothek."
   ]
  },
  {
   "cell_type": "code",
   "execution_count": 55,
   "metadata": {},
   "outputs": [],
   "source": [
    "lazy = LazyTransformer(transform_target=False, encoders='label', \n",
    "                       combine_rare=False, verbose=2)\n",
    "#lazy"
   ]
  },
  {
   "cell_type": "code",
   "execution_count": 56,
   "metadata": {},
   "outputs": [
    {
     "name": "stdout",
     "output_type": "stream",
     "text": [
      "#### Single_Label Binary_Classification problem ####\n",
      "Shape of dataset: (20107, 17). Now we classify variables into different types...\n",
      "    Returning dictionary for variable types with following keys:\n",
      "                        continuous_vars = 1, int_vars = 8, \n",
      "                        discrete_string_vars = 0, nlp_vars = 0,\n",
      "                        date_vars = 0, time_deltas = 0,\n",
      "                        categorical_vars = 8, date_zones = 0\n",
      "    no date time variables detected in this dataset\n",
      "Using My_LabelEncoder() and My_LabelEncoder() as encoders\n",
      "    ### there is no scaler specified ###\n",
      "Check the pipeline creation statement for errors (if any):\n",
      "\tmake_column_transformer((lep_one, catvars[0]),(lep_one, catvars[1]),(lep_one, catvars[2]),(lep_one, catvars[3]),(lep_one, catvars[4]),(lep_one, catvars[5]),(lep_one, catvars[6]),(lep_one, catvars[7]),(imp, intvars),(imp, floatvars),    remainder=remainder)\n",
      "    no other vars left in dataset to transform...\n",
      "Time taken to define data pipeline = 1 second(s)\n",
      "No model input given...\n",
      "X and y Transformer Pipeline created...\n",
      "    Time taken to fit dataset = 1 second(s)\n",
      "    Time taken to transform dataset = 1 second(s)\n",
      "    Shape of transformed dataset: (20107, 17)\n"
     ]
    }
   ],
   "source": [
    "X_train, y_train = lazy.fit_transform(X_train, y_train)"
   ]
  },
  {
   "cell_type": "code",
   "execution_count": 57,
   "metadata": {},
   "outputs": [
    {
     "name": "stdout",
     "output_type": "stream",
     "text": [
      "    Time taken to transform dataset = 1 second(s)\n",
      "    Shape of transformed dataset: (5027, 17)\n"
     ]
    }
   ],
   "source": [
    "X_test = lazy.transform(X_test)"
   ]
  },
  {
   "cell_type": "markdown",
   "metadata": {},
   "source": [
    "Nun sind alle kategorialen Variablen in numerische umgewandelt, im folgenden Schritt wird einen brandneuen Klassifikator von Featurewiz namens SuloClassifier für diesen unausgeglichenen Datensatz ausprobieren"
   ]
  },
  {
   "cell_type": "code",
   "execution_count": 58,
   "metadata": {},
   "outputs": [],
   "source": [
    "spe = SuloClassifier(base_estimator=None, n_estimators=None, \n",
    "                     pipeline=True, weights=False, \n",
    "                     imbalanced=True, verbose=1)"
   ]
  },
  {
   "cell_type": "code",
   "execution_count": 59,
   "metadata": {},
   "outputs": [
    {
     "name": "stdout",
     "output_type": "stream",
     "text": [
      "Input data shapes: X = (20107, 17), y = (20107,)\n",
      "No GPU available on this device. Using CPU for lightgbm and others.\n",
      "       Class  -> Counts -> Percent\n",
      "           0:   20053  ->   99.7%\n",
      "           1:      54  ->    0.3%\n",
      "    Imbalanced classes of y = 1\n",
      "    Number of estimators used in SuloClassifier = 12\n",
      "    Selecting Self Paced ensemble classifier as base estimator...\n",
      "No HPT tuning performed since base estimator is given by input...\n",
      "Bal accu 83%\n",
      "              precision    recall  f1-score   support\n",
      "\n",
      "           0       1.00      0.99      0.99      3340\n",
      "           1       0.16      0.67      0.26        12\n",
      "\n",
      "    accuracy                           0.99      3352\n",
      "   macro avg       0.58      0.83      0.63      3352\n",
      "weighted avg       1.00      0.99      0.99      3352\n",
      "\n",
      "final average accuracy score = 0.83\n",
      "    Fold 1: Average OOF Score (higher is better): 0.827\n",
      "Bal accu 93%\n",
      "              precision    recall  f1-score   support\n",
      "\n",
      "           0       1.00      0.98      0.99      3342\n",
      "           1       0.11      0.89      0.19         9\n",
      "\n",
      "    accuracy                           0.98      3351\n",
      "   macro avg       0.55      0.93      0.59      3351\n",
      "weighted avg       1.00      0.98      0.99      3351\n",
      "\n",
      "final average accuracy score = 0.93\n",
      "    Fold 2: Average OOF Score (higher is better): 0.934\n",
      "Bal accu 99%\n",
      "              precision    recall  f1-score   support\n",
      "\n",
      "           0       1.00      0.98      0.99      3343\n",
      "           1       0.11      1.00      0.20         8\n",
      "\n",
      "    accuracy                           0.98      3351\n",
      "   macro avg       0.56      0.99      0.60      3351\n",
      "weighted avg       1.00      0.98      0.99      3351\n",
      "\n",
      "final average accuracy score = 0.99\n",
      "    Fold 3: Average OOF Score (higher is better): 0.991\n",
      "Bal accu 91%\n",
      "              precision    recall  f1-score   support\n",
      "\n",
      "           0       1.00      0.98      0.99      3345\n",
      "           1       0.07      0.83      0.13         6\n",
      "\n",
      "    accuracy                           0.98      3351\n",
      "   macro avg       0.53      0.91      0.56      3351\n",
      "weighted avg       1.00      0.98      0.99      3351\n",
      "\n",
      "final average accuracy score = 0.91\n",
      "    Fold 4: Average OOF Score (higher is better): 0.907\n",
      "Bal accu 99%\n",
      "              precision    recall  f1-score   support\n",
      "\n",
      "           0       1.00      0.97      0.99      3339\n",
      "           1       0.12      1.00      0.21        12\n",
      "\n",
      "    accuracy                           0.97      3351\n",
      "   macro avg       0.56      0.99      0.60      3351\n",
      "weighted avg       1.00      0.97      0.98      3351\n",
      "\n",
      "final average accuracy score = 0.99\n",
      "    Fold 5: Average OOF Score (higher is better): 0.987\n",
      "Bal accu 85%\n",
      "              precision    recall  f1-score   support\n",
      "\n",
      "           0       1.00      0.98      0.99      3344\n",
      "           1       0.07      0.71      0.12         7\n",
      "\n",
      "    accuracy                           0.98      3351\n",
      "   macro avg       0.53      0.85      0.56      3351\n",
      "weighted avg       1.00      0.98      0.99      3351\n",
      "\n",
      "final average accuracy score = 0.85\n",
      "    Fold 6: Average OOF Score (higher is better): 0.847\n",
      "Bal accu 99%\n",
      "              precision    recall  f1-score   support\n",
      "\n",
      "           0       1.00      0.98      0.99      3345\n",
      "           1       0.09      1.00      0.16         7\n",
      "\n",
      "    accuracy                           0.98      3352\n",
      "   macro avg       0.54      0.99      0.57      3352\n",
      "weighted avg       1.00      0.98      0.99      3352\n",
      "\n",
      "final average accuracy score = 0.99\n",
      "    Fold 7: Average OOF Score (higher is better): 0.989\n",
      "Bal accu 84%\n",
      "              precision    recall  f1-score   support\n",
      "\n",
      "           0       1.00      0.98      0.99      3341\n",
      "           1       0.10      0.70      0.18        10\n",
      "\n",
      "    accuracy                           0.98      3351\n",
      "   macro avg       0.55      0.84      0.59      3351\n",
      "weighted avg       1.00      0.98      0.99      3351\n",
      "\n",
      "final average accuracy score = 0.84\n",
      "    Fold 8: Average OOF Score (higher is better): 0.841\n",
      "Bal accu 94%\n",
      "              precision    recall  f1-score   support\n",
      "\n",
      "           0       1.00      0.98      0.99      3340\n",
      "           1       0.14      0.91      0.24        11\n",
      "\n",
      "    accuracy                           0.98      3351\n",
      "   macro avg       0.57      0.94      0.61      3351\n",
      "weighted avg       1.00      0.98      0.99      3351\n",
      "\n",
      "final average accuracy score = 0.94\n",
      "    Fold 9: Average OOF Score (higher is better): 0.945\n",
      "Bal accu 99%\n",
      "              precision    recall  f1-score   support\n",
      "\n",
      "           0       1.00      0.98      0.99      3340\n",
      "           1       0.12      1.00      0.21        11\n",
      "\n",
      "    accuracy                           0.98      3351\n",
      "   macro avg       0.56      0.99      0.60      3351\n",
      "weighted avg       1.00      0.98      0.98      3351\n",
      "\n",
      "final average accuracy score = 0.99\n",
      "    Fold 10: Average OOF Score (higher is better): 0.988\n",
      "Bal accu 66%\n",
      "              precision    recall  f1-score   support\n",
      "\n",
      "           0       1.00      0.98      0.99      3345\n",
      "           1       0.04      0.33      0.07         6\n",
      "\n",
      "    accuracy                           0.98      3351\n",
      "   macro avg       0.52      0.66      0.53      3351\n",
      "weighted avg       1.00      0.98      0.99      3351\n",
      "\n",
      "final average accuracy score = 0.66\n",
      "    Fold 11: Average OOF Score (higher is better): 0.659\n",
      "Bal accu 82%\n",
      "              precision    recall  f1-score   support\n",
      "\n",
      "           0       1.00      0.98      0.99      3342\n",
      "           1       0.09      0.67      0.16         9\n",
      "\n",
      "    accuracy                           0.98      3351\n",
      "   macro avg       0.55      0.82      0.58      3351\n",
      "weighted avg       1.00      0.98      0.99      3351\n",
      "\n",
      "final average accuracy score = 0.82\n",
      "    Fold 12: Average OOF Score (higher is better): 0.825\n",
      "Average Balanced Accuracy of 12-model SuloClassifier: 89.483\n",
      "Time Taken: 8 (seconds)\n"
     ]
    },
    {
     "data": {
      "text/html": [
       "<style>#sk-container-id-2 {color: black;background-color: white;}#sk-container-id-2 pre{padding: 0;}#sk-container-id-2 div.sk-toggleable {background-color: white;}#sk-container-id-2 label.sk-toggleable__label {cursor: pointer;display: block;width: 100%;margin-bottom: 0;padding: 0.3em;box-sizing: border-box;text-align: center;}#sk-container-id-2 label.sk-toggleable__label-arrow:before {content: \"▸\";float: left;margin-right: 0.25em;color: #696969;}#sk-container-id-2 label.sk-toggleable__label-arrow:hover:before {color: black;}#sk-container-id-2 div.sk-estimator:hover label.sk-toggleable__label-arrow:before {color: black;}#sk-container-id-2 div.sk-toggleable__content {max-height: 0;max-width: 0;overflow: hidden;text-align: left;background-color: #f0f8ff;}#sk-container-id-2 div.sk-toggleable__content pre {margin: 0.2em;color: black;border-radius: 0.25em;background-color: #f0f8ff;}#sk-container-id-2 input.sk-toggleable__control:checked~div.sk-toggleable__content {max-height: 200px;max-width: 100%;overflow: auto;}#sk-container-id-2 input.sk-toggleable__control:checked~label.sk-toggleable__label-arrow:before {content: \"▾\";}#sk-container-id-2 div.sk-estimator input.sk-toggleable__control:checked~label.sk-toggleable__label {background-color: #d4ebff;}#sk-container-id-2 div.sk-label input.sk-toggleable__control:checked~label.sk-toggleable__label {background-color: #d4ebff;}#sk-container-id-2 input.sk-hidden--visually {border: 0;clip: rect(1px 1px 1px 1px);clip: rect(1px, 1px, 1px, 1px);height: 1px;margin: -1px;overflow: hidden;padding: 0;position: absolute;width: 1px;}#sk-container-id-2 div.sk-estimator {font-family: monospace;background-color: #f0f8ff;border: 1px dotted black;border-radius: 0.25em;box-sizing: border-box;margin-bottom: 0.5em;}#sk-container-id-2 div.sk-estimator:hover {background-color: #d4ebff;}#sk-container-id-2 div.sk-parallel-item::after {content: \"\";width: 100%;border-bottom: 1px solid gray;flex-grow: 1;}#sk-container-id-2 div.sk-label:hover label.sk-toggleable__label {background-color: #d4ebff;}#sk-container-id-2 div.sk-serial::before {content: \"\";position: absolute;border-left: 1px solid gray;box-sizing: border-box;top: 0;bottom: 0;left: 50%;z-index: 0;}#sk-container-id-2 div.sk-serial {display: flex;flex-direction: column;align-items: center;background-color: white;padding-right: 0.2em;padding-left: 0.2em;position: relative;}#sk-container-id-2 div.sk-item {position: relative;z-index: 1;}#sk-container-id-2 div.sk-parallel {display: flex;align-items: stretch;justify-content: center;background-color: white;position: relative;}#sk-container-id-2 div.sk-item::before, #sk-container-id-2 div.sk-parallel-item::before {content: \"\";position: absolute;border-left: 1px solid gray;box-sizing: border-box;top: 0;bottom: 0;left: 50%;z-index: -1;}#sk-container-id-2 div.sk-parallel-item {display: flex;flex-direction: column;z-index: 1;position: relative;background-color: white;}#sk-container-id-2 div.sk-parallel-item:first-child::after {align-self: flex-end;width: 50%;}#sk-container-id-2 div.sk-parallel-item:last-child::after {align-self: flex-start;width: 50%;}#sk-container-id-2 div.sk-parallel-item:only-child::after {width: 0;}#sk-container-id-2 div.sk-dashed-wrapped {border: 1px dashed gray;margin: 0 0.4em 0.5em 0.4em;box-sizing: border-box;padding-bottom: 0.4em;background-color: white;}#sk-container-id-2 div.sk-label label {font-family: monospace;font-weight: bold;display: inline-block;line-height: 1.2em;}#sk-container-id-2 div.sk-label-container {text-align: center;}#sk-container-id-2 div.sk-container {/* jupyter's `normalize.less` sets `[hidden] { display: none; }` but bootstrap.min.css set `[hidden] { display: none !important; }` so we also need the `!important` here to be able to override the default hidden behavior on the sphinx rendered scikit-learn.org. See: https://github.com/scikit-learn/scikit-learn/issues/21755 */display: inline-block !important;position: relative;}#sk-container-id-2 div.sk-text-repr-fallback {display: none;}</style><div id=\"sk-container-id-2\" class=\"sk-top-container\"><div class=\"sk-text-repr-fallback\"><pre>SuloClassifier(base_estimator=Pipeline(steps=[(&#x27;preprocessor&#x27;,\n",
       "                                               ColumnTransformer(transformers=[(&#x27;numeric&#x27;,\n",
       "                                                                                Pipeline(steps=[(&#x27;imputer&#x27;,\n",
       "                                                                                                 SimpleImputer(add_indicator=True)),\n",
       "                                                                                                (&#x27;scaler&#x27;,\n",
       "                                                                                                 StandardScaler())]),\n",
       "                                                                                Index([&#x27;gender&#x27;, &#x27;owning_car&#x27;, &#x27;owning_property&#x27;, &#x27;children_amt&#x27;,\n",
       "       &#x27;education_level&#x27;, &#x27;marital_status&#x27;, &#x27;housing_type&#x27;, &#x27;job&#x27;, &#x27;age&#x27;,\n",
       "       &#x27;working_years&#x27;, &#x27;owning_work_...\n",
       "                                                                                                               sparse=False))]),\n",
       "                                                                                Index([], dtype=&#x27;object&#x27;)),\n",
       "                                                                               (&#x27;categorical_high&#x27;,\n",
       "                                                                                Pipeline(steps=[(&#x27;imputer&#x27;,\n",
       "                                                                                                 SimpleImputer(add_indicator=True,\n",
       "                                                                                                               fill_value=&#x27;missing&#x27;,\n",
       "                                                                                                               strategy=&#x27;constant&#x27;)),\n",
       "                                                                                                (&#x27;encoding&#x27;,\n",
       "                                                                                                 LabelEncoder())]),\n",
       "                                                                                Index([], dtype=&#x27;object&#x27;))])),\n",
       "                                              (&#x27;model&#x27;,\n",
       "                                               SelfPacedEnsembleClassifier(n_jobs=-1,\n",
       "                                                                           random_state=RandomState(MT19937) at 0x2B71D033040))]),\n",
       "               imbalanced=True, n_estimators=6, verbose=1)</pre><b>In a Jupyter environment, please rerun this cell to show the HTML representation or trust the notebook. <br />On GitHub, the HTML representation is unable to render, please try loading this page with nbviewer.org.</b></div><div class=\"sk-container\" hidden><div class=\"sk-item sk-dashed-wrapped\"><div class=\"sk-label-container\"><div class=\"sk-label sk-toggleable\"><input class=\"sk-toggleable__control sk-hidden--visually\" id=\"sk-estimator-id-14\" type=\"checkbox\" ><label for=\"sk-estimator-id-14\" class=\"sk-toggleable__label sk-toggleable__label-arrow\">SuloClassifier</label><div class=\"sk-toggleable__content\"><pre>SuloClassifier(base_estimator=Pipeline(steps=[(&#x27;preprocessor&#x27;,\n",
       "                                               ColumnTransformer(transformers=[(&#x27;numeric&#x27;,\n",
       "                                                                                Pipeline(steps=[(&#x27;imputer&#x27;,\n",
       "                                                                                                 SimpleImputer(add_indicator=True)),\n",
       "                                                                                                (&#x27;scaler&#x27;,\n",
       "                                                                                                 StandardScaler())]),\n",
       "                                                                                Index([&#x27;gender&#x27;, &#x27;owning_car&#x27;, &#x27;owning_property&#x27;, &#x27;children_amt&#x27;,\n",
       "       &#x27;education_level&#x27;, &#x27;marital_status&#x27;, &#x27;housing_type&#x27;, &#x27;job&#x27;, &#x27;age&#x27;,\n",
       "       &#x27;working_years&#x27;, &#x27;owning_work_...\n",
       "                                                                                                               sparse=False))]),\n",
       "                                                                                Index([], dtype=&#x27;object&#x27;)),\n",
       "                                                                               (&#x27;categorical_high&#x27;,\n",
       "                                                                                Pipeline(steps=[(&#x27;imputer&#x27;,\n",
       "                                                                                                 SimpleImputer(add_indicator=True,\n",
       "                                                                                                               fill_value=&#x27;missing&#x27;,\n",
       "                                                                                                               strategy=&#x27;constant&#x27;)),\n",
       "                                                                                                (&#x27;encoding&#x27;,\n",
       "                                                                                                 LabelEncoder())]),\n",
       "                                                                                Index([], dtype=&#x27;object&#x27;))])),\n",
       "                                              (&#x27;model&#x27;,\n",
       "                                               SelfPacedEnsembleClassifier(n_jobs=-1,\n",
       "                                                                           random_state=RandomState(MT19937) at 0x2B71D033040))]),\n",
       "               imbalanced=True, n_estimators=6, verbose=1)</pre></div></div></div><div class=\"sk-parallel\"><div class=\"sk-parallel-item\"><div class=\"sk-item\"><div class=\"sk-label-container\"><div class=\"sk-label sk-toggleable\"><input class=\"sk-toggleable__control sk-hidden--visually\" id=\"sk-estimator-id-15\" type=\"checkbox\" ><label for=\"sk-estimator-id-15\" class=\"sk-toggleable__label sk-toggleable__label-arrow\">base_estimator: Pipeline</label><div class=\"sk-toggleable__content\"><pre>Pipeline(steps=[(&#x27;preprocessor&#x27;,\n",
       "                 ColumnTransformer(transformers=[(&#x27;numeric&#x27;,\n",
       "                                                  Pipeline(steps=[(&#x27;imputer&#x27;,\n",
       "                                                                   SimpleImputer(add_indicator=True)),\n",
       "                                                                  (&#x27;scaler&#x27;,\n",
       "                                                                   StandardScaler())]),\n",
       "                                                  Index([&#x27;gender&#x27;, &#x27;owning_car&#x27;, &#x27;owning_property&#x27;, &#x27;children_amt&#x27;,\n",
       "       &#x27;education_level&#x27;, &#x27;marital_status&#x27;, &#x27;housing_type&#x27;, &#x27;job&#x27;, &#x27;age&#x27;,\n",
       "       &#x27;working_years&#x27;, &#x27;owning_work_phone&#x27;, &#x27;owning_phone&#x27;, &#x27;owning_...\n",
       "                                                                   OneHotEncoder(handle_unknown=&#x27;ignore&#x27;,\n",
       "                                                                                 sparse=False))]),\n",
       "                                                  Index([], dtype=&#x27;object&#x27;)),\n",
       "                                                 (&#x27;categorical_high&#x27;,\n",
       "                                                  Pipeline(steps=[(&#x27;imputer&#x27;,\n",
       "                                                                   SimpleImputer(add_indicator=True,\n",
       "                                                                                 fill_value=&#x27;missing&#x27;,\n",
       "                                                                                 strategy=&#x27;constant&#x27;)),\n",
       "                                                                  (&#x27;encoding&#x27;,\n",
       "                                                                   LabelEncoder())]),\n",
       "                                                  Index([], dtype=&#x27;object&#x27;))])),\n",
       "                (&#x27;model&#x27;,\n",
       "                 SelfPacedEnsembleClassifier(n_jobs=-1,\n",
       "                                             random_state=RandomState(MT19937) at 0x2B71D033040))])</pre></div></div></div><div class=\"sk-serial\"><div class=\"sk-item\"><div class=\"sk-serial\"><div class=\"sk-item sk-dashed-wrapped\"><div class=\"sk-label-container\"><div class=\"sk-label sk-toggleable\"><input class=\"sk-toggleable__control sk-hidden--visually\" id=\"sk-estimator-id-16\" type=\"checkbox\" ><label for=\"sk-estimator-id-16\" class=\"sk-toggleable__label sk-toggleable__label-arrow\">preprocessor: ColumnTransformer</label><div class=\"sk-toggleable__content\"><pre>ColumnTransformer(transformers=[(&#x27;numeric&#x27;,\n",
       "                                 Pipeline(steps=[(&#x27;imputer&#x27;,\n",
       "                                                  SimpleImputer(add_indicator=True)),\n",
       "                                                 (&#x27;scaler&#x27;, StandardScaler())]),\n",
       "                                 Index([&#x27;gender&#x27;, &#x27;owning_car&#x27;, &#x27;owning_property&#x27;, &#x27;children_amt&#x27;,\n",
       "       &#x27;education_level&#x27;, &#x27;marital_status&#x27;, &#x27;housing_type&#x27;, &#x27;job&#x27;, &#x27;age&#x27;,\n",
       "       &#x27;working_years&#x27;, &#x27;owning_work_phone&#x27;, &#x27;owning_phone&#x27;, &#x27;owning_email&#x27;,\n",
       "       &#x27;total_good_credit&#x27;, &#x27;tota...\n",
       "                                 Pipeline(steps=[(&#x27;imputer&#x27;,\n",
       "                                                  SimpleImputer(add_indicator=True,\n",
       "                                                                fill_value=&#x27;missing&#x27;,\n",
       "                                                                strategy=&#x27;constant&#x27;)),\n",
       "                                                 (&#x27;encoding&#x27;,\n",
       "                                                  OneHotEncoder(handle_unknown=&#x27;ignore&#x27;,\n",
       "                                                                sparse=False))]),\n",
       "                                 Index([], dtype=&#x27;object&#x27;)),\n",
       "                                (&#x27;categorical_high&#x27;,\n",
       "                                 Pipeline(steps=[(&#x27;imputer&#x27;,\n",
       "                                                  SimpleImputer(add_indicator=True,\n",
       "                                                                fill_value=&#x27;missing&#x27;,\n",
       "                                                                strategy=&#x27;constant&#x27;)),\n",
       "                                                 (&#x27;encoding&#x27;, LabelEncoder())]),\n",
       "                                 Index([], dtype=&#x27;object&#x27;))])</pre></div></div></div><div class=\"sk-parallel\"><div class=\"sk-parallel-item\"><div class=\"sk-item\"><div class=\"sk-label-container\"><div class=\"sk-label sk-toggleable\"><input class=\"sk-toggleable__control sk-hidden--visually\" id=\"sk-estimator-id-17\" type=\"checkbox\" ><label for=\"sk-estimator-id-17\" class=\"sk-toggleable__label sk-toggleable__label-arrow\">numeric</label><div class=\"sk-toggleable__content\"><pre>Index([&#x27;gender&#x27;, &#x27;owning_car&#x27;, &#x27;owning_property&#x27;, &#x27;children_amt&#x27;,\n",
       "       &#x27;education_level&#x27;, &#x27;marital_status&#x27;, &#x27;housing_type&#x27;, &#x27;job&#x27;, &#x27;age&#x27;,\n",
       "       &#x27;working_years&#x27;, &#x27;owning_work_phone&#x27;, &#x27;owning_phone&#x27;, &#x27;owning_email&#x27;,\n",
       "       &#x27;total_good_credit&#x27;, &#x27;total_bad_credit&#x27;, &#x27;total_no_credit&#x27;,\n",
       "       &#x27;anual_income&#x27;],\n",
       "      dtype=&#x27;object&#x27;)</pre></div></div></div><div class=\"sk-serial\"><div class=\"sk-item\"><div class=\"sk-serial\"><div class=\"sk-item\"><div class=\"sk-estimator sk-toggleable\"><input class=\"sk-toggleable__control sk-hidden--visually\" id=\"sk-estimator-id-18\" type=\"checkbox\" ><label for=\"sk-estimator-id-18\" class=\"sk-toggleable__label sk-toggleable__label-arrow\">SimpleImputer</label><div class=\"sk-toggleable__content\"><pre>SimpleImputer(add_indicator=True)</pre></div></div></div><div class=\"sk-item\"><div class=\"sk-estimator sk-toggleable\"><input class=\"sk-toggleable__control sk-hidden--visually\" id=\"sk-estimator-id-19\" type=\"checkbox\" ><label for=\"sk-estimator-id-19\" class=\"sk-toggleable__label sk-toggleable__label-arrow\">StandardScaler</label><div class=\"sk-toggleable__content\"><pre>StandardScaler()</pre></div></div></div></div></div></div></div></div><div class=\"sk-parallel-item\"><div class=\"sk-item\"><div class=\"sk-label-container\"><div class=\"sk-label sk-toggleable\"><input class=\"sk-toggleable__control sk-hidden--visually\" id=\"sk-estimator-id-20\" type=\"checkbox\" ><label for=\"sk-estimator-id-20\" class=\"sk-toggleable__label sk-toggleable__label-arrow\">categorical_low</label><div class=\"sk-toggleable__content\"><pre>Index([], dtype=&#x27;object&#x27;)</pre></div></div></div><div class=\"sk-serial\"><div class=\"sk-item\"><div class=\"sk-serial\"><div class=\"sk-item\"><div class=\"sk-estimator sk-toggleable\"><input class=\"sk-toggleable__control sk-hidden--visually\" id=\"sk-estimator-id-21\" type=\"checkbox\" ><label for=\"sk-estimator-id-21\" class=\"sk-toggleable__label sk-toggleable__label-arrow\">SimpleImputer</label><div class=\"sk-toggleable__content\"><pre>SimpleImputer(add_indicator=True, fill_value=&#x27;missing&#x27;, strategy=&#x27;constant&#x27;)</pre></div></div></div><div class=\"sk-item\"><div class=\"sk-estimator sk-toggleable\"><input class=\"sk-toggleable__control sk-hidden--visually\" id=\"sk-estimator-id-22\" type=\"checkbox\" ><label for=\"sk-estimator-id-22\" class=\"sk-toggleable__label sk-toggleable__label-arrow\">OneHotEncoder</label><div class=\"sk-toggleable__content\"><pre>OneHotEncoder(handle_unknown=&#x27;ignore&#x27;, sparse=False)</pre></div></div></div></div></div></div></div></div><div class=\"sk-parallel-item\"><div class=\"sk-item\"><div class=\"sk-label-container\"><div class=\"sk-label sk-toggleable\"><input class=\"sk-toggleable__control sk-hidden--visually\" id=\"sk-estimator-id-23\" type=\"checkbox\" ><label for=\"sk-estimator-id-23\" class=\"sk-toggleable__label sk-toggleable__label-arrow\">categorical_high</label><div class=\"sk-toggleable__content\"><pre>Index([], dtype=&#x27;object&#x27;)</pre></div></div></div><div class=\"sk-serial\"><div class=\"sk-item\"><div class=\"sk-serial\"><div class=\"sk-item\"><div class=\"sk-estimator sk-toggleable\"><input class=\"sk-toggleable__control sk-hidden--visually\" id=\"sk-estimator-id-24\" type=\"checkbox\" ><label for=\"sk-estimator-id-24\" class=\"sk-toggleable__label sk-toggleable__label-arrow\">SimpleImputer</label><div class=\"sk-toggleable__content\"><pre>SimpleImputer(add_indicator=True, fill_value=&#x27;missing&#x27;, strategy=&#x27;constant&#x27;)</pre></div></div></div><div class=\"sk-item\"><div class=\"sk-estimator sk-toggleable\"><input class=\"sk-toggleable__control sk-hidden--visually\" id=\"sk-estimator-id-25\" type=\"checkbox\" ><label for=\"sk-estimator-id-25\" class=\"sk-toggleable__label sk-toggleable__label-arrow\">LabelEncoder</label><div class=\"sk-toggleable__content\"><pre>LabelEncoder()</pre></div></div></div></div></div></div></div></div></div></div><div class=\"sk-item\"><div class=\"sk-estimator sk-toggleable\"><input class=\"sk-toggleable__control sk-hidden--visually\" id=\"sk-estimator-id-26\" type=\"checkbox\" ><label for=\"sk-estimator-id-26\" class=\"sk-toggleable__label sk-toggleable__label-arrow\">SelfPacedEnsembleClassifier</label><div class=\"sk-toggleable__content\"><pre>SelfPacedEnsembleClassifier(n_jobs=-1,\n",
       "                            random_state=RandomState(MT19937) at 0x2B71D033040)</pre></div></div></div></div></div></div></div></div></div></div></div></div>"
      ],
      "text/plain": [
       "SuloClassifier(base_estimator=Pipeline(steps=[('preprocessor',\n",
       "                                               ColumnTransformer(transformers=[('numeric',\n",
       "                                                                                Pipeline(steps=[('imputer',\n",
       "                                                                                                 SimpleImputer(add_indicator=True)),\n",
       "                                                                                                ('scaler',\n",
       "                                                                                                 StandardScaler())]),\n",
       "                                                                                Index(['gender', 'owning_car', 'owning_property', 'children_amt',\n",
       "       'education_level', 'marital_status', 'housing_type', 'job', 'age',\n",
       "       'working_years', 'owning_work_...\n",
       "                                                                                                               sparse=False))]),\n",
       "                                                                                Index([], dtype='object')),\n",
       "                                                                               ('categorical_high',\n",
       "                                                                                Pipeline(steps=[('imputer',\n",
       "                                                                                                 SimpleImputer(add_indicator=True,\n",
       "                                                                                                               fill_value='missing',\n",
       "                                                                                                               strategy='constant')),\n",
       "                                                                                                ('encoding',\n",
       "                                                                                                 LabelEncoder())]),\n",
       "                                                                                Index([], dtype='object'))])),\n",
       "                                              ('model',\n",
       "                                               SelfPacedEnsembleClassifier(n_jobs=-1,\n",
       "                                                                           random_state=RandomState(MT19937) at 0x2B71D033040))]),\n",
       "               imbalanced=True, n_estimators=6, verbose=1)"
      ]
     },
     "execution_count": 59,
     "metadata": {},
     "output_type": "execute_result"
    }
   ],
   "source": [
    "spe.fit(X_train, y_train)"
   ]
  },
  {
   "cell_type": "code",
   "execution_count": 33,
   "metadata": {},
   "outputs": [
    {
     "data": {
      "text/html": [
       "<style>#sk-container-id-4 {color: black;background-color: white;}#sk-container-id-4 pre{padding: 0;}#sk-container-id-4 div.sk-toggleable {background-color: white;}#sk-container-id-4 label.sk-toggleable__label {cursor: pointer;display: block;width: 100%;margin-bottom: 0;padding: 0.3em;box-sizing: border-box;text-align: center;}#sk-container-id-4 label.sk-toggleable__label-arrow:before {content: \"▸\";float: left;margin-right: 0.25em;color: #696969;}#sk-container-id-4 label.sk-toggleable__label-arrow:hover:before {color: black;}#sk-container-id-4 div.sk-estimator:hover label.sk-toggleable__label-arrow:before {color: black;}#sk-container-id-4 div.sk-toggleable__content {max-height: 0;max-width: 0;overflow: hidden;text-align: left;background-color: #f0f8ff;}#sk-container-id-4 div.sk-toggleable__content pre {margin: 0.2em;color: black;border-radius: 0.25em;background-color: #f0f8ff;}#sk-container-id-4 input.sk-toggleable__control:checked~div.sk-toggleable__content {max-height: 200px;max-width: 100%;overflow: auto;}#sk-container-id-4 input.sk-toggleable__control:checked~label.sk-toggleable__label-arrow:before {content: \"▾\";}#sk-container-id-4 div.sk-estimator input.sk-toggleable__control:checked~label.sk-toggleable__label {background-color: #d4ebff;}#sk-container-id-4 div.sk-label input.sk-toggleable__control:checked~label.sk-toggleable__label {background-color: #d4ebff;}#sk-container-id-4 input.sk-hidden--visually {border: 0;clip: rect(1px 1px 1px 1px);clip: rect(1px, 1px, 1px, 1px);height: 1px;margin: -1px;overflow: hidden;padding: 0;position: absolute;width: 1px;}#sk-container-id-4 div.sk-estimator {font-family: monospace;background-color: #f0f8ff;border: 1px dotted black;border-radius: 0.25em;box-sizing: border-box;margin-bottom: 0.5em;}#sk-container-id-4 div.sk-estimator:hover {background-color: #d4ebff;}#sk-container-id-4 div.sk-parallel-item::after {content: \"\";width: 100%;border-bottom: 1px solid gray;flex-grow: 1;}#sk-container-id-4 div.sk-label:hover label.sk-toggleable__label {background-color: #d4ebff;}#sk-container-id-4 div.sk-serial::before {content: \"\";position: absolute;border-left: 1px solid gray;box-sizing: border-box;top: 0;bottom: 0;left: 50%;z-index: 0;}#sk-container-id-4 div.sk-serial {display: flex;flex-direction: column;align-items: center;background-color: white;padding-right: 0.2em;padding-left: 0.2em;position: relative;}#sk-container-id-4 div.sk-item {position: relative;z-index: 1;}#sk-container-id-4 div.sk-parallel {display: flex;align-items: stretch;justify-content: center;background-color: white;position: relative;}#sk-container-id-4 div.sk-item::before, #sk-container-id-4 div.sk-parallel-item::before {content: \"\";position: absolute;border-left: 1px solid gray;box-sizing: border-box;top: 0;bottom: 0;left: 50%;z-index: -1;}#sk-container-id-4 div.sk-parallel-item {display: flex;flex-direction: column;z-index: 1;position: relative;background-color: white;}#sk-container-id-4 div.sk-parallel-item:first-child::after {align-self: flex-end;width: 50%;}#sk-container-id-4 div.sk-parallel-item:last-child::after {align-self: flex-start;width: 50%;}#sk-container-id-4 div.sk-parallel-item:only-child::after {width: 0;}#sk-container-id-4 div.sk-dashed-wrapped {border: 1px dashed gray;margin: 0 0.4em 0.5em 0.4em;box-sizing: border-box;padding-bottom: 0.4em;background-color: white;}#sk-container-id-4 div.sk-label label {font-family: monospace;font-weight: bold;display: inline-block;line-height: 1.2em;}#sk-container-id-4 div.sk-label-container {text-align: center;}#sk-container-id-4 div.sk-container {/* jupyter's `normalize.less` sets `[hidden] { display: none; }` but bootstrap.min.css set `[hidden] { display: none !important; }` so we also need the `!important` here to be able to override the default hidden behavior on the sphinx rendered scikit-learn.org. See: https://github.com/scikit-learn/scikit-learn/issues/21755 */display: inline-block !important;position: relative;}#sk-container-id-4 div.sk-text-repr-fallback {display: none;}</style><div id=\"sk-container-id-4\" class=\"sk-top-container\"><div class=\"sk-text-repr-fallback\"><pre>SuloClassifier(base_estimator=Pipeline(steps=[(&#x27;preprocessor&#x27;,\n",
       "                                               ColumnTransformer(transformers=[(&#x27;numeric&#x27;,\n",
       "                                                                                Pipeline(steps=[(&#x27;imputer&#x27;,\n",
       "                                                                                                 SimpleImputer(add_indicator=True)),\n",
       "                                                                                                (&#x27;scaler&#x27;,\n",
       "                                                                                                 StandardScaler())]),\n",
       "                                                                                Index([&#x27;gender&#x27;, &#x27;owning_car&#x27;, &#x27;owning_property&#x27;, &#x27;children_amt&#x27;,\n",
       "       &#x27;education_level&#x27;, &#x27;marital_status&#x27;, &#x27;housing_type&#x27;, &#x27;job&#x27;, &#x27;age&#x27;,\n",
       "       &#x27;working_years&#x27;, &#x27;owning_work_...\n",
       "                                                                                                               sparse=False))]),\n",
       "                                                                                Index([], dtype=&#x27;object&#x27;)),\n",
       "                                                                               (&#x27;categorical_high&#x27;,\n",
       "                                                                                Pipeline(steps=[(&#x27;imputer&#x27;,\n",
       "                                                                                                 SimpleImputer(add_indicator=True,\n",
       "                                                                                                               fill_value=&#x27;missing&#x27;,\n",
       "                                                                                                               strategy=&#x27;constant&#x27;)),\n",
       "                                                                                                (&#x27;encoding&#x27;,\n",
       "                                                                                                 LabelEncoder())]),\n",
       "                                                                                Index([], dtype=&#x27;object&#x27;))])),\n",
       "                                              (&#x27;model&#x27;,\n",
       "                                               SelfPacedEnsembleClassifier(n_jobs=-1,\n",
       "                                                                           random_state=RandomState(MT19937) at 0x178DA377740))]),\n",
       "               imbalanced=True, n_estimators=6, verbose=1)</pre><b>In a Jupyter environment, please rerun this cell to show the HTML representation or trust the notebook. <br />On GitHub, the HTML representation is unable to render, please try loading this page with nbviewer.org.</b></div><div class=\"sk-container\" hidden><div class=\"sk-item sk-dashed-wrapped\"><div class=\"sk-label-container\"><div class=\"sk-label sk-toggleable\"><input class=\"sk-toggleable__control sk-hidden--visually\" id=\"sk-estimator-id-40\" type=\"checkbox\" ><label for=\"sk-estimator-id-40\" class=\"sk-toggleable__label sk-toggleable__label-arrow\">SuloClassifier</label><div class=\"sk-toggleable__content\"><pre>SuloClassifier(base_estimator=Pipeline(steps=[(&#x27;preprocessor&#x27;,\n",
       "                                               ColumnTransformer(transformers=[(&#x27;numeric&#x27;,\n",
       "                                                                                Pipeline(steps=[(&#x27;imputer&#x27;,\n",
       "                                                                                                 SimpleImputer(add_indicator=True)),\n",
       "                                                                                                (&#x27;scaler&#x27;,\n",
       "                                                                                                 StandardScaler())]),\n",
       "                                                                                Index([&#x27;gender&#x27;, &#x27;owning_car&#x27;, &#x27;owning_property&#x27;, &#x27;children_amt&#x27;,\n",
       "       &#x27;education_level&#x27;, &#x27;marital_status&#x27;, &#x27;housing_type&#x27;, &#x27;job&#x27;, &#x27;age&#x27;,\n",
       "       &#x27;working_years&#x27;, &#x27;owning_work_...\n",
       "                                                                                                               sparse=False))]),\n",
       "                                                                                Index([], dtype=&#x27;object&#x27;)),\n",
       "                                                                               (&#x27;categorical_high&#x27;,\n",
       "                                                                                Pipeline(steps=[(&#x27;imputer&#x27;,\n",
       "                                                                                                 SimpleImputer(add_indicator=True,\n",
       "                                                                                                               fill_value=&#x27;missing&#x27;,\n",
       "                                                                                                               strategy=&#x27;constant&#x27;)),\n",
       "                                                                                                (&#x27;encoding&#x27;,\n",
       "                                                                                                 LabelEncoder())]),\n",
       "                                                                                Index([], dtype=&#x27;object&#x27;))])),\n",
       "                                              (&#x27;model&#x27;,\n",
       "                                               SelfPacedEnsembleClassifier(n_jobs=-1,\n",
       "                                                                           random_state=RandomState(MT19937) at 0x178DA377740))]),\n",
       "               imbalanced=True, n_estimators=6, verbose=1)</pre></div></div></div><div class=\"sk-parallel\"><div class=\"sk-parallel-item\"><div class=\"sk-item\"><div class=\"sk-label-container\"><div class=\"sk-label sk-toggleable\"><input class=\"sk-toggleable__control sk-hidden--visually\" id=\"sk-estimator-id-41\" type=\"checkbox\" ><label for=\"sk-estimator-id-41\" class=\"sk-toggleable__label sk-toggleable__label-arrow\">base_estimator: Pipeline</label><div class=\"sk-toggleable__content\"><pre>Pipeline(steps=[(&#x27;preprocessor&#x27;,\n",
       "                 ColumnTransformer(transformers=[(&#x27;numeric&#x27;,\n",
       "                                                  Pipeline(steps=[(&#x27;imputer&#x27;,\n",
       "                                                                   SimpleImputer(add_indicator=True)),\n",
       "                                                                  (&#x27;scaler&#x27;,\n",
       "                                                                   StandardScaler())]),\n",
       "                                                  Index([&#x27;gender&#x27;, &#x27;owning_car&#x27;, &#x27;owning_property&#x27;, &#x27;children_amt&#x27;,\n",
       "       &#x27;education_level&#x27;, &#x27;marital_status&#x27;, &#x27;housing_type&#x27;, &#x27;job&#x27;, &#x27;age&#x27;,\n",
       "       &#x27;working_years&#x27;, &#x27;owning_work_phone&#x27;, &#x27;owning_phone&#x27;, &#x27;owning_...\n",
       "                                                                   OneHotEncoder(handle_unknown=&#x27;ignore&#x27;,\n",
       "                                                                                 sparse=False))]),\n",
       "                                                  Index([], dtype=&#x27;object&#x27;)),\n",
       "                                                 (&#x27;categorical_high&#x27;,\n",
       "                                                  Pipeline(steps=[(&#x27;imputer&#x27;,\n",
       "                                                                   SimpleImputer(add_indicator=True,\n",
       "                                                                                 fill_value=&#x27;missing&#x27;,\n",
       "                                                                                 strategy=&#x27;constant&#x27;)),\n",
       "                                                                  (&#x27;encoding&#x27;,\n",
       "                                                                   LabelEncoder())]),\n",
       "                                                  Index([], dtype=&#x27;object&#x27;))])),\n",
       "                (&#x27;model&#x27;,\n",
       "                 SelfPacedEnsembleClassifier(n_jobs=-1,\n",
       "                                             random_state=RandomState(MT19937) at 0x178DA377740))])</pre></div></div></div><div class=\"sk-serial\"><div class=\"sk-item\"><div class=\"sk-serial\"><div class=\"sk-item sk-dashed-wrapped\"><div class=\"sk-label-container\"><div class=\"sk-label sk-toggleable\"><input class=\"sk-toggleable__control sk-hidden--visually\" id=\"sk-estimator-id-42\" type=\"checkbox\" ><label for=\"sk-estimator-id-42\" class=\"sk-toggleable__label sk-toggleable__label-arrow\">preprocessor: ColumnTransformer</label><div class=\"sk-toggleable__content\"><pre>ColumnTransformer(transformers=[(&#x27;numeric&#x27;,\n",
       "                                 Pipeline(steps=[(&#x27;imputer&#x27;,\n",
       "                                                  SimpleImputer(add_indicator=True)),\n",
       "                                                 (&#x27;scaler&#x27;, StandardScaler())]),\n",
       "                                 Index([&#x27;gender&#x27;, &#x27;owning_car&#x27;, &#x27;owning_property&#x27;, &#x27;children_amt&#x27;,\n",
       "       &#x27;education_level&#x27;, &#x27;marital_status&#x27;, &#x27;housing_type&#x27;, &#x27;job&#x27;, &#x27;age&#x27;,\n",
       "       &#x27;working_years&#x27;, &#x27;owning_work_phone&#x27;, &#x27;owning_phone&#x27;, &#x27;owning_email&#x27;,\n",
       "       &#x27;total_good_credit&#x27;, &#x27;tota...\n",
       "                                 Pipeline(steps=[(&#x27;imputer&#x27;,\n",
       "                                                  SimpleImputer(add_indicator=True,\n",
       "                                                                fill_value=&#x27;missing&#x27;,\n",
       "                                                                strategy=&#x27;constant&#x27;)),\n",
       "                                                 (&#x27;encoding&#x27;,\n",
       "                                                  OneHotEncoder(handle_unknown=&#x27;ignore&#x27;,\n",
       "                                                                sparse=False))]),\n",
       "                                 Index([], dtype=&#x27;object&#x27;)),\n",
       "                                (&#x27;categorical_high&#x27;,\n",
       "                                 Pipeline(steps=[(&#x27;imputer&#x27;,\n",
       "                                                  SimpleImputer(add_indicator=True,\n",
       "                                                                fill_value=&#x27;missing&#x27;,\n",
       "                                                                strategy=&#x27;constant&#x27;)),\n",
       "                                                 (&#x27;encoding&#x27;, LabelEncoder())]),\n",
       "                                 Index([], dtype=&#x27;object&#x27;))])</pre></div></div></div><div class=\"sk-parallel\"><div class=\"sk-parallel-item\"><div class=\"sk-item\"><div class=\"sk-label-container\"><div class=\"sk-label sk-toggleable\"><input class=\"sk-toggleable__control sk-hidden--visually\" id=\"sk-estimator-id-43\" type=\"checkbox\" ><label for=\"sk-estimator-id-43\" class=\"sk-toggleable__label sk-toggleable__label-arrow\">numeric</label><div class=\"sk-toggleable__content\"><pre>Index([&#x27;gender&#x27;, &#x27;owning_car&#x27;, &#x27;owning_property&#x27;, &#x27;children_amt&#x27;,\n",
       "       &#x27;education_level&#x27;, &#x27;marital_status&#x27;, &#x27;housing_type&#x27;, &#x27;job&#x27;, &#x27;age&#x27;,\n",
       "       &#x27;working_years&#x27;, &#x27;owning_work_phone&#x27;, &#x27;owning_phone&#x27;, &#x27;owning_email&#x27;,\n",
       "       &#x27;total_good_credit&#x27;, &#x27;total_bad_credit&#x27;, &#x27;total_no_credit&#x27;,\n",
       "       &#x27;anual_income&#x27;],\n",
       "      dtype=&#x27;object&#x27;)</pre></div></div></div><div class=\"sk-serial\"><div class=\"sk-item\"><div class=\"sk-serial\"><div class=\"sk-item\"><div class=\"sk-estimator sk-toggleable\"><input class=\"sk-toggleable__control sk-hidden--visually\" id=\"sk-estimator-id-44\" type=\"checkbox\" ><label for=\"sk-estimator-id-44\" class=\"sk-toggleable__label sk-toggleable__label-arrow\">SimpleImputer</label><div class=\"sk-toggleable__content\"><pre>SimpleImputer(add_indicator=True)</pre></div></div></div><div class=\"sk-item\"><div class=\"sk-estimator sk-toggleable\"><input class=\"sk-toggleable__control sk-hidden--visually\" id=\"sk-estimator-id-45\" type=\"checkbox\" ><label for=\"sk-estimator-id-45\" class=\"sk-toggleable__label sk-toggleable__label-arrow\">StandardScaler</label><div class=\"sk-toggleable__content\"><pre>StandardScaler()</pre></div></div></div></div></div></div></div></div><div class=\"sk-parallel-item\"><div class=\"sk-item\"><div class=\"sk-label-container\"><div class=\"sk-label sk-toggleable\"><input class=\"sk-toggleable__control sk-hidden--visually\" id=\"sk-estimator-id-46\" type=\"checkbox\" ><label for=\"sk-estimator-id-46\" class=\"sk-toggleable__label sk-toggleable__label-arrow\">categorical_low</label><div class=\"sk-toggleable__content\"><pre>Index([], dtype=&#x27;object&#x27;)</pre></div></div></div><div class=\"sk-serial\"><div class=\"sk-item\"><div class=\"sk-serial\"><div class=\"sk-item\"><div class=\"sk-estimator sk-toggleable\"><input class=\"sk-toggleable__control sk-hidden--visually\" id=\"sk-estimator-id-47\" type=\"checkbox\" ><label for=\"sk-estimator-id-47\" class=\"sk-toggleable__label sk-toggleable__label-arrow\">SimpleImputer</label><div class=\"sk-toggleable__content\"><pre>SimpleImputer(add_indicator=True, fill_value=&#x27;missing&#x27;, strategy=&#x27;constant&#x27;)</pre></div></div></div><div class=\"sk-item\"><div class=\"sk-estimator sk-toggleable\"><input class=\"sk-toggleable__control sk-hidden--visually\" id=\"sk-estimator-id-48\" type=\"checkbox\" ><label for=\"sk-estimator-id-48\" class=\"sk-toggleable__label sk-toggleable__label-arrow\">OneHotEncoder</label><div class=\"sk-toggleable__content\"><pre>OneHotEncoder(handle_unknown=&#x27;ignore&#x27;, sparse=False)</pre></div></div></div></div></div></div></div></div><div class=\"sk-parallel-item\"><div class=\"sk-item\"><div class=\"sk-label-container\"><div class=\"sk-label sk-toggleable\"><input class=\"sk-toggleable__control sk-hidden--visually\" id=\"sk-estimator-id-49\" type=\"checkbox\" ><label for=\"sk-estimator-id-49\" class=\"sk-toggleable__label sk-toggleable__label-arrow\">categorical_high</label><div class=\"sk-toggleable__content\"><pre>Index([], dtype=&#x27;object&#x27;)</pre></div></div></div><div class=\"sk-serial\"><div class=\"sk-item\"><div class=\"sk-serial\"><div class=\"sk-item\"><div class=\"sk-estimator sk-toggleable\"><input class=\"sk-toggleable__control sk-hidden--visually\" id=\"sk-estimator-id-50\" type=\"checkbox\" ><label for=\"sk-estimator-id-50\" class=\"sk-toggleable__label sk-toggleable__label-arrow\">SimpleImputer</label><div class=\"sk-toggleable__content\"><pre>SimpleImputer(add_indicator=True, fill_value=&#x27;missing&#x27;, strategy=&#x27;constant&#x27;)</pre></div></div></div><div class=\"sk-item\"><div class=\"sk-estimator sk-toggleable\"><input class=\"sk-toggleable__control sk-hidden--visually\" id=\"sk-estimator-id-51\" type=\"checkbox\" ><label for=\"sk-estimator-id-51\" class=\"sk-toggleable__label sk-toggleable__label-arrow\">LabelEncoder</label><div class=\"sk-toggleable__content\"><pre>LabelEncoder()</pre></div></div></div></div></div></div></div></div></div></div><div class=\"sk-item\"><div class=\"sk-estimator sk-toggleable\"><input class=\"sk-toggleable__control sk-hidden--visually\" id=\"sk-estimator-id-52\" type=\"checkbox\" ><label for=\"sk-estimator-id-52\" class=\"sk-toggleable__label sk-toggleable__label-arrow\">SelfPacedEnsembleClassifier</label><div class=\"sk-toggleable__content\"><pre>SelfPacedEnsembleClassifier(n_jobs=-1,\n",
       "                            random_state=RandomState(MT19937) at 0x178DA377740)</pre></div></div></div></div></div></div></div></div></div></div></div></div>"
      ],
      "text/plain": [
       "SuloClassifier(base_estimator=Pipeline(steps=[('preprocessor',\n",
       "                                               ColumnTransformer(transformers=[('numeric',\n",
       "                                                                                Pipeline(steps=[('imputer',\n",
       "                                                                                                 SimpleImputer(add_indicator=True)),\n",
       "                                                                                                ('scaler',\n",
       "                                                                                                 StandardScaler())]),\n",
       "                                                                                Index(['gender', 'owning_car', 'owning_property', 'children_amt',\n",
       "       'education_level', 'marital_status', 'housing_type', 'job', 'age',\n",
       "       'working_years', 'owning_work_...\n",
       "                                                                                                               sparse=False))]),\n",
       "                                                                                Index([], dtype='object')),\n",
       "                                                                               ('categorical_high',\n",
       "                                                                                Pipeline(steps=[('imputer',\n",
       "                                                                                                 SimpleImputer(add_indicator=True,\n",
       "                                                                                                               fill_value='missing',\n",
       "                                                                                                               strategy='constant')),\n",
       "                                                                                                ('encoding',\n",
       "                                                                                                 LabelEncoder())]),\n",
       "                                                                                Index([], dtype='object'))])),\n",
       "                                              ('model',\n",
       "                                               SelfPacedEnsembleClassifier(n_jobs=-1,\n",
       "                                                                           random_state=RandomState(MT19937) at 0x178DA377740))]),\n",
       "               imbalanced=True, n_estimators=6, verbose=1)"
      ]
     },
     "execution_count": 33,
     "metadata": {},
     "output_type": "execute_result"
    }
   ],
   "source": [
    "spe.plot_pipeline()"
   ]
  },
  {
   "cell_type": "markdown",
   "metadata": {},
   "source": [
    "Nun wird das Modell anhand eines stillgelegten Datensatzes getestet, den das Modell noch nie gesehen hat. Dafür wurde hier in diesen Ansatz 20% bei Seite gelegt"
   ]
  },
  {
   "cell_type": "code",
   "execution_count": 60,
   "metadata": {},
   "outputs": [
    {
     "data": {
      "text/plain": [
       "array([[0, 0, 0, ..., 0, 0, 0],\n",
       "       [0, 0, 0, ..., 0, 0, 0],\n",
       "       [0, 0, 0, ..., 0, 0, 0],\n",
       "       ...,\n",
       "       [0, 0, 0, ..., 0, 0, 0],\n",
       "       [0, 0, 0, ..., 0, 0, 0],\n",
       "       [0, 0, 0, ..., 0, 0, 0]], dtype=int64)"
      ]
     },
     "execution_count": 60,
     "metadata": {},
     "output_type": "execute_result"
    }
   ],
   "source": [
    "y_preds = spe.predict(X_test)\n",
    "len(y_preds)\n",
    "y_preds"
   ]
  },
  {
   "cell_type": "code",
   "execution_count": 66,
   "metadata": {},
   "outputs": [
    {
     "data": {
      "text/plain": [
       "array([[1., 0.],\n",
       "       [1., 0.],\n",
       "       [1., 0.],\n",
       "       ...,\n",
       "       [1., 0.],\n",
       "       [1., 0.],\n",
       "       [1., 0.]])"
      ]
     },
     "execution_count": 66,
     "metadata": {},
     "output_type": "execute_result"
    }
   ],
   "source": [
    "y_probas = spe.predict_proba(X_test)\n",
    "y_probas.round()"
   ]
  },
  {
   "cell_type": "code",
   "execution_count": 65,
   "metadata": {},
   "outputs": [
    {
     "data": {
      "text/plain": [
       "354658    0\n",
       "82782     0\n",
       "218065    0\n",
       "263463    0\n",
       "137602    0\n",
       "         ..\n",
       "12375     0\n",
       "436986    0\n",
       "211765    0\n",
       "288351    0\n",
       "133982    0\n",
       "Name: risk_user, Length: 5027, dtype: int64"
      ]
     },
     "execution_count": 65,
     "metadata": {},
     "output_type": "execute_result"
    }
   ],
   "source": []
  },
  {
   "cell_type": "code",
   "execution_count": 68,
   "metadata": {},
   "outputs": [
    {
     "ename": "ValueError",
     "evalue": "Classification metrics can't handle a mix of binary and multilabel-indicator targets",
     "output_type": "error",
     "traceback": [
      "\u001b[1;31m---------------------------------------------------------------------------\u001b[0m",
      "\u001b[1;31mValueError\u001b[0m                                Traceback (most recent call last)",
      "\u001b[1;32m~\\AppData\\Local\\Temp/ipykernel_26384/100308499.py\u001b[0m in \u001b[0;36m<module>\u001b[1;34m\u001b[0m\n\u001b[1;32m----> 1\u001b[1;33m \u001b[0mprint_sulo_accuracy\u001b[0m\u001b[1;33m(\u001b[0m\u001b[0my_test\u001b[0m\u001b[1;33m,\u001b[0m \u001b[0mnp\u001b[0m\u001b[1;33m.\u001b[0m\u001b[0mround\u001b[0m\u001b[1;33m(\u001b[0m\u001b[0mabs\u001b[0m\u001b[1;33m(\u001b[0m\u001b[0my_preds\u001b[0m\u001b[1;33m)\u001b[0m\u001b[1;33m)\u001b[0m\u001b[1;33m,\u001b[0m \u001b[0my_probas\u001b[0m\u001b[1;33m.\u001b[0m\u001b[0mround\u001b[0m\u001b[1;33m(\u001b[0m\u001b[1;33m)\u001b[0m\u001b[1;33m)\u001b[0m\u001b[1;33m\u001b[0m\u001b[1;33m\u001b[0m\u001b[0m\n\u001b[0m",
      "\u001b[1;32m~\\AppData\\Local\\Packages\\PythonSoftwareFoundation.Python.3.9_qbz5n2kfra8p0\\LocalCache\\local-packages\\Python39\\site-packages\\featurewiz\\sulo_models.py\u001b[0m in \u001b[0;36mprint_sulo_accuracy\u001b[1;34m(y_test, y_preds, y_probas)\u001b[0m\n\u001b[0;32m    985\u001b[0m     \u001b[1;32mif\u001b[0m \u001b[0my_test\u001b[0m\u001b[1;33m.\u001b[0m\u001b[0mndim\u001b[0m \u001b[1;33m<=\u001b[0m \u001b[1;36m1\u001b[0m\u001b[1;33m:\u001b[0m\u001b[1;33m\u001b[0m\u001b[1;33m\u001b[0m\u001b[0m\n\u001b[0;32m    986\u001b[0m         \u001b[1;31m### This is a single label problem # we need to test for multiclass ##\u001b[0m\u001b[1;33m\u001b[0m\u001b[1;33m\u001b[0m\u001b[0m\n\u001b[1;32m--> 987\u001b[1;33m         \u001b[0mbal_score\u001b[0m \u001b[1;33m=\u001b[0m \u001b[0mbalanced_accuracy_score\u001b[0m\u001b[1;33m(\u001b[0m\u001b[0my_test\u001b[0m\u001b[1;33m,\u001b[0m\u001b[0my_preds\u001b[0m\u001b[1;33m)\u001b[0m\u001b[1;33m\u001b[0m\u001b[1;33m\u001b[0m\u001b[0m\n\u001b[0m\u001b[0;32m    988\u001b[0m         \u001b[0mprint\u001b[0m\u001b[1;33m(\u001b[0m\u001b[1;34m'Bal accu %0.0f%%'\u001b[0m \u001b[1;33m%\u001b[0m\u001b[1;33m(\u001b[0m\u001b[1;36m100\u001b[0m\u001b[1;33m*\u001b[0m\u001b[0mbal_score\u001b[0m\u001b[1;33m)\u001b[0m\u001b[1;33m)\u001b[0m\u001b[1;33m\u001b[0m\u001b[1;33m\u001b[0m\u001b[0m\n\u001b[0;32m    989\u001b[0m         \u001b[1;32mif\u001b[0m \u001b[1;32mnot\u001b[0m \u001b[0misinstance\u001b[0m\u001b[1;33m(\u001b[0m\u001b[0my_probas\u001b[0m\u001b[1;33m,\u001b[0m \u001b[0mstr\u001b[0m\u001b[1;33m)\u001b[0m\u001b[1;33m:\u001b[0m\u001b[1;33m\u001b[0m\u001b[1;33m\u001b[0m\u001b[0m\n",
      "\u001b[1;32m~\\AppData\\Local\\Packages\\PythonSoftwareFoundation.Python.3.9_qbz5n2kfra8p0\\LocalCache\\local-packages\\Python39\\site-packages\\sklearn\\metrics\\_classification.py\u001b[0m in \u001b[0;36mbalanced_accuracy_score\u001b[1;34m(y_true, y_pred, sample_weight, adjusted)\u001b[0m\n\u001b[0;32m   1993\u001b[0m     \u001b[1;36m0.625\u001b[0m\u001b[1;33m\u001b[0m\u001b[1;33m\u001b[0m\u001b[0m\n\u001b[0;32m   1994\u001b[0m     \"\"\"\n\u001b[1;32m-> 1995\u001b[1;33m     \u001b[0mC\u001b[0m \u001b[1;33m=\u001b[0m \u001b[0mconfusion_matrix\u001b[0m\u001b[1;33m(\u001b[0m\u001b[0my_true\u001b[0m\u001b[1;33m,\u001b[0m \u001b[0my_pred\u001b[0m\u001b[1;33m,\u001b[0m \u001b[0msample_weight\u001b[0m\u001b[1;33m=\u001b[0m\u001b[0msample_weight\u001b[0m\u001b[1;33m)\u001b[0m\u001b[1;33m\u001b[0m\u001b[1;33m\u001b[0m\u001b[0m\n\u001b[0m\u001b[0;32m   1996\u001b[0m     \u001b[1;32mwith\u001b[0m \u001b[0mnp\u001b[0m\u001b[1;33m.\u001b[0m\u001b[0merrstate\u001b[0m\u001b[1;33m(\u001b[0m\u001b[0mdivide\u001b[0m\u001b[1;33m=\u001b[0m\u001b[1;34m\"ignore\"\u001b[0m\u001b[1;33m,\u001b[0m \u001b[0minvalid\u001b[0m\u001b[1;33m=\u001b[0m\u001b[1;34m\"ignore\"\u001b[0m\u001b[1;33m)\u001b[0m\u001b[1;33m:\u001b[0m\u001b[1;33m\u001b[0m\u001b[1;33m\u001b[0m\u001b[0m\n\u001b[0;32m   1997\u001b[0m         \u001b[0mper_class\u001b[0m \u001b[1;33m=\u001b[0m \u001b[0mnp\u001b[0m\u001b[1;33m.\u001b[0m\u001b[0mdiag\u001b[0m\u001b[1;33m(\u001b[0m\u001b[0mC\u001b[0m\u001b[1;33m)\u001b[0m \u001b[1;33m/\u001b[0m \u001b[0mC\u001b[0m\u001b[1;33m.\u001b[0m\u001b[0msum\u001b[0m\u001b[1;33m(\u001b[0m\u001b[0maxis\u001b[0m\u001b[1;33m=\u001b[0m\u001b[1;36m1\u001b[0m\u001b[1;33m)\u001b[0m\u001b[1;33m\u001b[0m\u001b[1;33m\u001b[0m\u001b[0m\n",
      "\u001b[1;32m~\\AppData\\Local\\Packages\\PythonSoftwareFoundation.Python.3.9_qbz5n2kfra8p0\\LocalCache\\local-packages\\Python39\\site-packages\\sklearn\\metrics\\_classification.py\u001b[0m in \u001b[0;36mconfusion_matrix\u001b[1;34m(y_true, y_pred, labels, sample_weight, normalize)\u001b[0m\n\u001b[0;32m    305\u001b[0m     \u001b[1;33m(\u001b[0m\u001b[1;36m0\u001b[0m\u001b[1;33m,\u001b[0m \u001b[1;36m2\u001b[0m\u001b[1;33m,\u001b[0m \u001b[1;36m1\u001b[0m\u001b[1;33m,\u001b[0m \u001b[1;36m1\u001b[0m\u001b[1;33m)\u001b[0m\u001b[1;33m\u001b[0m\u001b[1;33m\u001b[0m\u001b[0m\n\u001b[0;32m    306\u001b[0m     \"\"\"\n\u001b[1;32m--> 307\u001b[1;33m     \u001b[0my_type\u001b[0m\u001b[1;33m,\u001b[0m \u001b[0my_true\u001b[0m\u001b[1;33m,\u001b[0m \u001b[0my_pred\u001b[0m \u001b[1;33m=\u001b[0m \u001b[0m_check_targets\u001b[0m\u001b[1;33m(\u001b[0m\u001b[0my_true\u001b[0m\u001b[1;33m,\u001b[0m \u001b[0my_pred\u001b[0m\u001b[1;33m)\u001b[0m\u001b[1;33m\u001b[0m\u001b[1;33m\u001b[0m\u001b[0m\n\u001b[0m\u001b[0;32m    308\u001b[0m     \u001b[1;32mif\u001b[0m \u001b[0my_type\u001b[0m \u001b[1;32mnot\u001b[0m \u001b[1;32min\u001b[0m \u001b[1;33m(\u001b[0m\u001b[1;34m\"binary\"\u001b[0m\u001b[1;33m,\u001b[0m \u001b[1;34m\"multiclass\"\u001b[0m\u001b[1;33m)\u001b[0m\u001b[1;33m:\u001b[0m\u001b[1;33m\u001b[0m\u001b[1;33m\u001b[0m\u001b[0m\n\u001b[0;32m    309\u001b[0m         \u001b[1;32mraise\u001b[0m \u001b[0mValueError\u001b[0m\u001b[1;33m(\u001b[0m\u001b[1;34m\"%s is not supported\"\u001b[0m \u001b[1;33m%\u001b[0m \u001b[0my_type\u001b[0m\u001b[1;33m)\u001b[0m\u001b[1;33m\u001b[0m\u001b[1;33m\u001b[0m\u001b[0m\n",
      "\u001b[1;32m~\\AppData\\Local\\Packages\\PythonSoftwareFoundation.Python.3.9_qbz5n2kfra8p0\\LocalCache\\local-packages\\Python39\\site-packages\\sklearn\\metrics\\_classification.py\u001b[0m in \u001b[0;36m_check_targets\u001b[1;34m(y_true, y_pred)\u001b[0m\n\u001b[0;32m     91\u001b[0m \u001b[1;33m\u001b[0m\u001b[0m\n\u001b[0;32m     92\u001b[0m     \u001b[1;32mif\u001b[0m \u001b[0mlen\u001b[0m\u001b[1;33m(\u001b[0m\u001b[0my_type\u001b[0m\u001b[1;33m)\u001b[0m \u001b[1;33m>\u001b[0m \u001b[1;36m1\u001b[0m\u001b[1;33m:\u001b[0m\u001b[1;33m\u001b[0m\u001b[1;33m\u001b[0m\u001b[0m\n\u001b[1;32m---> 93\u001b[1;33m         raise ValueError(\n\u001b[0m\u001b[0;32m     94\u001b[0m             \"Classification metrics can't handle a mix of {0} and {1} targets\".format(\n\u001b[0;32m     95\u001b[0m                 \u001b[0mtype_true\u001b[0m\u001b[1;33m,\u001b[0m \u001b[0mtype_pred\u001b[0m\u001b[1;33m\u001b[0m\u001b[1;33m\u001b[0m\u001b[0m\n",
      "\u001b[1;31mValueError\u001b[0m: Classification metrics can't handle a mix of binary and multilabel-indicator targets"
     ]
    }
   ],
   "source": [
    "print_sulo_accuracy(y_test, np.round(abs(y_preds)), y_probas.round())"
   ]
  },
  {
   "cell_type": "markdown",
   "metadata": {},
   "source": [
    "## Literaturverzeichnis\n",
    "\n",
    "- [1] https://pestleanalysis.com/descriptive-analysis/#What_Is_Descriptive_Analysis\n",
    "- [2] https://machinelearningmastery.com/what-is-imbalanced-classification/\n",
    "- [3] https://imbalanced-learn.org/stable/references/generated/imblearn.under_sampling.NearMiss.html\n"
   ]
  }
 ],
 "metadata": {
  "kernelspec": {
   "display_name": "Python 3.8.13 ('base')",
   "language": "python",
   "name": "python3"
  },
  "language_info": {
   "codemirror_mode": {
    "name": "ipython",
    "version": 3
   },
   "file_extension": ".py",
   "mimetype": "text/x-python",
   "name": "python",
   "nbconvert_exporter": "python",
   "pygments_lexer": "ipython3",
   "version": "3.8.13"
  },
  "orig_nbformat": 4,
  "vscode": {
   "interpreter": {
    "hash": "13abf2c4196656aa22ece865e7175dd2d9eb90308b90dd1641373eed4c9c74fe"
   }
  }
 },
 "nbformat": 4,
 "nbformat_minor": 2
}
