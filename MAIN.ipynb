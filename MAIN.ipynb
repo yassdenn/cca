{
 "cells": [
  {
   "cell_type": "markdown",
   "metadata": {},
   "source": [
    "# Credit Card Approval mit Machine Learning\n",
    "WWI20DSA; Semester-4;  <br>\n",
    "Chengyi Hua (8883221); Yassir Knierim (7362794); Jan Rüdt (1737304)\n",
    "\n",
    "## Projektbeschreibung\n",
    "Das Kredit-Scoring ist eine weit verbreitete Methode des Risikomanagements im Finanzsektor. Es verwendet persönliche Informationen und Daten, die von Kreditkartenantragstellern bereitgestellt werden, um zukünftige Insolvenzen und Kreditkartendarlehen abzuschätzen. Die Bank ist befugt zu entscheiden, ob sie dem Antragsteller eine Kreditkarte zur Verfügung stellt oder nicht. Kredit-Scores können das Risikoniveau objektiv einschätzen. Ein maschinelles Lernmodell ist erforderlich, um vorherzusagen, ob eine Anwendung in diesem Datensatz ein „guter“ oder „schlechter“ Benutzer ist. Durch unsere Zielvariable oder Definition soll sie vorhersagen, ob der Benutzer als Risikobenutzer eingestuft wird oder nicht.\n",
    "<br>\n",
    "<br>\n",
    "\n",
    "## Ziel:\n",
    "![](confusionM.png) <br>\n",
    "In diesem Projekt werden risikobehaftete Kunden als 1 und risikofreie als 0 definiert. Dabei wird es wichtig sein den Fehler Typ II soweit wie möglich zu vermeiden. In diesem Fall bedeutet Fehler Type II, dass Kunden eine credit card approval bekommen würden, obwohl sie als risikobehaftet erkannt werden sollte.\n",
    "<br><br>\n",
    "\n",
    "theorie: Confusions Matrix und Fehler Type I und II <br>\n",
    " \n",
    "Hürden: <br>\n",
    "-  Das Problem der unausgeglichenen Daten ist ein wesentliches Problem in diesem Projekt.<br>\n",
    "Mögliche Lösung: Verwenden Sie das Paket PyCaret, um den unausgeglichenen Datensatz zu reparieren\n",
    "-  Experimente mit verschiedene Modelle. Schnelleres Vorgehen mit __PyCaret__ möglich\n",
    "-  Down- oder Oversampling"
   ]
  },
  {
   "cell_type": "markdown",
   "metadata": {},
   "source": [
    "### Definition der Parameter\n",
    "| Attribut Bezeichnung | Beschreibung | Kommentar |\n",
    "| ------------ | ----------- | ------- |\n",
    "|applicant_ID| Kundennummer |Für das Modell nicht relevant |\t\n",
    "|gender|\tGeschlecht|Kategorial\t|\n",
    "|owning_car|\tAutobesitz\t|Kategorial |\n",
    "|owning_property|\tImmobilienbesitz\t|Kategorial |\n",
    "|children_amt|\tAnzahl von Kindern|Kategorial |\t\n",
    "|anual_income|\tJährliches Einkommen|Numerisch |\t\n",
    "|education_level|\tBildungsniveau\t|Kategorial |\n",
    "|marital_status|\tFamilienstand\t|Kategorial |\n",
    "|housing_type|\tWohnsituation\t|Kategorial |\n",
    "|age|Alter |Numerisch |\n",
    "|working_years|\tArbeitsdauer in Jahren|Numerisch |\t\n",
    "|owning_phone|\tHandybesitz\t|Kategorial |\n",
    "|owning_work_phone|\tArbeitshandybesitz\t|Kategorial |\n",
    "|owning_email|\tEmailbesitz\t|Kategorial |\n",
    "|job|Arbeitstitel|Kategorial |\n",
    "|payment_status|\tStatus|1: 1–29 Tage überfällig<br> 2: 30–59 Tage überfällig<br> 3: 60–89 Tage überfällig<br> 4: 90–119 Tage überfällig<br> 5: 120–149 Tage überfällig<br> 6: Überfällig oder uneinbringlich, Abschreibungen für mehr als 150 Tage<br> -1: in diesem Monat abbezahlt<br> 0: kein Darlehen für den Monat. Kategorial|\n",
    "|risk_user|\tZiel|\tRisikonutzer sind mit „1“ gekennzeichnet, ansonsten mit „0“. Kategorial|\n",
    "\n",
    "Tabelle (1)<br>\n",
    "@Dennis Knierim"
   ]
  },
  {
   "cell_type": "code",
   "execution_count": null,
   "metadata": {},
   "outputs": [],
   "source": [
    "categorical_features = ['gender','owning_car','children_amt', 'owning_property', 'education_level','marital_status', 'housing_type', 'job']\n"
   ]
  },
  {
   "cell_type": "markdown",
   "metadata": {},
   "source": [
    "## Loading dependencies"
   ]
  },
  {
   "cell_type": "code",
   "execution_count": null,
   "metadata": {},
   "outputs": [],
   "source": [
    "import pandas as pd\n",
    "import plotly.express as px\n",
    "import plotly.graph_objects as go\n",
    "import seaborn as sns\n",
    "import numpy as np\n",
    "import matplotlib.pyplot as plt\n",
    "import missingno as mso\n",
    "import seaborn as sns\n",
    "import warnings\n",
    "import pycaret\n",
    "import math\n",
    "from collections import Counter\n",
    "from numpy.random import default_rng\n",
    "from imblearn.under_sampling import *\n",
    "import imblearn\n",
    "from sklearn.model_selection import KFold\n",
    "from pycaret.classification import *\n",
    "\n",
    "# --- Libraries Settings ---\n",
    "#warnings.filterwarnings('ignore')\n",
    "#plt.rcParams['figure.dpi'] = 100"
   ]
  },
  {
   "cell_type": "markdown",
   "metadata": {},
   "source": [
    "## Datenanpassung"
   ]
  },
  {
   "cell_type": "code",
   "execution_count": 171,
   "metadata": {},
   "outputs": [],
   "source": [
    "cca =  pd.read_csv('credit_card_approval.csv')\n",
    "# rough years of employment\n",
    "cca.DAYS_EMPLOYED = abs(cca.DAYS_EMPLOYED) // 365\n",
    "# finding out each customers age\n",
    "cca.DAYS_BIRTH =  abs(cca.DAYS_BIRTH) // 365  \n",
    "cca.AMT_INCOME_TOTAL = pd.to_numeric(cca.AMT_INCOME_TOTAL)\n",
    "# dropping unneccessary attributes\n",
    "cca = cca.drop(\"FLAG_MOBIL\", axis=1)\n",
    "\n",
    "\n",
    "\n",
    "cca.rename(columns = {'CODE_GENDER':'gender', \n",
    "                      'DAYS_BIRTH': 'age',\n",
    "                      'DAYS_EMPLOYED': 'working_years',\n",
    "                      'FLAG_OWN_CAR':'owning_car',\n",
    "                      'FLAG_OWN_REALTY': 'owning_property',\n",
    "                      'CNT_CHILDREN': 'children_amt',\n",
    "                      'AMT_INCOME_TOTAL': 'anual_income',\n",
    "                      'NAME_EDUCATION_TYPE': 'education_level',\n",
    "                      'NAME_FAMILY_STATUS': 'marital_status',\n",
    "                      'NAME_HOUSING_TYPE': 'housing_type',\n",
    "                      'FLAG_WORK_PHONE': 'owning_work_phone',\n",
    "                      'FLAG_EMAIL': 'owning_email',\n",
    "                      'FLAG_PHONE': 'owning_phone',\n",
    "                      'STATUS': 'payment_status',\n",
    "                      'TARGET': 'risk_user',\n",
    "                      'JOB': 'job',\n",
    "                      'ID': 'applicant_ID'\n",
    "                      }, inplace = True)\n",
    "\n",
    "\n",
    "cca[\"owning_car\"].replace({'Y' : '1', 'N': '0'}, inplace= True)\n",
    "cca[\"risk_user\"].replace({1: 'Y', 0: 'N' }, inplace= True)\n",
    "cca[\"owning_property\"].replace({'Y' : '1', 'N': '0'}, inplace= True)\n",
    "cca[\"payment_status\"].replace({'0' : '1', \n",
    "                               '1': '2', \n",
    "                               '2': '3', \n",
    "                               '3': '4', \n",
    "                               '4': '5', \n",
    "                               '5': '6', \n",
    "                               'C': '-1', \n",
    "                               'X': '0'}, inplace= True)\n",
    "cca.payment_status = [int(i) for i in cca.payment_status ]\n",
    "cca = cca.sort_values('applicant_ID')\n",
    "\n"
   ]
  },
  {
   "cell_type": "code",
   "execution_count": 173,
   "metadata": {},
   "outputs": [
    {
     "data": {
      "text/plain": [
       "applicant_ID           int64\n",
       "gender                object\n",
       "owning_car            object\n",
       "owning_property       object\n",
       "children_amt          object\n",
       "anual_income         float64\n",
       "education_level       object\n",
       "marital_status        object\n",
       "housing_type          object\n",
       "age                    int64\n",
       "working_years          int64\n",
       "owning_work_phone      int64\n",
       "owning_phone           int64\n",
       "owning_email           int64\n",
       "job                   object\n",
       "BEGIN_MONTHS           int64\n",
       "payment_status         int64\n",
       "risk_user             object\n",
       "dtype: object"
      ]
     },
     "execution_count": 173,
     "metadata": {},
     "output_type": "execute_result"
    }
   ],
   "source": [
    "cca.dtypes"
   ]
  },
  {
   "cell_type": "code",
   "execution_count": 172,
   "metadata": {},
   "outputs": [
    {
     "data": {
      "text/plain": [
       "14"
      ]
     },
     "execution_count": 172,
     "metadata": {},
     "output_type": "execute_result"
    }
   ],
   "source": [
    "def get_count_of(applicant_frame,column,credit_type):\n",
    "    df = applicant_frame\n",
    "    values = df[column].value_counts()\n",
    "    try:\n",
    "        return values[values.index==credit_type][0]\n",
    "    except:\n",
    "        return 0\n",
    "\n",
    "cca_credit_analysis = cca.copy()\n",
    "cca_credit_analysis['payment_status'].replace({0:'no_credit',\n",
    "        -1:'good',\n",
    "        1:'good',\n",
    "        2:'bad',\n",
    "        3:'bad',\n",
    "        4:'bad',\n",
    "        5:'bad',\n",
    "        6:'bad'}, inplace=True)\n",
    "get_count_of(cca_credit_analysis[cca_credit_analysis.applicant_ID==5008806],'payment_status','good')\n"
   ]
  },
  {
   "cell_type": "code",
   "execution_count": 174,
   "metadata": {},
   "outputs": [],
   "source": [
    "good_mapping = {i:get_count_of(cca_credit_analysis[cca_credit_analysis.applicant_ID==i],'payment_status','good') for i in list(cca_credit_analysis.applicant_ID.unique())}\n",
    "bad_mapping = {i:get_count_of(cca_credit_analysis[cca_credit_analysis.applicant_ID==i],'payment_status','bad') for i in list(cca_credit_analysis.applicant_ID.unique())}\n",
    "no_mapping = {i:get_count_of(cca_credit_analysis[cca_credit_analysis.applicant_ID==i],'payment_status','no_credit') for i in list(cca_credit_analysis.applicant_ID.unique())}"
   ]
  },
  {
   "cell_type": "code",
   "execution_count": 175,
   "metadata": {},
   "outputs": [
    {
     "data": {
      "text/plain": [
       "{5008806: 0,\n",
       " 5008808: 0,\n",
       " 5008809: 0,\n",
       " 5008810: 0,\n",
       " 5008811: 0,\n",
       " 5008815: 0,\n",
       " 5008819: 0,\n",
       " 5008820: 0,\n",
       " 5008821: 0,\n",
       " 5008822: 0,\n",
       " 5008823: 0,\n",
       " 5008824: 0,\n",
       " 5008825: 1,\n",
       " 5008826: 7,\n",
       " 5008830: 2,\n",
       " 5008831: 2,\n",
       " 5008832: 2,\n",
       " 5008836: 0,\n",
       " 5008837: 0,\n",
       " 5008838: 0,\n",
       " 5008839: 0,\n",
       " 5008840: 0,\n",
       " 5008841: 0,\n",
       " 5008842: 0,\n",
       " 5008843: 0,\n",
       " 5008844: 0,\n",
       " 5008846: 0,\n",
       " 5008847: 0,\n",
       " 5008849: 0,\n",
       " 5008850: 0,\n",
       " 5008851: 0,\n",
       " 5008852: 0,\n",
       " 5008853: 0,\n",
       " 5008854: 0,\n",
       " 5008855: 0,\n",
       " 5008856: 0,\n",
       " 5008857: 0,\n",
       " 5008858: 0,\n",
       " 5008859: 0,\n",
       " 5008860: 0,\n",
       " 5008861: 0,\n",
       " 5008862: 0,\n",
       " 5008863: 0,\n",
       " 5008864: 0,\n",
       " 5008865: 0,\n",
       " 5008866: 0,\n",
       " 5008867: 0,\n",
       " 5008868: 0,\n",
       " 5008870: 0,\n",
       " 5008872: 1,\n",
       " 5008873: 0,\n",
       " 5008874: 0,\n",
       " 5008875: 0,\n",
       " 5008876: 0,\n",
       " 5008877: 0,\n",
       " 5008878: 3,\n",
       " 5008879: 0,\n",
       " 5008880: 0,\n",
       " 5008881: 0,\n",
       " 5008882: 0,\n",
       " 5008888: 0,\n",
       " 5008889: 0,\n",
       " 5008890: 0,\n",
       " 5008891: 0,\n",
       " 5008892: 0,\n",
       " 5008893: 0,\n",
       " 5008894: 0,\n",
       " 5008895: 0,\n",
       " 5008896: 0,\n",
       " 5008897: 0,\n",
       " 5008898: 0,\n",
       " 5008899: 0,\n",
       " 5008900: 0,\n",
       " 5008901: 0,\n",
       " 5008902: 1,\n",
       " 5008903: 0,\n",
       " 5008904: 1,\n",
       " 5008905: 0,\n",
       " 5008906: 1,\n",
       " 5008907: 0,\n",
       " 5008908: 1,\n",
       " 5008909: 0,\n",
       " 5008910: 1,\n",
       " 5008911: 0,\n",
       " 5008912: 1,\n",
       " 5008913: 0,\n",
       " 5008914: 1,\n",
       " 5008915: 0,\n",
       " 5008916: 1,\n",
       " 5008917: 0,\n",
       " 5008918: 1,\n",
       " 5008919: 0,\n",
       " 5008920: 1,\n",
       " 5008921: 0,\n",
       " 5008922: 1,\n",
       " 5008923: 0,\n",
       " 5008924: 0,\n",
       " 5008925: 0,\n",
       " 5008926: 1,\n",
       " 5008927: 0,\n",
       " 5008928: 1,\n",
       " 5008929: 0,\n",
       " 5008930: 0,\n",
       " 5008931: 0,\n",
       " 5008932: 0,\n",
       " 5008933: 0,\n",
       " 5008934: 0,\n",
       " 5008935: 0,\n",
       " 5008936: 0,\n",
       " 5008937: 0,\n",
       " 5008938: 0,\n",
       " 5008939: 0,\n",
       " 5008940: 0,\n",
       " 5008941: 0,\n",
       " 5008942: 3,\n",
       " 5008943: 0,\n",
       " 5008944: 3,\n",
       " 5008945: 3,\n",
       " 5008946: 3,\n",
       " 5008947: 0,\n",
       " 5008948: 0,\n",
       " 5008949: 0,\n",
       " 5008950: 0,\n",
       " 5008955: 0,\n",
       " 5008956: 0,\n",
       " 5008957: 0,\n",
       " 5008958: 0,\n",
       " 5008959: 0,\n",
       " 5008960: 0,\n",
       " 5008962: 0,\n",
       " 5008963: 0,\n",
       " 5008981: 0,\n",
       " 5008983: 0,\n",
       " 5008984: 0,\n",
       " 5008986: 0,\n",
       " 5008987: 0,\n",
       " 5008988: 0,\n",
       " 5008991: 0,\n",
       " 5008992: 0,\n",
       " 5008993: 0,\n",
       " 5008994: 0,\n",
       " 5008995: 0,\n",
       " 5008998: 0,\n",
       " 5008999: 0,\n",
       " 5009000: 0,\n",
       " 5009001: 0,\n",
       " 5009002: 0,\n",
       " 5009005: 0,\n",
       " 5009006: 0,\n",
       " 5009007: 0,\n",
       " 5009008: 0,\n",
       " 5009009: 0,\n",
       " 5009010: 0,\n",
       " 5009012: 0,\n",
       " 5009014: 0,\n",
       " 5009027: 0,\n",
       " 5009028: 1,\n",
       " 5009029: 0,\n",
       " 5009031: 0,\n",
       " 5009032: 0,\n",
       " 5009039: 0,\n",
       " 5009040: 0,\n",
       " 5009042: 0,\n",
       " 5009043: 0,\n",
       " 5009044: 1,\n",
       " 5009045: 1,\n",
       " 5009046: 0,\n",
       " 5009047: 0,\n",
       " 5009050: 0,\n",
       " 5009051: 1,\n",
       " 5009052: 0,\n",
       " 5009053: 0,\n",
       " 5009055: 0,\n",
       " 5009056: 0,\n",
       " 5009057: 0,\n",
       " 5009058: 0,\n",
       " 5009062: 0,\n",
       " 5009063: 0,\n",
       " 5009064: 0,\n",
       " 5009065: 0,\n",
       " 5009066: 0,\n",
       " 5009067: 0,\n",
       " 5009068: 0,\n",
       " 5009069: 0,\n",
       " 5009070: 0,\n",
       " 5009071: 0,\n",
       " 5009072: 0,\n",
       " 5009074: 0,\n",
       " 5009075: 0,\n",
       " 5009078: 0,\n",
       " 5009079: 0,\n",
       " 5009080: 4,\n",
       " 5009081: 0,\n",
       " 5009083: 0,\n",
       " 5009084: 0,\n",
       " 5009088: 0,\n",
       " 5009089: 0,\n",
       " 5009090: 0,\n",
       " 5009092: 2,\n",
       " 5009094: 0,\n",
       " 5009095: 0,\n",
       " 5009096: 0,\n",
       " 5009097: 0,\n",
       " 5009098: 0,\n",
       " 5009099: 0,\n",
       " 5009100: 0,\n",
       " 5009103: 0,\n",
       " 5009104: 0,\n",
       " 5009105: 0,\n",
       " 5009106: 0,\n",
       " 5009108: 0,\n",
       " 5009109: 0,\n",
       " 5009110: 1,\n",
       " 5009141: 0,\n",
       " 5009142: 0,\n",
       " 5009145: 0,\n",
       " 5009146: 1,\n",
       " 5009147: 0,\n",
       " 5009149: 0,\n",
       " 5009150: 1,\n",
       " 5009151: 0,\n",
       " 5009152: 0,\n",
       " 5009153: 0,\n",
       " 5009154: 0,\n",
       " 5009155: 0,\n",
       " 5009156: 0,\n",
       " 5009157: 0,\n",
       " 5009158: 0,\n",
       " 5009159: 0,\n",
       " 5009160: 0,\n",
       " 5009161: 2,\n",
       " 5009162: 0,\n",
       " 5009163: 0,\n",
       " 5009164: 0,\n",
       " 5009165: 0,\n",
       " 5009166: 0,\n",
       " 5009168: 0,\n",
       " 5009177: 1,\n",
       " 5009178: 1,\n",
       " 5009179: 0,\n",
       " 5009180: 1,\n",
       " 5009181: 1,\n",
       " 5009182: 0,\n",
       " 5009183: 0,\n",
       " 5009186: 1,\n",
       " 5009187: 0,\n",
       " 5009188: 0,\n",
       " 5009189: 0,\n",
       " 5009190: 0,\n",
       " 5009191: 0,\n",
       " 5009192: 0,\n",
       " 5009193: 1,\n",
       " 5009195: 0,\n",
       " 5009196: 0,\n",
       " 5009198: 0,\n",
       " 5009201: 0,\n",
       " 5009202: 0,\n",
       " 5009203: 0,\n",
       " 5009204: 0,\n",
       " 5009205: 0,\n",
       " 5009206: 0,\n",
       " 5009207: 0,\n",
       " 5009208: 0,\n",
       " 5009209: 1,\n",
       " 5009210: 0,\n",
       " 5009213: 0,\n",
       " 5009215: 1,\n",
       " 5009216: 0,\n",
       " 5009217: 0,\n",
       " 5009220: 0,\n",
       " 5009222: 0,\n",
       " 5009223: 0,\n",
       " 5009224: 0,\n",
       " 5009225: 0,\n",
       " 5009226: 0,\n",
       " 5009227: 0,\n",
       " 5009232: 0,\n",
       " 5009233: 0,\n",
       " 5009234: 0,\n",
       " 5009236: 0,\n",
       " 5009238: 0,\n",
       " 5009239: 0,\n",
       " 5009240: 0,\n",
       " 5009241: 0,\n",
       " 5009242: 0,\n",
       " 5009243: 0,\n",
       " 5009244: 0,\n",
       " 5009249: 0,\n",
       " 5009250: 0,\n",
       " 5009251: 0,\n",
       " 5009252: 0,\n",
       " 5009253: 0,\n",
       " 5009255: 0,\n",
       " 5009257: 0,\n",
       " 5009258: 0,\n",
       " 5009260: 0,\n",
       " 5009261: 1,\n",
       " 5009262: 0,\n",
       " 5009263: 1,\n",
       " 5009265: 0,\n",
       " 5009266: 0,\n",
       " 5009267: 0,\n",
       " 5009268: 0,\n",
       " 5009269: 0,\n",
       " 5009270: 0,\n",
       " 5009271: 0,\n",
       " 5009272: 0,\n",
       " 5009274: 0,\n",
       " 5009275: 0,\n",
       " 5009276: 0,\n",
       " 5009277: 0,\n",
       " 5009278: 0,\n",
       " 5009279: 0,\n",
       " 5009280: 0,\n",
       " 5009281: 0,\n",
       " 5009284: 0,\n",
       " 5009285: 0,\n",
       " 5009286: 0,\n",
       " 5009287: 0,\n",
       " 5009289: 0,\n",
       " 5009290: 0,\n",
       " 5009291: 0,\n",
       " 5009292: 0,\n",
       " 5009293: 0,\n",
       " 5009294: 0,\n",
       " 5009297: 1,\n",
       " 5009299: 1,\n",
       " 5009300: 0,\n",
       " 5009301: 0,\n",
       " 5009325: 0,\n",
       " 5009327: 0,\n",
       " 5009328: 0,\n",
       " 5009329: 0,\n",
       " 5009330: 0,\n",
       " 5009331: 0,\n",
       " 5009332: 0,\n",
       " 5009333: 0,\n",
       " 5009335: 0,\n",
       " 5009336: 0,\n",
       " 5009337: 0,\n",
       " 5009338: 0,\n",
       " 5009339: 3,\n",
       " 5009340: 0,\n",
       " 5009341: 0,\n",
       " 5009342: 0,\n",
       " 5009343: 0,\n",
       " 5009344: 0,\n",
       " 5009345: 0,\n",
       " 5009346: 0,\n",
       " 5009349: 0,\n",
       " 5009354: 1,\n",
       " 5009355: 0,\n",
       " 5009358: 0,\n",
       " 5009359: 6,\n",
       " 5009360: 2,\n",
       " 5009361: 0,\n",
       " 5009362: 0,\n",
       " 5009363: 0,\n",
       " 5009364: 0,\n",
       " 5009365: 0,\n",
       " 5009366: 1,\n",
       " 5009367: 0,\n",
       " 5009378: 0,\n",
       " 5009379: 0,\n",
       " 5009380: 0,\n",
       " 5009381: 0,\n",
       " 5009382: 0,\n",
       " 5009383: 0,\n",
       " 5009384: 0,\n",
       " 5009386: 0,\n",
       " 5009387: 0,\n",
       " 5009389: 1,\n",
       " 5009391: 1,\n",
       " 5009392: 0,\n",
       " 5009393: 0,\n",
       " 5009394: 1,\n",
       " 5009395: 0,\n",
       " 5009396: 0,\n",
       " 5009397: 0,\n",
       " 5009398: 0,\n",
       " 5009399: 0,\n",
       " 5009400: 0,\n",
       " 5009401: 0,\n",
       " 5009402: 0,\n",
       " 5009403: 0,\n",
       " 5009404: 0,\n",
       " 5009405: 0,\n",
       " 5009406: 0,\n",
       " 5009408: 0,\n",
       " 5009410: 0,\n",
       " 5009415: 3,\n",
       " 5009416: 0,\n",
       " 5009417: 1,\n",
       " 5009418: 0,\n",
       " 5009419: 0,\n",
       " 5009420: 0,\n",
       " 5009421: 0,\n",
       " 5009423: 0,\n",
       " 5009424: 1,\n",
       " 5009425: 0,\n",
       " 5009428: 0,\n",
       " 5009429: 0,\n",
       " 5009431: 0,\n",
       " 5009447: 0,\n",
       " 5009448: 0,\n",
       " 5009450: 0,\n",
       " 5009451: 0,\n",
       " 5009452: 0,\n",
       " 5009453: 0,\n",
       " 5009454: 0,\n",
       " 5009455: 0,\n",
       " 5009456: 0,\n",
       " 5009457: 0,\n",
       " 5009458: 0,\n",
       " 5009484: 0,\n",
       " 5009485: 0,\n",
       " 5009490: 0,\n",
       " 5009492: 0,\n",
       " 5009493: 0,\n",
       " 5009494: 0,\n",
       " 5009495: 0,\n",
       " 5009497: 0,\n",
       " 5009498: 0,\n",
       " 5009499: 0,\n",
       " 5009500: 0,\n",
       " 5009501: 0,\n",
       " 5009502: 0,\n",
       " 5009503: 0,\n",
       " 5009507: 0,\n",
       " 5009508: 1,\n",
       " 5009509: 0,\n",
       " 5009510: 0,\n",
       " 5009512: 0,\n",
       " 5009513: 1,\n",
       " 5009515: 0,\n",
       " 5009516: 0,\n",
       " 5009517: 0,\n",
       " 5009518: 0,\n",
       " 5009519: 0,\n",
       " 5009521: 0,\n",
       " 5009523: 0,\n",
       " 5009524: 14,\n",
       " 5009525: 0,\n",
       " 5009536: 0,\n",
       " 5009537: 0,\n",
       " 5009540: 0,\n",
       " 5009541: 1,\n",
       " 5009543: 0,\n",
       " 5009545: 0,\n",
       " 5009546: 1,\n",
       " 5009548: 0,\n",
       " 5009551: 0,\n",
       " 5009553: 0,\n",
       " 5009554: 0,\n",
       " 5009555: 0,\n",
       " 5009556: 1,\n",
       " 5009557: 0,\n",
       " 5009558: 1,\n",
       " 5009559: 0,\n",
       " 5009560: 0,\n",
       " 5009561: 0,\n",
       " 5009565: 0,\n",
       " 5009566: 0,\n",
       " 5009567: 0,\n",
       " 5009568: 0,\n",
       " 5009569: 0,\n",
       " 5009570: 0,\n",
       " 5009571: 0,\n",
       " 5009572: 0,\n",
       " 5009573: 0,\n",
       " 5009574: 0,\n",
       " 5009575: 0,\n",
       " 5009576: 0,\n",
       " 5009582: 2,\n",
       " 5009583: 0,\n",
       " 5009584: 2,\n",
       " 5009585: 0,\n",
       " 5009586: 0,\n",
       " 5009593: 0,\n",
       " 5009594: 0,\n",
       " 5009595: 0,\n",
       " 5009597: 0,\n",
       " 5009599: 0,\n",
       " 5009600: 0,\n",
       " 5009602: 0,\n",
       " 5009603: 0,\n",
       " 5009605: 0,\n",
       " 5009606: 0,\n",
       " 5009607: 0,\n",
       " 5009608: 0,\n",
       " 5009609: 0,\n",
       " 5009610: 0,\n",
       " 5009611: 0,\n",
       " 5009612: 0,\n",
       " 5009613: 0,\n",
       " 5009614: 0,\n",
       " 5009620: 0,\n",
       " 5009622: 0,\n",
       " 5009623: 0,\n",
       " 5009624: 0,\n",
       " 5009625: 0,\n",
       " 5009627: 0,\n",
       " 5009628: 15,\n",
       " 5009629: 0,\n",
       " 5009631: 0,\n",
       " 5009632: 0,\n",
       " 5009633: 0,\n",
       " 5009634: 0,\n",
       " 5009646: 0,\n",
       " 5009647: 0,\n",
       " 5009648: 0,\n",
       " 5009671: 0,\n",
       " 5009672: 0,\n",
       " 5009694: 2,\n",
       " 5009695: 1,\n",
       " 5009698: 1,\n",
       " 5009699: 1,\n",
       " 5009700: 1,\n",
       " 5009706: 0,\n",
       " 5009707: 0,\n",
       " 5009709: 0,\n",
       " 5009711: 0,\n",
       " 5009712: 0,\n",
       " 5009724: 0,\n",
       " 5009725: 0,\n",
       " 5009726: 0,\n",
       " 5009727: 0,\n",
       " 5009729: 0,\n",
       " 5009730: 0,\n",
       " 5009731: 0,\n",
       " 5009732: 0,\n",
       " 5009733: 0,\n",
       " 5009734: 0,\n",
       " 5009736: 0,\n",
       " 5009737: 0,\n",
       " 5009738: 0,\n",
       " 5009739: 0,\n",
       " 5009740: 0,\n",
       " 5009741: 0,\n",
       " 5009742: 0,\n",
       " 5009743: 0,\n",
       " 5009757: 0,\n",
       " 5009758: 0,\n",
       " 5009759: 0,\n",
       " 5009760: 0,\n",
       " 5009761: 0,\n",
       " 5009762: 0,\n",
       " 5009764: 0,\n",
       " 5009765: 0,\n",
       " 5009766: 0,\n",
       " 5009767: 0,\n",
       " 5009768: 0,\n",
       " 5009773: 0,\n",
       " 5009774: 0,\n",
       " 5009775: 0,\n",
       " 5009777: 0,\n",
       " 5009779: 0,\n",
       " 5009783: 0,\n",
       " 5009784: 0,\n",
       " 5009805: 0,\n",
       " 5009806: 0,\n",
       " 5009807: 0,\n",
       " 5009808: 0,\n",
       " 5009809: 0,\n",
       " 5009810: 0,\n",
       " 5009811: 0,\n",
       " 5009812: 0,\n",
       " 5009813: 0,\n",
       " 5009814: 0,\n",
       " 5009816: 0,\n",
       " 5009817: 0,\n",
       " 5009819: 0,\n",
       " 5009820: 0,\n",
       " 5009821: 0,\n",
       " 5009822: 0,\n",
       " 5009823: 0,\n",
       " 5009824: 0,\n",
       " 5009825: 1,\n",
       " 5009826: 0,\n",
       " 5009827: 0,\n",
       " 5009828: 0,\n",
       " 5009829: 0,\n",
       " 5009830: 0,\n",
       " 5009831: 0,\n",
       " 5009832: 0,\n",
       " 5009833: 0,\n",
       " 5009834: 0,\n",
       " 5009835: 0,\n",
       " 5009836: 0,\n",
       " 5009837: 0,\n",
       " 5009838: 0,\n",
       " 5009839: 0,\n",
       " 5009841: 0,\n",
       " 5009843: 1,\n",
       " 5009844: 0,\n",
       " 5009845: 0,\n",
       " 5009846: 0,\n",
       " 5009847: 0,\n",
       " 5009848: 0,\n",
       " 5009849: 0,\n",
       " 5009850: 0,\n",
       " 5009851: 0,\n",
       " 5009852: 0,\n",
       " 5009853: 0,\n",
       " 5009854: 0,\n",
       " 5009856: 1,\n",
       " 5009857: 0,\n",
       " 5009858: 0,\n",
       " 5009859: 0,\n",
       " 5009860: 0,\n",
       " 5009864: 0,\n",
       " 5009865: 0,\n",
       " 5009866: 0,\n",
       " 5009867: 0,\n",
       " 5009868: 0,\n",
       " 5009872: 0,\n",
       " 5009873: 1,\n",
       " 5009874: 0,\n",
       " 5009875: 1,\n",
       " 5009877: 0,\n",
       " 5009878: 0,\n",
       " 5009879: 0,\n",
       " 5009889: 0,\n",
       " 5009890: 0,\n",
       " 5009893: 0,\n",
       " 5009897: 1,\n",
       " 5009898: 0,\n",
       " 5009899: 0,\n",
       " 5009900: 0,\n",
       " 5009903: 0,\n",
       " 5009906: 0,\n",
       " 5009907: 0,\n",
       " 5009908: 3,\n",
       " 5009909: 3,\n",
       " 5009910: 0,\n",
       " 5009911: 0,\n",
       " 5009914: 1,\n",
       " 5009915: 0,\n",
       " 5009916: 1,\n",
       " 5009917: 1,\n",
       " 5009918: 2,\n",
       " 5009919: 0,\n",
       " 5009922: 0,\n",
       " 5009923: 0,\n",
       " 5009924: 0,\n",
       " 5009925: 0,\n",
       " 5009927: 0,\n",
       " 5009928: 0,\n",
       " 5009929: 0,\n",
       " 5009930: 0,\n",
       " 5009931: 0,\n",
       " 5009932: 0,\n",
       " 5009934: 0,\n",
       " 5009935: 0,\n",
       " 5009938: 4,\n",
       " 5009939: 0,\n",
       " 5009940: 1,\n",
       " 5009941: 0,\n",
       " 5009942: 0,\n",
       " 5009943: 0,\n",
       " 5009946: 0,\n",
       " 5009947: 0,\n",
       " 5009949: 0,\n",
       " 5009950: 0,\n",
       " 5009965: 0,\n",
       " 5009966: 0,\n",
       " 5009967: 1,\n",
       " 5009968: 0,\n",
       " 5009969: 0,\n",
       " 5009970: 0,\n",
       " 5009971: 0,\n",
       " 5009978: 0,\n",
       " 5009979: 1,\n",
       " 5009980: 0,\n",
       " 5009981: 0,\n",
       " 5009983: 1,\n",
       " 5009984: 0,\n",
       " 5009985: 0,\n",
       " 5009986: 0,\n",
       " 5009991: 0,\n",
       " 5009992: 0,\n",
       " 5009993: 0,\n",
       " 5009994: 0,\n",
       " 5009995: 0,\n",
       " 5009996: 0,\n",
       " 5009997: 0,\n",
       " 5009998: 0,\n",
       " 5009999: 0,\n",
       " 5010000: 0,\n",
       " 5010001: 0,\n",
       " 5010002: 1,\n",
       " 5010003: 1,\n",
       " 5010004: 1,\n",
       " 5010007: 0,\n",
       " 5010009: 0,\n",
       " 5010010: 0,\n",
       " 5010011: 0,\n",
       " 5010012: 0,\n",
       " 5010023: 1,\n",
       " 5010025: 2,\n",
       " 5010026: 0,\n",
       " 5010027: 0,\n",
       " 5010028: 0,\n",
       " 5010041: 0,\n",
       " 5010042: 0,\n",
       " 5010043: 0,\n",
       " 5010044: 0,\n",
       " 5010045: 0,\n",
       " 5010046: 0,\n",
       " 5010047: 1,\n",
       " 5010048: 0,\n",
       " 5010049: 0,\n",
       " 5010052: 0,\n",
       " 5010053: 1,\n",
       " 5010055: 0,\n",
       " 5010056: 0,\n",
       " 5010057: 0,\n",
       " 5010058: 0,\n",
       " 5010067: 1,\n",
       " 5010068: 0,\n",
       " 5010070: 0,\n",
       " 5010072: 0,\n",
       " 5010073: 0,\n",
       " 5010075: 0,\n",
       " 5010076: 0,\n",
       " 5010077: 0,\n",
       " 5010078: 0,\n",
       " 5010079: 0,\n",
       " 5010081: 0,\n",
       " 5010083: 0,\n",
       " 5010084: 0,\n",
       " 5010085: 0,\n",
       " 5010086: 0,\n",
       " 5010087: 0,\n",
       " 5010088: 0,\n",
       " 5010089: 0,\n",
       " 5010090: 0,\n",
       " 5010091: 0,\n",
       " 5010092: 0,\n",
       " 5010093: 1,\n",
       " 5010094: 0,\n",
       " 5010099: 0,\n",
       " 5010101: 0,\n",
       " 5010102: 0,\n",
       " 5010117: 0,\n",
       " 5010119: 0,\n",
       " 5010120: 0,\n",
       " 5010121: 0,\n",
       " 5010122: 0,\n",
       " 5010123: 0,\n",
       " 5010126: 0,\n",
       " 5010127: 0,\n",
       " 5010128: 0,\n",
       " 5010129: 0,\n",
       " 5010133: 0,\n",
       " 5010135: 0,\n",
       " 5010136: 0,\n",
       " 5010137: 0,\n",
       " 5010147: 0,\n",
       " 5010150: 0,\n",
       " 5010151: 0,\n",
       " 5010152: 0,\n",
       " 5010153: 0,\n",
       " 5010154: 0,\n",
       " 5010156: 0,\n",
       " 5010160: 0,\n",
       " 5010161: 0,\n",
       " 5010162: 0,\n",
       " 5010163: 0,\n",
       " 5010164: 0,\n",
       " 5010165: 1,\n",
       " 5010166: 1,\n",
       " 5010170: 1,\n",
       " 5010172: 0,\n",
       " 5010173: 0,\n",
       " 5010174: 0,\n",
       " 5010182: 0,\n",
       " 5010183: 0,\n",
       " 5010184: 0,\n",
       " 5010185: 0,\n",
       " 5010186: 0,\n",
       " 5010187: 0,\n",
       " 5010188: 0,\n",
       " 5010190: 6,\n",
       " 5010195: 0,\n",
       " 5010198: 0,\n",
       " 5010199: 2,\n",
       " 5010200: 0,\n",
       " 5010201: 0,\n",
       " 5010202: 0,\n",
       " 5010203: 0,\n",
       " 5010204: 0,\n",
       " 5010205: 0,\n",
       " 5010206: 0,\n",
       " 5010207: 0,\n",
       " 5010208: 0,\n",
       " 5010209: 0,\n",
       " 5010215: 0,\n",
       " 5010217: 0,\n",
       " 5010218: 0,\n",
       " 5010222: 0,\n",
       " 5010223: 0,\n",
       " 5010224: 0,\n",
       " 5010225: 0,\n",
       " 5010226: 1,\n",
       " 5010227: 0,\n",
       " 5010228: 0,\n",
       " 5010230: 0,\n",
       " 5010231: 3,\n",
       " 5010234: 0,\n",
       " 5010235: 0,\n",
       " 5010236: 1,\n",
       " 5010238: 0,\n",
       " 5010239: 0,\n",
       " 5010240: 0,\n",
       " 5010241: 0,\n",
       " 5010242: 0,\n",
       " 5010243: 0,\n",
       " 5010244: 0,\n",
       " 5010245: 0,\n",
       " 5010246: 0,\n",
       " 5010247: 0,\n",
       " 5010248: 0,\n",
       " 5010249: 0,\n",
       " 5010250: 0,\n",
       " 5010253: 0,\n",
       " 5010256: 0,\n",
       " 5010257: 0,\n",
       " 5010293: 0,\n",
       " 5010294: 0,\n",
       " 5010295: 0,\n",
       " 5010296: 2,\n",
       " 5010297: 0,\n",
       " 5010298: 2,\n",
       " 5010299: 0,\n",
       " 5010300: 0,\n",
       " 5010309: 0,\n",
       " 5010310: 0,\n",
       " 5010311: 0,\n",
       " 5010312: 0,\n",
       " 5010313: 0,\n",
       " 5010314: 0,\n",
       " 5010315: 0,\n",
       " 5010316: 0,\n",
       " 5010317: 0,\n",
       " 5010318: 0,\n",
       " 5010319: 0,\n",
       " 5010320: 0,\n",
       " 5010321: 0,\n",
       " 5010346: 0,\n",
       " 5010347: 0,\n",
       " 5010348: 0,\n",
       " 5010351: 0,\n",
       " 5010352: 0,\n",
       " 5010356: 0,\n",
       " 5010358: 0,\n",
       " 5010359: 0,\n",
       " 5010361: 0,\n",
       " 5010362: 0,\n",
       " 5010363: 1,\n",
       " 5010364: 0,\n",
       " 5010365: 0,\n",
       " 5010366: 0,\n",
       " 5010367: 0,\n",
       " 5010368: 0,\n",
       " 5010369: 1,\n",
       " 5010370: 0,\n",
       " 5010385: 0,\n",
       " 5010386: 0,\n",
       " 5010387: 0,\n",
       " 5010388: 0,\n",
       " 5010389: 1,\n",
       " 5010390: 0,\n",
       " 5010391: 0,\n",
       " 5010394: 0,\n",
       " 5010396: 1,\n",
       " 5010397: 0,\n",
       " 5010398: 0,\n",
       " 5010400: 0,\n",
       " 5010414: 0,\n",
       " 5010416: 0,\n",
       " 5010417: 0,\n",
       " 5010418: 0,\n",
       " 5010419: 0,\n",
       " 5010420: 4,\n",
       " 5010421: 0,\n",
       " 5010423: 0,\n",
       " 5010424: 0,\n",
       " 5010425: 0,\n",
       " 5010426: 0,\n",
       " 5010427: 0,\n",
       " 5010428: 0,\n",
       " 5010429: 4,\n",
       " 5010430: 0,\n",
       " 5010431: 0,\n",
       " 5010432: 0,\n",
       " 5010453: 0,\n",
       " 5010454: 0,\n",
       " 5010455: 0,\n",
       " 5010456: 0,\n",
       " 5010457: 0,\n",
       " 5010458: 0,\n",
       " 5010459: 0,\n",
       " 5010460: 0,\n",
       " 5010461: 0,\n",
       " 5010462: 0,\n",
       " 5010463: 0,\n",
       " 5010465: 0,\n",
       " 5010466: 1,\n",
       " 5010467: 0,\n",
       " 5010468: 1,\n",
       " 5010470: 1,\n",
       " 5010471: 0,\n",
       " 5010472: 1,\n",
       " 5010491: 1,\n",
       " 5010492: 0,\n",
       " 5010493: 0,\n",
       " 5010494: 6,\n",
       " 5010501: 0,\n",
       " 5010503: 0,\n",
       " 5010504: 0,\n",
       " 5010507: 0,\n",
       " 5010508: 0,\n",
       " 5010509: 0,\n",
       " 5010511: 0,\n",
       " 5010512: 0,\n",
       " 5010513: 0,\n",
       " 5010515: 0,\n",
       " 5010516: 0,\n",
       " 5010517: 0,\n",
       " 5010518: 0,\n",
       " 5010519: 0,\n",
       " 5010520: 0,\n",
       " 5010521: 0,\n",
       " 5010522: 0,\n",
       " 5010523: 0,\n",
       " 5010524: 0,\n",
       " 5010525: 0,\n",
       " 5010526: 0,\n",
       " 5010527: 0,\n",
       " 5010528: 0,\n",
       " 5010529: 0,\n",
       " 5010530: 0,\n",
       " 5010534: 0,\n",
       " 5010535: 2,\n",
       " 5010536: 0,\n",
       " 5010537: 2,\n",
       " 5010538: 2,\n",
       " 5010539: 0,\n",
       " 5010540: 0,\n",
       " 5010541: 2,\n",
       " 5010542: 0,\n",
       " 5010543: 0,\n",
       " 5010544: 0,\n",
       " 5010545: 0,\n",
       " 5010546: 0,\n",
       " 5010547: 0,\n",
       " 5010548: 0,\n",
       " 5010549: 0,\n",
       " 5010551: 0,\n",
       " 5010553: 0,\n",
       " 5010556: 0,\n",
       " 5010557: 0,\n",
       " 5010558: 0,\n",
       " 5010559: 0,\n",
       " 5010560: 0,\n",
       " 5010564: 0,\n",
       " 5010565: 0,\n",
       " 5010566: 1,\n",
       " 5010567: 0,\n",
       " 5010568: 0,\n",
       " 5010569: 0,\n",
       " 5010570: 0,\n",
       " 5010571: 0,\n",
       " 5010572: 0,\n",
       " 5010573: 0,\n",
       " 5010574: 0,\n",
       " 5010575: 0,\n",
       " 5010578: 0,\n",
       " 5010579: 0,\n",
       " 5010583: 0,\n",
       " 5010584: 0,\n",
       " 5010585: 0,\n",
       " 5010586: 0,\n",
       " 5010587: 0,\n",
       " 5010588: 0,\n",
       " 5010589: 0,\n",
       " 5010590: 0,\n",
       " 5010591: 0,\n",
       " 5010598: 0,\n",
       " 5010599: 0,\n",
       " 5010600: 0,\n",
       " 5010601: 0,\n",
       " 5010602: 0,\n",
       " 5010603: 2,\n",
       " 5010604: 0,\n",
       " 5010605: 0,\n",
       " 5010613: 0,\n",
       " 5010615: 0,\n",
       " 5010616: 0,\n",
       " ...}"
      ]
     },
     "execution_count": 175,
     "metadata": {},
     "output_type": "execute_result"
    }
   ],
   "source": [
    "bad_mapping"
   ]
  },
  {
   "cell_type": "code",
   "execution_count": 176,
   "metadata": {},
   "outputs": [],
   "source": [
    "cca['total_good_credit'] = cca.applicant_ID.map(good_mapping)\n",
    "cca['total_bad_credit'] = cca.applicant_ID.map(bad_mapping)\n",
    "cca['total_no_credit'] = cca.applicant_ID.map(no_mapping)"
   ]
  },
  {
   "cell_type": "code",
   "execution_count": 181,
   "metadata": {},
   "outputs": [],
   "source": [
    "cca_t0 = cca[cca.BEGIN_MONTHS==0]"
   ]
  },
  {
   "cell_type": "code",
   "execution_count": 177,
   "metadata": {},
   "outputs": [],
   "source": [
    "# checking for datatype of the different attributes\n",
    "#print(cca.dtypes)\n",
    "\n",
    "# getting insides into the attribute contents, Check for na and errors\n",
    "#columns = []\n",
    "#for n in cca.columns:\n",
    "#    columns.append(n)\n",
    "\n",
    "#for n in columns:  \n",
    "#    print(n)\n",
    "#    print(cca[n].unique())\n",
    "#    for i in cca[n].isna():\n",
    "#        if i == True:\n",
    "#            print(\"AHAAAA\")\n",
    "#    print('\\n \\n')   \n",
    "#print(cca.isnull().sum())\n"
   ]
  },
  {
   "cell_type": "code",
   "execution_count": 182,
   "metadata": {},
   "outputs": [
    {
     "data": {
      "text/html": [
       "<div>\n",
       "<style scoped>\n",
       "    .dataframe tbody tr th:only-of-type {\n",
       "        vertical-align: middle;\n",
       "    }\n",
       "\n",
       "    .dataframe tbody tr th {\n",
       "        vertical-align: top;\n",
       "    }\n",
       "\n",
       "    .dataframe thead th {\n",
       "        text-align: right;\n",
       "    }\n",
       "</style>\n",
       "<table border=\"1\" class=\"dataframe\">\n",
       "  <thead>\n",
       "    <tr style=\"text-align: right;\">\n",
       "      <th></th>\n",
       "      <th>applicant_ID</th>\n",
       "      <th>gender</th>\n",
       "      <th>owning_car</th>\n",
       "      <th>owning_property</th>\n",
       "      <th>children_amt</th>\n",
       "      <th>anual_income</th>\n",
       "      <th>education_level</th>\n",
       "      <th>marital_status</th>\n",
       "      <th>housing_type</th>\n",
       "      <th>age</th>\n",
       "      <th>working_years</th>\n",
       "      <th>owning_work_phone</th>\n",
       "      <th>owning_phone</th>\n",
       "      <th>owning_email</th>\n",
       "      <th>job</th>\n",
       "      <th>BEGIN_MONTHS</th>\n",
       "      <th>payment_status</th>\n",
       "      <th>risk_user</th>\n",
       "      <th>total_good_credit</th>\n",
       "      <th>total_bad_credit</th>\n",
       "      <th>total_no_credit</th>\n",
       "    </tr>\n",
       "  </thead>\n",
       "  <tbody>\n",
       "    <tr>\n",
       "      <th>525276</th>\n",
       "      <td>5118312</td>\n",
       "      <td>F</td>\n",
       "      <td>1</td>\n",
       "      <td>0</td>\n",
       "      <td>1 children</td>\n",
       "      <td>112500.0</td>\n",
       "      <td>Secondary / secondary special</td>\n",
       "      <td>Married</td>\n",
       "      <td>House / apartment</td>\n",
       "      <td>27</td>\n",
       "      <td>1</td>\n",
       "      <td>1</td>\n",
       "      <td>0</td>\n",
       "      <td>0</td>\n",
       "      <td>Sales staff</td>\n",
       "      <td>0</td>\n",
       "      <td>2</td>\n",
       "      <td>N</td>\n",
       "      <td>22</td>\n",
       "      <td>2</td>\n",
       "      <td>0</td>\n",
       "    </tr>\n",
       "    <tr>\n",
       "      <th>215203</th>\n",
       "      <td>5114007</td>\n",
       "      <td>F</td>\n",
       "      <td>0</td>\n",
       "      <td>0</td>\n",
       "      <td>2+ children</td>\n",
       "      <td>202500.0</td>\n",
       "      <td>Secondary / secondary special</td>\n",
       "      <td>Married</td>\n",
       "      <td>House / apartment</td>\n",
       "      <td>36</td>\n",
       "      <td>7</td>\n",
       "      <td>0</td>\n",
       "      <td>0</td>\n",
       "      <td>0</td>\n",
       "      <td>Sales staff</td>\n",
       "      <td>0</td>\n",
       "      <td>-1</td>\n",
       "      <td>N</td>\n",
       "      <td>31</td>\n",
       "      <td>0</td>\n",
       "      <td>0</td>\n",
       "    </tr>\n",
       "    <tr>\n",
       "      <th>168929</th>\n",
       "      <td>5092171</td>\n",
       "      <td>M</td>\n",
       "      <td>1</td>\n",
       "      <td>0</td>\n",
       "      <td>2+ children</td>\n",
       "      <td>315000.0</td>\n",
       "      <td>Incomplete higher</td>\n",
       "      <td>Married</td>\n",
       "      <td>House / apartment</td>\n",
       "      <td>30</td>\n",
       "      <td>1</td>\n",
       "      <td>0</td>\n",
       "      <td>0</td>\n",
       "      <td>0</td>\n",
       "      <td>Managers</td>\n",
       "      <td>0</td>\n",
       "      <td>1</td>\n",
       "      <td>N</td>\n",
       "      <td>19</td>\n",
       "      <td>0</td>\n",
       "      <td>1</td>\n",
       "    </tr>\n",
       "    <tr>\n",
       "      <th>228422</th>\n",
       "      <td>5065648</td>\n",
       "      <td>F</td>\n",
       "      <td>0</td>\n",
       "      <td>1</td>\n",
       "      <td>No children</td>\n",
       "      <td>67500.0</td>\n",
       "      <td>Secondary / secondary special</td>\n",
       "      <td>Married</td>\n",
       "      <td>Office apartment</td>\n",
       "      <td>28</td>\n",
       "      <td>6</td>\n",
       "      <td>1</td>\n",
       "      <td>1</td>\n",
       "      <td>0</td>\n",
       "      <td>Core staff</td>\n",
       "      <td>0</td>\n",
       "      <td>1</td>\n",
       "      <td>N</td>\n",
       "      <td>4</td>\n",
       "      <td>0</td>\n",
       "      <td>1</td>\n",
       "    </tr>\n",
       "    <tr>\n",
       "      <th>350538</th>\n",
       "      <td>5010802</td>\n",
       "      <td>F</td>\n",
       "      <td>0</td>\n",
       "      <td>1</td>\n",
       "      <td>No children</td>\n",
       "      <td>270000.0</td>\n",
       "      <td>Secondary / secondary special</td>\n",
       "      <td>Married</td>\n",
       "      <td>Municipal apartment</td>\n",
       "      <td>42</td>\n",
       "      <td>2</td>\n",
       "      <td>0</td>\n",
       "      <td>0</td>\n",
       "      <td>1</td>\n",
       "      <td>Security staff</td>\n",
       "      <td>0</td>\n",
       "      <td>-1</td>\n",
       "      <td>N</td>\n",
       "      <td>48</td>\n",
       "      <td>0</td>\n",
       "      <td>1</td>\n",
       "    </tr>\n",
       "    <tr>\n",
       "      <th>52234</th>\n",
       "      <td>5091991</td>\n",
       "      <td>F</td>\n",
       "      <td>0</td>\n",
       "      <td>0</td>\n",
       "      <td>No children</td>\n",
       "      <td>157500.0</td>\n",
       "      <td>Higher education</td>\n",
       "      <td>Married</td>\n",
       "      <td>House / apartment</td>\n",
       "      <td>49</td>\n",
       "      <td>25</td>\n",
       "      <td>0</td>\n",
       "      <td>0</td>\n",
       "      <td>0</td>\n",
       "      <td>Core staff</td>\n",
       "      <td>0</td>\n",
       "      <td>0</td>\n",
       "      <td>N</td>\n",
       "      <td>2</td>\n",
       "      <td>0</td>\n",
       "      <td>17</td>\n",
       "    </tr>\n",
       "    <tr>\n",
       "      <th>60174</th>\n",
       "      <td>5125336</td>\n",
       "      <td>M</td>\n",
       "      <td>1</td>\n",
       "      <td>1</td>\n",
       "      <td>2+ children</td>\n",
       "      <td>337500.0</td>\n",
       "      <td>Secondary / secondary special</td>\n",
       "      <td>Married</td>\n",
       "      <td>Office apartment</td>\n",
       "      <td>35</td>\n",
       "      <td>10</td>\n",
       "      <td>0</td>\n",
       "      <td>0</td>\n",
       "      <td>0</td>\n",
       "      <td>Laborers</td>\n",
       "      <td>0</td>\n",
       "      <td>0</td>\n",
       "      <td>N</td>\n",
       "      <td>9</td>\n",
       "      <td>0</td>\n",
       "      <td>12</td>\n",
       "    </tr>\n",
       "    <tr>\n",
       "      <th>188802</th>\n",
       "      <td>5033434</td>\n",
       "      <td>M</td>\n",
       "      <td>1</td>\n",
       "      <td>0</td>\n",
       "      <td>2+ children</td>\n",
       "      <td>315000.0</td>\n",
       "      <td>Secondary / secondary special</td>\n",
       "      <td>Married</td>\n",
       "      <td>House / apartment</td>\n",
       "      <td>42</td>\n",
       "      <td>7</td>\n",
       "      <td>0</td>\n",
       "      <td>1</td>\n",
       "      <td>0</td>\n",
       "      <td>Laborers</td>\n",
       "      <td>0</td>\n",
       "      <td>-1</td>\n",
       "      <td>N</td>\n",
       "      <td>48</td>\n",
       "      <td>1</td>\n",
       "      <td>0</td>\n",
       "    </tr>\n",
       "    <tr>\n",
       "      <th>315914</th>\n",
       "      <td>5052807</td>\n",
       "      <td>M</td>\n",
       "      <td>1</td>\n",
       "      <td>1</td>\n",
       "      <td>1 children</td>\n",
       "      <td>180000.0</td>\n",
       "      <td>Higher education</td>\n",
       "      <td>Married</td>\n",
       "      <td>House / apartment</td>\n",
       "      <td>22</td>\n",
       "      <td>0</td>\n",
       "      <td>0</td>\n",
       "      <td>0</td>\n",
       "      <td>0</td>\n",
       "      <td>Drivers</td>\n",
       "      <td>0</td>\n",
       "      <td>-1</td>\n",
       "      <td>N</td>\n",
       "      <td>15</td>\n",
       "      <td>0</td>\n",
       "      <td>0</td>\n",
       "    </tr>\n",
       "    <tr>\n",
       "      <th>13823</th>\n",
       "      <td>5100205</td>\n",
       "      <td>F</td>\n",
       "      <td>0</td>\n",
       "      <td>0</td>\n",
       "      <td>No children</td>\n",
       "      <td>157500.0</td>\n",
       "      <td>Secondary / secondary special</td>\n",
       "      <td>Married</td>\n",
       "      <td>House / apartment</td>\n",
       "      <td>47</td>\n",
       "      <td>8</td>\n",
       "      <td>0</td>\n",
       "      <td>0</td>\n",
       "      <td>0</td>\n",
       "      <td>Core staff</td>\n",
       "      <td>0</td>\n",
       "      <td>1</td>\n",
       "      <td>N</td>\n",
       "      <td>10</td>\n",
       "      <td>1</td>\n",
       "      <td>0</td>\n",
       "    </tr>\n",
       "  </tbody>\n",
       "</table>\n",
       "</div>"
      ],
      "text/plain": [
       "        applicant_ID gender owning_car owning_property children_amt  \\\n",
       "525276       5118312      F          1               0   1 children   \n",
       "215203       5114007      F          0               0  2+ children   \n",
       "168929       5092171      M          1               0  2+ children   \n",
       "228422       5065648      F          0               1  No children   \n",
       "350538       5010802      F          0               1  No children   \n",
       "52234        5091991      F          0               0  No children   \n",
       "60174        5125336      M          1               1  2+ children   \n",
       "188802       5033434      M          1               0  2+ children   \n",
       "315914       5052807      M          1               1   1 children   \n",
       "13823        5100205      F          0               0  No children   \n",
       "\n",
       "        anual_income                education_level marital_status  \\\n",
       "525276      112500.0  Secondary / secondary special        Married   \n",
       "215203      202500.0  Secondary / secondary special        Married   \n",
       "168929      315000.0              Incomplete higher        Married   \n",
       "228422       67500.0  Secondary / secondary special        Married   \n",
       "350538      270000.0  Secondary / secondary special        Married   \n",
       "52234       157500.0               Higher education        Married   \n",
       "60174       337500.0  Secondary / secondary special        Married   \n",
       "188802      315000.0  Secondary / secondary special        Married   \n",
       "315914      180000.0               Higher education        Married   \n",
       "13823       157500.0  Secondary / secondary special        Married   \n",
       "\n",
       "               housing_type  age  working_years  owning_work_phone  \\\n",
       "525276    House / apartment   27              1                  1   \n",
       "215203    House / apartment   36              7                  0   \n",
       "168929    House / apartment   30              1                  0   \n",
       "228422     Office apartment   28              6                  1   \n",
       "350538  Municipal apartment   42              2                  0   \n",
       "52234     House / apartment   49             25                  0   \n",
       "60174      Office apartment   35             10                  0   \n",
       "188802    House / apartment   42              7                  0   \n",
       "315914    House / apartment   22              0                  0   \n",
       "13823     House / apartment   47              8                  0   \n",
       "\n",
       "        owning_phone  owning_email             job  BEGIN_MONTHS  \\\n",
       "525276             0             0     Sales staff             0   \n",
       "215203             0             0     Sales staff             0   \n",
       "168929             0             0        Managers             0   \n",
       "228422             1             0      Core staff             0   \n",
       "350538             0             1  Security staff             0   \n",
       "52234              0             0      Core staff             0   \n",
       "60174              0             0        Laborers             0   \n",
       "188802             1             0        Laborers             0   \n",
       "315914             0             0         Drivers             0   \n",
       "13823              0             0      Core staff             0   \n",
       "\n",
       "        payment_status risk_user  total_good_credit  total_bad_credit  \\\n",
       "525276               2         N                 22                 2   \n",
       "215203              -1         N                 31                 0   \n",
       "168929               1         N                 19                 0   \n",
       "228422               1         N                  4                 0   \n",
       "350538              -1         N                 48                 0   \n",
       "52234                0         N                  2                 0   \n",
       "60174                0         N                  9                 0   \n",
       "188802              -1         N                 48                 1   \n",
       "315914              -1         N                 15                 0   \n",
       "13823                1         N                 10                 1   \n",
       "\n",
       "        total_no_credit  \n",
       "525276                0  \n",
       "215203                0  \n",
       "168929                1  \n",
       "228422                1  \n",
       "350538                1  \n",
       "52234                17  \n",
       "60174                12  \n",
       "188802                0  \n",
       "315914                0  \n",
       "13823                 0  "
      ]
     },
     "execution_count": 182,
     "metadata": {},
     "output_type": "execute_result"
    }
   ],
   "source": [
    "cca_unique_id = cca_t0.drop_duplicates('applicant_ID')\n",
    "cca_unique_id.sample(10)"
   ]
  },
  {
   "cell_type": "markdown",
   "metadata": {},
   "source": [
    "## Testdatensatz von 20%\n",
    "Es wir einen zufälligen Test-Datensatz von 20 Prozent gesampelt. \n",
    "\n",
    "---- Theorie."
   ]
  },
  {
   "cell_type": "markdown",
   "metadata": {},
   "source": [
    "## Deskriptive Analyse / Visualisierung \n",
    "\n",
    "Die deskriptive Analyse, auch bekannt als deskriptive Analytik oder deskriptive Statistik, ist der Prozess der Verwendung statistischer Techniken zur Beschreibung oder Zusammenfassung einer Reihe von Daten. Als eine der wichtigsten Arten der Datenanalyse ist die deskriptive Analyse beliebt, da sie zugängliche Erkenntnisse aus Daten generieren kann. [1]\n",
    "\n",
    "Im Gegensatz zu anderen Arten der Datenanalyse versucht die deskriptive Analyse nicht, Vorhersagen über die Zukunft zu treffen. Stattdessen zieht es Erkenntnisse ausschließlich aus vergangenen Daten, indem es sie auf eine Weise manipuliert, die sie aussagekräftiger macht.\n",
    "\n",
    "@Chengyi Hua"
   ]
  },
  {
   "cell_type": "code",
   "execution_count": 201,
   "metadata": {},
   "outputs": [
    {
     "data": {
      "text/plain": [
       "16980"
      ]
     },
     "execution_count": 201,
     "metadata": {},
     "output_type": "execute_result"
    }
   ],
   "source": [
    "cca_unique_id[cca_unique_id.risk_user=='N'].count()[0]"
   ]
  },
  {
   "cell_type": "code",
   "execution_count": 203,
   "metadata": {},
   "outputs": [
    {
     "data": {
      "application/vnd.plotly.v1+json": {
       "config": {
        "plotlyServerURL": "https://plot.ly"
       },
       "data": [
        {
         "type": "bar",
         "x": [
          "N",
          "Y"
         ],
         "y": [
          16980,
          63
         ]
        }
       ],
       "layout": {
        "template": {
         "data": {
          "bar": [
           {
            "error_x": {
             "color": "#2a3f5f"
            },
            "error_y": {
             "color": "#2a3f5f"
            },
            "marker": {
             "line": {
              "color": "#E5ECF6",
              "width": 0.5
             },
             "pattern": {
              "fillmode": "overlay",
              "size": 10,
              "solidity": 0.2
             }
            },
            "type": "bar"
           }
          ],
          "barpolar": [
           {
            "marker": {
             "line": {
              "color": "#E5ECF6",
              "width": 0.5
             },
             "pattern": {
              "fillmode": "overlay",
              "size": 10,
              "solidity": 0.2
             }
            },
            "type": "barpolar"
           }
          ],
          "carpet": [
           {
            "aaxis": {
             "endlinecolor": "#2a3f5f",
             "gridcolor": "white",
             "linecolor": "white",
             "minorgridcolor": "white",
             "startlinecolor": "#2a3f5f"
            },
            "baxis": {
             "endlinecolor": "#2a3f5f",
             "gridcolor": "white",
             "linecolor": "white",
             "minorgridcolor": "white",
             "startlinecolor": "#2a3f5f"
            },
            "type": "carpet"
           }
          ],
          "choropleth": [
           {
            "colorbar": {
             "outlinewidth": 0,
             "ticks": ""
            },
            "type": "choropleth"
           }
          ],
          "contour": [
           {
            "colorbar": {
             "outlinewidth": 0,
             "ticks": ""
            },
            "colorscale": [
             [
              0,
              "#0d0887"
             ],
             [
              0.1111111111111111,
              "#46039f"
             ],
             [
              0.2222222222222222,
              "#7201a8"
             ],
             [
              0.3333333333333333,
              "#9c179e"
             ],
             [
              0.4444444444444444,
              "#bd3786"
             ],
             [
              0.5555555555555556,
              "#d8576b"
             ],
             [
              0.6666666666666666,
              "#ed7953"
             ],
             [
              0.7777777777777778,
              "#fb9f3a"
             ],
             [
              0.8888888888888888,
              "#fdca26"
             ],
             [
              1,
              "#f0f921"
             ]
            ],
            "type": "contour"
           }
          ],
          "contourcarpet": [
           {
            "colorbar": {
             "outlinewidth": 0,
             "ticks": ""
            },
            "type": "contourcarpet"
           }
          ],
          "heatmap": [
           {
            "colorbar": {
             "outlinewidth": 0,
             "ticks": ""
            },
            "colorscale": [
             [
              0,
              "#0d0887"
             ],
             [
              0.1111111111111111,
              "#46039f"
             ],
             [
              0.2222222222222222,
              "#7201a8"
             ],
             [
              0.3333333333333333,
              "#9c179e"
             ],
             [
              0.4444444444444444,
              "#bd3786"
             ],
             [
              0.5555555555555556,
              "#d8576b"
             ],
             [
              0.6666666666666666,
              "#ed7953"
             ],
             [
              0.7777777777777778,
              "#fb9f3a"
             ],
             [
              0.8888888888888888,
              "#fdca26"
             ],
             [
              1,
              "#f0f921"
             ]
            ],
            "type": "heatmap"
           }
          ],
          "heatmapgl": [
           {
            "colorbar": {
             "outlinewidth": 0,
             "ticks": ""
            },
            "colorscale": [
             [
              0,
              "#0d0887"
             ],
             [
              0.1111111111111111,
              "#46039f"
             ],
             [
              0.2222222222222222,
              "#7201a8"
             ],
             [
              0.3333333333333333,
              "#9c179e"
             ],
             [
              0.4444444444444444,
              "#bd3786"
             ],
             [
              0.5555555555555556,
              "#d8576b"
             ],
             [
              0.6666666666666666,
              "#ed7953"
             ],
             [
              0.7777777777777778,
              "#fb9f3a"
             ],
             [
              0.8888888888888888,
              "#fdca26"
             ],
             [
              1,
              "#f0f921"
             ]
            ],
            "type": "heatmapgl"
           }
          ],
          "histogram": [
           {
            "marker": {
             "pattern": {
              "fillmode": "overlay",
              "size": 10,
              "solidity": 0.2
             }
            },
            "type": "histogram"
           }
          ],
          "histogram2d": [
           {
            "colorbar": {
             "outlinewidth": 0,
             "ticks": ""
            },
            "colorscale": [
             [
              0,
              "#0d0887"
             ],
             [
              0.1111111111111111,
              "#46039f"
             ],
             [
              0.2222222222222222,
              "#7201a8"
             ],
             [
              0.3333333333333333,
              "#9c179e"
             ],
             [
              0.4444444444444444,
              "#bd3786"
             ],
             [
              0.5555555555555556,
              "#d8576b"
             ],
             [
              0.6666666666666666,
              "#ed7953"
             ],
             [
              0.7777777777777778,
              "#fb9f3a"
             ],
             [
              0.8888888888888888,
              "#fdca26"
             ],
             [
              1,
              "#f0f921"
             ]
            ],
            "type": "histogram2d"
           }
          ],
          "histogram2dcontour": [
           {
            "colorbar": {
             "outlinewidth": 0,
             "ticks": ""
            },
            "colorscale": [
             [
              0,
              "#0d0887"
             ],
             [
              0.1111111111111111,
              "#46039f"
             ],
             [
              0.2222222222222222,
              "#7201a8"
             ],
             [
              0.3333333333333333,
              "#9c179e"
             ],
             [
              0.4444444444444444,
              "#bd3786"
             ],
             [
              0.5555555555555556,
              "#d8576b"
             ],
             [
              0.6666666666666666,
              "#ed7953"
             ],
             [
              0.7777777777777778,
              "#fb9f3a"
             ],
             [
              0.8888888888888888,
              "#fdca26"
             ],
             [
              1,
              "#f0f921"
             ]
            ],
            "type": "histogram2dcontour"
           }
          ],
          "mesh3d": [
           {
            "colorbar": {
             "outlinewidth": 0,
             "ticks": ""
            },
            "type": "mesh3d"
           }
          ],
          "parcoords": [
           {
            "line": {
             "colorbar": {
              "outlinewidth": 0,
              "ticks": ""
             }
            },
            "type": "parcoords"
           }
          ],
          "pie": [
           {
            "automargin": true,
            "type": "pie"
           }
          ],
          "scatter": [
           {
            "fillpattern": {
             "fillmode": "overlay",
             "size": 10,
             "solidity": 0.2
            },
            "type": "scatter"
           }
          ],
          "scatter3d": [
           {
            "line": {
             "colorbar": {
              "outlinewidth": 0,
              "ticks": ""
             }
            },
            "marker": {
             "colorbar": {
              "outlinewidth": 0,
              "ticks": ""
             }
            },
            "type": "scatter3d"
           }
          ],
          "scattercarpet": [
           {
            "marker": {
             "colorbar": {
              "outlinewidth": 0,
              "ticks": ""
             }
            },
            "type": "scattercarpet"
           }
          ],
          "scattergeo": [
           {
            "marker": {
             "colorbar": {
              "outlinewidth": 0,
              "ticks": ""
             }
            },
            "type": "scattergeo"
           }
          ],
          "scattergl": [
           {
            "marker": {
             "colorbar": {
              "outlinewidth": 0,
              "ticks": ""
             }
            },
            "type": "scattergl"
           }
          ],
          "scattermapbox": [
           {
            "marker": {
             "colorbar": {
              "outlinewidth": 0,
              "ticks": ""
             }
            },
            "type": "scattermapbox"
           }
          ],
          "scatterpolar": [
           {
            "marker": {
             "colorbar": {
              "outlinewidth": 0,
              "ticks": ""
             }
            },
            "type": "scatterpolar"
           }
          ],
          "scatterpolargl": [
           {
            "marker": {
             "colorbar": {
              "outlinewidth": 0,
              "ticks": ""
             }
            },
            "type": "scatterpolargl"
           }
          ],
          "scatterternary": [
           {
            "marker": {
             "colorbar": {
              "outlinewidth": 0,
              "ticks": ""
             }
            },
            "type": "scatterternary"
           }
          ],
          "surface": [
           {
            "colorbar": {
             "outlinewidth": 0,
             "ticks": ""
            },
            "colorscale": [
             [
              0,
              "#0d0887"
             ],
             [
              0.1111111111111111,
              "#46039f"
             ],
             [
              0.2222222222222222,
              "#7201a8"
             ],
             [
              0.3333333333333333,
              "#9c179e"
             ],
             [
              0.4444444444444444,
              "#bd3786"
             ],
             [
              0.5555555555555556,
              "#d8576b"
             ],
             [
              0.6666666666666666,
              "#ed7953"
             ],
             [
              0.7777777777777778,
              "#fb9f3a"
             ],
             [
              0.8888888888888888,
              "#fdca26"
             ],
             [
              1,
              "#f0f921"
             ]
            ],
            "type": "surface"
           }
          ],
          "table": [
           {
            "cells": {
             "fill": {
              "color": "#EBF0F8"
             },
             "line": {
              "color": "white"
             }
            },
            "header": {
             "fill": {
              "color": "#C8D4E3"
             },
             "line": {
              "color": "white"
             }
            },
            "type": "table"
           }
          ]
         },
         "layout": {
          "annotationdefaults": {
           "arrowcolor": "#2a3f5f",
           "arrowhead": 0,
           "arrowwidth": 1
          },
          "autotypenumbers": "strict",
          "coloraxis": {
           "colorbar": {
            "outlinewidth": 0,
            "ticks": ""
           }
          },
          "colorscale": {
           "diverging": [
            [
             0,
             "#8e0152"
            ],
            [
             0.1,
             "#c51b7d"
            ],
            [
             0.2,
             "#de77ae"
            ],
            [
             0.3,
             "#f1b6da"
            ],
            [
             0.4,
             "#fde0ef"
            ],
            [
             0.5,
             "#f7f7f7"
            ],
            [
             0.6,
             "#e6f5d0"
            ],
            [
             0.7,
             "#b8e186"
            ],
            [
             0.8,
             "#7fbc41"
            ],
            [
             0.9,
             "#4d9221"
            ],
            [
             1,
             "#276419"
            ]
           ],
           "sequential": [
            [
             0,
             "#0d0887"
            ],
            [
             0.1111111111111111,
             "#46039f"
            ],
            [
             0.2222222222222222,
             "#7201a8"
            ],
            [
             0.3333333333333333,
             "#9c179e"
            ],
            [
             0.4444444444444444,
             "#bd3786"
            ],
            [
             0.5555555555555556,
             "#d8576b"
            ],
            [
             0.6666666666666666,
             "#ed7953"
            ],
            [
             0.7777777777777778,
             "#fb9f3a"
            ],
            [
             0.8888888888888888,
             "#fdca26"
            ],
            [
             1,
             "#f0f921"
            ]
           ],
           "sequentialminus": [
            [
             0,
             "#0d0887"
            ],
            [
             0.1111111111111111,
             "#46039f"
            ],
            [
             0.2222222222222222,
             "#7201a8"
            ],
            [
             0.3333333333333333,
             "#9c179e"
            ],
            [
             0.4444444444444444,
             "#bd3786"
            ],
            [
             0.5555555555555556,
             "#d8576b"
            ],
            [
             0.6666666666666666,
             "#ed7953"
            ],
            [
             0.7777777777777778,
             "#fb9f3a"
            ],
            [
             0.8888888888888888,
             "#fdca26"
            ],
            [
             1,
             "#f0f921"
            ]
           ]
          },
          "colorway": [
           "#636efa",
           "#EF553B",
           "#00cc96",
           "#ab63fa",
           "#FFA15A",
           "#19d3f3",
           "#FF6692",
           "#B6E880",
           "#FF97FF",
           "#FECB52"
          ],
          "font": {
           "color": "#2a3f5f"
          },
          "geo": {
           "bgcolor": "white",
           "lakecolor": "white",
           "landcolor": "#E5ECF6",
           "showlakes": true,
           "showland": true,
           "subunitcolor": "white"
          },
          "hoverlabel": {
           "align": "left"
          },
          "hovermode": "closest",
          "mapbox": {
           "style": "light"
          },
          "paper_bgcolor": "white",
          "plot_bgcolor": "#E5ECF6",
          "polar": {
           "angularaxis": {
            "gridcolor": "white",
            "linecolor": "white",
            "ticks": ""
           },
           "bgcolor": "#E5ECF6",
           "radialaxis": {
            "gridcolor": "white",
            "linecolor": "white",
            "ticks": ""
           }
          },
          "scene": {
           "xaxis": {
            "backgroundcolor": "#E5ECF6",
            "gridcolor": "white",
            "gridwidth": 2,
            "linecolor": "white",
            "showbackground": true,
            "ticks": "",
            "zerolinecolor": "white"
           },
           "yaxis": {
            "backgroundcolor": "#E5ECF6",
            "gridcolor": "white",
            "gridwidth": 2,
            "linecolor": "white",
            "showbackground": true,
            "ticks": "",
            "zerolinecolor": "white"
           },
           "zaxis": {
            "backgroundcolor": "#E5ECF6",
            "gridcolor": "white",
            "gridwidth": 2,
            "linecolor": "white",
            "showbackground": true,
            "ticks": "",
            "zerolinecolor": "white"
           }
          },
          "shapedefaults": {
           "line": {
            "color": "#2a3f5f"
           }
          },
          "ternary": {
           "aaxis": {
            "gridcolor": "white",
            "linecolor": "white",
            "ticks": ""
           },
           "baxis": {
            "gridcolor": "white",
            "linecolor": "white",
            "ticks": ""
           },
           "bgcolor": "#E5ECF6",
           "caxis": {
            "gridcolor": "white",
            "linecolor": "white",
            "ticks": ""
           }
          },
          "title": {
           "x": 0.05
          },
          "xaxis": {
           "automargin": true,
           "gridcolor": "white",
           "linecolor": "white",
           "ticks": "",
           "title": {
            "standoff": 15
           },
           "zerolinecolor": "white",
           "zerolinewidth": 2
          },
          "yaxis": {
           "automargin": true,
           "gridcolor": "white",
           "linecolor": "white",
           "ticks": "",
           "title": {
            "standoff": 15
           },
           "zerolinecolor": "white",
           "zerolinewidth": 2
          }
         }
        }
       }
      }
     },
     "metadata": {},
     "output_type": "display_data"
    }
   ],
   "source": [
    "#riskuser_plot = sns.countplot(x='risk_user',data=cca_unique_id)\n",
    "fig = go.Figure([go.Bar(x=['N','Y'], \n",
    "y=[cca_unique_id[cca_unique_id.risk_user=='N'].count()[0], cca_unique_id[cca_unique_id.risk_user=='Y'].count()[0]])])\n",
    "fig\n"
   ]
  },
  {
   "cell_type": "code",
   "execution_count": 185,
   "metadata": {},
   "outputs": [
    {
     "name": "stdout",
     "output_type": "stream",
     "text": [
      "Class=N, n=16980 (99.63034676993487%)\n",
      "Class=Y, n=63 (0.3696532300651294%)\n"
     ]
    }
   ],
   "source": [
    "def class_count(y):\n",
    "    counter = Counter(y)\n",
    "    for k, v in counter.items():\n",
    "        dist = v / len(y) * 100\n",
    "        print(f\"Class={k}, n={v} ({dist}%)\")\n",
    "\n",
    "class_count(cca_unique_id.risk_user)"
   ]
  },
  {
   "cell_type": "markdown",
   "metadata": {},
   "source": [
    "Unser Datensatz weist weniger als 1% seltener, aber “interessanter” Ereignisse auf (z. B. User, die als ...). Es ist also ein unausgewogener Datensatz. Die meisten Algorithmen zum maschinellen Lernen funktionieren jedoch nicht gut mit unausgewogenen Datensätzen. \n",
    "\n",
    "#### Problem mit unausgeglichenem Datensatz <br>\n",
    "Auswirkung / Folgen: <br>\n",
    "- __Eine unausgewogene Klassifizierung__. Es für zu der Entwicklung von Vorhersagemodellen für Klassifizierungsdatensätze, die ein schwerwiegendes Klassenungleichgewicht aufweisen. Die Herausforderung bei der Arbeit mit unausgewogenen Datensätzen besteht darin, dass die meisten maschinellen Lerntechniken die Minderheitsklasse ignorieren und dafür eine schlechte Leistung erbringen, obwohl normalerweise die Leistung der Minderheitsklasse am wichtigsten ist.<br><br>\n",
    "\n",
    "\n"
   ]
  },
  {
   "cell_type": "code",
   "execution_count": 186,
   "metadata": {},
   "outputs": [],
   "source": [
    "#extracting applicants not being risk user\n",
    "non_risk_user = cca_unique_id[cca_unique_id.risk_user == 'N']\n",
    "#not_risk.sample(10)\n",
    "\n",
    "#extracting applicants being risk user\n",
    "risk_user = cca_unique_id[cca_unique_id.risk_user == 'Y']\n",
    "#risk.sample(10)"
   ]
  },
  {
   "cell_type": "code",
   "execution_count": 205,
   "metadata": {},
   "outputs": [
    {
     "data": {
      "application/vnd.plotly.v1+json": {
       "config": {
        "plotlyServerURL": "https://plot.ly"
       },
       "data": [
        {
         "type": "bar",
         "x": [
          "F",
          "M"
         ],
         "y": [
          10525,
          6518
         ]
        }
       ],
       "layout": {
        "template": {
         "data": {
          "bar": [
           {
            "error_x": {
             "color": "#2a3f5f"
            },
            "error_y": {
             "color": "#2a3f5f"
            },
            "marker": {
             "line": {
              "color": "#E5ECF6",
              "width": 0.5
             },
             "pattern": {
              "fillmode": "overlay",
              "size": 10,
              "solidity": 0.2
             }
            },
            "type": "bar"
           }
          ],
          "barpolar": [
           {
            "marker": {
             "line": {
              "color": "#E5ECF6",
              "width": 0.5
             },
             "pattern": {
              "fillmode": "overlay",
              "size": 10,
              "solidity": 0.2
             }
            },
            "type": "barpolar"
           }
          ],
          "carpet": [
           {
            "aaxis": {
             "endlinecolor": "#2a3f5f",
             "gridcolor": "white",
             "linecolor": "white",
             "minorgridcolor": "white",
             "startlinecolor": "#2a3f5f"
            },
            "baxis": {
             "endlinecolor": "#2a3f5f",
             "gridcolor": "white",
             "linecolor": "white",
             "minorgridcolor": "white",
             "startlinecolor": "#2a3f5f"
            },
            "type": "carpet"
           }
          ],
          "choropleth": [
           {
            "colorbar": {
             "outlinewidth": 0,
             "ticks": ""
            },
            "type": "choropleth"
           }
          ],
          "contour": [
           {
            "colorbar": {
             "outlinewidth": 0,
             "ticks": ""
            },
            "colorscale": [
             [
              0,
              "#0d0887"
             ],
             [
              0.1111111111111111,
              "#46039f"
             ],
             [
              0.2222222222222222,
              "#7201a8"
             ],
             [
              0.3333333333333333,
              "#9c179e"
             ],
             [
              0.4444444444444444,
              "#bd3786"
             ],
             [
              0.5555555555555556,
              "#d8576b"
             ],
             [
              0.6666666666666666,
              "#ed7953"
             ],
             [
              0.7777777777777778,
              "#fb9f3a"
             ],
             [
              0.8888888888888888,
              "#fdca26"
             ],
             [
              1,
              "#f0f921"
             ]
            ],
            "type": "contour"
           }
          ],
          "contourcarpet": [
           {
            "colorbar": {
             "outlinewidth": 0,
             "ticks": ""
            },
            "type": "contourcarpet"
           }
          ],
          "heatmap": [
           {
            "colorbar": {
             "outlinewidth": 0,
             "ticks": ""
            },
            "colorscale": [
             [
              0,
              "#0d0887"
             ],
             [
              0.1111111111111111,
              "#46039f"
             ],
             [
              0.2222222222222222,
              "#7201a8"
             ],
             [
              0.3333333333333333,
              "#9c179e"
             ],
             [
              0.4444444444444444,
              "#bd3786"
             ],
             [
              0.5555555555555556,
              "#d8576b"
             ],
             [
              0.6666666666666666,
              "#ed7953"
             ],
             [
              0.7777777777777778,
              "#fb9f3a"
             ],
             [
              0.8888888888888888,
              "#fdca26"
             ],
             [
              1,
              "#f0f921"
             ]
            ],
            "type": "heatmap"
           }
          ],
          "heatmapgl": [
           {
            "colorbar": {
             "outlinewidth": 0,
             "ticks": ""
            },
            "colorscale": [
             [
              0,
              "#0d0887"
             ],
             [
              0.1111111111111111,
              "#46039f"
             ],
             [
              0.2222222222222222,
              "#7201a8"
             ],
             [
              0.3333333333333333,
              "#9c179e"
             ],
             [
              0.4444444444444444,
              "#bd3786"
             ],
             [
              0.5555555555555556,
              "#d8576b"
             ],
             [
              0.6666666666666666,
              "#ed7953"
             ],
             [
              0.7777777777777778,
              "#fb9f3a"
             ],
             [
              0.8888888888888888,
              "#fdca26"
             ],
             [
              1,
              "#f0f921"
             ]
            ],
            "type": "heatmapgl"
           }
          ],
          "histogram": [
           {
            "marker": {
             "pattern": {
              "fillmode": "overlay",
              "size": 10,
              "solidity": 0.2
             }
            },
            "type": "histogram"
           }
          ],
          "histogram2d": [
           {
            "colorbar": {
             "outlinewidth": 0,
             "ticks": ""
            },
            "colorscale": [
             [
              0,
              "#0d0887"
             ],
             [
              0.1111111111111111,
              "#46039f"
             ],
             [
              0.2222222222222222,
              "#7201a8"
             ],
             [
              0.3333333333333333,
              "#9c179e"
             ],
             [
              0.4444444444444444,
              "#bd3786"
             ],
             [
              0.5555555555555556,
              "#d8576b"
             ],
             [
              0.6666666666666666,
              "#ed7953"
             ],
             [
              0.7777777777777778,
              "#fb9f3a"
             ],
             [
              0.8888888888888888,
              "#fdca26"
             ],
             [
              1,
              "#f0f921"
             ]
            ],
            "type": "histogram2d"
           }
          ],
          "histogram2dcontour": [
           {
            "colorbar": {
             "outlinewidth": 0,
             "ticks": ""
            },
            "colorscale": [
             [
              0,
              "#0d0887"
             ],
             [
              0.1111111111111111,
              "#46039f"
             ],
             [
              0.2222222222222222,
              "#7201a8"
             ],
             [
              0.3333333333333333,
              "#9c179e"
             ],
             [
              0.4444444444444444,
              "#bd3786"
             ],
             [
              0.5555555555555556,
              "#d8576b"
             ],
             [
              0.6666666666666666,
              "#ed7953"
             ],
             [
              0.7777777777777778,
              "#fb9f3a"
             ],
             [
              0.8888888888888888,
              "#fdca26"
             ],
             [
              1,
              "#f0f921"
             ]
            ],
            "type": "histogram2dcontour"
           }
          ],
          "mesh3d": [
           {
            "colorbar": {
             "outlinewidth": 0,
             "ticks": ""
            },
            "type": "mesh3d"
           }
          ],
          "parcoords": [
           {
            "line": {
             "colorbar": {
              "outlinewidth": 0,
              "ticks": ""
             }
            },
            "type": "parcoords"
           }
          ],
          "pie": [
           {
            "automargin": true,
            "type": "pie"
           }
          ],
          "scatter": [
           {
            "fillpattern": {
             "fillmode": "overlay",
             "size": 10,
             "solidity": 0.2
            },
            "type": "scatter"
           }
          ],
          "scatter3d": [
           {
            "line": {
             "colorbar": {
              "outlinewidth": 0,
              "ticks": ""
             }
            },
            "marker": {
             "colorbar": {
              "outlinewidth": 0,
              "ticks": ""
             }
            },
            "type": "scatter3d"
           }
          ],
          "scattercarpet": [
           {
            "marker": {
             "colorbar": {
              "outlinewidth": 0,
              "ticks": ""
             }
            },
            "type": "scattercarpet"
           }
          ],
          "scattergeo": [
           {
            "marker": {
             "colorbar": {
              "outlinewidth": 0,
              "ticks": ""
             }
            },
            "type": "scattergeo"
           }
          ],
          "scattergl": [
           {
            "marker": {
             "colorbar": {
              "outlinewidth": 0,
              "ticks": ""
             }
            },
            "type": "scattergl"
           }
          ],
          "scattermapbox": [
           {
            "marker": {
             "colorbar": {
              "outlinewidth": 0,
              "ticks": ""
             }
            },
            "type": "scattermapbox"
           }
          ],
          "scatterpolar": [
           {
            "marker": {
             "colorbar": {
              "outlinewidth": 0,
              "ticks": ""
             }
            },
            "type": "scatterpolar"
           }
          ],
          "scatterpolargl": [
           {
            "marker": {
             "colorbar": {
              "outlinewidth": 0,
              "ticks": ""
             }
            },
            "type": "scatterpolargl"
           }
          ],
          "scatterternary": [
           {
            "marker": {
             "colorbar": {
              "outlinewidth": 0,
              "ticks": ""
             }
            },
            "type": "scatterternary"
           }
          ],
          "surface": [
           {
            "colorbar": {
             "outlinewidth": 0,
             "ticks": ""
            },
            "colorscale": [
             [
              0,
              "#0d0887"
             ],
             [
              0.1111111111111111,
              "#46039f"
             ],
             [
              0.2222222222222222,
              "#7201a8"
             ],
             [
              0.3333333333333333,
              "#9c179e"
             ],
             [
              0.4444444444444444,
              "#bd3786"
             ],
             [
              0.5555555555555556,
              "#d8576b"
             ],
             [
              0.6666666666666666,
              "#ed7953"
             ],
             [
              0.7777777777777778,
              "#fb9f3a"
             ],
             [
              0.8888888888888888,
              "#fdca26"
             ],
             [
              1,
              "#f0f921"
             ]
            ],
            "type": "surface"
           }
          ],
          "table": [
           {
            "cells": {
             "fill": {
              "color": "#EBF0F8"
             },
             "line": {
              "color": "white"
             }
            },
            "header": {
             "fill": {
              "color": "#C8D4E3"
             },
             "line": {
              "color": "white"
             }
            },
            "type": "table"
           }
          ]
         },
         "layout": {
          "annotationdefaults": {
           "arrowcolor": "#2a3f5f",
           "arrowhead": 0,
           "arrowwidth": 1
          },
          "autotypenumbers": "strict",
          "coloraxis": {
           "colorbar": {
            "outlinewidth": 0,
            "ticks": ""
           }
          },
          "colorscale": {
           "diverging": [
            [
             0,
             "#8e0152"
            ],
            [
             0.1,
             "#c51b7d"
            ],
            [
             0.2,
             "#de77ae"
            ],
            [
             0.3,
             "#f1b6da"
            ],
            [
             0.4,
             "#fde0ef"
            ],
            [
             0.5,
             "#f7f7f7"
            ],
            [
             0.6,
             "#e6f5d0"
            ],
            [
             0.7,
             "#b8e186"
            ],
            [
             0.8,
             "#7fbc41"
            ],
            [
             0.9,
             "#4d9221"
            ],
            [
             1,
             "#276419"
            ]
           ],
           "sequential": [
            [
             0,
             "#0d0887"
            ],
            [
             0.1111111111111111,
             "#46039f"
            ],
            [
             0.2222222222222222,
             "#7201a8"
            ],
            [
             0.3333333333333333,
             "#9c179e"
            ],
            [
             0.4444444444444444,
             "#bd3786"
            ],
            [
             0.5555555555555556,
             "#d8576b"
            ],
            [
             0.6666666666666666,
             "#ed7953"
            ],
            [
             0.7777777777777778,
             "#fb9f3a"
            ],
            [
             0.8888888888888888,
             "#fdca26"
            ],
            [
             1,
             "#f0f921"
            ]
           ],
           "sequentialminus": [
            [
             0,
             "#0d0887"
            ],
            [
             0.1111111111111111,
             "#46039f"
            ],
            [
             0.2222222222222222,
             "#7201a8"
            ],
            [
             0.3333333333333333,
             "#9c179e"
            ],
            [
             0.4444444444444444,
             "#bd3786"
            ],
            [
             0.5555555555555556,
             "#d8576b"
            ],
            [
             0.6666666666666666,
             "#ed7953"
            ],
            [
             0.7777777777777778,
             "#fb9f3a"
            ],
            [
             0.8888888888888888,
             "#fdca26"
            ],
            [
             1,
             "#f0f921"
            ]
           ]
          },
          "colorway": [
           "#636efa",
           "#EF553B",
           "#00cc96",
           "#ab63fa",
           "#FFA15A",
           "#19d3f3",
           "#FF6692",
           "#B6E880",
           "#FF97FF",
           "#FECB52"
          ],
          "font": {
           "color": "#2a3f5f"
          },
          "geo": {
           "bgcolor": "white",
           "lakecolor": "white",
           "landcolor": "#E5ECF6",
           "showlakes": true,
           "showland": true,
           "subunitcolor": "white"
          },
          "hoverlabel": {
           "align": "left"
          },
          "hovermode": "closest",
          "mapbox": {
           "style": "light"
          },
          "paper_bgcolor": "white",
          "plot_bgcolor": "#E5ECF6",
          "polar": {
           "angularaxis": {
            "gridcolor": "white",
            "linecolor": "white",
            "ticks": ""
           },
           "bgcolor": "#E5ECF6",
           "radialaxis": {
            "gridcolor": "white",
            "linecolor": "white",
            "ticks": ""
           }
          },
          "scene": {
           "xaxis": {
            "backgroundcolor": "#E5ECF6",
            "gridcolor": "white",
            "gridwidth": 2,
            "linecolor": "white",
            "showbackground": true,
            "ticks": "",
            "zerolinecolor": "white"
           },
           "yaxis": {
            "backgroundcolor": "#E5ECF6",
            "gridcolor": "white",
            "gridwidth": 2,
            "linecolor": "white",
            "showbackground": true,
            "ticks": "",
            "zerolinecolor": "white"
           },
           "zaxis": {
            "backgroundcolor": "#E5ECF6",
            "gridcolor": "white",
            "gridwidth": 2,
            "linecolor": "white",
            "showbackground": true,
            "ticks": "",
            "zerolinecolor": "white"
           }
          },
          "shapedefaults": {
           "line": {
            "color": "#2a3f5f"
           }
          },
          "ternary": {
           "aaxis": {
            "gridcolor": "white",
            "linecolor": "white",
            "ticks": ""
           },
           "baxis": {
            "gridcolor": "white",
            "linecolor": "white",
            "ticks": ""
           },
           "bgcolor": "#E5ECF6",
           "caxis": {
            "gridcolor": "white",
            "linecolor": "white",
            "ticks": ""
           }
          },
          "title": {
           "x": 0.05
          },
          "xaxis": {
           "automargin": true,
           "gridcolor": "white",
           "linecolor": "white",
           "ticks": "",
           "title": {
            "standoff": 15
           },
           "zerolinecolor": "white",
           "zerolinewidth": 2
          },
          "yaxis": {
           "automargin": true,
           "gridcolor": "white",
           "linecolor": "white",
           "ticks": "",
           "title": {
            "standoff": 15
           },
           "zerolinecolor": "white",
           "zerolinewidth": 2
          }
         }
        }
       }
      }
     },
     "metadata": {},
     "output_type": "display_data"
    }
   ],
   "source": [
    "fig = go.Figure([go.Bar(x=['F','M'], \n",
    "y=[cca_unique_id[cca_unique_id.gender=='F'].count()[0], cca_unique_id[cca_unique_id.gender=='M'].count()[0]])])\n",
    "fig\n",
    "\n"
   ]
  },
  {
   "cell_type": "markdown",
   "metadata": {},
   "source": [
    "- fig(1): Verteilung von Männern und Frauen in der Tabelle cca_unique_id. In der Tabelle sind viel mehr Frauen als Männer aufgelistet."
   ]
  },
  {
   "cell_type": "code",
   "execution_count": 206,
   "metadata": {},
   "outputs": [
    {
     "name": "stdout",
     "output_type": "stream",
     "text": [
      "Class=M, n=6518 (38.24444053277005%)\n",
      "Class=F, n=10525 (61.75555946722995%)\n"
     ]
    }
   ],
   "source": [
    "class_count(cca_unique_id.gender)"
   ]
  },
  {
   "cell_type": "code",
   "execution_count": 208,
   "metadata": {},
   "outputs": [
    {
     "data": {
      "application/vnd.plotly.v1+json": {
       "config": {
        "plotlyServerURL": "https://plot.ly"
       },
       "data": [
        {
         "type": "bar",
         "x": [
          "F",
          "M"
         ],
         "y": [
          31,
          32
         ]
        }
       ],
       "layout": {
        "template": {
         "data": {
          "bar": [
           {
            "error_x": {
             "color": "#2a3f5f"
            },
            "error_y": {
             "color": "#2a3f5f"
            },
            "marker": {
             "line": {
              "color": "#E5ECF6",
              "width": 0.5
             },
             "pattern": {
              "fillmode": "overlay",
              "size": 10,
              "solidity": 0.2
             }
            },
            "type": "bar"
           }
          ],
          "barpolar": [
           {
            "marker": {
             "line": {
              "color": "#E5ECF6",
              "width": 0.5
             },
             "pattern": {
              "fillmode": "overlay",
              "size": 10,
              "solidity": 0.2
             }
            },
            "type": "barpolar"
           }
          ],
          "carpet": [
           {
            "aaxis": {
             "endlinecolor": "#2a3f5f",
             "gridcolor": "white",
             "linecolor": "white",
             "minorgridcolor": "white",
             "startlinecolor": "#2a3f5f"
            },
            "baxis": {
             "endlinecolor": "#2a3f5f",
             "gridcolor": "white",
             "linecolor": "white",
             "minorgridcolor": "white",
             "startlinecolor": "#2a3f5f"
            },
            "type": "carpet"
           }
          ],
          "choropleth": [
           {
            "colorbar": {
             "outlinewidth": 0,
             "ticks": ""
            },
            "type": "choropleth"
           }
          ],
          "contour": [
           {
            "colorbar": {
             "outlinewidth": 0,
             "ticks": ""
            },
            "colorscale": [
             [
              0,
              "#0d0887"
             ],
             [
              0.1111111111111111,
              "#46039f"
             ],
             [
              0.2222222222222222,
              "#7201a8"
             ],
             [
              0.3333333333333333,
              "#9c179e"
             ],
             [
              0.4444444444444444,
              "#bd3786"
             ],
             [
              0.5555555555555556,
              "#d8576b"
             ],
             [
              0.6666666666666666,
              "#ed7953"
             ],
             [
              0.7777777777777778,
              "#fb9f3a"
             ],
             [
              0.8888888888888888,
              "#fdca26"
             ],
             [
              1,
              "#f0f921"
             ]
            ],
            "type": "contour"
           }
          ],
          "contourcarpet": [
           {
            "colorbar": {
             "outlinewidth": 0,
             "ticks": ""
            },
            "type": "contourcarpet"
           }
          ],
          "heatmap": [
           {
            "colorbar": {
             "outlinewidth": 0,
             "ticks": ""
            },
            "colorscale": [
             [
              0,
              "#0d0887"
             ],
             [
              0.1111111111111111,
              "#46039f"
             ],
             [
              0.2222222222222222,
              "#7201a8"
             ],
             [
              0.3333333333333333,
              "#9c179e"
             ],
             [
              0.4444444444444444,
              "#bd3786"
             ],
             [
              0.5555555555555556,
              "#d8576b"
             ],
             [
              0.6666666666666666,
              "#ed7953"
             ],
             [
              0.7777777777777778,
              "#fb9f3a"
             ],
             [
              0.8888888888888888,
              "#fdca26"
             ],
             [
              1,
              "#f0f921"
             ]
            ],
            "type": "heatmap"
           }
          ],
          "heatmapgl": [
           {
            "colorbar": {
             "outlinewidth": 0,
             "ticks": ""
            },
            "colorscale": [
             [
              0,
              "#0d0887"
             ],
             [
              0.1111111111111111,
              "#46039f"
             ],
             [
              0.2222222222222222,
              "#7201a8"
             ],
             [
              0.3333333333333333,
              "#9c179e"
             ],
             [
              0.4444444444444444,
              "#bd3786"
             ],
             [
              0.5555555555555556,
              "#d8576b"
             ],
             [
              0.6666666666666666,
              "#ed7953"
             ],
             [
              0.7777777777777778,
              "#fb9f3a"
             ],
             [
              0.8888888888888888,
              "#fdca26"
             ],
             [
              1,
              "#f0f921"
             ]
            ],
            "type": "heatmapgl"
           }
          ],
          "histogram": [
           {
            "marker": {
             "pattern": {
              "fillmode": "overlay",
              "size": 10,
              "solidity": 0.2
             }
            },
            "type": "histogram"
           }
          ],
          "histogram2d": [
           {
            "colorbar": {
             "outlinewidth": 0,
             "ticks": ""
            },
            "colorscale": [
             [
              0,
              "#0d0887"
             ],
             [
              0.1111111111111111,
              "#46039f"
             ],
             [
              0.2222222222222222,
              "#7201a8"
             ],
             [
              0.3333333333333333,
              "#9c179e"
             ],
             [
              0.4444444444444444,
              "#bd3786"
             ],
             [
              0.5555555555555556,
              "#d8576b"
             ],
             [
              0.6666666666666666,
              "#ed7953"
             ],
             [
              0.7777777777777778,
              "#fb9f3a"
             ],
             [
              0.8888888888888888,
              "#fdca26"
             ],
             [
              1,
              "#f0f921"
             ]
            ],
            "type": "histogram2d"
           }
          ],
          "histogram2dcontour": [
           {
            "colorbar": {
             "outlinewidth": 0,
             "ticks": ""
            },
            "colorscale": [
             [
              0,
              "#0d0887"
             ],
             [
              0.1111111111111111,
              "#46039f"
             ],
             [
              0.2222222222222222,
              "#7201a8"
             ],
             [
              0.3333333333333333,
              "#9c179e"
             ],
             [
              0.4444444444444444,
              "#bd3786"
             ],
             [
              0.5555555555555556,
              "#d8576b"
             ],
             [
              0.6666666666666666,
              "#ed7953"
             ],
             [
              0.7777777777777778,
              "#fb9f3a"
             ],
             [
              0.8888888888888888,
              "#fdca26"
             ],
             [
              1,
              "#f0f921"
             ]
            ],
            "type": "histogram2dcontour"
           }
          ],
          "mesh3d": [
           {
            "colorbar": {
             "outlinewidth": 0,
             "ticks": ""
            },
            "type": "mesh3d"
           }
          ],
          "parcoords": [
           {
            "line": {
             "colorbar": {
              "outlinewidth": 0,
              "ticks": ""
             }
            },
            "type": "parcoords"
           }
          ],
          "pie": [
           {
            "automargin": true,
            "type": "pie"
           }
          ],
          "scatter": [
           {
            "fillpattern": {
             "fillmode": "overlay",
             "size": 10,
             "solidity": 0.2
            },
            "type": "scatter"
           }
          ],
          "scatter3d": [
           {
            "line": {
             "colorbar": {
              "outlinewidth": 0,
              "ticks": ""
             }
            },
            "marker": {
             "colorbar": {
              "outlinewidth": 0,
              "ticks": ""
             }
            },
            "type": "scatter3d"
           }
          ],
          "scattercarpet": [
           {
            "marker": {
             "colorbar": {
              "outlinewidth": 0,
              "ticks": ""
             }
            },
            "type": "scattercarpet"
           }
          ],
          "scattergeo": [
           {
            "marker": {
             "colorbar": {
              "outlinewidth": 0,
              "ticks": ""
             }
            },
            "type": "scattergeo"
           }
          ],
          "scattergl": [
           {
            "marker": {
             "colorbar": {
              "outlinewidth": 0,
              "ticks": ""
             }
            },
            "type": "scattergl"
           }
          ],
          "scattermapbox": [
           {
            "marker": {
             "colorbar": {
              "outlinewidth": 0,
              "ticks": ""
             }
            },
            "type": "scattermapbox"
           }
          ],
          "scatterpolar": [
           {
            "marker": {
             "colorbar": {
              "outlinewidth": 0,
              "ticks": ""
             }
            },
            "type": "scatterpolar"
           }
          ],
          "scatterpolargl": [
           {
            "marker": {
             "colorbar": {
              "outlinewidth": 0,
              "ticks": ""
             }
            },
            "type": "scatterpolargl"
           }
          ],
          "scatterternary": [
           {
            "marker": {
             "colorbar": {
              "outlinewidth": 0,
              "ticks": ""
             }
            },
            "type": "scatterternary"
           }
          ],
          "surface": [
           {
            "colorbar": {
             "outlinewidth": 0,
             "ticks": ""
            },
            "colorscale": [
             [
              0,
              "#0d0887"
             ],
             [
              0.1111111111111111,
              "#46039f"
             ],
             [
              0.2222222222222222,
              "#7201a8"
             ],
             [
              0.3333333333333333,
              "#9c179e"
             ],
             [
              0.4444444444444444,
              "#bd3786"
             ],
             [
              0.5555555555555556,
              "#d8576b"
             ],
             [
              0.6666666666666666,
              "#ed7953"
             ],
             [
              0.7777777777777778,
              "#fb9f3a"
             ],
             [
              0.8888888888888888,
              "#fdca26"
             ],
             [
              1,
              "#f0f921"
             ]
            ],
            "type": "surface"
           }
          ],
          "table": [
           {
            "cells": {
             "fill": {
              "color": "#EBF0F8"
             },
             "line": {
              "color": "white"
             }
            },
            "header": {
             "fill": {
              "color": "#C8D4E3"
             },
             "line": {
              "color": "white"
             }
            },
            "type": "table"
           }
          ]
         },
         "layout": {
          "annotationdefaults": {
           "arrowcolor": "#2a3f5f",
           "arrowhead": 0,
           "arrowwidth": 1
          },
          "autotypenumbers": "strict",
          "coloraxis": {
           "colorbar": {
            "outlinewidth": 0,
            "ticks": ""
           }
          },
          "colorscale": {
           "diverging": [
            [
             0,
             "#8e0152"
            ],
            [
             0.1,
             "#c51b7d"
            ],
            [
             0.2,
             "#de77ae"
            ],
            [
             0.3,
             "#f1b6da"
            ],
            [
             0.4,
             "#fde0ef"
            ],
            [
             0.5,
             "#f7f7f7"
            ],
            [
             0.6,
             "#e6f5d0"
            ],
            [
             0.7,
             "#b8e186"
            ],
            [
             0.8,
             "#7fbc41"
            ],
            [
             0.9,
             "#4d9221"
            ],
            [
             1,
             "#276419"
            ]
           ],
           "sequential": [
            [
             0,
             "#0d0887"
            ],
            [
             0.1111111111111111,
             "#46039f"
            ],
            [
             0.2222222222222222,
             "#7201a8"
            ],
            [
             0.3333333333333333,
             "#9c179e"
            ],
            [
             0.4444444444444444,
             "#bd3786"
            ],
            [
             0.5555555555555556,
             "#d8576b"
            ],
            [
             0.6666666666666666,
             "#ed7953"
            ],
            [
             0.7777777777777778,
             "#fb9f3a"
            ],
            [
             0.8888888888888888,
             "#fdca26"
            ],
            [
             1,
             "#f0f921"
            ]
           ],
           "sequentialminus": [
            [
             0,
             "#0d0887"
            ],
            [
             0.1111111111111111,
             "#46039f"
            ],
            [
             0.2222222222222222,
             "#7201a8"
            ],
            [
             0.3333333333333333,
             "#9c179e"
            ],
            [
             0.4444444444444444,
             "#bd3786"
            ],
            [
             0.5555555555555556,
             "#d8576b"
            ],
            [
             0.6666666666666666,
             "#ed7953"
            ],
            [
             0.7777777777777778,
             "#fb9f3a"
            ],
            [
             0.8888888888888888,
             "#fdca26"
            ],
            [
             1,
             "#f0f921"
            ]
           ]
          },
          "colorway": [
           "#636efa",
           "#EF553B",
           "#00cc96",
           "#ab63fa",
           "#FFA15A",
           "#19d3f3",
           "#FF6692",
           "#B6E880",
           "#FF97FF",
           "#FECB52"
          ],
          "font": {
           "color": "#2a3f5f"
          },
          "geo": {
           "bgcolor": "white",
           "lakecolor": "white",
           "landcolor": "#E5ECF6",
           "showlakes": true,
           "showland": true,
           "subunitcolor": "white"
          },
          "hoverlabel": {
           "align": "left"
          },
          "hovermode": "closest",
          "mapbox": {
           "style": "light"
          },
          "paper_bgcolor": "white",
          "plot_bgcolor": "#E5ECF6",
          "polar": {
           "angularaxis": {
            "gridcolor": "white",
            "linecolor": "white",
            "ticks": ""
           },
           "bgcolor": "#E5ECF6",
           "radialaxis": {
            "gridcolor": "white",
            "linecolor": "white",
            "ticks": ""
           }
          },
          "scene": {
           "xaxis": {
            "backgroundcolor": "#E5ECF6",
            "gridcolor": "white",
            "gridwidth": 2,
            "linecolor": "white",
            "showbackground": true,
            "ticks": "",
            "zerolinecolor": "white"
           },
           "yaxis": {
            "backgroundcolor": "#E5ECF6",
            "gridcolor": "white",
            "gridwidth": 2,
            "linecolor": "white",
            "showbackground": true,
            "ticks": "",
            "zerolinecolor": "white"
           },
           "zaxis": {
            "backgroundcolor": "#E5ECF6",
            "gridcolor": "white",
            "gridwidth": 2,
            "linecolor": "white",
            "showbackground": true,
            "ticks": "",
            "zerolinecolor": "white"
           }
          },
          "shapedefaults": {
           "line": {
            "color": "#2a3f5f"
           }
          },
          "ternary": {
           "aaxis": {
            "gridcolor": "white",
            "linecolor": "white",
            "ticks": ""
           },
           "baxis": {
            "gridcolor": "white",
            "linecolor": "white",
            "ticks": ""
           },
           "bgcolor": "#E5ECF6",
           "caxis": {
            "gridcolor": "white",
            "linecolor": "white",
            "ticks": ""
           }
          },
          "title": {
           "x": 0.05
          },
          "xaxis": {
           "automargin": true,
           "gridcolor": "white",
           "linecolor": "white",
           "ticks": "",
           "title": {
            "standoff": 15
           },
           "zerolinecolor": "white",
           "zerolinewidth": 2
          },
          "yaxis": {
           "automargin": true,
           "gridcolor": "white",
           "linecolor": "white",
           "ticks": "",
           "title": {
            "standoff": 15
           },
           "zerolinecolor": "white",
           "zerolinewidth": 2
          }
         }
        }
       }
      }
     },
     "metadata": {},
     "output_type": "display_data"
    }
   ],
   "source": [
    "fig = go.Figure([go.Bar(x=['F','M'], \n",
    "y=[risk_user[risk_user.gender=='F'].count()[0], risk_user[risk_user.gender=='M'].count()[0]])])\n",
    "fig\n"
   ]
  },
  {
   "cell_type": "markdown",
   "metadata": {},
   "source": [
    "- fig(2): Verteilung von Männern und Frauen, die als \"Risk User\" gekennzeichnet wurden. Männliche Risk User sind etwas häufiger als weibliche Risk User in dieser Tabelle."
   ]
  },
  {
   "cell_type": "code",
   "execution_count": 209,
   "metadata": {},
   "outputs": [
    {
     "name": "stdout",
     "output_type": "stream",
     "text": [
      "Class=M, n=32 (50.79365079365079%)\n",
      "Class=F, n=31 (49.2063492063492%)\n"
     ]
    }
   ],
   "source": [
    "class_count(risk_user.gender)"
   ]
  },
  {
   "cell_type": "code",
   "execution_count": 211,
   "metadata": {},
   "outputs": [
    {
     "data": {
      "application/vnd.plotly.v1+json": {
       "config": {
        "plotlyServerURL": "https://plot.ly"
       },
       "data": [
        {
         "type": "bar",
         "x": [
          "F",
          "M"
         ],
         "y": [
          10494,
          6486
         ]
        }
       ],
       "layout": {
        "template": {
         "data": {
          "bar": [
           {
            "error_x": {
             "color": "#2a3f5f"
            },
            "error_y": {
             "color": "#2a3f5f"
            },
            "marker": {
             "line": {
              "color": "#E5ECF6",
              "width": 0.5
             },
             "pattern": {
              "fillmode": "overlay",
              "size": 10,
              "solidity": 0.2
             }
            },
            "type": "bar"
           }
          ],
          "barpolar": [
           {
            "marker": {
             "line": {
              "color": "#E5ECF6",
              "width": 0.5
             },
             "pattern": {
              "fillmode": "overlay",
              "size": 10,
              "solidity": 0.2
             }
            },
            "type": "barpolar"
           }
          ],
          "carpet": [
           {
            "aaxis": {
             "endlinecolor": "#2a3f5f",
             "gridcolor": "white",
             "linecolor": "white",
             "minorgridcolor": "white",
             "startlinecolor": "#2a3f5f"
            },
            "baxis": {
             "endlinecolor": "#2a3f5f",
             "gridcolor": "white",
             "linecolor": "white",
             "minorgridcolor": "white",
             "startlinecolor": "#2a3f5f"
            },
            "type": "carpet"
           }
          ],
          "choropleth": [
           {
            "colorbar": {
             "outlinewidth": 0,
             "ticks": ""
            },
            "type": "choropleth"
           }
          ],
          "contour": [
           {
            "colorbar": {
             "outlinewidth": 0,
             "ticks": ""
            },
            "colorscale": [
             [
              0,
              "#0d0887"
             ],
             [
              0.1111111111111111,
              "#46039f"
             ],
             [
              0.2222222222222222,
              "#7201a8"
             ],
             [
              0.3333333333333333,
              "#9c179e"
             ],
             [
              0.4444444444444444,
              "#bd3786"
             ],
             [
              0.5555555555555556,
              "#d8576b"
             ],
             [
              0.6666666666666666,
              "#ed7953"
             ],
             [
              0.7777777777777778,
              "#fb9f3a"
             ],
             [
              0.8888888888888888,
              "#fdca26"
             ],
             [
              1,
              "#f0f921"
             ]
            ],
            "type": "contour"
           }
          ],
          "contourcarpet": [
           {
            "colorbar": {
             "outlinewidth": 0,
             "ticks": ""
            },
            "type": "contourcarpet"
           }
          ],
          "heatmap": [
           {
            "colorbar": {
             "outlinewidth": 0,
             "ticks": ""
            },
            "colorscale": [
             [
              0,
              "#0d0887"
             ],
             [
              0.1111111111111111,
              "#46039f"
             ],
             [
              0.2222222222222222,
              "#7201a8"
             ],
             [
              0.3333333333333333,
              "#9c179e"
             ],
             [
              0.4444444444444444,
              "#bd3786"
             ],
             [
              0.5555555555555556,
              "#d8576b"
             ],
             [
              0.6666666666666666,
              "#ed7953"
             ],
             [
              0.7777777777777778,
              "#fb9f3a"
             ],
             [
              0.8888888888888888,
              "#fdca26"
             ],
             [
              1,
              "#f0f921"
             ]
            ],
            "type": "heatmap"
           }
          ],
          "heatmapgl": [
           {
            "colorbar": {
             "outlinewidth": 0,
             "ticks": ""
            },
            "colorscale": [
             [
              0,
              "#0d0887"
             ],
             [
              0.1111111111111111,
              "#46039f"
             ],
             [
              0.2222222222222222,
              "#7201a8"
             ],
             [
              0.3333333333333333,
              "#9c179e"
             ],
             [
              0.4444444444444444,
              "#bd3786"
             ],
             [
              0.5555555555555556,
              "#d8576b"
             ],
             [
              0.6666666666666666,
              "#ed7953"
             ],
             [
              0.7777777777777778,
              "#fb9f3a"
             ],
             [
              0.8888888888888888,
              "#fdca26"
             ],
             [
              1,
              "#f0f921"
             ]
            ],
            "type": "heatmapgl"
           }
          ],
          "histogram": [
           {
            "marker": {
             "pattern": {
              "fillmode": "overlay",
              "size": 10,
              "solidity": 0.2
             }
            },
            "type": "histogram"
           }
          ],
          "histogram2d": [
           {
            "colorbar": {
             "outlinewidth": 0,
             "ticks": ""
            },
            "colorscale": [
             [
              0,
              "#0d0887"
             ],
             [
              0.1111111111111111,
              "#46039f"
             ],
             [
              0.2222222222222222,
              "#7201a8"
             ],
             [
              0.3333333333333333,
              "#9c179e"
             ],
             [
              0.4444444444444444,
              "#bd3786"
             ],
             [
              0.5555555555555556,
              "#d8576b"
             ],
             [
              0.6666666666666666,
              "#ed7953"
             ],
             [
              0.7777777777777778,
              "#fb9f3a"
             ],
             [
              0.8888888888888888,
              "#fdca26"
             ],
             [
              1,
              "#f0f921"
             ]
            ],
            "type": "histogram2d"
           }
          ],
          "histogram2dcontour": [
           {
            "colorbar": {
             "outlinewidth": 0,
             "ticks": ""
            },
            "colorscale": [
             [
              0,
              "#0d0887"
             ],
             [
              0.1111111111111111,
              "#46039f"
             ],
             [
              0.2222222222222222,
              "#7201a8"
             ],
             [
              0.3333333333333333,
              "#9c179e"
             ],
             [
              0.4444444444444444,
              "#bd3786"
             ],
             [
              0.5555555555555556,
              "#d8576b"
             ],
             [
              0.6666666666666666,
              "#ed7953"
             ],
             [
              0.7777777777777778,
              "#fb9f3a"
             ],
             [
              0.8888888888888888,
              "#fdca26"
             ],
             [
              1,
              "#f0f921"
             ]
            ],
            "type": "histogram2dcontour"
           }
          ],
          "mesh3d": [
           {
            "colorbar": {
             "outlinewidth": 0,
             "ticks": ""
            },
            "type": "mesh3d"
           }
          ],
          "parcoords": [
           {
            "line": {
             "colorbar": {
              "outlinewidth": 0,
              "ticks": ""
             }
            },
            "type": "parcoords"
           }
          ],
          "pie": [
           {
            "automargin": true,
            "type": "pie"
           }
          ],
          "scatter": [
           {
            "fillpattern": {
             "fillmode": "overlay",
             "size": 10,
             "solidity": 0.2
            },
            "type": "scatter"
           }
          ],
          "scatter3d": [
           {
            "line": {
             "colorbar": {
              "outlinewidth": 0,
              "ticks": ""
             }
            },
            "marker": {
             "colorbar": {
              "outlinewidth": 0,
              "ticks": ""
             }
            },
            "type": "scatter3d"
           }
          ],
          "scattercarpet": [
           {
            "marker": {
             "colorbar": {
              "outlinewidth": 0,
              "ticks": ""
             }
            },
            "type": "scattercarpet"
           }
          ],
          "scattergeo": [
           {
            "marker": {
             "colorbar": {
              "outlinewidth": 0,
              "ticks": ""
             }
            },
            "type": "scattergeo"
           }
          ],
          "scattergl": [
           {
            "marker": {
             "colorbar": {
              "outlinewidth": 0,
              "ticks": ""
             }
            },
            "type": "scattergl"
           }
          ],
          "scattermapbox": [
           {
            "marker": {
             "colorbar": {
              "outlinewidth": 0,
              "ticks": ""
             }
            },
            "type": "scattermapbox"
           }
          ],
          "scatterpolar": [
           {
            "marker": {
             "colorbar": {
              "outlinewidth": 0,
              "ticks": ""
             }
            },
            "type": "scatterpolar"
           }
          ],
          "scatterpolargl": [
           {
            "marker": {
             "colorbar": {
              "outlinewidth": 0,
              "ticks": ""
             }
            },
            "type": "scatterpolargl"
           }
          ],
          "scatterternary": [
           {
            "marker": {
             "colorbar": {
              "outlinewidth": 0,
              "ticks": ""
             }
            },
            "type": "scatterternary"
           }
          ],
          "surface": [
           {
            "colorbar": {
             "outlinewidth": 0,
             "ticks": ""
            },
            "colorscale": [
             [
              0,
              "#0d0887"
             ],
             [
              0.1111111111111111,
              "#46039f"
             ],
             [
              0.2222222222222222,
              "#7201a8"
             ],
             [
              0.3333333333333333,
              "#9c179e"
             ],
             [
              0.4444444444444444,
              "#bd3786"
             ],
             [
              0.5555555555555556,
              "#d8576b"
             ],
             [
              0.6666666666666666,
              "#ed7953"
             ],
             [
              0.7777777777777778,
              "#fb9f3a"
             ],
             [
              0.8888888888888888,
              "#fdca26"
             ],
             [
              1,
              "#f0f921"
             ]
            ],
            "type": "surface"
           }
          ],
          "table": [
           {
            "cells": {
             "fill": {
              "color": "#EBF0F8"
             },
             "line": {
              "color": "white"
             }
            },
            "header": {
             "fill": {
              "color": "#C8D4E3"
             },
             "line": {
              "color": "white"
             }
            },
            "type": "table"
           }
          ]
         },
         "layout": {
          "annotationdefaults": {
           "arrowcolor": "#2a3f5f",
           "arrowhead": 0,
           "arrowwidth": 1
          },
          "autotypenumbers": "strict",
          "coloraxis": {
           "colorbar": {
            "outlinewidth": 0,
            "ticks": ""
           }
          },
          "colorscale": {
           "diverging": [
            [
             0,
             "#8e0152"
            ],
            [
             0.1,
             "#c51b7d"
            ],
            [
             0.2,
             "#de77ae"
            ],
            [
             0.3,
             "#f1b6da"
            ],
            [
             0.4,
             "#fde0ef"
            ],
            [
             0.5,
             "#f7f7f7"
            ],
            [
             0.6,
             "#e6f5d0"
            ],
            [
             0.7,
             "#b8e186"
            ],
            [
             0.8,
             "#7fbc41"
            ],
            [
             0.9,
             "#4d9221"
            ],
            [
             1,
             "#276419"
            ]
           ],
           "sequential": [
            [
             0,
             "#0d0887"
            ],
            [
             0.1111111111111111,
             "#46039f"
            ],
            [
             0.2222222222222222,
             "#7201a8"
            ],
            [
             0.3333333333333333,
             "#9c179e"
            ],
            [
             0.4444444444444444,
             "#bd3786"
            ],
            [
             0.5555555555555556,
             "#d8576b"
            ],
            [
             0.6666666666666666,
             "#ed7953"
            ],
            [
             0.7777777777777778,
             "#fb9f3a"
            ],
            [
             0.8888888888888888,
             "#fdca26"
            ],
            [
             1,
             "#f0f921"
            ]
           ],
           "sequentialminus": [
            [
             0,
             "#0d0887"
            ],
            [
             0.1111111111111111,
             "#46039f"
            ],
            [
             0.2222222222222222,
             "#7201a8"
            ],
            [
             0.3333333333333333,
             "#9c179e"
            ],
            [
             0.4444444444444444,
             "#bd3786"
            ],
            [
             0.5555555555555556,
             "#d8576b"
            ],
            [
             0.6666666666666666,
             "#ed7953"
            ],
            [
             0.7777777777777778,
             "#fb9f3a"
            ],
            [
             0.8888888888888888,
             "#fdca26"
            ],
            [
             1,
             "#f0f921"
            ]
           ]
          },
          "colorway": [
           "#636efa",
           "#EF553B",
           "#00cc96",
           "#ab63fa",
           "#FFA15A",
           "#19d3f3",
           "#FF6692",
           "#B6E880",
           "#FF97FF",
           "#FECB52"
          ],
          "font": {
           "color": "#2a3f5f"
          },
          "geo": {
           "bgcolor": "white",
           "lakecolor": "white",
           "landcolor": "#E5ECF6",
           "showlakes": true,
           "showland": true,
           "subunitcolor": "white"
          },
          "hoverlabel": {
           "align": "left"
          },
          "hovermode": "closest",
          "mapbox": {
           "style": "light"
          },
          "paper_bgcolor": "white",
          "plot_bgcolor": "#E5ECF6",
          "polar": {
           "angularaxis": {
            "gridcolor": "white",
            "linecolor": "white",
            "ticks": ""
           },
           "bgcolor": "#E5ECF6",
           "radialaxis": {
            "gridcolor": "white",
            "linecolor": "white",
            "ticks": ""
           }
          },
          "scene": {
           "xaxis": {
            "backgroundcolor": "#E5ECF6",
            "gridcolor": "white",
            "gridwidth": 2,
            "linecolor": "white",
            "showbackground": true,
            "ticks": "",
            "zerolinecolor": "white"
           },
           "yaxis": {
            "backgroundcolor": "#E5ECF6",
            "gridcolor": "white",
            "gridwidth": 2,
            "linecolor": "white",
            "showbackground": true,
            "ticks": "",
            "zerolinecolor": "white"
           },
           "zaxis": {
            "backgroundcolor": "#E5ECF6",
            "gridcolor": "white",
            "gridwidth": 2,
            "linecolor": "white",
            "showbackground": true,
            "ticks": "",
            "zerolinecolor": "white"
           }
          },
          "shapedefaults": {
           "line": {
            "color": "#2a3f5f"
           }
          },
          "ternary": {
           "aaxis": {
            "gridcolor": "white",
            "linecolor": "white",
            "ticks": ""
           },
           "baxis": {
            "gridcolor": "white",
            "linecolor": "white",
            "ticks": ""
           },
           "bgcolor": "#E5ECF6",
           "caxis": {
            "gridcolor": "white",
            "linecolor": "white",
            "ticks": ""
           }
          },
          "title": {
           "x": 0.05
          },
          "xaxis": {
           "automargin": true,
           "gridcolor": "white",
           "linecolor": "white",
           "ticks": "",
           "title": {
            "standoff": 15
           },
           "zerolinecolor": "white",
           "zerolinewidth": 2
          },
          "yaxis": {
           "automargin": true,
           "gridcolor": "white",
           "linecolor": "white",
           "ticks": "",
           "title": {
            "standoff": 15
           },
           "zerolinecolor": "white",
           "zerolinewidth": 2
          }
         }
        }
       }
      }
     },
     "metadata": {},
     "output_type": "display_data"
    }
   ],
   "source": [
    "fig = go.Figure([go.Bar(x=['F','M'], \n",
    "y=[non_risk_user[non_risk_user.gender=='F'].count()[0], non_risk_user[non_risk_user.gender=='M'].count()[0]])])\n",
    "fig\n"
   ]
  },
  {
   "cell_type": "markdown",
   "metadata": {},
   "source": [
    "- fig(3): Verteilung von Männern und Frauen, die als Non-Risk User gekennzeichnet wurden. Man sieht dass es deutlich mehr weibliche Non-Risk User gibt als männliche. \n",
    "- Ein männlicher User hat eine höhere Wahrscheinlichkeit in dieser Tabelle als Risk-User gekennzeichnet zu sein."
   ]
  },
  {
   "cell_type": "code",
   "execution_count": 212,
   "metadata": {},
   "outputs": [
    {
     "name": "stdout",
     "output_type": "stream",
     "text": [
      "Class=M, n=6486 (38.197879858657245%)\n",
      "Class=F, n=10494 (61.802120141342755%)\n"
     ]
    }
   ],
   "source": [
    "class_count(non_risk_user.gender)"
   ]
  },
  {
   "cell_type": "code",
   "execution_count": 199,
   "metadata": {},
   "outputs": [
    {
     "data": {
      "image/png": "[encoded data removed]",
      "text/plain": [
       "<Figure size 822.35x720 with 1 Axes>"
      ]
     },
     "metadata": {},
     "output_type": "display_data"
    }
   ],
   "source": [
    "plot_1 = sns.relplot(x='age', y='anual_income', hue='risk_user',size='payment_status',data=cca,sizes=(400,40),alpha=0.01,height=10)"
   ]
  },
  {
   "cell_type": "markdown",
   "metadata": {},
   "source": [
    "- fig(4): In dieser Visualisierung versuchen wir eine klare Abtrennung von Risk- und Non-Risk-Unsern darzustellen. Wir plotten dazu die Parameter 'age', 'annual income'  und 'payment status' bei Risk und Non-Risk user. Allerdigns kann keine klare Abtrennung im Scatter-Plot beobachtet werden. Zu sehen ist lediglich, dass die blauen Punkte, die Non-Risk-User darstellen, kleiner sind als die gelben Punkte, die Risk-User darstellen. Man schließt daraus, dass sich lediglich der Parameter 'payment_status' in den beiden Kategorien klar unterscheidet.\n",
    "\n",
    "@Dennis"
   ]
  },
  {
   "cell_type": "code",
   "execution_count": 214,
   "metadata": {},
   "outputs": [
    {
     "data": {
      "application/vnd.plotly.v1+json": {
       "config": {
        "plotlyServerURL": "https://plot.ly"
       },
       "data": [
        {
         "type": "bar",
         "x": [
          4,
          6,
          3,
          5
         ],
         "y": [
          3,
          44,
          12,
          4
         ]
        }
       ],
       "layout": {
        "template": {
         "data": {
          "bar": [
           {
            "error_x": {
             "color": "#2a3f5f"
            },
            "error_y": {
             "color": "#2a3f5f"
            },
            "marker": {
             "line": {
              "color": "#E5ECF6",
              "width": 0.5
             },
             "pattern": {
              "fillmode": "overlay",
              "size": 10,
              "solidity": 0.2
             }
            },
            "type": "bar"
           }
          ],
          "barpolar": [
           {
            "marker": {
             "line": {
              "color": "#E5ECF6",
              "width": 0.5
             },
             "pattern": {
              "fillmode": "overlay",
              "size": 10,
              "solidity": 0.2
             }
            },
            "type": "barpolar"
           }
          ],
          "carpet": [
           {
            "aaxis": {
             "endlinecolor": "#2a3f5f",
             "gridcolor": "white",
             "linecolor": "white",
             "minorgridcolor": "white",
             "startlinecolor": "#2a3f5f"
            },
            "baxis": {
             "endlinecolor": "#2a3f5f",
             "gridcolor": "white",
             "linecolor": "white",
             "minorgridcolor": "white",
             "startlinecolor": "#2a3f5f"
            },
            "type": "carpet"
           }
          ],
          "choropleth": [
           {
            "colorbar": {
             "outlinewidth": 0,
             "ticks": ""
            },
            "type": "choropleth"
           }
          ],
          "contour": [
           {
            "colorbar": {
             "outlinewidth": 0,
             "ticks": ""
            },
            "colorscale": [
             [
              0,
              "#0d0887"
             ],
             [
              0.1111111111111111,
              "#46039f"
             ],
             [
              0.2222222222222222,
              "#7201a8"
             ],
             [
              0.3333333333333333,
              "#9c179e"
             ],
             [
              0.4444444444444444,
              "#bd3786"
             ],
             [
              0.5555555555555556,
              "#d8576b"
             ],
             [
              0.6666666666666666,
              "#ed7953"
             ],
             [
              0.7777777777777778,
              "#fb9f3a"
             ],
             [
              0.8888888888888888,
              "#fdca26"
             ],
             [
              1,
              "#f0f921"
             ]
            ],
            "type": "contour"
           }
          ],
          "contourcarpet": [
           {
            "colorbar": {
             "outlinewidth": 0,
             "ticks": ""
            },
            "type": "contourcarpet"
           }
          ],
          "heatmap": [
           {
            "colorbar": {
             "outlinewidth": 0,
             "ticks": ""
            },
            "colorscale": [
             [
              0,
              "#0d0887"
             ],
             [
              0.1111111111111111,
              "#46039f"
             ],
             [
              0.2222222222222222,
              "#7201a8"
             ],
             [
              0.3333333333333333,
              "#9c179e"
             ],
             [
              0.4444444444444444,
              "#bd3786"
             ],
             [
              0.5555555555555556,
              "#d8576b"
             ],
             [
              0.6666666666666666,
              "#ed7953"
             ],
             [
              0.7777777777777778,
              "#fb9f3a"
             ],
             [
              0.8888888888888888,
              "#fdca26"
             ],
             [
              1,
              "#f0f921"
             ]
            ],
            "type": "heatmap"
           }
          ],
          "heatmapgl": [
           {
            "colorbar": {
             "outlinewidth": 0,
             "ticks": ""
            },
            "colorscale": [
             [
              0,
              "#0d0887"
             ],
             [
              0.1111111111111111,
              "#46039f"
             ],
             [
              0.2222222222222222,
              "#7201a8"
             ],
             [
              0.3333333333333333,
              "#9c179e"
             ],
             [
              0.4444444444444444,
              "#bd3786"
             ],
             [
              0.5555555555555556,
              "#d8576b"
             ],
             [
              0.6666666666666666,
              "#ed7953"
             ],
             [
              0.7777777777777778,
              "#fb9f3a"
             ],
             [
              0.8888888888888888,
              "#fdca26"
             ],
             [
              1,
              "#f0f921"
             ]
            ],
            "type": "heatmapgl"
           }
          ],
          "histogram": [
           {
            "marker": {
             "pattern": {
              "fillmode": "overlay",
              "size": 10,
              "solidity": 0.2
             }
            },
            "type": "histogram"
           }
          ],
          "histogram2d": [
           {
            "colorbar": {
             "outlinewidth": 0,
             "ticks": ""
            },
            "colorscale": [
             [
              0,
              "#0d0887"
             ],
             [
              0.1111111111111111,
              "#46039f"
             ],
             [
              0.2222222222222222,
              "#7201a8"
             ],
             [
              0.3333333333333333,
              "#9c179e"
             ],
             [
              0.4444444444444444,
              "#bd3786"
             ],
             [
              0.5555555555555556,
              "#d8576b"
             ],
             [
              0.6666666666666666,
              "#ed7953"
             ],
             [
              0.7777777777777778,
              "#fb9f3a"
             ],
             [
              0.8888888888888888,
              "#fdca26"
             ],
             [
              1,
              "#f0f921"
             ]
            ],
            "type": "histogram2d"
           }
          ],
          "histogram2dcontour": [
           {
            "colorbar": {
             "outlinewidth": 0,
             "ticks": ""
            },
            "colorscale": [
             [
              0,
              "#0d0887"
             ],
             [
              0.1111111111111111,
              "#46039f"
             ],
             [
              0.2222222222222222,
              "#7201a8"
             ],
             [
              0.3333333333333333,
              "#9c179e"
             ],
             [
              0.4444444444444444,
              "#bd3786"
             ],
             [
              0.5555555555555556,
              "#d8576b"
             ],
             [
              0.6666666666666666,
              "#ed7953"
             ],
             [
              0.7777777777777778,
              "#fb9f3a"
             ],
             [
              0.8888888888888888,
              "#fdca26"
             ],
             [
              1,
              "#f0f921"
             ]
            ],
            "type": "histogram2dcontour"
           }
          ],
          "mesh3d": [
           {
            "colorbar": {
             "outlinewidth": 0,
             "ticks": ""
            },
            "type": "mesh3d"
           }
          ],
          "parcoords": [
           {
            "line": {
             "colorbar": {
              "outlinewidth": 0,
              "ticks": ""
             }
            },
            "type": "parcoords"
           }
          ],
          "pie": [
           {
            "automargin": true,
            "type": "pie"
           }
          ],
          "scatter": [
           {
            "fillpattern": {
             "fillmode": "overlay",
             "size": 10,
             "solidity": 0.2
            },
            "type": "scatter"
           }
          ],
          "scatter3d": [
           {
            "line": {
             "colorbar": {
              "outlinewidth": 0,
              "ticks": ""
             }
            },
            "marker": {
             "colorbar": {
              "outlinewidth": 0,
              "ticks": ""
             }
            },
            "type": "scatter3d"
           }
          ],
          "scattercarpet": [
           {
            "marker": {
             "colorbar": {
              "outlinewidth": 0,
              "ticks": ""
             }
            },
            "type": "scattercarpet"
           }
          ],
          "scattergeo": [
           {
            "marker": {
             "colorbar": {
              "outlinewidth": 0,
              "ticks": ""
             }
            },
            "type": "scattergeo"
           }
          ],
          "scattergl": [
           {
            "marker": {
             "colorbar": {
              "outlinewidth": 0,
              "ticks": ""
             }
            },
            "type": "scattergl"
           }
          ],
          "scattermapbox": [
           {
            "marker": {
             "colorbar": {
              "outlinewidth": 0,
              "ticks": ""
             }
            },
            "type": "scattermapbox"
           }
          ],
          "scatterpolar": [
           {
            "marker": {
             "colorbar": {
              "outlinewidth": 0,
              "ticks": ""
             }
            },
            "type": "scatterpolar"
           }
          ],
          "scatterpolargl": [
           {
            "marker": {
             "colorbar": {
              "outlinewidth": 0,
              "ticks": ""
             }
            },
            "type": "scatterpolargl"
           }
          ],
          "scatterternary": [
           {
            "marker": {
             "colorbar": {
              "outlinewidth": 0,
              "ticks": ""
             }
            },
            "type": "scatterternary"
           }
          ],
          "surface": [
           {
            "colorbar": {
             "outlinewidth": 0,
             "ticks": ""
            },
            "colorscale": [
             [
              0,
              "#0d0887"
             ],
             [
              0.1111111111111111,
              "#46039f"
             ],
             [
              0.2222222222222222,
              "#7201a8"
             ],
             [
              0.3333333333333333,
              "#9c179e"
             ],
             [
              0.4444444444444444,
              "#bd3786"
             ],
             [
              0.5555555555555556,
              "#d8576b"
             ],
             [
              0.6666666666666666,
              "#ed7953"
             ],
             [
              0.7777777777777778,
              "#fb9f3a"
             ],
             [
              0.8888888888888888,
              "#fdca26"
             ],
             [
              1,
              "#f0f921"
             ]
            ],
            "type": "surface"
           }
          ],
          "table": [
           {
            "cells": {
             "fill": {
              "color": "#EBF0F8"
             },
             "line": {
              "color": "white"
             }
            },
            "header": {
             "fill": {
              "color": "#C8D4E3"
             },
             "line": {
              "color": "white"
             }
            },
            "type": "table"
           }
          ]
         },
         "layout": {
          "annotationdefaults": {
           "arrowcolor": "#2a3f5f",
           "arrowhead": 0,
           "arrowwidth": 1
          },
          "autotypenumbers": "strict",
          "coloraxis": {
           "colorbar": {
            "outlinewidth": 0,
            "ticks": ""
           }
          },
          "colorscale": {
           "diverging": [
            [
             0,
             "#8e0152"
            ],
            [
             0.1,
             "#c51b7d"
            ],
            [
             0.2,
             "#de77ae"
            ],
            [
             0.3,
             "#f1b6da"
            ],
            [
             0.4,
             "#fde0ef"
            ],
            [
             0.5,
             "#f7f7f7"
            ],
            [
             0.6,
             "#e6f5d0"
            ],
            [
             0.7,
             "#b8e186"
            ],
            [
             0.8,
             "#7fbc41"
            ],
            [
             0.9,
             "#4d9221"
            ],
            [
             1,
             "#276419"
            ]
           ],
           "sequential": [
            [
             0,
             "#0d0887"
            ],
            [
             0.1111111111111111,
             "#46039f"
            ],
            [
             0.2222222222222222,
             "#7201a8"
            ],
            [
             0.3333333333333333,
             "#9c179e"
            ],
            [
             0.4444444444444444,
             "#bd3786"
            ],
            [
             0.5555555555555556,
             "#d8576b"
            ],
            [
             0.6666666666666666,
             "#ed7953"
            ],
            [
             0.7777777777777778,
             "#fb9f3a"
            ],
            [
             0.8888888888888888,
             "#fdca26"
            ],
            [
             1,
             "#f0f921"
            ]
           ],
           "sequentialminus": [
            [
             0,
             "#0d0887"
            ],
            [
             0.1111111111111111,
             "#46039f"
            ],
            [
             0.2222222222222222,
             "#7201a8"
            ],
            [
             0.3333333333333333,
             "#9c179e"
            ],
            [
             0.4444444444444444,
             "#bd3786"
            ],
            [
             0.5555555555555556,
             "#d8576b"
            ],
            [
             0.6666666666666666,
             "#ed7953"
            ],
            [
             0.7777777777777778,
             "#fb9f3a"
            ],
            [
             0.8888888888888888,
             "#fdca26"
            ],
            [
             1,
             "#f0f921"
            ]
           ]
          },
          "colorway": [
           "#636efa",
           "#EF553B",
           "#00cc96",
           "#ab63fa",
           "#FFA15A",
           "#19d3f3",
           "#FF6692",
           "#B6E880",
           "#FF97FF",
           "#FECB52"
          ],
          "font": {
           "color": "#2a3f5f"
          },
          "geo": {
           "bgcolor": "white",
           "lakecolor": "white",
           "landcolor": "#E5ECF6",
           "showlakes": true,
           "showland": true,
           "subunitcolor": "white"
          },
          "hoverlabel": {
           "align": "left"
          },
          "hovermode": "closest",
          "mapbox": {
           "style": "light"
          },
          "paper_bgcolor": "white",
          "plot_bgcolor": "#E5ECF6",
          "polar": {
           "angularaxis": {
            "gridcolor": "white",
            "linecolor": "white",
            "ticks": ""
           },
           "bgcolor": "#E5ECF6",
           "radialaxis": {
            "gridcolor": "white",
            "linecolor": "white",
            "ticks": ""
           }
          },
          "scene": {
           "xaxis": {
            "backgroundcolor": "#E5ECF6",
            "gridcolor": "white",
            "gridwidth": 2,
            "linecolor": "white",
            "showbackground": true,
            "ticks": "",
            "zerolinecolor": "white"
           },
           "yaxis": {
            "backgroundcolor": "#E5ECF6",
            "gridcolor": "white",
            "gridwidth": 2,
            "linecolor": "white",
            "showbackground": true,
            "ticks": "",
            "zerolinecolor": "white"
           },
           "zaxis": {
            "backgroundcolor": "#E5ECF6",
            "gridcolor": "white",
            "gridwidth": 2,
            "linecolor": "white",
            "showbackground": true,
            "ticks": "",
            "zerolinecolor": "white"
           }
          },
          "shapedefaults": {
           "line": {
            "color": "#2a3f5f"
           }
          },
          "ternary": {
           "aaxis": {
            "gridcolor": "white",
            "linecolor": "white",
            "ticks": ""
           },
           "baxis": {
            "gridcolor": "white",
            "linecolor": "white",
            "ticks": ""
           },
           "bgcolor": "#E5ECF6",
           "caxis": {
            "gridcolor": "white",
            "linecolor": "white",
            "ticks": ""
           }
          },
          "title": {
           "x": 0.05
          },
          "xaxis": {
           "automargin": true,
           "gridcolor": "white",
           "linecolor": "white",
           "ticks": "",
           "title": {
            "standoff": 15
           },
           "zerolinecolor": "white",
           "zerolinewidth": 2
          },
          "yaxis": {
           "automargin": true,
           "gridcolor": "white",
           "linecolor": "white",
           "ticks": "",
           "title": {
            "standoff": 15
           },
           "zerolinecolor": "white",
           "zerolinewidth": 2
          }
         }
        }
       }
      }
     },
     "metadata": {},
     "output_type": "display_data"
    }
   ],
   "source": [
    "y_list=[]\n",
    "for i in list(risk_user.payment_status.unique()):\n",
    "    y_list.append(risk_user[risk_user.payment_status==i].count()[0])\n",
    "\n",
    "fig = go.Figure([go.Bar(x=list(risk_user.payment_status.unique()), \n",
    "y=y_list)])\n",
    "fig\n"
   ]
  },
  {
   "cell_type": "markdown",
   "metadata": {},
   "source": [
    "- fig(5): dieser Plot zeigt den 'payment status' aller Risk-User. Es zeichnet sich heraus, dass die meisten Personen in dieser Gruppe einen Zahlungsstatus von 6 haben, also mit ihren Rückzahlungen stark im Verzug sind (siehe Tabelle 1) "
   ]
  },
  {
   "cell_type": "code",
   "execution_count": 215,
   "metadata": {},
   "outputs": [
    {
     "name": "stdout",
     "output_type": "stream",
     "text": [
      "Class=4, n=3 (4.761904761904762%)\n",
      "Class=6, n=44 (69.84126984126983%)\n",
      "Class=3, n=12 (19.047619047619047%)\n",
      "Class=5, n=4 (6.349206349206349%)\n"
     ]
    }
   ],
   "source": [
    "class_count(risk_user.payment_status)"
   ]
  },
  {
   "cell_type": "code",
   "execution_count": 217,
   "metadata": {},
   "outputs": [
    {
     "data": {
      "application/vnd.plotly.v1+json": {
       "config": {
        "plotlyServerURL": "https://plot.ly"
       },
       "data": [
        {
         "type": "bar",
         "x": [
          -1,
          1,
          0,
          2
         ],
         "y": [
          8890,
          4783,
          3138,
          169
         ]
        }
       ],
       "layout": {
        "template": {
         "data": {
          "bar": [
           {
            "error_x": {
             "color": "#2a3f5f"
            },
            "error_y": {
             "color": "#2a3f5f"
            },
            "marker": {
             "line": {
              "color": "#E5ECF6",
              "width": 0.5
             },
             "pattern": {
              "fillmode": "overlay",
              "size": 10,
              "solidity": 0.2
             }
            },
            "type": "bar"
           }
          ],
          "barpolar": [
           {
            "marker": {
             "line": {
              "color": "#E5ECF6",
              "width": 0.5
             },
             "pattern": {
              "fillmode": "overlay",
              "size": 10,
              "solidity": 0.2
             }
            },
            "type": "barpolar"
           }
          ],
          "carpet": [
           {
            "aaxis": {
             "endlinecolor": "#2a3f5f",
             "gridcolor": "white",
             "linecolor": "white",
             "minorgridcolor": "white",
             "startlinecolor": "#2a3f5f"
            },
            "baxis": {
             "endlinecolor": "#2a3f5f",
             "gridcolor": "white",
             "linecolor": "white",
             "minorgridcolor": "white",
             "startlinecolor": "#2a3f5f"
            },
            "type": "carpet"
           }
          ],
          "choropleth": [
           {
            "colorbar": {
             "outlinewidth": 0,
             "ticks": ""
            },
            "type": "choropleth"
           }
          ],
          "contour": [
           {
            "colorbar": {
             "outlinewidth": 0,
             "ticks": ""
            },
            "colorscale": [
             [
              0,
              "#0d0887"
             ],
             [
              0.1111111111111111,
              "#46039f"
             ],
             [
              0.2222222222222222,
              "#7201a8"
             ],
             [
              0.3333333333333333,
              "#9c179e"
             ],
             [
              0.4444444444444444,
              "#bd3786"
             ],
             [
              0.5555555555555556,
              "#d8576b"
             ],
             [
              0.6666666666666666,
              "#ed7953"
             ],
             [
              0.7777777777777778,
              "#fb9f3a"
             ],
             [
              0.8888888888888888,
              "#fdca26"
             ],
             [
              1,
              "#f0f921"
             ]
            ],
            "type": "contour"
           }
          ],
          "contourcarpet": [
           {
            "colorbar": {
             "outlinewidth": 0,
             "ticks": ""
            },
            "type": "contourcarpet"
           }
          ],
          "heatmap": [
           {
            "colorbar": {
             "outlinewidth": 0,
             "ticks": ""
            },
            "colorscale": [
             [
              0,
              "#0d0887"
             ],
             [
              0.1111111111111111,
              "#46039f"
             ],
             [
              0.2222222222222222,
              "#7201a8"
             ],
             [
              0.3333333333333333,
              "#9c179e"
             ],
             [
              0.4444444444444444,
              "#bd3786"
             ],
             [
              0.5555555555555556,
              "#d8576b"
             ],
             [
              0.6666666666666666,
              "#ed7953"
             ],
             [
              0.7777777777777778,
              "#fb9f3a"
             ],
             [
              0.8888888888888888,
              "#fdca26"
             ],
             [
              1,
              "#f0f921"
             ]
            ],
            "type": "heatmap"
           }
          ],
          "heatmapgl": [
           {
            "colorbar": {
             "outlinewidth": 0,
             "ticks": ""
            },
            "colorscale": [
             [
              0,
              "#0d0887"
             ],
             [
              0.1111111111111111,
              "#46039f"
             ],
             [
              0.2222222222222222,
              "#7201a8"
             ],
             [
              0.3333333333333333,
              "#9c179e"
             ],
             [
              0.4444444444444444,
              "#bd3786"
             ],
             [
              0.5555555555555556,
              "#d8576b"
             ],
             [
              0.6666666666666666,
              "#ed7953"
             ],
             [
              0.7777777777777778,
              "#fb9f3a"
             ],
             [
              0.8888888888888888,
              "#fdca26"
             ],
             [
              1,
              "#f0f921"
             ]
            ],
            "type": "heatmapgl"
           }
          ],
          "histogram": [
           {
            "marker": {
             "pattern": {
              "fillmode": "overlay",
              "size": 10,
              "solidity": 0.2
             }
            },
            "type": "histogram"
           }
          ],
          "histogram2d": [
           {
            "colorbar": {
             "outlinewidth": 0,
             "ticks": ""
            },
            "colorscale": [
             [
              0,
              "#0d0887"
             ],
             [
              0.1111111111111111,
              "#46039f"
             ],
             [
              0.2222222222222222,
              "#7201a8"
             ],
             [
              0.3333333333333333,
              "#9c179e"
             ],
             [
              0.4444444444444444,
              "#bd3786"
             ],
             [
              0.5555555555555556,
              "#d8576b"
             ],
             [
              0.6666666666666666,
              "#ed7953"
             ],
             [
              0.7777777777777778,
              "#fb9f3a"
             ],
             [
              0.8888888888888888,
              "#fdca26"
             ],
             [
              1,
              "#f0f921"
             ]
            ],
            "type": "histogram2d"
           }
          ],
          "histogram2dcontour": [
           {
            "colorbar": {
             "outlinewidth": 0,
             "ticks": ""
            },
            "colorscale": [
             [
              0,
              "#0d0887"
             ],
             [
              0.1111111111111111,
              "#46039f"
             ],
             [
              0.2222222222222222,
              "#7201a8"
             ],
             [
              0.3333333333333333,
              "#9c179e"
             ],
             [
              0.4444444444444444,
              "#bd3786"
             ],
             [
              0.5555555555555556,
              "#d8576b"
             ],
             [
              0.6666666666666666,
              "#ed7953"
             ],
             [
              0.7777777777777778,
              "#fb9f3a"
             ],
             [
              0.8888888888888888,
              "#fdca26"
             ],
             [
              1,
              "#f0f921"
             ]
            ],
            "type": "histogram2dcontour"
           }
          ],
          "mesh3d": [
           {
            "colorbar": {
             "outlinewidth": 0,
             "ticks": ""
            },
            "type": "mesh3d"
           }
          ],
          "parcoords": [
           {
            "line": {
             "colorbar": {
              "outlinewidth": 0,
              "ticks": ""
             }
            },
            "type": "parcoords"
           }
          ],
          "pie": [
           {
            "automargin": true,
            "type": "pie"
           }
          ],
          "scatter": [
           {
            "fillpattern": {
             "fillmode": "overlay",
             "size": 10,
             "solidity": 0.2
            },
            "type": "scatter"
           }
          ],
          "scatter3d": [
           {
            "line": {
             "colorbar": {
              "outlinewidth": 0,
              "ticks": ""
             }
            },
            "marker": {
             "colorbar": {
              "outlinewidth": 0,
              "ticks": ""
             }
            },
            "type": "scatter3d"
           }
          ],
          "scattercarpet": [
           {
            "marker": {
             "colorbar": {
              "outlinewidth": 0,
              "ticks": ""
             }
            },
            "type": "scattercarpet"
           }
          ],
          "scattergeo": [
           {
            "marker": {
             "colorbar": {
              "outlinewidth": 0,
              "ticks": ""
             }
            },
            "type": "scattergeo"
           }
          ],
          "scattergl": [
           {
            "marker": {
             "colorbar": {
              "outlinewidth": 0,
              "ticks": ""
             }
            },
            "type": "scattergl"
           }
          ],
          "scattermapbox": [
           {
            "marker": {
             "colorbar": {
              "outlinewidth": 0,
              "ticks": ""
             }
            },
            "type": "scattermapbox"
           }
          ],
          "scatterpolar": [
           {
            "marker": {
             "colorbar": {
              "outlinewidth": 0,
              "ticks": ""
             }
            },
            "type": "scatterpolar"
           }
          ],
          "scatterpolargl": [
           {
            "marker": {
             "colorbar": {
              "outlinewidth": 0,
              "ticks": ""
             }
            },
            "type": "scatterpolargl"
           }
          ],
          "scatterternary": [
           {
            "marker": {
             "colorbar": {
              "outlinewidth": 0,
              "ticks": ""
             }
            },
            "type": "scatterternary"
           }
          ],
          "surface": [
           {
            "colorbar": {
             "outlinewidth": 0,
             "ticks": ""
            },
            "colorscale": [
             [
              0,
              "#0d0887"
             ],
             [
              0.1111111111111111,
              "#46039f"
             ],
             [
              0.2222222222222222,
              "#7201a8"
             ],
             [
              0.3333333333333333,
              "#9c179e"
             ],
             [
              0.4444444444444444,
              "#bd3786"
             ],
             [
              0.5555555555555556,
              "#d8576b"
             ],
             [
              0.6666666666666666,
              "#ed7953"
             ],
             [
              0.7777777777777778,
              "#fb9f3a"
             ],
             [
              0.8888888888888888,
              "#fdca26"
             ],
             [
              1,
              "#f0f921"
             ]
            ],
            "type": "surface"
           }
          ],
          "table": [
           {
            "cells": {
             "fill": {
              "color": "#EBF0F8"
             },
             "line": {
              "color": "white"
             }
            },
            "header": {
             "fill": {
              "color": "#C8D4E3"
             },
             "line": {
              "color": "white"
             }
            },
            "type": "table"
           }
          ]
         },
         "layout": {
          "annotationdefaults": {
           "arrowcolor": "#2a3f5f",
           "arrowhead": 0,
           "arrowwidth": 1
          },
          "autotypenumbers": "strict",
          "coloraxis": {
           "colorbar": {
            "outlinewidth": 0,
            "ticks": ""
           }
          },
          "colorscale": {
           "diverging": [
            [
             0,
             "#8e0152"
            ],
            [
             0.1,
             "#c51b7d"
            ],
            [
             0.2,
             "#de77ae"
            ],
            [
             0.3,
             "#f1b6da"
            ],
            [
             0.4,
             "#fde0ef"
            ],
            [
             0.5,
             "#f7f7f7"
            ],
            [
             0.6,
             "#e6f5d0"
            ],
            [
             0.7,
             "#b8e186"
            ],
            [
             0.8,
             "#7fbc41"
            ],
            [
             0.9,
             "#4d9221"
            ],
            [
             1,
             "#276419"
            ]
           ],
           "sequential": [
            [
             0,
             "#0d0887"
            ],
            [
             0.1111111111111111,
             "#46039f"
            ],
            [
             0.2222222222222222,
             "#7201a8"
            ],
            [
             0.3333333333333333,
             "#9c179e"
            ],
            [
             0.4444444444444444,
             "#bd3786"
            ],
            [
             0.5555555555555556,
             "#d8576b"
            ],
            [
             0.6666666666666666,
             "#ed7953"
            ],
            [
             0.7777777777777778,
             "#fb9f3a"
            ],
            [
             0.8888888888888888,
             "#fdca26"
            ],
            [
             1,
             "#f0f921"
            ]
           ],
           "sequentialminus": [
            [
             0,
             "#0d0887"
            ],
            [
             0.1111111111111111,
             "#46039f"
            ],
            [
             0.2222222222222222,
             "#7201a8"
            ],
            [
             0.3333333333333333,
             "#9c179e"
            ],
            [
             0.4444444444444444,
             "#bd3786"
            ],
            [
             0.5555555555555556,
             "#d8576b"
            ],
            [
             0.6666666666666666,
             "#ed7953"
            ],
            [
             0.7777777777777778,
             "#fb9f3a"
            ],
            [
             0.8888888888888888,
             "#fdca26"
            ],
            [
             1,
             "#f0f921"
            ]
           ]
          },
          "colorway": [
           "#636efa",
           "#EF553B",
           "#00cc96",
           "#ab63fa",
           "#FFA15A",
           "#19d3f3",
           "#FF6692",
           "#B6E880",
           "#FF97FF",
           "#FECB52"
          ],
          "font": {
           "color": "#2a3f5f"
          },
          "geo": {
           "bgcolor": "white",
           "lakecolor": "white",
           "landcolor": "#E5ECF6",
           "showlakes": true,
           "showland": true,
           "subunitcolor": "white"
          },
          "hoverlabel": {
           "align": "left"
          },
          "hovermode": "closest",
          "mapbox": {
           "style": "light"
          },
          "paper_bgcolor": "white",
          "plot_bgcolor": "#E5ECF6",
          "polar": {
           "angularaxis": {
            "gridcolor": "white",
            "linecolor": "white",
            "ticks": ""
           },
           "bgcolor": "#E5ECF6",
           "radialaxis": {
            "gridcolor": "white",
            "linecolor": "white",
            "ticks": ""
           }
          },
          "scene": {
           "xaxis": {
            "backgroundcolor": "#E5ECF6",
            "gridcolor": "white",
            "gridwidth": 2,
            "linecolor": "white",
            "showbackground": true,
            "ticks": "",
            "zerolinecolor": "white"
           },
           "yaxis": {
            "backgroundcolor": "#E5ECF6",
            "gridcolor": "white",
            "gridwidth": 2,
            "linecolor": "white",
            "showbackground": true,
            "ticks": "",
            "zerolinecolor": "white"
           },
           "zaxis": {
            "backgroundcolor": "#E5ECF6",
            "gridcolor": "white",
            "gridwidth": 2,
            "linecolor": "white",
            "showbackground": true,
            "ticks": "",
            "zerolinecolor": "white"
           }
          },
          "shapedefaults": {
           "line": {
            "color": "#2a3f5f"
           }
          },
          "ternary": {
           "aaxis": {
            "gridcolor": "white",
            "linecolor": "white",
            "ticks": ""
           },
           "baxis": {
            "gridcolor": "white",
            "linecolor": "white",
            "ticks": ""
           },
           "bgcolor": "#E5ECF6",
           "caxis": {
            "gridcolor": "white",
            "linecolor": "white",
            "ticks": ""
           }
          },
          "title": {
           "x": 0.05
          },
          "xaxis": {
           "automargin": true,
           "gridcolor": "white",
           "linecolor": "white",
           "ticks": "",
           "title": {
            "standoff": 15
           },
           "zerolinecolor": "white",
           "zerolinewidth": 2
          },
          "yaxis": {
           "automargin": true,
           "gridcolor": "white",
           "linecolor": "white",
           "ticks": "",
           "title": {
            "standoff": 15
           },
           "zerolinecolor": "white",
           "zerolinewidth": 2
          }
         }
        }
       }
      }
     },
     "metadata": {},
     "output_type": "display_data"
    }
   ],
   "source": [
    "y_list=[]\n",
    "for i in list(non_risk_user.payment_status.unique()):\n",
    "    y_list.append(non_risk_user[non_risk_user.payment_status==i].count()[0])\n",
    "\n",
    "fig = go.Figure([go.Bar(x=list(non_risk_user.payment_status.unique()), \n",
    "y=y_list)])\n",
    "fig\n"
   ]
  },
  {
   "cell_type": "markdown",
   "metadata": {},
   "source": [
    "- fig(6): Dieser Plot zeigt den Zahlungsstatus aller Non-Risk-User. Sie sind mit ihren Rückzahlungen Pünktlich oder nur leicht im Verzug, was einen starken Kontrast zu den Risk-Usern darstellt."
   ]
  },
  {
   "cell_type": "code",
   "execution_count": 218,
   "metadata": {},
   "outputs": [
    {
     "name": "stdout",
     "output_type": "stream",
     "text": [
      "Class=-1, n=8890 (52.35571260306242%)\n",
      "Class=1, n=4783 (28.16843345111896%)\n",
      "Class=0, n=3138 (18.480565371024735%)\n",
      "Class=2, n=169 (0.9952885747938751%)\n"
     ]
    }
   ],
   "source": [
    "class_count(non_risk_user.payment_status)"
   ]
  },
  {
   "cell_type": "code",
   "execution_count": 219,
   "metadata": {},
   "outputs": [
    {
     "data": {
      "application/vnd.plotly.v1+json": {
       "config": {
        "plotlyServerURL": "https://plot.ly"
       },
       "data": [
        {
         "type": "bar",
         "x": [
          "Co-op apartment",
          "House / apartment",
          "Rented apartment",
          "With parents",
          "Municipal apartment"
         ],
         "y": [
          1,
          54,
          1,
          3,
          4
         ]
        }
       ],
       "layout": {
        "template": {
         "data": {
          "bar": [
           {
            "error_x": {
             "color": "#2a3f5f"
            },
            "error_y": {
             "color": "#2a3f5f"
            },
            "marker": {
             "line": {
              "color": "#E5ECF6",
              "width": 0.5
             },
             "pattern": {
              "fillmode": "overlay",
              "size": 10,
              "solidity": 0.2
             }
            },
            "type": "bar"
           }
          ],
          "barpolar": [
           {
            "marker": {
             "line": {
              "color": "#E5ECF6",
              "width": 0.5
             },
             "pattern": {
              "fillmode": "overlay",
              "size": 10,
              "solidity": 0.2
             }
            },
            "type": "barpolar"
           }
          ],
          "carpet": [
           {
            "aaxis": {
             "endlinecolor": "#2a3f5f",
             "gridcolor": "white",
             "linecolor": "white",
             "minorgridcolor": "white",
             "startlinecolor": "#2a3f5f"
            },
            "baxis": {
             "endlinecolor": "#2a3f5f",
             "gridcolor": "white",
             "linecolor": "white",
             "minorgridcolor": "white",
             "startlinecolor": "#2a3f5f"
            },
            "type": "carpet"
           }
          ],
          "choropleth": [
           {
            "colorbar": {
             "outlinewidth": 0,
             "ticks": ""
            },
            "type": "choropleth"
           }
          ],
          "contour": [
           {
            "colorbar": {
             "outlinewidth": 0,
             "ticks": ""
            },
            "colorscale": [
             [
              0,
              "#0d0887"
             ],
             [
              0.1111111111111111,
              "#46039f"
             ],
             [
              0.2222222222222222,
              "#7201a8"
             ],
             [
              0.3333333333333333,
              "#9c179e"
             ],
             [
              0.4444444444444444,
              "#bd3786"
             ],
             [
              0.5555555555555556,
              "#d8576b"
             ],
             [
              0.6666666666666666,
              "#ed7953"
             ],
             [
              0.7777777777777778,
              "#fb9f3a"
             ],
             [
              0.8888888888888888,
              "#fdca26"
             ],
             [
              1,
              "#f0f921"
             ]
            ],
            "type": "contour"
           }
          ],
          "contourcarpet": [
           {
            "colorbar": {
             "outlinewidth": 0,
             "ticks": ""
            },
            "type": "contourcarpet"
           }
          ],
          "heatmap": [
           {
            "colorbar": {
             "outlinewidth": 0,
             "ticks": ""
            },
            "colorscale": [
             [
              0,
              "#0d0887"
             ],
             [
              0.1111111111111111,
              "#46039f"
             ],
             [
              0.2222222222222222,
              "#7201a8"
             ],
             [
              0.3333333333333333,
              "#9c179e"
             ],
             [
              0.4444444444444444,
              "#bd3786"
             ],
             [
              0.5555555555555556,
              "#d8576b"
             ],
             [
              0.6666666666666666,
              "#ed7953"
             ],
             [
              0.7777777777777778,
              "#fb9f3a"
             ],
             [
              0.8888888888888888,
              "#fdca26"
             ],
             [
              1,
              "#f0f921"
             ]
            ],
            "type": "heatmap"
           }
          ],
          "heatmapgl": [
           {
            "colorbar": {
             "outlinewidth": 0,
             "ticks": ""
            },
            "colorscale": [
             [
              0,
              "#0d0887"
             ],
             [
              0.1111111111111111,
              "#46039f"
             ],
             [
              0.2222222222222222,
              "#7201a8"
             ],
             [
              0.3333333333333333,
              "#9c179e"
             ],
             [
              0.4444444444444444,
              "#bd3786"
             ],
             [
              0.5555555555555556,
              "#d8576b"
             ],
             [
              0.6666666666666666,
              "#ed7953"
             ],
             [
              0.7777777777777778,
              "#fb9f3a"
             ],
             [
              0.8888888888888888,
              "#fdca26"
             ],
             [
              1,
              "#f0f921"
             ]
            ],
            "type": "heatmapgl"
           }
          ],
          "histogram": [
           {
            "marker": {
             "pattern": {
              "fillmode": "overlay",
              "size": 10,
              "solidity": 0.2
             }
            },
            "type": "histogram"
           }
          ],
          "histogram2d": [
           {
            "colorbar": {
             "outlinewidth": 0,
             "ticks": ""
            },
            "colorscale": [
             [
              0,
              "#0d0887"
             ],
             [
              0.1111111111111111,
              "#46039f"
             ],
             [
              0.2222222222222222,
              "#7201a8"
             ],
             [
              0.3333333333333333,
              "#9c179e"
             ],
             [
              0.4444444444444444,
              "#bd3786"
             ],
             [
              0.5555555555555556,
              "#d8576b"
             ],
             [
              0.6666666666666666,
              "#ed7953"
             ],
             [
              0.7777777777777778,
              "#fb9f3a"
             ],
             [
              0.8888888888888888,
              "#fdca26"
             ],
             [
              1,
              "#f0f921"
             ]
            ],
            "type": "histogram2d"
           }
          ],
          "histogram2dcontour": [
           {
            "colorbar": {
             "outlinewidth": 0,
             "ticks": ""
            },
            "colorscale": [
             [
              0,
              "#0d0887"
             ],
             [
              0.1111111111111111,
              "#46039f"
             ],
             [
              0.2222222222222222,
              "#7201a8"
             ],
             [
              0.3333333333333333,
              "#9c179e"
             ],
             [
              0.4444444444444444,
              "#bd3786"
             ],
             [
              0.5555555555555556,
              "#d8576b"
             ],
             [
              0.6666666666666666,
              "#ed7953"
             ],
             [
              0.7777777777777778,
              "#fb9f3a"
             ],
             [
              0.8888888888888888,
              "#fdca26"
             ],
             [
              1,
              "#f0f921"
             ]
            ],
            "type": "histogram2dcontour"
           }
          ],
          "mesh3d": [
           {
            "colorbar": {
             "outlinewidth": 0,
             "ticks": ""
            },
            "type": "mesh3d"
           }
          ],
          "parcoords": [
           {
            "line": {
             "colorbar": {
              "outlinewidth": 0,
              "ticks": ""
             }
            },
            "type": "parcoords"
           }
          ],
          "pie": [
           {
            "automargin": true,
            "type": "pie"
           }
          ],
          "scatter": [
           {
            "fillpattern": {
             "fillmode": "overlay",
             "size": 10,
             "solidity": 0.2
            },
            "type": "scatter"
           }
          ],
          "scatter3d": [
           {
            "line": {
             "colorbar": {
              "outlinewidth": 0,
              "ticks": ""
             }
            },
            "marker": {
             "colorbar": {
              "outlinewidth": 0,
              "ticks": ""
             }
            },
            "type": "scatter3d"
           }
          ],
          "scattercarpet": [
           {
            "marker": {
             "colorbar": {
              "outlinewidth": 0,
              "ticks": ""
             }
            },
            "type": "scattercarpet"
           }
          ],
          "scattergeo": [
           {
            "marker": {
             "colorbar": {
              "outlinewidth": 0,
              "ticks": ""
             }
            },
            "type": "scattergeo"
           }
          ],
          "scattergl": [
           {
            "marker": {
             "colorbar": {
              "outlinewidth": 0,
              "ticks": ""
             }
            },
            "type": "scattergl"
           }
          ],
          "scattermapbox": [
           {
            "marker": {
             "colorbar": {
              "outlinewidth": 0,
              "ticks": ""
             }
            },
            "type": "scattermapbox"
           }
          ],
          "scatterpolar": [
           {
            "marker": {
             "colorbar": {
              "outlinewidth": 0,
              "ticks": ""
             }
            },
            "type": "scatterpolar"
           }
          ],
          "scatterpolargl": [
           {
            "marker": {
             "colorbar": {
              "outlinewidth": 0,
              "ticks": ""
             }
            },
            "type": "scatterpolargl"
           }
          ],
          "scatterternary": [
           {
            "marker": {
             "colorbar": {
              "outlinewidth": 0,
              "ticks": ""
             }
            },
            "type": "scatterternary"
           }
          ],
          "surface": [
           {
            "colorbar": {
             "outlinewidth": 0,
             "ticks": ""
            },
            "colorscale": [
             [
              0,
              "#0d0887"
             ],
             [
              0.1111111111111111,
              "#46039f"
             ],
             [
              0.2222222222222222,
              "#7201a8"
             ],
             [
              0.3333333333333333,
              "#9c179e"
             ],
             [
              0.4444444444444444,
              "#bd3786"
             ],
             [
              0.5555555555555556,
              "#d8576b"
             ],
             [
              0.6666666666666666,
              "#ed7953"
             ],
             [
              0.7777777777777778,
              "#fb9f3a"
             ],
             [
              0.8888888888888888,
              "#fdca26"
             ],
             [
              1,
              "#f0f921"
             ]
            ],
            "type": "surface"
           }
          ],
          "table": [
           {
            "cells": {
             "fill": {
              "color": "#EBF0F8"
             },
             "line": {
              "color": "white"
             }
            },
            "header": {
             "fill": {
              "color": "#C8D4E3"
             },
             "line": {
              "color": "white"
             }
            },
            "type": "table"
           }
          ]
         },
         "layout": {
          "annotationdefaults": {
           "arrowcolor": "#2a3f5f",
           "arrowhead": 0,
           "arrowwidth": 1
          },
          "autotypenumbers": "strict",
          "coloraxis": {
           "colorbar": {
            "outlinewidth": 0,
            "ticks": ""
           }
          },
          "colorscale": {
           "diverging": [
            [
             0,
             "#8e0152"
            ],
            [
             0.1,
             "#c51b7d"
            ],
            [
             0.2,
             "#de77ae"
            ],
            [
             0.3,
             "#f1b6da"
            ],
            [
             0.4,
             "#fde0ef"
            ],
            [
             0.5,
             "#f7f7f7"
            ],
            [
             0.6,
             "#e6f5d0"
            ],
            [
             0.7,
             "#b8e186"
            ],
            [
             0.8,
             "#7fbc41"
            ],
            [
             0.9,
             "#4d9221"
            ],
            [
             1,
             "#276419"
            ]
           ],
           "sequential": [
            [
             0,
             "#0d0887"
            ],
            [
             0.1111111111111111,
             "#46039f"
            ],
            [
             0.2222222222222222,
             "#7201a8"
            ],
            [
             0.3333333333333333,
             "#9c179e"
            ],
            [
             0.4444444444444444,
             "#bd3786"
            ],
            [
             0.5555555555555556,
             "#d8576b"
            ],
            [
             0.6666666666666666,
             "#ed7953"
            ],
            [
             0.7777777777777778,
             "#fb9f3a"
            ],
            [
             0.8888888888888888,
             "#fdca26"
            ],
            [
             1,
             "#f0f921"
            ]
           ],
           "sequentialminus": [
            [
             0,
             "#0d0887"
            ],
            [
             0.1111111111111111,
             "#46039f"
            ],
            [
             0.2222222222222222,
             "#7201a8"
            ],
            [
             0.3333333333333333,
             "#9c179e"
            ],
            [
             0.4444444444444444,
             "#bd3786"
            ],
            [
             0.5555555555555556,
             "#d8576b"
            ],
            [
             0.6666666666666666,
             "#ed7953"
            ],
            [
             0.7777777777777778,
             "#fb9f3a"
            ],
            [
             0.8888888888888888,
             "#fdca26"
            ],
            [
             1,
             "#f0f921"
            ]
           ]
          },
          "colorway": [
           "#636efa",
           "#EF553B",
           "#00cc96",
           "#ab63fa",
           "#FFA15A",
           "#19d3f3",
           "#FF6692",
           "#B6E880",
           "#FF97FF",
           "#FECB52"
          ],
          "font": {
           "color": "#2a3f5f"
          },
          "geo": {
           "bgcolor": "white",
           "lakecolor": "white",
           "landcolor": "#E5ECF6",
           "showlakes": true,
           "showland": true,
           "subunitcolor": "white"
          },
          "hoverlabel": {
           "align": "left"
          },
          "hovermode": "closest",
          "mapbox": {
           "style": "light"
          },
          "paper_bgcolor": "white",
          "plot_bgcolor": "#E5ECF6",
          "polar": {
           "angularaxis": {
            "gridcolor": "white",
            "linecolor": "white",
            "ticks": ""
           },
           "bgcolor": "#E5ECF6",
           "radialaxis": {
            "gridcolor": "white",
            "linecolor": "white",
            "ticks": ""
           }
          },
          "scene": {
           "xaxis": {
            "backgroundcolor": "#E5ECF6",
            "gridcolor": "white",
            "gridwidth": 2,
            "linecolor": "white",
            "showbackground": true,
            "ticks": "",
            "zerolinecolor": "white"
           },
           "yaxis": {
            "backgroundcolor": "#E5ECF6",
            "gridcolor": "white",
            "gridwidth": 2,
            "linecolor": "white",
            "showbackground": true,
            "ticks": "",
            "zerolinecolor": "white"
           },
           "zaxis": {
            "backgroundcolor": "#E5ECF6",
            "gridcolor": "white",
            "gridwidth": 2,
            "linecolor": "white",
            "showbackground": true,
            "ticks": "",
            "zerolinecolor": "white"
           }
          },
          "shapedefaults": {
           "line": {
            "color": "#2a3f5f"
           }
          },
          "ternary": {
           "aaxis": {
            "gridcolor": "white",
            "linecolor": "white",
            "ticks": ""
           },
           "baxis": {
            "gridcolor": "white",
            "linecolor": "white",
            "ticks": ""
           },
           "bgcolor": "#E5ECF6",
           "caxis": {
            "gridcolor": "white",
            "linecolor": "white",
            "ticks": ""
           }
          },
          "title": {
           "x": 0.05
          },
          "xaxis": {
           "automargin": true,
           "gridcolor": "white",
           "linecolor": "white",
           "ticks": "",
           "title": {
            "standoff": 15
           },
           "zerolinecolor": "white",
           "zerolinewidth": 2
          },
          "yaxis": {
           "automargin": true,
           "gridcolor": "white",
           "linecolor": "white",
           "ticks": "",
           "title": {
            "standoff": 15
           },
           "zerolinecolor": "white",
           "zerolinewidth": 2
          }
         }
        }
       }
      }
     },
     "metadata": {},
     "output_type": "display_data"
    }
   ],
   "source": [
    "y_list=[]\n",
    "for i in list(risk_user.housing_type.unique()):\n",
    "    y_list.append(risk_user[risk_user.housing_type==i].count()[0])\n",
    "\n",
    "fig = go.Figure([go.Bar(x=list(risk_user.housing_type.unique()), \n",
    "y=y_list)])\n",
    "fig\n"
   ]
  },
  {
   "cell_type": "code",
   "execution_count": 220,
   "metadata": {},
   "outputs": [
    {
     "data": {
      "application/vnd.plotly.v1+json": {
       "config": {
        "plotlyServerURL": "https://plot.ly"
       },
       "data": [
        {
         "type": "bar",
         "x": [
          "House / apartment",
          "Rented apartment",
          "Municipal apartment",
          "With parents",
          "Co-op apartment",
          "Office apartment"
         ],
         "y": [
          14927,
          294,
          555,
          977,
          95,
          132
         ]
        }
       ],
       "layout": {
        "template": {
         "data": {
          "bar": [
           {
            "error_x": {
             "color": "#2a3f5f"
            },
            "error_y": {
             "color": "#2a3f5f"
            },
            "marker": {
             "line": {
              "color": "#E5ECF6",
              "width": 0.5
             },
             "pattern": {
              "fillmode": "overlay",
              "size": 10,
              "solidity": 0.2
             }
            },
            "type": "bar"
           }
          ],
          "barpolar": [
           {
            "marker": {
             "line": {
              "color": "#E5ECF6",
              "width": 0.5
             },
             "pattern": {
              "fillmode": "overlay",
              "size": 10,
              "solidity": 0.2
             }
            },
            "type": "barpolar"
           }
          ],
          "carpet": [
           {
            "aaxis": {
             "endlinecolor": "#2a3f5f",
             "gridcolor": "white",
             "linecolor": "white",
             "minorgridcolor": "white",
             "startlinecolor": "#2a3f5f"
            },
            "baxis": {
             "endlinecolor": "#2a3f5f",
             "gridcolor": "white",
             "linecolor": "white",
             "minorgridcolor": "white",
             "startlinecolor": "#2a3f5f"
            },
            "type": "carpet"
           }
          ],
          "choropleth": [
           {
            "colorbar": {
             "outlinewidth": 0,
             "ticks": ""
            },
            "type": "choropleth"
           }
          ],
          "contour": [
           {
            "colorbar": {
             "outlinewidth": 0,
             "ticks": ""
            },
            "colorscale": [
             [
              0,
              "#0d0887"
             ],
             [
              0.1111111111111111,
              "#46039f"
             ],
             [
              0.2222222222222222,
              "#7201a8"
             ],
             [
              0.3333333333333333,
              "#9c179e"
             ],
             [
              0.4444444444444444,
              "#bd3786"
             ],
             [
              0.5555555555555556,
              "#d8576b"
             ],
             [
              0.6666666666666666,
              "#ed7953"
             ],
             [
              0.7777777777777778,
              "#fb9f3a"
             ],
             [
              0.8888888888888888,
              "#fdca26"
             ],
             [
              1,
              "#f0f921"
             ]
            ],
            "type": "contour"
           }
          ],
          "contourcarpet": [
           {
            "colorbar": {
             "outlinewidth": 0,
             "ticks": ""
            },
            "type": "contourcarpet"
           }
          ],
          "heatmap": [
           {
            "colorbar": {
             "outlinewidth": 0,
             "ticks": ""
            },
            "colorscale": [
             [
              0,
              "#0d0887"
             ],
             [
              0.1111111111111111,
              "#46039f"
             ],
             [
              0.2222222222222222,
              "#7201a8"
             ],
             [
              0.3333333333333333,
              "#9c179e"
             ],
             [
              0.4444444444444444,
              "#bd3786"
             ],
             [
              0.5555555555555556,
              "#d8576b"
             ],
             [
              0.6666666666666666,
              "#ed7953"
             ],
             [
              0.7777777777777778,
              "#fb9f3a"
             ],
             [
              0.8888888888888888,
              "#fdca26"
             ],
             [
              1,
              "#f0f921"
             ]
            ],
            "type": "heatmap"
           }
          ],
          "heatmapgl": [
           {
            "colorbar": {
             "outlinewidth": 0,
             "ticks": ""
            },
            "colorscale": [
             [
              0,
              "#0d0887"
             ],
             [
              0.1111111111111111,
              "#46039f"
             ],
             [
              0.2222222222222222,
              "#7201a8"
             ],
             [
              0.3333333333333333,
              "#9c179e"
             ],
             [
              0.4444444444444444,
              "#bd3786"
             ],
             [
              0.5555555555555556,
              "#d8576b"
             ],
             [
              0.6666666666666666,
              "#ed7953"
             ],
             [
              0.7777777777777778,
              "#fb9f3a"
             ],
             [
              0.8888888888888888,
              "#fdca26"
             ],
             [
              1,
              "#f0f921"
             ]
            ],
            "type": "heatmapgl"
           }
          ],
          "histogram": [
           {
            "marker": {
             "pattern": {
              "fillmode": "overlay",
              "size": 10,
              "solidity": 0.2
             }
            },
            "type": "histogram"
           }
          ],
          "histogram2d": [
           {
            "colorbar": {
             "outlinewidth": 0,
             "ticks": ""
            },
            "colorscale": [
             [
              0,
              "#0d0887"
             ],
             [
              0.1111111111111111,
              "#46039f"
             ],
             [
              0.2222222222222222,
              "#7201a8"
             ],
             [
              0.3333333333333333,
              "#9c179e"
             ],
             [
              0.4444444444444444,
              "#bd3786"
             ],
             [
              0.5555555555555556,
              "#d8576b"
             ],
             [
              0.6666666666666666,
              "#ed7953"
             ],
             [
              0.7777777777777778,
              "#fb9f3a"
             ],
             [
              0.8888888888888888,
              "#fdca26"
             ],
             [
              1,
              "#f0f921"
             ]
            ],
            "type": "histogram2d"
           }
          ],
          "histogram2dcontour": [
           {
            "colorbar": {
             "outlinewidth": 0,
             "ticks": ""
            },
            "colorscale": [
             [
              0,
              "#0d0887"
             ],
             [
              0.1111111111111111,
              "#46039f"
             ],
             [
              0.2222222222222222,
              "#7201a8"
             ],
             [
              0.3333333333333333,
              "#9c179e"
             ],
             [
              0.4444444444444444,
              "#bd3786"
             ],
             [
              0.5555555555555556,
              "#d8576b"
             ],
             [
              0.6666666666666666,
              "#ed7953"
             ],
             [
              0.7777777777777778,
              "#fb9f3a"
             ],
             [
              0.8888888888888888,
              "#fdca26"
             ],
             [
              1,
              "#f0f921"
             ]
            ],
            "type": "histogram2dcontour"
           }
          ],
          "mesh3d": [
           {
            "colorbar": {
             "outlinewidth": 0,
             "ticks": ""
            },
            "type": "mesh3d"
           }
          ],
          "parcoords": [
           {
            "line": {
             "colorbar": {
              "outlinewidth": 0,
              "ticks": ""
             }
            },
            "type": "parcoords"
           }
          ],
          "pie": [
           {
            "automargin": true,
            "type": "pie"
           }
          ],
          "scatter": [
           {
            "fillpattern": {
             "fillmode": "overlay",
             "size": 10,
             "solidity": 0.2
            },
            "type": "scatter"
           }
          ],
          "scatter3d": [
           {
            "line": {
             "colorbar": {
              "outlinewidth": 0,
              "ticks": ""
             }
            },
            "marker": {
             "colorbar": {
              "outlinewidth": 0,
              "ticks": ""
             }
            },
            "type": "scatter3d"
           }
          ],
          "scattercarpet": [
           {
            "marker": {
             "colorbar": {
              "outlinewidth": 0,
              "ticks": ""
             }
            },
            "type": "scattercarpet"
           }
          ],
          "scattergeo": [
           {
            "marker": {
             "colorbar": {
              "outlinewidth": 0,
              "ticks": ""
             }
            },
            "type": "scattergeo"
           }
          ],
          "scattergl": [
           {
            "marker": {
             "colorbar": {
              "outlinewidth": 0,
              "ticks": ""
             }
            },
            "type": "scattergl"
           }
          ],
          "scattermapbox": [
           {
            "marker": {
             "colorbar": {
              "outlinewidth": 0,
              "ticks": ""
             }
            },
            "type": "scattermapbox"
           }
          ],
          "scatterpolar": [
           {
            "marker": {
             "colorbar": {
              "outlinewidth": 0,
              "ticks": ""
             }
            },
            "type": "scatterpolar"
           }
          ],
          "scatterpolargl": [
           {
            "marker": {
             "colorbar": {
              "outlinewidth": 0,
              "ticks": ""
             }
            },
            "type": "scatterpolargl"
           }
          ],
          "scatterternary": [
           {
            "marker": {
             "colorbar": {
              "outlinewidth": 0,
              "ticks": ""
             }
            },
            "type": "scatterternary"
           }
          ],
          "surface": [
           {
            "colorbar": {
             "outlinewidth": 0,
             "ticks": ""
            },
            "colorscale": [
             [
              0,
              "#0d0887"
             ],
             [
              0.1111111111111111,
              "#46039f"
             ],
             [
              0.2222222222222222,
              "#7201a8"
             ],
             [
              0.3333333333333333,
              "#9c179e"
             ],
             [
              0.4444444444444444,
              "#bd3786"
             ],
             [
              0.5555555555555556,
              "#d8576b"
             ],
             [
              0.6666666666666666,
              "#ed7953"
             ],
             [
              0.7777777777777778,
              "#fb9f3a"
             ],
             [
              0.8888888888888888,
              "#fdca26"
             ],
             [
              1,
              "#f0f921"
             ]
            ],
            "type": "surface"
           }
          ],
          "table": [
           {
            "cells": {
             "fill": {
              "color": "#EBF0F8"
             },
             "line": {
              "color": "white"
             }
            },
            "header": {
             "fill": {
              "color": "#C8D4E3"
             },
             "line": {
              "color": "white"
             }
            },
            "type": "table"
           }
          ]
         },
         "layout": {
          "annotationdefaults": {
           "arrowcolor": "#2a3f5f",
           "arrowhead": 0,
           "arrowwidth": 1
          },
          "autotypenumbers": "strict",
          "coloraxis": {
           "colorbar": {
            "outlinewidth": 0,
            "ticks": ""
           }
          },
          "colorscale": {
           "diverging": [
            [
             0,
             "#8e0152"
            ],
            [
             0.1,
             "#c51b7d"
            ],
            [
             0.2,
             "#de77ae"
            ],
            [
             0.3,
             "#f1b6da"
            ],
            [
             0.4,
             "#fde0ef"
            ],
            [
             0.5,
             "#f7f7f7"
            ],
            [
             0.6,
             "#e6f5d0"
            ],
            [
             0.7,
             "#b8e186"
            ],
            [
             0.8,
             "#7fbc41"
            ],
            [
             0.9,
             "#4d9221"
            ],
            [
             1,
             "#276419"
            ]
           ],
           "sequential": [
            [
             0,
             "#0d0887"
            ],
            [
             0.1111111111111111,
             "#46039f"
            ],
            [
             0.2222222222222222,
             "#7201a8"
            ],
            [
             0.3333333333333333,
             "#9c179e"
            ],
            [
             0.4444444444444444,
             "#bd3786"
            ],
            [
             0.5555555555555556,
             "#d8576b"
            ],
            [
             0.6666666666666666,
             "#ed7953"
            ],
            [
             0.7777777777777778,
             "#fb9f3a"
            ],
            [
             0.8888888888888888,
             "#fdca26"
            ],
            [
             1,
             "#f0f921"
            ]
           ],
           "sequentialminus": [
            [
             0,
             "#0d0887"
            ],
            [
             0.1111111111111111,
             "#46039f"
            ],
            [
             0.2222222222222222,
             "#7201a8"
            ],
            [
             0.3333333333333333,
             "#9c179e"
            ],
            [
             0.4444444444444444,
             "#bd3786"
            ],
            [
             0.5555555555555556,
             "#d8576b"
            ],
            [
             0.6666666666666666,
             "#ed7953"
            ],
            [
             0.7777777777777778,
             "#fb9f3a"
            ],
            [
             0.8888888888888888,
             "#fdca26"
            ],
            [
             1,
             "#f0f921"
            ]
           ]
          },
          "colorway": [
           "#636efa",
           "#EF553B",
           "#00cc96",
           "#ab63fa",
           "#FFA15A",
           "#19d3f3",
           "#FF6692",
           "#B6E880",
           "#FF97FF",
           "#FECB52"
          ],
          "font": {
           "color": "#2a3f5f"
          },
          "geo": {
           "bgcolor": "white",
           "lakecolor": "white",
           "landcolor": "#E5ECF6",
           "showlakes": true,
           "showland": true,
           "subunitcolor": "white"
          },
          "hoverlabel": {
           "align": "left"
          },
          "hovermode": "closest",
          "mapbox": {
           "style": "light"
          },
          "paper_bgcolor": "white",
          "plot_bgcolor": "#E5ECF6",
          "polar": {
           "angularaxis": {
            "gridcolor": "white",
            "linecolor": "white",
            "ticks": ""
           },
           "bgcolor": "#E5ECF6",
           "radialaxis": {
            "gridcolor": "white",
            "linecolor": "white",
            "ticks": ""
           }
          },
          "scene": {
           "xaxis": {
            "backgroundcolor": "#E5ECF6",
            "gridcolor": "white",
            "gridwidth": 2,
            "linecolor": "white",
            "showbackground": true,
            "ticks": "",
            "zerolinecolor": "white"
           },
           "yaxis": {
            "backgroundcolor": "#E5ECF6",
            "gridcolor": "white",
            "gridwidth": 2,
            "linecolor": "white",
            "showbackground": true,
            "ticks": "",
            "zerolinecolor": "white"
           },
           "zaxis": {
            "backgroundcolor": "#E5ECF6",
            "gridcolor": "white",
            "gridwidth": 2,
            "linecolor": "white",
            "showbackground": true,
            "ticks": "",
            "zerolinecolor": "white"
           }
          },
          "shapedefaults": {
           "line": {
            "color": "#2a3f5f"
           }
          },
          "ternary": {
           "aaxis": {
            "gridcolor": "white",
            "linecolor": "white",
            "ticks": ""
           },
           "baxis": {
            "gridcolor": "white",
            "linecolor": "white",
            "ticks": ""
           },
           "bgcolor": "#E5ECF6",
           "caxis": {
            "gridcolor": "white",
            "linecolor": "white",
            "ticks": ""
           }
          },
          "title": {
           "x": 0.05
          },
          "xaxis": {
           "automargin": true,
           "gridcolor": "white",
           "linecolor": "white",
           "ticks": "",
           "title": {
            "standoff": 15
           },
           "zerolinecolor": "white",
           "zerolinewidth": 2
          },
          "yaxis": {
           "automargin": true,
           "gridcolor": "white",
           "linecolor": "white",
           "ticks": "",
           "title": {
            "standoff": 15
           },
           "zerolinecolor": "white",
           "zerolinewidth": 2
          }
         }
        }
       }
      }
     },
     "metadata": {},
     "output_type": "display_data"
    }
   ],
   "source": [
    "y_list=[]\n",
    "for i in list(non_risk_user.housing_type.unique()):\n",
    "    y_list.append(non_risk_user[non_risk_user.housing_type==i].count()[0])\n",
    "\n",
    "fig = go.Figure([go.Bar(x=list(non_risk_user.housing_type.unique()), \n",
    "y=y_list)])\n",
    "fig\n",
    "\n"
   ]
  },
  {
   "cell_type": "markdown",
   "metadata": {},
   "source": [
    "\n",
    "Mögliche Lösung für unbalanced Dataset: <br>\n",
    "- __over sampling__: Ein Ansatz zur Behandlung unausgewogener Datensätze besteht darin, die Minderheitsklasse zu \"oversample\". Der einfachste Ansatz besteht darin, Beispiele in der Minderheitsklasse zu duplizieren, diese Beispiele gibt dem Modell keine neuen Informationen. Es werden neue Beispiele aus den bestehenden Beispielen synthetisiert. Dies ist eine Art Datenvermehrung für die Minderheitsschicht und wird als Synthetic Minority Oversampling Technique, kurz SMOTE, bezeichnet. <br> <br>\n",
    "Diese Möglichkeit ist in der PyCarat Bikliothek integriert. Mit __fix_imbalance is True__\n",
    ", wird der unausgewogene Datensatz angepasst. Auf __Default__ ist der __fit_resample__ Methode auf SMOTE festgelegt.<br> <br>\n",
    "\n",
    "- __under ampling__: Under-Sampling gleicht den Datensatz aus, indem die Größe der reichlich vorhandenen Klasse reduziert wird. Diese Methode wird verwendet, wenn die Datenmenge ausreicht. Indem alle Stichproben in der seltenen Klasse gehalten werden und zufällig eine gleiche Anzahl von Stichproben in der reichlich vorhandenen Klasse ausgewählt wird, kann ein ausgewogener neuer Datensatz zur weiteren Modellierung abgerufen werden<br><br>\n",
    "@Chengyi Hua<br> "
   ]
  },
  {
   "cell_type": "markdown",
   "metadata": {},
   "source": [
    "## Versuche mit PyCarat <br>"
   ]
  },
  {
   "cell_type": "markdown",
   "metadata": {},
   "source": [
    "### Gründe für die Benutzung von PyCaret, ein Open-scource ML Bibliothek.\n",
    "\n",
    "PyCaret ist eine Open-Source-Low-Code-Bibliothek für maschinelles Lernen in Python, die Arbeitsabläufe für maschinelles Lernen automatisiert. Es ist ein End-to-End-Tool für maschinelles Lernen und Modellmanagement, das den Experimentzyklus exponentiell beschleunigt und sie produktiver macht.\n",
    "<br>\n",
    "<br>\n",
    "Verglichen mit den anderen Open-Source-Bibliotheken für maschinelles Lernen ist PyCaret eine alternative Low-Code-Bibliothek, mit der Hunderte von Codezeilen durch nur wenige Zeilen ersetzt werden können. Dies macht Experimente exponentiell schnell und effizient. PyCaret ist im Wesentlichen ein Python-Wrapper um mehrere Bibliotheken und Frameworks für maschinelles Lernen wie scikit-learn, XGBoost, LightGBM, CatBoost, spaCy, Optuna, Hyperopt, Ray und einige mehr.\n",
    "<br>\n",
    "<br>\n",
    "Da immer mehr Unternehmen ihren Fokus auf maschinelles Lernen verlagern, um schwierige Probleme anzugehen, werden von Datenwissenschaftlern erwartet, dass sie schneller Ergebnisse liefern können. Dies hat die Nachfrage nach der Automatisierung wichtiger Phasen in Data-Science-Projekten erhöht, sodass sich Data Scientists auf das eigentliche Problem konzentrieren können, anstatt Hunderte von Codezeilen zu schreiben, um das optimale Modell zu identifizieren.\n",
    "\n",
    "@Chengyi Hua\n",
    "\n",
    "theorie tratifiedkfold und kfold unterscheid und verwendung.  im Bezug auf Pycarat\n",
    "\n",
    "theorie: Cross validierung, weil es hier verwendet wird"
   ]
  },
  {
   "cell_type": "code",
   "execution_count": null,
   "metadata": {},
   "outputs": [],
   "source": [
    "cca_for_test = cca_unique_id.drop(['BEGIN_MONTHS','payment_status'], axis= 1)\n",
    "training_data = cca_for_test.sample(frac=0.8, random_state=25)\n",
    "testing_data = cca_for_test.drop(training_data.index)\n"
   ]
  },
  {
   "cell_type": "markdown",
   "metadata": {},
   "source": [
    "## Oversamplingansatz"
   ]
  },
  {
   "cell_type": "markdown",
   "metadata": {},
   "source": [
    "theorie: SMOTE"
   ]
  },
  {
   "cell_type": "code",
   "execution_count": null,
   "metadata": {},
   "outputs": [],
   "source": [
    "\n",
    "stp = pycaret.classification.setup(data = training_data, target = 'risk_user', train_size = 0.8,\n",
    "            categorical_features = categorical_features, fold_strategy = 'kfold',\n",
    "            fix_imbalance = True, fix_imbalance_method = imblearn.over_sampling.SMOTE(), fold = 10,\n",
    "            ignore_features = ['applicant_ID'],\n",
    "            use_gpu=True,shuffle=True)"
   ]
  },
  {
   "cell_type": "code",
   "execution_count": 13,
   "metadata": {},
   "outputs": [
    {
     "data": {
      "text/html": [],
      "text/plain": [
       "<IPython.core.display.HTML object>"
      ]
     },
     "metadata": {},
     "output_type": "display_data"
    },
    {
     "data": {
      "text/html": [
       "<style type=\"text/css\">\n",
       "#T_127a9_ th {\n",
       "  text-align: left;\n",
       "}\n",
       "#T_127a9_row0_col0, #T_127a9_row0_col3, #T_127a9_row0_col4, #T_127a9_row0_col5, #T_127a9_row0_col6, #T_127a9_row0_col7, #T_127a9_row1_col0, #T_127a9_row1_col2, #T_127a9_row1_col3, #T_127a9_row1_col5, #T_127a9_row1_col6, #T_127a9_row1_col7, #T_127a9_row2_col0, #T_127a9_row2_col1, #T_127a9_row2_col2, #T_127a9_row2_col3, #T_127a9_row2_col4, #T_127a9_row2_col5, #T_127a9_row2_col6, #T_127a9_row2_col7, #T_127a9_row3_col0, #T_127a9_row3_col1, #T_127a9_row3_col2, #T_127a9_row3_col3, #T_127a9_row3_col4, #T_127a9_row3_col5, #T_127a9_row3_col6, #T_127a9_row3_col7, #T_127a9_row4_col0, #T_127a9_row4_col1, #T_127a9_row4_col2, #T_127a9_row4_col3, #T_127a9_row4_col4, #T_127a9_row4_col5, #T_127a9_row4_col6, #T_127a9_row4_col7, #T_127a9_row5_col0, #T_127a9_row5_col1, #T_127a9_row5_col2, #T_127a9_row5_col3, #T_127a9_row5_col4, #T_127a9_row5_col5, #T_127a9_row5_col6, #T_127a9_row5_col7, #T_127a9_row6_col0, #T_127a9_row6_col1, #T_127a9_row6_col2, #T_127a9_row6_col3, #T_127a9_row6_col4, #T_127a9_row6_col5, #T_127a9_row6_col6, #T_127a9_row6_col7, #T_127a9_row7_col0, #T_127a9_row7_col1, #T_127a9_row7_col2, #T_127a9_row7_col3, #T_127a9_row7_col4, #T_127a9_row8_col0, #T_127a9_row8_col1, #T_127a9_row8_col2, #T_127a9_row8_col3, #T_127a9_row8_col4, #T_127a9_row8_col5, #T_127a9_row8_col6, #T_127a9_row8_col7, #T_127a9_row9_col0, #T_127a9_row9_col1, #T_127a9_row9_col2, #T_127a9_row9_col3, #T_127a9_row9_col4, #T_127a9_row9_col5, #T_127a9_row9_col6, #T_127a9_row9_col7, #T_127a9_row10_col0, #T_127a9_row10_col1, #T_127a9_row10_col2, #T_127a9_row10_col3, #T_127a9_row10_col4, #T_127a9_row10_col5, #T_127a9_row10_col6, #T_127a9_row10_col7, #T_127a9_row11_col0, #T_127a9_row11_col1, #T_127a9_row11_col2, #T_127a9_row11_col3, #T_127a9_row11_col4, #T_127a9_row11_col5, #T_127a9_row11_col6, #T_127a9_row11_col7, #T_127a9_row12_col0, #T_127a9_row12_col1, #T_127a9_row12_col2, #T_127a9_row12_col3, #T_127a9_row12_col4, #T_127a9_row12_col5, #T_127a9_row12_col6, #T_127a9_row12_col7, #T_127a9_row13_col0, #T_127a9_row13_col1, #T_127a9_row13_col2, #T_127a9_row13_col4, #T_127a9_row13_col5, #T_127a9_row13_col6, #T_127a9_row13_col7 {\n",
       "  text-align: left;\n",
       "}\n",
       "#T_127a9_row0_col1, #T_127a9_row0_col2, #T_127a9_row1_col1, #T_127a9_row1_col4, #T_127a9_row7_col5, #T_127a9_row7_col6, #T_127a9_row7_col7, #T_127a9_row13_col3 {\n",
       "  text-align: left;\n",
       "  background-color: yellow;\n",
       "}\n",
       "#T_127a9_row0_col8, #T_127a9_row1_col8, #T_127a9_row2_col8, #T_127a9_row3_col8, #T_127a9_row4_col8, #T_127a9_row5_col8, #T_127a9_row6_col8, #T_127a9_row7_col8, #T_127a9_row8_col8, #T_127a9_row10_col8, #T_127a9_row11_col8, #T_127a9_row12_col8, #T_127a9_row13_col8 {\n",
       "  text-align: left;\n",
       "  background-color: lightgrey;\n",
       "}\n",
       "#T_127a9_row9_col8 {\n",
       "  text-align: left;\n",
       "  background-color: yellow;\n",
       "  background-color: lightgrey;\n",
       "}\n",
       "</style>\n",
       "<table id=\"T_127a9_\">\n",
       "  <thead>\n",
       "    <tr>\n",
       "      <th class=\"blank level0\" >&nbsp;</th>\n",
       "      <th class=\"col_heading level0 col0\" >Model</th>\n",
       "      <th class=\"col_heading level0 col1\" >Accuracy</th>\n",
       "      <th class=\"col_heading level0 col2\" >AUC</th>\n",
       "      <th class=\"col_heading level0 col3\" >Recall</th>\n",
       "      <th class=\"col_heading level0 col4\" >Prec.</th>\n",
       "      <th class=\"col_heading level0 col5\" >F1</th>\n",
       "      <th class=\"col_heading level0 col6\" >Kappa</th>\n",
       "      <th class=\"col_heading level0 col7\" >MCC</th>\n",
       "      <th class=\"col_heading level0 col8\" >TT (Sec)</th>\n",
       "    </tr>\n",
       "  </thead>\n",
       "  <tbody>\n",
       "    <tr>\n",
       "      <th id=\"T_127a9_level0_row0\" class=\"row_heading level0 row0\" >rf</th>\n",
       "      <td id=\"T_127a9_row0_col0\" class=\"data row0 col0\" >Random Forest Classifier</td>\n",
       "      <td id=\"T_127a9_row0_col1\" class=\"data row0 col1\" >0.9968</td>\n",
       "      <td id=\"T_127a9_row0_col2\" class=\"data row0 col2\" >0.9701</td>\n",
       "      <td id=\"T_127a9_row0_col3\" class=\"data row0 col3\" >0.0000</td>\n",
       "      <td id=\"T_127a9_row0_col4\" class=\"data row0 col4\" >0.0000</td>\n",
       "      <td id=\"T_127a9_row0_col5\" class=\"data row0 col5\" >0.0000</td>\n",
       "      <td id=\"T_127a9_row0_col6\" class=\"data row0 col6\" >-0.0002</td>\n",
       "      <td id=\"T_127a9_row0_col7\" class=\"data row0 col7\" >-0.0002</td>\n",
       "      <td id=\"T_127a9_row0_col8\" class=\"data row0 col8\" >1.3690</td>\n",
       "    </tr>\n",
       "    <tr>\n",
       "      <th id=\"T_127a9_level0_row1\" class=\"row_heading level0 row1\" >et</th>\n",
       "      <td id=\"T_127a9_row1_col0\" class=\"data row1 col0\" >Extra Trees Classifier</td>\n",
       "      <td id=\"T_127a9_row1_col1\" class=\"data row1 col1\" >0.9968</td>\n",
       "      <td id=\"T_127a9_row1_col2\" class=\"data row1 col2\" >0.9358</td>\n",
       "      <td id=\"T_127a9_row1_col3\" class=\"data row1 col3\" >0.0778</td>\n",
       "      <td id=\"T_127a9_row1_col4\" class=\"data row1 col4\" >0.3000</td>\n",
       "      <td id=\"T_127a9_row1_col5\" class=\"data row1 col5\" >0.1232</td>\n",
       "      <td id=\"T_127a9_row1_col6\" class=\"data row1 col6\" >0.1224</td>\n",
       "      <td id=\"T_127a9_row1_col7\" class=\"data row1 col7\" >0.1516</td>\n",
       "      <td id=\"T_127a9_row1_col8\" class=\"data row1 col8\" >1.0510</td>\n",
       "    </tr>\n",
       "    <tr>\n",
       "      <th id=\"T_127a9_level0_row2\" class=\"row_heading level0 row2\" >dt</th>\n",
       "      <td id=\"T_127a9_row2_col0\" class=\"data row2 col0\" >Decision Tree Classifier</td>\n",
       "      <td id=\"T_127a9_row2_col1\" class=\"data row2 col1\" >0.9948</td>\n",
       "      <td id=\"T_127a9_row2_col2\" class=\"data row2 col2\" >0.5294</td>\n",
       "      <td id=\"T_127a9_row2_col3\" class=\"data row2 col3\" >0.0611</td>\n",
       "      <td id=\"T_127a9_row2_col4\" class=\"data row2 col4\" >0.2000</td>\n",
       "      <td id=\"T_127a9_row2_col5\" class=\"data row2 col5\" >0.0915</td>\n",
       "      <td id=\"T_127a9_row2_col6\" class=\"data row2 col6\" >0.0902</td>\n",
       "      <td id=\"T_127a9_row2_col7\" class=\"data row2 col7\" >0.1074</td>\n",
       "      <td id=\"T_127a9_row2_col8\" class=\"data row2 col8\" >0.4740</td>\n",
       "    </tr>\n",
       "    <tr>\n",
       "      <th id=\"T_127a9_level0_row3\" class=\"row_heading level0 row3\" >xgboost</th>\n",
       "      <td id=\"T_127a9_row3_col0\" class=\"data row3 col0\" >Extreme Gradient Boosting</td>\n",
       "      <td id=\"T_127a9_row3_col1\" class=\"data row3 col1\" >0.9942</td>\n",
       "      <td id=\"T_127a9_row3_col2\" class=\"data row3 col2\" >0.9428</td>\n",
       "      <td id=\"T_127a9_row3_col3\" class=\"data row3 col3\" >0.0750</td>\n",
       "      <td id=\"T_127a9_row3_col4\" class=\"data row3 col4\" >0.1029</td>\n",
       "      <td id=\"T_127a9_row3_col5\" class=\"data row3 col5\" >0.0454</td>\n",
       "      <td id=\"T_127a9_row3_col6\" class=\"data row3 col6\" >0.0441</td>\n",
       "      <td id=\"T_127a9_row3_col7\" class=\"data row3 col7\" >0.0604</td>\n",
       "      <td id=\"T_127a9_row3_col8\" class=\"data row3 col8\" >1.7660</td>\n",
       "    </tr>\n",
       "    <tr>\n",
       "      <th id=\"T_127a9_level0_row4\" class=\"row_heading level0 row4\" >ada</th>\n",
       "      <td id=\"T_127a9_row4_col0\" class=\"data row4 col0\" >Ada Boost Classifier</td>\n",
       "      <td id=\"T_127a9_row4_col1\" class=\"data row4 col1\" >0.9928</td>\n",
       "      <td id=\"T_127a9_row4_col2\" class=\"data row4 col2\" >0.9155</td>\n",
       "      <td id=\"T_127a9_row4_col3\" class=\"data row4 col3\" >0.1250</td>\n",
       "      <td id=\"T_127a9_row4_col4\" class=\"data row4 col4\" >0.2053</td>\n",
       "      <td id=\"T_127a9_row4_col5\" class=\"data row4 col5\" >0.1040</td>\n",
       "      <td id=\"T_127a9_row4_col6\" class=\"data row4 col6\" >0.1023</td>\n",
       "      <td id=\"T_127a9_row4_col7\" class=\"data row4 col7\" >0.1246</td>\n",
       "      <td id=\"T_127a9_row4_col8\" class=\"data row4 col8\" >1.2020</td>\n",
       "    </tr>\n",
       "    <tr>\n",
       "      <th id=\"T_127a9_level0_row5\" class=\"row_heading level0 row5\" >knn</th>\n",
       "      <td id=\"T_127a9_row5_col0\" class=\"data row5 col0\" >K Neighbors Classifier</td>\n",
       "      <td id=\"T_127a9_row5_col1\" class=\"data row5 col1\" >0.9882</td>\n",
       "      <td id=\"T_127a9_row5_col2\" class=\"data row5 col2\" >0.6789</td>\n",
       "      <td id=\"T_127a9_row5_col3\" class=\"data row5 col3\" >0.2528</td>\n",
       "      <td id=\"T_127a9_row5_col4\" class=\"data row5 col4\" >0.0753</td>\n",
       "      <td id=\"T_127a9_row5_col5\" class=\"data row5 col5\" >0.1124</td>\n",
       "      <td id=\"T_127a9_row5_col6\" class=\"data row5 col6\" >0.1083</td>\n",
       "      <td id=\"T_127a9_row5_col7\" class=\"data row5 col7\" >0.1301</td>\n",
       "      <td id=\"T_127a9_row5_col8\" class=\"data row5 col8\" >0.5990</td>\n",
       "    </tr>\n",
       "    <tr>\n",
       "      <th id=\"T_127a9_level0_row6\" class=\"row_heading level0 row6\" >lightgbm</th>\n",
       "      <td id=\"T_127a9_row6_col0\" class=\"data row6 col0\" >Light Gradient Boosting Machine</td>\n",
       "      <td id=\"T_127a9_row6_col1\" class=\"data row6 col1\" >0.9869</td>\n",
       "      <td id=\"T_127a9_row6_col2\" class=\"data row6 col2\" >0.6993</td>\n",
       "      <td id=\"T_127a9_row6_col3\" class=\"data row6 col3\" >0.0000</td>\n",
       "      <td id=\"T_127a9_row6_col4\" class=\"data row6 col4\" >0.0000</td>\n",
       "      <td id=\"T_127a9_row6_col5\" class=\"data row6 col5\" >0.0000</td>\n",
       "      <td id=\"T_127a9_row6_col6\" class=\"data row6 col6\" >-0.0016</td>\n",
       "      <td id=\"T_127a9_row6_col7\" class=\"data row6 col7\" >-0.0026</td>\n",
       "      <td id=\"T_127a9_row6_col8\" class=\"data row6 col8\" >0.6270</td>\n",
       "    </tr>\n",
       "    <tr>\n",
       "      <th id=\"T_127a9_level0_row7\" class=\"row_heading level0 row7\" >nb</th>\n",
       "      <td id=\"T_127a9_row7_col0\" class=\"data row7 col0\" >Naive Bayes</td>\n",
       "      <td id=\"T_127a9_row7_col1\" class=\"data row7 col1\" >0.9769</td>\n",
       "      <td id=\"T_127a9_row7_col2\" class=\"data row7 col2\" >0.9614</td>\n",
       "      <td id=\"T_127a9_row7_col3\" class=\"data row7 col3\" >0.7667</td>\n",
       "      <td id=\"T_127a9_row7_col4\" class=\"data row7 col4\" >0.1007</td>\n",
       "      <td id=\"T_127a9_row7_col5\" class=\"data row7 col5\" >0.1733</td>\n",
       "      <td id=\"T_127a9_row7_col6\" class=\"data row7 col6\" >0.1690</td>\n",
       "      <td id=\"T_127a9_row7_col7\" class=\"data row7 col7\" >0.2652</td>\n",
       "      <td id=\"T_127a9_row7_col8\" class=\"data row7 col8\" >0.3920</td>\n",
       "    </tr>\n",
       "    <tr>\n",
       "      <th id=\"T_127a9_level0_row8\" class=\"row_heading level0 row8\" >lda</th>\n",
       "      <td id=\"T_127a9_row8_col0\" class=\"data row8 col0\" >Linear Discriminant Analysis</td>\n",
       "      <td id=\"T_127a9_row8_col1\" class=\"data row8 col1\" >0.9639</td>\n",
       "      <td id=\"T_127a9_row8_col2\" class=\"data row8 col2\" >0.9511</td>\n",
       "      <td id=\"T_127a9_row8_col3\" class=\"data row8 col3\" >0.7250</td>\n",
       "      <td id=\"T_127a9_row8_col4\" class=\"data row8 col4\" >0.0611</td>\n",
       "      <td id=\"T_127a9_row8_col5\" class=\"data row8 col5\" >0.1118</td>\n",
       "      <td id=\"T_127a9_row8_col6\" class=\"data row8 col6\" >0.1068</td>\n",
       "      <td id=\"T_127a9_row8_col7\" class=\"data row8 col7\" >0.2012</td>\n",
       "      <td id=\"T_127a9_row8_col8\" class=\"data row8 col8\" >0.5170</td>\n",
       "    </tr>\n",
       "    <tr>\n",
       "      <th id=\"T_127a9_level0_row9\" class=\"row_heading level0 row9\" >ridge</th>\n",
       "      <td id=\"T_127a9_row9_col0\" class=\"data row9 col0\" >Ridge Classifier</td>\n",
       "      <td id=\"T_127a9_row9_col1\" class=\"data row9 col1\" >0.9636</td>\n",
       "      <td id=\"T_127a9_row9_col2\" class=\"data row9 col2\" >0.0000</td>\n",
       "      <td id=\"T_127a9_row9_col3\" class=\"data row9 col3\" >0.7667</td>\n",
       "      <td id=\"T_127a9_row9_col4\" class=\"data row9 col4\" >0.0617</td>\n",
       "      <td id=\"T_127a9_row9_col5\" class=\"data row9 col5\" >0.1131</td>\n",
       "      <td id=\"T_127a9_row9_col6\" class=\"data row9 col6\" >0.1081</td>\n",
       "      <td id=\"T_127a9_row9_col7\" class=\"data row9 col7\" >0.2074</td>\n",
       "      <td id=\"T_127a9_row9_col8\" class=\"data row9 col8\" >0.3720</td>\n",
       "    </tr>\n",
       "    <tr>\n",
       "      <th id=\"T_127a9_level0_row10\" class=\"row_heading level0 row10\" >gbc</th>\n",
       "      <td id=\"T_127a9_row10_col0\" class=\"data row10 col0\" >Gradient Boosting Classifier</td>\n",
       "      <td id=\"T_127a9_row10_col1\" class=\"data row10 col1\" >0.9313</td>\n",
       "      <td id=\"T_127a9_row10_col2\" class=\"data row10 col2\" >0.9149</td>\n",
       "      <td id=\"T_127a9_row10_col3\" class=\"data row10 col3\" >0.0667</td>\n",
       "      <td id=\"T_127a9_row10_col4\" class=\"data row10 col4\" >0.0501</td>\n",
       "      <td id=\"T_127a9_row10_col5\" class=\"data row10 col5\" >0.0252</td>\n",
       "      <td id=\"T_127a9_row10_col6\" class=\"data row10 col6\" >0.0233</td>\n",
       "      <td id=\"T_127a9_row10_col7\" class=\"data row10 col7\" >0.0260</td>\n",
       "      <td id=\"T_127a9_row10_col8\" class=\"data row10 col8\" >3.3460</td>\n",
       "    </tr>\n",
       "    <tr>\n",
       "      <th id=\"T_127a9_level0_row11\" class=\"row_heading level0 row11\" >svm</th>\n",
       "      <td id=\"T_127a9_row11_col0\" class=\"data row11 col0\" >SVM - Linear Kernel</td>\n",
       "      <td id=\"T_127a9_row11_col1\" class=\"data row11 col1\" >0.7977</td>\n",
       "      <td id=\"T_127a9_row11_col2\" class=\"data row11 col2\" >0.0000</td>\n",
       "      <td id=\"T_127a9_row11_col3\" class=\"data row11 col3\" >0.2000</td>\n",
       "      <td id=\"T_127a9_row11_col4\" class=\"data row11 col4\" >0.0004</td>\n",
       "      <td id=\"T_127a9_row11_col5\" class=\"data row11 col5\" >0.0007</td>\n",
       "      <td id=\"T_127a9_row11_col6\" class=\"data row11 col6\" >0.0000</td>\n",
       "      <td id=\"T_127a9_row11_col7\" class=\"data row11 col7\" >0.0000</td>\n",
       "      <td id=\"T_127a9_row11_col8\" class=\"data row11 col8\" >0.8910</td>\n",
       "    </tr>\n",
       "    <tr>\n",
       "      <th id=\"T_127a9_level0_row12\" class=\"row_heading level0 row12\" >lr</th>\n",
       "      <td id=\"T_127a9_row12_col0\" class=\"data row12 col0\" >Logistic Regression</td>\n",
       "      <td id=\"T_127a9_row12_col1\" class=\"data row12 col1\" >0.4914</td>\n",
       "      <td id=\"T_127a9_row12_col2\" class=\"data row12 col2\" >0.7024</td>\n",
       "      <td id=\"T_127a9_row12_col3\" class=\"data row12 col3\" >0.8417</td>\n",
       "      <td id=\"T_127a9_row12_col4\" class=\"data row12 col4\" >0.0489</td>\n",
       "      <td id=\"T_127a9_row12_col5\" class=\"data row12 col5\" >0.0840</td>\n",
       "      <td id=\"T_127a9_row12_col6\" class=\"data row12 col6\" >0.0796</td>\n",
       "      <td id=\"T_127a9_row12_col7\" class=\"data row12 col7\" >0.1221</td>\n",
       "      <td id=\"T_127a9_row12_col8\" class=\"data row12 col8\" >2.1280</td>\n",
       "    </tr>\n",
       "    <tr>\n",
       "      <th id=\"T_127a9_level0_row13\" class=\"row_heading level0 row13\" >qda</th>\n",
       "      <td id=\"T_127a9_row13_col0\" class=\"data row13 col0\" >Quadratic Discriminant Analysis</td>\n",
       "      <td id=\"T_127a9_row13_col1\" class=\"data row13 col1\" >0.4815</td>\n",
       "      <td id=\"T_127a9_row13_col2\" class=\"data row13 col2\" >0.8140</td>\n",
       "      <td id=\"T_127a9_row13_col3\" class=\"data row13 col3\" >0.8611</td>\n",
       "      <td id=\"T_127a9_row13_col4\" class=\"data row13 col4\" >0.0055</td>\n",
       "      <td id=\"T_127a9_row13_col5\" class=\"data row13 col5\" >0.0110</td>\n",
       "      <td id=\"T_127a9_row13_col6\" class=\"data row13 col6\" >0.0050</td>\n",
       "      <td id=\"T_127a9_row13_col7\" class=\"data row13 col7\" >0.0390</td>\n",
       "      <td id=\"T_127a9_row13_col8\" class=\"data row13 col8\" >0.4530</td>\n",
       "    </tr>\n",
       "  </tbody>\n",
       "</table>\n"
      ],
      "text/plain": [
       "<pandas.io.formats.style.Styler at 0x179ecf73e80>"
      ]
     },
     "metadata": {},
     "output_type": "display_data"
    },
    {
     "data": {
      "application/vnd.jupyter.widget-view+json": {
       "model_id": "ee774526c983495fbe7ec9aa3eabc5c0",
       "version_major": 2,
       "version_minor": 0
      },
      "text/plain": [
       "Processing:   0%|          | 0/45 [00:00<?, ?it/s]"
      ]
     },
     "metadata": {},
     "output_type": "display_data"
    }
   ],
   "source": [
    "best_model_with_oversampling = compare_models(exclude= 'dummy')"
   ]
  },
  {
   "cell_type": "markdown",
   "metadata": {},
   "source": [
    "exclude dummy algorithm because of bad results and because it doesn't support feature importance"
   ]
  },
  {
   "cell_type": "code",
   "execution_count": 20,
   "metadata": {},
   "outputs": [
    {
     "data": {
      "text/html": [],
      "text/plain": [
       "<IPython.core.display.HTML object>"
      ]
     },
     "metadata": {},
     "output_type": "display_data"
    },
    {
     "data": {
      "image/png": "[encoded data removed]",
      "text/plain": [
       "<Figure size 432x288 with 1 Axes>"
      ]
     },
     "metadata": {
      "needs_background": "light"
     },
     "output_type": "display_data"
    }
   ],
   "source": [
    "plot_model(best_model_with_oversampling, plot = 'confusion_matrix')"
   ]
  },
  {
   "cell_type": "markdown",
   "metadata": {},
   "source": [
    "### Erkenntnis\n"
   ]
  },
  {
   "cell_type": "code",
   "execution_count": 15,
   "metadata": {},
   "outputs": [
    {
     "data": {
      "text/html": [],
      "text/plain": [
       "<IPython.core.display.HTML object>"
      ]
     },
     "metadata": {},
     "output_type": "display_data"
    },
    {
     "data": {
      "image/png": "[encoded data removed]",
      "text/plain": [
       "<Figure size 800x500 with 1 Axes>"
      ]
     },
     "metadata": {
      "needs_background": "light"
     },
     "output_type": "display_data"
    }
   ],
   "source": [
    "plot_model(best_model_with_oversampling, plot='feature')"
   ]
  },
  {
   "cell_type": "code",
   "execution_count": 21,
   "metadata": {},
   "outputs": [],
   "source": [
    "#evaluate_model(best_model_with_oversampling)"
   ]
  },
  {
   "cell_type": "markdown",
   "metadata": {},
   "source": [
    "## Downsamplingansatz\n"
   ]
  },
  {
   "cell_type": "markdown",
   "metadata": {},
   "source": [
    "\n",
    "\n",
    "thoerie: Undersampling Methode: Nearmiss"
   ]
  },
  {
   "cell_type": "code",
   "execution_count": 22,
   "metadata": {},
   "outputs": [
    {
     "data": {
      "text/html": [
       "<style type=\"text/css\">\n",
       "#T_46a64_row12_col1, #T_46a64_row18_col1 {\n",
       "  background-color: lightgreen;\n",
       "}\n",
       "</style>\n",
       "<table id=\"T_46a64_\">\n",
       "  <thead>\n",
       "    <tr>\n",
       "      <th class=\"blank level0\" >&nbsp;</th>\n",
       "      <th class=\"col_heading level0 col0\" >Description</th>\n",
       "      <th class=\"col_heading level0 col1\" >Value</th>\n",
       "    </tr>\n",
       "  </thead>\n",
       "  <tbody>\n",
       "    <tr>\n",
       "      <th id=\"T_46a64_level0_row0\" class=\"row_heading level0 row0\" >0</th>\n",
       "      <td id=\"T_46a64_row0_col0\" class=\"data row0 col0\" >Session id</td>\n",
       "      <td id=\"T_46a64_row0_col1\" class=\"data row0 col1\" >5219</td>\n",
       "    </tr>\n",
       "    <tr>\n",
       "      <th id=\"T_46a64_level0_row1\" class=\"row_heading level0 row1\" >1</th>\n",
       "      <td id=\"T_46a64_row1_col0\" class=\"data row1 col0\" >Target</td>\n",
       "      <td id=\"T_46a64_row1_col1\" class=\"data row1 col1\" >risk_user</td>\n",
       "    </tr>\n",
       "    <tr>\n",
       "      <th id=\"T_46a64_level0_row2\" class=\"row_heading level0 row2\" >2</th>\n",
       "      <td id=\"T_46a64_row2_col0\" class=\"data row2 col0\" >Target type</td>\n",
       "      <td id=\"T_46a64_row2_col1\" class=\"data row2 col1\" >Binary</td>\n",
       "    </tr>\n",
       "    <tr>\n",
       "      <th id=\"T_46a64_level0_row3\" class=\"row_heading level0 row3\" >3</th>\n",
       "      <td id=\"T_46a64_row3_col0\" class=\"data row3 col0\" >Target mapping</td>\n",
       "      <td id=\"T_46a64_row3_col1\" class=\"data row3 col1\" >N: 0, Y: 1</td>\n",
       "    </tr>\n",
       "    <tr>\n",
       "      <th id=\"T_46a64_level0_row4\" class=\"row_heading level0 row4\" >4</th>\n",
       "      <td id=\"T_46a64_row4_col0\" class=\"data row4 col0\" >Original data shape</td>\n",
       "      <td id=\"T_46a64_row4_col1\" class=\"data row4 col1\" >(20107, 18)</td>\n",
       "    </tr>\n",
       "    <tr>\n",
       "      <th id=\"T_46a64_level0_row5\" class=\"row_heading level0 row5\" >5</th>\n",
       "      <td id=\"T_46a64_row5_col0\" class=\"data row5 col0\" >Transformed data shape</td>\n",
       "      <td id=\"T_46a64_row5_col1\" class=\"data row5 col1\" >(4120, 28)</td>\n",
       "    </tr>\n",
       "    <tr>\n",
       "      <th id=\"T_46a64_level0_row6\" class=\"row_heading level0 row6\" >6</th>\n",
       "      <td id=\"T_46a64_row6_col0\" class=\"data row6 col0\" >Transformed train set shape</td>\n",
       "      <td id=\"T_46a64_row6_col1\" class=\"data row6 col1\" >(98, 28)</td>\n",
       "    </tr>\n",
       "    <tr>\n",
       "      <th id=\"T_46a64_level0_row7\" class=\"row_heading level0 row7\" >7</th>\n",
       "      <td id=\"T_46a64_row7_col0\" class=\"data row7 col0\" >Transformed test set shape</td>\n",
       "      <td id=\"T_46a64_row7_col1\" class=\"data row7 col1\" >(4022, 28)</td>\n",
       "    </tr>\n",
       "    <tr>\n",
       "      <th id=\"T_46a64_level0_row8\" class=\"row_heading level0 row8\" >8</th>\n",
       "      <td id=\"T_46a64_row8_col0\" class=\"data row8 col0\" >Ignore features</td>\n",
       "      <td id=\"T_46a64_row8_col1\" class=\"data row8 col1\" >1</td>\n",
       "    </tr>\n",
       "    <tr>\n",
       "      <th id=\"T_46a64_level0_row9\" class=\"row_heading level0 row9\" >9</th>\n",
       "      <td id=\"T_46a64_row9_col0\" class=\"data row9 col0\" >Ordinal features</td>\n",
       "      <td id=\"T_46a64_row9_col1\" class=\"data row9 col1\" >3</td>\n",
       "    </tr>\n",
       "    <tr>\n",
       "      <th id=\"T_46a64_level0_row10\" class=\"row_heading level0 row10\" >10</th>\n",
       "      <td id=\"T_46a64_row10_col0\" class=\"data row10 col0\" >Numeric features</td>\n",
       "      <td id=\"T_46a64_row10_col1\" class=\"data row10 col1\" >9</td>\n",
       "    </tr>\n",
       "    <tr>\n",
       "      <th id=\"T_46a64_level0_row11\" class=\"row_heading level0 row11\" >11</th>\n",
       "      <td id=\"T_46a64_row11_col0\" class=\"data row11 col0\" >Categorical features</td>\n",
       "      <td id=\"T_46a64_row11_col1\" class=\"data row11 col1\" >8</td>\n",
       "    </tr>\n",
       "    <tr>\n",
       "      <th id=\"T_46a64_level0_row12\" class=\"row_heading level0 row12\" >12</th>\n",
       "      <td id=\"T_46a64_row12_col0\" class=\"data row12 col0\" >Preprocess</td>\n",
       "      <td id=\"T_46a64_row12_col1\" class=\"data row12 col1\" >True</td>\n",
       "    </tr>\n",
       "    <tr>\n",
       "      <th id=\"T_46a64_level0_row13\" class=\"row_heading level0 row13\" >13</th>\n",
       "      <td id=\"T_46a64_row13_col0\" class=\"data row13 col0\" >Imputation type</td>\n",
       "      <td id=\"T_46a64_row13_col1\" class=\"data row13 col1\" >simple</td>\n",
       "    </tr>\n",
       "    <tr>\n",
       "      <th id=\"T_46a64_level0_row14\" class=\"row_heading level0 row14\" >14</th>\n",
       "      <td id=\"T_46a64_row14_col0\" class=\"data row14 col0\" >Numeric imputation</td>\n",
       "      <td id=\"T_46a64_row14_col1\" class=\"data row14 col1\" >mean</td>\n",
       "    </tr>\n",
       "    <tr>\n",
       "      <th id=\"T_46a64_level0_row15\" class=\"row_heading level0 row15\" >15</th>\n",
       "      <td id=\"T_46a64_row15_col0\" class=\"data row15 col0\" >Categorical imputation</td>\n",
       "      <td id=\"T_46a64_row15_col1\" class=\"data row15 col1\" >constant</td>\n",
       "    </tr>\n",
       "    <tr>\n",
       "      <th id=\"T_46a64_level0_row16\" class=\"row_heading level0 row16\" >16</th>\n",
       "      <td id=\"T_46a64_row16_col0\" class=\"data row16 col0\" >Maximum one-hot encoding</td>\n",
       "      <td id=\"T_46a64_row16_col1\" class=\"data row16 col1\" >5</td>\n",
       "    </tr>\n",
       "    <tr>\n",
       "      <th id=\"T_46a64_level0_row17\" class=\"row_heading level0 row17\" >17</th>\n",
       "      <td id=\"T_46a64_row17_col0\" class=\"data row17 col0\" >Encoding method</td>\n",
       "      <td id=\"T_46a64_row17_col1\" class=\"data row17 col1\" >None</td>\n",
       "    </tr>\n",
       "    <tr>\n",
       "      <th id=\"T_46a64_level0_row18\" class=\"row_heading level0 row18\" >18</th>\n",
       "      <td id=\"T_46a64_row18_col0\" class=\"data row18 col0\" >Fix imbalance</td>\n",
       "      <td id=\"T_46a64_row18_col1\" class=\"data row18 col1\" >True</td>\n",
       "    </tr>\n",
       "    <tr>\n",
       "      <th id=\"T_46a64_level0_row19\" class=\"row_heading level0 row19\" >19</th>\n",
       "      <td id=\"T_46a64_row19_col0\" class=\"data row19 col0\" >Fix imbalance method</td>\n",
       "      <td id=\"T_46a64_row19_col1\" class=\"data row19 col1\" >NearMiss(n_jobs=None, n_neighbors=3, n_neighbors_ver3=3,\n",
       "         sampling_strategy='auto', version=1)</td>\n",
       "    </tr>\n",
       "    <tr>\n",
       "      <th id=\"T_46a64_level0_row20\" class=\"row_heading level0 row20\" >20</th>\n",
       "      <td id=\"T_46a64_row20_col0\" class=\"data row20 col0\" >Fold Generator</td>\n",
       "      <td id=\"T_46a64_row20_col1\" class=\"data row20 col1\" >KFold</td>\n",
       "    </tr>\n",
       "    <tr>\n",
       "      <th id=\"T_46a64_level0_row21\" class=\"row_heading level0 row21\" >21</th>\n",
       "      <td id=\"T_46a64_row21_col0\" class=\"data row21 col0\" >Fold Number</td>\n",
       "      <td id=\"T_46a64_row21_col1\" class=\"data row21 col1\" >10</td>\n",
       "    </tr>\n",
       "    <tr>\n",
       "      <th id=\"T_46a64_level0_row22\" class=\"row_heading level0 row22\" >22</th>\n",
       "      <td id=\"T_46a64_row22_col0\" class=\"data row22 col0\" >CPU Jobs</td>\n",
       "      <td id=\"T_46a64_row22_col1\" class=\"data row22 col1\" >-1</td>\n",
       "    </tr>\n",
       "    <tr>\n",
       "      <th id=\"T_46a64_level0_row23\" class=\"row_heading level0 row23\" >23</th>\n",
       "      <td id=\"T_46a64_row23_col0\" class=\"data row23 col0\" >Use GPU</td>\n",
       "      <td id=\"T_46a64_row23_col1\" class=\"data row23 col1\" >False</td>\n",
       "    </tr>\n",
       "    <tr>\n",
       "      <th id=\"T_46a64_level0_row24\" class=\"row_heading level0 row24\" >24</th>\n",
       "      <td id=\"T_46a64_row24_col0\" class=\"data row24 col0\" >Log Experiment</td>\n",
       "      <td id=\"T_46a64_row24_col1\" class=\"data row24 col1\" >False</td>\n",
       "    </tr>\n",
       "    <tr>\n",
       "      <th id=\"T_46a64_level0_row25\" class=\"row_heading level0 row25\" >25</th>\n",
       "      <td id=\"T_46a64_row25_col0\" class=\"data row25 col0\" >Experiment Name</td>\n",
       "      <td id=\"T_46a64_row25_col1\" class=\"data row25 col1\" >clf-default-name</td>\n",
       "    </tr>\n",
       "    <tr>\n",
       "      <th id=\"T_46a64_level0_row26\" class=\"row_heading level0 row26\" >26</th>\n",
       "      <td id=\"T_46a64_row26_col0\" class=\"data row26 col0\" >USI</td>\n",
       "      <td id=\"T_46a64_row26_col1\" class=\"data row26 col1\" >b7d6</td>\n",
       "    </tr>\n",
       "  </tbody>\n",
       "</table>\n"
      ],
      "text/plain": [
       "<pandas.io.formats.style.Styler at 0x179f479e400>"
      ]
     },
     "metadata": {},
     "output_type": "display_data"
    }
   ],
   "source": [
    "stp_downsampled = pycaret.classification.setup(data = training_data, target = 'risk_user', train_size = 0.8,\n",
    "            categorical_features = ['gender','owning_car','children_amt', 'owning_property', 'education_level',\n",
    "                                    'marital_status', 'housing_type', \n",
    "                                    'job'],  fold_strategy = 'kfold',\n",
    "            fix_imbalance = True, fix_imbalance_method = imblearn.under_sampling.NearMiss() , fold = 10,\n",
    "            ignore_features = ['applicant_ID'])"
   ]
  },
  {
   "cell_type": "code",
   "execution_count": 23,
   "metadata": {},
   "outputs": [
    {
     "data": {
      "text/html": [],
      "text/plain": [
       "<IPython.core.display.HTML object>"
      ]
     },
     "metadata": {},
     "output_type": "display_data"
    },
    {
     "data": {
      "text/html": [
       "<style type=\"text/css\">\n",
       "#T_237a2_ th {\n",
       "  text-align: left;\n",
       "}\n",
       "#T_237a2_row0_col0, #T_237a2_row0_col3, #T_237a2_row0_col7, #T_237a2_row1_col0, #T_237a2_row1_col1, #T_237a2_row1_col2, #T_237a2_row1_col3, #T_237a2_row1_col4, #T_237a2_row1_col5, #T_237a2_row1_col6, #T_237a2_row1_col7, #T_237a2_row2_col0, #T_237a2_row2_col1, #T_237a2_row2_col2, #T_237a2_row2_col3, #T_237a2_row2_col4, #T_237a2_row2_col5, #T_237a2_row2_col6, #T_237a2_row2_col7, #T_237a2_row3_col0, #T_237a2_row3_col1, #T_237a2_row3_col2, #T_237a2_row3_col3, #T_237a2_row3_col4, #T_237a2_row3_col5, #T_237a2_row3_col6, #T_237a2_row4_col0, #T_237a2_row4_col1, #T_237a2_row4_col2, #T_237a2_row4_col3, #T_237a2_row4_col4, #T_237a2_row4_col5, #T_237a2_row4_col6, #T_237a2_row4_col7, #T_237a2_row5_col0, #T_237a2_row5_col1, #T_237a2_row5_col2, #T_237a2_row5_col3, #T_237a2_row5_col4, #T_237a2_row5_col5, #T_237a2_row5_col6, #T_237a2_row5_col7, #T_237a2_row6_col0, #T_237a2_row6_col1, #T_237a2_row6_col2, #T_237a2_row6_col3, #T_237a2_row6_col4, #T_237a2_row6_col5, #T_237a2_row6_col6, #T_237a2_row6_col7, #T_237a2_row7_col0, #T_237a2_row7_col1, #T_237a2_row7_col2, #T_237a2_row7_col4, #T_237a2_row7_col5, #T_237a2_row7_col6, #T_237a2_row7_col7, #T_237a2_row8_col0, #T_237a2_row8_col1, #T_237a2_row8_col2, #T_237a2_row8_col3, #T_237a2_row8_col4, #T_237a2_row8_col5, #T_237a2_row8_col6, #T_237a2_row8_col7, #T_237a2_row9_col0, #T_237a2_row9_col1, #T_237a2_row9_col2, #T_237a2_row9_col3, #T_237a2_row9_col4, #T_237a2_row9_col5, #T_237a2_row9_col6, #T_237a2_row9_col7, #T_237a2_row10_col0, #T_237a2_row10_col1, #T_237a2_row10_col2, #T_237a2_row10_col3, #T_237a2_row10_col4, #T_237a2_row10_col5, #T_237a2_row10_col6, #T_237a2_row10_col7, #T_237a2_row11_col0, #T_237a2_row11_col1, #T_237a2_row11_col2, #T_237a2_row11_col3, #T_237a2_row11_col4, #T_237a2_row11_col5, #T_237a2_row11_col6, #T_237a2_row11_col7, #T_237a2_row12_col0, #T_237a2_row12_col1, #T_237a2_row12_col2, #T_237a2_row12_col3, #T_237a2_row12_col4, #T_237a2_row12_col5, #T_237a2_row12_col6, #T_237a2_row12_col7, #T_237a2_row13_col0, #T_237a2_row13_col1, #T_237a2_row13_col2, #T_237a2_row13_col3, #T_237a2_row13_col4, #T_237a2_row13_col5, #T_237a2_row13_col6, #T_237a2_row13_col7 {\n",
       "  text-align: left;\n",
       "}\n",
       "#T_237a2_row0_col1, #T_237a2_row0_col2, #T_237a2_row0_col4, #T_237a2_row0_col5, #T_237a2_row0_col6, #T_237a2_row3_col7, #T_237a2_row7_col3 {\n",
       "  text-align: left;\n",
       "  background-color: yellow;\n",
       "}\n",
       "#T_237a2_row0_col8, #T_237a2_row1_col8, #T_237a2_row2_col8, #T_237a2_row3_col8, #T_237a2_row4_col8, #T_237a2_row6_col8, #T_237a2_row7_col8, #T_237a2_row8_col8, #T_237a2_row9_col8, #T_237a2_row10_col8, #T_237a2_row11_col8, #T_237a2_row12_col8, #T_237a2_row13_col8 {\n",
       "  text-align: left;\n",
       "  background-color: lightgrey;\n",
       "}\n",
       "#T_237a2_row5_col8 {\n",
       "  text-align: left;\n",
       "  background-color: yellow;\n",
       "  background-color: lightgrey;\n",
       "}\n",
       "</style>\n",
       "<table id=\"T_237a2_\">\n",
       "  <thead>\n",
       "    <tr>\n",
       "      <th class=\"blank level0\" >&nbsp;</th>\n",
       "      <th class=\"col_heading level0 col0\" >Model</th>\n",
       "      <th class=\"col_heading level0 col1\" >Accuracy</th>\n",
       "      <th class=\"col_heading level0 col2\" >AUC</th>\n",
       "      <th class=\"col_heading level0 col3\" >Recall</th>\n",
       "      <th class=\"col_heading level0 col4\" >Prec.</th>\n",
       "      <th class=\"col_heading level0 col5\" >F1</th>\n",
       "      <th class=\"col_heading level0 col6\" >Kappa</th>\n",
       "      <th class=\"col_heading level0 col7\" >MCC</th>\n",
       "      <th class=\"col_heading level0 col8\" >TT (Sec)</th>\n",
       "    </tr>\n",
       "  </thead>\n",
       "  <tbody>\n",
       "    <tr>\n",
       "      <th id=\"T_237a2_level0_row0\" class=\"row_heading level0 row0\" >lightgbm</th>\n",
       "      <td id=\"T_237a2_row0_col0\" class=\"data row0 col0\" >Light Gradient Boosting Machine</td>\n",
       "      <td id=\"T_237a2_row0_col1\" class=\"data row0 col1\" >0.9480</td>\n",
       "      <td id=\"T_237a2_row0_col2\" class=\"data row0 col2\" >0.9151</td>\n",
       "      <td id=\"T_237a2_row0_col3\" class=\"data row0 col3\" >0.3921</td>\n",
       "      <td id=\"T_237a2_row0_col4\" class=\"data row0 col4\" >0.0405</td>\n",
       "      <td id=\"T_237a2_row0_col5\" class=\"data row0 col5\" >0.0709</td>\n",
       "      <td id=\"T_237a2_row0_col6\" class=\"data row0 col6\" >0.0659</td>\n",
       "      <td id=\"T_237a2_row0_col7\" class=\"data row0 col7\" >0.1098</td>\n",
       "      <td id=\"T_237a2_row0_col8\" class=\"data row0 col8\" >0.4840</td>\n",
       "    </tr>\n",
       "    <tr>\n",
       "      <th id=\"T_237a2_level0_row1\" class=\"row_heading level0 row1\" >xgboost</th>\n",
       "      <td id=\"T_237a2_row1_col0\" class=\"data row1 col0\" >Extreme Gradient Boosting</td>\n",
       "      <td id=\"T_237a2_row1_col1\" class=\"data row1 col1\" >0.9417</td>\n",
       "      <td id=\"T_237a2_row1_col2\" class=\"data row1 col2\" >0.8592</td>\n",
       "      <td id=\"T_237a2_row1_col3\" class=\"data row1 col3\" >0.4088</td>\n",
       "      <td id=\"T_237a2_row1_col4\" class=\"data row1 col4\" >0.0398</td>\n",
       "      <td id=\"T_237a2_row1_col5\" class=\"data row1 col5\" >0.0657</td>\n",
       "      <td id=\"T_237a2_row1_col6\" class=\"data row1 col6\" >0.0608</td>\n",
       "      <td id=\"T_237a2_row1_col7\" class=\"data row1 col7\" >0.1023</td>\n",
       "      <td id=\"T_237a2_row1_col8\" class=\"data row1 col8\" >0.5760</td>\n",
       "    </tr>\n",
       "    <tr>\n",
       "      <th id=\"T_237a2_level0_row2\" class=\"row_heading level0 row2\" >gbc</th>\n",
       "      <td id=\"T_237a2_row2_col0\" class=\"data row2 col0\" >Gradient Boosting Classifier</td>\n",
       "      <td id=\"T_237a2_row2_col1\" class=\"data row2 col1\" >0.8494</td>\n",
       "      <td id=\"T_237a2_row2_col2\" class=\"data row2 col2\" >0.5382</td>\n",
       "      <td id=\"T_237a2_row2_col3\" class=\"data row2 col3\" >0.2583</td>\n",
       "      <td id=\"T_237a2_row2_col4\" class=\"data row2 col4\" >0.0044</td>\n",
       "      <td id=\"T_237a2_row2_col5\" class=\"data row2 col5\" >0.0085</td>\n",
       "      <td id=\"T_237a2_row2_col6\" class=\"data row2 col6\" >0.0038</td>\n",
       "      <td id=\"T_237a2_row2_col7\" class=\"data row2 col7\" >0.0156</td>\n",
       "      <td id=\"T_237a2_row2_col8\" class=\"data row2 col8\" >0.4180</td>\n",
       "    </tr>\n",
       "    <tr>\n",
       "      <th id=\"T_237a2_level0_row3\" class=\"row_heading level0 row3\" >ada</th>\n",
       "      <td id=\"T_237a2_row3_col0\" class=\"data row3 col0\" >Ada Boost Classifier</td>\n",
       "      <td id=\"T_237a2_row3_col1\" class=\"data row3 col1\" >0.8113</td>\n",
       "      <td id=\"T_237a2_row3_col2\" class=\"data row3 col2\" >0.8740</td>\n",
       "      <td id=\"T_237a2_row3_col3\" class=\"data row3 col3\" >0.7605</td>\n",
       "      <td id=\"T_237a2_row3_col4\" class=\"data row3 col4\" >0.0389</td>\n",
       "      <td id=\"T_237a2_row3_col5\" class=\"data row3 col5\" >0.0661</td>\n",
       "      <td id=\"T_237a2_row3_col6\" class=\"data row3 col6\" >0.0609</td>\n",
       "      <td id=\"T_237a2_row3_col7\" class=\"data row3 col7\" >0.1245</td>\n",
       "      <td id=\"T_237a2_row3_col8\" class=\"data row3 col8\" >0.4630</td>\n",
       "    </tr>\n",
       "    <tr>\n",
       "      <th id=\"T_237a2_level0_row4\" class=\"row_heading level0 row4\" >dt</th>\n",
       "      <td id=\"T_237a2_row4_col0\" class=\"data row4 col0\" >Decision Tree Classifier</td>\n",
       "      <td id=\"T_237a2_row4_col1\" class=\"data row4 col1\" >0.8094</td>\n",
       "      <td id=\"T_237a2_row4_col2\" class=\"data row4 col2\" >0.5746</td>\n",
       "      <td id=\"T_237a2_row4_col3\" class=\"data row4 col3\" >0.3383</td>\n",
       "      <td id=\"T_237a2_row4_col4\" class=\"data row4 col4\" >0.0046</td>\n",
       "      <td id=\"T_237a2_row4_col5\" class=\"data row4 col5\" >0.0088</td>\n",
       "      <td id=\"T_237a2_row4_col6\" class=\"data row4 col6\" >0.0037</td>\n",
       "      <td id=\"T_237a2_row4_col7\" class=\"data row4 col7\" >0.0201</td>\n",
       "      <td id=\"T_237a2_row4_col8\" class=\"data row4 col8\" >0.4070</td>\n",
       "    </tr>\n",
       "    <tr>\n",
       "      <th id=\"T_237a2_level0_row5\" class=\"row_heading level0 row5\" >svm</th>\n",
       "      <td id=\"T_237a2_row5_col0\" class=\"data row5 col0\" >SVM - Linear Kernel</td>\n",
       "      <td id=\"T_237a2_row5_col1\" class=\"data row5 col1\" >0.7988</td>\n",
       "      <td id=\"T_237a2_row5_col2\" class=\"data row5 col2\" >0.0000</td>\n",
       "      <td id=\"T_237a2_row5_col3\" class=\"data row5 col3\" >0.2000</td>\n",
       "      <td id=\"T_237a2_row5_col4\" class=\"data row5 col4\" >0.0009</td>\n",
       "      <td id=\"T_237a2_row5_col5\" class=\"data row5 col5\" >0.0019</td>\n",
       "      <td id=\"T_237a2_row5_col6\" class=\"data row5 col6\" >0.0000</td>\n",
       "      <td id=\"T_237a2_row5_col7\" class=\"data row5 col7\" >0.0000</td>\n",
       "      <td id=\"T_237a2_row5_col8\" class=\"data row5 col8\" >0.3830</td>\n",
       "    </tr>\n",
       "    <tr>\n",
       "      <th id=\"T_237a2_level0_row6\" class=\"row_heading level0 row6\" >rf</th>\n",
       "      <td id=\"T_237a2_row6_col0\" class=\"data row6 col0\" >Random Forest Classifier</td>\n",
       "      <td id=\"T_237a2_row6_col1\" class=\"data row6 col1\" >0.7358</td>\n",
       "      <td id=\"T_237a2_row6_col2\" class=\"data row6 col2\" >0.8266</td>\n",
       "      <td id=\"T_237a2_row6_col3\" class=\"data row6 col3\" >0.8038</td>\n",
       "      <td id=\"T_237a2_row6_col4\" class=\"data row6 col4\" >0.0111</td>\n",
       "      <td id=\"T_237a2_row6_col5\" class=\"data row6 col5\" >0.0216</td>\n",
       "      <td id=\"T_237a2_row6_col6\" class=\"data row6 col6\" >0.0158</td>\n",
       "      <td id=\"T_237a2_row6_col7\" class=\"data row6 col7\" >0.0708</td>\n",
       "      <td id=\"T_237a2_row6_col8\" class=\"data row6 col8\" >0.5380</td>\n",
       "    </tr>\n",
       "    <tr>\n",
       "      <th id=\"T_237a2_level0_row7\" class=\"row_heading level0 row7\" >lr</th>\n",
       "      <td id=\"T_237a2_row7_col0\" class=\"data row7 col0\" >Logistic Regression</td>\n",
       "      <td id=\"T_237a2_row7_col1\" class=\"data row7 col1\" >0.5127</td>\n",
       "      <td id=\"T_237a2_row7_col2\" class=\"data row7 col2\" >0.7762</td>\n",
       "      <td id=\"T_237a2_row7_col3\" class=\"data row7 col3\" >0.9657</td>\n",
       "      <td id=\"T_237a2_row7_col4\" class=\"data row7 col4\" >0.0096</td>\n",
       "      <td id=\"T_237a2_row7_col5\" class=\"data row7 col5\" >0.0189</td>\n",
       "      <td id=\"T_237a2_row7_col6\" class=\"data row7 col6\" >0.0130</td>\n",
       "      <td id=\"T_237a2_row7_col7\" class=\"data row7 col7\" >0.0628</td>\n",
       "      <td id=\"T_237a2_row7_col8\" class=\"data row7 col8\" >2.0420</td>\n",
       "    </tr>\n",
       "    <tr>\n",
       "      <th id=\"T_237a2_level0_row8\" class=\"row_heading level0 row8\" >ridge</th>\n",
       "      <td id=\"T_237a2_row8_col0\" class=\"data row8 col0\" >Ridge Classifier</td>\n",
       "      <td id=\"T_237a2_row8_col1\" class=\"data row8 col1\" >0.4629</td>\n",
       "      <td id=\"T_237a2_row8_col2\" class=\"data row8 col2\" >0.0000</td>\n",
       "      <td id=\"T_237a2_row8_col3\" class=\"data row8 col3\" >0.8005</td>\n",
       "      <td id=\"T_237a2_row8_col4\" class=\"data row8 col4\" >0.0044</td>\n",
       "      <td id=\"T_237a2_row8_col5\" class=\"data row8 col5\" >0.0087</td>\n",
       "      <td id=\"T_237a2_row8_col6\" class=\"data row8 col6\" >0.0027</td>\n",
       "      <td id=\"T_237a2_row8_col7\" class=\"data row8 col7\" >0.0267</td>\n",
       "      <td id=\"T_237a2_row8_col8\" class=\"data row8 col8\" >0.3850</td>\n",
       "    </tr>\n",
       "    <tr>\n",
       "      <th id=\"T_237a2_level0_row9\" class=\"row_heading level0 row9\" >lda</th>\n",
       "      <td id=\"T_237a2_row9_col0\" class=\"data row9 col0\" >Linear Discriminant Analysis</td>\n",
       "      <td id=\"T_237a2_row9_col1\" class=\"data row9 col1\" >0.4568</td>\n",
       "      <td id=\"T_237a2_row9_col2\" class=\"data row9 col2\" >0.6975</td>\n",
       "      <td id=\"T_237a2_row9_col3\" class=\"data row9 col3\" >0.8005</td>\n",
       "      <td id=\"T_237a2_row9_col4\" class=\"data row9 col4\" >0.0044</td>\n",
       "      <td id=\"T_237a2_row9_col5\" class=\"data row9 col5\" >0.0087</td>\n",
       "      <td id=\"T_237a2_row9_col6\" class=\"data row9 col6\" >0.0026</td>\n",
       "      <td id=\"T_237a2_row9_col7\" class=\"data row9 col7\" >0.0262</td>\n",
       "      <td id=\"T_237a2_row9_col8\" class=\"data row9 col8\" >0.4030</td>\n",
       "    </tr>\n",
       "    <tr>\n",
       "      <th id=\"T_237a2_level0_row10\" class=\"row_heading level0 row10\" >et</th>\n",
       "      <td id=\"T_237a2_row10_col0\" class=\"data row10 col0\" >Extra Trees Classifier</td>\n",
       "      <td id=\"T_237a2_row10_col1\" class=\"data row10 col1\" >0.3217</td>\n",
       "      <td id=\"T_237a2_row10_col2\" class=\"data row10 col2\" >0.7908</td>\n",
       "      <td id=\"T_237a2_row10_col3\" class=\"data row10 col3\" >0.9081</td>\n",
       "      <td id=\"T_237a2_row10_col4\" class=\"data row10 col4\" >0.0040</td>\n",
       "      <td id=\"T_237a2_row10_col5\" class=\"data row10 col5\" >0.0080</td>\n",
       "      <td id=\"T_237a2_row10_col6\" class=\"data row10 col6\" >0.0019</td>\n",
       "      <td id=\"T_237a2_row10_col7\" class=\"data row10 col7\" >0.0260</td>\n",
       "      <td id=\"T_237a2_row10_col8\" class=\"data row10 col8\" >0.5090</td>\n",
       "    </tr>\n",
       "    <tr>\n",
       "      <th id=\"T_237a2_level0_row11\" class=\"row_heading level0 row11\" >nb</th>\n",
       "      <td id=\"T_237a2_row11_col0\" class=\"data row11 col0\" >Naive Bayes</td>\n",
       "      <td id=\"T_237a2_row11_col1\" class=\"data row11 col1\" >0.1977</td>\n",
       "      <td id=\"T_237a2_row11_col2\" class=\"data row11 col2\" >0.6090</td>\n",
       "      <td id=\"T_237a2_row11_col3\" class=\"data row11 col3\" >0.9524</td>\n",
       "      <td id=\"T_237a2_row11_col4\" class=\"data row11 col4\" >0.0036</td>\n",
       "      <td id=\"T_237a2_row11_col5\" class=\"data row11 col5\" >0.0071</td>\n",
       "      <td id=\"T_237a2_row11_col6\" class=\"data row11 col6\" >0.0010</td>\n",
       "      <td id=\"T_237a2_row11_col7\" class=\"data row11 col7\" >0.0196</td>\n",
       "      <td id=\"T_237a2_row11_col8\" class=\"data row11 col8\" >0.4470</td>\n",
       "    </tr>\n",
       "    <tr>\n",
       "      <th id=\"T_237a2_level0_row12\" class=\"row_heading level0 row12\" >knn</th>\n",
       "      <td id=\"T_237a2_row12_col0\" class=\"data row12 col0\" >K Neighbors Classifier</td>\n",
       "      <td id=\"T_237a2_row12_col1\" class=\"data row12 col1\" >0.1670</td>\n",
       "      <td id=\"T_237a2_row12_col2\" class=\"data row12 col2\" >0.5417</td>\n",
       "      <td id=\"T_237a2_row12_col3\" class=\"data row12 col3\" >0.8798</td>\n",
       "      <td id=\"T_237a2_row12_col4\" class=\"data row12 col4\" >0.0032</td>\n",
       "      <td id=\"T_237a2_row12_col5\" class=\"data row12 col5\" >0.0064</td>\n",
       "      <td id=\"T_237a2_row12_col6\" class=\"data row12 col6\" >0.0003</td>\n",
       "      <td id=\"T_237a2_row12_col7\" class=\"data row12 col7\" >0.0084</td>\n",
       "      <td id=\"T_237a2_row12_col8\" class=\"data row12 col8\" >0.4460</td>\n",
       "    </tr>\n",
       "    <tr>\n",
       "      <th id=\"T_237a2_level0_row13\" class=\"row_heading level0 row13\" >qda</th>\n",
       "      <td id=\"T_237a2_row13_col0\" class=\"data row13 col0\" >Quadratic Discriminant Analysis</td>\n",
       "      <td id=\"T_237a2_row13_col1\" class=\"data row13 col1\" >0.1187</td>\n",
       "      <td id=\"T_237a2_row13_col2\" class=\"data row13 col2\" >0.5566</td>\n",
       "      <td id=\"T_237a2_row13_col3\" class=\"data row13 col3\" >0.9381</td>\n",
       "      <td id=\"T_237a2_row13_col4\" class=\"data row13 col4\" >0.0032</td>\n",
       "      <td id=\"T_237a2_row13_col5\" class=\"data row13 col5\" >0.0064</td>\n",
       "      <td id=\"T_237a2_row13_col6\" class=\"data row13 col6\" >0.0003</td>\n",
       "      <td id=\"T_237a2_row13_col7\" class=\"data row13 col7\" >0.0095</td>\n",
       "      <td id=\"T_237a2_row13_col8\" class=\"data row13 col8\" >0.4110</td>\n",
       "    </tr>\n",
       "  </tbody>\n",
       "</table>\n"
      ],
      "text/plain": [
       "<pandas.io.formats.style.Styler at 0x179ee2cca00>"
      ]
     },
     "metadata": {},
     "output_type": "display_data"
    },
    {
     "data": {
      "application/vnd.jupyter.widget-view+json": {
       "model_id": "a5cfd7ed849542ed9f3b5712f752fdf7",
       "version_major": 2,
       "version_minor": 0
      },
      "text/plain": [
       "Processing:   0%|          | 0/45 [00:00<?, ?it/s]"
      ]
     },
     "metadata": {},
     "output_type": "display_data"
    }
   ],
   "source": [
    "best_model_with_downsampling = compare_models(exclude = 'dummy')"
   ]
  },
  {
   "cell_type": "code",
   "execution_count": 24,
   "metadata": {},
   "outputs": [
    {
     "data": {
      "text/html": [],
      "text/plain": [
       "<IPython.core.display.HTML object>"
      ]
     },
     "metadata": {},
     "output_type": "display_data"
    },
    {
     "data": {
      "image/png": "[encoded data removed]",
      "text/plain": [
       "<Figure size 432x288 with 1 Axes>"
      ]
     },
     "metadata": {
      "needs_background": "light"
     },
     "output_type": "display_data"
    }
   ],
   "source": [
    "plot_model(best_model_with_downsampling, plot = 'confusion_matrix')"
   ]
  },
  {
   "cell_type": "markdown",
   "metadata": {},
   "source": [
    "Theorie: Recall, Precision, f1"
   ]
  },
  {
   "cell_type": "code",
   "execution_count": 27,
   "metadata": {},
   "outputs": [
    {
     "data": {
      "text/html": [],
      "text/plain": [
       "<IPython.core.display.HTML object>"
      ]
     },
     "metadata": {},
     "output_type": "display_data"
    },
    {
     "data": {
      "image/png": "[encoded data removed]",
      "text/plain": [
       "<Figure size 432x288 with 2 Axes>"
      ]
     },
     "metadata": {
      "needs_background": "light"
     },
     "output_type": "display_data"
    }
   ],
   "source": [
    "plot_model(best_model_with_downsampling, plot = 'class_report')"
   ]
  },
  {
   "cell_type": "code",
   "execution_count": 29,
   "metadata": {},
   "outputs": [
    {
     "data": {
      "text/html": [],
      "text/plain": [
       "<IPython.core.display.HTML object>"
      ]
     },
     "metadata": {},
     "output_type": "display_data"
    },
    {
     "data": {
      "image/png": "[encoded data removed]",
      "text/plain": [
       "<Figure size 432x288 with 1 Axes>"
      ]
     },
     "metadata": {
      "needs_background": "light"
     },
     "output_type": "display_data"
    }
   ],
   "source": [
    "plot_model(best_model_with_downsampling, plot = 'error')"
   ]
  },
  {
   "cell_type": "markdown",
   "metadata": {},
   "source": [
    "Theorie: Precision/recall Kurve"
   ]
  },
  {
   "cell_type": "code",
   "execution_count": 32,
   "metadata": {},
   "outputs": [
    {
     "data": {
      "text/html": [],
      "text/plain": [
       "<IPython.core.display.HTML object>"
      ]
     },
     "metadata": {},
     "output_type": "display_data"
    },
    {
     "data": {
      "image/png": "[encoded data removed]",
      "text/plain": [
       "<Figure size 432x288 with 1 Axes>"
      ]
     },
     "metadata": {
      "needs_background": "light"
     },
     "output_type": "display_data"
    }
   ],
   "source": [
    "plot_model(best_model_with_downsampling, plot = 'pr')"
   ]
  },
  {
   "cell_type": "markdown",
   "metadata": {},
   "source": [
    "theorie: Learning curve.\n",
    "\n",
    "Notiz: generell sieht man hier, das das Model anfang erst underfittet bzw unfähig ist mit der Komplesitöt im Datensatz klarzukommen."
   ]
  },
  {
   "cell_type": "code",
   "execution_count": 34,
   "metadata": {},
   "outputs": [
    {
     "data": {
      "text/html": [],
      "text/plain": [
       "<IPython.core.display.HTML object>"
      ]
     },
     "metadata": {},
     "output_type": "display_data"
    },
    {
     "data": {
      "image/png": "[encoded data removed]",
      "text/plain": [
       "<Figure size 432x288 with 1 Axes>"
      ]
     },
     "metadata": {
      "needs_background": "light"
     },
     "output_type": "display_data"
    }
   ],
   "source": [
    "plot_model(best_model_with_downsampling, plot = 'learning')"
   ]
  },
  {
   "cell_type": "markdown",
   "metadata": {},
   "source": [
    "Diese Methode gibt uns zwar fehler type 1? \n",
    "aber ist besser als wenn man FN zurückgibt, in dem Fall würde es bedeuten, dass Creditcard approved werden, obwohl ein hohes Risiko dargestellt"
   ]
  },
  {
   "cell_type": "markdown",
   "metadata": {},
   "source": [
    "## Anderer Ansatz"
   ]
  },
  {
   "cell_type": "code",
   "execution_count": 18,
   "metadata": {},
   "outputs": [],
   "source": [
    "#Separieren von Minority und Mijority Klassen\n",
    "#dummy_risk_user = training_data[training_data.risk_user == 'Y']\n",
    "#dummy_non_risk_user = training_data[training_data.risk_user == 'N']\n",
    "#\n",
    "\n",
    "# am besten werden random Instanzen gelöscht, die keine bestimmte Kriterien befolgen\n",
    "# attention: Mit jede Ausführung werden andere Obersavationen gelöscht\n",
    "#indices_top_drop = default_rng().choice(dummy_non_risk_user.index, size=426966, replace=False)\n",
    "#non_risk_user_reduced = dummy_non_risk_user.drop(index=indices_top_drop)\n",
    "\n",
    "#reduced_number_non_risk_user = sum(non_risk_user_reduced['risk_user'] == 'N')\n",
    "#number_risk_user = sum(dummy_risk_user['risk_user'] == 'Y')\n",
    "#print(\"Non risk users are now randomly reduced to\", reduced_number_non_risk_user )\n",
    "#print(\"Risk users are \", number_risk_user)\n",
    "\n",
    "# Joining die manuell downsampelt datasets zusammen\n",
    "#resampled_df = pd.concat([non_risk_user_reduced, dummy_risk_user], ignore_index=True)\n",
    "#resampled_df.count()"
   ]
  },
  {
   "cell_type": "markdown",
   "metadata": {},
   "source": [
    "Es ist auffällig, wie die Accuracy von den vorgeschlagenen Modellen sowohl mithilfe von Oversampling als auch downsampling aus Pycaret so hoch ist. Das ist vielleicht ein Zeichen. In diesem Abschnitt möchten wir einen anderen Ansatz wählen, um zu überprüfen, ob die Ergebnisse aus den vorherigen Experiemente vertraucenwürdig sind.\n",
    "\n"
   ]
  },
  {
   "cell_type": "markdown",
   "metadata": {},
   "source": [
    "## Literaturverzeichnis\n",
    "\n",
    "- [1] https://pestleanalysis.com/descriptive-analysis/#What_Is_Descriptive_Analysis\n",
    "- [2] https://machinelearningmastery.com/what-is-imbalanced-classification/\n",
    "- [3] https://imbalanced-learn.org/stable/references/generated/imblearn.under_sampling.NearMiss.html\n"
   ]
  }
 ],
 "metadata": {
  "kernelspec": {
   "display_name": "Python 3.9.13 64-bit (windows store)",
   "language": "python",
   "name": "python3"
  },
  "language_info": {
   "codemirror_mode": {
    "name": "ipython",
    "version": 3
   },
   "file_extension": ".py",
   "mimetype": "text/x-python",
   "name": "python",
   "nbconvert_exporter": "python",
   "pygments_lexer": "ipython3",
   "version": "3.9.13"
  },
  "orig_nbformat": 4,
  "vscode": {
   "interpreter": {
    "hash": "cb81224776a621e3a82858d3720223ecc7d0863a5eaaa092ce60b8656f75ae0e"
   }
  }
 },
 "nbformat": 4,
 "nbformat_minor": 2
}
