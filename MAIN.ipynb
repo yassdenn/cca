{
 "cells": [
  {
   "cell_type": "markdown",
   "metadata": {},
   "source": [
    "# Credit Card Approval mit Machine Learning\n",
    "WWI20DSA; Semester-4;  <br>\n",
    "Chengyi Hua (8883221); Yassir Knierim (7362794); Jan Rüdt (1737304)\n",
    "\n",
    "## Projektbeschreibung\n",
    "Das Kredit-Scoring ist eine weit verbreitete Methode des Risikomanagements im Finanzsektor. Es verwendet persönliche Informationen und Daten, die von Kreditkartenantragstellern bereitgestellt werden, um zukünftige Insolvenzen und Kreditkartendarlehen abzuschätzen. Die Bank ist befugt zu entscheiden, ob sie dem Antragsteller eine Kreditkarte zur Verfügung stellt oder nicht. Kredit-Scores können das Risikoniveau objektiv einschätzen. Ein maschinelles Lernmodell ist erforderlich, um vorherzusagen, ob eine Anwendung in diesem Datensatz ein „guter“ oder „schlechter“ Benutzer ist. Durch unsere Zielvariable oder Definition soll sie vorhersagen, ob der Benutzer als Risikobenutzer eingestuft wird oder nicht.\n",
    "<br>\n",
    "<br>\n",
    "\n",
    "### Ziel\n",
    "\n",
    "![Confusion Matrix](confusionM.png) <br>\n",
    "\n",
    "theorie: Confusionsatrix und FP/FN <br> <br>\n",
    "\n",
    "In diesem Projekt werden Risk_user als 1 und Non_risk_user als 0 definiert. In diesem Fall möchten wir Fehler Typ II weitesgehend vermeiden. Fehler Type II, die False Negatives, entsprechen eine Vergabe, Approval von Kundenanträge die nicht risikofrei sind.\n",
    "\n",
    "Ziel ist also ein Modell oder Verfahren zu finden, um bei der Vorhersage Error Type II weitegehend zu vermeiden.\n",
    "\n",
    "\n",
    " \n",
    "Hürden: <br>\n",
    "-  Das Problem der unausgeglichenen Daten ist ein wesentliches Problem in diesem Projekt.<br>\n",
    "Mögliche Lösung: Verwenden Sie das Paket PyCaret, um den unausgeglichenen Datensatz zu reparieren\n",
    "-  Experimente mit verschiedene Modelle. Schnelleres Vorgehen mit __PyCaret__ möglich\n",
    "-  Down- oder Oversampling"
   ]
  },
  {
   "cell_type": "markdown",
   "metadata": {},
   "source": [
    "### Definition der Parameter\n",
    "| Attribut Bezeichnung | Beschreibung | Kommentar |\n",
    "| ------------ | ----------- | ------- |\n",
    "|applicant_ID| Kundennummer |Für das Modell nicht relevant |\t\n",
    "|gender|\tGeschlecht|Kategorial\t|\n",
    "|owning_car|\tAutobesitz\t|Kategorial |\n",
    "|owning_property|\tImmobilienbesitz\t|Kategorial |\n",
    "|children_amt|\tAnzahl von Kindern|Numerisch |\t\n",
    "|anual_income|\tJährliches Einkommen|Numerisch |\t\n",
    "|education_level|\tBildungsniveau\t|Kategorial |\n",
    "|marital_status|\tFamilienstand\t|Kategorial |\n",
    "|housing_type|\tWohnsituation\t|Kategorial |\n",
    "|age|Alter |Numerisch |\n",
    "|working_years|\tArbeitsdauer in Jahren|Numerisch |\t\n",
    "|owning_phone|\tHandybesitz\t|Kategorial |\n",
    "|owning_work_phone|\tArbeitshandybesitz\t|Kategorial |\n",
    "|owning_email|\tEmailbesitz\t|Kategorial |\n",
    "|job|Arbeitstitel|Kategorial |\n",
    "|payment_status|\tStatus|1: 1–29 Tage überfällig<br> 2: 30–59 Tage überfällig<br> 3: 60–89 Tage überfällig<br> 4: 90–119 Tage überfällig<br> 5: 120–149 Tage überfällig<br> 6: Überfällig oder uneinbringlich, Abschreibungen für mehr als 150 Tage<br> -1: in diesem Monat abbezahlt<br> 0: kein Darlehen für den Monat. Kategorial|\n",
    "|risk_user|\tZiel|\tRisikonutzer sind mit „1“ gekennzeichnet, ansonsten mit „0“. Kategorial|\n",
    "\n",
    "Tabelle (1)<br>\n",
    "@Dennis Knierim"
   ]
  },
  {
   "cell_type": "code",
   "execution_count": 4,
   "metadata": {},
   "outputs": [],
   "source": [
    "categorical_features = []"
   ]
  },
  {
   "cell_type": "markdown",
   "metadata": {},
   "source": [
    "## Loading dependencies"
   ]
  },
  {
   "cell_type": "code",
   "execution_count": 2,
   "metadata": {},
   "outputs": [],
   "source": [
    "import pandas as pd\n",
    "import plotly.express as px\n",
    "import plotly.graph_objects as go\n",
    "import seaborn as sns\n",
    "import numpy as np\n",
    "import matplotlib.pyplot as plt\n",
    "import missingno as mso\n",
    "import seaborn as sns\n",
    "import warnings\n",
    "import pycaret\n",
    "import math\n",
    "from collections import Counter\n",
    "from numpy.random import default_rng\n",
    "from imblearn.under_sampling import *\n",
    "import imblearn\n",
    "from sklearn.model_selection import KFold\n",
    "from pycaret.classification import *\n",
    "\n",
    "# --- Libraries Settings ---\n",
    "#warnings.filterwarnings('ignore')\n",
    "#plt.rcParams['figure.dpi'] = 100"
   ]
  },
  {
   "cell_type": "markdown",
   "metadata": {},
   "source": [
    "## Datenanpassung\n",
    "\n",
    "theorie: warum  ist es wichtig"
   ]
  },
  {
   "cell_type": "code",
<<<<<<< HEAD
   "execution_count": 3,
=======
   "execution_count": 2,
>>>>>>> 1419f3404da83c3a7d47be817615004f7ad2c527
   "metadata": {},
   "outputs": [],
   "source": [
    "cca =  pd.read_csv('credit_card_approval.csv')\n",
    "# rough years of employment\n",
    "cca.DAYS_EMPLOYED = abs(cca.DAYS_EMPLOYED) // 365\n",
    "# finding out each customers age\n",
    "cca.DAYS_BIRTH =  abs(cca.DAYS_BIRTH) // 365  \n",
    "cca.AMT_INCOME_TOTAL = pd.to_numeric(cca.AMT_INCOME_TOTAL)\n",
    "# dropping unneccessary attributes\n",
    "cca = cca.drop(\"FLAG_MOBIL\", axis=1)\n",
    "\n",
    "\n",
    "\n",
    "cca.rename(columns = {'CODE_GENDER':'gender', \n",
    "                      'DAYS_BIRTH': 'age',\n",
    "                      'DAYS_EMPLOYED': 'working_years',\n",
    "                      'FLAG_OWN_CAR':'owning_car',\n",
    "                      'FLAG_OWN_REALTY': 'owning_property',\n",
    "                      'CNT_CHILDREN': 'children_amt',\n",
    "                      'AMT_INCOME_TOTAL': 'anual_income',\n",
    "                      'NAME_EDUCATION_TYPE': 'education_level',\n",
    "                      'NAME_FAMILY_STATUS': 'marital_status',\n",
    "                      'NAME_HOUSING_TYPE': 'housing_type',\n",
    "                      'FLAG_WORK_PHONE': 'owning_work_phone',\n",
    "                      'FLAG_EMAIL': 'owning_email',\n",
    "                      'FLAG_PHONE': 'owning_phone',\n",
    "                      'STATUS': 'payment_status',\n",
    "                      'TARGET': 'risk_user',\n",
    "                      'JOB': 'job',\n",
    "                      'ID': 'applicant_ID'\n",
    "                      }, inplace = True)\n",
    "\n",
    "\n",
    "cca[\"owning_car\"].replace({'Y' : '1', 'N': '0'}, inplace= True)\n",
    "cca[\"risk_user\"].replace({1: 'Y', 0: 'N' }, inplace= True)\n",
    "cca[\"owning_property\"].replace({'Y' : '1', 'N': '0'}, inplace= True)\n",
    "cca[\"payment_status\"].replace({'0' : '1', \n",
    "                               '1': '2', \n",
    "                               '2': '3', \n",
    "                               '3': '4', \n",
    "                               '4': '5', \n",
    "                               '5': '6', \n",
    "                               'C': '-1', \n",
    "                               'X': '0'}, inplace= True)\n",
    "cca.payment_status = [int(i) for i in cca.payment_status ]\n",
    "cca = cca.sort_values('applicant_ID')\n",
    "\n"
   ]
  },
  {
   "cell_type": "code",
<<<<<<< HEAD
   "execution_count": 4,
=======
   "execution_count": 3,
>>>>>>> 1419f3404da83c3a7d47be817615004f7ad2c527
   "metadata": {},
   "outputs": [
    {
     "data": {
      "text/plain": [
       "14"
      ]
     },
<<<<<<< HEAD
     "execution_count": 4,
=======
     "execution_count": 3,
>>>>>>> 1419f3404da83c3a7d47be817615004f7ad2c527
     "metadata": {},
     "output_type": "execute_result"
    }
   ],
   "source": [
    "def get_count_of(applicant_frame,column,credit_type):\n",
    "    df = applicant_frame\n",
    "    df[column].replace({0:'no_credit',\n",
    "        -1:'good',\n",
    "        1:'good',\n",
    "        2:'bad',\n",
    "        3:'bad',\n",
    "        4:'bad',\n",
    "        5:'bad',\n",
    "        6:'bad'}, inplace=True)\n",
    "    values = df[column].value_counts()\n",
    "    try:\n",
    "        return values[values.index==credit_type][0]\n",
    "    except:\n",
    "        return 0\n",
    "\n",
    "get_count_of(cca[cca.applicant_ID==5008806],'payment_status','good')"
   ]
  },
  {
   "cell_type": "code",
   "execution_count": 5,
   "metadata": {},
   "outputs": [],
   "source": [
    "good_mapping = {i:get_count_of(cca[cca.applicant_ID==i],'payment_status','good') for i in list(cca.applicant_ID.unique())}\n",
    "bad_mapping = {i:get_count_of(cca[cca.applicant_ID==i],'payment_status','bad') for i in list(cca.applicant_ID.unique())}\n",
    "no_mapping = {i:get_count_of(cca[cca.applicant_ID==i],'payment_status','no_credit') for i in list(cca.applicant_ID.unique())}"
   ]
  },
  {
   "cell_type": "code",
   "execution_count": 6,
   "metadata": {},
   "outputs": [],
   "source": [
    "#bad_mapping"
   ]
  },
  {
   "cell_type": "code",
<<<<<<< HEAD
   "execution_count": 6,
=======
   "execution_count": 7,
>>>>>>> 1419f3404da83c3a7d47be817615004f7ad2c527
   "metadata": {},
   "outputs": [],
   "source": [
    "cca['total_good_credit'] = cca.applicant_ID.map(good_mapping)\n",
    "cca['total_bad_credit'] = cca.applicant_ID.map(bad_mapping)\n",
    "cca['total_no_credit'] = cca.applicant_ID.map(no_mapping)"
   ]
  },
  {
   "cell_type": "code",
   "execution_count": 99,
   "metadata": {},
   "outputs": [],
   "source": [
    "# checking for datatype of the different attributes\n",
    "#print(cca.dtypes)\n",
    "\n",
    "# getting insides into the attribute contents, Check for na and errors\n",
    "#columns = []\n",
    "#for n in cca.columns:\n",
    "#    columns.append(n)\n",
    "\n",
    "#for n in columns:  \n",
    "#    print(n)\n",
    "#    print(cca[n].unique())\n",
    "#    for i in cca[n].isna():\n",
    "#        if i == True:\n",
    "#            print(\"AHAAAA\")\n",
    "#    print('\\n \\n')   \n",
    "#print(cca.isnull().sum())\n"
   ]
  },
  {
   "cell_type": "code",
<<<<<<< HEAD
   "execution_count": 26,
=======
   "execution_count": 8,
>>>>>>> 1419f3404da83c3a7d47be817615004f7ad2c527
   "metadata": {},
   "outputs": [
    {
     "data": {
      "text/html": [
       "<div>\n",
       "<style scoped>\n",
       "    .dataframe tbody tr th:only-of-type {\n",
       "        vertical-align: middle;\n",
       "    }\n",
       "\n",
       "    .dataframe tbody tr th {\n",
       "        vertical-align: top;\n",
       "    }\n",
       "\n",
       "    .dataframe thead th {\n",
       "        text-align: right;\n",
       "    }\n",
       "</style>\n",
       "<table border=\"1\" class=\"dataframe\">\n",
       "  <thead>\n",
       "    <tr style=\"text-align: right;\">\n",
       "      <th></th>\n",
       "      <th>applicant_ID</th>\n",
       "      <th>gender</th>\n",
       "      <th>owning_car</th>\n",
       "      <th>owning_property</th>\n",
       "      <th>children_amt</th>\n",
       "      <th>anual_income</th>\n",
       "      <th>education_level</th>\n",
       "      <th>marital_status</th>\n",
       "      <th>housing_type</th>\n",
       "      <th>age</th>\n",
       "      <th>...</th>\n",
       "      <th>owning_work_phone</th>\n",
       "      <th>owning_phone</th>\n",
       "      <th>owning_email</th>\n",
       "      <th>job</th>\n",
<<<<<<< HEAD
       "      <th>BEGIN_MONTHS</th>\n",
       "      <th>payment_status</th>\n",
=======
>>>>>>> 1419f3404da83c3a7d47be817615004f7ad2c527
       "      <th>risk_user</th>\n",
       "      <th>total_good_credit</th>\n",
       "      <th>total_bad_credit</th>\n",
       "      <th>total_no_credit</th>\n",
       "    </tr>\n",
       "  </thead>\n",
       "  <tbody>\n",
       "    <tr>\n",
<<<<<<< HEAD
       "      <th>389122</th>\n",
       "      <td>5021583</td>\n",
       "      <td>F</td>\n",
       "      <td>0</td>\n",
       "      <td>0</td>\n",
       "      <td>1 children</td>\n",
       "      <td>40500.0</td>\n",
       "      <td>Secondary / secondary special</td>\n",
       "      <td>Married</td>\n",
       "      <td>Rented apartment</td>\n",
       "      <td>35</td>\n",
       "      <td>...</td>\n",
       "      <td>0</td>\n",
       "      <td>0</td>\n",
       "      <td>0</td>\n",
       "      <td>Cooking staff</td>\n",
       "      <td>-5</td>\n",
       "      <td>1</td>\n",
       "      <td>N</td>\n",
       "      <td>6</td>\n",
       "      <td>0</td>\n",
       "      <td>3</td>\n",
       "    </tr>\n",
       "    <tr>\n",
       "      <th>374639</th>\n",
       "      <td>5061265</td>\n",
       "      <td>F</td>\n",
       "      <td>0</td>\n",
       "      <td>1</td>\n",
       "      <td>No children</td>\n",
       "      <td>211500.0</td>\n",
       "      <td>Secondary / secondary special</td>\n",
       "      <td>Married</td>\n",
       "      <td>House / apartment</td>\n",
       "      <td>45</td>\n",
       "      <td>...</td>\n",
       "      <td>0</td>\n",
       "      <td>0</td>\n",
       "      <td>0</td>\n",
       "      <td>Sales staff</td>\n",
       "      <td>-8</td>\n",
       "      <td>1</td>\n",
       "      <td>N</td>\n",
       "      <td>6</td>\n",
       "      <td>0</td>\n",
       "      <td>5</td>\n",
       "    </tr>\n",
       "    <tr>\n",
       "      <th>460476</th>\n",
       "      <td>5033509</td>\n",
=======
       "      <th>142298</th>\n",
       "      <td>5036590</td>\n",
>>>>>>> 1419f3404da83c3a7d47be817615004f7ad2c527
       "      <td>M</td>\n",
       "      <td>0</td>\n",
       "      <td>0</td>\n",
       "      <td>No children</td>\n",
       "      <td>171000.0</td>\n",
       "      <td>Secondary / secondary special</td>\n",
       "      <td>Married</td>\n",
       "      <td>House / apartment</td>\n",
       "      <td>56</td>\n",
       "      <td>...</td>\n",
       "      <td>1</td>\n",
       "      <td>1</td>\n",
       "      <td>0</td>\n",
       "      <td>Drivers</td>\n",
       "      <td>-47</td>\n",
       "      <td>0</td>\n",
       "      <td>N</td>\n",
       "      <td>29</td>\n",
       "      <td>0</td>\n",
       "      <td>21</td>\n",
       "    </tr>\n",
       "    <tr>\n",
       "      <th>223922</th>\n",
       "      <td>5116854</td>\n",
       "      <td>F</td>\n",
       "      <td>1</td>\n",
       "      <td>0</td>\n",
       "      <td>No children</td>\n",
       "      <td>292500.0</td>\n",
       "      <td>Higher education</td>\n",
       "      <td>Married</td>\n",
       "      <td>House / apartment</td>\n",
       "      <td>57</td>\n",
       "      <td>2</td>\n",
       "      <td>0</td>\n",
       "      <td>0</td>\n",
       "      <td>0</td>\n",
       "      <td>Drivers</td>\n",
       "      <td>Y</td>\n",
       "      <td>3</td>\n",
       "      <td>11</td>\n",
       "      <td>0</td>\n",
       "    </tr>\n",
       "    <tr>\n",
       "      <th>312018</th>\n",
       "      <td>5125714</td>\n",
       "      <td>F</td>\n",
       "      <td>1</td>\n",
       "      <td>1</td>\n",
       "      <td>No children</td>\n",
       "      <td>135000.0</td>\n",
       "      <td>Lower secondary</td>\n",
       "      <td>Married</td>\n",
       "      <td>House / apartment</td>\n",
       "      <td>44</td>\n",
       "      <td>1</td>\n",
       "      <td>0</td>\n",
       "      <td>1</td>\n",
       "      <td>0</td>\n",
       "      <td>High skill tech staff</td>\n",
       "      <td>N</td>\n",
       "      <td>37</td>\n",
       "      <td>0</td>\n",
       "      <td>0</td>\n",
       "    </tr>\n",
       "    <tr>\n",
       "      <th>443325</th>\n",
       "      <td>5115557</td>\n",
       "      <td>F</td>\n",
       "      <td>1</td>\n",
       "      <td>1</td>\n",
       "      <td>No children</td>\n",
       "      <td>135000.0</td>\n",
       "      <td>Higher education</td>\n",
       "      <td>Married</td>\n",
       "      <td>House / apartment</td>\n",
       "      <td>40</td>\n",
       "      <td>4</td>\n",
       "      <td>0</td>\n",
       "      <td>0</td>\n",
       "      <td>0</td>\n",
       "      <td>Laborers</td>\n",
       "      <td>N</td>\n",
       "      <td>9</td>\n",
       "      <td>0</td>\n",
       "      <td>0</td>\n",
       "    </tr>\n",
       "    <tr>\n",
       "      <th>497999</th>\n",
       "      <td>5135746</td>\n",
       "      <td>M</td>\n",
       "      <td>0</td>\n",
       "      <td>1</td>\n",
       "      <td>2+ children</td>\n",
       "      <td>112500.0</td>\n",
       "      <td>Secondary / secondary special</td>\n",
       "      <td>Married</td>\n",
       "      <td>House / apartment</td>\n",
<<<<<<< HEAD
       "      <td>50</td>\n",
       "      <td>...</td>\n",
       "      <td>0</td>\n",
       "      <td>0</td>\n",
       "      <td>0</td>\n",
       "      <td>Core staff</td>\n",
       "      <td>-15</td>\n",
=======
       "      <td>32</td>\n",
       "      <td>11</td>\n",
       "      <td>0</td>\n",
       "      <td>0</td>\n",
       "      <td>0</td>\n",
       "      <td>Laborers</td>\n",
       "      <td>N</td>\n",
       "      <td>24</td>\n",
       "      <td>0</td>\n",
       "      <td>1</td>\n",
       "    </tr>\n",
       "    <tr>\n",
       "      <th>280567</th>\n",
       "      <td>5142804</td>\n",
       "      <td>F</td>\n",
       "      <td>0</td>\n",
       "      <td>0</td>\n",
       "      <td>No children</td>\n",
       "      <td>180000.0</td>\n",
       "      <td>Secondary / secondary special</td>\n",
       "      <td>Married</td>\n",
       "      <td>House / apartment</td>\n",
       "      <td>50</td>\n",
       "      <td>12</td>\n",
>>>>>>> 1419f3404da83c3a7d47be817615004f7ad2c527
       "      <td>1</td>\n",
       "      <td>1</td>\n",
       "      <td>0</td>\n",
       "      <td>Accountants</td>\n",
       "      <td>N</td>\n",
<<<<<<< HEAD
       "      <td>32</td>\n",
       "      <td>0</td>\n",
       "      <td>1</td>\n",
       "    </tr>\n",
       "    <tr>\n",
       "      <th>3483</th>\n",
       "      <td>5069249</td>\n",
       "      <td>F</td>\n",
       "      <td>0</td>\n",
       "      <td>0</td>\n",
       "      <td>No children</td>\n",
       "      <td>180000.0</td>\n",
       "      <td>Higher education</td>\n",
       "      <td>Single / not married</td>\n",
       "      <td>House / apartment</td>\n",
       "      <td>37</td>\n",
       "      <td>...</td>\n",
       "      <td>0</td>\n",
       "      <td>0</td>\n",
       "      <td>0</td>\n",
       "      <td>IT staff</td>\n",
       "      <td>-46</td>\n",
       "      <td>1</td>\n",
       "      <td>N</td>\n",
       "      <td>53</td>\n",
       "      <td>0</td>\n",
       "      <td>0</td>\n",
       "    </tr>\n",
       "    <tr>\n",
       "      <th>101533</th>\n",
       "      <td>5118026</td>\n",
       "      <td>F</td>\n",
       "      <td>0</td>\n",
       "      <td>0</td>\n",
       "      <td>No children</td>\n",
       "      <td>315000.0</td>\n",
=======
       "      <td>53</td>\n",
       "      <td>0</td>\n",
       "      <td>0</td>\n",
       "    </tr>\n",
       "    <tr>\n",
       "      <th>156160</th>\n",
       "      <td>5118086</td>\n",
       "      <td>M</td>\n",
       "      <td>1</td>\n",
       "      <td>0</td>\n",
       "      <td>1 children</td>\n",
       "      <td>135000.0</td>\n",
       "      <td>Higher education</td>\n",
       "      <td>Married</td>\n",
       "      <td>House / apartment</td>\n",
       "      <td>48</td>\n",
       "      <td>9</td>\n",
       "      <td>1</td>\n",
       "      <td>0</td>\n",
       "      <td>0</td>\n",
       "      <td>Laborers</td>\n",
       "      <td>N</td>\n",
       "      <td>21</td>\n",
       "      <td>0</td>\n",
       "      <td>0</td>\n",
       "    </tr>\n",
       "    <tr>\n",
       "      <th>6774</th>\n",
       "      <td>5146138</td>\n",
       "      <td>F</td>\n",
       "      <td>0</td>\n",
       "      <td>1</td>\n",
       "      <td>No children</td>\n",
       "      <td>135000.0</td>\n",
       "      <td>Secondary / secondary special</td>\n",
       "      <td>Married</td>\n",
       "      <td>House / apartment</td>\n",
       "      <td>27</td>\n",
       "      <td>6</td>\n",
       "      <td>1</td>\n",
       "      <td>1</td>\n",
       "      <td>0</td>\n",
       "      <td>Cooking staff</td>\n",
       "      <td>N</td>\n",
       "      <td>0</td>\n",
       "      <td>0</td>\n",
       "      <td>29</td>\n",
       "    </tr>\n",
       "    <tr>\n",
       "      <th>442495</th>\n",
       "      <td>5067996</td>\n",
       "      <td>F</td>\n",
       "      <td>0</td>\n",
       "      <td>1</td>\n",
       "      <td>No children</td>\n",
       "      <td>76500.0</td>\n",
>>>>>>> 1419f3404da83c3a7d47be817615004f7ad2c527
       "      <td>Secondary / secondary special</td>\n",
       "      <td>Married</td>\n",
       "      <td>House / apartment</td>\n",
       "      <td>37</td>\n",
       "      <td>...</td>\n",
       "      <td>0</td>\n",
       "      <td>1</td>\n",
       "      <td>0</td>\n",
       "      <td>High skill tech staff</td>\n",
       "      <td>-10</td>\n",
       "      <td>1</td>\n",
       "      <td>N</td>\n",
       "      <td>28</td>\n",
       "      <td>0</td>\n",
       "      <td>0</td>\n",
       "    </tr>\n",
       "    <tr>\n",
       "      <th>386875</th>\n",
       "      <td>5028436</td>\n",
       "      <td>F</td>\n",
       "      <td>0</td>\n",
       "      <td>1</td>\n",
       "      <td>No children</td>\n",
       "      <td>180000.0</td>\n",
       "      <td>Secondary / secondary special</td>\n",
       "      <td>Separated</td>\n",
       "      <td>House / apartment</td>\n",
       "      <td>53</td>\n",
<<<<<<< HEAD
       "      <td>...</td>\n",
       "      <td>0</td>\n",
       "      <td>0</td>\n",
       "      <td>0</td>\n",
       "      <td>Sales staff</td>\n",
       "      <td>-21</td>\n",
       "      <td>1</td>\n",
       "      <td>N</td>\n",
       "      <td>4</td>\n",
       "      <td>0</td>\n",
       "      <td>4</td>\n",
       "    </tr>\n",
       "    <tr>\n",
       "      <th>487235</th>\n",
       "      <td>5067775</td>\n",
       "      <td>F</td>\n",
       "      <td>1</td>\n",
       "      <td>1</td>\n",
       "      <td>1 children</td>\n",
       "      <td>225000.0</td>\n",
       "      <td>Higher education</td>\n",
       "      <td>Separated</td>\n",
       "      <td>House / apartment</td>\n",
       "      <td>42</td>\n",
       "      <td>...</td>\n",
       "      <td>0</td>\n",
       "      <td>0</td>\n",
       "      <td>1</td>\n",
       "      <td>Laborers</td>\n",
       "      <td>-15</td>\n",
       "      <td>0</td>\n",
       "      <td>N</td>\n",
       "      <td>0</td>\n",
       "      <td>0</td>\n",
       "      <td>18</td>\n",
       "    </tr>\n",
       "    <tr>\n",
       "      <th>72728</th>\n",
       "      <td>5024749</td>\n",
       "      <td>F</td>\n",
       "      <td>0</td>\n",
       "      <td>1</td>\n",
       "      <td>No children</td>\n",
       "      <td>247500.0</td>\n",
       "      <td>Secondary / secondary special</td>\n",
       "      <td>Married</td>\n",
       "      <td>House / apartment</td>\n",
       "      <td>44</td>\n",
       "      <td>...</td>\n",
       "      <td>0</td>\n",
       "      <td>0</td>\n",
       "      <td>0</td>\n",
       "      <td>Medicine staff</td>\n",
       "      <td>-15</td>\n",
       "      <td>2</td>\n",
       "      <td>N</td>\n",
       "      <td>17</td>\n",
       "      <td>1</td>\n",
       "      <td>0</td>\n",
       "    </tr>\n",
       "    <tr>\n",
       "      <th>175093</th>\n",
       "      <td>5126819</td>\n",
       "      <td>M</td>\n",
       "      <td>0</td>\n",
       "      <td>1</td>\n",
       "      <td>1 children</td>\n",
       "      <td>157500.0</td>\n",
       "      <td>Secondary / secondary special</td>\n",
       "      <td>Married</td>\n",
       "      <td>House / apartment</td>\n",
       "      <td>29</td>\n",
       "      <td>...</td>\n",
       "      <td>0</td>\n",
       "      <td>1</td>\n",
       "      <td>1</td>\n",
       "      <td>Laborers</td>\n",
       "      <td>-18</td>\n",
       "      <td>-1</td>\n",
       "      <td>N</td>\n",
       "      <td>19</td>\n",
=======
       "      <td>13</td>\n",
       "      <td>1</td>\n",
       "      <td>1</td>\n",
       "      <td>0</td>\n",
       "      <td>Laborers</td>\n",
       "      <td>N</td>\n",
       "      <td>15</td>\n",
       "      <td>0</td>\n",
       "      <td>0</td>\n",
       "    </tr>\n",
       "    <tr>\n",
       "      <th>230977</th>\n",
       "      <td>5045163</td>\n",
       "      <td>F</td>\n",
       "      <td>1</td>\n",
       "      <td>1</td>\n",
       "      <td>2+ children</td>\n",
       "      <td>126000.0</td>\n",
       "      <td>Incomplete higher</td>\n",
       "      <td>Married</td>\n",
       "      <td>House / apartment</td>\n",
       "      <td>31</td>\n",
       "      <td>0</td>\n",
       "      <td>0</td>\n",
       "      <td>1</td>\n",
       "      <td>0</td>\n",
       "      <td>Core staff</td>\n",
       "      <td>N</td>\n",
       "      <td>13</td>\n",
       "      <td>0</td>\n",
       "      <td>0</td>\n",
       "    </tr>\n",
       "    <tr>\n",
       "      <th>276303</th>\n",
       "      <td>5058259</td>\n",
       "      <td>M</td>\n",
       "      <td>0</td>\n",
       "      <td>0</td>\n",
       "      <td>1 children</td>\n",
       "      <td>225000.0</td>\n",
       "      <td>Secondary / secondary special</td>\n",
       "      <td>Married</td>\n",
       "      <td>With parents</td>\n",
       "      <td>48</td>\n",
       "      <td>5</td>\n",
       "      <td>0</td>\n",
       "      <td>0</td>\n",
       "      <td>0</td>\n",
       "      <td>Drivers</td>\n",
       "      <td>N</td>\n",
       "      <td>28</td>\n",
>>>>>>> 1419f3404da83c3a7d47be817615004f7ad2c527
       "      <td>0</td>\n",
       "      <td>1</td>\n",
       "    </tr>\n",
       "  </tbody>\n",
       "</table>\n",
<<<<<<< HEAD
       "<p>10 rows × 21 columns</p>\n",
=======
>>>>>>> 1419f3404da83c3a7d47be817615004f7ad2c527
       "</div>"
      ],
      "text/plain": [
       "        applicant_ID gender owning_car owning_property children_amt  \\\n",
<<<<<<< HEAD
       "389122       5021583      F          0               0   1 children   \n",
       "374639       5061265      F          0               1  No children   \n",
       "460476       5033509      M          0               0  No children   \n",
       "223922       5116854      F          1               0  No children   \n",
       "3483         5069249      F          0               0  No children   \n",
       "101533       5118026      F          0               0  No children   \n",
       "386875       5028436      F          0               1  No children   \n",
       "487235       5067775      F          1               1   1 children   \n",
       "72728        5024749      F          0               1  No children   \n",
       "175093       5126819      M          0               1   1 children   \n",
       "\n",
       "        anual_income                education_level        marital_status  \\\n",
       "389122       40500.0  Secondary / secondary special               Married   \n",
       "374639      211500.0  Secondary / secondary special               Married   \n",
       "460476      171000.0  Secondary / secondary special               Married   \n",
       "223922      112500.0  Secondary / secondary special               Married   \n",
       "3483        180000.0               Higher education  Single / not married   \n",
       "101533      315000.0  Secondary / secondary special               Married   \n",
       "386875      180000.0  Secondary / secondary special             Separated   \n",
       "487235      225000.0               Higher education             Separated   \n",
       "72728       247500.0  Secondary / secondary special               Married   \n",
       "175093      157500.0  Secondary / secondary special               Married   \n",
       "\n",
       "             housing_type  age  ...  owning_work_phone  owning_phone  \\\n",
       "389122   Rented apartment   35  ...                  0             0   \n",
       "374639  House / apartment   45  ...                  0             0   \n",
       "460476  House / apartment   56  ...                  1             1   \n",
       "223922  House / apartment   50  ...                  0             0   \n",
       "3483    House / apartment   37  ...                  0             0   \n",
       "101533  House / apartment   37  ...                  0             1   \n",
       "386875  House / apartment   53  ...                  0             0   \n",
       "487235  House / apartment   42  ...                  0             0   \n",
       "72728   House / apartment   44  ...                  0             0   \n",
       "175093  House / apartment   29  ...                  0             1   \n",
       "\n",
       "        owning_email                    job BEGIN_MONTHS  payment_status  \\\n",
       "389122             0          Cooking staff           -5               1   \n",
       "374639             0            Sales staff           -8               1   \n",
       "460476             0                Drivers          -47               0   \n",
       "223922             0             Core staff          -15               1   \n",
       "3483               0               IT staff          -46               1   \n",
       "101533             0  High skill tech staff          -10               1   \n",
       "386875             0            Sales staff          -21               1   \n",
       "487235             1               Laborers          -15               0   \n",
       "72728              0         Medicine staff          -15               2   \n",
       "175093             1               Laborers          -18              -1   \n",
       "\n",
       "        risk_user total_good_credit  total_bad_credit  total_no_credit  \n",
       "389122          N                 6                 0                3  \n",
       "374639          N                 6                 0                5  \n",
       "460476          N                29                 0               21  \n",
       "223922          N                32                 0                1  \n",
       "3483            N                53                 0                0  \n",
       "101533          N                28                 0                0  \n",
       "386875          N                 4                 0                4  \n",
       "487235          N                 0                 0               18  \n",
       "72728           N                17                 1                0  \n",
       "175093          N                19                 0                1  \n",
       "\n",
       "[10 rows x 21 columns]"
      ]
     },
     "execution_count": 26,
=======
       "142298       5036590      M          1               1  No children   \n",
       "312018       5125714      F          1               1  No children   \n",
       "443325       5115557      F          1               1  No children   \n",
       "497999       5135746      M          0               1  2+ children   \n",
       "280567       5142804      F          0               0  No children   \n",
       "156160       5118086      M          1               0   1 children   \n",
       "6774         5146138      F          0               1  No children   \n",
       "442495       5067996      F          0               1  No children   \n",
       "230977       5045163      F          1               1  2+ children   \n",
       "276303       5058259      M          0               0   1 children   \n",
       "\n",
       "        anual_income                education_level marital_status  \\\n",
       "142298      292500.0               Higher education        Married   \n",
       "312018      135000.0                Lower secondary        Married   \n",
       "443325      135000.0               Higher education        Married   \n",
       "497999      112500.0  Secondary / secondary special        Married   \n",
       "280567      180000.0  Secondary / secondary special        Married   \n",
       "156160      135000.0               Higher education        Married   \n",
       "6774        135000.0  Secondary / secondary special        Married   \n",
       "442495       76500.0  Secondary / secondary special        Married   \n",
       "230977      126000.0              Incomplete higher        Married   \n",
       "276303      225000.0  Secondary / secondary special        Married   \n",
       "\n",
       "             housing_type  age  working_years  owning_work_phone  \\\n",
       "142298  House / apartment   57              2                  0   \n",
       "312018  House / apartment   44              1                  0   \n",
       "443325  House / apartment   40              4                  0   \n",
       "497999  House / apartment   32             11                  0   \n",
       "280567  House / apartment   50             12                  1   \n",
       "156160  House / apartment   48              9                  1   \n",
       "6774    House / apartment   27              6                  1   \n",
       "442495  House / apartment   53             13                  1   \n",
       "230977  House / apartment   31              0                  0   \n",
       "276303       With parents   48              5                  0   \n",
       "\n",
       "        owning_phone  owning_email                    job risk_user  \\\n",
       "142298             0             0                Drivers         Y   \n",
       "312018             1             0  High skill tech staff         N   \n",
       "443325             0             0               Laborers         N   \n",
       "497999             0             0               Laborers         N   \n",
       "280567             1             0            Accountants         N   \n",
       "156160             0             0               Laborers         N   \n",
       "6774               1             0          Cooking staff         N   \n",
       "442495             1             0               Laborers         N   \n",
       "230977             1             0             Core staff         N   \n",
       "276303             0             0                Drivers         N   \n",
       "\n",
       "        total_good_credit  total_bad_credit  total_no_credit  \n",
       "142298                  3                11                0  \n",
       "312018                 37                 0                0  \n",
       "443325                  9                 0                0  \n",
       "497999                 24                 0                1  \n",
       "280567                 53                 0                0  \n",
       "156160                 21                 0                0  \n",
       "6774                    0                 0               29  \n",
       "442495                 15                 0                0  \n",
       "230977                 13                 0                0  \n",
       "276303                 28                 0                1  "
      ]
     },
     "execution_count": 8,
>>>>>>> 1419f3404da83c3a7d47be817615004f7ad2c527
     "metadata": {},
     "output_type": "execute_result"
    }
   ],
   "source": [
    "cca_unique_id = cca.drop_duplicates('applicant_ID')\n",
<<<<<<< HEAD
=======
    "cca_unique_id = cca_unique_id.drop(['BEGIN_MONTHS','payment_status'], axis= 1)\n",
>>>>>>> 1419f3404da83c3a7d47be817615004f7ad2c527
    "cca_unique_id.sample(10)"
   ]
  },
  {
   "cell_type": "markdown",
   "metadata": {},
   "source": [
    "## Testdatensatz von 20%\n",
    "Es wir einen zufälligen Test-Datensatz von 20 Prozent gesampelt. \n",
    "\n",
    "---- Theorie."
   ]
  },
  {
   "cell_type": "code",
<<<<<<< HEAD
   "execution_count": 28,
   "metadata": {},
   "outputs": [],
   "source": [
    "cca_for_model = cca_unique_id.drop(['BEGIN_MONTHS','payment_status'], axis= 1)\n",
    "\n",
    "training_data = cca_for_model.sample(frac=0.8, random_state=25)\n",
    "testing_data = cca_for_model.drop(training_data.index)"
=======
   "execution_count": 9,
   "metadata": {},
   "outputs": [],
   "source": [
    "training_data = cca_unique_id.sample(frac=0.8, random_state=25)\n",
    "testing_data = cca_unique_id.drop(training_data.index)"
>>>>>>> 1419f3404da83c3a7d47be817615004f7ad2c527
   ]
  },
  {
   "cell_type": "markdown",
   "metadata": {},
   "source": [
    "## Deskriptive Analyse / Visualisierung \n",
    "\n",
    "Die deskriptive Analyse, auch bekannt als deskriptive Analytik oder deskriptive Statistik, ist der Prozess der Verwendung statistischer Techniken zur Beschreibung oder Zusammenfassung einer Reihe von Daten. Als eine der wichtigsten Arten der Datenanalyse ist die deskriptive Analyse beliebt, da sie zugängliche Erkenntnisse aus Daten generieren kann. [1]\n",
    "\n",
    "Im Gegensatz zu anderen Arten der Datenanalyse versucht die deskriptive Analyse nicht, Vorhersagen über die Zukunft zu treffen. Stattdessen zieht es Erkenntnisse ausschließlich aus vergangenen Daten, indem es sie auf eine Weise manipuliert, die sie aussagekräftiger macht.\n",
    "\n",
    "@Chengyi Hua"
   ]
  },
  {
   "cell_type": "code",
   "execution_count": 13,
   "metadata": {},
   "outputs": [
    {
     "data": {
      "image/png": "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",
      "text/plain": [
       "<Figure size 432x288 with 1 Axes>"
      ]
     },
     "metadata": {
      "needs_background": "light"
     },
     "output_type": "display_data"
    }
   ],
   "source": [
    "riskuser_plot = sns.countplot(x='risk_user',data=cca_unique_id)"
   ]
  },
  {
   "cell_type": "code",
   "execution_count": 11,
   "metadata": {},
   "outputs": [
    {
     "name": "stdout",
     "output_type": "stream",
     "text": [
      "Class=N, n=25062 (99.71353544998807%)\n",
      "Class=Y, n=72 (0.28646455001193605%)\n"
     ]
    }
   ],
   "source": [
    "def class_count(y):\n",
    "    counter = Counter(y)\n",
    "    for k, v in counter.items():\n",
    "        dist = v / len(y) * 100\n",
    "        print(f\"Class={k}, n={v} ({dist}%)\")\n",
    "\n",
    "class_count(cca_unique_id.risk_user)"
   ]
  },
  {
   "cell_type": "markdown",
   "metadata": {},
   "source": [
    "Unser Datensatz weist weniger als 1% seltener, aber “interessanter” Ereignisse auf (z. B. User, die als ...). Es ist also ein unausgewogener Datensatz. Die meisten Algorithmen zum maschinellen Lernen funktionieren jedoch nicht gut mit unausgewogenen Datensätzen.\n",
    "\n",
    "#### Problem mit unausgeglichenem Datensatz <br>\n",
    "Auswirkung / Folgen: <br>\n",
    "- __Eine unausgewogene Klassifizierung__. Es für zu der Entwicklung von Vorhersagemodellen für Klassifizierungsdatensätze, die ein schwerwiegendes Klassenungleichgewicht aufweisen. Die Herausforderung bei der Arbeit mit unausgewogenen Datensätzen besteht darin, dass die meisten maschinellen Lerntechniken die Minderheitsklasse ignorieren und dafür eine schlechte Leistung erbringen, obwohl normalerweise die Leistung der Minderheitsklasse am wichtigsten ist.<br><br>\n",
    "@Chengyi Hua\n",
    "\n"
   ]
  },
  {
   "cell_type": "code",
   "execution_count": 30,
   "metadata": {},
   "outputs": [],
   "source": [
    "#extracting applicants not being risk user\n",
    "non_risk_user = cca_unique_id[cca_unique_id.risk_user == 'N']\n",
    "#not_risk.sample(10)\n",
    "\n",
    "#extracting applicants being risk user\n",
    "risk_user = cca_unique_id[cca_unique_id.risk_user == 'Y']\n",
    "#risk.sample(10)"
   ]
  },
  {
   "cell_type": "code",
<<<<<<< HEAD
   "execution_count": 31,
=======
   "execution_count": 28,
>>>>>>> 1419f3404da83c3a7d47be817615004f7ad2c527
   "metadata": {},
   "outputs": [
    {
     "data": {
<<<<<<< HEAD
      "image/png": "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",
=======
      "image/png": "iVBORw0KGgoAAAANSUhEUgAAAZgAAAEKCAYAAAAvlUMdAAAAOXRFWHRTb2Z0d2FyZQBNYXRwbG90bGliIHZlcnNpb24zLjUuMiwgaHR0cHM6Ly9tYXRwbG90bGliLm9yZy8qNh9FAAAACXBIWXMAAAsTAAALEwEAmpwYAAAX6UlEQVR4nO3dcaze1X3f8fcHTIE2gRi4ocSGgQLpBDQh4sqhTbWlobPdTJ1JC8tFa3EXNKeMTIkUbYNKGynIUtiSopAlSES4GNQFPBKKG8GYA02jKAQwiMTYBGGVLDh44MQOgbTQ2fnuj+fc8fjy+HJxfe6F6/dL+un5Pd/nd849P8nw0fmd89ybqkKSpAPtkLkegCRpfjJgJEldGDCSpC4MGElSFwaMJKkLA0aS1EW3gElyRJIHknwnyeYkf9Lqn0zywySPtOMDQ20uT7I1yeNJlg3Vz06yqX12bZK0+uFJbm31+5OcPNRmZZIn2rGy131KkkZLr+/BtBD4pap6IclhwDeBjwHLgReq6tNTrj8d+BKwBHgb8DXgHVW1J8kDre23gTuBa6vqriT/FnhnVf1Rkgngg1X1oSTHABuBcaCAh4Czq2pXl5uVJL1CtxlMDbzQ3h7WjunSbAVwS1W9VFVPAluBJUlOAI6qqvtqkIY3AecNtVnbzm8Dzm3BtgzYUFU7W6hsYBBskqRZsqBn50kOZTB7OBX4fFXdn+S3gY8muYjBLOMTLQQWMZihTNrWav+3nU+t016fAqiq3UmeA44dro9oM9Jxxx1XJ5988v7cpiQdtB566KEfVdXYqM+6BkxV7QHOSvIW4PYkZwLXAVcxmM1cBXwG+DCQUV1MU2c/2/x/SVYBqwBOOukkNm7cON3tSJKmSPK/9/XZrOwiq6qfAF8HllfVM1W1p6p+DnyRwZoLDGYZJw41Www83eqLR9T3apNkAXA0sHOavqaO6/qqGq+q8bGxkQEsSdpPPXeRjbWZC0mOBH4L+F5bU5n0QeDRdr4emGg7w04BTgMeqKrtwPNJzmnrKxcBdwy1mdwhdj5wb1unuRtYmmRhkoXA0laTJM2Sno/ITgDWtnWYQ4B1VfXVJDcnOYvBI6vvAx8BqKrNSdYBW4DdwKXtERvAJcCNwJHAXe0AuAG4OclWBjOXidbXziRXAQ+2666sqp0d71WSNEW3bcpvNOPj4+UajCS9NkkeqqrxUZ/5TX5JUhcGjCSpCwNGktSFASNJ6sKAkSR10fWb/Aebs//9TXM9BL0OPfRfL5rrIUhzwhmMJKkLA0aS1IUBI0nqwoCRJHVhwEiSujBgJEldGDCSpC4MGElSFwaMJKkLA0aS1IUBI0nqwoCRJHVhwEiSujBgJEldGDCSpC4MGElSF90CJskRSR5I8p0km5P8Sasfk2RDkifa68KhNpcn2Zrk8STLhupnJ9nUPrs2SVr98CS3tvr9SU4earOy/YwnkqzsdZ+SpNF6zmBeAt5fVe8CzgKWJzkHuAy4p6pOA+5p70lyOjABnAEsB76Q5NDW13XAKuC0dixv9YuBXVV1KnANcHXr6xjgCuA9wBLgiuEgkyT11y1gauCF9vawdhSwAljb6muB89r5CuCWqnqpqp4EtgJLkpwAHFVV91VVATdNaTPZ123AuW12swzYUFU7q2oXsIGXQ0mSNAu6rsEkOTTJI8CzDP6Hfz9wfFVtB2ivb22XLwKeGmq+rdUWtfOp9b3aVNVu4Dng2Gn6kiTNkq4BU1V7quosYDGD2ciZ01yeUV1MU9/fNi//wGRVko1JNu7YsWOaoUmSXqtZ2UVWVT8Bvs7gMdUz7bEX7fXZdtk24MShZouBp1t98Yj6Xm2SLACOBnZO09fUcV1fVeNVNT42Nrb/NyhJeoWeu8jGkrylnR8J/BbwPWA9MLmrayVwRztfD0y0nWGnMFjMf6A9Rns+yTltfeWiKW0m+zofuLet09wNLE2ysC3uL201SdIsWdCx7xOAtW0n2CHAuqr6apL7gHVJLgZ+AFwAUFWbk6wDtgC7gUurak/r6xLgRuBI4K52ANwA3JxkK4OZy0Tra2eSq4AH23VXVtXOjvcqSZqiW8BU1XeBd4+o/xg4dx9tVgOrR9Q3Aq9Yv6mqF2kBNeKzNcCa1zZqSdKB4jf5JUldGDCSpC4MGElSFwaMJKkLA0aS1IUBI0nqwoCRJHVhwEiSujBgJEldGDCSpC4MGElSFwaMJKkLA0aS1IUBI0nqwoCRJHVhwEiSujBgJEldGDCSpC4MGElSFwaMJKkLA0aS1IUBI0nqolvAJDkxyV8leSzJ5iQfa/VPJvlhkkfa8YGhNpcn2Zrk8STLhupnJ9nUPrs2SVr98CS3tvr9SU4earMyyRPtWNnrPiVJoy3o2Pdu4BNV9XCSNwMPJdnQPrumqj49fHGS04EJ4AzgbcDXkryjqvYA1wGrgG8DdwLLgbuAi4FdVXVqkgngauBDSY4BrgDGgWo/e31V7ep4v5KkId1mMFW1vaoebufPA48Bi6ZpsgK4papeqqonga3AkiQnAEdV1X1VVcBNwHlDbda289uAc9vsZhmwoap2tlDZwCCUJEmzZFbWYNqjq3cD97fSR5N8N8maJAtbbRHw1FCzba22qJ1Pre/Vpqp2A88Bx07TlyRplnQPmCRvAr4MfLyqfsrgcdfbgbOA7cBnJi8d0bymqe9vm+GxrUqyMcnGHTt2THcbkqTXqGvAJDmMQbj8eVV9BaCqnqmqPVX1c+CLwJJ2+TbgxKHmi4GnW33xiPpebZIsAI4Gdk7T116q6vqqGq+q8bGxsX/IrUqSpui5iyzADcBjVfWnQ/UThi77IPBoO18PTLSdYacApwEPVNV24Pkk57Q+LwLuGGozuUPsfODetk5zN7A0ycL2CG5pq0mSZknPXWTvBf4A2JTkkVb7Y+DCJGcxeGT1feAjAFW1Ock6YAuDHWiXth1kAJcANwJHMtg9dler3wDcnGQrg5nLROtrZ5KrgAfbdVdW1c4udylJGqlbwFTVNxm9FnLnNG1WA6tH1DcCZ46ovwhcsI++1gBrZjpeSdKB5Tf5JUldGDCSpC4MGElSFwaMJKkLA0aS1IUBI0nqwoCRJHVhwEiSujBgJEldGDCSpC4MGElSFwaMJKkLA0aS1IUBI0nqwoCRJHVhwEiSujBgJEldGDCSpC4MGElSFwaMJKkLA0aS1IUBI0nqolvAJDkxyV8leSzJ5iQfa/VjkmxI8kR7XTjU5vIkW5M8nmTZUP3sJJvaZ9cmSasfnuTWVr8/yclDbVa2n/FEkpW97lOSNNqCjn3vBj5RVQ8neTPwUJINwB8C91TVp5JcBlwG/MckpwMTwBnA24CvJXlHVe0BrgNWAd8G7gSWA3cBFwO7qurUJBPA1cCHkhwDXAGMA9V+9vqq2tXxfqXXtR9c+atzPQS9Dp30nzd167vbDKaqtlfVw+38eeAxYBGwAljbLlsLnNfOVwC3VNVLVfUksBVYkuQE4Kiquq+qCrhpSpvJvm4Dzm2zm2XAhqra2UJlA4NQkiTNkllZg2mPrt4N3A8cX1XbYRBCwFvbZYuAp4aabWu1Re18an2vNlW1G3gOOHaaviRJs6R7wCR5E/Bl4ONV9dPpLh1Rq2nq+9tmeGyrkmxMsnHHjh3TDE2S9Fp1DZgkhzEIlz+vqq+08jPtsRft9dlW3wacONR8MfB0qy8eUd+rTZIFwNHAzmn62ktVXV9V41U1PjY2tr+3KUkaoecusgA3AI9V1Z8OfbQemNzVtRK4Y6g+0XaGnQKcBjzQHqM9n+Sc1udFU9pM9nU+cG9bp7kbWJpkYdultrTVJEmzpOcusvcCfwBsSvJIq/0x8ClgXZKLgR8AFwBU1eYk64AtDHagXdp2kAFcAtwIHMlg99hdrX4DcHOSrQxmLhOtr51JrgIebNddWVU7O92nJGmEGQVMknuq6txXqw2rqm8yei0EYGS7qloNrB5R3wicOaL+Ii2gRny2Blizr/FJkvqaNmCSHAH8InBce9Q0GRhHMfiuiiRJI73aDOYjwMcZhMlDvBwwPwU+329YkqQ3umkDpqo+C3w2yb+rqs/N0pgkSfPAjNZgqupzSX4dOHm4TVXd1GlckqQ3uJku8t8MvB14BJjc2TX5a1skSXqFmW5THgdOb98xkSTpVc30i5aPAr/ccyCSpPllpjOY44AtSR4AXposVtW/6DIqSdIb3kwD5pM9ByFJmn9muovsr3sPRJI0v8x0F9nzvPzr7n8BOAz4WVUd1WtgkqQ3tpnOYN48/D7JecCSHgOSJM0P+/Xr+qvqL4D3H9ihSJLmk5k+IvvdobeHMPhejN+JkSTt00x3kf3O0Plu4PvAigM+GknSvDHTNZh/3XsgkqT5ZUZrMEkWJ7k9ybNJnkny5SSLew9OkvTGNdNF/j8D1jP4uzCLgL9sNUmSRpppwIxV1Z9V1e523AiMdRyXJOkNbqYB86Mkv5/k0Hb8PvDjngOTJL2xzTRgPgz8S+D/ANuB8wEX/iVJ+zTTbcpXASurahdAkmOATzMIHkmSXmGmM5h3ToYLQFXtBN49XYMka9qus0eHap9M8sMkj7TjA0OfXZ5ka5LHkywbqp+dZFP77NokafXDk9za6vcnOXmozcokT7Rj5QzvUZJ0AM00YA5JsnDyTZvBvNrs50Zg+Yj6NVV1VjvubP2dDkwAZ7Q2X0hyaLv+OmAVcFo7Jvu8GNhVVacC1wBXD43tCuA9DH5f2hXDY5ckzY6ZBsxngG8luSrJlcC3gP8yXYOq+gawc4b9rwBuqaqXqupJYCuwJMkJwFFVdV/7c803AecNtVnbzm8Dzm2zm2XAhqra2WZdGxgddJKkjmYUMFV1E/B7wDPADuB3q+rm/fyZH03y3fYIbXJmsQh4auiaba22qJ1Pre/Vpqp2A88Bx07TlyRpFs34tylX1Zaq+m9V9bmq2rKfP+864O3AWQx2o32m1TPqR05T3982e0myKsnGJBt37NgxzbAlSa/Vfv26/v1VVc9U1Z6q+jnwRV7+mzLbgBOHLl0MPN3qi0fU92qTZAFwNINHcvvqa9R4rq+q8aoaHxvze6OSdCDNasC0NZVJHwQmd5itBybazrBTGCzmP1BV24Hnk5zT1lcuAu4YajO5Q+x84N62TnM3sDTJwvYIbmmrSZJm0Uy/B/OaJfkS8D7guCTbGOzsel+Ssxg8svo+8BGAqtqcZB2whcGfA7i0qva0ri5hsCPtSOCudgDcANycZCuDmctE62tnkquAB9t1V7Zt1ZKkWdQtYKrqwhHlG6a5fjWwekR9I3DmiPqLwAX76GsNsGbGg5UkHXCz+ohMknTwMGAkSV0YMJKkLgwYSVIXBowkqQsDRpLUhQEjSerCgJEkdWHASJK6MGAkSV0YMJKkLgwYSVIXBowkqQsDRpLUhQEjSerCgJEkdWHASJK6MGAkSV0YMJKkLgwYSVIXBowkqQsDRpLURbeASbImybNJHh2qHZNkQ5In2uvCoc8uT7I1yeNJlg3Vz06yqX12bZK0+uFJbm31+5OcPNRmZfsZTyRZ2eseJUn71nMGcyOwfErtMuCeqjoNuKe9J8npwARwRmvzhSSHtjbXAauA09ox2efFwK6qOhW4Bri69XUMcAXwHmAJcMVwkEmSZke3gKmqbwA7p5RXAGvb+VrgvKH6LVX1UlU9CWwFliQ5ATiqqu6rqgJumtJmsq/bgHPb7GYZsKGqdlbVLmADrww6SVJns70Gc3xVbQdor29t9UXAU0PXbWu1Re18an2vNlW1G3gOOHaaviRJs+j1ssifEbWapr6/bfb+ocmqJBuTbNyxY8eMBipJmpnZDphn2mMv2uuzrb4NOHHousXA062+eER9rzZJFgBHM3gkt6++XqGqrq+q8aoaHxsb+wfcliRpqtkOmPXA5K6ulcAdQ/WJtjPsFAaL+Q+0x2jPJzmnra9cNKXNZF/nA/e2dZq7gaVJFrbF/aWtJkmaRQt6dZzkS8D7gOOSbGOws+tTwLokFwM/AC4AqKrNSdYBW4DdwKVVtad1dQmDHWlHAne1A+AG4OYkWxnMXCZaXzuTXAU82K67sqqmbjaQJHXWLWCq6sJ9fHTuPq5fDaweUd8InDmi/iItoEZ8tgZYM+PBSpIOuNfLIr8kaZ4xYCRJXRgwkqQuDBhJUhcGjCSpCwNGktSFASNJ6sKAkSR1YcBIkrowYCRJXRgwkqQuDBhJUhcGjCSpCwNGktSFASNJ6sKAkSR1YcBIkrowYCRJXRgwkqQuDBhJUhcGjCSpCwNGktTFnARMku8n2ZTkkSQbW+2YJBuSPNFeFw5df3mSrUkeT7JsqH5262drkmuTpNUPT3Jrq9+f5ORZv0lJOsjN5QzmN6vqrKoab+8vA+6pqtOAe9p7kpwOTABnAMuBLyQ5tLW5DlgFnNaO5a1+MbCrqk4FrgGunoX7kSQNeT09IlsBrG3na4Hzhuq3VNVLVfUksBVYkuQE4Kiquq+qCrhpSpvJvm4Dzp2c3UiSZsdcBUwB/yvJQ0lWtdrxVbUdoL2+tdUXAU8Ntd3Waova+dT6Xm2qajfwHHBsh/uQJO3Dgjn6ue+tqqeTvBXYkOR701w7auZR09Sna7N3x4NwWwVw0kknTT9iSdJrMiczmKp6ur0+C9wOLAGeaY+9aK/Ptsu3AScONV8MPN3qi0fU92qTZAFwNLBzxDiur6rxqhofGxs7MDcnSQLmIGCS/FKSN0+eA0uBR4H1wMp22Urgjna+HphoO8NOYbCY/0B7jPZ8knPa+spFU9pM9nU+cG9bp5EkzZK5eER2PHB7W3NfAPz3qvqfSR4E1iW5GPgBcAFAVW1Osg7YAuwGLq2qPa2vS4AbgSOBu9oBcANwc5KtDGYuE7NxY5Kkl816wFTV3wDvGlH/MXDuPtqsBlaPqG8EzhxRf5EWUJKkufF62qYsSZpHDBhJUhcGjCSpCwNGktSFASNJ6sKAkSR1YcBIkrowYCRJXRgwkqQuDBhJUhcGjCSpCwNGktSFASNJ6sKAkSR1YcBIkrowYCRJXRgwkqQuDBhJUhcGjCSpCwNGktSFASNJ6sKAkSR1Ma8DJsnyJI8n2ZrksrkejyQdTOZtwCQ5FPg88NvA6cCFSU6f21FJ0sFj3gYMsATYWlV/U1V/D9wCrJjjMUnSQWM+B8wi4Kmh99taTZI0CxbM9QA6yoha7XVBsgpY1d6+kOTx7qM6eBwH/GiuB/F6kE+vnOsh6JX89znpilH/q3xN/tG+PpjPAbMNOHHo/WLg6eELqup64PrZHNTBIsnGqhqf63FIo/jvc3bM50dkDwKnJTklyS8AE8D6OR6TJB005u0Mpqp2J/kocDdwKLCmqjbP8bAk6aAxbwMGoKruBO6c63EcpHz0qNcz/33OglTVq18lSdJrNJ/XYCRJc8iA0QGVZE+SR4aOk+d6TFKSSnLz0PsFSXYk+epcjmu+m9drMJoTf1dVZ831IKQpfgacmeTIqvo74J8BP5zjMc17zmAkHSzuAv55O78Q+NIcjuWgYMDoQDty6PHY7XM9GGnILcBEkiOAdwL3z/F45j0fkelA8xGZXpeq6rttTfBC/PrCrDBgJB1M1gOfBt4HHDu3Q5n/DBhJB5M1wHNVtSnJ++Z4LPOeASPpoFFV24DPzvU4DhZ+k1+S1IW7yCRJXRgwkqQuDBhJUhcGjCSpCwNGktSFASO9QSW5Mcn5cz0OaV8MGOkgkcTvvWlW+Q9OmgVJ/hPwr4CngB8BDwG3A58HxoC/Bf5NVX0vyY3AT4Fx4JeB/1BVtyUJ8Dng/cCTQIb6Pxv4U+BNrf8/rKrtSb4OfAt4L4Nfk/KZ7jcrNQaM1FmSceD3gHcz+G/uYQYBcz3wR1X1RJL3AF9gEB4AJwC/AfxjBsFwG/BB4FeAXwWOB7YAa5IcxiB4VlTVjiQfAlYDH259vaWq/mn3G5WmMGCk/n4DuKP9oSuS/CVwBPDrwP8YTEwAOHyozV9U1c+BLUmOb7V/AnypqvYATye5t9V/BTgT2ND6OhTYPtTXrQf+lqRXZ8BI/WVE7RDgJ9P8aYOX9tF+1O92CrC5qn5tH3397FVHKHXgIr/U3zeB30lyRJI3Mfirin8LPJnkAoAMvOtV+vkGgz+YdWiSE4DfbPXHgbEkv9b6OizJGV3uRHoNDBips6p6kME6yneArwAbgecYLPpfnOQ7wGZgxat0dTvwBLAJuA7469b/3wPnA1e3vh5h8PhNmlP+NmVpFiR5U1W9kOQXGcxEVlXVw3M9Lqkn12Ck2XF9ktMZLO6vNVx0MHAGI0nqwjUYSVIXBowkqQsDRpLUhQEjSerCgJEkdWHASJK6+H+Hyl7ekRJk7AAAAABJRU5ErkJggg==",
>>>>>>> 1419f3404da83c3a7d47be817615004f7ad2c527
      "text/plain": [
       "<Figure size 432x288 with 1 Axes>"
      ]
     },
     "metadata": {
      "needs_background": "light"
     },
     "output_type": "display_data"
    }
   ],
   "source": [
    "gender_plot = sns.countplot(x='gender',data=cca_unique_id)\n"
   ]
  },
  {
   "cell_type": "markdown",
   "metadata": {},
   "source": [
    "- fig(1): Verteilung von Männern und Frauen. Im Datensatz sind viel mehr Frauen als Männer aufgelistet."
   ]
  },
  {
   "cell_type": "code",
   "execution_count": 32,
   "metadata": {},
   "outputs": [
    {
     "name": "stdout",
     "output_type": "stream",
     "text": [
      "Class=M, n=9504 (37.813320601575555%)\n",
      "Class=F, n=15630 (62.18667939842445%)\n"
     ]
    }
   ],
   "source": [
    "class_count(cca_unique_id.gender)"
   ]
  },
  {
   "cell_type": "code",
   "execution_count": 18,
   "metadata": {},
   "outputs": [
    {
     "data": {
      "image/png": "iVBORw0KGgoAAAANSUhEUgAAAX0AAAEFCAYAAAAPCDf9AAAAOXRFWHRTb2Z0d2FyZQBNYXRwbG90bGliIHZlcnNpb24zLjUuMSwgaHR0cHM6Ly9tYXRwbG90bGliLm9yZy/YYfK9AAAACXBIWXMAAAsTAAALEwEAmpwYAAAQp0lEQVR4nO3df6zddX3H8eeltgcdBX8kOLYxyVTe27wG8SiiiNwpmKEjiCM4J/iDOOLCFDKJDCwzMo0zgRphGVuA2s7NiBbLJhW1mYwL23DugKNnsnfxB5kRzBSDIsgppXd/nG/htpzent7bzzm39/N8JE2/P873+3k3+fZ1P/dzvt/Pd2JmZgZJUh0OGHcBkqTRMfQlqSKGviRVxNCXpIo8bdwF7E6n02kBLwfuBx4fczmStL9YBhwGfKPdbvd23bloQ59+4N867iIkaT91PHDbrhsXc+jfD3DkkUeyYsWKcdciSfuFrVu3smXLFmgydFeLOfQfB1ixYgWtVmvctUjS/mbgsLhf5EpSRQx9SaqIoS9JFTH0Jakihr4kVaTo3TsRcSjQAU4CtgFrgRmgC5ybmdtLti9J2lmxnn5ELAf+FvhFs2k1sCozjwcmgFNLtS1JGqzk8M5lwN8A9zXrbeCWZvkm4MSCbUuSBigyvBMR7wR+lJlfiYiLms0TmbnjjS0PAYcMc65ut7ugWt6wZnpBx2tp+tLZrxl3CdJYlBrTPxuYiYgTgZcAfwccOmv/SuDBYU40OTm5sCdyDX0N0G63x12CVESv15uzs1xkeCczX5OZJ2TmFPBN4O3ATREx1XzkZJxMTZJGbpRz77wfuDoiVgB3A+tH2LYkiRGEftPb3+GE0u1JknbPh7MkqSKGviRVxNCXpIoY+pJUEUNfkipi6EtSRQx9SaqIoS9JFTH0Jakihr4kVcTQl6SKGPqSVBFDX5IqYuhLUkUMfUmqiKEvSRUx9CWpIoa+JFWk2OsSI2IZcDUQwAzwHmA5cCNwT/OxqzLzulI1SJJ2VvIduacAZOZxETEFfBT4IrA6My8v2K4kaTeKDe9k5g3AOc3q84AHgTbwxoiYjohrI2JlqfYlSU9VsqdPZm6LiHXAacDpwK8C12RmJyI+CHwIuGCuc3S73ZIlqlKdTmfcJUhjUTT0ATLzHRFxIfB14FWZ+YNm1wbgyj0dPzk5SavVmn8Ba6bnf6yWrHa7Pe4SpCJ6vd6cneViwzsRcVZEXNSsPgJsB74QEcc0214H2N2SpBEq2dP/AvCpiJimf9fO+cD3gSsj4jHghzw55i9JGoFioZ+ZDwNnDNh1XKk2JUlz8+EsSaqIoS9JFTH0Jakihr4kVcTQl6SKGPqSVBFDX5IqYuhLUkUMfUmqiKEvSRUpPsumpMHWbrp03CVoEXrnSX9e9Pz29CWpIoa+JFXE0Jekihj6klQRQ1+SKmLoS1JFDH1Jqkix+/QjYhlwNRDADPAe4FFgbbPeBc7NzO2lapAk7axkT/8UgMw8DlgFfBRYDazKzOOBCeDUgu1LknZR8sXoN0TEjc3q84AHgROBW5ptNwGvBzbMdZ5ut1uqRFWs0+mMuwRpoNLXZtFpGDJzW0SsA04DTgdOysyZZvdDwCF7Osfk5CStVmv+RayZnv+xWrLa7fa4S2Dzpo3jLkGL0EKvzV6vN2dnufgXuZn5DuBI+uP7T5+1ayX93r8kaUSKhX5EnBURFzWrjwDbgf+MiKlm28nAraXalyQ9VcnhnS8An4qIaWA5cD5wN3B1RKxoltcXbF+StIuSX+Q+DJwxYNcJpdqUJM3Nh7MkqSKGviRVxNCXpIoY+pJUEUNfkipi6EtSRQx9SaqIoS9JFTH0Jakihr4kVcTQl6SKGPqSVBFDX5IqYuhLUkUMfUmqiKEvSRUx9CWpIoa+JFWkyOsSI2I5sAY4AmgBHwG+D9wI3NN87KrMvK5E+5KkwUq9I/dM4IHMPCsing18E7gUWJ2ZlxdqU5K0B6VC//PA+mZ5AtgGtIGIiFPp9/bPz8yH9nSibrdbqETVrNPpjLsEaaDS12aR0M/MnwNExEr64b+K/jDPNZnZiYgPAh8CLtjTuSYnJ2m1WvMvZs30/I/VktVut8ddAps3bRx3CVqEFnpt9nq9OTvLxb7IjYjDgZuBT2fmZ4ANmbnjR9gG4OhSbUuSBisS+hHxXOCrwIWZuabZ/JWIOKZZfh3g79eSNGKlxvQvBp4FXBIRlzTb/hT4REQ8BvwQOKdQ25Kk3Sg1pn8ecN6AXceVaE+SNBwfzpKkihj6klQRQ1+SKmLoS1JFhgr9iLhywLZ1+74cSVJJc969ExHXAL8BvCwiXjRr13LgkJKFSZL2vT3dsvkR+jNlfhL48Kzt24C7C9UkSSpkztDPzHuBe4GjIuJg+r37iWb3QcBPShYnSdq3hno4KyIuAi4CHpi1eYb+0I8kaT8x7BO57waen5k/KlmMJKmsYW/Z/F8cypGk/d6wPf17gNsi4mbg0R0bM/PSIlVJkooYNvR/0PyBJ7/IlSTtZ4YK/cz88J4/JUla7Ia9e2c7/bt1ZrsvMw/f9yVJkkoZtqf/xBe+EbEceBPwykI1SZIK2esJ1zLzscz8PPDaAvVIkgoadnjn7bNWJ4AXAVuLVCRJKmbYu3d+Z9byDPBj4C27+3AzBLSG/rw9Lfpz+HwLWNsc3wXOzczte12xJGnehhreycx30X+R+eXAFcDFmfm9OQ45E3ggM48Hfhf4K2A1sKrZNgGcupDCJUl7b9jhnTZwPf25dw4AnhsRp2Xm13dzyOeB9c3yBP1ZOdvALc22m4DXAxv21Ha32x2mRGmvdDqdcZcgDVT62hx2eOcK4C07Qj4ijgWuBI4Z9OHM/HnzuZX0w38VcFlm7rjt8yGGnI9/cnKSVqs1ZJkDrJme/7Fastrt9rhLYPOmjeMuQYvQQq/NXq83Z2d52Lt3Dprdq8/M24ED5zogIg4HbgY+nZmfAWaP368EHhyybUnSPjJs6P8kIp4Yg4+IN7HzNMs7iYjnAl8FLszMNc3mOyNiqlk+Gbh1r6uVJC3IsMM75wA3RsS19MfoZ4BXzfH5i4FnAZdExCXNtvOAKyJiBf23bq3f3cGSpDKGDf2TgUeAlwLPB64DpoAtgz6cmefRD/ldnbD3JUqS9pVhh3fOAY7LzIcz8y76d+K8t1xZkqQShg395ez8BO5WnjoBmyRpkRt2eOcG4GsR8blm/c3APxapSJJUzLBP5F5I/179oP8y9Csy85K5j5IkLTbD9vTJzPV4x40k7df2emplSdL+y9CXpIoY+pJUEUNfkipi6EtSRQx9SaqIoS9JFTH0Jakihr4kVcTQl6SKGPqSVBFDX5IqMvSEa/MREa8APp6ZUxFxNHAjcE+z+6rMvK5k+5KknRUL/Yj4AHAW8HCzqQ2szszLS7UpSZpbyeGd79B/2coObeCNETEdEddGxMqCbUuSBijW08/M6yPiiFmb/gO4JjM7EfFB4EPABXs6T7fbLVShatbpdMZdgjRQ6Wuz6Jj+LjZk5oM7loErhzlocnKSVqs1/1bXTM//WC1Z7XZ73CWwedPGcZegRWih12av15uzszzKu3e+EhHHNMuvA+xqSdKIjbKn/8fAlRHxGPBD4JwRti1JonDoZ+a9wLHN8h3AcSXbkyTNzYezJKkihr4kVcTQl6SKGPqSVBFDX5IqYuhLUkUMfUmqiKEvSRUx9CWpIoa+JFXE0Jekihj6klQRQ1+SKmLoS1JFDH1JqoihL0kVMfQlqSKGviRVpOjrEiPiFcDHM3MqIl4ArAVmgC5wbmZuL9m+JGlnxXr6EfEB4BrgwGbTamBVZh4PTACnlmpbkjRYyeGd7wBvnrXeBm5plm8CTizYtiRpgGLDO5l5fUQcMWvTRGbONMsPAYcMc55ut7uvS5PodDrjLkEaqPS1WXRMfxezx+9XAg8Oc9Dk5CStVmv+ra6Znv+xWrLa7fa4S2Dzpo3jLkGL0EKvzV6vN2dneZR379wZEVPN8snArSNsW5LEaHv67weujogVwN3A+hG2LUmicOhn5r3Asc3yFuCEku1Jkubmw1mSVBFDX5IqYuhLUkUMfUmqiKEvSRUx9CWpIoa+JFXE0Jekihj6klQRQ1+SKmLoS1JFDH1JqoihL0kVMfQlqSKGviRVxNCXpIoY+pJUEUNfkioyynfkAhARdwA/a1a/l5nvGnUNklSrkYZ+RBwITGTm1CjblST1jbqnfxTwjIj4atP2xZl5+4hrkKRqjTr0HwEuA64BXgjcFBGRmdt2d0C32x1VbapIp9MZdwnSQKWvzVGH/hbg25k5A2yJiAeAw4Dv7+6AyclJWq3W/FtcMz3/Y7VktdvtcZfA5k0bx12CFqGFXpu9Xm/OzvKo7945G7gcICJ+BTgYuH/ENUhStUbd078WWBsRtwEzwNlzDe1IkvatkYZ+Zm4F/nCUbUqSnuTDWZJUEUNfkipi6EtSRQx9SaqIoS9JFTH0Jakihr4kVcTQl6SKGPqSVBFDX5IqYuhLUkUMfUmqiKEvSRUx9CWpIoa+JFXE0Jekihj6klQRQ1+SKjLS1yVGxAHAXwNHAT3g3Zn57VHWIEk1G3VP/03AgZn5SuDPgMtH3L4kVW2kPX3g1cCXATLz9oh42RyfXQawdevWBTV46EGtBR2vpanX6427BJYf8PRxl6BFaKHX5qzMXDZo/6hD/2Dgp7PWH4+Ip2XmtgGfPQxgy5YtC2pw7RmvWNDxWpq63e64S+A3n/nacZegRWgfXpuHAd/ZdeOoQ/9nwMpZ6wfsJvABvgEcD9wPPF66MElaIpbRD/xvDNo56tD/V+AU4HMRcSyweXcfbLfbPeC2URUmSUvIU3r4O4w69DcAJ0XEvwETwLtG3L4kVW1iZmZm3DVIkkbEh7MkqSKGviRVxNCXpIqM+otcjVhETAE3A2/NzM/O2n4XcEdmvnNMpUlExBHAXcAdszZ/LTMvHU9FS5+hX4f/Af4A+CxARLwY+KWxViQ96VuZOTXuImrh8E4d/gt4XkQc0qyfCfzDGOuRNCb29OtxPfDmiFgLHAN8HPj1sVYk9f12RPzLrPW3ZeYPxlXMUmfo1+MzwFXAd4Fbx1yLNJvDOyPk8E4lMvO79Mfx3wf8/ZjLkTQmhn5drgMOz8yFTV0qab/lNAySVBF7+pJUEUNfkipi6EtSRQx9SaqIoS9JFTH0pX0kIqZ2ebJUWnQMfUmqiNMwqFoR8THgdODHwP3APwHbgfPpd4g6wLmZ+WhE3A+sB14NbAPOyMzvRcTrgU8Aj9KfzXTHuV9Af9qL5wCPAO/NzDubuY+eA7wA+EBmfnEE/1TpCfb0VaWIOIV+gL8IeANwNP1pKv4IeFVmvgT4P+CC5pBfBv45M48GpoE/iYgWsA44PTPbwC9mNbGOfqi/FDiHZlrrxgOZ+VsGvsbBnr5qdRLwuczcCmyNiBuACeCFwO0RAbCCnV/u8eXm7y7wGuDFwH2ZeXezfR3wFxFxEPBy4FPNeQAOiojnNMtfL/IvkoZg6KtWj/PU33SX0f9B8D6AJryf+D+SmY82izP0f0DM7HKObbPO82jz2wLNuX4N+EmzOvs3AmmkHN5RrTYBvx8RKyLiYOD3gGcCp0XEoRExQX9M/vw5znEXcGhEHNWsvxUgM38K3BMRZwJExEn0h4SksTP0VaXM/BL9IL4T2AjcB9wNfBj4GvDf9P9//OUc53iMftB/OiLuAJ4xa/fbgHc37yL+GPCWzHR2Q42ds2yqShHxSuDIzFwXEcuBfwfOzsy7xlyaVJShrypFxLPpv03sMPo9+nWZedl4q5LKM/QlqSKO6UtSRQx9SaqIoS9JFTH0Jakihr4kVeT/AU6V1gXTw9YXAAAAAElFTkSuQmCC",
      "text/plain": [
       "<Figure size 432x288 with 1 Axes>"
      ]
     },
     "metadata": {
      "needs_background": "light"
     },
     "output_type": "display_data"
    }
   ],
   "source": [
    "gender_plot_risk = sns.countplot(x='gender',data=risk_user)"
   ]
  },
  {
   "cell_type": "markdown",
   "metadata": {},
   "source": [
    "- fig(2): Verteilung von Männern und Frauen, die als \"Risk User\" gekennzeichnet wurden. Männliche Risk User sind etwas häufiger als weibliche Risk User in dieser Tabelle."
   ]
  },
  {
   "cell_type": "code",
   "execution_count": 33,
   "metadata": {},
   "outputs": [
    {
     "name": "stdout",
     "output_type": "stream",
     "text": [
      "Class=M, n=40 (55.55555555555556%)\n",
      "Class=F, n=32 (44.44444444444444%)\n"
     ]
    }
   ],
   "source": [
    "class_count(risk_user.gender)"
   ]
  },
  {
   "cell_type": "code",
   "execution_count": 34,
   "metadata": {},
   "outputs": [
    {
     "data": {
      "image/png": "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",
      "text/plain": [
       "<Figure size 432x288 with 1 Axes>"
      ]
     },
     "metadata": {
      "needs_background": "light"
     },
     "output_type": "display_data"
    }
   ],
   "source": [
    "gender_plot_no_risk = sns.countplot(x='gender', data=non_risk_user)"
   ]
  },
  {
   "cell_type": "markdown",
   "metadata": {},
   "source": [
    "- fig(3): Verteilung von Männern und Frauen, die als Non-Risk User gekennzeichnet wurden. Man sieht dass es deutlich mehr weibliche Non-Risk User gibt als männliche. \n",
    "- Ein männlicher User hat eine höhere Wahrscheinlichkeit in dieser Tabelle als Risk-User gekennzeichnet zu sein."
   ]
  },
  {
   "cell_type": "code",
   "execution_count": 21,
   "metadata": {},
   "outputs": [
    {
     "name": "stdout",
     "output_type": "stream",
     "text": [
      "Class=M, n=9464 (37.76234937355359%)\n",
      "Class=F, n=15598 (62.23765062644642%)\n"
     ]
    }
   ],
   "source": [
    "class_count(non_risk_user.gender)"
   ]
  },
  {
   "cell_type": "code",
   "execution_count": 27,
   "metadata": {},
   "outputs": [
    {
     "data": {
      "image/png": "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",
      "text/plain": [
       "<Figure size 807.375x720 with 1 Axes>"
      ]
     },
     "metadata": {
      "needs_background": "light"
     },
     "output_type": "display_data"
    }
   ],
   "source": [
    "plot_1 = sns.relplot(x='age', y='anual_income', hue='risk_user',size='payment_status',data=cca,\n",
    "sizes=(400,40),alpha=0.01,height=10)"
   ]
  },
  {
   "cell_type": "markdown",
   "metadata": {},
   "source": [
    "- fig(4): In dieser Visualisierung versuchen wir eine klare Abtrennung von Risk- und Non-Risk-Unsern darzustellen. Wir plotten dazu die Parameter 'age', 'annual income'  und 'payment status' bei Risk und Non-Risk user. Allerdigns kann keine klare Abtrennung im Scatter-Plot beobachtet werden. Zu sehen ist lediglich, dass die blauen Punkte, die Non-Risk-User darstellen, kleiner sind als die gelben Punkte, die Risk-User darstellen. Man schließt daraus, dass sich lediglich der Parameter 'payment_status' in den beiden Kategorien klar unterscheidet.\n",
    "\n",
    "@Dennis"
   ]
  },
  {
   "cell_type": "code",
   "execution_count": 35,
   "metadata": {},
   "outputs": [
    {
     "data": {
      "image/png": "iVBORw0KGgoAAAANSUhEUgAAAX0AAAEFCAYAAAAPCDf9AAAAOXRFWHRTb2Z0d2FyZQBNYXRwbG90bGliIHZlcnNpb24zLjUuMSwgaHR0cHM6Ly9tYXRwbG90bGliLm9yZy/YYfK9AAAACXBIWXMAAAsTAAALEwEAmpwYAAAR3ElEQVR4nO3df4xdZZ3H8fdQ2kGliO4K/mJBUL4mjCJeFRAqVUBFI7Csq66KIiEsbqP4g4hokYVoVhOoK6zoBijFX1m0WFRWBBKUQhXFC/6YyH6rRFaD4CqGiCJTSmf/OKcylJk7tzNz7p07z/uVNDk/7jnPtye5n/vMc8957tD4+DiSpDLs0O8CJEm9Y+hLUkEMfUkqiKEvSQXZsd8FTKXdbg8DLwbuBh7uczmSNCgWAU8Dbmm1WmPb7py3oU8V+Df2uwhJGlDLgJu23TifQ/9ugH333ZclS5b0uxZJGgibNm1i48aNUGfotuZz6D8MsGTJEoaHh/tdiyQNmkmHxf0iV5IKYuhLUkEMfUkqiKEvSQUx9CWpIIa+JBXE0Jekghj6klSQ+fxwliT91fm7v6nfJcwb7/7tf834WHv6klQQQ1+SCmLoS1JBDH1JKoihL0kFMfQlqSCGviQVxNCXpIIY+pJUkMaeyI2IRcBFQADjwCnAg8Caen0UWJGZW5qqQZL0aE329F8HkJmHACuBjwGrgJWZuQwYAo5psH1J0jYaC/3MvBI4uV7dE7gPaAE31NuuBo5oqn1J0mM1OuFaZm6OiMuAvwdeDxyZmeP17vuBJ053jtHR0QYrlKTB0263Z3xs47NsZubbI+J04PvA4ybsWkrV++9oZGSE4eHhhqqTNCg29LuAeaTVak25b2xsrGNnubHhnYg4PiLOqFcfALYAP4yI5fW2o4Abm2pfkvRYTfb0vwpcGhHrgcXAe4DbgYsiYkm9vLbB9iVJ22gs9DPzz8AbJtl1WFNtSpI68+EsSSqIoS9JBTH0Jakghr4kFcTQl6SCGPqSVBBDX5IKYuhLUkEMfUkqiKEvSQUx9CWpIIa+JBXE0Jekghj6klSQxn85q2m7r/hkv0uYN3776ff2uwRJ85w9fUkqiKEvSQUx9CWpIIa+JBXE0Jekghj6klQQQ1+SCmLoS1JBDH1JKkgjT+RGxGJgNbAXMAx8FPg1cBXw8/pln8nMy5toX5I0uaamYXgrcG9mHh8RTwZ+BJwDrMrM8xpqU5I0jaZC/yvA2np5CNgMtICIiGOoevvvycz7G2pfkjSJRkI/M/8EEBFLqcJ/JdUwz8WZ2Y6IDwNnAadNd67R0dEmSlyQ2u12v0uQ1AOzea83NstmROwBrAMuzMwvRcSumXlfvXsdcEE35xkZGWF4eHjqF6xeP8tKF45Wq9XvEqTGbOh3AfNIp/f62NhYx85yI3fvRMTuwLXA6Zm5ut58TUS8pF4+HLBbKkk91lRP/0PAk4AzI+LMetv7gE9GxEPAPcDJDbUtSZpCU2P6pwKnTrLrkCbakyR1x4ezJKkghr4kFcTQl6SCGPqSVBBDX5IKYuhLUkEMfUkqiKEvSQUx9CWpIIa+JBXE0Jekghj6klQQQ1+SCmLoS1JBDH1JKoihL0kFMfQlqSCGviQVxNCXpIIY+pJUEENfkgpi6EtSQQx9SSqIoS9JBTH0JakgOzZx0ohYDKwG9gKGgY8CPwPWAOPAKLAiM7c00b4kaXJN9fTfCtybmcuAVwP/AawCVtbbhoBjGmpbkjSFRnr6wFeAtfXyELAZaAE31NuuBl4JrJvuRKOjo03UtyC12+1+lyCpB2bzXm8k9DPzTwARsZQq/FcC52bmeP2S+4EndnOukZERhoeHp37B6vWzqnUhabVa/S5BasyGfhcwj3R6r4+NjXXsLDf2RW5E7AF8G/h8Zn4JmDh+vxS4r6m2JUmTayT0I2J34Frg9MxcXW++LSKW18tHATc20bYkaWpNjel/CHgScGZEnFlvOxU4PyKWALfzyJi/JKlHmhrTP5Uq5Ld1WBPtSZK648NZklQQQ1+SCmLoS1JBDH1JKkhXoR8RF0yy7bK5L0eS1KSOd+9ExMXA3sCLImK/CbsW0+UTtZKk+WO6WzY/SjVT5qeAsyds30x1r70kaYB0DP3MvBO4E9g/Inah6t0P1bt3Bv7QZHGSpLnV1cNZEXEGcAZw74TN41RDP5KkAdHtE7knAftk5u+aLEaS1Kxub9n8FQ7lSNLA67an/3Pgpoj4NvDg1o2ZeU4jVUmSGtFt6N9V/4NHvsiVJA2YrkI/M8+e/lWSpPmu27t3tlDdrTPRbzJzj7kvSZLUlG57+n/9wjciFgPHAgc3VJMkqSHbPeFaZj6UmV8BXtFAPZKkBnU7vPO2CatDwH7ApkYqkiQ1ptu7d14+YXkc+D3wxrkvR5LUpG7H9N9Rj+VHfcxoZm5utDJJ0pzrdj79FtUDWpcBlwK/iogDmyxMkjT3uh3eOR94Y2Z+HyAiDgIuAF7SVGGSpLnX7d07O28NfIDMvBnYqZmSJElN6Tb0/xARx2xdiYhjefQ0y5KkAdDt8M7JwFURcQnVLZvjwEunO6ge9/9EZi6PiAOAq6i+GwD4TGZePoOaJUkz1G3oHwU8ALwQ2Ae4HFgObJzqgIj4AHA88Od6UwtYlZnnzbRYSdLsdDu8czJwSGb+OTN/QhXg75rmmDuA4yast4DXRsT6iLgkIpZuf7mSpNnotqe/mEc/gbuJx07A9iiZeUVE7DVh0w+AizOzHREfBs4CTpuu4dHR0S5LVLvd7ncJknpgNu/1bkP/SuD6iPhyvX4c8LXtbGtdZt63dZnqls9pjYyMMDw8PPULVq/fzjIWrlar1e8SpMZs6HcB80in9/rY2FjHznJXwzuZeTrVvfpB9WPo52fmmdtXJtdExNb7+g8H7JZKUo9129MnM9cCa2fR1juBCyLiIeAequ8JJEk91HXoz0Rm3gkcVC/fChzSZHuSpM62ez59SdLgMvQlqSCGviQVxNCXpIIY+pJUEENfkgpi6EtSQQx9SSqIoS9JBTH0Jakghr4kFcTQl6SCGPqSVBBDX5IKYuhLUkEMfUkqiKEvSQUx9CWpIIa+JBXE0Jekghj6klQQQ1+SCmLoS1JBDH1JKsiOTZ48Ig4EPpGZyyPi2cAaYBwYBVZk5pYm25ckPVpjPf2I+ABwMbBTvWkVsDIzlwFDwDFNtS1JmlyTwzt3AMdNWG8BN9TLVwNHNNi2JGkSjQ3vZOYVEbHXhE1DmTleL98PPLGb84yOjs51aQtWu93udwmSemA27/VGx/S3MXH8filwXzcHjYyMMDw8PPULVq+fVVELSavV6ncJUmM29LuAeaTTe31sbKxjZ7mXd+/cFhHL6+WjgBt72LYkid729N8PXBQRS4DbgbU9bFuSRMOhn5l3AgfVyxuBw5psT5LUmQ9nSVJBDH1JKoihL0kFMfQlqSCGviQVxNCXpIIY+pJUEENfkgpi6EtSQQx9SSqIoS9JBTH0Jakghr4kFcTQl6SC9HI+fc1za647p98lzBsnHPmRfpcgNcKeviQVxNCXpIIY+pJUEENfkgpi6EtSQQx9SSqIt2xKDfn6Pnv0u4R54+g7ft3vElSzpy9JBTH0Jakghr4kFaTnY/oRcSvwx3r1l5n5jl7XIEml6mnoR8ROwFBmLu9lu5KkSq97+vsDj4+Ia+u2P5SZN3c6YHR0tCeFLQTtdrvfJSwYXsu55fWcW7O5nr0O/QeAc4GLgecAV0dEZObmqQ4YGRlheHh46jOuXj/XNQ6sVqs1q+N/et1/z1Elg2+21xLgrjmoY6GYi+u5YQ7qWCg6Xc+xsbGOneVeh/5G4BeZOQ5sjIh7gacB3sQrST3Q67t3TgTOA4iIpwO7AHf3uAZJKlave/qXAGsi4iZgHDix09COJGlu9TT0M3MT8OZetilJeoQPZ0lSQQx9SSqIoS9JBTH0Jakghr4kFcTQl6SCGPqSVBBDX5IKYuhLUkEMfUkqiKEvSQUx9CWpIIa+JBXE0Jekghj6klQQQ1+SCmLoS1JBDH1JKoihL0kFMfQlqSCGviQVxNCXpIIY+pJUEENfkgqyYy8bi4gdgAuB/YEx4KTM/EUva5CkkvW6p38ssFNmHgx8EDivx+1LUtF62tMHDgW+BZCZN0fEizq8dhHApk2bOp5wt52H56y4QTc2Njar4xfv8Lg5qmTwzfZaAix6ym5zUMnCMBfXc3i3XeagkoWh0/WckJmLJts/ND4+3kBJk4uIi4ErMvPqev1XwN6ZuXnb17bb7UOBG3tWnCQtLMtardZN227sdU//j8DSCes7TBb4tVuAZcDdwMNNFyZJC8Qi4GlUGfoYvQ79DcDrgC9HxEHAT6d6YavVGgMe8yklSZrWHVPt6HXorwOOjIjvAkPAO3rcviQVradj+pKk/vLhLEkqiKEvSQUx9CWpIL3+IndBiYhFwEVAAOPAKZk52t+qBltE7Aa0gSMz83/6Xc8gi4hbqW6TBvhlZnrjxCxExBnA0cAS4MLMvKTPJc2IoT87rwPIzEMiYjnwMeCYvlY0wCJiMfCfwF/6Xcugi4idgKHMXN7vWhaC+v39UuAQ4PHAaX0taBYc3pmFzLwSOLle3RO4r2/FLAznAp8FftPvQhaA/YHHR8S1EXF9/VyMZu5VVM8VrQO+AVzV33JmztCfpczcHBGXARcAX+x3PYMqIk4AfpeZ1/S7lgXiAaoP0VcBpwBfjAj/sp+5vwVeBPwjj1zPof6WNDOG/hzIzLcD+wIXRcQT+l3PgDqR6sG97wAvAD4XEU/ta0WDbSPwhcwcz8yNwL1Uj+ZrZu4FrsnMTZmZwIPAU/pc04z4yT8LEXE88MzM/DeqntWW+p+2U2a+bOtyHfynZOY9/ato4J0IPA/4l4h4OrAL1TxWmpmbgFMjYhXVh+cTqD4IBo49/dn5KnBARKwHrgHek5l+Can54BJg14i4CbgcOLHD5IaaRmZeBdwG/IBqTH9FZg7kRJBOwyBJBbGnL0kFMfQlqSCGviQVxNCXpIIY+pJUEENfmoWIuDQi9pzBcc+KiGkn7IqIb8+sMmlyhr40Oy+n+unP7bUnsE8Xr1s+g3NLU/I+fc179QyHZwMPAXtQPSBzEvAR4HDgycDvgeOA1wKHZ+ab62PPonpk/nHA31FNRLYbsBJ4BXAg8GPgTZk5HhEfBN4ALKJ64O50qoBeB4wCBwC/pZqD5WTgHOAXwLLMnPQJzYh4H/B2qqe1f5CZ/xwRPwH2Bi4DTgU+A4wAuwNZ/18+AbyrPubAiBjPzKH6nCcAyzPzhIg4FzgSeBj4WmaePZPrrDLY09egeAmwAngusBNVUD4XeGlm7ksVvG+hevr08IjYuZ4Q6y3A5+tzPI8q5N8KrKYK1RHghcDzI+LVQAt4MVW4P6M+HqoPi1WZOUI1m+pbMvPjVDOCvqZD4O8InEE1WVcL2BIRzwDeDfwwM1dQTdm7KTMPBp5N9QH1msx8N0BmHjjVRamHlo7KzP3r8zynnlZZmpShr0GxPivjVCH+MuD9wEkRcR5wMLBzZv4J+CbwD8ChwB2ZuXWq5uvqqQj+F7g7M39Wr98FPAk4gupDoQ3cShXU+9XH/l9m3lYvj1L9dTGt+vzfBW4BzgI+nZl3bfOa9cCFEbEC+BTwHGDnLq/LXcBfImID8F5gZWY+2OWxKpChr0Excd6YHah+qezaenkt1fDL1rH11cCb639rJhy3aYrzbbUI+PfMfEFmvoDqA+Bj9b6JQTrO9o3jHwu8sz7mWxFx2MSdEXE01bTcDwCXAuunOv+E6XwXw18/VA4EzgT+BvheROy7HbWpMIa+BsWhEfGMiNgBeBvVrIffyczPAj8DXkkV2mTmjcAzqb5kvXI72rgeOL4eGtqxPvb10xyzmQ6z1UbEU4DbgZ9m5keoPqiev81xRwBfzsxLgXuo/opZVO97eMI8+L8H9quD/+j6/AcAN1D9JXQa1bWIrv/HKo6hr0HxG+BzVKF2F/AFYP/6C9HrgZ8Az5rw+q8C12fmWLcNZOY3gCuA71MN4fyI6ovWTq4CvhkRz5psZ2b+juonIG+JiDbVMNIaqg+CXSPi81S/s/xPEXFbXffNE/4vXwN+XI/Tf7Bu73tUX/ZSDzl9DxitfxP3TuDqbv/PKo9372jeq+/e+ddufu+17gUvAa6jmur61markwaLP6KiheapVH8NXNTLwI+IL/LIl74Tfb0e1pHmBXv6klQQx/QlqSCGviQVxNCXpIIY+pJUEENfkgry/wHgRQF2RWq1AAAAAElFTkSuQmCC",
      "text/plain": [
       "<Figure size 432x288 with 1 Axes>"
      ]
     },
     "metadata": {
      "needs_background": "light"
     },
     "output_type": "display_data"
    }
   ],
   "source": [
    "risk_payment_status= sns.countplot(x='payment_status',data=risk_user)"
   ]
  },
  {
   "cell_type": "markdown",
   "metadata": {},
   "source": [
    "- fig(5): dieser Plot zeigt den 'payment status' aller Risk-User. Es zeichnet sich heraus, dass die meisten Personen in dieser Gruppe einen Zahlungsstatus von 6 haben, also mit ihren Rückzahlungen stark im Verzug sind (siehe Tabelle 1) "
   ]
  },
  {
   "cell_type": "code",
   "execution_count": 36,
   "metadata": {},
   "outputs": [
    {
     "name": "stdout",
     "output_type": "stream",
     "text": [
      "Class=6, n=32 (44.44444444444444%)\n",
      "Class=3, n=27 (37.5%)\n",
      "Class=4, n=7 (9.722222222222223%)\n",
      "Class=5, n=6 (8.333333333333332%)\n"
     ]
    }
   ],
   "source": [
    "class_count(risk_user.payment_status)"
   ]
  },
  {
   "cell_type": "code",
   "execution_count": 37,
   "metadata": {},
   "outputs": [
    {
     "data": {
      "image/png": "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",
      "text/plain": [
       "<Figure size 432x288 with 1 Axes>"
      ]
     },
     "metadata": {
      "needs_background": "light"
     },
     "output_type": "display_data"
    }
   ],
   "source": [
    "non_risk_payment_status= sns.countplot(x='payment_status', data= non_risk_user)"
   ]
  },
  {
   "cell_type": "markdown",
   "metadata": {},
   "source": [
    "- fig(6): Dieser Plot zeigt den Zahlungsstatus aller Non-Risk-User. Sie sind mit ihren Rückzahlungen Pünktlich oder nur leicht im Verzug, was einen starken Kontrast zu den Risk-Usern darstellt."
   ]
  },
  {
   "cell_type": "code",
   "execution_count": 38,
   "metadata": {},
   "outputs": [
    {
     "name": "stdout",
     "output_type": "stream",
     "text": [
      "Class=1, n=11812 (47.131114835208685%)\n",
      "Class=0, n=5215 (20.808395179953713%)\n",
      "Class=-1, n=7710 (30.763706009097437%)\n",
      "Class=2, n=325 (1.2967839757401642%)\n"
     ]
    }
   ],
   "source": [
    "class_count(non_risk_user.payment_status)"
   ]
  },
  {
   "cell_type": "code",
   "execution_count": 40,
   "metadata": {},
   "outputs": [
    {
     "data": {
      "image/png": "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",
      "text/plain": [
       "<Figure size 432x288 with 1 Axes>"
      ]
     },
     "metadata": {
      "needs_background": "light"
     },
     "output_type": "display_data"
    }
   ],
   "source": [
    "order=list(cca_unique_id.housing_type.unique())\n",
    "housing_non_risk = sns.countplot(x='housing_type', data=non_risk_user,order=order)\n"
   ]
  },
  {
   "cell_type": "code",
   "execution_count": 41,
   "metadata": {},
   "outputs": [
    {
     "data": {
      "image/png": "iVBORw0KGgoAAAANSUhEUgAAAYYAAAEFCAYAAADnpECTAAAAOXRFWHRTb2Z0d2FyZQBNYXRwbG90bGliIHZlcnNpb24zLjUuMSwgaHR0cHM6Ly9tYXRwbG90bGliLm9yZy/YYfK9AAAACXBIWXMAAAsTAAALEwEAmpwYAAAblUlEQVR4nO3deZwdVZ338U8DSbMFUJRFBkFAfy5RxBZBFokOoPFRUWYcUVFBHeQRUVxG1Cco+IijDqDA4AYG3BVxQxCXcSFBFrVBtAf4RVkEkVFZInuHkJ4/zrnkVtNJeqvuBD7v1yuv3K57b9Wp9XtO1a1TPUNDQ0iS1LHWdBdAkrR6MRgkSQ0GgySpwWCQJDWsM90FWJH+/v5eYGfgJuD+aS6OJK0p1ga2BH7V19c3OJ4RrLbBQAmFhdNdCElaQ+0JXDCeL67OwXATwBOe8ARmzpw53WWRpDXCkiVLWLRoEdRj6HiszsFwP8DMmTPp7e2d7rJI0ppm3KfgvfgsSWowGCRJDQaDJKnBYJAkNRgMkqQGg0GS1GAwSJIaDAZJUsPqfIPbCm1+2Menuwhj9pdT3j7dRZCkUbHFIElqMBgkSQ0GgySpodVrDBHxXuAlwEzgk8D5wBnAEDAAHJaZy9osgyRpbFprMUTEHGA3YHdgL2Br4ARgXmbuCfQA+7U1fUnS+LTZYng+8Dvg28BGwL8B/0ppNQCcB+xb31+hgYGBFos4dfr7+6e7CJI0Km0Gw6OAbYAXAY8DzgbWysyh+v4dwMarGsns2bMf/DyG+QsmtaBToa+vb7qLIOlhYHBwcMIV6jaD4RbgqsxcAmRE3Es5ndQxC1jc4vQlSePQ5q+SLgBeEBE9EfEYYAPgJ/XaA8BcfKazJK12WmsxZOY5EfEc4JeUADoMuBY4NSJmAlcCZ7U1fUnS+LT6c9XMfPcIg/dqc5qSpInxBjdJUoPBIElqMBgkSQ0GgySpwWCQJDUYDJKkBoNBktRgMEiSGgwGSVKDwSBJajAYJEkNBoMkqcFgkCQ1GAySpAaDQZLUYDBIkhoMBklSg8EgSWowGCRJDQaDJKnBYJAkNRgMkqQGg0GS1GAwSJIaDAZJUsM6bY48Ii4Fbq9/Xgt8BjgRWAr8KDOPaXP6kqSxay0YImJdoCcz53QN+w3wT8A1wLkRsVNmXtZWGSRJY9dmi2FHYP2I+FGdztFAb2ZeDRARPwT2BgwGSVqNtBkMdwPHAacBjwfOAxZ3vX8HsN2qRjIwMNBG2aZcf3//dBdBkkalzWBYBPwhM4eARRHxd+CRXe/PohkUI5o9eza9vb3NgfMXTF4pp0hfX990F0HSw8Dg4OCEK9Rt/irp9cDxABHxGGB94K6I2D4ieoDnAwtbnL4kaRzabDF8DjgjIi4AhihBsQz4MrA25VdJl7Q4fUnSOLQWDJm5BHjVCG/t2tY0JUkT5w1ukqQGg0GS1GAwSJIaDAZJUoPBIElqMBgkSQ0GgySpwWCQJDUYDJKkBoNBktRgMEiSGgwGSVKDwSBJajAYJEkNBoMkqcFgkCQ1GAySpAaDQZLUYDBIkhoMBklSg8EgSWowGCRJDQaDJKnBYJAkNRgMkqQGg0GS1LBOmyOPiM2AfmAfYClwBjAEDACHZeayNqcvSRq71loMETED+AxwTx10AjAvM/cEeoD92pq2JGn82mwxHAd8Gnhv/bsPOL++Pg/YF/j2qkYyMDDQSuGmWn9//3QXQZJGpZVgiIiDgL9l5g8johMMPZk5VF/fAWw8mnHNnj2b3t7e5sD5CyappFOnr69vuosg6WFgcHBwwhXqtloMrweGImJv4OnAF4DNut6fBSxuadqSpAlo5RpDZj4nM/fKzDnAb4DXAudFxJz6kbnAwjamLUmamFZ/lTTMO4FTI2ImcCVw1hROW5I0Sq0HQ201dOzV9vQkSRPjDW6SpAaDQZLUYDBIkhoMBklSg8EgSWowGCRJDQaDJKnBYJAkNYwqGCLi5BGGfX7yiyNJmm4rvfM5Ik4DtgOeGRFP6XprBqPsHVWStGZZVZcYHwK2BU4EjukavpTS35Ek6SFmpcGQmdcB1wE7RsRGlFZCT317Q+DWNgsnSZp6o+pErz5s573ALV2DhyinmSRJDyGj7V31jcD2mfm3NgsjSZp+o/256vV42kiSHhZG22L4PXBBRPwMuLczMDM/2EqpJEnTZrTBcGP9B8svPkuSHoJGFQyZecyqPyVJeigY7a+SllF+hdTtz5m59eQXSZI0nUbbYnjgInVEzABeCjy7pTJJkqbRmDvRy8z7MvMbwPNaKI8kaZqN9lTSa7v+7AGeAixppUSSpGk12l8lPbfr9RBwM/CKyS+OJGm6jfYaw8H12kLU7wxk5tJWSyZJmhajfR5DH+Umt88DpwPXR8QubRZMkjQ9Rnsq6STgFZl5CUBE7AqcDDxrRV+IiLWBUymtjCHgUMpd02fUvweAwzJz2XgLL0mafKP9VdKGnVAAyMyLgXVX8Z0X18/uDswDjgVOAOZl5p6Ui9j7jbnEkqRWjTYYbo2IBw7iEfFSml1wP0hmfgc4pP65DbAY6APOr8POA/YefVElSVNhtKeSDgHOiYjPUWr6Q8Buq/pSZi6tz4Z+GfDPwD6Z2bmD+g5G8XjQgYGBURZx9dbf3z/dRZCkURltMMwF7gaeAWwPfB2YAyxa1Rcz83URcSRwCbBe11uzKK2IlZo9eza9vb3NgfMXjK7Uq5G+vr7pLoKkh4HBwcEJV6hHeyrpEGD3zLwrM39LOSV0+Mq+EBGvqU9+gxIqy4BfR8ScOmwusHDsRZYktWm0LYYZNO90XsKDO9Ub7lvA6RGxoH7/COBK4NSImFlfnzWm0kqSWjfaYPgO8NOIOLP+vT/w3ZV9ITPvAv5lhLf2GnXpJElTblSnkjLzSMq9DAFsB5yUmUe1WTBJ0vQYbYuBzDwLT/1I0kPemLvdliQ9tBkMkqQGg0GS1GAwSJIaDAZJUoPBIElqMBgkSQ0GgySpwWCQJDUYDJKkBoNBktRgMEiSGgwGSVKDwSBJajAYJEkNBoMkqcFgkCQ1GAySpAaDQZLUYDBIkhoMBklSg8EgSWowGCRJDeu0MdKImAHMB7YFeoEPAVcAZwBDwABwWGYua2P6kqTxa6vFcCBwS2buCbwA+E/gBGBeHdYD7NfStCVJE9BWMHwDOKq+7gGWAn3A+XXYecDeLU1bkjQBrZxKysw7ASJiFnAWMA84LjOH6kfuADYezbgGBgbaKOKU6+/vn+4iSNKotBIMABGxNfBt4JOZ+ZWI+FjX27OAxaMZz+zZs+nt7W0OnL9gkko5dfr6+qa7CJIeBgYHBydcoW7lVFJEbA78CDgyM+fXwZdFxJz6ei6wsI1pS5Impq0Ww/uARwBHRUTnWsPbgJMiYiZwJeUUkyRpNdPWNYa3UYJguL3amJ4kafJ4g5skqcFgkCQ1GAySpAaDQZLUYDBIkhoMBklSg8EgSWowGCRJDQaDJKnBYJAkNRgMkqQGg0GS1GAwSJIaDAZJUoPBIElqMBgkSQ0GgySpwWCQJDUYDJKkBoNBktRgMEiSGgwGSVKDwSBJajAYJEkNBoMkqcFgkCQ1rNPmyCNiF+CjmTknInYAzgCGgAHgsMxc1ub0JUlj11qLISLeDZwGrFsHnQDMy8w9gR5gv7amLUkavzZbDFcD+wNfrH/3AefX1+cB+wLfXtVIBgYGWincVOvv75/uIkjSqLQWDJn5zYjYtmtQT2YO1dd3ABuPZjyzZ8+mt7e3OXD+gsko4pTq6+ub7iJIehgYHByccIV6Ki8+d19PmAUsnsJpS5JGaSqD4bKImFNfzwUWTuG0JUmj1OqvkoZ5J3BqRMwErgTOmsJpS5JGqdVgyMzrgF3r60XAXm1OT5I0cd7gJklqMBgkSQ0GgySpwWCQJDUYDJKkBoNBktRgMEiSGgwGSVKDwSBJajAYJEkNBoMkqWEqO9GTADh7+62nuwhj8pKrb5juIkhTyhaDJKnBYJAkNRgMkqQGg0GS1GAwSJIaDAZJUoM/V5Um0UmbHzDdRRizt/7la9NdBK1mbDFIkhoMBklSg8EgSWowGCRJDQaDJKnBXyWths748QenuwhjctA+75/uIkiT4uRfXD7dRRizw3ffcdLHOaXBEBFrAZ8EdgQGgTdm5h+msgySpJWb6lNJLwXWzcxnA+8Bjp/i6UuSVmGqTyXtAfwAIDMvjohnruSzawMsWbLkQW9stmFvK4Vr0+Dg4Kg/O2Ot9VosyeQby7wBrP3ozVoqSTvGMn+9m23UYknaMdb191DW2zM03UUYs+Hrr+uYufZ4x9kzNDR1CyIiTgO+mZnn1b+vB7bLzKXDP9vf378HsHDKCidJDy179vX1XTCeL051i+F2YFbX32uNFArVr4A9gZuA+9sumCQ9RKwNbEk5ho7LVAfDL4AXA2dGxK7A71b0wb6+vkFgXGknSQ9zV0/ky1MdDN8G9omIC4Ee4OApnr4kaRWm9BqDJGn1553PkqQGg0GS1GAwSJIapuzic0TMAQ7NzAO6hn0EuCozz5iiMuwPbJKZ81sa/xzgO8AVlC4/NgKuAV6dmQ++U2/l4zoEOD0z76t/PxbYMTO/N8JnDwW2yMyjJ1L+YeOcA/wMeGVmfq0OewtwCHBpZh40xvF9AjghM68f4b0PAzdl5sljGN+2wNcyc9exlGOsIuJlwCWZ+edhw38CvDczfxkRM4G/AR/KzP+o7/8cOIJyh/9rgS2o66++dwyw4UjrcypExFOA0yg/bewBvg8cnZlr1EXHiHhLZv7nCMMfBxwHbArMAC4HjszMOyJiO8r8XkLZXz8GnAzMycz96/efAyzOzN9OyYwMExHrAgdm5mktjHvEbbrbw63F8ELg3JansQR4fWY+NzP7gPuAl4xjPO+jeefi84DdJ6F8Y3EV0P2syqOBDcYzosw8YqRQqB4D/H48450Cb6ME/HA/ptxnQ/3/h5Ttq7NTbwNcnpkH1ErB8PW3K1O/Pqnl2wT4GvBn4P21LE8F3jQd5ZmgecMHRMR6wNnAxzJzTmbuTgmBr9aP7AGcm5mvo/x8/h2ZeVInFKrXU7bL6bIF8MaWxr2ibfoBU/arpFW1GCLieMoKA/hKZp4YEWdQaoU/iIgXAAdk5kERcTqwA7AecGJmfjEi9gKOpdwMdzXwpk5tu06rB/huZjYO0hHx78AzKTWLyzPz4Ig4GngisBnwCODwzLyg1pj3pxwcbwZeBryKshGtBZwDfBD4DXAg8CVgW+A24FRKzXE7YDHwdsqBdwFwF6VW8ydK7WUe8GTgzvr3LOCtlKD4RGYeGRF7ACfWcS8FLu5uMUTERpQa4SaUDfyUzPxUra1eVeevB3gFpbb7GWBryo0xZwP/BZwOPLJ+/uw6b5dSWkN/AV5EaR2dCHyoTvqbdRzbA0+q8/QtysFnAHgU5SC5IXAdJQC/VJfJO4B/BZZRdozPZuYpdd1+oC7jDesyX8IILYZJXp//DnwZWFTX5xeBG+o6XQj8U13+9wJH1eXwN8pOtwmls8gEfgs8G+gFvl6X8zOAmcAfgbmZeU3XPIy3vB+o6+sdlP3ggsx8Tx3f4+r4tqFUjv4BeC7w17oej62fWbcO27QW5yuZeSLDrGR/7anztyHw2sy8qus7E9omM3Nencam9d+5dZ5PA35JOcivR9nurgbuAGYD78rM70bEIkpF7XH1//fX+V5S19POwP+hbHunUvar8+sy3wE4qZbvFkrl7+9d8/YPwKfq8tsSmJeZ34mIKyjbylOAW4FXUvbjFS2Hv9Z1eG1dDsdR1u0OlH1nU+AUyrb3BOB1tXuhwynbwhBlvzipLqtByva6JXBQ/b+zTe+xojMZU91ieF5E/LzzjzIjRMSLKCtrV8rG9qqIeOpII4iIWcBzKCvrBcD99aB/KrB/Zu4F3EhZCN12Bn49bFwbAbdl5j6Ug8muEbFVffvuzHwe5YBwSu0ZdlNg78zchXIabuf62dsycw/g4q7Rn0vZ+Y8DOqH1B8rKnQH8P2A+pab8bsoB8h7gHykbzg11mbyPsmLfTNkwn19rfJ+inObZm7IRDbcDZQPZF9iXcrDouDAz51AOUu+j7HwXZ+bzgWcBh3Z99hfAp4EPU3aUo+rwWZSD4keB/0u5GfE4Su15U8oOugvlIL8V5QAHZQd5P7Af5U74Depy+RZlp9iK0sLaFXh7RGxWv3NgLfO3gJePML+Tvj4z81xKyL+WcvDYDngD5UB6KCUQdqGs5/OBjSnB+F1Kn2DvruPbmlJLO5nlrcevAp+o///zCLMznu3vMsopqn+sf28VEfvUzwxm5txajv0o22qnjLcBu1GC5gTKNrrCfXEV++vVtdxHUyo13SZrm/xpZu6WmccCt2bmm+vwWZn5QuBC4PGUY8QhwMER8Uhg8zrNN1P2ryso297FtWPP2ykVtrdT9t/9gbMoQXMqcFgt4/dZvm47nggcX7e9Q4DD6vD1gS/X9XEVpVW2suXw1bpPHwtckZmdPvjvycwXULavF2bmi4GPAAdExJMpIbIHZf97aURE/d4f6zI8GTike5te2entqb7B7acjtBigLPiF9fzmfRFxMaXG3K0HoJ4jPAL4LKVm9iXg0ZQkPLMuj/UoTf1uL6KcT+x2D7BZRHyVUjvfkHLQBvhpnd5/R8QWmbksIpYAX42IOyk1rs5ns2uciykHknUpB9Ur67C7KM31H1AOkjdTatX3U85F30cJ6pmUO8J3Ae6mHFj7gKdTNrI7KEGxeWYuqtP8BWVj6/YX4Ih6XeX2rrI+MG+UHWg/Sk1m54h4bv1sdy+FZ1FOJ11Ty9hxGfC0Om9XUpb5nXU6N9b3Tqllvau+T53Hiyg1mXsz88sR8W9d470wMwcBImKgLqMbgZPqct+qzu9I2lif3a7JzL9HRKfFdBml1n1/Zg7WYHpXne6iulygtJSW1eV3Tx12HSVI/odSQx1uPOXdgbIvfL/uB7Pq8qOWFcoBcSnlwEudxh21pdVp7f16+L5Y39+Qsm1ez4r31+5t6+PD5mmytskVrZ/OPP4JuCszhyLiNsq+uANl/zmGUlPfpGvZdO4Svr9+dgvKwZPM/BxARDwJ+GRdrjN48KnPm4B5EfEGSq29M2/3ZeaCrnmbSwm/FS2HFc3bpfX/xZRAgxLo61JaRdsAP6nDH0EJxu5lcgNjOHW5ulxjuJLaLI2IGZTay+8pNbIt62eeUd/fEujLzJdRmn0foyysPwH71UQ/luUbWsdOmXnpsGFzga0z85WUWsp61ACiHIyJiNnAjRHxNOClmfkK4HDKsut8dlnXOIfqe4sptZHTKBvafcDPavluBc6kbARXUoLk3ZRTDp1xLKvjWUq5CPxhynnhMykb8o11Y4XlNcdu7wQuyswDgW90lfWBeaNsKP9NaV0tzsxXU7pCX7/rs3+m1OrfSlkf3fM5g7JhrkWp1XfcRtkQX0g58J1M2QGg7ECd8m4cER+t4+qU7+kRsXZErF/H+XtKbe3gLBe8/zxsXrq1sT4766Ezz91+XKfT6d7ySsp2+BtKLfCcru91j2f4eEcynvJeS1nu+9Tt7GSWt2K7y34LpbW9AbBWRGxN2V6+RtkO94+Idbr3xcx8UT1ffzgr3l8fKDfLt61uE9om65mB7vll2Dg683gR8JiIeFbXe7tRKlp7Umra/StYNlC2sQ3rsjmyXqxNSi17Tl1G5wz7zv8HvpCZr6Hsr51yzYiIzpN0OvO2suWwrOv/7u1jZef8s473ubV8Z9A8lgy3qm1v9XiCW2aeExFzIuIiSo35zMy8NEpvrPMj4tWUGhjUGlaUbjXuB47LzCUR8Tbg3Nrkvp1ysAUgIh5DWdnD/RI4KiIWUBbgNSy/4LRTlF+ebEA57/0H4K6I6NRWb2Lki1M3A1+gNCfvoZz+Ob6+vjMiFlJOCQxRmpU/oZzzu5tyoNmujmchpck6SKn9HkGplZ1da3hvAr4QEbdTWhG3DSvH94CTI+IASkgtjYhOreugiHgHpSb/GkpwfSUinl2n93vK6YSOr9fP/Q7ort1/ov5bi2a/V/dQTkn8mBLsc+v8QWkx7VeXz7aU88hPppzG+BUlbM6ry+hDmXlzRHwJWBgRd1FqnSu6KNjG+ryQ5etzuB9TQuvm+vehlIvQd1MOPm/o+uzvKKcP161/L6qfWUgJk+HGXN7M/FtEnACcHxFrU1olZ44w7vuB11G2uzMp1znuopy2up9ywFxI1744bDor2l8B5kbEfpTToQcNm+5Et8mR1s8Vdfv4r65h91L2q3nAYynb2Q2Ubfd8yimlJSw/pgz3JuArddksoGzj11P2t3Uo29Ybhn3nG8BxEfFeyvrs3n+OjPKrwutrmXZbyXLo+Csws1ac7mElMvPyuq1cUMfzS0ore0UurPOyb2beOtIH7BJjBFEu1v1PZn56ussy2aJc2zm0+6Lg6iJG+IHCJI33aNag9bmmlbcjun4sMsbv/ZzVdJucqIi4DnhiZt67qs+uTlaXU0mSpNWELQZJUoMtBklSg8EgSWowGCRJDQaD1lj1J5M/b2nch0bpnHAyx/ni+pNMabW2WtzHIK1uWvqpaN+qPyJNP4NBa7pHR8T3Kd0bJKUfpVdR7i4dotzh+pbMvDMihjKzByAiDqJ0s3xQRBwH7EO5ueu7mXlMvZeAzDw6Im6idA2yB+VO9H/JzGvrfRcn12EXAU+ud54+SJT+bA6tr2+g9Dm1b2YuiogNKP3oPJ5yI9Y5lBC5g9Jl+3URsTOli4n1KTfUvSkzR+ojS5owTyVpTfdYSodlT6LcLXso5Q7jvTLzqZQ7aT+woi9HxDaU3k13pNyR+vgo3WZ32wL4SWbuRLkT9i21K4gvUg7cO9HsR+pBMvMKSmeEn67973yecqcxlJ4yz6k3QT0K+HlmPo3SRcVJUZ73cBrwqsx8BuVO+lNXvWik8TEYtKa7PDOvzcxllD58NgG+l5m31Pc/S+mxdkVuBO6pXU28ndJd8kh3qXbu5h2gdIv8VOCvufxBLmN9+NPp1N6FKd1TnFFf30vpggNKeDyP0r3y9sDZEfEbSo+2na5TpElnMGhNt7Tr9RAP7jOqh65Tpl0dsc0AyMyllJ5sj6L0z3RRRDxh+ES6wqLT4d/9TGD/yczrgD/WHjY3z8xL6lvLcvlT1DqdKK5N6dn16Zn5dMpppj2QWmIw6KHoJVH634fSAd3P6uubgafUcHgJQETsROlYbUFmvovSpXGwalcCj4jlzyHoPCRlZZbSvK43n9LJ4he7hq0fES+urw+mdCh4FfDIiOg8Me71lE7epFYYDHqouZ3y5LXzI+IqyqmlzuMf30O5sHsRtd/7zLys/j0QEZdSeiQ9b1UTqQ85OZDSS2U/5fkGK+0Fk3J94tVRnrYF5aFDj6QZDAAvj4jfAs8HjqjPp3g5cHwd/joe3LunNGnsK0kah9q9+0eAYzLzrnp/wlaZ+c5Rfr+H0h35odn1uNnuX05J08Wfq0rjUJ+odivwqyhPVrsOeENE/Aflp6/D/Tozux/u/nHKM4rntl5YaYxsMUiSGrzGIElqMBgkSQ0GgySpwWCQJDUYDJKkhv8FZMueeh4fl3gAAAAASUVORK5CYII=",
      "text/plain": [
       "<Figure size 432x288 with 1 Axes>"
      ]
     },
     "metadata": {
      "needs_background": "light"
     },
     "output_type": "display_data"
    }
   ],
   "source": [
    "housing_risk = sns.countplot(x='housing_type',data=risk_user,order=order)\n"
   ]
  },
  {
   "cell_type": "markdown",
   "metadata": {},
   "source": [
    "\n",
    "\n",
    "## Mögliche Lösung für unbalanced dataset: <br>\n",
    "- __over sampling__: Ein Ansatz zur Behandlung unausgewogener Datensätze besteht darin, die Minderheitsklasse zu \"oversample\". Der einfachste Ansatz besteht darin, Beispiele in der Minderheitsklasse zu duplizieren, diese Beispiele gibt dem Modell keine neuen Informationen. Es werden neue Beispiele aus den bestehenden Beispielen synthetisiert. Dies ist eine Art Datenvermehrung für die Minderheitsschicht und wird als Synthetic Minority Oversampling Technique, kurz SMOTE, bezeichnet. <br> <br>\n",
    "Diese Möglichkeit ist in der PyCarat Bikliothek integriert. Mit __fix_imbalance is True__\n",
    ", wird der unausgewogene Datensatz angepasst. Auf __Default__ ist der __fit_resample__ Methode auf SMOTE festgelegt.<br> <br>\n",
    "\n",
    "- __under ampling__: Under-Sampling gleicht den Datensatz aus, indem die Größe der reichlich vorhandenen Klasse reduziert wird. Diese Methode wird verwendet, wenn die Datenmenge ausreicht. Indem alle Stichproben in der seltenen Klasse gehalten werden und zufällig eine gleiche Anzahl von Stichproben in der reichlich vorhandenen Klasse ausgewählt wird, kann ein ausgewogener neuer Datensatz zur weiteren Modellierung abgerufen werden<br><br>\n",
    "@Chengyi Hua<br> "
   ]
  },
  {
   "cell_type": "markdown",
   "metadata": {},
   "source": [
    "## Versuche mit PyCarat <br>"
   ]
  },
  {
   "cell_type": "markdown",
   "metadata": {},
   "source": [
    "### Gründe für die Benutzung von PyCaret, ein Open-scource ML Bibliothek.\n",
    "\n",
    "PyCaret ist eine Open-Source-Low-Code-Bibliothek für maschinelles Lernen in Python, die Arbeitsabläufe für maschinelles Lernen automatisiert. Es ist ein End-to-End-Tool für maschinelles Lernen und Modellmanagement, das den Experimentzyklus exponentiell beschleunigt und sie produktiver macht.\n",
    "<br>\n",
    "<br>\n",
    "Verglichen mit den anderen Open-Source-Bibliotheken für maschinelles Lernen ist PyCaret eine alternative Low-Code-Bibliothek, mit der Hunderte von Codezeilen durch nur wenige Zeilen ersetzt werden können. Dies macht Experimente exponentiell schnell und effizient. PyCaret ist im Wesentlichen ein Python-Wrapper um mehrere Bibliotheken und Frameworks für maschinelles Lernen wie scikit-learn, XGBoost, LightGBM, CatBoost, spaCy, Optuna, Hyperopt, Ray und einige mehr.\n",
    "<br>\n",
    "<br>\n",
    "Da immer mehr Unternehmen ihren Fokus auf maschinelles Lernen verlagern, um schwierige Probleme anzugehen, werden von Datenwissenschaftlern erwartet, dass sie schneller Ergebnisse liefern können. Dies hat die Nachfrage nach der Automatisierung wichtiger Phasen in Data-Science-Projekten erhöht, sodass sich Data Scientists auf das eigentliche Problem konzentrieren können, anstatt Hunderte von Codezeilen zu schreiben, um das optimale Modell zu identifizieren.\n",
    "\n",
    "@Chengyi Hua\n",
    "\n",
    "\n",
    "theorie tratifiedkfold und kfold unterscheid und verwendung.  im Bezug auf Pycarat\n",
    "\n",
    "theorie: Cross validierung, weil es hier verwendet wird"
   ]
  },
  {
   "cell_type": "markdown",
   "metadata": {},
   "source": [
    "## Oversamplingansatz"
   ]
  },
  {
   "cell_type": "markdown",
   "metadata": {},
   "source": [
    "theorie: SMOTE"
   ]
  },
  {
   "cell_type": "code",
<<<<<<< HEAD
   "execution_count": 9,
=======
   "execution_count": 32,
>>>>>>> 1419f3404da83c3a7d47be817615004f7ad2c527
   "metadata": {},
   "outputs": [
    {
     "data": {
      "text/html": [
       "<style type=\"text/css\">\n",
<<<<<<< HEAD
       "#T_da639_row12_col1, #T_da639_row18_col1 {\n",
       "  background-color: lightgreen;\n",
       "}\n",
       "</style>\n",
       "<table id=\"T_da639_\">\n",
=======
       "#T_6d032_row12_col1, #T_6d032_row18_col1 {\n",
       "  background-color: lightgreen;\n",
       "}\n",
       "</style>\n",
       "<table id=\"T_6d032_\">\n",
>>>>>>> 1419f3404da83c3a7d47be817615004f7ad2c527
       "  <thead>\n",
       "    <tr>\n",
       "      <th class=\"blank level0\" >&nbsp;</th>\n",
       "      <th class=\"col_heading level0 col0\" >Description</th>\n",
       "      <th class=\"col_heading level0 col1\" >Value</th>\n",
       "    </tr>\n",
       "  </thead>\n",
       "  <tbody>\n",
       "    <tr>\n",
<<<<<<< HEAD
       "      <th id=\"T_da639_level0_row0\" class=\"row_heading level0 row0\" >0</th>\n",
       "      <td id=\"T_da639_row0_col0\" class=\"data row0 col0\" >Session id</td>\n",
       "      <td id=\"T_da639_row0_col1\" class=\"data row0 col1\" >5314</td>\n",
       "    </tr>\n",
       "    <tr>\n",
       "      <th id=\"T_da639_level0_row1\" class=\"row_heading level0 row1\" >1</th>\n",
       "      <td id=\"T_da639_row1_col0\" class=\"data row1 col0\" >Target</td>\n",
       "      <td id=\"T_da639_row1_col1\" class=\"data row1 col1\" >risk_user</td>\n",
       "    </tr>\n",
       "    <tr>\n",
       "      <th id=\"T_da639_level0_row2\" class=\"row_heading level0 row2\" >2</th>\n",
       "      <td id=\"T_da639_row2_col0\" class=\"data row2 col0\" >Target type</td>\n",
       "      <td id=\"T_da639_row2_col1\" class=\"data row2 col1\" >Binary</td>\n",
       "    </tr>\n",
       "    <tr>\n",
       "      <th id=\"T_da639_level0_row3\" class=\"row_heading level0 row3\" >3</th>\n",
       "      <td id=\"T_da639_row3_col0\" class=\"data row3 col0\" >Target mapping</td>\n",
       "      <td id=\"T_da639_row3_col1\" class=\"data row3 col1\" >N: 0, Y: 1</td>\n",
       "    </tr>\n",
       "    <tr>\n",
       "      <th id=\"T_da639_level0_row4\" class=\"row_heading level0 row4\" >4</th>\n",
       "      <td id=\"T_da639_row4_col0\" class=\"data row4 col0\" >Original data shape</td>\n",
       "      <td id=\"T_da639_row4_col1\" class=\"data row4 col1\" >(20107, 18)</td>\n",
       "    </tr>\n",
       "    <tr>\n",
       "      <th id=\"T_da639_level0_row5\" class=\"row_heading level0 row5\" >5</th>\n",
       "      <td id=\"T_da639_row5_col0\" class=\"data row5 col0\" >Transformed data shape</td>\n",
       "      <td id=\"T_da639_row5_col1\" class=\"data row5 col1\" >(36094, 28)</td>\n",
       "    </tr>\n",
       "    <tr>\n",
       "      <th id=\"T_da639_level0_row6\" class=\"row_heading level0 row6\" >6</th>\n",
       "      <td id=\"T_da639_row6_col0\" class=\"data row6 col0\" >Transformed train set shape</td>\n",
       "      <td id=\"T_da639_row6_col1\" class=\"data row6 col1\" >(32072, 28)</td>\n",
       "    </tr>\n",
       "    <tr>\n",
       "      <th id=\"T_da639_level0_row7\" class=\"row_heading level0 row7\" >7</th>\n",
       "      <td id=\"T_da639_row7_col0\" class=\"data row7 col0\" >Transformed test set shape</td>\n",
       "      <td id=\"T_da639_row7_col1\" class=\"data row7 col1\" >(4022, 28)</td>\n",
       "    </tr>\n",
       "    <tr>\n",
       "      <th id=\"T_da639_level0_row8\" class=\"row_heading level0 row8\" >8</th>\n",
       "      <td id=\"T_da639_row8_col0\" class=\"data row8 col0\" >Ignore features</td>\n",
       "      <td id=\"T_da639_row8_col1\" class=\"data row8 col1\" >1</td>\n",
       "    </tr>\n",
       "    <tr>\n",
       "      <th id=\"T_da639_level0_row9\" class=\"row_heading level0 row9\" >9</th>\n",
       "      <td id=\"T_da639_row9_col0\" class=\"data row9 col0\" >Ordinal features</td>\n",
       "      <td id=\"T_da639_row9_col1\" class=\"data row9 col1\" >3</td>\n",
       "    </tr>\n",
       "    <tr>\n",
       "      <th id=\"T_da639_level0_row10\" class=\"row_heading level0 row10\" >10</th>\n",
       "      <td id=\"T_da639_row10_col0\" class=\"data row10 col0\" >Numeric features</td>\n",
       "      <td id=\"T_da639_row10_col1\" class=\"data row10 col1\" >9</td>\n",
       "    </tr>\n",
       "    <tr>\n",
       "      <th id=\"T_da639_level0_row11\" class=\"row_heading level0 row11\" >11</th>\n",
       "      <td id=\"T_da639_row11_col0\" class=\"data row11 col0\" >Categorical features</td>\n",
       "      <td id=\"T_da639_row11_col1\" class=\"data row11 col1\" >8</td>\n",
       "    </tr>\n",
       "    <tr>\n",
       "      <th id=\"T_da639_level0_row12\" class=\"row_heading level0 row12\" >12</th>\n",
       "      <td id=\"T_da639_row12_col0\" class=\"data row12 col0\" >Preprocess</td>\n",
       "      <td id=\"T_da639_row12_col1\" class=\"data row12 col1\" >True</td>\n",
       "    </tr>\n",
       "    <tr>\n",
       "      <th id=\"T_da639_level0_row13\" class=\"row_heading level0 row13\" >13</th>\n",
       "      <td id=\"T_da639_row13_col0\" class=\"data row13 col0\" >Imputation type</td>\n",
       "      <td id=\"T_da639_row13_col1\" class=\"data row13 col1\" >simple</td>\n",
       "    </tr>\n",
       "    <tr>\n",
       "      <th id=\"T_da639_level0_row14\" class=\"row_heading level0 row14\" >14</th>\n",
       "      <td id=\"T_da639_row14_col0\" class=\"data row14 col0\" >Numeric imputation</td>\n",
       "      <td id=\"T_da639_row14_col1\" class=\"data row14 col1\" >mean</td>\n",
       "    </tr>\n",
       "    <tr>\n",
       "      <th id=\"T_da639_level0_row15\" class=\"row_heading level0 row15\" >15</th>\n",
       "      <td id=\"T_da639_row15_col0\" class=\"data row15 col0\" >Categorical imputation</td>\n",
       "      <td id=\"T_da639_row15_col1\" class=\"data row15 col1\" >constant</td>\n",
       "    </tr>\n",
       "    <tr>\n",
       "      <th id=\"T_da639_level0_row16\" class=\"row_heading level0 row16\" >16</th>\n",
       "      <td id=\"T_da639_row16_col0\" class=\"data row16 col0\" >Maximum one-hot encoding</td>\n",
       "      <td id=\"T_da639_row16_col1\" class=\"data row16 col1\" >5</td>\n",
       "    </tr>\n",
       "    <tr>\n",
       "      <th id=\"T_da639_level0_row17\" class=\"row_heading level0 row17\" >17</th>\n",
       "      <td id=\"T_da639_row17_col0\" class=\"data row17 col0\" >Encoding method</td>\n",
       "      <td id=\"T_da639_row17_col1\" class=\"data row17 col1\" >None</td>\n",
       "    </tr>\n",
       "    <tr>\n",
       "      <th id=\"T_da639_level0_row18\" class=\"row_heading level0 row18\" >18</th>\n",
       "      <td id=\"T_da639_row18_col0\" class=\"data row18 col0\" >Fix imbalance</td>\n",
       "      <td id=\"T_da639_row18_col1\" class=\"data row18 col1\" >True</td>\n",
       "    </tr>\n",
       "    <tr>\n",
       "      <th id=\"T_da639_level0_row19\" class=\"row_heading level0 row19\" >19</th>\n",
       "      <td id=\"T_da639_row19_col0\" class=\"data row19 col0\" >Fix imbalance method</td>\n",
       "      <td id=\"T_da639_row19_col1\" class=\"data row19 col1\" >SMOTE(k_neighbors=5, n_jobs=None, random_state=None, sampling_strategy='auto')</td>\n",
       "    </tr>\n",
       "    <tr>\n",
       "      <th id=\"T_da639_level0_row20\" class=\"row_heading level0 row20\" >20</th>\n",
       "      <td id=\"T_da639_row20_col0\" class=\"data row20 col0\" >Fold Generator</td>\n",
       "      <td id=\"T_da639_row20_col1\" class=\"data row20 col1\" >KFold</td>\n",
       "    </tr>\n",
       "    <tr>\n",
       "      <th id=\"T_da639_level0_row21\" class=\"row_heading level0 row21\" >21</th>\n",
       "      <td id=\"T_da639_row21_col0\" class=\"data row21 col0\" >Fold Number</td>\n",
       "      <td id=\"T_da639_row21_col1\" class=\"data row21 col1\" >10</td>\n",
       "    </tr>\n",
       "    <tr>\n",
       "      <th id=\"T_da639_level0_row22\" class=\"row_heading level0 row22\" >22</th>\n",
       "      <td id=\"T_da639_row22_col0\" class=\"data row22 col0\" >CPU Jobs</td>\n",
       "      <td id=\"T_da639_row22_col1\" class=\"data row22 col1\" >-1</td>\n",
       "    </tr>\n",
       "    <tr>\n",
       "      <th id=\"T_da639_level0_row23\" class=\"row_heading level0 row23\" >23</th>\n",
       "      <td id=\"T_da639_row23_col0\" class=\"data row23 col0\" >Use GPU</td>\n",
       "      <td id=\"T_da639_row23_col1\" class=\"data row23 col1\" >False</td>\n",
       "    </tr>\n",
       "    <tr>\n",
       "      <th id=\"T_da639_level0_row24\" class=\"row_heading level0 row24\" >24</th>\n",
       "      <td id=\"T_da639_row24_col0\" class=\"data row24 col0\" >Log Experiment</td>\n",
       "      <td id=\"T_da639_row24_col1\" class=\"data row24 col1\" >False</td>\n",
       "    </tr>\n",
       "    <tr>\n",
       "      <th id=\"T_da639_level0_row25\" class=\"row_heading level0 row25\" >25</th>\n",
       "      <td id=\"T_da639_row25_col0\" class=\"data row25 col0\" >Experiment Name</td>\n",
       "      <td id=\"T_da639_row25_col1\" class=\"data row25 col1\" >clf-default-name</td>\n",
       "    </tr>\n",
       "    <tr>\n",
       "      <th id=\"T_da639_level0_row26\" class=\"row_heading level0 row26\" >26</th>\n",
       "      <td id=\"T_da639_row26_col0\" class=\"data row26 col0\" >USI</td>\n",
       "      <td id=\"T_da639_row26_col1\" class=\"data row26 col1\" >552f</td>\n",
=======
       "      <th id=\"T_6d032_level0_row0\" class=\"row_heading level0 row0\" >0</th>\n",
       "      <td id=\"T_6d032_row0_col0\" class=\"data row0 col0\" >Session id</td>\n",
       "      <td id=\"T_6d032_row0_col1\" class=\"data row0 col1\" >8656</td>\n",
       "    </tr>\n",
       "    <tr>\n",
       "      <th id=\"T_6d032_level0_row1\" class=\"row_heading level0 row1\" >1</th>\n",
       "      <td id=\"T_6d032_row1_col0\" class=\"data row1 col0\" >Target</td>\n",
       "      <td id=\"T_6d032_row1_col1\" class=\"data row1 col1\" >risk_user</td>\n",
       "    </tr>\n",
       "    <tr>\n",
       "      <th id=\"T_6d032_level0_row2\" class=\"row_heading level0 row2\" >2</th>\n",
       "      <td id=\"T_6d032_row2_col0\" class=\"data row2 col0\" >Target type</td>\n",
       "      <td id=\"T_6d032_row2_col1\" class=\"data row2 col1\" >Binary</td>\n",
       "    </tr>\n",
       "    <tr>\n",
       "      <th id=\"T_6d032_level0_row3\" class=\"row_heading level0 row3\" >3</th>\n",
       "      <td id=\"T_6d032_row3_col0\" class=\"data row3 col0\" >Target mapping</td>\n",
       "      <td id=\"T_6d032_row3_col1\" class=\"data row3 col1\" >N: 0, Y: 1</td>\n",
       "    </tr>\n",
       "    <tr>\n",
       "      <th id=\"T_6d032_level0_row4\" class=\"row_heading level0 row4\" >4</th>\n",
       "      <td id=\"T_6d032_row4_col0\" class=\"data row4 col0\" >Original data shape</td>\n",
       "      <td id=\"T_6d032_row4_col1\" class=\"data row4 col1\" >(25134, 18)</td>\n",
       "    </tr>\n",
       "    <tr>\n",
       "      <th id=\"T_6d032_level0_row5\" class=\"row_heading level0 row5\" >5</th>\n",
       "      <td id=\"T_6d032_row5_col0\" class=\"data row5 col0\" >Transformed data shape</td>\n",
       "      <td id=\"T_6d032_row5_col1\" class=\"data row5 col1\" >(45125, 28)</td>\n",
       "    </tr>\n",
       "    <tr>\n",
       "      <th id=\"T_6d032_level0_row6\" class=\"row_heading level0 row6\" >6</th>\n",
       "      <td id=\"T_6d032_row6_col0\" class=\"data row6 col0\" >Transformed train set shape</td>\n",
       "      <td id=\"T_6d032_row6_col1\" class=\"data row6 col1\" >(40098, 28)</td>\n",
       "    </tr>\n",
       "    <tr>\n",
       "      <th id=\"T_6d032_level0_row7\" class=\"row_heading level0 row7\" >7</th>\n",
       "      <td id=\"T_6d032_row7_col0\" class=\"data row7 col0\" >Transformed test set shape</td>\n",
       "      <td id=\"T_6d032_row7_col1\" class=\"data row7 col1\" >(5027, 28)</td>\n",
       "    </tr>\n",
       "    <tr>\n",
       "      <th id=\"T_6d032_level0_row8\" class=\"row_heading level0 row8\" >8</th>\n",
       "      <td id=\"T_6d032_row8_col0\" class=\"data row8 col0\" >Ignore features</td>\n",
       "      <td id=\"T_6d032_row8_col1\" class=\"data row8 col1\" >1</td>\n",
       "    </tr>\n",
       "    <tr>\n",
       "      <th id=\"T_6d032_level0_row9\" class=\"row_heading level0 row9\" >9</th>\n",
       "      <td id=\"T_6d032_row9_col0\" class=\"data row9 col0\" >Ordinal features</td>\n",
       "      <td id=\"T_6d032_row9_col1\" class=\"data row9 col1\" >3</td>\n",
       "    </tr>\n",
       "    <tr>\n",
       "      <th id=\"T_6d032_level0_row10\" class=\"row_heading level0 row10\" >10</th>\n",
       "      <td id=\"T_6d032_row10_col0\" class=\"data row10 col0\" >Numeric features</td>\n",
       "      <td id=\"T_6d032_row10_col1\" class=\"data row10 col1\" >9</td>\n",
       "    </tr>\n",
       "    <tr>\n",
       "      <th id=\"T_6d032_level0_row11\" class=\"row_heading level0 row11\" >11</th>\n",
       "      <td id=\"T_6d032_row11_col0\" class=\"data row11 col0\" >Categorical features</td>\n",
       "      <td id=\"T_6d032_row11_col1\" class=\"data row11 col1\" >8</td>\n",
       "    </tr>\n",
       "    <tr>\n",
       "      <th id=\"T_6d032_level0_row12\" class=\"row_heading level0 row12\" >12</th>\n",
       "      <td id=\"T_6d032_row12_col0\" class=\"data row12 col0\" >Preprocess</td>\n",
       "      <td id=\"T_6d032_row12_col1\" class=\"data row12 col1\" >True</td>\n",
       "    </tr>\n",
       "    <tr>\n",
       "      <th id=\"T_6d032_level0_row13\" class=\"row_heading level0 row13\" >13</th>\n",
       "      <td id=\"T_6d032_row13_col0\" class=\"data row13 col0\" >Imputation type</td>\n",
       "      <td id=\"T_6d032_row13_col1\" class=\"data row13 col1\" >simple</td>\n",
       "    </tr>\n",
       "    <tr>\n",
       "      <th id=\"T_6d032_level0_row14\" class=\"row_heading level0 row14\" >14</th>\n",
       "      <td id=\"T_6d032_row14_col0\" class=\"data row14 col0\" >Numeric imputation</td>\n",
       "      <td id=\"T_6d032_row14_col1\" class=\"data row14 col1\" >mean</td>\n",
       "    </tr>\n",
       "    <tr>\n",
       "      <th id=\"T_6d032_level0_row15\" class=\"row_heading level0 row15\" >15</th>\n",
       "      <td id=\"T_6d032_row15_col0\" class=\"data row15 col0\" >Categorical imputation</td>\n",
       "      <td id=\"T_6d032_row15_col1\" class=\"data row15 col1\" >constant</td>\n",
       "    </tr>\n",
       "    <tr>\n",
       "      <th id=\"T_6d032_level0_row16\" class=\"row_heading level0 row16\" >16</th>\n",
       "      <td id=\"T_6d032_row16_col0\" class=\"data row16 col0\" >Maximum one-hot encoding</td>\n",
       "      <td id=\"T_6d032_row16_col1\" class=\"data row16 col1\" >5</td>\n",
       "    </tr>\n",
       "    <tr>\n",
       "      <th id=\"T_6d032_level0_row17\" class=\"row_heading level0 row17\" >17</th>\n",
       "      <td id=\"T_6d032_row17_col0\" class=\"data row17 col0\" >Encoding method</td>\n",
       "      <td id=\"T_6d032_row17_col1\" class=\"data row17 col1\" >None</td>\n",
       "    </tr>\n",
       "    <tr>\n",
       "      <th id=\"T_6d032_level0_row18\" class=\"row_heading level0 row18\" >18</th>\n",
       "      <td id=\"T_6d032_row18_col0\" class=\"data row18 col0\" >Fix imbalance</td>\n",
       "      <td id=\"T_6d032_row18_col1\" class=\"data row18 col1\" >True</td>\n",
       "    </tr>\n",
       "    <tr>\n",
       "      <th id=\"T_6d032_level0_row19\" class=\"row_heading level0 row19\" >19</th>\n",
       "      <td id=\"T_6d032_row19_col0\" class=\"data row19 col0\" >Fix imbalance method</td>\n",
       "      <td id=\"T_6d032_row19_col1\" class=\"data row19 col1\" >SMOTE(k_neighbors=5, n_jobs=None, random_state=None, sampling_strategy='auto')</td>\n",
       "    </tr>\n",
       "    <tr>\n",
       "      <th id=\"T_6d032_level0_row20\" class=\"row_heading level0 row20\" >20</th>\n",
       "      <td id=\"T_6d032_row20_col0\" class=\"data row20 col0\" >Fold Generator</td>\n",
       "      <td id=\"T_6d032_row20_col1\" class=\"data row20 col1\" >KFold</td>\n",
       "    </tr>\n",
       "    <tr>\n",
       "      <th id=\"T_6d032_level0_row21\" class=\"row_heading level0 row21\" >21</th>\n",
       "      <td id=\"T_6d032_row21_col0\" class=\"data row21 col0\" >Fold Number</td>\n",
       "      <td id=\"T_6d032_row21_col1\" class=\"data row21 col1\" >10</td>\n",
       "    </tr>\n",
       "    <tr>\n",
       "      <th id=\"T_6d032_level0_row22\" class=\"row_heading level0 row22\" >22</th>\n",
       "      <td id=\"T_6d032_row22_col0\" class=\"data row22 col0\" >CPU Jobs</td>\n",
       "      <td id=\"T_6d032_row22_col1\" class=\"data row22 col1\" >-1</td>\n",
       "    </tr>\n",
       "    <tr>\n",
       "      <th id=\"T_6d032_level0_row23\" class=\"row_heading level0 row23\" >23</th>\n",
       "      <td id=\"T_6d032_row23_col0\" class=\"data row23 col0\" >Use GPU</td>\n",
       "      <td id=\"T_6d032_row23_col1\" class=\"data row23 col1\" >False</td>\n",
       "    </tr>\n",
       "    <tr>\n",
       "      <th id=\"T_6d032_level0_row24\" class=\"row_heading level0 row24\" >24</th>\n",
       "      <td id=\"T_6d032_row24_col0\" class=\"data row24 col0\" >Log Experiment</td>\n",
       "      <td id=\"T_6d032_row24_col1\" class=\"data row24 col1\" >False</td>\n",
       "    </tr>\n",
       "    <tr>\n",
       "      <th id=\"T_6d032_level0_row25\" class=\"row_heading level0 row25\" >25</th>\n",
       "      <td id=\"T_6d032_row25_col0\" class=\"data row25 col0\" >Experiment Name</td>\n",
       "      <td id=\"T_6d032_row25_col1\" class=\"data row25 col1\" >clf-default-name</td>\n",
       "    </tr>\n",
       "    <tr>\n",
       "      <th id=\"T_6d032_level0_row26\" class=\"row_heading level0 row26\" >26</th>\n",
       "      <td id=\"T_6d032_row26_col0\" class=\"data row26 col0\" >USI</td>\n",
       "      <td id=\"T_6d032_row26_col1\" class=\"data row26 col1\" >cf45</td>\n",
>>>>>>> 1419f3404da83c3a7d47be817615004f7ad2c527
       "    </tr>\n",
       "  </tbody>\n",
       "</table>\n"
      ],
      "text/plain": [
<<<<<<< HEAD
       "<pandas.io.formats.style.Styler at 0x17e3fa54280>"
=======
       "<pandas.io.formats.style.Styler at 0x151d653b3a0>"
>>>>>>> 1419f3404da83c3a7d47be817615004f7ad2c527
      ]
     },
     "metadata": {},
     "output_type": "display_data"
    }
   ],
   "source": [
    "\n",
<<<<<<< HEAD
    "stp = pycaret.classification.setup(data = training_data, target = 'risk_user', train_size = 0.8,\n",
=======
    "stp = pycaret.classification.setup(data = cca_unique_id, target = 'risk_user', train_size = 0.8,\n",
>>>>>>> 1419f3404da83c3a7d47be817615004f7ad2c527
    "            categorical_features = ['gender','owning_car','children_amt', 'owning_property', 'education_level',\n",
    "                                    'marital_status', 'housing_type', \n",
    "                                    'job'], fold_strategy = 'kfold',\n",
    "            fix_imbalance = True, fix_imbalance_method = imblearn.over_sampling.SMOTE(), fold = 10,\n",
    "            ignore_features = ['applicant_ID'])"
   ]
  },
  {
   "cell_type": "code",
<<<<<<< HEAD
   "execution_count": 10,
=======
   "execution_count": 33,
>>>>>>> 1419f3404da83c3a7d47be817615004f7ad2c527
   "metadata": {},
   "outputs": [
    {
     "data": {
      "text/html": [],
      "text/plain": [
       "<IPython.core.display.HTML object>"
      ]
     },
     "metadata": {},
     "output_type": "display_data"
    },
    {
     "data": {
      "text/html": [
       "<style type=\"text/css\">\n",
<<<<<<< HEAD
       "#T_55255_ th {\n",
       "  text-align: left;\n",
       "}\n",
       "#T_55255_row0_col0, #T_55255_row0_col3, #T_55255_row0_col4, #T_55255_row0_col5, #T_55255_row0_col6, #T_55255_row0_col7, #T_55255_row1_col0, #T_55255_row1_col1, #T_55255_row1_col2, #T_55255_row1_col3, #T_55255_row1_col5, #T_55255_row1_col6, #T_55255_row1_col7, #T_55255_row2_col0, #T_55255_row2_col1, #T_55255_row2_col2, #T_55255_row2_col3, #T_55255_row2_col4, #T_55255_row2_col5, #T_55255_row2_col6, #T_55255_row2_col7, #T_55255_row3_col0, #T_55255_row3_col1, #T_55255_row3_col2, #T_55255_row3_col3, #T_55255_row3_col4, #T_55255_row3_col5, #T_55255_row3_col6, #T_55255_row3_col7, #T_55255_row4_col0, #T_55255_row4_col1, #T_55255_row4_col2, #T_55255_row4_col3, #T_55255_row4_col4, #T_55255_row4_col5, #T_55255_row4_col6, #T_55255_row4_col7, #T_55255_row5_col0, #T_55255_row5_col1, #T_55255_row5_col2, #T_55255_row5_col3, #T_55255_row5_col4, #T_55255_row5_col5, #T_55255_row5_col6, #T_55255_row5_col7, #T_55255_row6_col0, #T_55255_row6_col1, #T_55255_row6_col2, #T_55255_row6_col3, #T_55255_row6_col4, #T_55255_row6_col5, #T_55255_row6_col6, #T_55255_row6_col7, #T_55255_row7_col0, #T_55255_row7_col1, #T_55255_row7_col2, #T_55255_row7_col3, #T_55255_row7_col4, #T_55255_row7_col5, #T_55255_row7_col6, #T_55255_row7_col7, #T_55255_row8_col0, #T_55255_row8_col1, #T_55255_row8_col2, #T_55255_row8_col3, #T_55255_row8_col4, #T_55255_row8_col5, #T_55255_row8_col6, #T_55255_row8_col7, #T_55255_row9_col0, #T_55255_row9_col1, #T_55255_row9_col2, #T_55255_row9_col3, #T_55255_row9_col4, #T_55255_row9_col5, #T_55255_row9_col6, #T_55255_row9_col7, #T_55255_row10_col0, #T_55255_row10_col1, #T_55255_row10_col2, #T_55255_row10_col4, #T_55255_row11_col0, #T_55255_row11_col1, #T_55255_row11_col2, #T_55255_row11_col3, #T_55255_row11_col4, #T_55255_row11_col5, #T_55255_row11_col6, #T_55255_row11_col7, #T_55255_row12_col0, #T_55255_row12_col1, #T_55255_row12_col2, #T_55255_row12_col3, #T_55255_row12_col4, #T_55255_row12_col5, #T_55255_row12_col6, #T_55255_row12_col7, #T_55255_row13_col0, #T_55255_row13_col1, #T_55255_row13_col2, #T_55255_row13_col3, #T_55255_row13_col4, #T_55255_row13_col5, #T_55255_row13_col6, #T_55255_row13_col7 {\n",
       "  text-align: left;\n",
       "}\n",
       "#T_55255_row0_col1, #T_55255_row0_col2, #T_55255_row1_col4, #T_55255_row10_col3, #T_55255_row10_col5, #T_55255_row10_col6, #T_55255_row10_col7 {\n",
       "  text-align: left;\n",
       "  background-color: yellow;\n",
       "}\n",
       "#T_55255_row0_col8, #T_55255_row1_col8, #T_55255_row2_col8, #T_55255_row3_col8, #T_55255_row4_col8, #T_55255_row5_col8, #T_55255_row7_col8, #T_55255_row8_col8, #T_55255_row9_col8, #T_55255_row10_col8, #T_55255_row11_col8, #T_55255_row12_col8, #T_55255_row13_col8 {\n",
       "  text-align: left;\n",
       "  background-color: lightgrey;\n",
       "}\n",
       "#T_55255_row6_col8 {\n",
=======
       "#T_98e84_ th {\n",
       "  text-align: left;\n",
       "}\n",
       "#T_98e84_row0_col0, #T_98e84_row0_col2, #T_98e84_row0_col3, #T_98e84_row0_col4, #T_98e84_row0_col5, #T_98e84_row0_col6, #T_98e84_row0_col7, #T_98e84_row1_col0, #T_98e84_row1_col1, #T_98e84_row1_col2, #T_98e84_row1_col3, #T_98e84_row1_col4, #T_98e84_row1_col5, #T_98e84_row1_col6, #T_98e84_row1_col7, #T_98e84_row2_col0, #T_98e84_row2_col1, #T_98e84_row2_col2, #T_98e84_row2_col3, #T_98e84_row2_col4, #T_98e84_row2_col5, #T_98e84_row2_col6, #T_98e84_row2_col7, #T_98e84_row3_col0, #T_98e84_row3_col1, #T_98e84_row3_col3, #T_98e84_row3_col4, #T_98e84_row3_col5, #T_98e84_row3_col6, #T_98e84_row3_col7, #T_98e84_row4_col0, #T_98e84_row4_col1, #T_98e84_row4_col2, #T_98e84_row4_col3, #T_98e84_row4_col4, #T_98e84_row4_col5, #T_98e84_row4_col6, #T_98e84_row4_col7, #T_98e84_row5_col0, #T_98e84_row5_col1, #T_98e84_row5_col2, #T_98e84_row5_col3, #T_98e84_row5_col4, #T_98e84_row5_col5, #T_98e84_row5_col6, #T_98e84_row6_col0, #T_98e84_row6_col1, #T_98e84_row6_col2, #T_98e84_row6_col3, #T_98e84_row6_col7, #T_98e84_row7_col0, #T_98e84_row7_col1, #T_98e84_row7_col2, #T_98e84_row7_col3, #T_98e84_row7_col4, #T_98e84_row7_col5, #T_98e84_row7_col6, #T_98e84_row7_col7, #T_98e84_row8_col0, #T_98e84_row8_col1, #T_98e84_row8_col2, #T_98e84_row8_col3, #T_98e84_row8_col4, #T_98e84_row8_col5, #T_98e84_row8_col6, #T_98e84_row8_col7, #T_98e84_row9_col0, #T_98e84_row9_col1, #T_98e84_row9_col2, #T_98e84_row9_col3, #T_98e84_row9_col4, #T_98e84_row9_col5, #T_98e84_row9_col6, #T_98e84_row9_col7, #T_98e84_row10_col0, #T_98e84_row10_col1, #T_98e84_row10_col2, #T_98e84_row10_col3, #T_98e84_row10_col4, #T_98e84_row10_col5, #T_98e84_row10_col6, #T_98e84_row10_col7, #T_98e84_row11_col0, #T_98e84_row11_col1, #T_98e84_row11_col2, #T_98e84_row11_col3, #T_98e84_row11_col4, #T_98e84_row11_col5, #T_98e84_row11_col6, #T_98e84_row11_col7, #T_98e84_row12_col0, #T_98e84_row12_col1, #T_98e84_row12_col2, #T_98e84_row12_col4, #T_98e84_row12_col5, #T_98e84_row12_col6, #T_98e84_row12_col7, #T_98e84_row13_col0, #T_98e84_row13_col1, #T_98e84_row13_col2, #T_98e84_row13_col3, #T_98e84_row13_col4, #T_98e84_row13_col5, #T_98e84_row13_col6, #T_98e84_row13_col7 {\n",
       "  text-align: left;\n",
       "}\n",
       "#T_98e84_row0_col1, #T_98e84_row3_col2, #T_98e84_row5_col7, #T_98e84_row6_col4, #T_98e84_row6_col5, #T_98e84_row6_col6, #T_98e84_row12_col3 {\n",
       "  text-align: left;\n",
       "  background-color: yellow;\n",
       "}\n",
       "#T_98e84_row0_col8, #T_98e84_row1_col8, #T_98e84_row2_col8, #T_98e84_row3_col8, #T_98e84_row4_col8, #T_98e84_row5_col8, #T_98e84_row6_col8, #T_98e84_row8_col8, #T_98e84_row9_col8, #T_98e84_row10_col8, #T_98e84_row11_col8, #T_98e84_row12_col8, #T_98e84_row13_col8 {\n",
       "  text-align: left;\n",
       "  background-color: lightgrey;\n",
       "}\n",
       "#T_98e84_row7_col8 {\n",
>>>>>>> 1419f3404da83c3a7d47be817615004f7ad2c527
       "  text-align: left;\n",
       "  background-color: yellow;\n",
       "  background-color: lightgrey;\n",
       "}\n",
       "</style>\n",
<<<<<<< HEAD
       "<table id=\"T_55255_\">\n",
=======
       "<table id=\"T_98e84_\">\n",
>>>>>>> 1419f3404da83c3a7d47be817615004f7ad2c527
       "  <thead>\n",
       "    <tr>\n",
       "      <th class=\"blank level0\" >&nbsp;</th>\n",
       "      <th class=\"col_heading level0 col0\" >Model</th>\n",
       "      <th class=\"col_heading level0 col1\" >Accuracy</th>\n",
       "      <th class=\"col_heading level0 col2\" >AUC</th>\n",
       "      <th class=\"col_heading level0 col3\" >Recall</th>\n",
       "      <th class=\"col_heading level0 col4\" >Prec.</th>\n",
       "      <th class=\"col_heading level0 col5\" >F1</th>\n",
       "      <th class=\"col_heading level0 col6\" >Kappa</th>\n",
       "      <th class=\"col_heading level0 col7\" >MCC</th>\n",
       "      <th class=\"col_heading level0 col8\" >TT (Sec)</th>\n",
       "    </tr>\n",
       "  </thead>\n",
       "  <tbody>\n",
       "    <tr>\n",
<<<<<<< HEAD
       "      <th id=\"T_55255_level0_row0\" class=\"row_heading level0 row0\" >rf</th>\n",
       "      <td id=\"T_55255_row0_col0\" class=\"data row0 col0\" >Random Forest Classifier</td>\n",
       "      <td id=\"T_55255_row0_col1\" class=\"data row0 col1\" >0.9969</td>\n",
       "      <td id=\"T_55255_row0_col2\" class=\"data row0 col2\" >0.9449</td>\n",
       "      <td id=\"T_55255_row0_col3\" class=\"data row0 col3\" >0.0000</td>\n",
       "      <td id=\"T_55255_row0_col4\" class=\"data row0 col4\" >0.0000</td>\n",
       "      <td id=\"T_55255_row0_col5\" class=\"data row0 col5\" >0.0000</td>\n",
       "      <td id=\"T_55255_row0_col6\" class=\"data row0 col6\" >-0.0001</td>\n",
       "      <td id=\"T_55255_row0_col7\" class=\"data row0 col7\" >-0.0001</td>\n",
       "      <td id=\"T_55255_row0_col8\" class=\"data row0 col8\" >1.4430</td>\n",
       "    </tr>\n",
       "    <tr>\n",
       "      <th id=\"T_55255_level0_row1\" class=\"row_heading level0 row1\" >et</th>\n",
       "      <td id=\"T_55255_row1_col0\" class=\"data row1 col0\" >Extra Trees Classifier</td>\n",
       "      <td id=\"T_55255_row1_col1\" class=\"data row1 col1\" >0.9968</td>\n",
       "      <td id=\"T_55255_row1_col2\" class=\"data row1 col2\" >0.8976</td>\n",
       "      <td id=\"T_55255_row1_col3\" class=\"data row1 col3\" >0.0791</td>\n",
       "      <td id=\"T_55255_row1_col4\" class=\"data row1 col4\" >0.3000</td>\n",
       "      <td id=\"T_55255_row1_col5\" class=\"data row1 col5\" >0.1150</td>\n",
       "      <td id=\"T_55255_row1_col6\" class=\"data row1 col6\" >0.1141</td>\n",
       "      <td id=\"T_55255_row1_col7\" class=\"data row1 col7\" >0.1437</td>\n",
       "      <td id=\"T_55255_row1_col8\" class=\"data row1 col8\" >1.1200</td>\n",
       "    </tr>\n",
       "    <tr>\n",
       "      <th id=\"T_55255_level0_row2\" class=\"row_heading level0 row2\" >dt</th>\n",
       "      <td id=\"T_55255_row2_col0\" class=\"data row2 col0\" >Decision Tree Classifier</td>\n",
       "      <td id=\"T_55255_row2_col1\" class=\"data row2 col1\" >0.9919</td>\n",
       "      <td id=\"T_55255_row2_col2\" class=\"data row2 col2\" >0.6205</td>\n",
       "      <td id=\"T_55255_row2_col3\" class=\"data row2 col3\" >0.2470</td>\n",
       "      <td id=\"T_55255_row2_col4\" class=\"data row2 col4\" >0.0740</td>\n",
       "      <td id=\"T_55255_row2_col5\" class=\"data row2 col5\" >0.0758</td>\n",
       "      <td id=\"T_55255_row2_col6\" class=\"data row2 col6\" >0.0742</td>\n",
       "      <td id=\"T_55255_row2_col7\" class=\"data row2 col7\" >0.1038</td>\n",
       "      <td id=\"T_55255_row2_col8\" class=\"data row2 col8\" >0.5370</td>\n",
       "    </tr>\n",
       "    <tr>\n",
       "      <th id=\"T_55255_level0_row3\" class=\"row_heading level0 row3\" >knn</th>\n",
       "      <td id=\"T_55255_row3_col0\" class=\"data row3 col0\" >K Neighbors Classifier</td>\n",
       "      <td id=\"T_55255_row3_col1\" class=\"data row3 col1\" >0.9886</td>\n",
       "      <td id=\"T_55255_row3_col2\" class=\"data row3 col2\" >0.6953</td>\n",
       "      <td id=\"T_55255_row3_col3\" class=\"data row3 col3\" >0.3530</td>\n",
       "      <td id=\"T_55255_row3_col4\" class=\"data row3 col4\" >0.0712</td>\n",
       "      <td id=\"T_55255_row3_col5\" class=\"data row3 col5\" >0.1106</td>\n",
       "      <td id=\"T_55255_row3_col6\" class=\"data row3 col6\" >0.1068</td>\n",
       "      <td id=\"T_55255_row3_col7\" class=\"data row3 col7\" >0.1456</td>\n",
       "      <td id=\"T_55255_row3_col8\" class=\"data row3 col8\" >0.7230</td>\n",
       "    </tr>\n",
       "    <tr>\n",
       "      <th id=\"T_55255_level0_row4\" class=\"row_heading level0 row4\" >xgboost</th>\n",
       "      <td id=\"T_55255_row4_col0\" class=\"data row4 col0\" >Extreme Gradient Boosting</td>\n",
       "      <td id=\"T_55255_row4_col1\" class=\"data row4 col1\" >0.9858</td>\n",
       "      <td id=\"T_55255_row4_col2\" class=\"data row4 col2\" >0.9362</td>\n",
       "      <td id=\"T_55255_row4_col3\" class=\"data row4 col3\" >0.3985</td>\n",
       "      <td id=\"T_55255_row4_col4\" class=\"data row4 col4\" >0.0852</td>\n",
       "      <td id=\"T_55255_row4_col5\" class=\"data row4 col5\" >0.0884</td>\n",
       "      <td id=\"T_55255_row4_col6\" class=\"data row4 col6\" >0.0860</td>\n",
       "      <td id=\"T_55255_row4_col7\" class=\"data row4 col7\" >0.1391</td>\n",
       "      <td id=\"T_55255_row4_col8\" class=\"data row4 col8\" >1.7990</td>\n",
       "    </tr>\n",
       "    <tr>\n",
       "      <th id=\"T_55255_level0_row5\" class=\"row_heading level0 row5\" >lda</th>\n",
       "      <td id=\"T_55255_row5_col0\" class=\"data row5 col0\" >Linear Discriminant Analysis</td>\n",
       "      <td id=\"T_55255_row5_col1\" class=\"data row5 col1\" >0.9648</td>\n",
       "      <td id=\"T_55255_row5_col2\" class=\"data row5 col2\" >0.8905</td>\n",
       "      <td id=\"T_55255_row5_col3\" class=\"data row5 col3\" >0.5426</td>\n",
       "      <td id=\"T_55255_row5_col4\" class=\"data row5 col4\" >0.0526</td>\n",
       "      <td id=\"T_55255_row5_col5\" class=\"data row5 col5\" >0.0945</td>\n",
       "      <td id=\"T_55255_row5_col6\" class=\"data row5 col6\" >0.0898</td>\n",
       "      <td id=\"T_55255_row5_col7\" class=\"data row5 col7\" >0.1583</td>\n",
       "      <td id=\"T_55255_row5_col8\" class=\"data row5 col8\" >0.5210</td>\n",
       "    </tr>\n",
       "    <tr>\n",
       "      <th id=\"T_55255_level0_row6\" class=\"row_heading level0 row6\" >ridge</th>\n",
       "      <td id=\"T_55255_row6_col0\" class=\"data row6 col0\" >Ridge Classifier</td>\n",
       "      <td id=\"T_55255_row6_col1\" class=\"data row6 col1\" >0.9643</td>\n",
       "      <td id=\"T_55255_row6_col2\" class=\"data row6 col2\" >0.0000</td>\n",
       "      <td id=\"T_55255_row6_col3\" class=\"data row6 col3\" >0.5517</td>\n",
       "      <td id=\"T_55255_row6_col4\" class=\"data row6 col4\" >0.0517</td>\n",
       "      <td id=\"T_55255_row6_col5\" class=\"data row6 col5\" >0.0929</td>\n",
       "      <td id=\"T_55255_row6_col6\" class=\"data row6 col6\" >0.0882</td>\n",
       "      <td id=\"T_55255_row6_col7\" class=\"data row6 col7\" >0.1576</td>\n",
       "      <td id=\"T_55255_row6_col8\" class=\"data row6 col8\" >0.4200</td>\n",
       "    </tr>\n",
       "    <tr>\n",
       "      <th id=\"T_55255_level0_row7\" class=\"row_heading level0 row7\" >nb</th>\n",
       "      <td id=\"T_55255_row7_col0\" class=\"data row7 col0\" >Naive Bayes</td>\n",
       "      <td id=\"T_55255_row7_col1\" class=\"data row7 col1\" >0.9483</td>\n",
       "      <td id=\"T_55255_row7_col2\" class=\"data row7 col2\" >0.8787</td>\n",
       "      <td id=\"T_55255_row7_col3\" class=\"data row7 col3\" >0.7550</td>\n",
       "      <td id=\"T_55255_row7_col4\" class=\"data row7 col4\" >0.0481</td>\n",
       "      <td id=\"T_55255_row7_col5\" class=\"data row7 col5\" >0.0879</td>\n",
       "      <td id=\"T_55255_row7_col6\" class=\"data row7 col6\" >0.0829</td>\n",
       "      <td id=\"T_55255_row7_col7\" class=\"data row7 col7\" >0.1718</td>\n",
       "      <td id=\"T_55255_row7_col8\" class=\"data row7 col8\" >0.4550</td>\n",
       "    </tr>\n",
       "    <tr>\n",
       "      <th id=\"T_55255_level0_row8\" class=\"row_heading level0 row8\" >ada</th>\n",
       "      <td id=\"T_55255_row8_col0\" class=\"data row8 col0\" >Ada Boost Classifier</td>\n",
       "      <td id=\"T_55255_row8_col1\" class=\"data row8 col1\" >0.8848</td>\n",
       "      <td id=\"T_55255_row8_col2\" class=\"data row8 col2\" >0.9264</td>\n",
       "      <td id=\"T_55255_row8_col3\" class=\"data row8 col3\" >0.3344</td>\n",
       "      <td id=\"T_55255_row8_col4\" class=\"data row8 col4\" >0.1297</td>\n",
       "      <td id=\"T_55255_row8_col5\" class=\"data row8 col5\" >0.0901</td>\n",
       "      <td id=\"T_55255_row8_col6\" class=\"data row8 col6\" >0.0869</td>\n",
       "      <td id=\"T_55255_row8_col7\" class=\"data row8 col7\" >0.1074</td>\n",
       "      <td id=\"T_55255_row8_col8\" class=\"data row8 col8\" >1.2640</td>\n",
       "    </tr>\n",
       "    <tr>\n",
       "      <th id=\"T_55255_level0_row9\" class=\"row_heading level0 row9\" >gbc</th>\n",
       "      <td id=\"T_55255_row9_col0\" class=\"data row9 col0\" >Gradient Boosting Classifier</td>\n",
       "      <td id=\"T_55255_row9_col1\" class=\"data row9 col1\" >0.8171</td>\n",
       "      <td id=\"T_55255_row9_col2\" class=\"data row9 col2\" >0.9109</td>\n",
       "      <td id=\"T_55255_row9_col3\" class=\"data row9 col3\" >0.3068</td>\n",
       "      <td id=\"T_55255_row9_col4\" class=\"data row9 col4\" >0.0860</td>\n",
       "      <td id=\"T_55255_row9_col5\" class=\"data row9 col5\" >0.0435</td>\n",
       "      <td id=\"T_55255_row9_col6\" class=\"data row9 col6\" >0.0403</td>\n",
       "      <td id=\"T_55255_row9_col7\" class=\"data row9 col7\" >0.0577</td>\n",
       "      <td id=\"T_55255_row9_col8\" class=\"data row9 col8\" >3.5550</td>\n",
       "    </tr>\n",
       "    <tr>\n",
       "      <th id=\"T_55255_level0_row10\" class=\"row_heading level0 row10\" >lr</th>\n",
       "      <td id=\"T_55255_row10_col0\" class=\"data row10 col0\" >Logistic Regression</td>\n",
       "      <td id=\"T_55255_row10_col1\" class=\"data row10 col1\" >0.7818</td>\n",
       "      <td id=\"T_55255_row10_col2\" class=\"data row10 col2\" >0.8058</td>\n",
       "      <td id=\"T_55255_row10_col3\" class=\"data row10 col3\" >0.8633</td>\n",
       "      <td id=\"T_55255_row10_col4\" class=\"data row10 col4\" >0.0680</td>\n",
       "      <td id=\"T_55255_row10_col5\" class=\"data row10 col5\" >0.1187</td>\n",
       "      <td id=\"T_55255_row10_col6\" class=\"data row10 col6\" >0.1149</td>\n",
       "      <td id=\"T_55255_row10_col7\" class=\"data row10 col7\" >0.1958</td>\n",
       "      <td id=\"T_55255_row10_col8\" class=\"data row10 col8\" >2.2950</td>\n",
       "    </tr>\n",
       "    <tr>\n",
       "      <th id=\"T_55255_level0_row11\" class=\"row_heading level0 row11\" >lightgbm</th>\n",
       "      <td id=\"T_55255_row11_col0\" class=\"data row11 col0\" >Light Gradient Boosting Machine</td>\n",
       "      <td id=\"T_55255_row11_col1\" class=\"data row11 col1\" >0.7351</td>\n",
       "      <td id=\"T_55255_row11_col2\" class=\"data row11 col2\" >0.6708</td>\n",
       "      <td id=\"T_55255_row11_col3\" class=\"data row11 col3\" >0.3785</td>\n",
       "      <td id=\"T_55255_row11_col4\" class=\"data row11 col4\" >0.0572</td>\n",
       "      <td id=\"T_55255_row11_col5\" class=\"data row11 col5\" >0.0384</td>\n",
       "      <td id=\"T_55255_row11_col6\" class=\"data row11 col6\" >0.0353</td>\n",
       "      <td id=\"T_55255_row11_col7\" class=\"data row11 col7\" >0.0526</td>\n",
       "      <td id=\"T_55255_row11_col8\" class=\"data row11 col8\" >0.6780</td>\n",
       "    </tr>\n",
       "    <tr>\n",
       "      <th id=\"T_55255_level0_row12\" class=\"row_heading level0 row12\" >qda</th>\n",
       "      <td id=\"T_55255_row12_col0\" class=\"data row12 col0\" >Quadratic Discriminant Analysis</td>\n",
       "      <td id=\"T_55255_row12_col1\" class=\"data row12 col1\" >0.5029</td>\n",
       "      <td id=\"T_55255_row12_col2\" class=\"data row12 col2\" >0.7802</td>\n",
       "      <td id=\"T_55255_row12_col3\" class=\"data row12 col3\" >0.8076</td>\n",
       "      <td id=\"T_55255_row12_col4\" class=\"data row12 col4\" >0.0056</td>\n",
       "      <td id=\"T_55255_row12_col5\" class=\"data row12 col5\" >0.0111</td>\n",
       "      <td id=\"T_55255_row12_col6\" class=\"data row12 col6\" >0.0051</td>\n",
       "      <td id=\"T_55255_row12_col7\" class=\"data row12 col7\" >0.0352</td>\n",
       "      <td id=\"T_55255_row12_col8\" class=\"data row12 col8\" >0.4900</td>\n",
       "    </tr>\n",
       "    <tr>\n",
       "      <th id=\"T_55255_level0_row13\" class=\"row_heading level0 row13\" >svm</th>\n",
       "      <td id=\"T_55255_row13_col0\" class=\"data row13 col0\" >SVM - Linear Kernel</td>\n",
       "      <td id=\"T_55255_row13_col1\" class=\"data row13 col1\" >0.4992</td>\n",
       "      <td id=\"T_55255_row13_col2\" class=\"data row13 col2\" >0.0000</td>\n",
       "      <td id=\"T_55255_row13_col3\" class=\"data row13 col3\" >0.5000</td>\n",
       "      <td id=\"T_55255_row13_col4\" class=\"data row13 col4\" >0.0011</td>\n",
       "      <td id=\"T_55255_row13_col5\" class=\"data row13 col5\" >0.0022</td>\n",
       "      <td id=\"T_55255_row13_col6\" class=\"data row13 col6\" >0.0000</td>\n",
       "      <td id=\"T_55255_row13_col7\" class=\"data row13 col7\" >0.0000</td>\n",
       "      <td id=\"T_55255_row13_col8\" class=\"data row13 col8\" >0.9820</td>\n",
=======
       "      <th id=\"T_98e84_level0_row0\" class=\"row_heading level0 row0\" >rf</th>\n",
       "      <td id=\"T_98e84_row0_col0\" class=\"data row0 col0\" >Random Forest Classifier</td>\n",
       "      <td id=\"T_98e84_row0_col1\" class=\"data row0 col1\" >0.9970</td>\n",
       "      <td id=\"T_98e84_row0_col2\" class=\"data row0 col2\" >0.8584</td>\n",
       "      <td id=\"T_98e84_row0_col3\" class=\"data row0 col3\" >0.0000</td>\n",
       "      <td id=\"T_98e84_row0_col4\" class=\"data row0 col4\" >0.0000</td>\n",
       "      <td id=\"T_98e84_row0_col5\" class=\"data row0 col5\" >0.0000</td>\n",
       "      <td id=\"T_98e84_row0_col6\" class=\"data row0 col6\" >-0.0002</td>\n",
       "      <td id=\"T_98e84_row0_col7\" class=\"data row0 col7\" >-0.0002</td>\n",
       "      <td id=\"T_98e84_row0_col8\" class=\"data row0 col8\" >1.4250</td>\n",
       "    </tr>\n",
       "    <tr>\n",
       "      <th id=\"T_98e84_level0_row1\" class=\"row_heading level0 row1\" >et</th>\n",
       "      <td id=\"T_98e84_row1_col0\" class=\"data row1 col0\" >Extra Trees Classifier</td>\n",
       "      <td id=\"T_98e84_row1_col1\" class=\"data row1 col1\" >0.9969</td>\n",
       "      <td id=\"T_98e84_row1_col2\" class=\"data row1 col2\" >0.8953</td>\n",
       "      <td id=\"T_98e84_row1_col3\" class=\"data row1 col3\" >0.0510</td>\n",
       "      <td id=\"T_98e84_row1_col4\" class=\"data row1 col4\" >0.1167</td>\n",
       "      <td id=\"T_98e84_row1_col5\" class=\"data row1 col5\" >0.0708</td>\n",
       "      <td id=\"T_98e84_row1_col6\" class=\"data row1 col6\" >0.0700</td>\n",
       "      <td id=\"T_98e84_row1_col7\" class=\"data row1 col7\" >0.0762</td>\n",
       "      <td id=\"T_98e84_row1_col8\" class=\"data row1 col8\" >1.2470</td>\n",
       "    </tr>\n",
       "    <tr>\n",
       "      <th id=\"T_98e84_level0_row2\" class=\"row_heading level0 row2\" >dt</th>\n",
       "      <td id=\"T_98e84_row2_col0\" class=\"data row2 col0\" >Decision Tree Classifier</td>\n",
       "      <td id=\"T_98e84_row2_col1\" class=\"data row2 col1\" >0.9930</td>\n",
       "      <td id=\"T_98e84_row2_col2\" class=\"data row2 col2\" >0.5886</td>\n",
       "      <td id=\"T_98e84_row2_col3\" class=\"data row2 col3\" >0.1819</td>\n",
       "      <td id=\"T_98e84_row2_col4\" class=\"data row2 col4\" >0.1025</td>\n",
       "      <td id=\"T_98e84_row2_col5\" class=\"data row2 col5\" >0.0812</td>\n",
       "      <td id=\"T_98e84_row2_col6\" class=\"data row2 col6\" >0.0793</td>\n",
       "      <td id=\"T_98e84_row2_col7\" class=\"data row2 col7\" >0.1035</td>\n",
       "      <td id=\"T_98e84_row2_col8\" class=\"data row2 col8\" >0.5230</td>\n",
       "    </tr>\n",
       "    <tr>\n",
       "      <th id=\"T_98e84_level0_row3\" class=\"row_heading level0 row3\" >xgboost</th>\n",
       "      <td id=\"T_98e84_row3_col0\" class=\"data row3 col0\" >Extreme Gradient Boosting</td>\n",
       "      <td id=\"T_98e84_row3_col1\" class=\"data row3 col1\" >0.9909</td>\n",
       "      <td id=\"T_98e84_row3_col2\" class=\"data row3 col2\" >0.9545</td>\n",
       "      <td id=\"T_98e84_row3_col3\" class=\"data row3 col3\" >0.2219</td>\n",
       "      <td id=\"T_98e84_row3_col4\" class=\"data row3 col4\" >0.0869</td>\n",
       "      <td id=\"T_98e84_row3_col5\" class=\"data row3 col5\" >0.0765</td>\n",
       "      <td id=\"T_98e84_row3_col6\" class=\"data row3 col6\" >0.0743</td>\n",
       "      <td id=\"T_98e84_row3_col7\" class=\"data row3 col7\" >0.1031</td>\n",
       "      <td id=\"T_98e84_row3_col8\" class=\"data row3 col8\" >2.0270</td>\n",
       "    </tr>\n",
       "    <tr>\n",
       "      <th id=\"T_98e84_level0_row4\" class=\"row_heading level0 row4\" >knn</th>\n",
       "      <td id=\"T_98e84_row4_col0\" class=\"data row4 col0\" >K Neighbors Classifier</td>\n",
       "      <td id=\"T_98e84_row4_col1\" class=\"data row4 col1\" >0.9890</td>\n",
       "      <td id=\"T_98e84_row4_col2\" class=\"data row4 col2\" >0.6653</td>\n",
       "      <td id=\"T_98e84_row4_col3\" class=\"data row4 col3\" >0.2340</td>\n",
       "      <td id=\"T_98e84_row4_col4\" class=\"data row4 col4\" >0.0840</td>\n",
       "      <td id=\"T_98e84_row4_col5\" class=\"data row4 col5\" >0.1216</td>\n",
       "      <td id=\"T_98e84_row4_col6\" class=\"data row4 col6\" >0.1179</td>\n",
       "      <td id=\"T_98e84_row4_col7\" class=\"data row4 col7\" >0.1344</td>\n",
       "      <td id=\"T_98e84_row4_col8\" class=\"data row4 col8\" >0.7730</td>\n",
       "    </tr>\n",
       "    <tr>\n",
       "      <th id=\"T_98e84_level0_row5\" class=\"row_heading level0 row5\" >nb</th>\n",
       "      <td id=\"T_98e84_row5_col0\" class=\"data row5 col0\" >Naive Bayes</td>\n",
       "      <td id=\"T_98e84_row5_col1\" class=\"data row5 col1\" >0.9699</td>\n",
       "      <td id=\"T_98e84_row5_col2\" class=\"data row5 col2\" >0.9382</td>\n",
       "      <td id=\"T_98e84_row5_col3\" class=\"data row5 col3\" >0.8068</td>\n",
       "      <td id=\"T_98e84_row5_col4\" class=\"data row5 col4\" >0.0783</td>\n",
       "      <td id=\"T_98e84_row5_col5\" class=\"data row5 col5\" >0.1382</td>\n",
       "      <td id=\"T_98e84_row5_col6\" class=\"data row5 col6\" >0.1339</td>\n",
       "      <td id=\"T_98e84_row5_col7\" class=\"data row5 col7\" >0.2340</td>\n",
       "      <td id=\"T_98e84_row5_col8\" class=\"data row5 col8\" >0.4640</td>\n",
       "    </tr>\n",
       "    <tr>\n",
       "      <th id=\"T_98e84_level0_row6\" class=\"row_heading level0 row6\" >ada</th>\n",
       "      <td id=\"T_98e84_row6_col0\" class=\"data row6 col0\" >Ada Boost Classifier</td>\n",
       "      <td id=\"T_98e84_row6_col1\" class=\"data row6 col1\" >0.9550</td>\n",
       "      <td id=\"T_98e84_row6_col2\" class=\"data row6 col2\" >0.9358</td>\n",
       "      <td id=\"T_98e84_row6_col3\" class=\"data row6 col3\" >0.2787</td>\n",
       "      <td id=\"T_98e84_row6_col4\" class=\"data row6 col4\" >0.2249</td>\n",
       "      <td id=\"T_98e84_row6_col5\" class=\"data row6 col5\" >0.1515</td>\n",
       "      <td id=\"T_98e84_row6_col6\" class=\"data row6 col6\" >0.1490</td>\n",
       "      <td id=\"T_98e84_row6_col7\" class=\"data row6 col7\" >0.1753</td>\n",
       "      <td id=\"T_98e84_row6_col8\" class=\"data row6 col8\" >1.4960</td>\n",
       "    </tr>\n",
       "    <tr>\n",
       "      <th id=\"T_98e84_level0_row7\" class=\"row_heading level0 row7\" >ridge</th>\n",
       "      <td id=\"T_98e84_row7_col0\" class=\"data row7 col0\" >Ridge Classifier</td>\n",
       "      <td id=\"T_98e84_row7_col1\" class=\"data row7 col1\" >0.9456</td>\n",
       "      <td id=\"T_98e84_row7_col2\" class=\"data row7 col2\" >0.0000</td>\n",
       "      <td id=\"T_98e84_row7_col3\" class=\"data row7 col3\" >0.6450</td>\n",
       "      <td id=\"T_98e84_row7_col4\" class=\"data row7 col4\" >0.0344</td>\n",
       "      <td id=\"T_98e84_row7_col5\" class=\"data row7 col5\" >0.0648</td>\n",
       "      <td id=\"T_98e84_row7_col6\" class=\"data row7 col6\" >0.0598</td>\n",
       "      <td id=\"T_98e84_row7_col7\" class=\"data row7 col7\" >0.1379</td>\n",
       "      <td id=\"T_98e84_row7_col8\" class=\"data row7 col8\" >0.4160</td>\n",
       "    </tr>\n",
       "    <tr>\n",
       "      <th id=\"T_98e84_level0_row8\" class=\"row_heading level0 row8\" >lda</th>\n",
       "      <td id=\"T_98e84_row8_col0\" class=\"data row8 col0\" >Linear Discriminant Analysis</td>\n",
       "      <td id=\"T_98e84_row8_col1\" class=\"data row8 col1\" >0.9445</td>\n",
       "      <td id=\"T_98e84_row8_col2\" class=\"data row8 col2\" >0.9091</td>\n",
       "      <td id=\"T_98e84_row8_col3\" class=\"data row8 col3\" >0.5858</td>\n",
       "      <td id=\"T_98e84_row8_col4\" class=\"data row8 col4\" >0.0305</td>\n",
       "      <td id=\"T_98e84_row8_col5\" class=\"data row8 col5\" >0.0576</td>\n",
       "      <td id=\"T_98e84_row8_col6\" class=\"data row8 col6\" >0.0525</td>\n",
       "      <td id=\"T_98e84_row8_col7\" class=\"data row8 col7\" >0.1223</td>\n",
       "      <td id=\"T_98e84_row8_col8\" class=\"data row8 col8\" >0.5690</td>\n",
       "    </tr>\n",
       "    <tr>\n",
       "      <th id=\"T_98e84_level0_row9\" class=\"row_heading level0 row9\" >gbc</th>\n",
       "      <td id=\"T_98e84_row9_col0\" class=\"data row9 col0\" >Gradient Boosting Classifier</td>\n",
       "      <td id=\"T_98e84_row9_col1\" class=\"data row9 col1\" >0.9103</td>\n",
       "      <td id=\"T_98e84_row9_col2\" class=\"data row9 col2\" >0.8966</td>\n",
       "      <td id=\"T_98e84_row9_col3\" class=\"data row9 col3\" >0.1676</td>\n",
       "      <td id=\"T_98e84_row9_col4\" class=\"data row9 col4\" >0.0604</td>\n",
       "      <td id=\"T_98e84_row9_col5\" class=\"data row9 col5\" >0.0449</td>\n",
       "      <td id=\"T_98e84_row9_col6\" class=\"data row9 col6\" >0.0422</td>\n",
       "      <td id=\"T_98e84_row9_col7\" class=\"data row9 col7\" >0.0530</td>\n",
       "      <td id=\"T_98e84_row9_col8\" class=\"data row9 col8\" >4.1990</td>\n",
       "    </tr>\n",
       "    <tr>\n",
       "      <th id=\"T_98e84_level0_row10\" class=\"row_heading level0 row10\" >lightgbm</th>\n",
       "      <td id=\"T_98e84_row10_col0\" class=\"data row10 col0\" >Light Gradient Boosting Machine</td>\n",
       "      <td id=\"T_98e84_row10_col1\" class=\"data row10 col1\" >0.9062</td>\n",
       "      <td id=\"T_98e84_row10_col2\" class=\"data row10 col2\" >0.7240</td>\n",
       "      <td id=\"T_98e84_row10_col3\" class=\"data row10 col3\" >0.1719</td>\n",
       "      <td id=\"T_98e84_row10_col4\" class=\"data row10 col4\" >0.0383</td>\n",
       "      <td id=\"T_98e84_row10_col5\" class=\"data row10 col5\" >0.0400</td>\n",
       "      <td id=\"T_98e84_row10_col6\" class=\"data row10 col6\" >0.0381</td>\n",
       "      <td id=\"T_98e84_row10_col7\" class=\"data row10 col7\" >0.0452</td>\n",
       "      <td id=\"T_98e84_row10_col8\" class=\"data row10 col8\" >0.6900</td>\n",
       "    </tr>\n",
       "    <tr>\n",
       "      <th id=\"T_98e84_level0_row11\" class=\"row_heading level0 row11\" >svm</th>\n",
       "      <td id=\"T_98e84_row11_col0\" class=\"data row11 col0\" >SVM - Linear Kernel</td>\n",
       "      <td id=\"T_98e84_row11_col1\" class=\"data row11 col1\" >0.6018</td>\n",
       "      <td id=\"T_98e84_row11_col2\" class=\"data row11 col2\" >0.0000</td>\n",
       "      <td id=\"T_98e84_row11_col3\" class=\"data row11 col3\" >0.4429</td>\n",
       "      <td id=\"T_98e84_row11_col4\" class=\"data row11 col4\" >0.0344</td>\n",
       "      <td id=\"T_98e84_row11_col5\" class=\"data row11 col5\" >0.0397</td>\n",
       "      <td id=\"T_98e84_row11_col6\" class=\"data row11 col6\" >0.0373</td>\n",
       "      <td id=\"T_98e84_row11_col7\" class=\"data row11 col7\" >0.0386</td>\n",
       "      <td id=\"T_98e84_row11_col8\" class=\"data row11 col8\" >1.0600</td>\n",
       "    </tr>\n",
       "    <tr>\n",
       "      <th id=\"T_98e84_level0_row12\" class=\"row_heading level0 row12\" >lr</th>\n",
       "      <td id=\"T_98e84_row12_col0\" class=\"data row12 col0\" >Logistic Regression</td>\n",
       "      <td id=\"T_98e84_row12_col1\" class=\"data row12 col1\" >0.4893</td>\n",
       "      <td id=\"T_98e84_row12_col2\" class=\"data row12 col2\" >0.7648</td>\n",
       "      <td id=\"T_98e84_row12_col3\" class=\"data row12 col3\" >0.9714</td>\n",
       "      <td id=\"T_98e84_row12_col4\" class=\"data row12 col4\" >0.0599</td>\n",
       "      <td id=\"T_98e84_row12_col5\" class=\"data row12 col5\" >0.1062</td>\n",
       "      <td id=\"T_98e84_row12_col6\" class=\"data row12 col6\" >0.1014</td>\n",
       "      <td id=\"T_98e84_row12_col7\" class=\"data row12 col7\" >0.1625</td>\n",
       "      <td id=\"T_98e84_row12_col8\" class=\"data row12 col8\" >1.4420</td>\n",
       "    </tr>\n",
       "    <tr>\n",
       "      <th id=\"T_98e84_level0_row13\" class=\"row_heading level0 row13\" >qda</th>\n",
       "      <td id=\"T_98e84_row13_col0\" class=\"data row13 col0\" >Quadratic Discriminant Analysis</td>\n",
       "      <td id=\"T_98e84_row13_col1\" class=\"data row13 col1\" >0.3221</td>\n",
       "      <td id=\"T_98e84_row13_col2\" class=\"data row13 col2\" >0.7967</td>\n",
       "      <td id=\"T_98e84_row13_col3\" class=\"data row13 col3\" >0.8454</td>\n",
       "      <td id=\"T_98e84_row13_col4\" class=\"data row13 col4\" >0.0037</td>\n",
       "      <td id=\"T_98e84_row13_col5\" class=\"data row13 col5\" >0.0074</td>\n",
       "      <td id=\"T_98e84_row13_col6\" class=\"data row13 col6\" >0.0016</td>\n",
       "      <td id=\"T_98e84_row13_col7\" class=\"data row13 col7\" >0.0165</td>\n",
       "      <td id=\"T_98e84_row13_col8\" class=\"data row13 col8\" >0.5180</td>\n",
>>>>>>> 1419f3404da83c3a7d47be817615004f7ad2c527
       "    </tr>\n",
       "  </tbody>\n",
       "</table>\n"
      ],
      "text/plain": [
<<<<<<< HEAD
       "<pandas.io.formats.style.Styler at 0x17e17adf4f0>"
=======
       "<pandas.io.formats.style.Styler at 0x151cf930a00>"
>>>>>>> 1419f3404da83c3a7d47be817615004f7ad2c527
      ]
     },
     "metadata": {},
     "output_type": "display_data"
    },
    {
     "data": {
      "application/vnd.jupyter.widget-view+json": {
<<<<<<< HEAD
       "model_id": "d18ffc13eae54aceb1ff867e543af3f4",
=======
       "model_id": "2b656c13891a48638e45d59c9b67b55d",
>>>>>>> 1419f3404da83c3a7d47be817615004f7ad2c527
       "version_major": 2,
       "version_minor": 0
      },
      "text/plain": [
       "Processing:   0%|          | 0/45 [00:00<?, ?it/s]"
      ]
     },
     "metadata": {},
     "output_type": "display_data"
    }
   ],
   "source": [
    "best_model_with_oversampling = compare_models(exclude= 'dummy')"
   ]
  },
  {
   "cell_type": "code",
<<<<<<< HEAD
   "execution_count": 29,
=======
   "execution_count": 34,
>>>>>>> 1419f3404da83c3a7d47be817615004f7ad2c527
   "metadata": {},
   "outputs": [
    {
     "data": {
      "text/html": [],
      "text/plain": [
       "<IPython.core.display.HTML object>"
      ]
     },
     "metadata": {},
     "output_type": "display_data"
    },
    {
     "data": {
<<<<<<< HEAD
      "image/png": "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",
=======
      "image/png": "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",
>>>>>>> 1419f3404da83c3a7d47be817615004f7ad2c527
      "text/plain": [
       "<Figure size 432x288 with 1 Axes>"
      ]
     },
     "metadata": {
      "needs_background": "light"
     },
     "output_type": "display_data"
    }
   ],
   "source": [
    "plot_model(best_model_with_oversampling, plot = 'confusion_matrix')"
   ]
  },
  {
   "cell_type": "markdown",
   "metadata": {},
   "source": [
    "### Erkenntnis\n"
   ]
  },
  {
   "cell_type": "code",
   "execution_count": 35,
   "metadata": {},
   "outputs": [
    {
     "data": {
      "text/html": [],
      "text/plain": [
       "<IPython.core.display.HTML object>"
      ]
     },
     "metadata": {},
     "output_type": "display_data"
    },
    {
     "data": {
<<<<<<< HEAD
      "image/png": "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",
=======
      "image/png": "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",
>>>>>>> 1419f3404da83c3a7d47be817615004f7ad2c527
      "text/plain": [
       "<Figure size 800x500 with 1 Axes>"
      ]
     },
     "metadata": {
      "needs_background": "light"
     },
     "output_type": "display_data"
    }
   ],
   "source": [
    "plot_model(best_model_with_oversampling, plot='feature')"
   ]
  },
  {
   "cell_type": "code",
<<<<<<< HEAD
   "execution_count": 36,
=======
   "execution_count": 22,
>>>>>>> 1419f3404da83c3a7d47be817615004f7ad2c527
   "metadata": {},
   "outputs": [],
   "source": [
    "#evaluate_model(best_model_with_oversampling)"
   ]
  },
  {
   "cell_type": "markdown",
   "metadata": {},
   "source": [
    "## Downsamplingansatz\n"
   ]
  },
  {
   "cell_type": "markdown",
   "metadata": {},
   "source": [
    "\n",
    "\n",
    "thoerie: Undersampling Methode: Nearmiss"
   ]
  },
  {
   "cell_type": "code",
<<<<<<< HEAD
   "execution_count": 20,
=======
   "execution_count": 14,
>>>>>>> 1419f3404da83c3a7d47be817615004f7ad2c527
   "metadata": {},
   "outputs": [
    {
     "data": {
      "text/html": [
       "<style type=\"text/css\">\n",
<<<<<<< HEAD
       "#T_405a1_row12_col1, #T_405a1_row18_col1 {\n",
       "  background-color: lightgreen;\n",
       "}\n",
       "</style>\n",
       "<table id=\"T_405a1_\">\n",
=======
       "#T_8da59_row12_col1, #T_8da59_row18_col1 {\n",
       "  background-color: lightgreen;\n",
       "}\n",
       "</style>\n",
       "<table id=\"T_8da59_\">\n",
>>>>>>> 1419f3404da83c3a7d47be817615004f7ad2c527
       "  <thead>\n",
       "    <tr>\n",
       "      <th class=\"blank level0\" >&nbsp;</th>\n",
       "      <th class=\"col_heading level0 col0\" >Description</th>\n",
       "      <th class=\"col_heading level0 col1\" >Value</th>\n",
       "    </tr>\n",
       "  </thead>\n",
       "  <tbody>\n",
       "    <tr>\n",
<<<<<<< HEAD
       "      <th id=\"T_405a1_level0_row0\" class=\"row_heading level0 row0\" >0</th>\n",
       "      <td id=\"T_405a1_row0_col0\" class=\"data row0 col0\" >Session id</td>\n",
       "      <td id=\"T_405a1_row0_col1\" class=\"data row0 col1\" >7074</td>\n",
       "    </tr>\n",
       "    <tr>\n",
       "      <th id=\"T_405a1_level0_row1\" class=\"row_heading level0 row1\" >1</th>\n",
       "      <td id=\"T_405a1_row1_col0\" class=\"data row1 col0\" >Target</td>\n",
       "      <td id=\"T_405a1_row1_col1\" class=\"data row1 col1\" >risk_user</td>\n",
       "    </tr>\n",
       "    <tr>\n",
       "      <th id=\"T_405a1_level0_row2\" class=\"row_heading level0 row2\" >2</th>\n",
       "      <td id=\"T_405a1_row2_col0\" class=\"data row2 col0\" >Target type</td>\n",
       "      <td id=\"T_405a1_row2_col1\" class=\"data row2 col1\" >Binary</td>\n",
       "    </tr>\n",
       "    <tr>\n",
       "      <th id=\"T_405a1_level0_row3\" class=\"row_heading level0 row3\" >3</th>\n",
       "      <td id=\"T_405a1_row3_col0\" class=\"data row3 col0\" >Target mapping</td>\n",
       "      <td id=\"T_405a1_row3_col1\" class=\"data row3 col1\" >N: 0, Y: 1</td>\n",
       "    </tr>\n",
       "    <tr>\n",
       "      <th id=\"T_405a1_level0_row4\" class=\"row_heading level0 row4\" >4</th>\n",
       "      <td id=\"T_405a1_row4_col0\" class=\"data row4 col0\" >Original data shape</td>\n",
       "      <td id=\"T_405a1_row4_col1\" class=\"data row4 col1\" >(20107, 18)</td>\n",
       "    </tr>\n",
       "    <tr>\n",
       "      <th id=\"T_405a1_level0_row5\" class=\"row_heading level0 row5\" >5</th>\n",
       "      <td id=\"T_405a1_row5_col0\" class=\"data row5 col0\" >Transformed data shape</td>\n",
       "      <td id=\"T_405a1_row5_col1\" class=\"data row5 col1\" >(4120, 28)</td>\n",
       "    </tr>\n",
       "    <tr>\n",
       "      <th id=\"T_405a1_level0_row6\" class=\"row_heading level0 row6\" >6</th>\n",
       "      <td id=\"T_405a1_row6_col0\" class=\"data row6 col0\" >Transformed train set shape</td>\n",
       "      <td id=\"T_405a1_row6_col1\" class=\"data row6 col1\" >(98, 28)</td>\n",
       "    </tr>\n",
       "    <tr>\n",
       "      <th id=\"T_405a1_level0_row7\" class=\"row_heading level0 row7\" >7</th>\n",
       "      <td id=\"T_405a1_row7_col0\" class=\"data row7 col0\" >Transformed test set shape</td>\n",
       "      <td id=\"T_405a1_row7_col1\" class=\"data row7 col1\" >(4022, 28)</td>\n",
       "    </tr>\n",
       "    <tr>\n",
       "      <th id=\"T_405a1_level0_row8\" class=\"row_heading level0 row8\" >8</th>\n",
       "      <td id=\"T_405a1_row8_col0\" class=\"data row8 col0\" >Ignore features</td>\n",
       "      <td id=\"T_405a1_row8_col1\" class=\"data row8 col1\" >1</td>\n",
       "    </tr>\n",
       "    <tr>\n",
       "      <th id=\"T_405a1_level0_row9\" class=\"row_heading level0 row9\" >9</th>\n",
       "      <td id=\"T_405a1_row9_col0\" class=\"data row9 col0\" >Ordinal features</td>\n",
       "      <td id=\"T_405a1_row9_col1\" class=\"data row9 col1\" >3</td>\n",
       "    </tr>\n",
       "    <tr>\n",
       "      <th id=\"T_405a1_level0_row10\" class=\"row_heading level0 row10\" >10</th>\n",
       "      <td id=\"T_405a1_row10_col0\" class=\"data row10 col0\" >Numeric features</td>\n",
       "      <td id=\"T_405a1_row10_col1\" class=\"data row10 col1\" >9</td>\n",
       "    </tr>\n",
       "    <tr>\n",
       "      <th id=\"T_405a1_level0_row11\" class=\"row_heading level0 row11\" >11</th>\n",
       "      <td id=\"T_405a1_row11_col0\" class=\"data row11 col0\" >Categorical features</td>\n",
       "      <td id=\"T_405a1_row11_col1\" class=\"data row11 col1\" >8</td>\n",
       "    </tr>\n",
       "    <tr>\n",
       "      <th id=\"T_405a1_level0_row12\" class=\"row_heading level0 row12\" >12</th>\n",
       "      <td id=\"T_405a1_row12_col0\" class=\"data row12 col0\" >Preprocess</td>\n",
       "      <td id=\"T_405a1_row12_col1\" class=\"data row12 col1\" >True</td>\n",
       "    </tr>\n",
       "    <tr>\n",
       "      <th id=\"T_405a1_level0_row13\" class=\"row_heading level0 row13\" >13</th>\n",
       "      <td id=\"T_405a1_row13_col0\" class=\"data row13 col0\" >Imputation type</td>\n",
       "      <td id=\"T_405a1_row13_col1\" class=\"data row13 col1\" >simple</td>\n",
       "    </tr>\n",
       "    <tr>\n",
       "      <th id=\"T_405a1_level0_row14\" class=\"row_heading level0 row14\" >14</th>\n",
       "      <td id=\"T_405a1_row14_col0\" class=\"data row14 col0\" >Numeric imputation</td>\n",
       "      <td id=\"T_405a1_row14_col1\" class=\"data row14 col1\" >mean</td>\n",
       "    </tr>\n",
       "    <tr>\n",
       "      <th id=\"T_405a1_level0_row15\" class=\"row_heading level0 row15\" >15</th>\n",
       "      <td id=\"T_405a1_row15_col0\" class=\"data row15 col0\" >Categorical imputation</td>\n",
       "      <td id=\"T_405a1_row15_col1\" class=\"data row15 col1\" >constant</td>\n",
       "    </tr>\n",
       "    <tr>\n",
       "      <th id=\"T_405a1_level0_row16\" class=\"row_heading level0 row16\" >16</th>\n",
       "      <td id=\"T_405a1_row16_col0\" class=\"data row16 col0\" >Maximum one-hot encoding</td>\n",
       "      <td id=\"T_405a1_row16_col1\" class=\"data row16 col1\" >5</td>\n",
       "    </tr>\n",
       "    <tr>\n",
       "      <th id=\"T_405a1_level0_row17\" class=\"row_heading level0 row17\" >17</th>\n",
       "      <td id=\"T_405a1_row17_col0\" class=\"data row17 col0\" >Encoding method</td>\n",
       "      <td id=\"T_405a1_row17_col1\" class=\"data row17 col1\" >None</td>\n",
       "    </tr>\n",
       "    <tr>\n",
       "      <th id=\"T_405a1_level0_row18\" class=\"row_heading level0 row18\" >18</th>\n",
       "      <td id=\"T_405a1_row18_col0\" class=\"data row18 col0\" >Fix imbalance</td>\n",
       "      <td id=\"T_405a1_row18_col1\" class=\"data row18 col1\" >True</td>\n",
       "    </tr>\n",
       "    <tr>\n",
       "      <th id=\"T_405a1_level0_row19\" class=\"row_heading level0 row19\" >19</th>\n",
       "      <td id=\"T_405a1_row19_col0\" class=\"data row19 col0\" >Fix imbalance method</td>\n",
       "      <td id=\"T_405a1_row19_col1\" class=\"data row19 col1\" >NearMiss(n_jobs=None, n_neighbors=3, n_neighbors_ver3=3,\n",
       "         sampling_strategy='auto', version=1)</td>\n",
       "    </tr>\n",
       "    <tr>\n",
       "      <th id=\"T_405a1_level0_row20\" class=\"row_heading level0 row20\" >20</th>\n",
       "      <td id=\"T_405a1_row20_col0\" class=\"data row20 col0\" >Fold Generator</td>\n",
       "      <td id=\"T_405a1_row20_col1\" class=\"data row20 col1\" >KFold</td>\n",
       "    </tr>\n",
       "    <tr>\n",
       "      <th id=\"T_405a1_level0_row21\" class=\"row_heading level0 row21\" >21</th>\n",
       "      <td id=\"T_405a1_row21_col0\" class=\"data row21 col0\" >Fold Number</td>\n",
       "      <td id=\"T_405a1_row21_col1\" class=\"data row21 col1\" >10</td>\n",
       "    </tr>\n",
       "    <tr>\n",
       "      <th id=\"T_405a1_level0_row22\" class=\"row_heading level0 row22\" >22</th>\n",
       "      <td id=\"T_405a1_row22_col0\" class=\"data row22 col0\" >CPU Jobs</td>\n",
       "      <td id=\"T_405a1_row22_col1\" class=\"data row22 col1\" >-1</td>\n",
       "    </tr>\n",
       "    <tr>\n",
       "      <th id=\"T_405a1_level0_row23\" class=\"row_heading level0 row23\" >23</th>\n",
       "      <td id=\"T_405a1_row23_col0\" class=\"data row23 col0\" >Use GPU</td>\n",
       "      <td id=\"T_405a1_row23_col1\" class=\"data row23 col1\" >False</td>\n",
       "    </tr>\n",
       "    <tr>\n",
       "      <th id=\"T_405a1_level0_row24\" class=\"row_heading level0 row24\" >24</th>\n",
       "      <td id=\"T_405a1_row24_col0\" class=\"data row24 col0\" >Log Experiment</td>\n",
       "      <td id=\"T_405a1_row24_col1\" class=\"data row24 col1\" >False</td>\n",
       "    </tr>\n",
       "    <tr>\n",
       "      <th id=\"T_405a1_level0_row25\" class=\"row_heading level0 row25\" >25</th>\n",
       "      <td id=\"T_405a1_row25_col0\" class=\"data row25 col0\" >Experiment Name</td>\n",
       "      <td id=\"T_405a1_row25_col1\" class=\"data row25 col1\" >clf-default-name</td>\n",
       "    </tr>\n",
       "    <tr>\n",
       "      <th id=\"T_405a1_level0_row26\" class=\"row_heading level0 row26\" >26</th>\n",
       "      <td id=\"T_405a1_row26_col0\" class=\"data row26 col0\" >USI</td>\n",
       "      <td id=\"T_405a1_row26_col1\" class=\"data row26 col1\" >d1e5</td>\n",
=======
       "      <th id=\"T_8da59_level0_row0\" class=\"row_heading level0 row0\" >0</th>\n",
       "      <td id=\"T_8da59_row0_col0\" class=\"data row0 col0\" >Session id</td>\n",
       "      <td id=\"T_8da59_row0_col1\" class=\"data row0 col1\" >8754</td>\n",
       "    </tr>\n",
       "    <tr>\n",
       "      <th id=\"T_8da59_level0_row1\" class=\"row_heading level0 row1\" >1</th>\n",
       "      <td id=\"T_8da59_row1_col0\" class=\"data row1 col0\" >Target</td>\n",
       "      <td id=\"T_8da59_row1_col1\" class=\"data row1 col1\" >risk_user</td>\n",
       "    </tr>\n",
       "    <tr>\n",
       "      <th id=\"T_8da59_level0_row2\" class=\"row_heading level0 row2\" >2</th>\n",
       "      <td id=\"T_8da59_row2_col0\" class=\"data row2 col0\" >Target type</td>\n",
       "      <td id=\"T_8da59_row2_col1\" class=\"data row2 col1\" >Binary</td>\n",
       "    </tr>\n",
       "    <tr>\n",
       "      <th id=\"T_8da59_level0_row3\" class=\"row_heading level0 row3\" >3</th>\n",
       "      <td id=\"T_8da59_row3_col0\" class=\"data row3 col0\" >Target mapping</td>\n",
       "      <td id=\"T_8da59_row3_col1\" class=\"data row3 col1\" >N: 0, Y: 1</td>\n",
       "    </tr>\n",
       "    <tr>\n",
       "      <th id=\"T_8da59_level0_row4\" class=\"row_heading level0 row4\" >4</th>\n",
       "      <td id=\"T_8da59_row4_col0\" class=\"data row4 col0\" >Original data shape</td>\n",
       "      <td id=\"T_8da59_row4_col1\" class=\"data row4 col1\" >(25134, 18)</td>\n",
       "    </tr>\n",
       "    <tr>\n",
       "      <th id=\"T_8da59_level0_row5\" class=\"row_heading level0 row5\" >5</th>\n",
       "      <td id=\"T_8da59_row5_col0\" class=\"data row5 col0\" >Transformed data shape</td>\n",
       "      <td id=\"T_8da59_row5_col1\" class=\"data row5 col1\" >(5143, 28)</td>\n",
       "    </tr>\n",
       "    <tr>\n",
       "      <th id=\"T_8da59_level0_row6\" class=\"row_heading level0 row6\" >6</th>\n",
       "      <td id=\"T_8da59_row6_col0\" class=\"data row6 col0\" >Transformed train set shape</td>\n",
       "      <td id=\"T_8da59_row6_col1\" class=\"data row6 col1\" >(116, 28)</td>\n",
       "    </tr>\n",
       "    <tr>\n",
       "      <th id=\"T_8da59_level0_row7\" class=\"row_heading level0 row7\" >7</th>\n",
       "      <td id=\"T_8da59_row7_col0\" class=\"data row7 col0\" >Transformed test set shape</td>\n",
       "      <td id=\"T_8da59_row7_col1\" class=\"data row7 col1\" >(5027, 28)</td>\n",
       "    </tr>\n",
       "    <tr>\n",
       "      <th id=\"T_8da59_level0_row8\" class=\"row_heading level0 row8\" >8</th>\n",
       "      <td id=\"T_8da59_row8_col0\" class=\"data row8 col0\" >Ignore features</td>\n",
       "      <td id=\"T_8da59_row8_col1\" class=\"data row8 col1\" >1</td>\n",
       "    </tr>\n",
       "    <tr>\n",
       "      <th id=\"T_8da59_level0_row9\" class=\"row_heading level0 row9\" >9</th>\n",
       "      <td id=\"T_8da59_row9_col0\" class=\"data row9 col0\" >Ordinal features</td>\n",
       "      <td id=\"T_8da59_row9_col1\" class=\"data row9 col1\" >3</td>\n",
       "    </tr>\n",
       "    <tr>\n",
       "      <th id=\"T_8da59_level0_row10\" class=\"row_heading level0 row10\" >10</th>\n",
       "      <td id=\"T_8da59_row10_col0\" class=\"data row10 col0\" >Numeric features</td>\n",
       "      <td id=\"T_8da59_row10_col1\" class=\"data row10 col1\" >9</td>\n",
       "    </tr>\n",
       "    <tr>\n",
       "      <th id=\"T_8da59_level0_row11\" class=\"row_heading level0 row11\" >11</th>\n",
       "      <td id=\"T_8da59_row11_col0\" class=\"data row11 col0\" >Categorical features</td>\n",
       "      <td id=\"T_8da59_row11_col1\" class=\"data row11 col1\" >8</td>\n",
       "    </tr>\n",
       "    <tr>\n",
       "      <th id=\"T_8da59_level0_row12\" class=\"row_heading level0 row12\" >12</th>\n",
       "      <td id=\"T_8da59_row12_col0\" class=\"data row12 col0\" >Preprocess</td>\n",
       "      <td id=\"T_8da59_row12_col1\" class=\"data row12 col1\" >True</td>\n",
       "    </tr>\n",
       "    <tr>\n",
       "      <th id=\"T_8da59_level0_row13\" class=\"row_heading level0 row13\" >13</th>\n",
       "      <td id=\"T_8da59_row13_col0\" class=\"data row13 col0\" >Imputation type</td>\n",
       "      <td id=\"T_8da59_row13_col1\" class=\"data row13 col1\" >simple</td>\n",
       "    </tr>\n",
       "    <tr>\n",
       "      <th id=\"T_8da59_level0_row14\" class=\"row_heading level0 row14\" >14</th>\n",
       "      <td id=\"T_8da59_row14_col0\" class=\"data row14 col0\" >Numeric imputation</td>\n",
       "      <td id=\"T_8da59_row14_col1\" class=\"data row14 col1\" >mean</td>\n",
       "    </tr>\n",
       "    <tr>\n",
       "      <th id=\"T_8da59_level0_row15\" class=\"row_heading level0 row15\" >15</th>\n",
       "      <td id=\"T_8da59_row15_col0\" class=\"data row15 col0\" >Categorical imputation</td>\n",
       "      <td id=\"T_8da59_row15_col1\" class=\"data row15 col1\" >constant</td>\n",
       "    </tr>\n",
       "    <tr>\n",
       "      <th id=\"T_8da59_level0_row16\" class=\"row_heading level0 row16\" >16</th>\n",
       "      <td id=\"T_8da59_row16_col0\" class=\"data row16 col0\" >Maximum one-hot encoding</td>\n",
       "      <td id=\"T_8da59_row16_col1\" class=\"data row16 col1\" >5</td>\n",
       "    </tr>\n",
       "    <tr>\n",
       "      <th id=\"T_8da59_level0_row17\" class=\"row_heading level0 row17\" >17</th>\n",
       "      <td id=\"T_8da59_row17_col0\" class=\"data row17 col0\" >Encoding method</td>\n",
       "      <td id=\"T_8da59_row17_col1\" class=\"data row17 col1\" >None</td>\n",
       "    </tr>\n",
       "    <tr>\n",
       "      <th id=\"T_8da59_level0_row18\" class=\"row_heading level0 row18\" >18</th>\n",
       "      <td id=\"T_8da59_row18_col0\" class=\"data row18 col0\" >Fix imbalance</td>\n",
       "      <td id=\"T_8da59_row18_col1\" class=\"data row18 col1\" >True</td>\n",
       "    </tr>\n",
       "    <tr>\n",
       "      <th id=\"T_8da59_level0_row19\" class=\"row_heading level0 row19\" >19</th>\n",
       "      <td id=\"T_8da59_row19_col0\" class=\"data row19 col0\" >Fix imbalance method</td>\n",
       "      <td id=\"T_8da59_row19_col1\" class=\"data row19 col1\" >NearMiss(n_jobs=None, n_neighbors=3, n_neighbors_ver3=3,\n",
       "         sampling_strategy='auto', version=1)</td>\n",
       "    </tr>\n",
       "    <tr>\n",
       "      <th id=\"T_8da59_level0_row20\" class=\"row_heading level0 row20\" >20</th>\n",
       "      <td id=\"T_8da59_row20_col0\" class=\"data row20 col0\" >Fold Generator</td>\n",
       "      <td id=\"T_8da59_row20_col1\" class=\"data row20 col1\" >KFold</td>\n",
       "    </tr>\n",
       "    <tr>\n",
       "      <th id=\"T_8da59_level0_row21\" class=\"row_heading level0 row21\" >21</th>\n",
       "      <td id=\"T_8da59_row21_col0\" class=\"data row21 col0\" >Fold Number</td>\n",
       "      <td id=\"T_8da59_row21_col1\" class=\"data row21 col1\" >10</td>\n",
       "    </tr>\n",
       "    <tr>\n",
       "      <th id=\"T_8da59_level0_row22\" class=\"row_heading level0 row22\" >22</th>\n",
       "      <td id=\"T_8da59_row22_col0\" class=\"data row22 col0\" >CPU Jobs</td>\n",
       "      <td id=\"T_8da59_row22_col1\" class=\"data row22 col1\" >-1</td>\n",
       "    </tr>\n",
       "    <tr>\n",
       "      <th id=\"T_8da59_level0_row23\" class=\"row_heading level0 row23\" >23</th>\n",
       "      <td id=\"T_8da59_row23_col0\" class=\"data row23 col0\" >Use GPU</td>\n",
       "      <td id=\"T_8da59_row23_col1\" class=\"data row23 col1\" >False</td>\n",
       "    </tr>\n",
       "    <tr>\n",
       "      <th id=\"T_8da59_level0_row24\" class=\"row_heading level0 row24\" >24</th>\n",
       "      <td id=\"T_8da59_row24_col0\" class=\"data row24 col0\" >Log Experiment</td>\n",
       "      <td id=\"T_8da59_row24_col1\" class=\"data row24 col1\" >False</td>\n",
       "    </tr>\n",
       "    <tr>\n",
       "      <th id=\"T_8da59_level0_row25\" class=\"row_heading level0 row25\" >25</th>\n",
       "      <td id=\"T_8da59_row25_col0\" class=\"data row25 col0\" >Experiment Name</td>\n",
       "      <td id=\"T_8da59_row25_col1\" class=\"data row25 col1\" >clf-default-name</td>\n",
       "    </tr>\n",
       "    <tr>\n",
       "      <th id=\"T_8da59_level0_row26\" class=\"row_heading level0 row26\" >26</th>\n",
       "      <td id=\"T_8da59_row26_col0\" class=\"data row26 col0\" >USI</td>\n",
       "      <td id=\"T_8da59_row26_col1\" class=\"data row26 col1\" >55c4</td>\n",
>>>>>>> 1419f3404da83c3a7d47be817615004f7ad2c527
       "    </tr>\n",
       "  </tbody>\n",
       "</table>\n"
      ],
      "text/plain": [
<<<<<<< HEAD
       "<pandas.io.formats.style.Styler at 0x17e40285b20>"
=======
       "<pandas.io.formats.style.Styler at 0x151d031bf70>"
>>>>>>> 1419f3404da83c3a7d47be817615004f7ad2c527
      ]
     },
     "metadata": {},
     "output_type": "display_data"
    }
   ],
   "source": [
<<<<<<< HEAD
    "stp_downsampled = pycaret.classification.setup(data = training_data, target = 'risk_user', train_size = 0.8,\n",
=======
    "stp_downsampled = pycaret.classification.setup(data = cca_unique_id, target = 'risk_user', train_size = 0.8,\n",
>>>>>>> 1419f3404da83c3a7d47be817615004f7ad2c527
    "            categorical_features = ['gender','owning_car','children_amt', 'owning_property', 'education_level',\n",
    "                                    'marital_status', 'housing_type', \n",
    "                                    'job'],  fold_strategy = 'kfold',\n",
    "            fix_imbalance = True, fix_imbalance_method = imblearn.under_sampling.NearMiss() , fold = 10,\n",
    "            ignore_features = ['applicant_ID'])"
   ]
  },
  {
   "cell_type": "code",
<<<<<<< HEAD
   "execution_count": 21,
=======
   "execution_count": 15,
>>>>>>> 1419f3404da83c3a7d47be817615004f7ad2c527
   "metadata": {},
   "outputs": [
    {
     "data": {
      "text/html": [],
      "text/plain": [
       "<IPython.core.display.HTML object>"
      ]
     },
     "metadata": {},
     "output_type": "display_data"
    },
    {
     "data": {
      "text/html": [
       "<style type=\"text/css\">\n",
<<<<<<< HEAD
       "#T_ba761_ th {\n",
       "  text-align: left;\n",
       "}\n",
       "#T_ba761_row0_col0, #T_ba761_row0_col3, #T_ba761_row0_col4, #T_ba761_row0_col5, #T_ba761_row0_col6, #T_ba761_row0_col7, #T_ba761_row1_col0, #T_ba761_row1_col1, #T_ba761_row1_col2, #T_ba761_row1_col3, #T_ba761_row1_col4, #T_ba761_row1_col7, #T_ba761_row2_col0, #T_ba761_row2_col1, #T_ba761_row2_col2, #T_ba761_row2_col3, #T_ba761_row2_col5, #T_ba761_row2_col6, #T_ba761_row2_col7, #T_ba761_row3_col0, #T_ba761_row3_col1, #T_ba761_row3_col2, #T_ba761_row3_col3, #T_ba761_row3_col4, #T_ba761_row3_col5, #T_ba761_row3_col6, #T_ba761_row3_col7, #T_ba761_row4_col0, #T_ba761_row4_col1, #T_ba761_row4_col2, #T_ba761_row4_col3, #T_ba761_row4_col4, #T_ba761_row4_col5, #T_ba761_row4_col6, #T_ba761_row4_col7, #T_ba761_row5_col0, #T_ba761_row5_col1, #T_ba761_row5_col2, #T_ba761_row5_col3, #T_ba761_row5_col4, #T_ba761_row5_col5, #T_ba761_row5_col6, #T_ba761_row6_col0, #T_ba761_row6_col1, #T_ba761_row6_col2, #T_ba761_row6_col3, #T_ba761_row6_col4, #T_ba761_row6_col5, #T_ba761_row6_col6, #T_ba761_row6_col7, #T_ba761_row7_col0, #T_ba761_row7_col1, #T_ba761_row7_col2, #T_ba761_row7_col3, #T_ba761_row7_col4, #T_ba761_row7_col5, #T_ba761_row7_col6, #T_ba761_row7_col7, #T_ba761_row8_col0, #T_ba761_row8_col1, #T_ba761_row8_col2, #T_ba761_row8_col3, #T_ba761_row8_col4, #T_ba761_row8_col5, #T_ba761_row8_col6, #T_ba761_row8_col7, #T_ba761_row9_col0, #T_ba761_row9_col1, #T_ba761_row9_col2, #T_ba761_row9_col3, #T_ba761_row9_col4, #T_ba761_row9_col5, #T_ba761_row9_col6, #T_ba761_row9_col7, #T_ba761_row10_col0, #T_ba761_row10_col1, #T_ba761_row10_col2, #T_ba761_row10_col3, #T_ba761_row10_col4, #T_ba761_row10_col5, #T_ba761_row10_col6, #T_ba761_row10_col7, #T_ba761_row11_col0, #T_ba761_row11_col1, #T_ba761_row11_col2, #T_ba761_row11_col3, #T_ba761_row11_col4, #T_ba761_row11_col5, #T_ba761_row11_col6, #T_ba761_row11_col7, #T_ba761_row12_col0, #T_ba761_row12_col1, #T_ba761_row12_col2, #T_ba761_row12_col3, #T_ba761_row12_col4, #T_ba761_row12_col5, #T_ba761_row12_col6, #T_ba761_row12_col7, #T_ba761_row13_col0, #T_ba761_row13_col1, #T_ba761_row13_col2, #T_ba761_row13_col4, #T_ba761_row13_col5, #T_ba761_row13_col6, #T_ba761_row13_col7 {\n",
       "  text-align: left;\n",
       "}\n",
       "#T_ba761_row0_col1, #T_ba761_row0_col2, #T_ba761_row1_col5, #T_ba761_row1_col6, #T_ba761_row2_col4, #T_ba761_row5_col7, #T_ba761_row13_col3 {\n",
       "  text-align: left;\n",
       "  background-color: yellow;\n",
       "}\n",
       "#T_ba761_row0_col8, #T_ba761_row1_col8, #T_ba761_row2_col8, #T_ba761_row3_col8, #T_ba761_row4_col8, #T_ba761_row5_col8, #T_ba761_row6_col8, #T_ba761_row7_col8, #T_ba761_row8_col8, #T_ba761_row9_col8, #T_ba761_row11_col8, #T_ba761_row12_col8, #T_ba761_row13_col8 {\n",
       "  text-align: left;\n",
       "  background-color: lightgrey;\n",
       "}\n",
       "#T_ba761_row10_col8 {\n",
=======
       "#T_020d9_ th {\n",
       "  text-align: left;\n",
       "}\n",
       "#T_020d9_row0_col0, #T_020d9_row0_col3, #T_020d9_row1_col0, #T_020d9_row1_col1, #T_020d9_row1_col2, #T_020d9_row1_col3, #T_020d9_row1_col4, #T_020d9_row1_col5, #T_020d9_row1_col6, #T_020d9_row1_col7, #T_020d9_row2_col0, #T_020d9_row2_col1, #T_020d9_row2_col2, #T_020d9_row2_col3, #T_020d9_row2_col4, #T_020d9_row2_col5, #T_020d9_row2_col6, #T_020d9_row2_col7, #T_020d9_row3_col0, #T_020d9_row3_col1, #T_020d9_row3_col2, #T_020d9_row3_col3, #T_020d9_row3_col4, #T_020d9_row3_col5, #T_020d9_row3_col6, #T_020d9_row3_col7, #T_020d9_row4_col0, #T_020d9_row4_col1, #T_020d9_row4_col2, #T_020d9_row4_col3, #T_020d9_row4_col4, #T_020d9_row4_col5, #T_020d9_row4_col6, #T_020d9_row4_col7, #T_020d9_row5_col0, #T_020d9_row5_col1, #T_020d9_row5_col2, #T_020d9_row5_col3, #T_020d9_row5_col4, #T_020d9_row5_col5, #T_020d9_row5_col6, #T_020d9_row5_col7, #T_020d9_row6_col0, #T_020d9_row6_col1, #T_020d9_row6_col2, #T_020d9_row6_col3, #T_020d9_row6_col4, #T_020d9_row6_col5, #T_020d9_row6_col6, #T_020d9_row6_col7, #T_020d9_row7_col0, #T_020d9_row7_col1, #T_020d9_row7_col2, #T_020d9_row7_col3, #T_020d9_row7_col4, #T_020d9_row7_col5, #T_020d9_row7_col6, #T_020d9_row7_col7, #T_020d9_row8_col0, #T_020d9_row8_col1, #T_020d9_row8_col2, #T_020d9_row8_col3, #T_020d9_row8_col4, #T_020d9_row8_col5, #T_020d9_row8_col6, #T_020d9_row8_col7, #T_020d9_row9_col0, #T_020d9_row9_col1, #T_020d9_row9_col2, #T_020d9_row9_col3, #T_020d9_row9_col4, #T_020d9_row9_col5, #T_020d9_row9_col6, #T_020d9_row9_col7, #T_020d9_row10_col0, #T_020d9_row10_col1, #T_020d9_row10_col2, #T_020d9_row10_col4, #T_020d9_row10_col5, #T_020d9_row10_col6, #T_020d9_row10_col7, #T_020d9_row11_col0, #T_020d9_row11_col1, #T_020d9_row11_col2, #T_020d9_row11_col3, #T_020d9_row11_col4, #T_020d9_row11_col5, #T_020d9_row11_col6, #T_020d9_row11_col7, #T_020d9_row12_col0, #T_020d9_row12_col1, #T_020d9_row12_col2, #T_020d9_row12_col3, #T_020d9_row12_col4, #T_020d9_row12_col5, #T_020d9_row12_col6, #T_020d9_row12_col7, #T_020d9_row13_col0, #T_020d9_row13_col1, #T_020d9_row13_col2, #T_020d9_row13_col3, #T_020d9_row13_col4, #T_020d9_row13_col5, #T_020d9_row13_col6, #T_020d9_row13_col7 {\n",
       "  text-align: left;\n",
       "}\n",
       "#T_020d9_row0_col1, #T_020d9_row0_col2, #T_020d9_row0_col4, #T_020d9_row0_col5, #T_020d9_row0_col6, #T_020d9_row0_col7, #T_020d9_row10_col3 {\n",
       "  text-align: left;\n",
       "  background-color: yellow;\n",
       "}\n",
       "#T_020d9_row0_col8, #T_020d9_row1_col8, #T_020d9_row2_col8, #T_020d9_row3_col8, #T_020d9_row4_col8, #T_020d9_row5_col8, #T_020d9_row6_col8, #T_020d9_row7_col8, #T_020d9_row8_col8, #T_020d9_row10_col8, #T_020d9_row11_col8, #T_020d9_row12_col8, #T_020d9_row13_col8 {\n",
       "  text-align: left;\n",
       "  background-color: lightgrey;\n",
       "}\n",
       "#T_020d9_row9_col8 {\n",
>>>>>>> 1419f3404da83c3a7d47be817615004f7ad2c527
       "  text-align: left;\n",
       "  background-color: yellow;\n",
       "  background-color: lightgrey;\n",
       "}\n",
       "</style>\n",
<<<<<<< HEAD
       "<table id=\"T_ba761_\">\n",
=======
       "<table id=\"T_020d9_\">\n",
>>>>>>> 1419f3404da83c3a7d47be817615004f7ad2c527
       "  <thead>\n",
       "    <tr>\n",
       "      <th class=\"blank level0\" >&nbsp;</th>\n",
       "      <th class=\"col_heading level0 col0\" >Model</th>\n",
       "      <th class=\"col_heading level0 col1\" >Accuracy</th>\n",
       "      <th class=\"col_heading level0 col2\" >AUC</th>\n",
       "      <th class=\"col_heading level0 col3\" >Recall</th>\n",
       "      <th class=\"col_heading level0 col4\" >Prec.</th>\n",
       "      <th class=\"col_heading level0 col5\" >F1</th>\n",
       "      <th class=\"col_heading level0 col6\" >Kappa</th>\n",
       "      <th class=\"col_heading level0 col7\" >MCC</th>\n",
       "      <th class=\"col_heading level0 col8\" >TT (Sec)</th>\n",
       "    </tr>\n",
       "  </thead>\n",
       "  <tbody>\n",
       "    <tr>\n",
<<<<<<< HEAD
       "      <th id=\"T_ba761_level0_row0\" class=\"row_heading level0 row0\" >xgboost</th>\n",
       "      <td id=\"T_ba761_row0_col0\" class=\"data row0 col0\" >Extreme Gradient Boosting</td>\n",
       "      <td id=\"T_ba761_row0_col1\" class=\"data row0 col1\" >0.9739</td>\n",
       "      <td id=\"T_ba761_row0_col2\" class=\"data row0 col2\" >0.8462</td>\n",
       "      <td id=\"T_ba761_row0_col3\" class=\"data row0 col3\" >0.1544</td>\n",
       "      <td id=\"T_ba761_row0_col4\" class=\"data row0 col4\" >0.0247</td>\n",
       "      <td id=\"T_ba761_row0_col5\" class=\"data row0 col5\" >0.0404</td>\n",
       "      <td id=\"T_ba761_row0_col6\" class=\"data row0 col6\" >0.0356</td>\n",
       "      <td id=\"T_ba761_row0_col7\" class=\"data row0 col7\" >0.0517</td>\n",
       "      <td id=\"T_ba761_row0_col8\" class=\"data row0 col8\" >0.4330</td>\n",
       "    </tr>\n",
       "    <tr>\n",
       "      <th id=\"T_ba761_level0_row1\" class=\"row_heading level0 row1\" >lightgbm</th>\n",
       "      <td id=\"T_ba761_row1_col0\" class=\"data row1 col0\" >Light Gradient Boosting Machine</td>\n",
       "      <td id=\"T_ba761_row1_col1\" class=\"data row1 col1\" >0.9700</td>\n",
       "      <td id=\"T_ba761_row1_col2\" class=\"data row1 col2\" >0.8209</td>\n",
       "      <td id=\"T_ba761_row1_col3\" class=\"data row1 col3\" >0.1952</td>\n",
       "      <td id=\"T_ba761_row1_col4\" class=\"data row1 col4\" >0.0257</td>\n",
       "      <td id=\"T_ba761_row1_col5\" class=\"data row1 col5\" >0.0445</td>\n",
       "      <td id=\"T_ba761_row1_col6\" class=\"data row1 col6\" >0.0394</td>\n",
       "      <td id=\"T_ba761_row1_col7\" class=\"data row1 col7\" >0.0607</td>\n",
       "      <td id=\"T_ba761_row1_col8\" class=\"data row1 col8\" >0.4150</td>\n",
       "    </tr>\n",
       "    <tr>\n",
       "      <th id=\"T_ba761_level0_row2\" class=\"row_heading level0 row2\" >dt</th>\n",
       "      <td id=\"T_ba761_row2_col0\" class=\"data row2 col0\" >Decision Tree Classifier</td>\n",
       "      <td id=\"T_ba761_row2_col1\" class=\"data row2 col1\" >0.9596</td>\n",
       "      <td id=\"T_ba761_row2_col2\" class=\"data row2 col2\" >0.5121</td>\n",
       "      <td id=\"T_ba761_row2_col3\" class=\"data row2 col3\" >0.0619</td>\n",
       "      <td id=\"T_ba761_row2_col4\" class=\"data row2 col4\" >0.0291</td>\n",
       "      <td id=\"T_ba761_row2_col5\" class=\"data row2 col5\" >0.0318</td>\n",
       "      <td id=\"T_ba761_row2_col6\" class=\"data row2 col6\" >0.0274</td>\n",
       "      <td id=\"T_ba761_row2_col7\" class=\"data row2 col7\" >0.0264</td>\n",
       "      <td id=\"T_ba761_row2_col8\" class=\"data row2 col8\" >0.3860</td>\n",
       "    </tr>\n",
       "    <tr>\n",
       "      <th id=\"T_ba761_level0_row3\" class=\"row_heading level0 row3\" >gbc</th>\n",
       "      <td id=\"T_ba761_row3_col0\" class=\"data row3 col0\" >Gradient Boosting Classifier</td>\n",
       "      <td id=\"T_ba761_row3_col1\" class=\"data row3 col1\" >0.9477</td>\n",
       "      <td id=\"T_ba761_row3_col2\" class=\"data row3 col2\" >0.4925</td>\n",
       "      <td id=\"T_ba761_row3_col3\" class=\"data row3 col3\" >0.0619</td>\n",
       "      <td id=\"T_ba761_row3_col4\" class=\"data row3 col4\" >0.0024</td>\n",
       "      <td id=\"T_ba761_row3_col5\" class=\"data row3 col5\" >0.0045</td>\n",
       "      <td id=\"T_ba761_row3_col6\" class=\"data row3 col6\" >-0.0007</td>\n",
       "      <td id=\"T_ba761_row3_col7\" class=\"data row3 col7\" >0.0011</td>\n",
       "      <td id=\"T_ba761_row3_col8\" class=\"data row3 col8\" >0.3940</td>\n",
       "    </tr>\n",
       "    <tr>\n",
       "      <th id=\"T_ba761_level0_row4\" class=\"row_heading level0 row4\" >ada</th>\n",
       "      <td id=\"T_ba761_row4_col0\" class=\"data row4 col0\" >Ada Boost Classifier</td>\n",
       "      <td id=\"T_ba761_row4_col1\" class=\"data row4 col1\" >0.9060</td>\n",
       "      <td id=\"T_ba761_row4_col2\" class=\"data row4 col2\" >0.6453</td>\n",
       "      <td id=\"T_ba761_row4_col3\" class=\"data row4 col3\" >0.2030</td>\n",
       "      <td id=\"T_ba761_row4_col4\" class=\"data row4 col4\" >0.0057</td>\n",
       "      <td id=\"T_ba761_row4_col5\" class=\"data row4 col5\" >0.0110</td>\n",
       "      <td id=\"T_ba761_row4_col6\" class=\"data row4 col6\" >0.0054</td>\n",
       "      <td id=\"T_ba761_row4_col7\" class=\"data row4 col7\" >0.0183</td>\n",
       "      <td id=\"T_ba761_row4_col8\" class=\"data row4 col8\" >0.4190</td>\n",
       "    </tr>\n",
       "    <tr>\n",
       "      <th id=\"T_ba761_level0_row5\" class=\"row_heading level0 row5\" >rf</th>\n",
       "      <td id=\"T_ba761_row5_col0\" class=\"data row5 col0\" >Random Forest Classifier</td>\n",
       "      <td id=\"T_ba761_row5_col1\" class=\"data row5 col1\" >0.7952</td>\n",
       "      <td id=\"T_ba761_row5_col2\" class=\"data row5 col2\" >0.8429</td>\n",
       "      <td id=\"T_ba761_row5_col3\" class=\"data row5 col3\" >0.6774</td>\n",
       "      <td id=\"T_ba761_row5_col4\" class=\"data row5 col4\" >0.0170</td>\n",
       "      <td id=\"T_ba761_row5_col5\" class=\"data row5 col5\" >0.0325</td>\n",
       "      <td id=\"T_ba761_row5_col6\" class=\"data row5 col6\" >0.0267</td>\n",
       "      <td id=\"T_ba761_row5_col7\" class=\"data row5 col7\" >0.0814</td>\n",
       "      <td id=\"T_ba761_row5_col8\" class=\"data row5 col8\" >0.4730</td>\n",
       "    </tr>\n",
       "    <tr>\n",
       "      <th id=\"T_ba761_level0_row6\" class=\"row_heading level0 row6\" >ridge</th>\n",
       "      <td id=\"T_ba761_row6_col0\" class=\"data row6 col0\" >Ridge Classifier</td>\n",
       "      <td id=\"T_ba761_row6_col1\" class=\"data row6 col1\" >0.4016</td>\n",
       "      <td id=\"T_ba761_row6_col2\" class=\"data row6 col2\" >0.0000</td>\n",
       "      <td id=\"T_ba761_row6_col3\" class=\"data row6 col3\" >0.7315</td>\n",
       "      <td id=\"T_ba761_row6_col4\" class=\"data row6 col4\" >0.0042</td>\n",
       "      <td id=\"T_ba761_row6_col5\" class=\"data row6 col5\" >0.0083</td>\n",
       "      <td id=\"T_ba761_row6_col6\" class=\"data row6 col6\" >0.0023</td>\n",
       "      <td id=\"T_ba761_row6_col7\" class=\"data row6 col7\" >0.0190</td>\n",
       "      <td id=\"T_ba761_row6_col8\" class=\"data row6 col8\" >0.3450</td>\n",
       "    </tr>\n",
       "    <tr>\n",
       "      <th id=\"T_ba761_level0_row7\" class=\"row_heading level0 row7\" >lda</th>\n",
       "      <td id=\"T_ba761_row7_col0\" class=\"data row7 col0\" >Linear Discriminant Analysis</td>\n",
       "      <td id=\"T_ba761_row7_col1\" class=\"data row7 col1\" >0.4002</td>\n",
       "      <td id=\"T_ba761_row7_col2\" class=\"data row7 col2\" >0.6284</td>\n",
       "      <td id=\"T_ba761_row7_col3\" class=\"data row7 col3\" >0.7565</td>\n",
       "      <td id=\"T_ba761_row7_col4\" class=\"data row7 col4\" >0.0042</td>\n",
       "      <td id=\"T_ba761_row7_col5\" class=\"data row7 col5\" >0.0084</td>\n",
       "      <td id=\"T_ba761_row7_col6\" class=\"data row7 col6\" >0.0023</td>\n",
       "      <td id=\"T_ba761_row7_col7\" class=\"data row7 col7\" >0.0213</td>\n",
       "      <td id=\"T_ba761_row7_col8\" class=\"data row7 col8\" >0.4000</td>\n",
       "    </tr>\n",
       "    <tr>\n",
       "      <th id=\"T_ba761_level0_row8\" class=\"row_heading level0 row8\" >et</th>\n",
       "      <td id=\"T_ba761_row8_col0\" class=\"data row8 col0\" >Extra Trees Classifier</td>\n",
       "      <td id=\"T_ba761_row8_col1\" class=\"data row8 col1\" >0.3913</td>\n",
       "      <td id=\"T_ba761_row8_col2\" class=\"data row8 col2\" >0.7813</td>\n",
       "      <td id=\"T_ba761_row8_col3\" class=\"data row8 col3\" >0.9208</td>\n",
       "      <td id=\"T_ba761_row8_col4\" class=\"data row8 col4\" >0.0046</td>\n",
       "      <td id=\"T_ba761_row8_col5\" class=\"data row8 col5\" >0.0091</td>\n",
       "      <td id=\"T_ba761_row8_col6\" class=\"data row8 col6\" >0.0031</td>\n",
       "      <td id=\"T_ba761_row8_col7\" class=\"data row8 col7\" >0.0346</td>\n",
       "      <td id=\"T_ba761_row8_col8\" class=\"data row8 col8\" >0.5160</td>\n",
       "    </tr>\n",
       "    <tr>\n",
       "      <th id=\"T_ba761_level0_row9\" class=\"row_heading level0 row9\" >lr</th>\n",
       "      <td id=\"T_ba761_row9_col0\" class=\"data row9 col0\" >Logistic Regression</td>\n",
       "      <td id=\"T_ba761_row9_col1\" class=\"data row9 col1\" >0.3638</td>\n",
       "      <td id=\"T_ba761_row9_col2\" class=\"data row9 col2\" >0.7095</td>\n",
       "      <td id=\"T_ba761_row9_col3\" class=\"data row9 col3\" >0.9114</td>\n",
       "      <td id=\"T_ba761_row9_col4\" class=\"data row9 col4\" >0.0047</td>\n",
       "      <td id=\"T_ba761_row9_col5\" class=\"data row9 col5\" >0.0093</td>\n",
       "      <td id=\"T_ba761_row9_col6\" class=\"data row9 col6\" >0.0033</td>\n",
       "      <td id=\"T_ba761_row9_col7\" class=\"data row9 col7\" >0.0307</td>\n",
       "      <td id=\"T_ba761_row9_col8\" class=\"data row9 col8\" >0.9930</td>\n",
       "    </tr>\n",
       "    <tr>\n",
       "      <th id=\"T_ba761_level0_row10\" class=\"row_heading level0 row10\" >svm</th>\n",
       "      <td id=\"T_ba761_row10_col0\" class=\"data row10 col0\" >SVM - Linear Kernel</td>\n",
       "      <td id=\"T_ba761_row10_col1\" class=\"data row10 col1\" >0.3021</td>\n",
       "      <td id=\"T_ba761_row10_col2\" class=\"data row10 col2\" >0.0000</td>\n",
       "      <td id=\"T_ba761_row10_col3\" class=\"data row10 col3\" >0.7000</td>\n",
       "      <td id=\"T_ba761_row10_col4\" class=\"data row10 col4\" >0.0025</td>\n",
       "      <td id=\"T_ba761_row10_col5\" class=\"data row10 col5\" >0.0051</td>\n",
       "      <td id=\"T_ba761_row10_col6\" class=\"data row10 col6\" >0.0000</td>\n",
       "      <td id=\"T_ba761_row10_col7\" class=\"data row10 col7\" >0.0000</td>\n",
       "      <td id=\"T_ba761_row10_col8\" class=\"data row10 col8\" >0.3360</td>\n",
       "    </tr>\n",
       "    <tr>\n",
       "      <th id=\"T_ba761_level0_row11\" class=\"row_heading level0 row11\" >nb</th>\n",
       "      <td id=\"T_ba761_row11_col0\" class=\"data row11 col0\" >Naive Bayes</td>\n",
       "      <td id=\"T_ba761_row11_col1\" class=\"data row11 col1\" >0.2628</td>\n",
       "      <td id=\"T_ba761_row11_col2\" class=\"data row11 col2\" >0.5529</td>\n",
       "      <td id=\"T_ba761_row11_col3\" class=\"data row11 col3\" >0.8000</td>\n",
       "      <td id=\"T_ba761_row11_col4\" class=\"data row11 col4\" >0.0033</td>\n",
       "      <td id=\"T_ba761_row11_col5\" class=\"data row11 col5\" >0.0066</td>\n",
       "      <td id=\"T_ba761_row11_col6\" class=\"data row11 col6\" >0.0006</td>\n",
       "      <td id=\"T_ba761_row11_col7\" class=\"data row11 col7\" >0.0104</td>\n",
       "      <td id=\"T_ba761_row11_col8\" class=\"data row11 col8\" >0.3910</td>\n",
       "    </tr>\n",
       "    <tr>\n",
       "      <th id=\"T_ba761_level0_row12\" class=\"row_heading level0 row12\" >knn</th>\n",
       "      <td id=\"T_ba761_row12_col0\" class=\"data row12 col0\" >K Neighbors Classifier</td>\n",
       "      <td id=\"T_ba761_row12_col1\" class=\"data row12 col1\" >0.1716</td>\n",
       "      <td id=\"T_ba761_row12_col2\" class=\"data row12 col2\" >0.5560</td>\n",
       "      <td id=\"T_ba761_row12_col3\" class=\"data row12 col3\" >0.8708</td>\n",
       "      <td id=\"T_ba761_row12_col4\" class=\"data row12 col4\" >0.0033</td>\n",
       "      <td id=\"T_ba761_row12_col5\" class=\"data row12 col5\" >0.0066</td>\n",
       "      <td id=\"T_ba761_row12_col6\" class=\"data row12 col6\" >0.0005</td>\n",
       "      <td id=\"T_ba761_row12_col7\" class=\"data row12 col7\" >0.0092</td>\n",
       "      <td id=\"T_ba761_row12_col8\" class=\"data row12 col8\" >0.4050</td>\n",
       "    </tr>\n",
       "    <tr>\n",
       "      <th id=\"T_ba761_level0_row13\" class=\"row_heading level0 row13\" >qda</th>\n",
       "      <td id=\"T_ba761_row13_col0\" class=\"data row13 col0\" >Quadratic Discriminant Analysis</td>\n",
       "      <td id=\"T_ba761_row13_col1\" class=\"data row13 col1\" >0.1512</td>\n",
       "      <td id=\"T_ba761_row13_col2\" class=\"data row13 col2\" >0.5178</td>\n",
       "      <td id=\"T_ba761_row13_col3\" class=\"data row13 col3\" >0.9333</td>\n",
       "      <td id=\"T_ba761_row13_col4\" class=\"data row13 col4\" >0.0034</td>\n",
       "      <td id=\"T_ba761_row13_col5\" class=\"data row13 col5\" >0.0067</td>\n",
       "      <td id=\"T_ba761_row13_col6\" class=\"data row13 col6\" >0.0007</td>\n",
       "      <td id=\"T_ba761_row13_col7\" class=\"data row13 col7\" >0.0128</td>\n",
       "      <td id=\"T_ba761_row13_col8\" class=\"data row13 col8\" >0.3790</td>\n",
=======
       "      <th id=\"T_020d9_level0_row0\" class=\"row_heading level0 row0\" >xgboost</th>\n",
       "      <td id=\"T_020d9_row0_col0\" class=\"data row0 col0\" >Extreme Gradient Boosting</td>\n",
       "      <td id=\"T_020d9_row0_col1\" class=\"data row0 col1\" >0.9721</td>\n",
       "      <td id=\"T_020d9_row0_col2\" class=\"data row0 col2\" >0.8897</td>\n",
       "      <td id=\"T_020d9_row0_col3\" class=\"data row0 col3\" >0.2531</td>\n",
       "      <td id=\"T_020d9_row0_col4\" class=\"data row0 col4\" >0.0342</td>\n",
       "      <td id=\"T_020d9_row0_col5\" class=\"data row0 col5\" >0.0587</td>\n",
       "      <td id=\"T_020d9_row0_col6\" class=\"data row0 col6\" >0.0540</td>\n",
       "      <td id=\"T_020d9_row0_col7\" class=\"data row0 col7\" >0.0827</td>\n",
       "      <td id=\"T_020d9_row0_col8\" class=\"data row0 col8\" >0.6070</td>\n",
       "    </tr>\n",
       "    <tr>\n",
       "      <th id=\"T_020d9_level0_row1\" class=\"row_heading level0 row1\" >ada</th>\n",
       "      <td id=\"T_020d9_row1_col0\" class=\"data row1 col0\" >Ada Boost Classifier</td>\n",
       "      <td id=\"T_020d9_row1_col1\" class=\"data row1 col1\" >0.9313</td>\n",
       "      <td id=\"T_020d9_row1_col2\" class=\"data row1 col2\" >0.7242</td>\n",
       "      <td id=\"T_020d9_row1_col3\" class=\"data row1 col3\" >0.2367</td>\n",
       "      <td id=\"T_020d9_row1_col4\" class=\"data row1 col4\" >0.0096</td>\n",
       "      <td id=\"T_020d9_row1_col5\" class=\"data row1 col5\" >0.0178</td>\n",
       "      <td id=\"T_020d9_row1_col6\" class=\"data row1 col6\" >0.0126</td>\n",
       "      <td id=\"T_020d9_row1_col7\" class=\"data row1 col7\" >0.0328</td>\n",
       "      <td id=\"T_020d9_row1_col8\" class=\"data row1 col8\" >0.5590</td>\n",
       "    </tr>\n",
       "    <tr>\n",
       "      <th id=\"T_020d9_level0_row2\" class=\"row_heading level0 row2\" >lightgbm</th>\n",
       "      <td id=\"T_020d9_row2_col0\" class=\"data row2 col0\" >Light Gradient Boosting Machine</td>\n",
       "      <td id=\"T_020d9_row2_col1\" class=\"data row2 col1\" >0.9179</td>\n",
       "      <td id=\"T_020d9_row2_col2\" class=\"data row2 col2\" >0.8244</td>\n",
       "      <td id=\"T_020d9_row2_col3\" class=\"data row2 col3\" >0.2717</td>\n",
       "      <td id=\"T_020d9_row2_col4\" class=\"data row2 col4\" >0.0161</td>\n",
       "      <td id=\"T_020d9_row2_col5\" class=\"data row2 col5\" >0.0294</td>\n",
       "      <td id=\"T_020d9_row2_col6\" class=\"data row2 col6\" >0.0243</td>\n",
       "      <td id=\"T_020d9_row2_col7\" class=\"data row2 col7\" >0.0484</td>\n",
       "      <td id=\"T_020d9_row2_col8\" class=\"data row2 col8\" >0.4880</td>\n",
       "    </tr>\n",
       "    <tr>\n",
       "      <th id=\"T_020d9_level0_row3\" class=\"row_heading level0 row3\" >dt</th>\n",
       "      <td id=\"T_020d9_row3_col0\" class=\"data row3 col0\" >Decision Tree Classifier</td>\n",
       "      <td id=\"T_020d9_row3_col1\" class=\"data row3 col1\" >0.8878</td>\n",
       "      <td id=\"T_020d9_row3_col2\" class=\"data row3 col2\" >0.5328</td>\n",
       "      <td id=\"T_020d9_row3_col3\" class=\"data row3 col3\" >0.1760</td>\n",
       "      <td id=\"T_020d9_row3_col4\" class=\"data row3 col4\" >0.0167</td>\n",
       "      <td id=\"T_020d9_row3_col5\" class=\"data row3 col5\" >0.0212</td>\n",
       "      <td id=\"T_020d9_row3_col6\" class=\"data row3 col6\" >0.0161</td>\n",
       "      <td id=\"T_020d9_row3_col7\" class=\"data row3 col7\" >0.0226</td>\n",
       "      <td id=\"T_020d9_row3_col8\" class=\"data row3 col8\" >0.5870</td>\n",
       "    </tr>\n",
       "    <tr>\n",
       "      <th id=\"T_020d9_level0_row4\" class=\"row_heading level0 row4\" >gbc</th>\n",
       "      <td id=\"T_020d9_row4_col0\" class=\"data row4 col0\" >Gradient Boosting Classifier</td>\n",
       "      <td id=\"T_020d9_row4_col1\" class=\"data row4 col1\" >0.8754</td>\n",
       "      <td id=\"T_020d9_row4_col2\" class=\"data row4 col2\" >0.5318</td>\n",
       "      <td id=\"T_020d9_row4_col3\" class=\"data row4 col3\" >0.1760</td>\n",
       "      <td id=\"T_020d9_row4_col4\" class=\"data row4 col4\" >0.0054</td>\n",
       "      <td id=\"T_020d9_row4_col5\" class=\"data row4 col5\" >0.0100</td>\n",
       "      <td id=\"T_020d9_row4_col6\" class=\"data row4 col6\" >0.0046</td>\n",
       "      <td id=\"T_020d9_row4_col7\" class=\"data row4 col7\" >0.0117</td>\n",
       "      <td id=\"T_020d9_row4_col8\" class=\"data row4 col8\" >0.5000</td>\n",
       "    </tr>\n",
       "    <tr>\n",
       "      <th id=\"T_020d9_level0_row5\" class=\"row_heading level0 row5\" >rf</th>\n",
       "      <td id=\"T_020d9_row5_col0\" class=\"data row5 col0\" >Random Forest Classifier</td>\n",
       "      <td id=\"T_020d9_row5_col1\" class=\"data row5 col1\" >0.7548</td>\n",
       "      <td id=\"T_020d9_row5_col2\" class=\"data row5 col2\" >0.8132</td>\n",
       "      <td id=\"T_020d9_row5_col3\" class=\"data row5 col3\" >0.6794</td>\n",
       "      <td id=\"T_020d9_row5_col4\" class=\"data row5 col4\" >0.0102</td>\n",
       "      <td id=\"T_020d9_row5_col5\" class=\"data row5 col5\" >0.0199</td>\n",
       "      <td id=\"T_020d9_row5_col6\" class=\"data row5 col6\" >0.0144</td>\n",
       "      <td id=\"T_020d9_row5_col7\" class=\"data row5 col7\" >0.0615</td>\n",
       "      <td id=\"T_020d9_row5_col8\" class=\"data row5 col8\" >0.6460</td>\n",
       "    </tr>\n",
       "    <tr>\n",
       "      <th id=\"T_020d9_level0_row6\" class=\"row_heading level0 row6\" >lda</th>\n",
       "      <td id=\"T_020d9_row6_col0\" class=\"data row6 col0\" >Linear Discriminant Analysis</td>\n",
       "      <td id=\"T_020d9_row6_col1\" class=\"data row6 col1\" >0.4843</td>\n",
       "      <td id=\"T_020d9_row6_col2\" class=\"data row6 col2\" >0.6849</td>\n",
       "      <td id=\"T_020d9_row6_col3\" class=\"data row6 col3\" >0.7517</td>\n",
       "      <td id=\"T_020d9_row6_col4\" class=\"data row6 col4\" >0.0043</td>\n",
       "      <td id=\"T_020d9_row6_col5\" class=\"data row6 col5\" >0.0086</td>\n",
       "      <td id=\"T_020d9_row6_col6\" class=\"data row6 col6\" >0.0029</td>\n",
       "      <td id=\"T_020d9_row6_col7\" class=\"data row6 col7\" >0.0254</td>\n",
       "      <td id=\"T_020d9_row6_col8\" class=\"data row6 col8\" >0.5680</td>\n",
       "    </tr>\n",
       "    <tr>\n",
       "      <th id=\"T_020d9_level0_row7\" class=\"row_heading level0 row7\" >ridge</th>\n",
       "      <td id=\"T_020d9_row7_col0\" class=\"data row7 col0\" >Ridge Classifier</td>\n",
       "      <td id=\"T_020d9_row7_col1\" class=\"data row7 col1\" >0.4778</td>\n",
       "      <td id=\"T_020d9_row7_col2\" class=\"data row7 col2\" >0.0000</td>\n",
       "      <td id=\"T_020d9_row7_col3\" class=\"data row7 col3\" >0.7295</td>\n",
       "      <td id=\"T_020d9_row7_col4\" class=\"data row7 col4\" >0.0041</td>\n",
       "      <td id=\"T_020d9_row7_col5\" class=\"data row7 col5\" >0.0081</td>\n",
       "      <td id=\"T_020d9_row7_col6\" class=\"data row7 col6\" >0.0024</td>\n",
       "      <td id=\"T_020d9_row7_col7\" class=\"data row7 col7\" >0.0222</td>\n",
       "      <td id=\"T_020d9_row7_col8\" class=\"data row7 col8\" >0.4710</td>\n",
       "    </tr>\n",
       "    <tr>\n",
       "      <th id=\"T_020d9_level0_row8\" class=\"row_heading level0 row8\" >et</th>\n",
       "      <td id=\"T_020d9_row8_col0\" class=\"data row8 col0\" >Extra Trees Classifier</td>\n",
       "      <td id=\"T_020d9_row8_col1\" class=\"data row8 col1\" >0.4533</td>\n",
       "      <td id=\"T_020d9_row8_col2\" class=\"data row8 col2\" >0.7876</td>\n",
       "      <td id=\"T_020d9_row8_col3\" class=\"data row8 col3\" >0.8422</td>\n",
       "      <td id=\"T_020d9_row8_col4\" class=\"data row8 col4\" >0.0045</td>\n",
       "      <td id=\"T_020d9_row8_col5\" class=\"data row8 col5\" >0.0090</td>\n",
       "      <td id=\"T_020d9_row8_col6\" class=\"data row8 col6\" >0.0033</td>\n",
       "      <td id=\"T_020d9_row8_col7\" class=\"data row8 col7\" >0.0325</td>\n",
       "      <td id=\"T_020d9_row8_col8\" class=\"data row8 col8\" >0.6620</td>\n",
       "    </tr>\n",
       "    <tr>\n",
       "      <th id=\"T_020d9_level0_row9\" class=\"row_heading level0 row9\" >nb</th>\n",
       "      <td id=\"T_020d9_row9_col0\" class=\"data row9 col0\" >Naive Bayes</td>\n",
       "      <td id=\"T_020d9_row9_col1\" class=\"data row9 col1\" >0.3120</td>\n",
       "      <td id=\"T_020d9_row9_col2\" class=\"data row9 col2\" >0.6079</td>\n",
       "      <td id=\"T_020d9_row9_col3\" class=\"data row9 col3\" >0.8533</td>\n",
       "      <td id=\"T_020d9_row9_col4\" class=\"data row9 col4\" >0.0036</td>\n",
       "      <td id=\"T_020d9_row9_col5\" class=\"data row9 col5\" >0.0072</td>\n",
       "      <td id=\"T_020d9_row9_col6\" class=\"data row9 col6\" >0.0015</td>\n",
       "      <td id=\"T_020d9_row9_col7\" class=\"data row9 col7\" >0.0190</td>\n",
       "      <td id=\"T_020d9_row9_col8\" class=\"data row9 col8\" >0.4390</td>\n",
       "    </tr>\n",
       "    <tr>\n",
       "      <th id=\"T_020d9_level0_row10\" class=\"row_heading level0 row10\" >lr</th>\n",
       "      <td id=\"T_020d9_row10_col0\" class=\"data row10 col0\" >Logistic Regression</td>\n",
       "      <td id=\"T_020d9_row10_col1\" class=\"data row10 col1\" >0.2941</td>\n",
       "      <td id=\"T_020d9_row10_col2\" class=\"data row10 col2\" >0.6357</td>\n",
       "      <td id=\"T_020d9_row10_col3\" class=\"data row10 col3\" >0.9746</td>\n",
       "      <td id=\"T_020d9_row10_col4\" class=\"data row10 col4\" >0.0050</td>\n",
       "      <td id=\"T_020d9_row10_col5\" class=\"data row10 col5\" >0.0099</td>\n",
       "      <td id=\"T_020d9_row10_col6\" class=\"data row10 col6\" >0.0041</td>\n",
       "      <td id=\"T_020d9_row10_col7\" class=\"data row10 col7\" >0.0304</td>\n",
       "      <td id=\"T_020d9_row10_col8\" class=\"data row10 col8\" >1.2980</td>\n",
       "    </tr>\n",
       "    <tr>\n",
       "      <th id=\"T_020d9_level0_row11\" class=\"row_heading level0 row11\" >svm</th>\n",
       "      <td id=\"T_020d9_row11_col0\" class=\"data row11 col0\" >SVM - Linear Kernel</td>\n",
       "      <td id=\"T_020d9_row11_col1\" class=\"data row11 col1\" >0.2020</td>\n",
       "      <td id=\"T_020d9_row11_col2\" class=\"data row11 col2\" >0.0000</td>\n",
       "      <td id=\"T_020d9_row11_col3\" class=\"data row11 col3\" >0.8000</td>\n",
       "      <td id=\"T_020d9_row11_col4\" class=\"data row11 col4\" >0.0024</td>\n",
       "      <td id=\"T_020d9_row11_col5\" class=\"data row11 col5\" >0.0049</td>\n",
       "      <td id=\"T_020d9_row11_col6\" class=\"data row11 col6\" >0.0000</td>\n",
       "      <td id=\"T_020d9_row11_col7\" class=\"data row11 col7\" >0.0000</td>\n",
       "      <td id=\"T_020d9_row11_col8\" class=\"data row11 col8\" >0.5640</td>\n",
       "    </tr>\n",
       "    <tr>\n",
       "      <th id=\"T_020d9_level0_row12\" class=\"row_heading level0 row12\" >knn</th>\n",
       "      <td id=\"T_020d9_row12_col0\" class=\"data row12 col0\" >K Neighbors Classifier</td>\n",
       "      <td id=\"T_020d9_row12_col1\" class=\"data row12 col1\" >0.1867</td>\n",
       "      <td id=\"T_020d9_row12_col2\" class=\"data row12 col2\" >0.5597</td>\n",
       "      <td id=\"T_020d9_row12_col3\" class=\"data row12 col3\" >0.8822</td>\n",
       "      <td id=\"T_020d9_row12_col4\" class=\"data row12 col4\" >0.0032</td>\n",
       "      <td id=\"T_020d9_row12_col5\" class=\"data row12 col5\" >0.0063</td>\n",
       "      <td id=\"T_020d9_row12_col6\" class=\"data row12 col6\" >0.0006</td>\n",
       "      <td id=\"T_020d9_row12_col7\" class=\"data row12 col7\" >0.0096</td>\n",
       "      <td id=\"T_020d9_row12_col8\" class=\"data row12 col8\" >0.4870</td>\n",
       "    </tr>\n",
       "    <tr>\n",
       "      <th id=\"T_020d9_level0_row13\" class=\"row_heading level0 row13\" >qda</th>\n",
       "      <td id=\"T_020d9_row13_col0\" class=\"data row13 col0\" >Quadratic Discriminant Analysis</td>\n",
       "      <td id=\"T_020d9_row13_col1\" class=\"data row13 col1\" >0.1474</td>\n",
       "      <td id=\"T_020d9_row13_col2\" class=\"data row13 col2\" >0.5195</td>\n",
       "      <td id=\"T_020d9_row13_col3\" class=\"data row13 col3\" >0.8867</td>\n",
       "      <td id=\"T_020d9_row13_col4\" class=\"data row13 col4\" >0.0030</td>\n",
       "      <td id=\"T_020d9_row13_col5\" class=\"data row13 col5\" >0.0059</td>\n",
       "      <td id=\"T_020d9_row13_col6\" class=\"data row13 col6\" >0.0002</td>\n",
       "      <td id=\"T_020d9_row13_col7\" class=\"data row13 col7\" >0.0047</td>\n",
       "      <td id=\"T_020d9_row13_col8\" class=\"data row13 col8\" >0.5000</td>\n",
>>>>>>> 1419f3404da83c3a7d47be817615004f7ad2c527
       "    </tr>\n",
       "  </tbody>\n",
       "</table>\n"
      ],
      "text/plain": [
<<<<<<< HEAD
       "<pandas.io.formats.style.Styler at 0x17e3ce0e760>"
=======
       "<pandas.io.formats.style.Styler at 0x151cf835d60>"
>>>>>>> 1419f3404da83c3a7d47be817615004f7ad2c527
      ]
     },
     "metadata": {},
     "output_type": "display_data"
    },
    {
     "data": {
      "application/vnd.jupyter.widget-view+json": {
<<<<<<< HEAD
       "model_id": "46dfd123c5034e9daaf9c64f56f8ff47",
=======
       "model_id": "e5f4730a176d4f07a0978f9dfd56c473",
>>>>>>> 1419f3404da83c3a7d47be817615004f7ad2c527
       "version_major": 2,
       "version_minor": 0
      },
      "text/plain": [
       "Processing:   0%|          | 0/45 [00:00<?, ?it/s]"
      ]
     },
     "metadata": {},
     "output_type": "display_data"
    }
   ],
   "source": [
    "best_model_with_downsampling = compare_models(exclude = 'dummy')"
   ]
  },
  {
   "cell_type": "code",
<<<<<<< HEAD
   "execution_count": 31,
=======
   "execution_count": 23,
>>>>>>> 1419f3404da83c3a7d47be817615004f7ad2c527
   "metadata": {},
   "outputs": [
    {
     "data": {
      "text/html": [],
      "text/plain": [
       "<IPython.core.display.HTML object>"
      ]
     },
     "metadata": {},
     "output_type": "display_data"
    },
    {
     "data": {
<<<<<<< HEAD
      "image/png": "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",
=======
      "image/png": "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",
>>>>>>> 1419f3404da83c3a7d47be817615004f7ad2c527
      "text/plain": [
       "<Figure size 432x288 with 1 Axes>"
      ]
     },
     "metadata": {
      "needs_background": "light"
     },
     "output_type": "display_data"
    }
   ],
   "source": [
    "plot_model(best_model_with_downsampling, plot = 'confusion_matrix')"
   ]
  },
  {
<<<<<<< HEAD
   "cell_type": "code",
   "execution_count": 38,
   "metadata": {},
   "outputs": [
    {
     "data": {
      "text/html": [],
      "text/plain": [
       "<IPython.core.display.HTML object>"
      ]
     },
     "metadata": {},
     "output_type": "display_data"
    },
    {
     "data": {
      "image/png": "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",
      "text/plain": [
       "<Figure size 432x288 with 1 Axes>"
      ]
     },
     "metadata": {
      "needs_background": "light"
     },
     "output_type": "display_data"
    }
   ],
   "source": [
    "plot_model(best_model_with_downsampling, plot='auc')"
   ]
  },
  {
   "cell_type": "code",
   "execution_count": 32,
   "metadata": {},
   "outputs": [
    {
     "data": {
      "text/html": [],
      "text/plain": [
       "<IPython.core.display.HTML object>"
      ]
     },
     "metadata": {},
     "output_type": "display_data"
    },
    {
     "data": {
      "image/png": "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",
      "text/plain": [
       "<Figure size 432x288 with 2 Axes>"
      ]
     },
     "metadata": {
      "needs_background": "light"
     },
     "output_type": "display_data"
    }
   ],
   "source": [
    "plot_model(best_model_with_downsampling, plot = 'class_report')"
   ]
  },
  {
   "cell_type": "markdown",
   "metadata": {},
   "source": [
    "Diese Methode gibt uns zwar fehler type 1. Kundenanträger werden fälschlicherweise als risikohaft bewertet. Das Ergebnis wird nach unser Zieldefinizung jedoch bevorzugt."
=======
   "cell_type": "markdown",
   "metadata": {},
   "source": [
    "Diese Methode gibt uns zwar fehler type 1? \n",
    "aber ist besser als wenn man FN zurückgibt, in dem Fall würde es bedeuten, dass Creditcard approved werden, obwohl ein hohes Risiko dargestellt"
   ]
  },
  {
   "cell_type": "code",
   "execution_count": 25,
   "metadata": {},
   "outputs": [
    {
     "data": {
      "text/html": [],
      "text/plain": [
       "<IPython.core.display.HTML object>"
      ]
     },
     "metadata": {},
     "output_type": "display_data"
    },
    {
     "data": {
      "image/png": "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",
      "text/plain": [
       "<Figure size 800x500 with 1 Axes>"
      ]
     },
     "metadata": {
      "needs_background": "light"
     },
     "output_type": "display_data"
    }
   ],
   "source": [
    "plot_model(best_model_with_downsampling, plot='feature')"
   ]
  },
  {
   "cell_type": "code",
   "execution_count": 24,
   "metadata": {},
   "outputs": [],
   "source": [
    "#evaluate_model(best_model_with_downsampling)"
>>>>>>> 1419f3404da83c3a7d47be817615004f7ad2c527
   ]
  },
  {
   "cell_type": "markdown",
   "metadata": {},
   "source": [
    "## Anderer Ansatz"
   ]
  },
  {
   "cell_type": "code",
   "execution_count": 18,
   "metadata": {},
   "outputs": [],
   "source": [
    "#Separieren von Minority und Mijority Klassen\n",
    "#dummy_risk_user = training_data[training_data.risk_user == 'Y']\n",
    "#dummy_non_risk_user = training_data[training_data.risk_user == 'N']\n",
    "#\n",
    "\n",
    "# am besten werden random Instanzen gelöscht, die keine bestimmte Kriterien befolgen\n",
    "# attention: Mit jede Ausführung werden andere Obersavationen gelöscht\n",
    "#indices_top_drop = default_rng().choice(dummy_non_risk_user.index, size=426966, replace=False)\n",
    "#non_risk_user_reduced = dummy_non_risk_user.drop(index=indices_top_drop)\n",
    "\n",
    "#reduced_number_non_risk_user = sum(non_risk_user_reduced['risk_user'] == 'N')\n",
    "#number_risk_user = sum(dummy_risk_user['risk_user'] == 'Y')\n",
    "#print(\"Non risk users are now randomly reduced to\", reduced_number_non_risk_user )\n",
    "#print(\"Risk users are \", number_risk_user)\n",
    "\n",
    "# Joining die manuell downsampelt datasets zusammen\n",
    "#resampled_df = pd.concat([non_risk_user_reduced, dummy_risk_user], ignore_index=True)\n",
    "#resampled_df.count()"
   ]
  },
  {
   "cell_type": "markdown",
   "metadata": {},
   "source": [
    "## Literaturverzeichnis\n",
    "\n",
    "- [1] https://pestleanalysis.com/descriptive-analysis/#What_Is_Descriptive_Analysis\n",
    "- [2] https://machinelearningmastery.com/what-is-imbalanced-classification/\n",
    "- [3] https://imbalanced-learn.org/stable/references/generated/imblearn.under_sampling.NearMiss.html\n"
   ]
  }
 ],
 "metadata": {
  "kernelspec": {
   "display_name": "Python 3.9.13 64-bit (windows store)",
   "language": "python",
   "name": "python3"
  },
  "language_info": {
   "codemirror_mode": {
    "name": "ipython",
    "version": 3
   },
   "file_extension": ".py",
   "mimetype": "text/x-python",
   "name": "python",
   "nbconvert_exporter": "python",
   "pygments_lexer": "ipython3",
   "version": "3.9.13"
  },
  "orig_nbformat": 4,
  "vscode": {
   "interpreter": {
    "hash": "cb81224776a621e3a82858d3720223ecc7d0863a5eaaa092ce60b8656f75ae0e"
   }
  }
 },
 "nbformat": 4,
 "nbformat_minor": 2
}
